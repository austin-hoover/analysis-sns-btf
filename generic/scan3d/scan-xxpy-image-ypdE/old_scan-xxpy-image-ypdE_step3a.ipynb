{
 "cells": [
  {
   "cell_type": "markdown",
   "id": "e7705f3f-3479-411d-af2f-791f9bf0c2b8",
   "metadata": {
    "tags": []
   },
   "source": [
    "# View the 5D beam density in normalized slit-screen coordinates"
   ]
  },
  {
   "cell_type": "markdown",
   "id": "ee582e72-31e3-4520-8237-47bc574334fa",
   "metadata": {},
   "source": [
    "$x_1$ = position of first vertical slit \\\n",
    "$x_2$ = position of second horizontal slit \\\n",
    "$y_1$ = position of horizontal slit \\\n",
    "$y_3$ = y position at view screen \\\n",
    "$x_3$ = x position at view screen"
   ]
  },
  {
   "cell_type": "code",
   "execution_count": null,
   "id": "d7460c8a-7965-4119-a890-5b1550c9b464",
   "metadata": {},
   "outputs": [],
   "source": [
    "import sys\n",
    "import os\n",
    "from os.path import join\n",
    "import time\n",
    "from datetime import datetime\n",
    "import importlib\n",
    "import numpy as np\n",
    "import pandas as pd\n",
    "import h5py\n",
    "import imageio\n",
    "from scipy import ndimage\n",
    "from scipy import interpolate\n",
    "import skimage\n",
    "from tqdm.notebook import tqdm\n",
    "from tqdm.notebook import trange\n",
    "from matplotlib import pyplot as plt\n",
    "from matplotlib import colors\n",
    "import plotly.graph_objs as go\n",
    "from ipywidgets import interact\n",
    "import proplot as pplt\n",
    "\n",
    "sys.path.append('../..')\n",
    "from tools import energyVS06 as energy\n",
    "from tools import image_processing as ip\n",
    "from tools import plotting as mplt\n",
    "from tools import utils\n",
    "from tools.utils import project"
   ]
  },
  {
   "cell_type": "code",
   "execution_count": null,
   "id": "038313e8-06fa-4b21-aab9-796865fd13ea",
   "metadata": {},
   "outputs": [],
   "source": [
    "pplt.rc['grid'] = False\n",
    "pplt.rc['cmap.discrete'] = False\n",
    "pplt.rc['cmap.sequential'] = 'viridis'"
   ]
  },
  {
   "cell_type": "markdown",
   "id": "e4c3feb8-ea00-46c5-8ebd-2dc448bd70b7",
   "metadata": {},
   "source": [
    "## Load data"
   ]
  },
  {
   "cell_type": "code",
   "execution_count": null,
   "id": "035a9fd7-b0f0-4aad-ae37-a5090c01a21b",
   "metadata": {},
   "outputs": [],
   "source": [
    "folder = '_output'\n",
    "filenames = os.listdir(folder)\n",
    "for filename in filenames:\n",
    "    if filename.startswith('coordinates3d_raw') or filename.startswith('f_raw'):\n",
    "        print(filename)"
   ]
  },
  {
   "cell_type": "code",
   "execution_count": null,
   "id": "b2828ef2-7f65-4f49-92a9-bc468beb3752",
   "metadata": {},
   "outputs": [],
   "source": [
    "filename = 'f_raw_merged2-211203151919-211203192701-scan-xxpy-image-ypdE.mmp'\n",
    "coordfilename = 'coordinates3d_raw_merged2-211203151919-211203192701-scan-xxpy-image-ypdE.npy'"
   ]
  },
  {
   "cell_type": "code",
   "execution_count": null,
   "id": "da41eb3b-9ad1-4a20-b1db-cebb682b5c57",
   "metadata": {},
   "outputs": [],
   "source": [
    "info = utils.load_pickle('_output/info.pkl')\n",
    "info"
   ]
  },
  {
   "cell_type": "code",
   "execution_count": null,
   "id": "89520283-e98a-4754-8d1f-6eb4256b2abe",
   "metadata": {},
   "outputs": [],
   "source": [
    "shape = info['rawgrid_shape']  # (x1, x2, y1, y3, x3)\n",
    "dtype = info['im_dtype']\n",
    "cam = info['cam']"
   ]
  },
  {
   "cell_type": "code",
   "execution_count": null,
   "id": "5e9639cc-c9f0-4f25-ac3e-327bb3c1a047",
   "metadata": {},
   "outputs": [],
   "source": [
    "f_raw = np.memmap(join(folder, filename), shape=shape, dtype=dtype, mode='r')\n",
    "print(np.info(f_raw))"
   ]
  },
  {
   "cell_type": "markdown",
   "id": "a6e439a5-4c5f-4a8c-9d3e-571850974f73",
   "metadata": {},
   "source": [
    "Use the Right Hand Rule to determine the beam coordinates. [Insert image here]. (NEED TO FIX DIPOLE TRANSFER MATRIX FOR VS34; CURRENT CALCULATION IS WRONG AND IS CAUSING SIGN ERROR.\n",
    "* Cam06 \n",
    "    * x_slit (x1, x2) = x_beam\n",
    "    * y_slit (y1) = -y_beam\n",
    "    * y_screen (y3) = -y_beam\n",
    "    * x_screen (x3) = -x_beam    \n",
    "* Cam34\n",
    "    * x_slit (x1, x2) = -x_beam (Are you sure??? Seems to give the wrong answer.)\n",
    "    * y_slit (y1) = -y_beam\n",
    "    * y_screen (y3) = -y_beam\n",
    "    * x_screen (x3) = +x_beam"
   ]
  },
  {
   "cell_type": "code",
   "execution_count": null,
   "id": "c64ef503-d3bf-4d1b-a448-02099a6019f5",
   "metadata": {},
   "outputs": [],
   "source": [
    "# if cam.lower() == 'cam06':\n",
    "#     f_raw = f_raw[:, :, ::-1, ::-1, ::-1]\n",
    "# elif cam.lower() == 'cam34':\n",
    "#     # a5d = a5d[::-1, ::-1, ::-1, ::-1, :]\n",
    "#     f_raw = f_raw[:, :, ::-1, ::-1, :]"
   ]
  },
  {
   "cell_type": "markdown",
   "id": "c1ef1699-e9ca-4cfe-a389-44b1450d1fce",
   "metadata": {},
   "source": [
    "## Load slit coordinates"
   ]
  },
  {
   "cell_type": "code",
   "execution_count": null,
   "id": "80895bff-1302-480a-9aa1-e203d4f05107",
   "metadata": {},
   "outputs": [],
   "source": [
    "coords_3d = np.load(join(folder, coordfilename))  # [X1, X2, Y1]\n",
    "coords_3d.shape"
   ]
  },
  {
   "cell_type": "code",
   "execution_count": null,
   "id": "c113f255-2c21-4982-8e53-b2f43390bdb3",
   "metadata": {},
   "outputs": [],
   "source": [
    "dims = [\"x1\", \"x2\", \"y1\", \"y3\", \"x3\"]\n",
    "dim_to_int = {dim: i for i, dim in enumerate(dims)}"
   ]
  },
  {
   "cell_type": "code",
   "execution_count": null,
   "id": "b541fddd-962b-4aad-aa4d-5ec1caeda985",
   "metadata": {},
   "outputs": [],
   "source": [
    "fig, axes = pplt.subplots(nrows=3, ncols=3, figwidth=6, spanx=False, spany=False)\n",
    "for i in range(3):\n",
    "    for j in range(3):\n",
    "        U = coords_3d[j]\n",
    "        V = coords_3d[i]\n",
    "        ax = axes[i, j]\n",
    "        ax.scatter(U.ravel(), V.ravel(), s=1, color='black')\n",
    "        ax.axvline(np.mean(U), color='red', alpha=0.15)\n",
    "        ax.axhline(np.mean(V), color='red', alpha=0.15)\n",
    "    axes[i, 0].format(ylabel=dims[i])\n",
    "    axes[-1, i].format(xlabel=dims[i])\n",
    "plt.savefig('_output/grid3d.png')\n",
    "plt.show()"
   ]
  },
  {
   "cell_type": "markdown",
   "id": "1e51be8e-6baf-4f26-a9a1-ccc3f18eeaa4",
   "metadata": {},
   "source": [
    "Copy the grids into the five-dimensional space."
   ]
  },
  {
   "cell_type": "code",
   "execution_count": null,
   "id": "1d4e8307-fa51-4199-8859-8b8c66104472",
   "metadata": {},
   "outputs": [],
   "source": [
    "X1, X2, Y1 = coords_3d\n",
    "X1 = utils.copy_into_new_dim(X1, shape[3:], axis=-1)\n",
    "X2 = utils.copy_into_new_dim(X2, shape[3:], axis=-1)\n",
    "Y1 = utils.copy_into_new_dim(Y1, shape[3:], axis=-1)"
   ]
  },
  {
   "cell_type": "code",
   "execution_count": null,
   "id": "47a49146-4c8e-4f81-a092-9e32f26a5741",
   "metadata": {},
   "outputs": [],
   "source": [
    "print('X1.shape =', X1.shape)\n",
    "print('X2.shape =', X2.shape)\n",
    "print('Y1.shape =', Y1.shape)"
   ]
  },
  {
   "cell_type": "code",
   "execution_count": null,
   "id": "e5ef87df-2d9d-4c94-9da9-205bd0ae127a",
   "metadata": {},
   "outputs": [],
   "source": [
    "Y3, X3 = np.meshgrid(np.arange(shape[3]), np.arange(shape[4]), indexing='ij')\n",
    "Y3 = utils.copy_into_new_dim(Y3, shape[:3], axis=0)\n",
    "X3 = utils.copy_into_new_dim(X3, shape[:3], axis=0)"
   ]
  },
  {
   "cell_type": "code",
   "execution_count": null,
   "id": "6086e006-4905-4aa9-9929-a30ad6aed8a1",
   "metadata": {},
   "outputs": [],
   "source": [
    "print('Y3.shape =', Y3.shape)\n",
    "print('X3.shape =', X3.shape)"
   ]
  },
  {
   "cell_type": "markdown",
   "id": "6a70cee8-2855-4a94-8552-222deb6dca9f",
   "metadata": {},
   "source": [
    "Make lists of centered coordinates `coords_`."
   ]
  },
  {
   "cell_type": "code",
   "execution_count": null,
   "id": "8cd84f8a-217d-42b2-b625-23aed799e25a",
   "metadata": {},
   "outputs": [],
   "source": [
    "X1 = X1 - np.mean(X1)\n",
    "X2 = X2 - np.mean(X2)\n",
    "Y1 = Y1 - np.mean(Y1)\n",
    "Y3 = Y3 - np.mean(Y3)\n",
    "X3 = X3 - np.mean(X3)\n",
    "coords_ = [X1, X2, Y1, Y3, X3]"
   ]
  },
  {
   "cell_type": "code",
   "execution_count": null,
   "id": "4cdeb47e-0cf5-47dc-9cd3-4058017b7368",
   "metadata": {},
   "outputs": [],
   "source": [
    "for i, dim in enumerate(dims):\n",
    "    print('dim =', dim)\n",
    "    U = coords_[i]\n",
    "    axes = [k for k in range(U.ndim) if k != i]\n",
    "    idx = utils.make_slice(U.ndim, axes, ind=[0, 0, 0, 0])\n",
    "    print(U[idx])\n",
    "    print()"
   ]
  },
  {
   "cell_type": "markdown",
   "id": "d9a88b33-987a-405f-88ca-b52b44ca170c",
   "metadata": {},
   "source": [
    "## View 5D array in normalized slit-screen coordinates"
   ]
  },
  {
   "cell_type": "markdown",
   "id": "9f07d5a8-27e4-4349-bac7-e2dfc5901443",
   "metadata": {},
   "source": [
    "Correlation between planes are removed... need to be careful interpreting these plots."
   ]
  },
  {
   "cell_type": "code",
   "execution_count": null,
   "id": "10d64e5b-26d5-49d3-9bf5-68d27a167d5e",
   "metadata": {},
   "outputs": [],
   "source": [
    "f_raw_min = np.min(f_raw)\n",
    "f_raw_max = np.max(f_raw)\n",
    "if f_raw_min < 0:\n",
    "    print(f'min(f_raw) = {f_raw_min}. Clipping to 0.')\n",
    "    f_raw = np.clip(f_raw, 0, None)\n",
    "f_raw = f_raw / f_raw_max"
   ]
  },
  {
   "cell_type": "markdown",
   "id": "32035d44-7c6a-44f2-adb0-b046b737c9e4",
   "metadata": {},
   "source": [
    "### Interactive "
   ]
  },
  {
   "cell_type": "code",
   "execution_count": null,
   "id": "45a6fb8b-5e38-4417-9c47-b93faf48aa4f",
   "metadata": {},
   "outputs": [],
   "source": [
    "mplt.interactive_proj2d(f_raw / f_raw_max, dims=['x1', 'x2', 'y1', 'y3', 'x3'], \n",
    "                        slider_type='int', default_ind=(4, 3))"
   ]
  },
  {
   "cell_type": "code",
   "execution_count": null,
   "id": "5d635441-a6f0-46e2-afca-ea8a83593991",
   "metadata": {},
   "outputs": [],
   "source": [
    "mplt.interactive_proj2d(f_raw / f_raw_max, dims=['x1', 'x2', 'y1', 'y3', 'x3'], \n",
    "                        slider_type='range', default_ind=(4, 3))"
   ]
  },
  {
   "cell_type": "markdown",
   "id": "0827c6fc-5588-49b7-937a-103bb6fdf2d4",
   "metadata": {},
   "source": [
    "### Projections "
   ]
  },
  {
   "cell_type": "code",
   "execution_count": null,
   "id": "ec64daa4-6cf8-40e8-bf11-e8c0098d8d01",
   "metadata": {},
   "outputs": [],
   "source": [
    "for norm in [None, 'log']:\n",
    "    axes = mplt.corner(\n",
    "        f_raw,\n",
    "        labels=dims,\n",
    "        norm=norm,\n",
    "        diag_kind='None',\n",
    "        fig_kws=dict(),\n",
    "        prof=True,\n",
    "        prof_kws=dict(lw=1.0, alpha=0.5, scale=0.12),\n",
    "        handle_log='floor',\n",
    "    )\n",
    "    plt.savefig(f\"_output/slitscreen_corner_log{norm=='log'}.png\")\n",
    "    plt.show()"
   ]
  },
  {
   "cell_type": "markdown",
   "id": "08a65bfb-ad62-4209-a152-4805002e26b4",
   "metadata": {},
   "source": [
    "### Slices"
   ]
  },
  {
   "cell_type": "markdown",
   "id": "774cf1d4-9b14-4cf4-9b24-c7811ef3d7ca",
   "metadata": {},
   "source": [
    "Compute the indices of the maximum pixel in the 5D array."
   ]
  },
  {
   "cell_type": "code",
   "execution_count": null,
   "id": "1aedfc53-c3e9-49b0-b7d6-550c79773753",
   "metadata": {},
   "outputs": [],
   "source": [
    "ind_max = np.unravel_index(np.argmax(f_raw), f_raw.shape)\n",
    "print(ind_max)"
   ]
  },
  {
   "cell_type": "code",
   "execution_count": null,
   "id": "5f3da804-16d6-4ecc-bb9a-3af06eba434e",
   "metadata": {},
   "outputs": [],
   "source": [
    "axes_slice = [(k, j, i) for i in range(f_raw.ndim) for j in range(i) for k in range(j)]\n",
    "axes_view = [tuple([i for i in range(f_raw.ndim) if i not in axis])\n",
    "             for axis in axes_slice]\n",
    "for axis, axis_view in zip(axes_slice, axes_view):\n",
    "    idx = utils.make_slice(5, axis, [ind_max[i] for i in axis])\n",
    "    f_raw_slice = f_raw[idx]\n",
    "    f_raw_slice = f_raw_slice / np.max(f_raw_slice)\n",
    "\n",
    "    dim1, dim2 = [dims[i] for i in axis_view]\n",
    "    \n",
    "    fig, plot_axes = pplt.subplots(ncols=2)\n",
    "    for ax, norm in zip(plot_axes, [None, 'log']):\n",
    "        mplt.plot_image(f_raw_slice, ax=ax, norm=norm, colorbar=True, handle_log='floor')\n",
    "    plot_axes.format(xlabel=dim1, ylabel=dim2)\n",
    "    string = '_output/slitscreen_slice_'\n",
    "    for i in axis:\n",
    "        string += f'_{dims[i]}-{ind_max[i]}'\n",
    "    plt.savefig(string + '.png')\n",
    "    plt.show()"
   ]
  },
  {
   "cell_type": "code",
   "execution_count": null,
   "id": "0e107548-8a19-4694-ba4a-ce1b7656266e",
   "metadata": {},
   "outputs": [],
   "source": [
    "utils.save_pickle('_output/info.pkl', info)\n",
    "file = open('_output/info.txt', 'w')\n",
    "for key, value in info.items():\n",
    "    file.write(f'{key}: {value}\\n')\n",
    "file.close()"
   ]
  },
  {
   "cell_type": "code",
   "execution_count": null,
   "id": "334a62b5-1f9c-4c66-861b-fb7d9fd7e38f",
   "metadata": {},
   "outputs": [],
   "source": []
  }
 ],
 "metadata": {
  "kernelspec": {
   "display_name": "Python 3 (ipykernel)",
   "language": "python",
   "name": "python3"
  },
  "language_info": {
   "codemirror_mode": {
    "name": "ipython",
    "version": 3
   },
   "file_extension": ".py",
   "mimetype": "text/x-python",
   "name": "python",
   "nbconvert_exporter": "python",
   "pygments_lexer": "ipython3",
   "version": "3.9.7"
  }
 },
 "nbformat": 4,
 "nbformat_minor": 5
}
