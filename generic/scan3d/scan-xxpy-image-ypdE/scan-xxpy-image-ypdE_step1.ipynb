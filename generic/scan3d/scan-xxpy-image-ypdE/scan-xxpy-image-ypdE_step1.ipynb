{
 "cells": [
  {
   "cell_type": "markdown",
   "id": "4a6a2fec-ae49-4115-b4bf-ade79f49a70e",
   "metadata": {},
   "source": [
    "# Step 1"
   ]
  },
  {
   "cell_type": "markdown",
   "id": "344c7092-4d68-400e-ae77-533ec7c23a57",
   "metadata": {},
   "source": [
    "* Load scalar, waveform and image h5 files.\n",
    "* For each sweep, interpolate images on regular y grid. \n",
    "* For each y and image pixel, interpolate x-x'. (f(x, x', y, y3, x3))\n",
    "* For each (x, xp, y, x3), interpolate yp. (f(x, x', y, y', x3))\n",
    "* For each (x, xp, y, yp), inteprolate w. (f(x, x', y, y', w))."
   ]
  },
  {
   "cell_type": "code",
   "execution_count": null,
   "id": "4b81a757-08c6-4a57-9f45-a1f2df7a4976",
   "metadata": {},
   "outputs": [],
   "source": [
    "import sys\n",
    "import os\n",
    "from os.path import join\n",
    "import time\n",
    "from datetime import datetime\n",
    "import itertools\n",
    "import importlib\n",
    "import json\n",
    "from pprint import pprint\n",
    "import numpy as np\n",
    "import pandas as pd\n",
    "import h5py\n",
    "import imageio\n",
    "from scipy import ndimage\n",
    "from scipy import interpolate\n",
    "import skimage\n",
    "from tqdm.notebook import tqdm\n",
    "from tqdm.notebook import trange\n",
    "from matplotlib import pyplot as plt\n",
    "from matplotlib.patches import Ellipse\n",
    "from plotly import graph_objects as go\n",
    "import proplot as pplt\n",
    "from ipywidgets import interactive\n",
    "from ipywidgets import widgets\n",
    "\n",
    "sys.path.append('../..')\n",
    "from tools.energyVS06 import EnergyCalculate\n",
    "from tools import image_processing as ip\n",
    "from tools import plotting as mplt\n",
    "from tools import utils"
   ]
  },
  {
   "cell_type": "code",
   "execution_count": null,
   "id": "30e18ef3-72eb-4bbb-8a46-312e12e79470",
   "metadata": {},
   "outputs": [],
   "source": [
    "pplt.rc['cmap.discrete'] = False\n",
    "pplt.rc['cmap.sequential'] = 'viridis'\n",
    "pplt.rc['grid'] = False\n",
    "pplt.rc['savefig.dpi'] = 300"
   ]
  },
  {
   "cell_type": "markdown",
   "id": "d5520f6f-fd27-4d17-b3a4-ef75dfb6bd12",
   "metadata": {},
   "source": [
    "## Setup"
   ]
  },
  {
   "cell_type": "code",
   "execution_count": null,
   "id": "95d58271-8d76-4dbf-a7fc-54e153426345",
   "metadata": {},
   "outputs": [],
   "source": [
    "folder = '_output/'"
   ]
  },
  {
   "cell_type": "code",
   "execution_count": null,
   "id": "9416a2c7-d72a-4f55-a781-f3a26fbcf47b",
   "metadata": {},
   "outputs": [],
   "source": [
    "info = utils.load_pickle(join(folder, 'info.pkl'))\n",
    "print('info')\n",
    "pprint(info)"
   ]
  },
  {
   "cell_type": "code",
   "execution_count": null,
   "id": "697eb6d5-be4c-4923-97af-8214075640bd",
   "metadata": {},
   "outputs": [],
   "source": [
    "datadir = info['datadir']\n",
    "filename = info['filename']\n",
    "datadir = info['datadir']\n",
    "file = h5py.File(join(datadir, 'preproc-' + filename + '.h5'), 'r')\n",
    "data_sc = file['/scalardata']\n",
    "data_wf = file['/wfdata']\n",
    "data_im = file['/imagedata']\n",
    "\n",
    "print('Attributes:')\n",
    "print()\n",
    "for data in [data_sc, data_wf, data_im]:\n",
    "    print(data.name)\n",
    "    for item in data.dtype.fields.items():\n",
    "        print(item)\n",
    "    print()"
   ]
  },
  {
   "cell_type": "code",
   "execution_count": null,
   "id": "44490d1e-e17d-4aea-9b3d-0331dcfa266b",
   "metadata": {},
   "outputs": [],
   "source": [
    "# Generate list of {y1, x2, x1} points.\n",
    "variables = info['variables']\n",
    "keys = list(variables)\n",
    "nsteps = np.array([variables[key]['steps'] for key in keys])\n",
    "center = np.array([variables[key]['center'] for key in keys])\n",
    "distance = np.array([variables[key]['distance'] for key in keys])\n",
    "\n",
    "acts = info['acts']\n",
    "points = np.vstack([data_sc[act] for act in acts]).T\n",
    "\n",
    "print('acts:', acts)\n",
    "print('points.shape =', points.shape)"
   ]
  },
  {
   "cell_type": "markdown",
   "id": "faa59fdd-744a-4c07-a485-9afbd16b5768",
   "metadata": {},
   "source": [
    "### Observe radial distribution of points"
   ]
  },
  {
   "cell_type": "code",
   "execution_count": null,
   "id": "810ad485-366c-4912-921c-5a37c71e5845",
   "metadata": {},
   "outputs": [],
   "source": [
    "M = info['M']\n",
    "points_n = utils.apply(np.linalg.inv(M), points - center)\n",
    "points_nn = points_n / (0.5 * distance)"
   ]
  },
  {
   "cell_type": "code",
   "execution_count": null,
   "id": "d726c1b8-488e-41d2-8e59-f0688278d74f",
   "metadata": {},
   "outputs": [],
   "source": [
    "cam = info['cam']\n",
    "if cam.endswith('_old'):\n",
    "    cam = cam[:-4]\n",
    "signal = data_sc[cam + '_Integral']\n",
    "signal = signal - np.min(signal)\n",
    "signal = signal / np.max(signal)\n",
    "valid, = np.where(signal >= info['signal_thresh'])\n",
    "invalid, = np.where(signal < info['signal_thresh'])"
   ]
  },
  {
   "cell_type": "code",
   "execution_count": null,
   "id": "537e8b73-3481-4f9e-9f15-957b2fdae660",
   "metadata": {},
   "outputs": [],
   "source": [
    "for i, act in enumerate(acts):\n",
    "    fig, ax = pplt.subplots(figsize=(8.0, 2.0))\n",
    "    ax.plot(points[:, i], color='lightgray')\n",
    "    ax.plot(valid, points[valid, i], color='black', marker='.', ms=1, lw=0, label='> thresh')\n",
    "    ax.format(xlabel='Point', ylabel=act)\n",
    "    ax.legend(loc='upper left')\n",
    "    plt.savefig('_output/acts.png')\n",
    "    plt.show()"
   ]
  },
  {
   "cell_type": "code",
   "execution_count": null,
   "id": "bbb2240a-5efd-49e6-a645-564ef79c4319",
   "metadata": {},
   "outputs": [],
   "source": [
    "for _points, title in zip((points, points_n, points_nn), ('true', 'upright', 'upright + scaled')):\n",
    "    fig, axes = pplt.subplots(ncols=3, nrows=3, figwidth=4.5, span=False)\n",
    "    axes.format(suptitle=title)\n",
    "    for i in range(3):\n",
    "        for j in range(3):\n",
    "            axes[i, j].scatter(_points[:, j], _points[:, i], c='lightgray', ec='None', s=1)\n",
    "            axes[i, j].scatter(_points[valid, j], _points[valid, i], c='black', ec='None', s=1)\n",
    "        axes[i, 0].format(ylabel=keys[i])\n",
    "        axes[-1, i].format(xlabel=keys[i])\n",
    "    plt.savefig(f'_output/points_{title}.png')"
   ]
  },
  {
   "cell_type": "code",
   "execution_count": null,
   "id": "62ecd6cf-ebf2-4ddb-a94f-7631547409be",
   "metadata": {},
   "outputs": [],
   "source": [
    "radii = np.sqrt(np.sum(np.square(points_nn), axis=1))\n",
    "with pplt.rc.context(legendfontsize='medium'):\n",
    "    for yscale in [None, 'log']:\n",
    "        fig, ax = pplt.subplots(figsize=(3, 1.85))\n",
    "        ax.hist(radii, bins='auto', label='all', color='lightgrey')\n",
    "        ax.hist(radii[valid], bins='auto', label='above thresh', color='black')\n",
    "        ax.format(ylabel='num. points', xlabel='radius', yscale=yscale)\n",
    "        ax.legend(ncols=2, loc='top', framealpha=0)\n",
    "        plt.savefig(f'_output/radial_dist_{yscale}.png')"
   ]
  },
  {
   "cell_type": "code",
   "execution_count": null,
   "id": "e17cd6ab-bcf2-4bfb-9afc-c7420f8ab9a2",
   "metadata": {},
   "outputs": [],
   "source": [
    "fig = go.Figure(\n",
    "    data=[\n",
    "        go.Scatter3d(\n",
    "            x=points_nn[invalid, 0], \n",
    "            y=points_nn[invalid, 1], \n",
    "            z=points_nn[invalid, 2], \n",
    "            mode='markers', \n",
    "            marker=dict(color='lightgray', size=1, opacity=0.5),\n",
    "        ),\n",
    "        go.Scatter3d(\n",
    "            x=points_nn[valid, 0], \n",
    "            y=points_nn[valid, 1], \n",
    "            z=points_nn[valid, 2], \n",
    "            mode='markers', \n",
    "            marker=dict(color='black', size=1, opacity=0.5),\n",
    "        ),\n",
    "    ],\n",
    ")\n",
    "fig.update_scenes(xaxis_visible=False, yaxis_visible=False, zaxis_visible=False)\n",
    "fig.update_layout(width=500, height=500)\n",
    "fig.write_html('_output/points_nn3d.html')\n",
    "# fig.show()"
   ]
  },
  {
   "cell_type": "code",
   "execution_count": null,
   "id": "753a4ddc-78cb-492e-b1a1-76023dc26f19",
   "metadata": {},
   "outputs": [],
   "source": [
    "del fig"
   ]
  },
  {
   "cell_type": "markdown",
   "id": "5d514eeb-318b-4765-8ba6-c893c39a1612",
   "metadata": {},
   "source": [
    "## Convert to beam frame coordinates"
   ]
  },
  {
   "cell_type": "code",
   "execution_count": null,
   "id": "c28655b7-ec45-4890-aef2-dcef5462197d",
   "metadata": {},
   "outputs": [],
   "source": [
    "points = points[:, ::-1]  # y, x2, x --> x, x2, y\n",
    "nsteps = nsteps[::-1]\n",
    "\n",
    "## y_slit is inserted from above, always opposite y_beam.\n",
    "points[:, 2] = -points[:, 2]\n",
    "\n",
    "## Screen coordinates (x3, y3) are always opposite beam (x, y).\n",
    "image_shape = info['image_shape']\n",
    "x3grid = -np.arange(image_shape[1]) * info['image_pix2mm_x'] \n",
    "y3grid = -np.arange(image_shape[0]) * info['image_pix2mm_y']\n",
    "\n",
    "# VT04/VT06 are same sign as x_beam; VT34a and VT34b are opposite.\n",
    "if cam.lower() == 'cam34':\n",
    "    points[:, :2] = -points[:, :2]"
   ]
  },
  {
   "cell_type": "markdown",
   "id": "dc354e33-9acf-4f4a-9661-896b3bd64ffa",
   "metadata": {},
   "source": [
    "## Setup interpolation grids"
   ]
  },
  {
   "cell_type": "markdown",
   "id": "ecef285b-289e-4aa9-96a5-725621db275f",
   "metadata": {},
   "source": [
    "Build the transfer matrices between the slits and the screen. "
   ]
  },
  {
   "cell_type": "code",
   "execution_count": null,
   "id": "24b44335-667b-47d4-9a89-2e5d25acf564",
   "metadata": {
    "tags": []
   },
   "outputs": [],
   "source": [
    "# Eventually switch to saving metadata dict as pickled file in Step 0, then loading here.\n",
    "_file = h5py.File(join(datadir, filename + '.h5'), 'r')\n",
    "if 'config' in _file:\n",
    "    config = _file['config']\n",
    "    metadata = dict()\n",
    "    for name in config['metadata'].dtype.names:\n",
    "        metadata[name] = config['metadata'][name]\n",
    "else:\n",
    "    # Older measurement; metadata is in json file.\n",
    "    metadata = json.load(open(join(datadir, filename + '-metadata.json'), 'r'))\n",
    "    _metadata = dict()\n",
    "    for _dict in metadata.values():\n",
    "        for key, value in _dict.items():\n",
    "            _metadata[key] = value\n",
    "    metadata = _metadata\n",
    "pprint(metadata)\n",
    "_file.close()"
   ]
  },
  {
   "cell_type": "code",
   "execution_count": null,
   "id": "82542f1b-7829-44e7-8b0e-84a389967280",
   "metadata": {},
   "outputs": [],
   "source": [
    "dipole_current = 0.0  # deviation of dipole current from nominal\n",
    "l = 0.129  # dipole face to screen (assume same for first/last dipole-screen)\n",
    "if cam.lower() == 'cam06':\n",
    "    GL05 = 0.0  # QH05 integrated field strength (1 [A] = 0.0778 [Tm])\n",
    "    GL06 = 0.0  # QH06 integrated field strength (1 [A] = 0.0778 [Tm])\n",
    "    l1 = 0.280  # slit1 to QH05 center\n",
    "    l2 = 0.210  # QH05 center to QV06 center\n",
    "    l3 = 0.457  # QV06 center to slit2\n",
    "    L2 = 0.599  # slit2 to dipole face    \n",
    "    rho_sign = +1.0  # dipole bend radius sign\n",
    "    if GL05 == 0.0 and metadata['BTF_MEBT_Mag:PS_QH05:I_Set'] != 0.0:\n",
    "        print('Warning: QH05 is turned on according to metadata.')\n",
    "    if GL05 != 0.0 and metadata['BTF_MEBT_Mag:PS_QH05:I_Set'] == 0.0:\n",
    "        print('Warning: QH05 is turned off according to metadata.')\n",
    "    if GL06 == 0.0 and metadata['BTF_MEBT_Mag:PS_QV06:I_Set'] != 0.0:\n",
    "        print('Warning: QH06 is turned on according to metadata.')\n",
    "    if GL06 != 0.0 and metadata['BTF_MEBT_Mag:PS_QV06:I_Set'] == 0.0:\n",
    "        print('Warning: QH06 is turned off according to metadata.')\n",
    "elif cam.lower() == 'cam34':\n",
    "    GL05 = 0.0  # QH05 integrated field strength\n",
    "    GL06 = 0.0  # QH06 integrated field strength\n",
    "    l1 = 0.000  # slit1 to QH05 center\n",
    "    l2 = 0.000  # QH05 center to QV06 center\n",
    "    l3 = 0.774  # QV06 center to slit2\n",
    "    L2 = 0.311  # slit2 to dipole face\n",
    "    # Weird... I can only get the right answer for energy if I *do not* flip rho,\n",
    "    # x1, x2, and x3. I then flip x and xp at the very end.\n",
    "    rho_sign = +1.0  # dipole bend radius sign\n",
    "    x3grid = -x3grid\n",
    "    points[:, :2] = -points[:, :2]\n",
    "LL = l1 + l2 + l3 + L2  # distance from emittance plane to dipole entrance\n",
    "ecalc = EnergyCalculate(l1=l1, l2=l2, l3=l3, L2=L2, l=l, rho_sign=rho_sign)\n",
    "Mslit = ecalc.getM1(GL05=GL05, GL06=GL06)  # slit-slit\n",
    "Mscreen = ecalc.getM(GL05=GL05, GL06=GL06)  # slit-screen"
   ]
  },
  {
   "cell_type": "markdown",
   "id": "745cc708-08bd-496b-b3dd-aac2399733c7",
   "metadata": {},
   "source": [
    "Convert to x'."
   ]
  },
  {
   "cell_type": "code",
   "execution_count": null,
   "id": "8b5159c6-faba-4d60-b69f-4a6e84d203e7",
   "metadata": {},
   "outputs": [],
   "source": [
    "points[:, 1] = 1e3 * ecalc.calculate_xp(points[:, 0] * 1e-3, points[:, 1] * 1e-3, Mslit) "
   ]
  },
  {
   "cell_type": "markdown",
   "id": "ceed66df-db4e-4b6d-bb7c-e43597d9467b",
   "metadata": {},
   "source": [
    "Center points at zero."
   ]
  },
  {
   "cell_type": "code",
   "execution_count": null,
   "id": "138d2f0c-10b6-4b42-a0d0-68ec09bbce64",
   "metadata": {},
   "outputs": [],
   "source": [
    "points -= np.mean(points, axis=0)"
   ]
  },
  {
   "cell_type": "markdown",
   "id": "13c72e49-a2eb-4597-b781-0baa56737d0c",
   "metadata": {},
   "source": [
    "Make grids."
   ]
  },
  {
   "cell_type": "code",
   "execution_count": null,
   "id": "374a4fae-b1c6-4a52-986f-2a3d3921da12",
   "metadata": {},
   "outputs": [],
   "source": [
    "mins = np.min(points, axis=0)\n",
    "maxs = np.max(points, axis=0)\n",
    "scales = [1.1, 1.6, 1.1]\n",
    "ns = np.multiply(scales, nsteps + 1).astype(int)\n",
    "xgrid, xpgrid, ygrid = [np.linspace(umin, umax, n) for (umin, umax, n) in zip(mins, maxs, ns)]\n",
    "\n",
    "YP = np.zeros((len(ygrid), len(y3grid)))\n",
    "for k, y in enumerate(ygrid):\n",
    "    YP[k] = 1e3 * ecalc.calculate_yp(1e-3 * y, 1e-3 * y3grid, Mscreen)\n",
    "ypgrid = np.linspace(np.min(YP), np.max(YP), int(1.1 * len(y3grid)))\n",
    "\n",
    "W = np.zeros((len(xgrid), len(xpgrid), len(x3grid)))\n",
    "for i, x in enumerate(xgrid):\n",
    "    for j, xp in enumerate(xpgrid):\n",
    "        W[i, j] = ecalc.calculate_dE_screen(1e-3 * x3grid, dipole_current, 1e-3 * x, 1e-3 * xp, Mscreen)\n",
    "wgrid = np.linspace(np.min(W), np.max(W), int(1.1 * len(x3grid)))"
   ]
  },
  {
   "cell_type": "markdown",
   "id": "25bfd481-23e1-441d-a708-3853ec6db9fe",
   "metadata": {},
   "source": [
    "## Interpolate "
   ]
  },
  {
   "cell_type": "code",
   "execution_count": null,
   "id": "ef27ba9e-f305-4aad-91e9-64794cd1e090",
   "metadata": {},
   "outputs": [],
   "source": [
    "iterations = data_sc['iteration'].copy()\n",
    "iteration_nums = np.unique(iterations)\n",
    "n_iterations = len(iteration_nums)\n",
    "kws = dict(kind='linear', copy=True, bounds_error=False, fill_value=0.0, assume_sorted=False)"
   ]
  },
  {
   "cell_type": "markdown",
   "id": "c7537ee2-0d05-4d40-81cb-063473802741",
   "metadata": {},
   "source": [
    "### Interpolate y"
   ]
  },
  {
   "cell_type": "code",
   "execution_count": null,
   "id": "1f3d819f-779d-4747-9af3-98a6c40cf346",
   "metadata": {},
   "outputs": [],
   "source": [
    "images_yy3x3 = []\n",
    "for iteration in tqdm(iteration_nums):\n",
    "    idx, = np.where(iterations == iteration)\n",
    "    _points = points[idx, 2]\n",
    "    _values = data_im[idx, cam + '_Image'].reshape((len(idx), len(y3grid), len(x3grid)))\n",
    "    _, uind = np.unique(_points, return_index=True)\n",
    "    fint = interpolate.interp1d(_points[uind], _values[uind], axis=0, **kws)\n",
    "    images_yy3x3.append(fint(ygrid))"
   ]
  },
  {
   "cell_type": "markdown",
   "id": "3bc78ecd-e694-440d-9b1b-2d58cedf81fe",
   "metadata": {},
   "source": [
    "### Interpolate y'"
   ]
  },
  {
   "cell_type": "code",
   "execution_count": null,
   "id": "497dfbe4-c49c-4b1b-a7a6-dbec9bd5162f",
   "metadata": {},
   "outputs": [],
   "source": [
    "images_yypx3 = []\n",
    "for image_yy3x3 in tqdm(images_yy3x3):\n",
    "    image_yypx3 = np.zeros((len(ygrid), len(ypgrid), len(x3grid)))\n",
    "    for k in range(len(ygrid)):\n",
    "        _points = YP[k]\n",
    "        _values = image_yy3x3[k, :, :]\n",
    "        fint = interpolate.interp1d(_points, _values, axis=0, **kws)\n",
    "        image_yypx3[k, :, :] = fint(ypgrid)\n",
    "    images_yypx3.append(image_yypx3)\n",
    "del(images_yy3x3)"
   ]
  },
  {
   "cell_type": "markdown",
   "id": "31420c5f-8b77-4d48-8469-c7644480b82c",
   "metadata": {},
   "source": [
    "### Interpolate w"
   ]
  },
  {
   "cell_type": "markdown",
   "id": "bd0f66c4-ac8d-4336-b188-ff5df7837b34",
   "metadata": {},
   "source": [
    "Also save x,x' on each sweep."
   ]
  },
  {
   "cell_type": "code",
   "execution_count": null,
   "id": "132a5dab-366b-4086-90f9-bc469a9b0b32",
   "metadata": {},
   "outputs": [],
   "source": [
    "XXP = []\n",
    "images_yypw = []\n",
    "for iteration, image_yypx3 in enumerate(tqdm(images_yypx3), start=1):\n",
    "    x, xp = np.mean(points[iterations == iteration, :2], axis=0)\n",
    "    _points = ecalc.calculate_dE_screen(1e-3 * x3grid, dipole_current, 1e-3 * x, 1e-3 * xp, Mscreen)\n",
    "    _values = image_yypx3\n",
    "    fint = interpolate.interp1d(_points, _values, axis=-1, **kws)\n",
    "    images_yypw.append(fint(wgrid))\n",
    "    XXP.append([x, xp])\n",
    "del(images_yypx3)\n",
    "XXP = np.array(XXP)\n",
    "images_yypw = np.array(images_yypw)"
   ]
  },
  {
   "cell_type": "code",
   "execution_count": null,
   "id": "9087d7d3-a611-4bc8-b95f-e19e46ef2490",
   "metadata": {},
   "outputs": [],
   "source": [
    "fig, ax = pplt.subplots(figwidth=4)\n",
    "ax.scatter(XXP[:, 0], XXP[:, 1], c=np.arange(1, n_iterations + 1), s=2, cmap='flare_r',\n",
    "           colorbar=True, colorbar_kw=dict(label='iteration'))\n",
    "ax.format(xlabel=\"x [mm]\", ylabel=\"xp [mrad]\")\n",
    "# plt.savefig('_output/x-xp_iterations')\n",
    "plt.show()"
   ]
  },
  {
   "cell_type": "markdown",
   "id": "6101785f-abde-4c31-b0c6-56175989cb68",
   "metadata": {},
   "source": [
    "### Interpolate x-x'"
   ]
  },
  {
   "cell_type": "markdown",
   "id": "ba97fc11-ad19-4b62-87df-d9f3fb68b2a6",
   "metadata": {},
   "source": [
    "Since we move in vertical lines in the x-xp plane, we could separate the x and xp interpolations. If we moved in diagonal lines in the x-xp plane, we would need to perform a 2D interpolation for each y, yp, w. The following variable determines which method to use."
   ]
  },
  {
   "cell_type": "code",
   "execution_count": null,
   "id": "d380e5c9-a8df-4393-9234-e1fe1b48afbf",
   "metadata": {},
   "outputs": [],
   "source": [
    "xxp_interp = '1D'  # {'1D', '2D'}"
   ]
  },
  {
   "cell_type": "markdown",
   "id": "4a76e316-8d6a-47ae-a9b6-09d791dc3640",
   "metadata": {},
   "source": [
    "Try grouping iterations by x step by looping through each iteration and checking if x has changed significantly (within each x step, x should only change by a small amount due to noise in the readback). Find a good cutoff `max_abs_delta`."
   ]
  },
  {
   "cell_type": "code",
   "execution_count": null,
   "id": "88868223-45d6-401c-bbb0-a7e9aa7f30e7",
   "metadata": {},
   "outputs": [],
   "source": [
    "max_abs_delta = 0.03\n",
    "X, steps = [], []\n",
    "x_last = np.inf\n",
    "for iteration in trange(1, n_iterations + 1):\n",
    "    x, xp = XXP[iteration - 1]\n",
    "    if np.abs(x - x_last) > max_abs_delta:\n",
    "        X.append(x)\n",
    "        steps.append([])\n",
    "    steps[-1].append(iteration)\n",
    "    x_last = x\n",
    "\n",
    "fig, ax = pplt.subplots(figsize=(4, 2))\n",
    "ax.hist(np.abs(np.diff(points[:, 0])), bins=75, color='black')\n",
    "ax.axvline(max_abs_delta, color='red')\n",
    "ax.format(yscale='log', xlabel=r'$\\Delta x$ [mm]', ylabel='Number of steps')\n",
    "plt.savefig('_output/delta_x')\n",
    "plt.show()\n",
    "\n",
    "fig, ax = pplt.subplots(figsize=(4, 2))\n",
    "for _iterations in steps:\n",
    "    _idx = np.array(_iterations) - 1\n",
    "    ax.scatter(XXP[_idx][:, 0], XXP[_idx][:, 1], s=1)\n",
    "    ax.format(xlabel=\"x [mm]\", ylabel=\"x' [mrad]\", title=\"Grouped iterations\")\n",
    "plt.savefig('_output/x_groups')\n",
    "plt.show()"
   ]
  },
  {
   "cell_type": "markdown",
   "id": "afafabf8-c853-48bd-b695-672e4f1a3d7a",
   "metadata": {},
   "source": [
    "Run the interpolation."
   ]
  },
  {
   "cell_type": "code",
   "execution_count": null,
   "id": "6ae10686-9921-4851-ae7b-8753b784fc85",
   "metadata": {},
   "outputs": [],
   "source": [
    "shape = (len(xgrid), len(xpgrid), len(ygrid), len(ypgrid), len(wgrid))\n",
    "f = np.memmap(f'_output/f_{filename}.mmp', dtype='float', mode='w+', shape=shape)"
   ]
  },
  {
   "cell_type": "code",
   "execution_count": null,
   "id": "73cc2e16-a346-47f3-b2cc-f54b5fabc527",
   "metadata": {},
   "outputs": [],
   "source": [
    "if xxp_interp == '1D':\n",
    "    # Interpolate x'-y-y'-w image along x'\n",
    "    print(\"Interpolating xp.\")\n",
    "    images_xpyypw = []\n",
    "    for _iterations in tqdm(steps):\n",
    "        idx = np.array(_iterations) - 1\n",
    "        _points = XXP[idx, 1]\n",
    "        _values = images_yypw[idx]\n",
    "        fint = interpolate.interp1d(_points, _values, axis=0, **kws)\n",
    "        images_xpyypw.append(fint(xpgrid))\n",
    "    del(images_yypw)\n",
    "\n",
    "    # Interpolate the xp-y-yp-w image stack along x.\n",
    "    print(\"Interpolating x.\")\n",
    "    ## `scipy.interpolate.interp1d` seems to give memory errors for large arrays.\n",
    "    ## In that case, loop through {x', y, y', w} and perform 1D interpolation \n",
    "    ## at each index.\n",
    "    n_loop = 2\n",
    "    _points = X\n",
    "    if n_loop == 0:\n",
    "        _values = images_xpyypw\n",
    "        fint = interpolate.interp1d(_points, _values, axis=0, **kws)\n",
    "        f[:, j, k, l, m] = fint(xgrid)\n",
    "    else:\n",
    "        images_xpyypw = np.array(images_xpyypw)\n",
    "        axis = list(range(1, n_loop + 1))\n",
    "        ranges = [range(s) for s in shape[1: n_loop + 1]]\n",
    "        for ind in tqdm(itertools.product(*ranges)):\n",
    "            idx = utils.make_slice(5, axis=axis, ind=ind)\n",
    "            _values = images_xpyypw[idx]\n",
    "            fint = interpolate.interp1d(_points, _values, axis=0, **kws)\n",
    "            f[idx] = fint(xgrid) \n",
    "        del(images_xpyypw)\n",
    "else:\n",
    "    # 2D interpolation of x-x' for each {y, y', w}.\n",
    "    print(\"Interpolating x-xp.\")\n",
    "    _points = XXP\n",
    "    _new_points = utils.get_grid_coords(xgrid, xpgrid)\n",
    "    for k in trange(shape[2]):\n",
    "        for l in trange(shape[3]):\n",
    "            for m in range(shape[4]):\n",
    "                _values = images_yypw[:, k, l, m]\n",
    "                new_values = interpolate.griddata(\n",
    "                    _points,\n",
    "                    _values,\n",
    "                    _new_points,\n",
    "                    method='linear',\n",
    "                    fill_value=False,\n",
    "                )\n",
    "                f[:, :, k, l, m] = new_values.reshape((shape[0], shape[1]))"
   ]
  },
  {
   "cell_type": "markdown",
   "id": "c9ff6da1-cc0a-4de0-8f8f-dd481524be2b",
   "metadata": {},
   "source": [
    "## Shutdown"
   ]
  },
  {
   "cell_type": "markdown",
   "id": "7a639adf-4bd5-4b89-a57e-2effe14f9e6a",
   "metadata": {},
   "source": [
    "Hack: flip x-x' if we are at Cam34."
   ]
  },
  {
   "cell_type": "code",
   "execution_count": null,
   "id": "3f2f69a8-0697-4d75-81a5-31d2b7189d77",
   "metadata": {},
   "outputs": [],
   "source": [
    "if cam.lower() == 'cam34':\n",
    "    ## This may give a memory error...\n",
    "    f[:, :, :, :, :] = f[::-1, ::-1, :, :, :] \n",
    "    \n",
    "    ## This should not...\n",
    "    # for k in trange(shape[2]):\n",
    "    #     f[:, :, k, :, :] = f[::-1, ::-1, k, :, :]"
   ]
  },
  {
   "cell_type": "markdown",
   "id": "26856685-a039-4403-9f72-df77d54a27d8",
   "metadata": {},
   "source": [
    "Save the grid coordinates."
   ]
  },
  {
   "cell_type": "code",
   "execution_count": null,
   "id": "939b8f64-d328-4260-aa45-6ec2e3acb8d9",
   "metadata": {},
   "outputs": [],
   "source": [
    "coords = [xgrid, xpgrid, ygrid, ypgrid, wgrid]\n",
    "coords = [c.copy() - np.mean(c) for c in coords]\n",
    "utils.save_stacked_array(f'_output/coords_{filename}.npz', coords)"
   ]
  },
  {
   "cell_type": "markdown",
   "id": "9c359599-c7c0-4e4c-9f80-019fa9da6b40",
   "metadata": {},
   "source": [
    "Briefly examine the interpolated array."
   ]
  },
  {
   "cell_type": "code",
   "execution_count": null,
   "id": "2270af51-04f6-4432-a014-e655ddf75d0d",
   "metadata": {},
   "outputs": [],
   "source": [
    "dims = [\"x\", \"x'\", \"y\", \"y'\", \"w\"]\n",
    "units = ['mm', 'mrad', 'mm', 'mrad', 'MeV']\n",
    "dims_units = [f'{dim} [{unit}]' for dim, unit in zip(dims, units)]\n",
    "prof_kws = dict(kind='step')\n",
    "mplt.interactive_proj2d(f, coords=coords, dims=dims, units=units, prof_kws=prof_kws)"
   ]
  },
  {
   "cell_type": "code",
   "execution_count": null,
   "id": "473f8906-9056-4541-b065-d919a6e0150b",
   "metadata": {},
   "outputs": [],
   "source": [
    "mplt.interactive_proj1d(f, coords=coords, dims=dims, units=units)"
   ]
  },
  {
   "cell_type": "markdown",
   "id": "93bca038-876b-46b4-8e12-80a722eee20c",
   "metadata": {},
   "source": [
    "Write changes to the memory map."
   ]
  },
  {
   "cell_type": "code",
   "execution_count": null,
   "id": "2d8b2bc1-3e44-4838-94a1-a763c702fa8b",
   "metadata": {},
   "outputs": [],
   "source": [
    "f.flush()"
   ]
  },
  {
   "cell_type": "markdown",
   "id": "94d961ce-003b-48a2-93c0-632905aaddbc",
   "metadata": {},
   "source": [
    "Save info."
   ]
  },
  {
   "cell_type": "code",
   "execution_count": null,
   "id": "172b5d13-03c0-4951-9064-e29a863220e7",
   "metadata": {},
   "outputs": [],
   "source": [
    "info['dims'] = dims\n",
    "info['units'] = units\n",
    "info['int_shape'] = shape\n",
    "\n",
    "# Save as pickled dictionary for loading.\n",
    "utils.save_pickle('_output/info.pkl', info)\n",
    "\n",
    "# Save as file for viewing.\n",
    "file = open('_output/info.txt', 'w')\n",
    "for key, value in info.items():\n",
    "    file.write(f'{key}: {value}\\n')\n",
    "file.close()"
   ]
  },
  {
   "cell_type": "markdown",
   "id": "6e98b6d2-e0b6-4bd9-8ea0-3c53b2b1df3b",
   "metadata": {},
   "source": [
    "Save static html of this notebook."
   ]
  },
  {
   "cell_type": "code",
   "execution_count": null,
   "id": "b7c93a30-c2ce-453a-8101-be7b1bf314fc",
   "metadata": {},
   "outputs": [],
   "source": [
    "! jupyter nbconvert scan-xxpy-image-ypdE_step1.ipynb --to html\n",
    "! mv scan-xxpy-image-ypdE_step1.html ./_output\n",
    "! ls _output"
   ]
  },
  {
   "cell_type": "code",
   "execution_count": null,
   "id": "72047731-0994-4cbd-8988-069dfbb3dfe4",
   "metadata": {},
   "outputs": [],
   "source": [
    "file.close()"
   ]
  },
  {
   "cell_type": "code",
   "execution_count": null,
   "id": "c2916965-e079-4e4d-887e-1a2d46225629",
   "metadata": {},
   "outputs": [],
   "source": []
  }
 ],
 "metadata": {
  "kernelspec": {
   "display_name": "myenv",
   "language": "python",
   "name": "myenv"
  },
  "language_info": {
   "codemirror_mode": {
    "name": "ipython",
    "version": 3
   },
   "file_extension": ".py",
   "mimetype": "text/x-python",
   "name": "python",
   "nbconvert_exporter": "python",
   "pygments_lexer": "ipython3",
   "version": "3.9.7"
  },
  "toc-autonumbering": true
 },
 "nbformat": 4,
 "nbformat_minor": 5
}
