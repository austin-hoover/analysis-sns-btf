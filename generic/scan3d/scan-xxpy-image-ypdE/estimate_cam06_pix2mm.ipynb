{
 "cells": [
  {
   "cell_type": "markdown",
   "id": "4a6a2fec-ae49-4115-b4bf-ade79f49a70e",
   "metadata": {},
   "source": [
    "# Estimate Cam06 calibration."
   ]
  },
  {
   "cell_type": "markdown",
   "id": "344c7092-4d68-400e-ae77-533ec7c23a57",
   "metadata": {},
   "source": [
    "We forgot to take calibrate Cam06 after it was upgraded in April, and didn't realize this unit after the BTF shut down in August 2022. Here, we estimate the mm/pixel calibration from a separate slit-slit measurmennt."
   ]
  },
  {
   "cell_type": "code",
   "execution_count": null,
   "id": "4b81a757-08c6-4a57-9f45-a1f2df7a4976",
   "metadata": {},
   "outputs": [],
   "source": [
    "import sys\n",
    "import os\n",
    "from os.path import join\n",
    "import time\n",
    "from datetime import datetime\n",
    "import importlib\n",
    "import json\n",
    "from pprint import pprint\n",
    "import numpy as np\n",
    "import pandas as pd\n",
    "import h5py\n",
    "import imageio\n",
    "from scipy import ndimage\n",
    "from scipy import interpolate\n",
    "import skimage\n",
    "from tqdm.notebook import tqdm\n",
    "from tqdm.notebook import trange\n",
    "from matplotlib import pyplot as plt\n",
    "from matplotlib.patches import Ellipse\n",
    "from plotly import graph_objects as go\n",
    "import proplot as pplt\n",
    "from ipywidgets import interactive\n",
    "from ipywidgets import widgets\n",
    "\n",
    "sys.path.append('../..')\n",
    "from tools.energyVS06 import EnergyCalculate\n",
    "from tools import image_processing as ip\n",
    "from tools import plotting as mplt\n",
    "from tools import utils"
   ]
  },
  {
   "cell_type": "code",
   "execution_count": null,
   "id": "30e18ef3-72eb-4bbb-8a46-312e12e79470",
   "metadata": {},
   "outputs": [],
   "source": [
    "pplt.rc['grid'] = False\n",
    "pplt.rc['cmap.discrete'] = False\n",
    "pplt.rc['cmap.sequential'] = 'viridis'"
   ]
  },
  {
   "cell_type": "markdown",
   "id": "d5520f6f-fd27-4d17-b3a4-ef75dfb6bd12",
   "metadata": {},
   "source": [
    "## Setup"
   ]
  },
  {
   "cell_type": "code",
   "execution_count": null,
   "id": "95d58271-8d76-4dbf-a7fc-54e153426345",
   "metadata": {},
   "outputs": [],
   "source": [
    "folder = '_saved/2022-07-15-VS06/'"
   ]
  },
  {
   "cell_type": "code",
   "execution_count": null,
   "id": "9416a2c7-d72a-4f55-a781-f3a26fbcf47b",
   "metadata": {},
   "outputs": [],
   "source": [
    "info = utils.load_pickle(join(folder, 'info.pkl'))\n",
    "print('info')\n",
    "pprint(info)"
   ]
  },
  {
   "cell_type": "code",
   "execution_count": null,
   "id": "697eb6d5-be4c-4923-97af-8214075640bd",
   "metadata": {},
   "outputs": [],
   "source": [
    "datadir = info['datadir']\n",
    "filename = info['filename']\n",
    "datadir = info['datadir']\n",
    "file = h5py.File(join(datadir, 'preproc-' + filename + '.h5'), 'r')\n",
    "data_sc = file['/scalardata']\n",
    "data_wf = file['/wfdata']\n",
    "data_im = file['/imagedata']\n",
    "\n",
    "print('Attributes:')\n",
    "print()\n",
    "for data in [data_sc, data_wf, data_im]:\n",
    "    print(data.name)\n",
    "    for item in data.dtype.fields.items():\n",
    "        print(item)\n",
    "    print()"
   ]
  },
  {
   "cell_type": "code",
   "execution_count": null,
   "id": "44490d1e-e17d-4aea-9b3d-0331dcfa266b",
   "metadata": {},
   "outputs": [],
   "source": [
    "variables = info['variables']\n",
    "keys = list(variables)\n",
    "nsteps = np.array([variables[key]['steps'] for key in keys])\n",
    "\n",
    "acts = info['acts']\n",
    "print(acts)\n",
    "points = np.vstack([data_sc[act] for act in acts]).T\n",
    "points = points[:, ::-1]  # y, x2, x --> x, x2, y\n",
    "nsteps = nsteps[::-1]\n",
    "\n",
    "cam = info['cam']\n",
    "print(f\"cam = '{cam}'\")\n",
    "if cam.lower() not in ['cam06', 'cam34']:\n",
    "    raise ValueError(f\"Unknown camera name '{cam}'.\")"
   ]
  },
  {
   "cell_type": "markdown",
   "id": "5d514eeb-318b-4765-8ba6-c893c39a1612",
   "metadata": {},
   "source": [
    "## Convert to beam frame coordinates"
   ]
  },
  {
   "cell_type": "code",
   "execution_count": null,
   "id": "c28655b7-ec45-4890-aef2-dcef5462197d",
   "metadata": {},
   "outputs": [],
   "source": [
    "## y_slit is inserted from above, always opposite y_beam.\n",
    "points[:, 2] = -points[:, 2]\n",
    "\n",
    "## Screen coordinates (x3, y3) are always opposite beam (x, y).\n",
    "image_shape = info['image_shape']\n",
    "x3grid = -np.arange(image_shape[1]) * info['image_pix2mm_x'] \n",
    "y3grid = -np.arange(image_shape[0]) * info['image_pix2mm_y']\n",
    "\n",
    "# VT04/VT06 are same sign as x_beam; VT34a and VT34b are opposite.\n",
    "if cam.lower() == 'cam34':\n",
    "    points[:, :2] = -points[:, :2]"
   ]
  },
  {
   "cell_type": "markdown",
   "id": "dc354e33-9acf-4f4a-9661-896b3bd64ffa",
   "metadata": {},
   "source": [
    "## Setup interpolation grids"
   ]
  },
  {
   "cell_type": "markdown",
   "id": "ecef285b-289e-4aa9-96a5-725621db275f",
   "metadata": {},
   "source": [
    "Build the transfer matrices between the slits and the screen. "
   ]
  },
  {
   "cell_type": "code",
   "execution_count": null,
   "id": "24b44335-667b-47d4-9a89-2e5d25acf564",
   "metadata": {
    "scrolled": true,
    "tags": []
   },
   "outputs": [],
   "source": [
    "# Eventually switch to saving metadata dict as pickled file in Step 0, then loading here.\n",
    "_file = h5py.File(join(datadir, filename + '.h5'), 'r')\n",
    "if 'config' in _file:\n",
    "    config = _file['config']\n",
    "    metadata = dict()\n",
    "    for name in config['metadata'].dtype.names:\n",
    "        metadata[name] = config['metadata'][name]\n",
    "else:\n",
    "    # Older measurement; metadata is in json file.\n",
    "    metadata = json.load(open(join(datadir, filename + '-metadata.json'), 'r'))\n",
    "    _metadata = dict()\n",
    "    for _dict in metadata.values():\n",
    "        for key, value in _dict.items():\n",
    "            _metadata[key] = value\n",
    "    metadata = _metadata\n",
    "pprint(metadata)\n",
    "_file.close()"
   ]
  },
  {
   "cell_type": "code",
   "execution_count": null,
   "id": "82542f1b-7829-44e7-8b0e-84a389967280",
   "metadata": {},
   "outputs": [],
   "source": [
    "dipole_current = 0.0  # deviation of dipole current from nominal\n",
    "l = 0.129  # dipole face to screen (assume same for first/last dipole-screen)\n",
    "if cam.lower() == 'cam06':\n",
    "    GL05 = 0.0  # QH05 integrated field strength (1 [A] = 0.0778 [Tm])\n",
    "    GL06 = 0.0  # QH06 integrated field strength (1 [A] = 0.0778 [Tm])\n",
    "    l1 = 0.280  # slit1 to QH05 center\n",
    "    l2 = 0.210  # QH05 center to QV06 center\n",
    "    l3 = 0.457  # QV06 center to slit2\n",
    "    L2 = 0.599  # slit2 to dipole face    \n",
    "    rho_sign = +1.0  # dipole bend radius sign\n",
    "    if GL05 == 0.0 and metadata['BTF_MEBT_Mag:PS_QH05:I_Set'] != 0.0:\n",
    "        print('Warning: QH05 is turned on according to metadata.')\n",
    "    if GL05 != 0.0 and metadata['BTF_MEBT_Mag:PS_QH05:I_Set'] == 0.0:\n",
    "        print('Warning: QH05 is turned off according to metadata.')\n",
    "    if GL06 == 0.0 and metadata['BTF_MEBT_Mag:PS_QV06:I_Set'] != 0.0:\n",
    "        print('Warning: QH06 is turned on according to metadata.')\n",
    "    if GL06 != 0.0 and metadata['BTF_MEBT_Mag:PS_QV06:I_Set'] == 0.0:\n",
    "        print('Warning: QH06 is turned off according to metadata.')\n",
    "elif cam.lower() == 'cam34':\n",
    "    GL05 = 0.0  # QH05 integrated field strength\n",
    "    GL06 = 0.0  # QH06 integrated field strength\n",
    "    l1 = 0.000  # slit1 to QH05 center\n",
    "    l2 = 0.000  # QH05 center to QV06 center\n",
    "    l3 = 0.774  # QV06 center to slit2\n",
    "    L2 = 0.311  # slit2 to dipole face\n",
    "    # Weird... I can only get the right answer for energy if I *do not* flip rho,\n",
    "    # x1, x2, and x3. I then flip x and xp at the very end.\n",
    "    rho_sign = +1.0  # dipole bend radius sign\n",
    "    x3grid = -x3grid\n",
    "    points[:, :2] = -points[:, :2]\n",
    "LL = l1 + l2 + l3 + L2  # distance from emittance plane to dipole entrance\n",
    "ecalc = EnergyCalculate(l1=l1, l2=l2, l3=l3, L2=L2, l=l, rho_sign=rho_sign)\n",
    "Mslit = ecalc.getM1(GL05=GL05, GL06=GL06)  # slit-slit\n",
    "Mscreen = ecalc.getM(GL05=GL05, GL06=GL06)  # slit-screen"
   ]
  },
  {
   "cell_type": "markdown",
   "id": "745cc708-08bd-496b-b3dd-aac2399733c7",
   "metadata": {},
   "source": [
    "Convert to x'."
   ]
  },
  {
   "cell_type": "code",
   "execution_count": null,
   "id": "8b5159c6-faba-4d60-b69f-4a6e84d203e7",
   "metadata": {},
   "outputs": [],
   "source": [
    "points[:, 1] = 1e3 * ecalc.calculate_xp(points[:, 0] * 1e-3, points[:, 1] * 1e-3, Mslit) "
   ]
  },
  {
   "cell_type": "markdown",
   "id": "ceed66df-db4e-4b6d-bb7c-e43597d9467b",
   "metadata": {},
   "source": [
    "Center points at zero."
   ]
  },
  {
   "cell_type": "code",
   "execution_count": null,
   "id": "138d2f0c-10b6-4b42-a0d0-68ec09bbce64",
   "metadata": {},
   "outputs": [],
   "source": [
    "points -= np.mean(points, axis=0)"
   ]
  },
  {
   "cell_type": "markdown",
   "id": "702a3acc-16d8-4e30-9840-fcbcc3b8d22d",
   "metadata": {},
   "source": [
    "## Estimate pix2mm calibration from y-y'"
   ]
  },
  {
   "cell_type": "code",
   "execution_count": null,
   "id": "78a9e4ff-9e9f-4a11-a3da-c4a33906732d",
   "metadata": {},
   "outputs": [],
   "source": [
    "mins = np.min(points, axis=0)\n",
    "maxs = np.max(points, axis=0)\n",
    "scales = [1.1, 1.6, 1.1]\n",
    "ns = np.multiply(scales, nsteps + 1).astype(int)\n",
    "xgrid, xpgrid, ygrid = [np.linspace(umin, umax, n) for (umin, umax, n) in zip(mins, maxs, ns)]\n",
    "\n",
    "iterations = data_sc['iteration']\n",
    "iteration_nums = np.unique(iterations)\n",
    "n_iterations = len(iteration_nums)\n",
    "kws = dict(kind='linear', copy=True, bounds_error=False, fill_value=0.0, assume_sorted=False)\n",
    "\n",
    "f_yy3 = np.zeros((len(ygrid), len(y3grid)))\n",
    "for iteration in tqdm(iteration_nums):\n",
    "    idx, = np.where(iterations == iteration)\n",
    "    _points = points[idx, 2]\n",
    "    _values = data_im[idx, cam + '_Image'].reshape((len(idx), len(y3grid), len(x3grid))).sum(axis=-1)\n",
    "    _, uind = np.unique(_points, return_index=True)\n",
    "    fint = interpolate.interp1d(_points[uind], _values[uind], axis=0, **kws)\n",
    "    f_yy3 += fint(ygrid)\n",
    "f_yy3 = f_yy3 / n_iterations"
   ]
  },
  {
   "cell_type": "code",
   "execution_count": null,
   "id": "b4d4291a-204d-458e-b65c-45576bc80466",
   "metadata": {},
   "outputs": [],
   "source": [
    "fig, ax = pplt.subplots()\n",
    "mplt.plot_image(f_yy3, x=ygrid, y=y3grid, ax=ax, colorbar=True)\n",
    "ax.format(xlabel=\"y [mm]\", ylabel=\"y3 [mm]\", title='Original pix2mm')"
   ]
  },
  {
   "cell_type": "code",
   "execution_count": null,
   "id": "5a72cb84-d1f3-4b80-8f0c-cac7b37686ff",
   "metadata": {},
   "outputs": [],
   "source": [
    "old_pix2mm = info['cam_pix2mm_x']  # zoom=0.33, raw image\n",
    "new_pix2mm = 0.08  # zoom=0.33, raw image\n",
    "ratio = new_pix2mm / old_pix2mm\n",
    "\n",
    "print('old pix2mm:', old_pix2mm)\n",
    "print('estimated new pix2mm:', new_pix2mm)\n",
    "print('ratio:', ratio)"
   ]
  },
  {
   "cell_type": "code",
   "execution_count": null,
   "id": "0d22699d-644b-4e15-beb8-c323528364a6",
   "metadata": {},
   "outputs": [],
   "source": [
    "fac = ratio  # scale assumed (wrong) pix2mm by this factor\n",
    "print('Old pix2mm =', info['cam_pix2mm_x'] / 3.0)\n",
    "print('New pix2mm =', fac * info['cam_pix2mm_x'] / 3.0)\n",
    "_x3grid = x3grid * fac\n",
    "_y3grid = y3grid * fac\n",
    "\n",
    "YP = np.zeros((len(ygrid), len(_y3grid)))\n",
    "for k, y in enumerate(ygrid):\n",
    "    YP[k] = 1e3 * ecalc.calculate_yp(1e-3 * y, 1e-3 * _y3grid, Mscreen)\n",
    "ypgrid = np.linspace(np.min(YP), np.max(YP), int(1.1 * len(_y3grid)))\n",
    "\n",
    "W = np.zeros((len(xgrid), len(xpgrid), len(_x3grid)))\n",
    "for i, x in enumerate(xgrid):\n",
    "    for j, xp in enumerate(xpgrid):\n",
    "        W[i, j] = ecalc.calculate_dE_screen(1e-3 * _x3grid, dipole_current, 1e-3 * x, 1e-3 * xp, Mscreen)\n",
    "wgrid = np.linspace(np.min(W), np.max(W), int(1.1 * len(_x3grid)))\n",
    "\n",
    "# Interpolate y3 -> y'.\n",
    "f_yyp = np.zeros((len(ygrid), len(ypgrid)))\n",
    "for i in range(len(ygrid)):\n",
    "    _points = YP[i, :]\n",
    "    _values = f_yy3[i, :]\n",
    "    fint = interpolate.interp1d(_points, _values, axis=0, **kws)\n",
    "    f_yyp[i, :] = fint(ypgrid)\n",
    "        \n",
    "fig, ax = pplt.subplots()\n",
    "_ygrid = ygrid - np.average(ygrid, weights=np.sum(f_yyp, axis=1))\n",
    "_ypgrid = ypgrid - np.average(ypgrid, weights=np.sum(f_yyp, axis=0))\n",
    "mplt.plot_image(f_yyp / np.max(f_yyp), x=_ygrid, y=_ypgrid, ax=ax, colorbar=True, \n",
    "                # discrete=True,\n",
    "                norm='log', vmin=0.001, vmax=1.0,\n",
    "                thresh=1e-4, thresh_type='frac',\n",
    "                contour=True, \n",
    "                contour_kws=dict(levels=[0.001, 0.01, 0.1, 0.5], labels=True),\n",
    "                )\n",
    "ax.format(xlabel=\"y [mm]\", ylabel=\"yp [mrad]\", title='New pix2mm')\n",
    "ax.format(xlim=(-12.0, 12.0), ylim=(-7.5, 7.5))\n",
    "plt.show()\n",
    "\n",
    "from tools import analysis as ba\n",
    "Sigma, mu = ba.dist_cov(f_yyp, (ygrid, ypgrid), disp=False)\n",
    "print(Sigma)\n",
    "ba.beam_stats(Sigma)"
   ]
  },
  {
   "cell_type": "markdown",
   "id": "c0938d9f-2f49-4181-a886-6939dca3f0e9",
   "metadata": {},
   "source": [
    "Compute rms energy spread as well."
   ]
  },
  {
   "cell_type": "code",
   "execution_count": null,
   "id": "1afb749f-3663-40c9-9332-d94f20214e1c",
   "metadata": {},
   "outputs": [],
   "source": [
    "_x3grid = fac * x3grid\n",
    "XXP = []\n",
    "pws = []\n",
    "for iteration in tqdm(iteration_nums):\n",
    "    idx, = np.where(iterations == iteration)\n",
    "    x, xp = np.mean(points[idx, :2], axis=0)\n",
    "    _points = ecalc.calculate_dE_screen(1e-3 * _x3grid, dipole_current, 1e-3 * x, 1e-3 * xp, Mscreen)\n",
    "    _values = data_im[idx, cam + '_Image'].reshape((len(idx), len(y3grid), len(x3grid))).sum(axis=(0, 1))\n",
    "    fint = interpolate.interp1d(_points, _values, **kws)\n",
    "    pws.append(fint(wgrid))\n",
    "    XXP.append([x, xp])\n",
    "pws = np.array(pws)\n",
    "XXP = np.array(XXP)"
   ]
  },
  {
   "cell_type": "code",
   "execution_count": null,
   "id": "c43393dc-5686-4890-bc99-a1ae86457525",
   "metadata": {},
   "outputs": [],
   "source": [
    "f_xxpw = np.zeros((len(xgrid), len(xpgrid), len(wgrid)))\n",
    "_new_points = utils.get_grid_coords(xgrid, xpgrid)\n",
    "for k in trange(len(wgrid)):\n",
    "    _points = XXP\n",
    "    _values = pws[:, k]\n",
    "    _new_values = interpolate.griddata(_points, _values, _new_points, method='linear', fill_value=False)\n",
    "    f_xxpw[:, :, k] = _new_values.reshape((len(xgrid), len(xpgrid)))"
   ]
  },
  {
   "cell_type": "code",
   "execution_count": null,
   "id": "0f26d449-3736-4027-a474-00d64301f267",
   "metadata": {},
   "outputs": [],
   "source": [
    "_xgrid = xgrid - np.average(xgrid, weights=utils.project(f_xxpw, axis=0))\n",
    "_xpgrid = xpgrid - np.average(xpgrid, weights=utils.project(f_xxpw, axis=1))\n",
    "_wgrid = wgrid - np.average(wgrid, weights=utils.project(f_xxpw, axis=2))\n",
    "# mplt.interactive_proj1d(f_xxpw, coords=[_xgrid, _xpgrid, _wgrid], dims=['x', 'xp', 'w'])\n",
    "\n",
    "fig, ax = pplt.subplots()\n",
    "ax.plot(_wgrid, utils.project(f_xxpw, axis=2))"
   ]
  },
  {
   "cell_type": "code",
   "execution_count": null,
   "id": "88d20cbb-08b3-4e37-8a30-27fb0382a450",
   "metadata": {},
   "outputs": [],
   "source": []
  }
 ],
 "metadata": {
  "kernelspec": {
   "display_name": "myenv",
   "language": "python",
   "name": "myenv"
  },
  "language_info": {
   "codemirror_mode": {
    "name": "ipython",
    "version": 3
   },
   "file_extension": ".py",
   "mimetype": "text/x-python",
   "name": "python",
   "nbconvert_exporter": "python",
   "pygments_lexer": "ipython3",
   "version": "3.9.7"
  },
  "toc-autonumbering": false
 },
 "nbformat": 4,
 "nbformat_minor": 5
}
