{
 "cells": [
  {
   "cell_type": "markdown",
   "id": "7a6a345b-4755-4a21-8c4c-72ab506dd637",
   "metadata": {},
   "source": [
    "# 6D scan"
   ]
  },
  {
   "cell_type": "code",
   "execution_count": null,
   "id": "6b3f6ec5-c39a-4172-b74b-7656bc8a9271",
   "metadata": {},
   "outputs": [],
   "source": [
    "import sys\n",
    "import os\n",
    "from os.path import join\n",
    "from datetime import datetime\n",
    "import importlib\n",
    "from pprint import pprint\n",
    "import json\n",
    "import numpy as np\n",
    "import pandas as pd\n",
    "import h5py\n",
    "import skimage\n",
    "from tqdm import trange\n",
    "from tqdm import tqdm\n",
    "from matplotlib import pyplot as plt\n",
    "from matplotlib import patches\n",
    "import proplot as pplt\n",
    "\n",
    "sys.path.append('..')\n",
    "from tools import image_processing as ip\n",
    "from tools import plotting as mplt\n",
    "from tools import utils"
   ]
  },
  {
   "cell_type": "code",
   "execution_count": null,
   "id": "13ce0cb5-30ef-433c-873f-0b9d8533869d",
   "metadata": {},
   "outputs": [],
   "source": [
    "pplt.rc['grid'] = False\n",
    "pplt.rc['cmap.sequential'] = 'viridis'\n",
    "pplt.rc['cmap.discrete'] = False"
   ]
  },
  {
   "cell_type": "markdown",
   "id": "ee97339a-61bb-4fb8-a216-2a8b95e06574",
   "metadata": {},
   "source": [
    "## Load data "
   ]
  },
  {
   "cell_type": "code",
   "execution_count": null,
   "id": "4015ae65-d006-436c-b61d-c5d82839eaaf",
   "metadata": {},
   "outputs": [],
   "source": [
    "datadir = '/Diagnostics/Data/Measurements/scan6d/2021-11-30/'\n",
    "filenames = os.listdir(datadir)\n",
    "filenames"
   ]
  },
  {
   "cell_type": "code",
   "execution_count": null,
   "id": "87f6802c-1801-49b9-b67b-69b2fff12955",
   "metadata": {},
   "outputs": [],
   "source": [
    "filename = '211130223317-scan6d'"
   ]
  },
  {
   "cell_type": "code",
   "execution_count": null,
   "id": "89f95501-b95c-4049-b6a3-274236d6d101",
   "metadata": {},
   "outputs": [],
   "source": [
    "_filename = filename + '-scalars-only' + '.h5'\n",
    "file = h5py.File(join(datadir, _filename), 'r')\n",
    "print(list(file))"
   ]
  },
  {
   "cell_type": "code",
   "execution_count": null,
   "id": "c8cef983-a4ac-4f0e-abbc-96dfc9708862",
   "metadata": {},
   "outputs": [],
   "source": [
    "if 'config' in file:\n",
    "    config = file['config']\n",
    "    print(f\"'config', {type(config)}\")\n",
    "    for key in config:\n",
    "        print(f\"  '{key}', {type(config[key])}\")\n",
    "        for name in config[key].dtype.names:\n",
    "            print(f'    {name}: {config[key][name]}')\n",
    "    # Make dictionary of metadata\n",
    "    metadata = dict()\n",
    "    for name in config['metadata'].dtype.names:\n",
    "        metadata[name] = config['metadata'][name]\n",
    "else:\n",
    "    # Older measurement; metadata is in json file.\n",
    "    metadata = json.load(open(join(datadir, filename + '-metadata.json'), 'r'))\n",
    "    _metadata = dict()\n",
    "    for _dict in metadata.values():\n",
    "        for key, value in _dict.items():\n",
    "            _metadata[key] = value\n",
    "    metadata = _metadata\n",
    "    print('metadata:')\n",
    "    pprint(metadata)"
   ]
  },
  {
   "cell_type": "code",
   "execution_count": null,
   "id": "22ef6fe8-4444-4f64-996a-d5efc0ac480d",
   "metadata": {},
   "outputs": [],
   "source": [
    "if 'log' in file:\n",
    "    log = file['log']\n",
    "    print(f\"'log', {type(log)}\")\n",
    "    for item in log.dtype.fields.items():\n",
    "        print('  ', item)\n",
    "\n",
    "    print('\\nErrors and warnings:')\n",
    "    for i in range(log.size):\n",
    "        if not(log[i, 'level'] == 'INFO'.encode('utf')):\n",
    "            timestr = datetime.fromtimestamp(log[i, 'timestamp']).strftime(\"%m/%d/%Y, %H:%M:%S\")\n",
    "            print(f\"{timestr} {log[i, 'message']}\")\n",
    "else:\n",
    "    f = open(join(datadir, '211130223317-scan6d.txt'), 'r')\n",
    "    for line in f:\n",
    "        print(line.rstrip())\n",
    "    f.close()"
   ]
  },
  {
   "cell_type": "code",
   "execution_count": null,
   "id": "653fe0d3-c75c-4e97-8f98-fb652c176879",
   "metadata": {},
   "outputs": [],
   "source": [
    "data = file['scandata']\n",
    "\n",
    "print(f\"'scandata', {type(data)}\")\n",
    "for item in data.dtype.fields.items():\n",
    "    print('  ', item)\n",
    "print(f\"nbytes = {data.nbytes:.3e}\")"
   ]
  },
  {
   "cell_type": "markdown",
   "id": "60ed9c73-3ccc-4436-95e5-c2a5ce582c95",
   "metadata": {},
   "source": [
    "## Scan overview "
   ]
  },
  {
   "cell_type": "code",
   "execution_count": null,
   "id": "6e3f2f85-141b-46bf-90a8-9741eb7ef3f0",
   "metadata": {},
   "outputs": [],
   "source": [
    "acts = ['y_PositionSync', 'xp_PositionSync', 'x_PositionSync', 'yp_Readback', 'I_CurrentRb', 'phase_Set', 'steerI_Set']"
   ]
  },
  {
   "cell_type": "code",
   "execution_count": null,
   "id": "f6a5c47e-ad7e-4678-9045-aa58ee9ddcb1",
   "metadata": {},
   "outputs": [],
   "source": [
    "for act in acts:\n",
    "    fig, ax = pplt.subplots(figsize=(10.0, 1.5))\n",
    "    ax.plot(data[act], color='black')\n",
    "    ax.format(xlabel='Point', ylabel=act, ygrid=False)\n",
    "    plt.show()"
   ]
  },
  {
   "cell_type": "markdown",
   "id": "ad721e68-bd9f-44ed-9385-7b50764e27f2",
   "metadata": {},
   "source": [
    "## How big does an ellipsoid have to be to enclose the points?"
   ]
  },
  {
   "cell_type": "markdown",
   "id": "1691a48b-dc64-4a20-9098-418c47958a70",
   "metadata": {},
   "source": [
    "Here are the slit ranges/correlations."
   ]
  },
  {
   "cell_type": "code",
   "execution_count": null,
   "id": "40b27e27-e82b-42cf-a5e6-ad121e142f15",
   "metadata": {},
   "outputs": [],
   "source": [
    "slit_dict = {\n",
    "    'y': {\n",
    "        'center': 14.5,\n",
    "        'distance': 20.0,\n",
    "        'steps': 32,\n",
    "    },\n",
    "    'xp': {\n",
    "        'center': 13.0,\n",
    "        'distance': 11.0,\n",
    "        'steps': 8,\n",
    "    },\n",
    "    'x': {\n",
    "        'center': 13.0,\n",
    "        'distance': 15.0,\n",
    "        'steps': 8,\n",
    "    },\n",
    "    'yp': {\n",
    "        'center': 67.5,\n",
    "        'distance': 14.0,\n",
    "        'steps': 8,\n",
    "    },\n",
    "    'I': {\n",
    "        'center': 359.0,\n",
    "        'distance': 14.0,\n",
    "        'steps': 10,\n",
    "    },\n",
    "    'phase': {\n",
    "        'center': 0.0,  # should be `caget(phaseset_name)`\n",
    "        'distance': 0.0,\n",
    "        'steps': 0,\n",
    "    },\n",
    "    'steerI': {\n",
    "        'center': 0.0,  # should be `caget(steerset_name)`\n",
    "        'distance': 0.0,\n",
    "        'steps': 0,\n",
    "    },\n",
    "}\n",
    "keys = ['y', 'xp', 'x', 'yp', 'I', 'phase', 'steerI']\n",
    "center = np.array([slit_dict[key]['center'] for key in keys])\n",
    "distance = np.array([slit_dict[key]['distance'] for key in keys])\n",
    "steps = np.array([slit_dict[key]['steps'] for key in keys])"
   ]
  },
  {
   "cell_type": "code",
   "execution_count": null,
   "id": "b7d6963e-5c23-442b-bddb-c37c0b3efc6f",
   "metadata": {},
   "outputs": [],
   "source": [
    "ndim = len(slit_dict)\n",
    "M = np.identity(ndim)  # (y1, x2, x1, y2 (bsm wire)\n",
    "# 0 y1 (Slit_HZ04)\n",
    "# 1 x2 (Slit_VT06)\n",
    "# 2 x1 (Slit_VT04)\n",
    "# 3 y2 (bsm wire)\n",
    "# 4 I_dipole\n",
    "# 5 phi_bsm\n",
    "# 6 steerI_bsm\n",
    "\n",
    "M[0, 3] = -0.35  # dy / dyp\n",
    "M[1, 2] = 0.65  # dxp / dx\n",
    "M[1, 4] = -0.15  # dxp / dI\n",
    "M[2, 4] = -0.15  # dx / dI\n",
    "\n",
    "M[5, 0] = 0.0  # dphi_bsm / dy\n",
    "M[5, 1] = -3.0  # dphi_bsm / dxp\n",
    "M[5, 2] = 12.0  # dphi_bsm / dx\n",
    "M[5, 3] = 2.7  # dphi_bsm / dyp\n",
    "M[5, 4] = 57.1  # dphi_bsm / dI\n",
    "\n",
    "M[6, 1] = 0.0 # dsteerI / dxp \n",
    "M[6, 2] = -4.0  # dsteerI / dx\n",
    "M[6, 4] = 0.0  # dsteerI / dI "
   ]
  },
  {
   "cell_type": "code",
   "execution_count": null,
   "id": "9e032bc2-eada-4274-9ea2-25cbe9a460f6",
   "metadata": {},
   "outputs": [],
   "source": [
    "# Some points have a huge camera integral. I think these are the \"flashes\" you see on \n",
    "# when using the BSM; I forgot what they are. Try cutting off these points.\n",
    "saturation = data['cam08_Saturation'].copy()\n",
    "saturation_cutoff = 0.5\n",
    "idx_sat, = np.where(saturation > saturation_cutoff)\n",
    "div = 1  # split scan into `div` parts\n",
    "length = len(data) // div  # number of points per divigions\n",
    "for i in range(div):\n",
    "    lo = i * length\n",
    "    hi = (i + 1) * length\n",
    "    idx = np.arange(lo, hi)\n",
    "    fig, ax = pplt.subplots(figsize=(8.0, 1.6))\n",
    "    ax.plot(idx, saturation[idx], color='black', marker='.', lw=0, ms=1, alpha=0.5)\n",
    "    ax.axhline(saturation_cutoff, color='red')\n",
    "    ax.format(xlabel='Point', ylabel='cam08_Saturation')\n",
    "    # plt.savefig('_output/sat_cutoff.png')\n",
    "    plt.show()"
   ]
  },
  {
   "cell_type": "code",
   "execution_count": null,
   "id": "4e3f6879-793c-4380-b8ad-762a647e48d2",
   "metadata": {},
   "outputs": [],
   "source": [
    "signal = data['cam08_Integral'].copy()\n",
    "signal = signal - np.min(signal)"
   ]
  },
  {
   "cell_type": "code",
   "execution_count": null,
   "id": "819d3fb8-e7dd-4c25-b09c-3fdf1b9a01e4",
   "metadata": {},
   "outputs": [],
   "source": [
    "for yscale in [None, 'log']:\n",
    "    for i in range(div):\n",
    "        lo = i * len(signal) // div \n",
    "        hi = (i + 1) * len(signal) // div \n",
    "        idx = np.arange(lo, hi)\n",
    "        \n",
    "        fig, ax = pplt.subplots(figsize=(8.0, 2.0))\n",
    "        ax.plot(idx, signal[idx], color='lightgray')\n",
    "        ax.plot(idx_sat, signal[idx_sat], color='red', marker='.', lw=0, ms=1, label='above sat cutoff')\n",
    "        ax.legend(loc='upper left')\n",
    "        ax.format(xlabel='Point', ylabel='signal')\n",
    "        ax.format(yscale=yscale)\n",
    "        # plt.savefig(f'_output/highsatpoints_{yscale}.png')\n",
    "        plt.show()"
   ]
  },
  {
   "cell_type": "code",
   "execution_count": null,
   "id": "d51e400a-2607-4e96-a011-a431c9d43b68",
   "metadata": {},
   "outputs": [],
   "source": [
    "int_cutoff = 5.0\n",
    "for yscale in [None, 'log']:\n",
    "    for i in range(div):\n",
    "        lo = i * len(signal) // div \n",
    "        hi = (i + 1) * len(signal) // div \n",
    "        idx = np.arange(lo, hi)\n",
    "        \n",
    "        fig, ax = pplt.subplots(figsize=(8.0, 2.0))\n",
    "        ax.plot(idx, signal[idx], color='lightgray')\n",
    "        ax.axhline(int_cutoff, color='red', label='cutoff')\n",
    "        ax.legend(loc='upper left')\n",
    "        ax.format(xlabel='Point', ylabel='signal')\n",
    "        ax.format(yscale=yscale)\n",
    "        # plt.savefig(f'_output/cutoff{yscale}.png')\n",
    "        plt.show()"
   ]
  },
  {
   "cell_type": "code",
   "execution_count": null,
   "id": "39f5534b-cb14-4da2-a0dd-04861e334412",
   "metadata": {},
   "outputs": [],
   "source": [
    "idx_int, = np.where(signal > int_cutoff)\n",
    "for yscale in [None, 'log']:\n",
    "    for i in range(div):\n",
    "        lo = i * len(signal) // div \n",
    "        hi = (i + 1) * len(signal) // div \n",
    "        idx = np.arange(lo, hi)\n",
    "        \n",
    "        fig, ax = pplt.subplots(figsize=(8.0, 2.0))\n",
    "        ax.plot(idx, signal[idx], color='lightgray')\n",
    "        ax.plot(idx_sat, signal[idx_sat], color='red', marker='.', lw=0, ms=1, label='above sat cutoff')\n",
    "        ax.plot(idx_int, signal[idx_int], color='blue', marker='.', lw=0, ms=1, label='above int cutoff')\n",
    "        ax.legend(loc='upper left', ncols=1)\n",
    "        ax.format(xlabel='Point', ylabel='signal')\n",
    "        ax.format(yscale=yscale)\n",
    "        # plt.savefig(f'_output/cutoff3{yscale}.png')\n",
    "        plt.show()"
   ]
  },
  {
   "cell_type": "code",
   "execution_count": null,
   "id": "3f100975-cc09-4dfc-a273-a5360d59cb4b",
   "metadata": {},
   "outputs": [],
   "source": [
    "idx_int, = np.where(signal > int_cutoff)\n",
    "for yscale in [None, 'log']:\n",
    "    for i in range(div):\n",
    "        lo = i * len(signal) // div \n",
    "        hi = (i + 1) * len(signal) // div \n",
    "        idx = np.arange(lo, hi)\n",
    "        \n",
    "        fig, ax = pplt.subplots(figsize=(10.0, 2.0))\n",
    "        ax.plot(idx, signal[idx], color='lightgray')\n",
    "        ax.plot(idx_int, signal[idx_int], color='red', marker='.', lw=0, ms=1, label='above int cutoff')\n",
    "        ax.legend(loc='upper left')\n",
    "        ax.format(xlabel='Point', ylabel='signal')\n",
    "        ax.format(yscale=yscale)\n",
    "        # plt.savefig(f'_output/cutoff2{yscale}.png')\n",
    "        plt.show()"
   ]
  },
  {
   "cell_type": "code",
   "execution_count": null,
   "id": "600bb1dc-990e-4098-8a7e-761b38837a42",
   "metadata": {},
   "outputs": [],
   "source": [
    "signal = data['cam08_Integral'].copy()\n",
    "signal = signal - np.min(signal)\n",
    "\n",
    "# Zero-out large saturation points and large integral points.\n",
    "floor = 0.0\n",
    "signal[idx_sat] = floor\n",
    "signal[signal > int_cutoff] = floor\n",
    "\n",
    "# Normalize to range [0, 1] and apply threshold as fraction of peak signal.\n",
    "signal = signal / np.max(signal)\n",
    "thresh = 0.09\n",
    "valid, = np.where(signal >= thresh)\n",
    "\n",
    "for yscale in [None, 'log']:\n",
    "    for i in range(div):\n",
    "        lo = i * len(signal) // div \n",
    "        hi = (i + 1) * len(signal) // div \n",
    "        idx = np.arange(lo, hi)\n",
    "        _valid, = np.where(signal[idx] >= thresh)\n",
    "\n",
    "        fig, ax = pplt.subplots(figsize=(8.0, 2.5))\n",
    "        ax.plot(idx, signal[idx], color='lightgray', marker='.', lw=0, ms=0.75)\n",
    "        ax.plot(idx[_valid], signal[idx][_valid], color='black', marker='.', lw=0, ms=0.75)\n",
    "        ax.format(xlabel='Point', ylabel='signal')\n",
    "        ax.format(yscale=yscale)\n",
    "        # plt.savefig(f'_output/signal_{yscale}.png')\n",
    "        plt.show()"
   ]
  },
  {
   "cell_type": "code",
   "execution_count": null,
   "id": "c209e7d2-aea2-4878-8297-b153ef9f9e07",
   "metadata": {},
   "outputs": [],
   "source": [
    "signal = data['cam08_Integral'].copy()\n",
    "signal = signal - np.min(signal)\n",
    "\n",
    "# Zero-out large saturation points and large integral points.\n",
    "floor = 0.0\n",
    "signal[idx_sat] = floor\n",
    "signal[signal > int_cutoff] = floor\n",
    "\n",
    "# Normalize to range [0, 1] and apply threshold as fraction of peak signal.\n",
    "signal = signal / np.max(signal)\n",
    "thresh = 0.09\n",
    "\n",
    "for yscale in [None, 'log']:\n",
    "    fig, ax = pplt.subplots(figsize=(8.0, 2.5))\n",
    "    ax.plot(idx, signal[idx], color='black', marker='o', \n",
    "            ec='None', lw=0, ms=0.75,\n",
    "            alpha=0.2,\n",
    "           )\n",
    "    ax.format(xlabel='Point', ylabel='signal')\n",
    "    ax.format(yscale=yscale)\n",
    "    plt.savefig(f'_output/_signal_{yscale}.png')\n",
    "    plt.show()"
   ]
  },
  {
   "cell_type": "code",
   "execution_count": null,
   "id": "3c41e928-8173-4eaa-b368-e6352447280e",
   "metadata": {},
   "outputs": [],
   "source": [
    "n = 5  # dimensions to look at\n",
    "acts = ['y_PositionSync', 'xp_PositionSync', 'x_PositionSync', 'yp_Readback', 'I_CurrentRb']\n",
    "points = np.vstack([data[act] for act in acts[:n]]).T \n",
    "points_n = utils.apply(np.linalg.inv(M[:n, :n]), points - center[:n])  # remove correlations\n",
    "points_nn = points_n / (0.5 * distance[:n])  # scale within unit box"
   ]
  },
  {
   "cell_type": "code",
   "execution_count": null,
   "id": "c0e40aad-654d-499d-9b03-3c8c26b16837",
   "metadata": {},
   "outputs": [],
   "source": [
    "fig, ax = pplt.subplots()\n",
    "dims = ['y1', 'x2', 'x1', 'y2', 'I']\n",
    "dim1, dim2 = ('x1', 'x2')\n",
    "i, j = [dims.index(dim) for dim in (dim1, dim2)]\n",
    "ax.scatter(points_nn[:, i], points_nn[:, j],\n",
    "           c='lightgray', s=3)\n",
    "ax.scatter(points_nn[valid, i], points_nn[valid, j],\n",
    "           c='black', s=3)\n",
    "plt.show()"
   ]
  },
  {
   "cell_type": "code",
   "execution_count": null,
   "id": "bfb6866f-994a-4487-bf83-7df225714c1e",
   "metadata": {},
   "outputs": [],
   "source": [
    "radii = np.sqrt(np.sum(np.square(points_nn), axis=1))\n",
    "\n",
    "bins = 'auto'\n",
    "for yscale in [None, 'log']:\n",
    "    with pplt.rc.context(legendfontsize='medium'):\n",
    "        fig, ax = pplt.subplots(figsize=(3, 1.85))\n",
    "        ax.hist(radii, bins=bins, label='all', color='lightgrey')\n",
    "        ax.hist(radii[valid], bins=bins, label='above thresh', color='black')\n",
    "        ax.format(ylabel='num. points', xlabel='radius', yscale=yscale)\n",
    "        ax.legend(ncols=2, loc='top', framealpha=0)\n",
    "        plt.savefig(f'_output/radii_yscale{yscale}.png')\n",
    "        plt.show()\n",
    "        \n",
    "rmax = np.max(radii[valid])\n",
    "rmax"
   ]
  },
  {
   "cell_type": "code",
   "execution_count": null,
   "id": "2b561fed-70eb-4c68-ae6f-bd4eea59789c",
   "metadata": {},
   "outputs": [],
   "source": [
    "!pwd"
   ]
  },
  {
   "cell_type": "code",
   "execution_count": null,
   "id": "a3b73439-559f-492e-9638-f9ef9195e08e",
   "metadata": {},
   "outputs": [],
   "source": [
    "for yscale in [None, 'log']:\n",
    "    fig, axes = pplt.subplots(ncols=5, figwidth=9.0)\n",
    "    for th, ax in zip(np.linspace(0.0, 5.0, 5) * thresh, axes):     \n",
    "        _valid = signal >= th\n",
    "        ax.hist(radii, bins=bins, label='all', color='lightgrey')\n",
    "        ax.hist(radii[_valid], bins=bins, label='above thresh', color='black')\n",
    "        ax.format(title=f'{(th / thresh):.2f} thresh')\n",
    "    axes.format(ylabel='num. points', xlabel='radius', yscale=yscale)\n",
    "    axes[-1].legend(ncols=1, loc='r', framealpha=0)\n",
    "    plt.savefig(f'_output/radii_sub_yscale{yscale}.png')\n",
    "    plt.show()"
   ]
  },
  {
   "cell_type": "code",
   "execution_count": null,
   "id": "974b178b-2169-40e6-8e61-fbb94dbcd257",
   "metadata": {},
   "outputs": [],
   "source": [
    "ths = np.linspace(0.0, 0.1, 100)\n",
    "fracs = []\n",
    "for th in ths:\n",
    "    fracs.append(np.count_nonzero(signal >= th) / len(signal))\n",
    "\n",
    "    \n",
    "fig, ax = pplt.subplots(figsize=(2.5, 2))\n",
    "ax.plot(ths, fracs)\n",
    "ax.format(yscale='log', ylabel='Frac. signal > thresh', xlabel='thresh')"
   ]
  },
  {
   "cell_type": "code",
   "execution_count": null,
   "id": "9750c97c-f933-4d37-aeb9-db37d7185ee5",
   "metadata": {},
   "outputs": [],
   "source": [
    "frac = np.count_nonzero(radii <= rmax) / len(radii)\n",
    "print(frac)\n",
    "\n",
    "frac_signal = float(len(signal[valid])) / len(signal)\n",
    "print(f'{frac_signal:.3f}')\n",
    "\n",
    "volume_ratio = utils.volume_sphere(n=5, r=rmax) / utils.volume_box(n=5, r=1.0)\n",
    "print(volume_ratio)"
   ]
  },
  {
   "cell_type": "code",
   "execution_count": null,
   "id": "cc2a75fe-fac2-4f02-a21b-ebcac5ad45f3",
   "metadata": {},
   "outputs": [],
   "source": [
    "# dims = ['y1', 'x2', 'x1', 'y2', 'I']\n",
    "# for _points, title in zip((points, points_n, points_nn), ('true', 'upright', 'upright + scaled')):\n",
    "#     fig, axes = pplt.subplots(ncols=n, nrows=n, figwidth=n*1.5, spanx=False, spany=False)\n",
    "#     axes.format(suptitle=title)\n",
    "#     for i in range(n):\n",
    "#         for j in range(n):\n",
    "#             axes[i, j].scatter(_points[:, j], _points[:, i], c='black', ec='None', s=1)\n",
    "#         axes[i, 0].format(ylabel=dims[i])\n",
    "#         axes[-1, i].format(xlabel=dims[i])\n",
    "#     plt.show()"
   ]
  },
  {
   "cell_type": "code",
   "execution_count": null,
   "id": "a9f85c6f-7b87-4980-ba04-c6038262b5ef",
   "metadata": {},
   "outputs": [],
   "source": [
    "# _points = points_nn\n",
    "# _rmax = rmax\n",
    "\n",
    "# fig, axes = pplt.subplots(ncols=5, nrows=5, figwidth=5.0, spanx=False, spany=False)\n",
    "# for i in range(5):\n",
    "#     for j in range(5):\n",
    "#         ax = axes[i, j]\n",
    "#         ax.scatter(_points[:, j], _points[:, i], c='lightgray', ec='None', s=0.5)\n",
    "#         ax.scatter(_points[valid, j], _points[valid, i], c='black', ec='None', s=0.5)\n",
    "#         if i != j:\n",
    "#             ax.add_patch(patches.Ellipse((0.0, 0.0), 2.0 * _rmax, 2.0 * _rmax, color='red', fill=False))\n",
    "#     axes[i, 0].format(ylabel=dims[i])\n",
    "#     axes[-1, i].format(xlabel=dims[i])\n",
    "# # plt.savefig('_output/bounding_ellipse.png')\n",
    "# plt.show()"
   ]
  },
  {
   "cell_type": "code",
   "execution_count": null,
   "id": "8bcc9e2a-6de9-400a-b84c-fb6a91e13dc3",
   "metadata": {},
   "outputs": [],
   "source": [
    "importlib.reload(utils)"
   ]
  },
  {
   "cell_type": "code",
   "execution_count": null,
   "id": "668dcdce-0f58-436a-bc02-f2e76e75de20",
   "metadata": {},
   "outputs": [],
   "source": [
    "iterations = data['iteration'].copy()\n",
    "surface = utils.get_boundary_points(iterations, points, signal, thresh, pad=3.0, tol=False)"
   ]
  },
  {
   "cell_type": "code",
   "execution_count": null,
   "id": "2555d88e-793b-4dd2-9908-c7a9363a90ff",
   "metadata": {},
   "outputs": [],
   "source": [
    "!pwd"
   ]
  },
  {
   "cell_type": "code",
   "execution_count": null,
   "id": "6d1de002-c1e5-4c7b-bf3e-c2e52bb3c429",
   "metadata": {},
   "outputs": [],
   "source": [
    "fig, axes = pplt.subplots(ncols=n, nrows=n, figwidth=n*1.5, spanx=False, spany=False)\n",
    "for i in range(n):\n",
    "    for j in range(n):\n",
    "        ax = axes[i, j]\n",
    "        ax.scatter(points[:, j], points[:, i], c='lightgray', ec='None', s=0.5)\n",
    "        for spts in surface:\n",
    "            ax.scatter(\n",
    "                spts[:, j], \n",
    "                spts[:, i], \n",
    "                marker='s', \n",
    "                s=5,\n",
    "                color='pink1',\n",
    "            )\n",
    "        ax.scatter(points[valid, j], points[valid, i], c='black', ec='None', s=0.5)\n",
    "    axes[i, 0].format(ylabel=dims[i])\n",
    "    axes[-1, i].format(xlabel=dims[i])\n",
    "plt.savefig('corner.png')\n",
    "plt.show()"
   ]
  },
  {
   "cell_type": "code",
   "execution_count": null,
   "id": "00b9755e-3ee0-4d6f-b979-7201f964921a",
   "metadata": {},
   "outputs": [],
   "source": [
    "sys.path.append('/home/46h/btf-scripts')\n",
    "import scan_patterns as sp"
   ]
  },
  {
   "cell_type": "code",
   "execution_count": null,
   "id": "8078d6fd-76a7-4c5f-8e00-30df9832a32e",
   "metadata": {},
   "outputs": [],
   "source": [
    "import importlib\n",
    "importlib.reload(sp)\n",
    "\n",
    "# Run points generator\n",
    "navg = 1\n",
    "ndim = 5\n",
    "kws = dict(\n",
    "    variables=slit_dict, \n",
    "    M=M, \n",
    "    reprate=5.0,\n",
    "    navg=navg, \n",
    "    boundary='None',  # {None, 'ellipsoid'} \n",
    "    R=1.1,\n",
    "    exclude_outside_box=True,\n",
    "    surface=surface,\n",
    ")\n",
    "lgen = list(sp.gen(**kws))\n",
    "\n",
    "# # Reshape\n",
    "# if navg > 0:\n",
    "#     new_points = np.zeros((len(lgen), ndim))\n",
    "#     for i in range(len(lgen)):\n",
    "#         new_points[i, :] = lgen[i][0]\n",
    "# else:\n",
    "#     lgen = np.array(lgen)\n",
    "#     new_points = np.zeros((2 * lgen.shape[0], ndim))\n",
    "#     for i in range(ndim):\n",
    "#         new_points[:, i] = lgen[:, i, :2].ravel()\n",
    "    \n",
    "# # Un-shear generated points.\n",
    "# new_points_n = utils.apply(Minv, new_points - center)"
   ]
  },
  {
   "cell_type": "code",
   "execution_count": null,
   "id": "9ed39fff-66ee-476f-a149-bf98862cc52e",
   "metadata": {},
   "outputs": [],
   "source": []
  }
 ],
 "metadata": {
  "kernelspec": {
   "display_name": "Python 3 (ipykernel)",
   "language": "python",
   "name": "python3"
  },
  "language_info": {
   "codemirror_mode": {
    "name": "ipython",
    "version": 3
   },
   "file_extension": ".py",
   "mimetype": "text/x-python",
   "name": "python",
   "nbconvert_exporter": "python",
   "pygments_lexer": "ipython3",
   "version": "3.9.7"
  }
 },
 "nbformat": 4,
 "nbformat_minor": 5
}
