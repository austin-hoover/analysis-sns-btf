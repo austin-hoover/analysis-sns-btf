{
 "cells": [
  {
   "cell_type": "markdown",
   "id": "7a6a345b-4755-4a21-8c4c-72ab506dd637",
   "metadata": {},
   "source": [
    "# 6D scan setup/calibration"
   ]
  },
  {
   "cell_type": "code",
   "execution_count": null,
   "id": "6b3f6ec5-c39a-4172-b74b-7656bc8a9271",
   "metadata": {},
   "outputs": [],
   "source": [
    "import sys\n",
    "import os\n",
    "from os.path import join\n",
    "from pprint import pprint\n",
    "import importlib\n",
    "import numpy as np\n",
    "import matplotlib.pyplot as plt\n",
    "from matplotlib import patches\n",
    "import pandas as pd\n",
    "import h5py\n",
    "from scipy import ndimage\n",
    "import proplot as pplt\n",
    "\n",
    "sys.path.append('..')\n",
    "from tools import plotting as mplt\n",
    "from tools import utils"
   ]
  },
  {
   "cell_type": "code",
   "execution_count": null,
   "id": "13ce0cb5-30ef-433c-873f-0b9d8533869d",
   "metadata": {},
   "outputs": [],
   "source": [
    "pplt.rc['grid'] = False\n",
    "pplt.rc['cmap.sequential'] = 'viridis'\n",
    "pplt.rc['cmap.discrete'] = False"
   ]
  },
  {
   "cell_type": "markdown",
   "id": "ee97339a-61bb-4fb8-a216-2a8b95e06574",
   "metadata": {},
   "source": [
    "## Load data "
   ]
  },
  {
   "cell_type": "code",
   "execution_count": null,
   "id": "4015ae65-d006-436c-b61d-c5d82839eaaf",
   "metadata": {},
   "outputs": [],
   "source": [
    "datadir = '../Diagnostics/Data/Measurements/scan6d/2022-06-23/'\n",
    "filenames = os.listdir(datadir)\n",
    "filenames"
   ]
  },
  {
   "cell_type": "code",
   "execution_count": null,
   "id": "1472165d-d0ac-4669-b33f-0bfb466096d4",
   "metadata": {},
   "outputs": [],
   "source": [
    "_filenames = dict()\n",
    "_filenames['background'] = '220623100854-scan6d-background.h5'\n",
    "_filenames['screen_response'] = '220623100854-scan6d-screenResponse.h5'\n",
    "_filenames['phase_calibration'] = '220623100854-scan6d-phaseCalibration.h5'"
   ]
  },
  {
   "cell_type": "code",
   "execution_count": null,
   "id": "fd30f26d-ee35-4534-9a7a-dfd748c334fa",
   "metadata": {},
   "outputs": [],
   "source": [
    "def load_data(filename):\n",
    "    file = h5py.File(join(datadir, filename), 'r')\n",
    "    data = file['scandata']\n",
    "    pprint(data.dtype.fields)\n",
    "\n",
    "    # Errors and warnings from log\n",
    "    for i in range(file['log'].size):\n",
    "        if not(file['/log'][i, 'level'] == 'INFO'.encode('utf')):\n",
    "            timestr = datetime.fromtimestamp(file['/log'][0, 'timestamp']).strftime(\"%m/%d/%Y, %H:%M:%S\")\n",
    "            print(f\"{timestr} {file['log'][i, 'message']}\")\n",
    "\n",
    "    # Configuration data\n",
    "    for key in file['/config'].keys():\n",
    "        print(f\"{key}\")\n",
    "        print(\"--------------\")\n",
    "        for name in file['/config'][key].dtype.names:\n",
    "            print(f\"{name}: {file['config'][key][name]}\")\n",
    "        print()\n",
    "    return data"
   ]
  },
  {
   "cell_type": "markdown",
   "id": "3560fdad-82fe-457c-9e7f-6934b2aa1c39",
   "metadata": {},
   "source": [
    "## Background "
   ]
  },
  {
   "cell_type": "code",
   "execution_count": null,
   "id": "c8cef983-a4ac-4f0e-abbc-96dfc9708862",
   "metadata": {},
   "outputs": [],
   "source": [
    "data = load_data(_filenames['background'])"
   ]
  },
  {
   "cell_type": "code",
   "execution_count": null,
   "id": "41382a9c-e8c4-47a2-8fde-a545798edaa3",
   "metadata": {},
   "outputs": [],
   "source": [
    "for i in range(min(len(data), 50)):\n",
    "    fig, ax = pplt.subplots(figsize=(6.0, 1.0))\n",
    "    ax.plot(data[i, 'cam08_ProfileY'], color='black')\n",
    "    plt.show()"
   ]
  },
  {
   "cell_type": "code",
   "execution_count": null,
   "id": "3cdd4763-9dba-4a73-9ab9-ce2987454125",
   "metadata": {},
   "outputs": [],
   "source": [
    "# [...]"
   ]
  },
  {
   "cell_type": "markdown",
   "id": "dd5182bd-05c2-4dd5-9d9f-222ae74cc5e9",
   "metadata": {},
   "source": [
    "## Screen response "
   ]
  },
  {
   "cell_type": "code",
   "execution_count": null,
   "id": "cfa37728-3f16-43d5-9203-fa48853226be",
   "metadata": {},
   "outputs": [],
   "source": [
    "data = load_data(_filenames['screen_response'])"
   ]
  },
  {
   "cell_type": "code",
   "execution_count": null,
   "id": "f19fdbc9-6b9e-4e67-b0ba-7562513fe300",
   "metadata": {},
   "outputs": [],
   "source": [
    "for name in ['iteration', 'cam08_Saturation', 'steerV_Readback', 'steerV_Set']:\n",
    "    fig, ax = pplt.subplots(figsize=(7.0, 1.25))\n",
    "    ax.plot(data[name], color='black')\n",
    "    ax.format(ylabel=name, xlabel='Step')\n",
    "    plt.show()"
   ]
  },
  {
   "cell_type": "code",
   "execution_count": null,
   "id": "807bff83-59e7-4a01-8272-7cf036c70305",
   "metadata": {},
   "outputs": [],
   "source": [
    "iteration_start = 2\n",
    "profiles = []\n",
    "steerVs = []\n",
    "for iteration in range(iteration_start, max(data['iteration']) + 1):\n",
    "    idx = data['iteration'] == iteration\n",
    "    profile = np.mean(data[idx, 'cam08_ProfileY'], axis=0)\n",
    "    profiles.append(profile)\n",
    "    steerV = np.mean(data[idx, 'steerV_Readback'])\n",
    "    steerVs.append(steerV)"
   ]
  },
  {
   "cell_type": "code",
   "execution_count": null,
   "id": "3fc86220-65ad-4476-9fb4-054f29a977f6",
   "metadata": {},
   "outputs": [],
   "source": [
    "scale = 0.5 * np.max(profiles)\n",
    "fig, ax = pplt.subplots()\n",
    "for i in range(len(profiles)):\n",
    "    offset = i * scale\n",
    "    ax.plot(profiles[i] + offset, color='black')"
   ]
  },
  {
   "cell_type": "code",
   "execution_count": null,
   "id": "4696ba09-f052-4ec3-af50-fa3a3c799492",
   "metadata": {},
   "outputs": [],
   "source": [
    "fig, ax = pplt.subplots()\n",
    "profiles = np.array(profiles)\n",
    "ax.pcolormesh(np.arange(profiles.shape[1]), steerVs, profiles)\n",
    "ax.format(ylabel='screen x pixel', xlabel='steerV')"
   ]
  },
  {
   "cell_type": "code",
   "execution_count": null,
   "id": "3b239f6c-930a-4409-9caf-cc2b32caefce",
   "metadata": {},
   "outputs": [],
   "source": [
    "# [...]"
   ]
  },
  {
   "cell_type": "markdown",
   "id": "cea6ce59-631c-4193-83d5-64c39dc8c045",
   "metadata": {},
   "source": [
    "## Phase calibration "
   ]
  },
  {
   "cell_type": "code",
   "execution_count": null,
   "id": "e4fd08b2-8cb2-441d-85f5-1116c2c29eaf",
   "metadata": {},
   "outputs": [],
   "source": [
    "data = load_data(_filenames['phase_calibration'])"
   ]
  },
  {
   "cell_type": "code",
   "execution_count": null,
   "id": "495ef5f9-a435-4024-8fec-53d8342a8520",
   "metadata": {},
   "outputs": [],
   "source": [
    "for name in ['iteration', 'phase_Readback', 'phase_Set']:\n",
    "    fig, ax = pplt.subplots(figsize=(7.0, 1.5))\n",
    "    ax.plot(data[name], color='black')\n",
    "    ax.format(ylabel=name, xlabel='Step')\n",
    "    plt.show()"
   ]
  },
  {
   "cell_type": "code",
   "execution_count": null,
   "id": "09416173-6ec7-4392-8f40-f432e8d60651",
   "metadata": {},
   "outputs": [],
   "source": [
    "iteration_start = 1\n",
    "profiles = []\n",
    "phase_rbs = []\n",
    "for iteration in range(iteration_start, max(data['iteration']) + 1):\n",
    "    idx = data['iteration'] == iteration\n",
    "    profile = np.mean(data[idx, 'cam08_ProfileY'], axis=0)\n",
    "    profiles.append(profile)\n",
    "    phase_rb = np.mean(data[idx, 'phase_Readback'])\n",
    "    phase_rbs.append(phase_rb)"
   ]
  },
  {
   "cell_type": "code",
   "execution_count": null,
   "id": "ee7e8c45-cdaf-49a7-bed4-4587772ee085",
   "metadata": {},
   "outputs": [],
   "source": [
    "scale = 0.5 * np.max(profiles)\n",
    "fig, ax = pplt.subplots()\n",
    "for i in range(len(profiles)):\n",
    "    offset = i * scale\n",
    "    ax.plot(profiles[i] + offset, color='black')"
   ]
  },
  {
   "cell_type": "code",
   "execution_count": null,
   "id": "a7ae91e6-47d5-416d-a9da-7633ea324779",
   "metadata": {},
   "outputs": [],
   "source": [
    "fig, ax = pplt.subplots()\n",
    "profiles = np.array(profiles)\n",
    "ax.pcolormesh(np.arange(profiles.shape[1]), phase_rbs, profiles, colorbar=True, cmap='mono')\n",
    "ax.format(ylabel='screen x pixel', xlabel='phase_rb')"
   ]
  }
 ],
 "metadata": {
  "kernelspec": {
   "display_name": "Python 3",
   "language": "python",
   "name": "python3"
  },
  "language_info": {
   "codemirror_mode": {
    "name": "ipython",
    "version": 3
   },
   "file_extension": ".py",
   "mimetype": "text/x-python",
   "name": "python",
   "nbconvert_exporter": "python",
   "pygments_lexer": "ipython3",
   "version": "3.7.6"
  }
 },
 "nbformat": 4,
 "nbformat_minor": 5
}
