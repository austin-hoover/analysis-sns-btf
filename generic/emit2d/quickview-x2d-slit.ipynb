{
 "cells": [
  {
   "cell_type": "markdown",
   "id": "7a6a345b-4755-4a21-8c4c-72ab506dd637",
   "metadata": {},
   "source": [
    "# Quick view of x1-x2 slit scan"
   ]
  },
  {
   "cell_type": "markdown",
   "id": "7b8ae19b-96ae-4c81-a4cf-bcdabe172fe6",
   "metadata": {},
   "source": [
    "This notebook is currently being used for scouting scans."
   ]
  },
  {
   "cell_type": "code",
   "execution_count": null,
   "id": "6b3f6ec5-c39a-4172-b74b-7656bc8a9271",
   "metadata": {},
   "outputs": [],
   "source": [
    "import sys\n",
    "import os\n",
    "from os.path import join\n",
    "from pprint import pprint\n",
    "import numpy as np\n",
    "import matplotlib.pyplot as plt\n",
    "import pandas as pd\n",
    "import h5py\n",
    "from scipy import ndimage\n",
    "import proplot as pplt\n",
    "\n",
    "from tools import image_processing as ip\n",
    "from tools import utils\n",
    "\n",
    "sys.path.append('/Users/46h/Research/btf/btf-scripts/')\n",
    "import scan_patterns as sp"
   ]
  },
  {
   "cell_type": "code",
   "execution_count": null,
   "id": "13ce0cb5-30ef-433c-873f-0b9d8533869d",
   "metadata": {},
   "outputs": [],
   "source": [
    "pplt.rc['grid'] = False\n",
    "pplt.rc['cmap.sequential'] = 'viridis'\n",
    "pplt.rc['cmap.discrete'] = False"
   ]
  },
  {
   "cell_type": "code",
   "execution_count": null,
   "id": "4015ae65-d006-436c-b61d-c5d82839eaaf",
   "metadata": {},
   "outputs": [],
   "source": [
    "datadir = './Diagnostics/Data/Measurements/2022-04-29/'\n",
    "filenames = os.listdir(datadir)\n",
    "filenames"
   ]
  },
  {
   "cell_type": "code",
   "execution_count": null,
   "id": "89f95501-b95c-4049-b6a3-274236d6d101",
   "metadata": {},
   "outputs": [],
   "source": [
    "filename = '220429125723-x2d-slit.h5'\n",
    "file = h5py.File(join(datadir, filename), 'r')\n",
    "data = file['scandata']\n",
    "pprint(data.dtype.fields)"
   ]
  },
  {
   "cell_type": "code",
   "execution_count": null,
   "id": "1355240e-d00c-4add-b61d-af387ee2e91a",
   "metadata": {},
   "outputs": [],
   "source": [
    "acts = ['xp_PositionSync', 'x_PositionSync']\n",
    "signame = 'cam34_integral'\n",
    "sdiag = ['cam34_integral', 'cam34_saturation', 'bcm04']\n",
    "signal = data[signame]"
   ]
  },
  {
   "cell_type": "code",
   "execution_count": null,
   "id": "c8cef983-a4ac-4f0e-abbc-96dfc9708862",
   "metadata": {},
   "outputs": [],
   "source": [
    "# Errors and warnings from log\n",
    "for i in range(file['log'].size):\n",
    "    if not(file['/log'][i, 'level'] == 'INFO'.encode('utf')):\n",
    "        timestr = datetime.fromtimestamp(file['/log'][0, 'timestamp']).strftime(\"%m/%d/%Y, %H:%M:%S\")\n",
    "        print(f\"{timestr} {file['log'][i, 'message']}\")\n",
    "\n",
    "# Configuration data\n",
    "for key in file['/config'].keys():\n",
    "    print(f\"{key}\")\n",
    "    print(\"--------------\")\n",
    "    for name in file['/config'][key].dtype.names:\n",
    "        print(f\"{name}: {file['config'][key][name]}\")\n",
    "    print()"
   ]
  },
  {
   "cell_type": "code",
   "execution_count": null,
   "id": "bc1dffdf-eab6-42e2-b028-27cb6256ddbe",
   "metadata": {},
   "outputs": [],
   "source": [
    "cam = 'cam34'\n",
    "cam_settings = ip.camera_settings(cam)\n",
    "nx = cam_settings.nx\n",
    "ny = cam_settings.ny\n",
    "print(f'ny, nx = ({ny}, {nx})')"
   ]
  },
  {
   "cell_type": "code",
   "execution_count": null,
   "id": "a44b7a2b-0d35-4206-9ae5-65634694b41f",
   "metadata": {},
   "outputs": [],
   "source": [
    "fig, ax = pplt.subplots(figsize=(8, 2))\n",
    "for act in acts:\n",
    "    ax.plot(data[:, act], marker=None, label=act)  # plt.plot(tpred,act3,':',color='C2')\n",
    "ax.legend()\n",
    "ax.format(xlabel='Step', ylabel='[mm]')"
   ]
  },
  {
   "cell_type": "code",
   "execution_count": null,
   "id": "186c11a8-a7b5-4e5c-9576-0b3331e03547",
   "metadata": {},
   "outputs": [],
   "source": [
    "fig, ax = pplt.subplots()\n",
    "ax.scatter(data[:, acts[1]], data[:, acts[0]], marker='s', s=50,\n",
    "           c=np.log10(1.0 + 10.0 * signal),  \n",
    "           colorbar=True, colorbar_kw=dict(label=f'log10({signame})'))\n",
    "ax.format(xlabel=acts[1], ylabel=acts[0])\n",
    "plt.savefig('_output/x2d')"
   ]
  },
  {
   "cell_type": "code",
   "execution_count": null,
   "id": "6f038a63-18a2-44f7-a3dd-f44001d80221",
   "metadata": {},
   "outputs": [],
   "source": [
    "for item in sdiag:\n",
    "    print(f'Diagnostic: {item}')\n",
    "    print('Max = {:.3f}'.format(np.max(data[:, item])))\n",
    "    print('Min = {:.3f}'.format(np.min(data[:, item])))\n",
    "    print('Mean = {:.3f}'.format(np.mean(data[:, item])))\n",
    "    fig, ax = pplt.subplots(figsize=(7.0, 2.0))\n",
    "    ax.plot(data[:, item], color='black', marker='.', ms=0, label=item)\n",
    "    ax.format(xlabel='Step', ylabel=item)\n",
    "    plt.show()"
   ]
  },
  {
   "cell_type": "markdown",
   "id": "ba938a1b-ac94-4e80-9d53-ba55b4676300",
   "metadata": {},
   "source": [
    "#### Pick frames for background calculation"
   ]
  },
  {
   "cell_type": "code",
   "execution_count": null,
   "id": "7d05292f-3896-456d-8ff9-969b3d0f7ddd",
   "metadata": {},
   "outputs": [],
   "source": [
    "bgidx = np.arange(1, 35)\n",
    "\n",
    "fig, ax = pplt.subplots()\n",
    "ax.plot(data[:, acts[1]], data[:, acts[0]], alpha=0.2)\n",
    "ax.scatter(data[:, acts[1]], data[:, acts[0]], marker='s', \n",
    "           c=np.log10(1.0 + 10.0 * signal),\n",
    "           colorbar=True, colorbar_kw=dict(label=f'log10({signame})'))\n",
    "\n",
    "ax.plot(data[bgidx, acts[1]], data[bgidx, acts[0]], 'rs', label='Background')\n",
    "ax.legend()\n",
    "ax.format(xlabel=acts[1], ylabel=acts[0])"
   ]
  },
  {
   "cell_type": "markdown",
   "id": "5a65a8ec-f4de-419b-82b8-65991c286506",
   "metadata": {
    "tags": []
   },
   "source": [
    "## Threshold and background\n"
   ]
  },
  {
   "cell_type": "code",
   "execution_count": null,
   "id": "60d32194-50a4-458f-9263-521658c0fb64",
   "metadata": {},
   "outputs": [],
   "source": [
    "bg_lvl_est = np.max(data[bgidx, signame])\n",
    "print(f'Background level from integral: {bg_lvl_est:.6f}')\n",
    "\n",
    "thr_lvl_est = bg_lvl_est / np.max(data[:, signame])\n",
    "print(f'Est. D.R. 10^{np.log10(thr_lvl_est):.3f}')\n",
    "\n",
    "bg_mean = data[0, f'{cam}_image']\n",
    "for i in bgidx[1:]:\n",
    "    bg_mean += data[i, f'{cam}_image']\n",
    "    \n",
    "nbg = len(bgidx)\n",
    "bg_mean = bg_mean / nbg\n",
    "bg_ima = np.reshape(bg_mean,[nx,ny])\n",
    "\n",
    "fig, ax = pplt.subplots()\n",
    "ax.pcolormesh(bg_ima, colorbar=True)\n",
    "ax.format(title='averaged background images')"
   ]
  },
  {
   "cell_type": "code",
   "execution_count": null,
   "id": "18af470d-e2f1-449e-bbc8-fd4d80c1275e",
   "metadata": {
    "tags": []
   },
   "outputs": [],
   "source": [
    "# thr = 0.043\n",
    "thr = 0.11\n",
    "w = signal.copy()\n",
    "w[w < thr] = 0.0\n",
    "print(f'signame = {signame}')\n",
    "print('Est 4D dynamic range 10^%.3f'%np.log10(thr / max(w)))"
   ]
  },
  {
   "cell_type": "code",
   "execution_count": null,
   "id": "d7437057-9f9c-483e-92ce-d46808f5b14a",
   "metadata": {},
   "outputs": [],
   "source": [
    "fig, ax = pplt.subplots(figsize=(8.0, 2.0))\n",
    "ax.semilogy(data[:, signame], color='black', marker='.', ms=4)\n",
    "ax.semilogy(w, marker='.', s=4, color='red', lw=0, label='Above thresh')\n",
    "ax.legend()\n",
    "ax.format(xlabel='Step', ylabel=signame)"
   ]
  },
  {
   "cell_type": "code",
   "execution_count": null,
   "id": "09247eb2-3917-4265-aa8f-a3993a461b54",
   "metadata": {},
   "outputs": [],
   "source": [
    "fig, ax = pplt.subplots(figsize=(8.0, 2.0))\n",
    "ax.semilogy(np.sort(data[:, signame]), color='black')\n",
    "ax.semilogy(np.sort(w), marker='.', color='red', lw=0, label='Above thresh')\n",
    "ax.legend()\n",
    "ax.format(xlabel='Step', ylabel=signame,)"
   ]
  },
  {
   "cell_type": "markdown",
   "id": "f62f5601-4d50-4ff2-92ec-6f21968e76cf",
   "metadata": {
    "tags": []
   },
   "source": [
    "### Plot measurement with threshold"
   ]
  },
  {
   "cell_type": "code",
   "execution_count": null,
   "id": "0e8e0083-26c3-45d6-8ce6-54acd4859c53",
   "metadata": {},
   "outputs": [],
   "source": [
    "fig, ax = pplt.subplots()\n",
    "ax.scatter(data[:, acts[1]], data[:, acts[0]], marker='s', s=50,\n",
    "           c=np.log10(1.0 + 10.0 * w),\n",
    "           colorbar=True)\n",
    "ax.format(xlabel=acts[1], ylabel=acts[0])"
   ]
  },
  {
   "cell_type": "markdown",
   "id": "5c4c7cf0-ad1c-4053-848b-38d9c8014869",
   "metadata": {},
   "source": [
    "### Frame with peak signal"
   ]
  },
  {
   "cell_type": "code",
   "execution_count": null,
   "id": "2af48f55-8f53-49f2-bbfa-e2f696432f01",
   "metadata": {},
   "outputs": [],
   "source": [
    "idx = np.argmax(w)\n",
    "max_pixel = np.max(data[idx, f'{cam}_image'])\n",
    "\n",
    "print('peak: ')\n",
    "for item in list(acts) + list(sdiag):\n",
    "    print(f'  {item} = {data[idx, item]:.3f} [mm]')\n",
    "print(f'Max pixel: {max_pixel}')"
   ]
  },
  {
   "cell_type": "markdown",
   "id": "6762480e-39cf-48aa-b603-ea2fad28a566",
   "metadata": {},
   "source": [
    "### Estimate dynamic range by examining frame with peak signal"
   ]
  },
  {
   "cell_type": "code",
   "execution_count": null,
   "id": "58675243-4741-4547-ae2f-805fe1045fe3",
   "metadata": {},
   "outputs": [],
   "source": [
    "idx = np.argmax(w)\n",
    "im = data[idx, cam + '_image'].reshape(ny, nx)\n",
    "pix_max = np.max(im)\n",
    "print(f'Max pixel value {pix_max}')"
   ]
  },
  {
   "cell_type": "code",
   "execution_count": null,
   "id": "e5aca2a6-92b6-46dd-9096-b2f4d5e8894b",
   "metadata": {},
   "outputs": [],
   "source": [
    "norm = 'log'  # {'log', None}\n",
    "fig, axes = pplt.subplots(ncols=2, sharey=False)\n",
    "axes[0].pcolormesh(im, norm=norm, colorbar=True)\n",
    "axes[1].plot(np.sum(im, axis=0), color='black')\n",
    "axes[1].format(yscale='log')\n",
    "plt.show()"
   ]
  },
  {
   "cell_type": "code",
   "execution_count": null,
   "id": "140ce8ea-745c-4273-a519-9909f325013a",
   "metadata": {},
   "outputs": [],
   "source": [
    "# mask = np.ones(np.shape(im))\n",
    "# mask[400:, :] = 0.0\n",
    "# mask[:100, :] = 0.0\n",
    "# mask[:, 480:] = 0.0\n",
    "# mask[:, :200] = 0.0\n",
    "# immask = im * mask\n",
    "\n",
    "# print('5D DR: 10^%.3f'%(np.log10(np.max(mask * bg_ima) / np.max(immask))))\n",
    "# print('4D DR: 10^%.3f'%(np.log10(np.sum(mask * bg_ima) / np.sum(immask))))"
   ]
  },
  {
   "cell_type": "code",
   "execution_count": null,
   "id": "e6e9f7e9-a872-4068-8b60-7dcf7bcea65a",
   "metadata": {},
   "outputs": [],
   "source": [
    "# fig, axes = pplt.subplots(ncols=2, sharey=False)\n",
    "# axes[0].pcolormesh(np.log10(immask))\n",
    "# axes[0].annotate('(logscale)', xy=(1, 1), color='white')\n",
    "# axes[1].plot(np.sum(im, axis=0))\n",
    "# plt.show()"
   ]
  },
  {
   "cell_type": "code",
   "execution_count": null,
   "id": "022e8487-0e23-4c32-8ad4-a1666e61c846",
   "metadata": {},
   "outputs": [],
   "source": [
    "# thr2 = 1e5\n",
    "\n",
    "# plt.figure()\n",
    "# imathr = im.copy()\n",
    "# imathr[imathr < thr2] = 0.0\n",
    "# plt.pcolor(np.log10(imathr))\n",
    "\n",
    "# print('naive 5D DR: 10^%.3f'%(np.log10(thr2/imathr.max())))\n",
    "# print('naive 4D DR: 10^%.3f'%(np.log10(thr2/imathr.sum())))\n",
    "# print('5D DR: 10^%.3f'%(np.log10(bg_ima.max()/im.max())))\n",
    "# print('4D DR: 10^%.3f'%(np.log10(bg_ima.sum()/im.sum())))"
   ]
  },
  {
   "cell_type": "markdown",
   "id": "00312e0a-06c2-4388-b811-2238199e84ad",
   "metadata": {
    "tags": []
   },
   "source": [
    "#### Threshold after smoothing"
   ]
  },
  {
   "cell_type": "code",
   "execution_count": null,
   "id": "f7535049-88cb-410c-be92-562f3bc2a4b5",
   "metadata": {},
   "outputs": [],
   "source": [
    "# ima = im\n",
    "# ima_smooth = ndimage.gaussian_filter(ima, 5, mode='nearest')\n",
    "\n",
    "# thr2 = 50000.0\n",
    "# plt.figure()\n",
    "# imathr = ima_smooth.copy()\n",
    "# imathr[imathr < thr2] = 0.0\n",
    "# plt.pcolor(np.log10(imathr))\n",
    "\n",
    "# print('naive 5D DR: 10^%.3f'%(np.log10(thr2 / imathr.max())))\n",
    "# print('naive 4D DR: 10^%.3f'%(np.log10(thr2 / imathr.sum())))\n",
    "# print('5D DR: 10^%.3f'%(np.log10(bg_ima.max() / ima.max())))\n",
    "# print('4D DR: 10^%.3f'%(np.log10(bg_ima.sum() / ima.sum())))"
   ]
  },
  {
   "cell_type": "markdown",
   "id": "fb63ccc1-348d-4df2-b49d-7a87dd2567da",
   "metadata": {},
   "source": [
    "## Measure against new scan boundaries"
   ]
  },
  {
   "cell_type": "markdown",
   "id": "f3a9744b-de42-47c0-a4cd-fc68a3171123",
   "metadata": {},
   "source": [
    "Make a list of coordinates that have signal."
   ]
  },
  {
   "cell_type": "code",
   "execution_count": null,
   "id": "9691adf6-f9f5-4c77-accb-60cfe9e29c29",
   "metadata": {},
   "outputs": [],
   "source": [
    "pts = np.vstack([data[:, 'xp_PositionSync'], data[:, 'x_PositionSync']]).T\n",
    "sig_idx = w > 0.0\n",
    "sig_pts = pts[sig_idx, :]"
   ]
  },
  {
   "cell_type": "markdown",
   "id": "1e37212c-e4dd-4353-95f2-79dc9e68d5f2",
   "metadata": {},
   "source": [
    "Define \"normalized\" actuator coordinates."
   ]
  },
  {
   "cell_type": "code",
   "execution_count": null,
   "id": "7045dfe3-bd4a-4512-a8d3-cf724680d773",
   "metadata": {},
   "outputs": [],
   "source": [
    "ndim = 2\n",
    "M = np.identity(ndim)\n",
    "M[0, 1] = 1.9\n",
    "\n",
    "# xp\n",
    "d1_center = 15.0\n",
    "d1_distance = 24.0\n",
    "d1_steps = 32\n",
    "\n",
    "# x\n",
    "d2_center = 21.0\n",
    "d2_distance = 17.5\n",
    "d2_steps = 32\n",
    "\n",
    "reprate = 5\n",
    "navg = 1"
   ]
  },
  {
   "cell_type": "code",
   "execution_count": null,
   "id": "483eb953-e4fd-4b98-882f-3af842db85bb",
   "metadata": {},
   "outputs": [],
   "source": [
    "def gen(start=0): \n",
    "    center = np.array([d1_center, d2_center])\n",
    "    distance = np.array([d1_distance, d2_distance])\n",
    "    nsteps = np.array([d1_steps, d2_steps])\n",
    "    stepsize = distance / nsteps\n",
    "    counter = 0\n",
    "        \n",
    "    ##### STEPPER SCAN COMMANDS\n",
    "    if navg > 0:             \n",
    "        for point in sp.grid(center,distance,nsteps): \n",
    "            realpoint = np.matmul(M,point-center) + center\n",
    "\n",
    "            counter += 1\n",
    "            if counter > start:\n",
    "                yield realpoint, navg\n",
    "        \n",
    "    ##### SWEEPER SCAN COMMANDS\n",
    "    elif navg == 0:\n",
    "        sweep_speed = distance[0]/nsteps[0]*reprate\n",
    "        nsteps[0] = 1\n",
    "\n",
    "        lastpoint = next(sp.grid(center,distance,nsteps))\n",
    "        for point in sp.grid(center,distance,nsteps): \n",
    "            # -- skip step if sweeper is not moving\n",
    "            if (point[0] - lastpoint[0]) == 0:\n",
    "                lastpoint = point.copy()\n",
    "                continue\n",
    "\n",
    "            # -- send command if sweeper is moving on this step\n",
    "            else: \n",
    "                # -- first transform to real coordinates\n",
    "                realpoint = np.matmul(M,point-center) + center\n",
    "                reallastpoint = np.matmul(M,lastpoint-center) + center\n",
    "\n",
    "                # -- build up cmd list\n",
    "                cmd = []\n",
    "                # -- sweeper command\n",
    "                cmd.append((reallastpoint[0],realpoint[0],sweep_speed))\n",
    "                # -- commands for the rest of the actuators\n",
    "                for j in range(1,ndim):\n",
    "                    # if slope, stepper may have to sweep as well\n",
    "                    stepper_speed = sweep_speed * np.abs(realpoint[j] - reallastpoint[j]) / distance[0]\n",
    "                    cmd.append((reallastpoint[j],realpoint[j],stepper_speed))\n",
    "            \n",
    "                lastpoint = point.copy()\n",
    "            counter += 1\n",
    "            if counter > start:        \n",
    "                yield cmd"
   ]
  },
  {
   "cell_type": "code",
   "execution_count": null,
   "id": "0be5be9c-9c11-4f60-ac54-e55f6976bca4",
   "metadata": {
    "tags": []
   },
   "outputs": [],
   "source": [
    "# Run points generator\n",
    "lgen = list(gen())\n",
    "new_pts = np.zeros([len(lgen), ndim])\n",
    "for i in range(len(lgen)):\n",
    "    new_pts[i, :] = lgen[i][0]\n",
    "    \n",
    "# Un-shear new (generated) points.\n",
    "center = np.array([d1_center, d2_center])\n",
    "Minv = np.linalg.inv(M)\n",
    "new_pts_n = utils.apply(Minv, new_pts - center) + center\n",
    "new_pts_n = utils.apply(Minv, new_pts - center) + center\n",
    "\n",
    "# Un-shear signal points.\n",
    "sig_pts_n = np.zeros(sig_pts.shape)\n",
    "for row in range(sig_pts.shape[0]):\n",
    "    sig_pts_n[row, :] = np.matmul(Minv, sig_pts[row, :] - center) + center"
   ]
  },
  {
   "cell_type": "code",
   "execution_count": null,
   "id": "3a869f95-e5b7-49fe-9016-acd0ef967438",
   "metadata": {},
   "outputs": [],
   "source": [
    "coords = np.vstack([data[:, acts[0]], data[:, acts[1]]]).T\n",
    "coords_n = np.zeros(coords.shape)\n",
    "for row in range(coords.shape[0]):\n",
    "    coords_n[row, :] = np.matmul(Minv, coords[row, :] - center) + center"
   ]
  },
  {
   "cell_type": "code",
   "execution_count": null,
   "id": "4aca5676-b3ac-4e4d-8963-9dc58daa5631",
   "metadata": {},
   "outputs": [],
   "source": [
    "fig, axes = pplt.subplots(ncols=2, sharex=False, sharey=False,\n",
    "                          wspace=8.0, figwidth=8.0)\n",
    "for ax, _pts, _new_pts in zip(axes, [sig_pts, sig_pts_n], [new_pts, new_pts_n]):\n",
    "    ax.scatter(_pts[:, 0], _pts[:, 1], marker='s', color='black', label='signal')\n",
    "    ax.plot(_new_pts[:, 0], _new_pts[:, 1], marker='.', s=4, color='grey', label='scan')\n",
    "axes.format(xlabel=acts[0], ylabel=acts[1], toplabels=['Sheared', 'Un-sheared'])\n",
    "axes[0].axvline(49.0, color='red', label='limit')\n",
    "axes[0].legend(ncols=1)\n",
    "plt.show()"
   ]
  }
 ],
 "metadata": {
  "kernelspec": {
   "display_name": "Python 3",
   "language": "python",
   "name": "python3"
  },
  "language_info": {
   "codemirror_mode": {
    "name": "ipython",
    "version": 3
   },
   "file_extension": ".py",
   "mimetype": "text/x-python",
   "name": "python",
   "nbconvert_exporter": "python",
   "pygments_lexer": "ipython3",
   "version": "3.7.6"
  }
 },
 "nbformat": 4,
 "nbformat_minor": 5
}
