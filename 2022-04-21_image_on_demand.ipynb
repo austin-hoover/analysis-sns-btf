{
 "cells": [
  {
   "cell_type": "markdown",
   "id": "7070ab9c-8a86-44fb-b37b-737fcf4c3c1c",
   "metadata": {},
   "source": [
    "# Energy profile vs. beam intensity"
   ]
  },
  {
   "cell_type": "markdown",
   "id": "fd0b8e31-0cb2-42a9-81bb-38de11b6f598",
   "metadata": {},
   "source": [
    "To do: check whether the mean x and y on the BPM is the same at each intensity."
   ]
  },
  {
   "cell_type": "code",
   "execution_count": null,
   "id": "7da64e46-4bc6-4fc9-b613-cd4e92a28070",
   "metadata": {},
   "outputs": [],
   "source": [
    "import os\n",
    "from os.path import join\n",
    "from collections import Counter\n",
    "from datetime import datetime\n",
    "import h5py\n",
    "import numpy as np\n",
    "from scipy import optimize as opt\n",
    "from matplotlib import pyplot as plt\n",
    "import proplot as pplt\n",
    "\n",
    "pplt.rc['grid'] = False\n",
    "pplt.rc['cmap.discrete'] = False\n",
    "pplt.rc['cmap.sequential'] = 'dusk_r'"
   ]
  },
  {
   "cell_type": "code",
   "execution_count": null,
   "id": "f676e043-ea19-48ba-bcbe-b97b7f58fb55",
   "metadata": {},
   "outputs": [],
   "source": [
    "folder = 'Diagnostics/Data/Measurements/2022-04-21/'\n",
    "filenames = os.listdir(folder)\n",
    "filenames = sorted(filenames, key=lambda filename: int(filename.split('-')[0]))\n",
    "filenames"
   ]
  },
  {
   "cell_type": "code",
   "execution_count": null,
   "id": "7b44b9c1-1358-465a-a47c-2f8ce287eb3f",
   "metadata": {},
   "outputs": [],
   "source": [
    "filename = filenames[1]\n",
    "file = h5py.File(join(folder, filename), 'r')"
   ]
  },
  {
   "cell_type": "code",
   "execution_count": null,
   "id": "f6e03235-39e5-41d3-8c87-5a4d9f0fab0c",
   "metadata": {},
   "outputs": [],
   "source": [
    "list(file.keys())"
   ]
  },
  {
   "cell_type": "code",
   "execution_count": null,
   "id": "c718deab-5830-4df6-a1b5-1bc51403aac7",
   "metadata": {},
   "outputs": [],
   "source": [
    "# Errors and warnings from log\n",
    "for i in range(file['log'].size):\n",
    "    if not(file['/log'][i, 'level'] == 'INFO'.encode('utf')):\n",
    "        timestr = datetime.fromtimestamp(file['/log'][0, 'timestamp']).strftime(\"%m/%d/%Y, %H:%M:%S\")\n",
    "        print(f\"{timestr} {file['log'][i, 'message']}\")\n",
    "\n",
    "# Configuration data\n",
    "for key in file['/config'].keys():\n",
    "    print(f\"{key}\")\n",
    "    print(\"--------------\")\n",
    "    for name in file['/config'][key].dtype.names:\n",
    "        print(f\"{name}: {file['config'][key][name]}\")\n",
    "    print()"
   ]
  },
  {
   "cell_type": "code",
   "execution_count": null,
   "id": "13a43626-cef7-4a36-830e-aab905064e08",
   "metadata": {},
   "outputs": [],
   "source": [
    "data = file['scandata']\n",
    "print('Data:')\n",
    "for i, name in enumerate(data.dtype.names):\n",
    "    print(f'{name} [{data.dtype[i]}]')\n",
    "print()\n",
    "\n",
    "slits = [key for key in data.dtype.names if 'PositionSync' in key]\n",
    "print('slits:')\n",
    "for slit in slits:\n",
    "    print(slit)"
   ]
  },
  {
   "cell_type": "code",
   "execution_count": null,
   "id": "0e667329-e394-4436-a145-5beec5defbad",
   "metadata": {},
   "outputs": [],
   "source": [
    "for name in data.dtype.names:\n",
    "    if name in ['timestamp', 'cam06_Image', 'cam06_ProfileX']:\n",
    "        continue\n",
    "    fig, ax = pplt.subplots(figsize=(3.0, 2.5))\n",
    "    ax.plot(data[name], color='black')\n",
    "    ax.format(xlabel='Iteration', ylabel=name)\n",
    "    plt.show()"
   ]
  },
  {
   "cell_type": "code",
   "execution_count": null,
   "id": "5f99dd1c-521b-4e3d-bf67-dc485b6a1247",
   "metadata": {},
   "outputs": [],
   "source": [
    "iterations = []\n",
    "profiles = []\n",
    "currents = []\n",
    "images = []\n",
    "bpmx_wfs, bpmy_wfs = [], []\n",
    "bpmx, bpmy = [], []\n",
    "for iteration in range(1, max(data['iteration']) + 1):\n",
    "    iterations.append(iteration)\n",
    "    idx = data['iteration'] == iteration\n",
    "    image = np.mean(data['cam06_Image'][idx, :], axis=0).reshape((512, 612))\n",
    "    images.append(image)\n",
    "    profile = np.mean(data['cam06_ProfileX'][idx, :], axis=0)  # averagine\n",
    "    profile = profile / np.sum(profile)  # normalize\n",
    "    profiles.append(profile)\n",
    "    currents.append(data['bcm'][idx][0])\n",
    "    bpmx_wf = np.mean(data['bpm04x'][idx, :], axis=0)\n",
    "    bpmy_wf = np.mean(data['bpm04y'][idx, :], axis=0)\n",
    "    bpmx_wfs.append(bpmx_wf)\n",
    "    bpmy_wfs.append(bpmy_wf)\n",
    "    bpmx.append(np.mean(bpmx_wf))\n",
    "    bpmy.append(np.mean(bpmy_wf))\n",
    "profiles = np.array(profiles)\n",
    "currents = np.array(currents)"
   ]
  },
  {
   "cell_type": "code",
   "execution_count": null,
   "id": "e15433a1-eaf5-41e8-b613-23453ae13d45",
   "metadata": {},
   "outputs": [],
   "source": [
    "fig, ax = pplt.subplots()\n",
    "ax.plot(currents, bpmx, marker='.', label='bpm04x')\n",
    "ax.plot(currents, bpmy, marker='.', label='bpm04y')\n",
    "ax.format(xlabel='Current [mA]', ylabel='[mm]')\n",
    "ax.legend()\n",
    "plt.show()"
   ]
  },
  {
   "cell_type": "code",
   "execution_count": null,
   "id": "87fddfad-6836-4269-8491-85251e4df084",
   "metadata": {},
   "outputs": [],
   "source": [
    "# for i in range(len(iterations)):\n",
    "#     fig, ax = pplt.subplots(figsize=(4, 2))\n",
    "#     ax.plot(bpmy_wfs[i], color='black', alpha=0.3)\n",
    "#     ax.axhline(np.mean(bpmx_wfs[i]), color='black')\n",
    "#     plt.show()"
   ]
  },
  {
   "cell_type": "code",
   "execution_count": null,
   "id": "8f1f1eb1-806a-433a-857f-57b586580a0d",
   "metadata": {},
   "outputs": [],
   "source": [
    "offsets = [i * 0.25e-2 for i in range(profiles.shape[0])]\n",
    "offsets = np.array(offsets)"
   ]
  },
  {
   "cell_type": "code",
   "execution_count": null,
   "id": "e013f176-1855-4a4b-ac84-de80f84e7d08",
   "metadata": {},
   "outputs": [],
   "source": [
    "fig, ax = pplt.subplots(\n",
    "    figsize=(4.0, 3.0)\n",
    ")\n",
    "ax.plot(profiles.T,\n",
    "#         cycle=pplt.Colormap('greys', left=0.1, right=0.95), \n",
    "        cycle=pplt.Colormap('mono', left=0.05, right=0.9),\n",
    "        colorbar=True, colorbar_kw=dict(label='Current [mA]',\n",
    "                                        values=np.abs(currents),\n",
    "                                       ))\n",
    "ax.format(xlim=(100, ax.get_xlim()[1]), yticks=[], xlabel=r'~$\\Delta$E', xticks=[], ylabel='Density')\n",
    "plt.savefig('_output/overlay')\n",
    "plt.show()"
   ]
  },
  {
   "cell_type": "code",
   "execution_count": null,
   "id": "f00157ad-8712-47d3-bdbd-c48c9dccdc79",
   "metadata": {},
   "outputs": [],
   "source": [
    "fig, ax = pplt.subplots(figsize=(5.0, 2.0))\n",
    "ax.pcolormesh(\n",
    "    np.arange(profiles.shape[1]),\n",
    "    currents, \n",
    "    profiles, \n",
    "    cmap='mono_r', colorbar=True, colorbar_kw=dict(ticks=[]),\n",
    ")\n",
    "ax.format(ylabel='Current [mA]', xlabel=r'~$\\Delta$E')\n",
    "plt.savefig('waterfall_heatmap')\n",
    "plt.show()"
   ]
  },
  {
   "cell_type": "code",
   "execution_count": null,
   "id": "1783639b-b516-4e4a-88a0-ac721e36ed56",
   "metadata": {},
   "outputs": [],
   "source": [
    "fig, axes = pplt.subplots(nrows=4, ncols=5, figwidth=7.0, space=0.5)\n",
    "for ax in axes[-2:]:\n",
    "    ax.axis('off')\n",
    "for image, ax, current in zip(images[1:], axes, currents):\n",
    "    ax.imshow(image, cmap='mono_r')\n",
    "    ax.annotate(f'I = {current:.2f}', xy=(0.01, 0.01), xycoords='axes fraction',\n",
    "                color='white', fontsize='small',\n",
    "                verticalalignment='bottom', horizontalalignment='left')\n",
    "axes.format(xticks=[], yticks=[])\n",
    "plt.savefig('_output/images')\n",
    "plt.show()"
   ]
  },
  {
   "cell_type": "code",
   "execution_count": null,
   "id": "6bb8c9b2-dfc5-4958-8a2d-deb61650bd0c",
   "metadata": {},
   "outputs": [],
   "source": [
    "pplt.rc['cmap.discrete'] = False"
   ]
  },
  {
   "cell_type": "code",
   "execution_count": null,
   "id": "3683a541-0e3a-4bbe-95c6-59d926994443",
   "metadata": {},
   "outputs": [],
   "source": [
    "import gif\n",
    "gif.options.matplotlib[\"dpi\"] = 200\n",
    "\n",
    "@gif.frame\n",
    "def plot(i):\n",
    "    fig, ax = plt.subplots(figsize=(3.0, 3.0))\n",
    "    ax.imshow(images[i], cmap=pplt.Colormap('mono_r', left=0.04))\n",
    "    ax.annotate(f'I = {currents[i]:.2f} [mA]', xy=(0.01, 0.01), xycoords='axes fraction',\n",
    "                color='white', fontsize='small',\n",
    "                verticalalignment='bottom', horizontalalignment='left')\n",
    "    ax.set_xticks([])\n",
    "    ax.set_yticks([])\n",
    "    plt.savefig(f'_output/folder/image{i}.png')\n",
    "\n",
    "frames = [plot(i) for i in range(len(images))]"
   ]
  },
  {
   "cell_type": "code",
   "execution_count": null,
   "id": "b5958bf0-e201-4404-9b69-c35893c606c2",
   "metadata": {},
   "outputs": [],
   "source": [
    "gif.save(frames, '_output/images.gif', duration=0.25, unit=\"s\", between=\"frames\")"
   ]
  },
  {
   "cell_type": "code",
   "execution_count": null,
   "id": "3c1eda60-9b56-4e21-a4a1-0252a1650b5d",
   "metadata": {},
   "outputs": [],
   "source": []
  }
 ],
 "metadata": {
  "kernelspec": {
   "display_name": "Python 3",
   "language": "python",
   "name": "python3"
  },
  "language_info": {
   "codemirror_mode": {
    "name": "ipython",
    "version": 3
   },
   "file_extension": ".py",
   "mimetype": "text/x-python",
   "name": "python",
   "nbconvert_exporter": "python",
   "pygments_lexer": "ipython3",
   "version": "3.7.6"
  }
 },
 "nbformat": 4,
 "nbformat_minor": 5
}
