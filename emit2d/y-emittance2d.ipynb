{
 "cells": [
  {
   "cell_type": "markdown",
   "id": "7a6a345b-4755-4a21-8c4c-72ab506dd637",
   "metadata": {},
   "source": [
    "# y-y' distribution"
   ]
  },
  {
   "cell_type": "code",
   "execution_count": null,
   "id": "6b3f6ec5-c39a-4172-b74b-7656bc8a9271",
   "metadata": {},
   "outputs": [],
   "source": [
    "import sys\n",
    "import os\n",
    "from os.path import join\n",
    "from pprint import pprint\n",
    "import numpy as np\n",
    "from scipy import interpolate\n",
    "import matplotlib.pyplot as plt\n",
    "import pandas as pd\n",
    "import h5py\n",
    "from scipy import ndimage\n",
    "import proplot as pplt\n",
    "from datetime import datetime\n",
    "\n",
    "sys.path.append('..')\n",
    "from tools import image_processing as ip\n",
    "from tools import utils\n",
    "from tools import plotting as mplt\n",
    "from tools import energyVS06 as energy\n",
    "\n",
    "sys.path.append('/Users/46h/Research/btf/btf-scripts/')\n",
    "import scan_patterns as sp"
   ]
  },
  {
   "cell_type": "code",
   "execution_count": null,
   "id": "13ce0cb5-30ef-433c-873f-0b9d8533869d",
   "metadata": {},
   "outputs": [],
   "source": [
    "pplt.rc['grid'] = False\n",
    "pplt.rc['cmap.sequential'] = 'viridis'\n",
    "pplt.rc['cmap.discrete'] = False"
   ]
  },
  {
   "cell_type": "code",
   "execution_count": null,
   "id": "4015ae65-d006-436c-b61d-c5d82839eaaf",
   "metadata": {},
   "outputs": [],
   "source": [
    "datadir = '../Diagnostics/Data/Measurements/2022-07-01/'\n",
    "filenames = os.listdir(datadir)\n",
    "filenames"
   ]
  },
  {
   "cell_type": "code",
   "execution_count": null,
   "id": "89f95501-b95c-4049-b6a3-274236d6d101",
   "metadata": {},
   "outputs": [],
   "source": [
    "filename = '220701151627-y-emittance2d.h5'\n",
    "file = h5py.File(join(datadir, filename), 'r')\n",
    "data = file['scandata']\n",
    "pprint(data.dtype.fields)"
   ]
  },
  {
   "cell_type": "code",
   "execution_count": null,
   "id": "1355240e-d00c-4add-b61d-af387ee2e91a",
   "metadata": {},
   "outputs": [],
   "source": [
    "acts = ['y_PositionSync', 'yp_PositionSync']\n",
    "cam = 'cam06'\n",
    "signame = f'{cam}_Integral'\n",
    "sdiag = [f'{cam}_Integral', f'{cam}_Saturation', 'bcm04']\n",
    "signal = data[signame]"
   ]
  },
  {
   "cell_type": "code",
   "execution_count": null,
   "id": "c8cef983-a4ac-4f0e-abbc-96dfc9708862",
   "metadata": {},
   "outputs": [],
   "source": [
    "# Errors and warnings from log\n",
    "for i in range(file['log'].size):\n",
    "    if not(file['/log'][i, 'level'] == 'INFO'.encode('utf')):\n",
    "        timestr = datetime.fromtimestamp(file['/log'][0, 'timestamp']).strftime(\"%m/%d/%Y, %H:%M:%S\")\n",
    "        print(f\"{timestr} {file['log'][i, 'message']}\")\n",
    "\n",
    "# Configuration data\n",
    "for key in file['/config'].keys():\n",
    "    print(f\"{key}\")\n",
    "    print(\"--------------\")\n",
    "    for name in file['/config'][key].dtype.names:\n",
    "        print(f\"{name}: {file['config'][key][name]}\")\n",
    "    print()"
   ]
  },
  {
   "cell_type": "code",
   "execution_count": null,
   "id": "bc1dffdf-eab6-42e2-b028-27cb6256ddbe",
   "metadata": {},
   "outputs": [],
   "source": [
    "cam_settings = ip.camera_settings(cam)\n",
    "nx = cam_settings.nx\n",
    "ny = cam_settings.ny\n",
    "print(f'ny, nx = ({ny}, {nx})')"
   ]
  },
  {
   "cell_type": "code",
   "execution_count": null,
   "id": "a44b7a2b-0d35-4206-9ae5-65634694b41f",
   "metadata": {},
   "outputs": [],
   "source": [
    "fig, ax = pplt.subplots(figsize=(8, 2))\n",
    "for act in acts:\n",
    "    ax.plot(data[:, act], marker='.', ms=1, label=act, lw=0)\n",
    "ax.legend()\n",
    "ax.format(xlabel='Step', ylabel='[mm]')"
   ]
  },
  {
   "cell_type": "code",
   "execution_count": null,
   "id": "186c11a8-a7b5-4e5c-9576-0b3331e03547",
   "metadata": {},
   "outputs": [],
   "source": [
    "fig, ax = pplt.subplots()\n",
    "ax.scatter(data[:, acts[0]], data[:, acts[1]], marker='s', s=50, \n",
    "           c=signal, norm='log', \n",
    "           colorbar=True, colorbar_kw=dict(label=signame))\n",
    "ax.format(xlabel=acts[0], ylabel=acts[1])"
   ]
  },
  {
   "cell_type": "code",
   "execution_count": null,
   "id": "6f038a63-18a2-44f7-a3dd-f44001d80221",
   "metadata": {},
   "outputs": [],
   "source": [
    "for item in sdiag:\n",
    "    print(f'Diagnostic: {item}')\n",
    "    print('Max = {:.3f}'.format(np.max(data[:, item])))\n",
    "    print('Min = {:.3f}'.format(np.min(data[:, item])))\n",
    "    print('Mean = {:.3f}'.format(np.mean(data[:, item])))\n",
    "    fig, ax = pplt.subplots(figsize=(7.0, 2.0))\n",
    "    ax.plot(data[:, item], color='black', marker='.', ms=0, label=item)\n",
    "    if 'saturation' in item.lower():\n",
    "        ax.set_ylim(0, 1)\n",
    "    ax.format(xlabel='Step', ylabel=item)\n",
    "    plt.show()"
   ]
  },
  {
   "cell_type": "markdown",
   "id": "ba938a1b-ac94-4e80-9d53-ba55b4676300",
   "metadata": {},
   "source": [
    "#### Pick frames for background calculation"
   ]
  },
  {
   "cell_type": "code",
   "execution_count": null,
   "id": "7d05292f-3896-456d-8ff9-969b3d0f7ddd",
   "metadata": {},
   "outputs": [],
   "source": [
    "bgidx = np.arange(1, 35)\n",
    "\n",
    "fig, ax = pplt.subplots()\n",
    "ax.plot(data[:, acts[0]], data[:, acts[1]], alpha=0.2, color='grey')\n",
    "ax.scatter(data[:, acts[0]], data[:, acts[1]], marker='s', \n",
    "           c=signal, norm='log',\n",
    "           colorbar=True, colorbar_kw=dict(label=f'log10({signame})'))\n",
    "\n",
    "ax.plot(data[bgidx, acts[0]], data[bgidx, acts[1]], 'rs', label='Background')\n",
    "ax.legend()\n",
    "ax.format(xlabel=acts[0], ylabel=acts[1])"
   ]
  },
  {
   "cell_type": "markdown",
   "id": "5a65a8ec-f4de-419b-82b8-65991c286506",
   "metadata": {
    "tags": []
   },
   "source": [
    "## Threshold "
   ]
  },
  {
   "cell_type": "code",
   "execution_count": null,
   "id": "18af470d-e2f1-449e-bbc8-fd4d80c1275e",
   "metadata": {
    "tags": []
   },
   "outputs": [],
   "source": [
    "# thr = 0.043\n",
    "thr = 0.109\n",
    "w = signal.copy()\n",
    "w[w < thr] = 0.0\n",
    "print(f'signame = {signame}')\n",
    "print('Est 4D dynamic range 10^%.3f'%np.log10(thr / max(w)))"
   ]
  },
  {
   "cell_type": "code",
   "execution_count": null,
   "id": "cf0b1980-0673-4c31-8b58-d6f592dc9e92",
   "metadata": {},
   "outputs": [],
   "source": [
    "idx, = np.where(signal >= thr)"
   ]
  },
  {
   "cell_type": "code",
   "execution_count": null,
   "id": "d7437057-9f9c-483e-92ce-d46808f5b14a",
   "metadata": {},
   "outputs": [],
   "source": [
    "fig, ax = pplt.subplots(figsize=(8.0, 2.0))\n",
    "ax.semilogy(signal, color='lightgray')\n",
    "ax.semilogy(idx, signal[idx], marker='.', s=1, color='black', lw=0, label='Above thresh')\n",
    "ax.legend()\n",
    "ax.format(xlabel='Step', ylabel=signame)"
   ]
  },
  {
   "cell_type": "code",
   "execution_count": null,
   "id": "09247eb2-3917-4265-aa8f-a3993a461b54",
   "metadata": {},
   "outputs": [],
   "source": [
    "fig, ax = pplt.subplots(figsize=(8.0, 2.0))\n",
    "ax.semilogy(np.sort(signal), color='lightgray')\n",
    "ax.semilogy(np.sort(w), marker='.', color='black', lw=0, s=1, label='Above thresh')\n",
    "ax.legend()\n",
    "ax.format(xlabel='Step', ylabel=signame,)"
   ]
  },
  {
   "cell_type": "code",
   "execution_count": null,
   "id": "0e8e0083-26c3-45d6-8ce6-54acd4859c53",
   "metadata": {},
   "outputs": [],
   "source": [
    "fig, axes = pplt.subplots(ncols=2)\n",
    "for mask, ax in zip([False, True], axes):\n",
    "    c = np.ma.masked_less_equal(signal, thr) if mask else signal\n",
    "    ax.scatter(\n",
    "        data[:, acts[0]], data[:, acts[1]], marker='s', s=50,\n",
    "        c=c, norm='log',\n",
    "        colorbar=True\n",
    "    )\n",
    "axes[1].format(xlim=axes[0].get_xlim(), ylim=axes[0].get_ylim())\n",
    "axes.format(xlabel=acts[0], ylabel=acts[1])"
   ]
  },
  {
   "cell_type": "markdown",
   "id": "fb63ccc1-348d-4df2-b49d-7a87dd2567da",
   "metadata": {},
   "source": [
    "## Measure against new scan boundaries"
   ]
  },
  {
   "cell_type": "markdown",
   "id": "f3a9744b-de42-47c0-a4cd-fc68a3171123",
   "metadata": {},
   "source": [
    "Make a list of coordinates that have signal."
   ]
  },
  {
   "cell_type": "code",
   "execution_count": null,
   "id": "9691adf6-f9f5-4c77-accb-60cfe9e29c29",
   "metadata": {},
   "outputs": [],
   "source": [
    "pts = np.vstack([data[:, acts[0]], data[:, acts[1]]]).T\n",
    "sig_pts = pts[idx, :]"
   ]
  },
  {
   "cell_type": "markdown",
   "id": "1e37212c-e4dd-4353-95f2-79dc9e68d5f2",
   "metadata": {},
   "source": [
    "Define \"normalized\" actuator coordinates."
   ]
  },
  {
   "cell_type": "code",
   "execution_count": null,
   "id": "3fcf3618-c4fc-456f-b3e0-afd513fa493f",
   "metadata": {},
   "outputs": [],
   "source": [
    "reprate = 5.0\n",
    "navg = 0\n",
    "ndim = 2\n",
    "slit_dict = {\n",
    "    'y1': {\n",
    "        'pvname': 'ITSF_Diag:Slit_HZ04',\n",
    "        'center': 13.0,\n",
    "        'distance': 25.0,\n",
    "        'steps': 32,\n",
    "        'min': -50.0,\n",
    "        'max': +50.0,\n",
    "    },\n",
    "    'y2': {\n",
    "        'pvname': 'ITSF_Diag:Slit_HZ06',\n",
    "        'center': 15.0,\n",
    "        'distance': 7.0,\n",
    "        'steps': 32,\n",
    "        'min': -50.0, \n",
    "        'max': +50.0,\n",
    "    },\n",
    "}\n",
    "keys = list(slit_dict)\n",
    "M = np.identity(ndim)\n",
    "M[keys.index('y1'), keys.index('y2')] = 0.0  \n",
    "M[keys.index('y2'), keys.index('y1')] = 0.85\n",
    "\n",
    "center = np.array([slit_dict[key]['center'] for key in keys])\n",
    "distance = np.array([slit_dict[key]['distance'] for key in keys])"
   ]
  },
  {
   "cell_type": "code",
   "execution_count": null,
   "id": "0be5be9c-9c11-4f60-ac54-e55f6976bca4",
   "metadata": {
    "tags": []
   },
   "outputs": [],
   "source": [
    "# Run points generator\n",
    "kws = dict(\n",
    "    slit_dict=slit_dict, \n",
    "    M=M, \n",
    "    reprate=reprate,\n",
    "    navg=navg, \n",
    "    boundary='ellipsoid',  # {None, 'ellipsoid'} \n",
    "    inflate=1.05,\n",
    "    exclude_outside_box=True,\n",
    ")\n",
    "lgen = list(sp.gen(**kws))\n",
    "\n",
    "# Reshape\n",
    "if navg > 0:\n",
    "    new_pts = np.zeros((len(lgen), ndim))\n",
    "    for i in range(len(lgen)):\n",
    "        new_pts[i, :] = lgen[i][0]\n",
    "else:\n",
    "    lgen = np.array(lgen)\n",
    "    new_pts = np.zeros((2 * lgen.shape[0], ndim))\n",
    "    for i in range(ndim):\n",
    "        new_pts[:, i] = lgen[:, i, :2].ravel()\n",
    "    \n",
    "# Un-shear / center new (generated) points.\n",
    "Minv = np.linalg.inv(M)\n",
    "new_pts_n = utils.apply(Minv, new_pts - center)\n",
    "\n",
    "# Un-shear / center signal points.\n",
    "pts_n = np.zeros(pts.shape)\n",
    "for i in range(pts.shape[0]):\n",
    "    pts_n[i, :] = np.matmul(Minv, pts[i, :] - center)\n",
    "sig_pts_n = pts_n[idx, :]\n",
    "\n",
    "# Get actuator coordinates.\n",
    "coords = np.vstack([data[:, acts[0]], data[:, acts[1]]]).T\n",
    "coords_n = np.zeros(coords.shape)\n",
    "for row in range(coords.shape[0]):\n",
    "    coords_n[row, :] = np.matmul(Minv, coords[row, :] - center)\n",
    "    \n",
    "# Compute ellipse coordinates.\n",
    "_dist = distance.copy()\n",
    "if 'inflate' in kws:\n",
    "    _dist *= kws['inflate']\n",
    "phi = np.linspace(0.0, 2.0 * np.pi, 100)\n",
    "xx_n = 0.5 * _dist[0] * np.cos(phi) \n",
    "yy_n = 0.5 * _dist[1] * np.sin(phi)\n",
    "xx, yy = utils.apply(M, np.vstack([xx_n, yy_n]).T).T"
   ]
  },
  {
   "cell_type": "code",
   "execution_count": null,
   "id": "95708ce0-ca60-4561-abcd-cad9b4ce337e",
   "metadata": {},
   "outputs": [],
   "source": [
    "# Normalize points to unit cube.\n",
    "pts_nn = pts_n / (0.5 * distance)\n",
    "radii = np.sqrt(np.sum(np.square(pts_nn), axis=1))\n",
    "max_radius = np.max(radii[idx])\n",
    "print(f'max radius with signal = {max_radius}')\n",
    "\n",
    "fig, ax = pplt.subplots(figsize=(4, 2))\n",
    "bins = 50\n",
    "ax.hist(radii, color='lightgray', bins=bins, label='all')\n",
    "ax.hist(radii[idx], color='black', bins=bins, label='above thresh')\n",
    "ax.axvline(max_radius, color='pink', label='max radius')\n",
    "ax.legend(loc='top')\n",
    "ax.format(xlabel='radius', ylabel='num. points')\n",
    "plt.show()"
   ]
  },
  {
   "cell_type": "code",
   "execution_count": null,
   "id": "4aca5676-b3ac-4e4d-8963-9dc58daa5631",
   "metadata": {},
   "outputs": [],
   "source": [
    "fig, axes = pplt.subplots(ncols=2, wspace=None, figwidth=None, share=False)\n",
    "c = np.ma.masked_less_equal(signal, thr) if mask else signal\n",
    "for ax, _pts, _new_pts in zip(axes, [sig_pts, sig_pts_n], [new_pts, new_pts_n]):\n",
    "#     ax.scatter(pts[:, 0], pts[:, 1], marker='s', c=signal, norm='log')\n",
    "    ax.scatter(\n",
    "        _pts[:, 0], _pts[:, 1], \n",
    "        marker='o', \n",
    "        ms=8,\n",
    "        color='pink4',\n",
    "        label='signal',\n",
    "    )\n",
    "    ax.plot(_new_pts[:, 0], _new_pts[:, 1], marker='.', s=3, lw=1.0, color='gray', alpha=0.4,\n",
    "            label='scan')\n",
    "axes.format(xlabel=acts[0], ylabel=acts[1], toplabels=['Sheared', 'Un-sheared'])\n",
    "for i, (ax, x, y) in enumerate(zip(axes, [xx, xx_n], [yy, yy_n])):\n",
    "    if i == 1:\n",
    "        _center = [0.0, 0.0]\n",
    "    else:\n",
    "        _center = center\n",
    "    ax.plot(x + _center[0], y + _center[1], color='black', ls='-', lw=1.0)\n",
    "axes[0].legend(ncols=1, loc='upper left')\n",
    "for ax in axes:\n",
    "    xmin, xmax = ax.get_xlim()\n",
    "    if xmin > xmax:\n",
    "        xmin, xmax = xmax, xmin\n",
    "    delta = 1.0\n",
    "    xmin -= delta\n",
    "    xmax += delta\n",
    "    ymin, ymax = ax.get_ylim()\n",
    "    ymin -= delta\n",
    "    ymax += delta\n",
    "    ax.format(xlim=(xmin, xmax), ylim=(ymin, ymax))\n",
    "# plt.savefig(f'xxpp_ellipse_scan_navg{navg}.png')\n",
    "plt.show()"
   ]
  },
  {
   "cell_type": "code",
   "execution_count": null,
   "id": "153f2e32-e9d5-46d5-b1e5-815c62973742",
   "metadata": {},
   "outputs": [],
   "source": [
    "y1 = data['y_PositionSync'].copy()\n",
    "y2 = data['yp_PositionSync'].copy()\n",
    "print('y1_avg', np.average(y1[idx], weights=signal[idx]))\n",
    "print('y2_avg', np.average(y2[idx], weights=signal[idx]))"
   ]
  },
  {
   "cell_type": "markdown",
   "id": "c53f4578-c04a-427d-bd14-15b6f2b6c04f",
   "metadata": {},
   "source": [
    "## Convert to phase space coordinates "
   ]
  },
  {
   "cell_type": "code",
   "execution_count": null,
   "id": "c032ad78-7ad6-4b65-960e-0ef09218bc48",
   "metadata": {},
   "outputs": [],
   "source": [
    "n = 32\n",
    "y1_gv = np.linspace(np.min(y1), np.max(y1), int(1.1 * n) + 1)\n",
    "y2_gv = np.linspace(np.min(y2), np.max(y2), int(2 * n) + 1)\n",
    "Y1, Y2 = np.meshgrid(y1_gv, y2_gv, indexing='ij')\n",
    "\n",
    "points = (y1, y2)\n",
    "values = signal\n",
    "new_points = (Y1.ravel(), Y2.ravel())\n",
    "f = interpolate.griddata(points, values, new_points, method='linear', fill_value=0.0)\n",
    "f = f.reshape(len(y1_gv), len(y2_gv))\n",
    "\n",
    "fig, ax = pplt.subplots()\n",
    "mplt.plot_image(f, x=Y1, y=Y2, ax=ax, colorbar=True)\n",
    "ax.format(xlabel='y1 [mm]', ylabel='y2 [mm]')\n",
    "plt.show()"
   ]
  },
  {
   "cell_type": "code",
   "execution_count": null,
   "id": "17536ca7-08f8-46e5-9df2-80058a273091",
   "metadata": {},
   "outputs": [],
   "source": [
    "a2mm = 1.009  # assume same as first dipole\n",
    "rho = 0.3556\n",
    "GL05 = 0.0\n",
    "GL06 = 0.0\n",
    "l1 = 0.0\n",
    "l2 = 0.0\n",
    "l3 = 0.774\n",
    "L2 = 0.311  # slit2 to dipole face\n",
    "l = 0.129  # dipole face to VS06 screen (assume same for first/last dipole-screen)\n",
    "LL = l1 + l2 + l3 + L2  # distance from emittance plane to dipole entrance\n",
    "\n",
    "ecalc = energy.EnergyCalculate(l1=l1, l2=l2, l3=l3, L2=L2, l=l, amp2meter=a2mm*1e3)\n",
    "Mslit = ecalc.getM1()  # slit-slit\n",
    "Mscreen = ecalc.getM()  # slit-screen\n",
    "\n",
    "# Watch the negative signs!\n",
    "y = y1\n",
    "yp = 1e3 * ecalc.calculate_yp(y1 * 1e-3, y2 * 1e-3, Mslit)  \n",
    "y = y - np.mean(y)\n",
    "yp = yp - np.mean(yp)"
   ]
  },
  {
   "cell_type": "code",
   "execution_count": null,
   "id": "cc9a7e7f-9372-48d3-8201-0d5f959ae05d",
   "metadata": {},
   "outputs": [],
   "source": [
    "points = np.vstack([y, yp]).T\n",
    "values = signal\n",
    "\n",
    "n = 37\n",
    "y_gv = np.linspace(np.min(y), np.max(y), n)\n",
    "yp_gv = np.linspace(np.min(yp), np.max(yp), int(n * 1.75))\n",
    "Y, YP = np.meshgrid(y_gv, yp_gv, indexing='ij')\n",
    "new_points = np.vstack([Y.ravel(), YP.ravel()]).T\n",
    "\n",
    "f = interpolate.griddata(points, values, new_points, method='linear', fill_value=0.0)\n",
    "f = f.reshape(len(y_gv), len(yp_gv))\n",
    "\n",
    "fig, axes = pplt.subplots(ncols=2)\n",
    "axes[0].scatter(y, yp, c=signal, marker='s')\n",
    "f = np.clip(f - 0.05 * f.max(), 0.0, None)\n",
    "mplt.plot_image(f / np.max(f), x=y_gv, y=yp_gv, ax=axes[1], colorbar=True, norm='log')\n",
    "axes.format(xlabel='y [mm]', ylabel='yp [mrad]')"
   ]
  },
  {
   "cell_type": "code",
   "execution_count": null,
   "id": "50d0fcb0-d6cd-4830-9df3-e1dce9cf1d19",
   "metadata": {},
   "outputs": [],
   "source": []
  }
 ],
 "metadata": {
  "kernelspec": {
   "display_name": "Python 3",
   "language": "python",
   "name": "python3"
  },
  "language_info": {
   "codemirror_mode": {
    "name": "ipython",
    "version": 3
   },
   "file_extension": ".py",
   "mimetype": "text/x-python",
   "name": "python",
   "nbconvert_exporter": "python",
   "pygments_lexer": "ipython3",
   "version": "3.7.6"
  }
 },
 "nbformat": 4,
 "nbformat_minor": 5
}
