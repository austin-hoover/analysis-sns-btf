{
 "cells": [
  {
   "cell_type": "markdown",
   "id": "7a6a345b-4755-4a21-8c4c-72ab506dd637",
   "metadata": {},
   "source": [
    "# y-y' distribution"
   ]
  },
  {
   "cell_type": "code",
   "execution_count": null,
   "id": "6b3f6ec5-c39a-4172-b74b-7656bc8a9271",
   "metadata": {},
   "outputs": [],
   "source": [
    "import sys\n",
    "import os\n",
    "from os.path import join\n",
    "from pprint import pprint\n",
    "import numpy as np\n",
    "from scipy import interpolate\n",
    "import matplotlib.pyplot as plt\n",
    "import pandas as pd\n",
    "import h5py\n",
    "from scipy import ndimage\n",
    "import proplot as pplt\n",
    "from datetime import datetime\n",
    "\n",
    "sys.path.append('..')\n",
    "from tools import image_processing as ip\n",
    "from tools import utils\n",
    "from tools import plotting as mplt\n",
    "from tools import energyVS06 as energy\n",
    "\n",
    "sys.path.append('/Users/46h/Research/code/btf-scripts/')\n",
    "import scan_patterns as sp"
   ]
  },
  {
   "cell_type": "code",
   "execution_count": null,
   "id": "13ce0cb5-30ef-433c-873f-0b9d8533869d",
   "metadata": {},
   "outputs": [],
   "source": [
    "pplt.rc['grid'] = False\n",
    "pplt.rc['cmap.sequential'] = 'viridis'\n",
    "pplt.rc['cmap.discrete'] = False"
   ]
  },
  {
   "cell_type": "markdown",
   "id": "6cd99f3a-4dc4-430c-ae1f-55471e4b5102",
   "metadata": {},
   "source": [
    "## Load data "
   ]
  },
  {
   "cell_type": "code",
   "execution_count": null,
   "id": "4015ae65-d006-436c-b61d-c5d82839eaaf",
   "metadata": {},
   "outputs": [],
   "source": [
    "datadir = '../Diagnostics/Data/Measurements/2022-07-13/'\n",
    "filenames = os.listdir(datadir)\n",
    "filenames"
   ]
  },
  {
   "cell_type": "code",
   "execution_count": null,
   "id": "89f95501-b95c-4049-b6a3-274236d6d101",
   "metadata": {},
   "outputs": [],
   "source": [
    "filename = '220713142302-y-emittance2d.h5'\n",
    "file = h5py.File(join(datadir, filename), 'r')\n",
    "data = file['scandata']\n",
    "pprint(data.dtype.fields)"
   ]
  },
  {
   "cell_type": "code",
   "execution_count": null,
   "id": "1355240e-d00c-4add-b61d-af387ee2e91a",
   "metadata": {},
   "outputs": [],
   "source": [
    "acts = ['yp_PositionSync', 'y_PositionSync']\n",
    "cam = None\n",
    "for name in data.dtype.names:\n",
    "    if name.lower().startswith('cam'):\n",
    "        cam = name.split('_')[0]\n",
    "        break\n",
    "if cam is not None:\n",
    "    for name in data.dtype.names:\n",
    "        if name.lower().startswith(cam) and not name.startswith(cam):\n",
    "            cam = cam[0].upper() + cam[1:]\n",
    "            break\n",
    "    print('cam =', cam)\n",
    "    sdiag = [f'{cam}_Integral', f'{cam}_Saturation', 'bcm04']\n",
    "    for i in range(len(sdiag)):\n",
    "        if sdiag[i] not in data.dtype.names and sdiag[i].lower() in data.dtype.names:\n",
    "            sdiag[i] = sdiag[i].lower()\n",
    "\n",
    "    signal = data[sdiag[0]][:]\n",
    "else:\n",
    "    sdiag = ['SlowQ', 'fc12', 'bcm04']\n",
    "    signal = np.abs(data[sdiag[0]])"
   ]
  },
  {
   "cell_type": "code",
   "execution_count": null,
   "id": "c8cef983-a4ac-4f0e-abbc-96dfc9708862",
   "metadata": {},
   "outputs": [],
   "source": [
    "# Errors and warnings from log\n",
    "for i in range(file['log'].size):\n",
    "    if not(file['/log'][i, 'level'] == 'INFO'.encode('utf')):\n",
    "        timestr = datetime.fromtimestamp(file['/log'][0, 'timestamp']).strftime(\"%m/%d/%Y, %H:%M:%S\")\n",
    "        print(f\"{timestr} {file['log'][i, 'message']}\")\n",
    "\n",
    "# Configuration data\n",
    "for key in file['/config'].keys():\n",
    "    print(f\"{key}\")\n",
    "    print(\"--------------\")\n",
    "    for name in file['/config'][key].dtype.names:\n",
    "        print(f\"{name}: {file['config'][key][name]}\")\n",
    "    print()"
   ]
  },
  {
   "cell_type": "code",
   "execution_count": null,
   "id": "a44b7a2b-0d35-4206-9ae5-65634694b41f",
   "metadata": {},
   "outputs": [],
   "source": [
    "fig, ax = pplt.subplots(figsize=(8, 2))\n",
    "for act in acts:\n",
    "    ax.plot(data[:, act], marker=None, label=act)\n",
    "ax.legend()\n",
    "ax.format(xlabel='Step', ylabel='[mm]')"
   ]
  },
  {
   "cell_type": "code",
   "execution_count": null,
   "id": "186c11a8-a7b5-4e5c-9576-0b3331e03547",
   "metadata": {},
   "outputs": [],
   "source": [
    "fig, ax = pplt.subplots()\n",
    "ax.scatter(data[:, acts[0]], data[:, acts[1]], marker='s', s=50, \n",
    "           c=signal, norm='log', \n",
    "           colorbar=True, colorbar_kw=dict(label=sdiag[0]))\n",
    "ax.format(xlabel=acts[0], ylabel=acts[1])"
   ]
  },
  {
   "cell_type": "code",
   "execution_count": null,
   "id": "6f038a63-18a2-44f7-a3dd-f44001d80221",
   "metadata": {},
   "outputs": [],
   "source": [
    "for item in sdiag:\n",
    "    print(f'Diagnostic: {item}')\n",
    "    print('Max = {:.3f}'.format(np.max(data[:, item])))\n",
    "    print('Min = {:.3f}'.format(np.min(data[:, item])))\n",
    "    print('Mean = {:.3f}'.format(np.mean(data[:, item])))\n",
    "    fig, ax = pplt.subplots(figsize=(7.0, 2.0))\n",
    "    ax.plot(data[:, item], color='black', marker='.', ms=0, label=item)\n",
    "    if 'saturation' in item.lower():\n",
    "        ax.set_ylim(0, 1)\n",
    "    ax.format(xlabel='Step', ylabel=item)\n",
    "    plt.show()"
   ]
  },
  {
   "cell_type": "code",
   "execution_count": null,
   "id": "b3202d2b-5452-4bc9-9491-e7ea7a9f7391",
   "metadata": {},
   "outputs": [],
   "source": [
    "print('Average beam current:', np.mean(data['bcm04']))"
   ]
  },
  {
   "cell_type": "markdown",
   "id": "ba938a1b-ac94-4e80-9d53-ba55b4676300",
   "metadata": {},
   "source": [
    "#### Pick frames for background calculation"
   ]
  },
  {
   "cell_type": "code",
   "execution_count": null,
   "id": "7d05292f-3896-456d-8ff9-969b3d0f7ddd",
   "metadata": {},
   "outputs": [],
   "source": [
    "signame = sdiag[0]\n",
    "bgidx = np.arange(1, 35)\n",
    "\n",
    "fig, ax = pplt.subplots()\n",
    "ax.plot(data[:, acts[0]], data[:, acts[1]], alpha=0.2, color='grey')\n",
    "ax.scatter(data[:, acts[0]], data[:, acts[1]], marker='s', \n",
    "           c=signal, norm='log',\n",
    "           colorbar=True, colorbar_kw=dict(label=f'log10({signame})'))\n",
    "\n",
    "ax.plot(data[bgidx, acts[0]], data[bgidx, acts[1]], 'rs', label='Background')\n",
    "ax.legend()\n",
    "ax.format(xlabel=acts[0], ylabel=acts[1])"
   ]
  },
  {
   "cell_type": "markdown",
   "id": "5a65a8ec-f4de-419b-82b8-65991c286506",
   "metadata": {
    "tags": []
   },
   "source": [
    "## Threshold "
   ]
  },
  {
   "cell_type": "code",
   "execution_count": null,
   "id": "18af470d-e2f1-449e-bbc8-fd4d80c1275e",
   "metadata": {
    "tags": []
   },
   "outputs": [],
   "source": [
    "signal = signal - np.min(signal)\n",
    "signal = signal / np.max(signal)\n",
    "thresh = 0.0002\n",
    "valid, = np.where(signal >= thresh)\n",
    "print(f'signame = {signame}')\n",
    "print(f'Est dynamic range 10^{np.log10(thresh / np.max(signal[valid])):.3f}')"
   ]
  },
  {
   "cell_type": "code",
   "execution_count": null,
   "id": "d7437057-9f9c-483e-92ce-d46808f5b14a",
   "metadata": {},
   "outputs": [],
   "source": [
    "for yscale in [None, 'log']:\n",
    "    fig, ax = pplt.subplots(figsize=(8.0, 2.0))\n",
    "    ax.plot(signal, color='lightgray', marker='.', lw=0.5, ms=1.5)\n",
    "    ax.plot(valid, signal[valid], marker='.', s=1, color='black', lw=0, label='Above thresh')\n",
    "    ax.format(xlabel='Point', ylabel=signame, yscale=yscale)\n",
    "    plt.show()"
   ]
  },
  {
   "cell_type": "code",
   "execution_count": null,
   "id": "09247eb2-3917-4265-aa8f-a3993a461b54",
   "metadata": {},
   "outputs": [],
   "source": [
    "signal_sorted = np.sort(signal)\n",
    "_idx, = np.where(signal_sorted >= thresh)\n",
    "\n",
    "fig, ax = pplt.subplots(figsize=(8.0, 2.0))\n",
    "ax.plot(np.sort(signal), color='lightgray')\n",
    "ax.plot(_idx, signal_sorted[_idx], marker='.', color='black', lw=0, s=1, label='Above thresh')\n",
    "ax.format(xlabel='Point', ylabel=signame,)"
   ]
  },
  {
   "cell_type": "code",
   "execution_count": null,
   "id": "0e8e0083-26c3-45d6-8ce6-54acd4859c53",
   "metadata": {},
   "outputs": [],
   "source": [
    "fig, axes = pplt.subplots(ncols=2)\n",
    "for mask, ax in zip([False, True], axes):\n",
    "    c = signal[valid]\n",
    "    ax.scatter(\n",
    "        data[valid, acts[0]], data[valid, acts[1]], marker='s', s=50,\n",
    "        c=c, norm='log',\n",
    "        colorbar=True\n",
    "    )\n",
    "axes[1].format(xlim=axes[0].get_xlim(), ylim=axes[0].get_ylim())\n",
    "axes.format(xlabel=acts[0], ylabel=acts[1])"
   ]
  },
  {
   "cell_type": "code",
   "execution_count": null,
   "id": "71c05c06-749f-4da2-a240-c95763b71458",
   "metadata": {},
   "outputs": [],
   "source": [
    "print(len(signal[valid]) / len(signal))"
   ]
  },
  {
   "cell_type": "markdown",
   "id": "fb63ccc1-348d-4df2-b49d-7a87dd2567da",
   "metadata": {},
   "source": [
    "## Measure against new scan boundaries"
   ]
  },
  {
   "cell_type": "code",
   "execution_count": null,
   "id": "3fcf3618-c4fc-456f-b3e0-afd513fa493f",
   "metadata": {},
   "outputs": [],
   "source": [
    "reprate = 5.0\n",
    "navg = 0\n",
    "ndim = 2\n",
    "variables = {\n",
    "    'x2': {\n",
    "        'pvname': 'ITSF_Diag:Slit_VT06',\n",
    "        'center': 13.25,\n",
    "        'distance': 15.0,\n",
    "        'steps': 64,\n",
    "        'min': +4.0,\n",
    "        'max': +22.5,\n",
    "    },\n",
    "    'x1': {\n",
    "        'pvname': 'ITSF_Diag:Slit_VT04',\n",
    "        'center': 12.5,\n",
    "        'distance': 15.0,\n",
    "        'steps': 64,\n",
    "        'min': -50.0, \n",
    "        'max': +50.0,\n",
    "    },\n",
    "}\n",
    "keys = list(variables)\n",
    "M = np.identity(ndim)\n",
    "M[keys.index('x1'), keys.index('x2')] = 0.0  \n",
    "M[keys.index('x2'), keys.index('x1')] = 0.65\n",
    "\n",
    "Minv = np.linalg.inv(M)\n",
    "center = np.array([variables[keys[i]]['center'] for i in range(ndim)])\n",
    "distance = np.array([variables[keys[i]]['distance'] for i in range(ndim)])"
   ]
  },
  {
   "cell_type": "code",
   "execution_count": null,
   "id": "2f0f4288-a204-43cf-9c87-6d2da99f445d",
   "metadata": {},
   "outputs": [],
   "source": [
    "points = np.vstack([data[:, acts[0]], data[:, acts[1]]]).T\n",
    "points_n = utils.apply(Minv, points - center)\n",
    "points_nn = points_n / (0.5 * distance)"
   ]
  },
  {
   "cell_type": "code",
   "execution_count": null,
   "id": "f4c3fdbd-4c11-4193-a753-b289ebebefe2",
   "metadata": {},
   "outputs": [],
   "source": [
    "fig, ax = pplt.subplots()\n",
    "ax.scatter(\n",
    "    points[:, 1], \n",
    "    points[:, 0], \n",
    "    marker='o', \n",
    "    ms=8,\n",
    "    color='lightgray',\n",
    "    alpha=0.75,\n",
    "    ec='None',\n",
    ")\n",
    "ax.scatter(\n",
    "    points[valid, 1], \n",
    "    points[valid, 0], \n",
    "    marker='o', \n",
    "    ms=8,\n",
    "    color='pink6',\n",
    "    ec='None',\n",
    "    label='above thresh',\n",
    ")\n",
    "ax.legend()\n",
    "ax.format(xlabel=acts[1], ylabel=acts[0])\n",
    "# plt.savefig('meas_pts.png')\n",
    "plt.show()"
   ]
  },
  {
   "cell_type": "code",
   "execution_count": null,
   "id": "0be5be9c-9c11-4f60-ac54-e55f6976bca4",
   "metadata": {
    "tags": []
   },
   "outputs": [],
   "source": [
    "# Run points generator\n",
    "kws = dict(\n",
    "    variables=variables, \n",
    "    M=M, \n",
    "    reprate=reprate,\n",
    "    navg=navg, \n",
    "#     boundary='ellipsoid',  # {None, 'ellipsoid'} \n",
    "    R=1.11,\n",
    "    exclude_outside_box=True,\n",
    ")\n",
    "lgen = list(sp.gen(**kws))\n",
    "\n",
    "# Reshape\n",
    "if navg > 0:\n",
    "    new_points = np.zeros((len(lgen), ndim))\n",
    "    for i in range(len(lgen)):\n",
    "        new_points[i, :] = lgen[i][0]\n",
    "else:\n",
    "    lgen = np.array(lgen)\n",
    "    new_points = np.zeros((2 * lgen.shape[0], ndim))\n",
    "    for i in range(ndim):\n",
    "        new_points[:, i] = lgen[:, i, :2].ravel()\n",
    "    \n",
    "# Normalize generated points.\n",
    "new_points_n = utils.apply(Minv, new_points - center)\n",
    "    \n",
    "# Compute ellipse coordinates.\n",
    "_distance = distance.copy()\n",
    "if 'R' in kws:\n",
    "    _distance *= kws['R']\n",
    "phi = np.linspace(0.0, 2.0 * np.pi, 100)\n",
    "ell_xx_n = 0.5 * _distance[0] * np.cos(phi) \n",
    "ell_yy_n = 0.5 * _distance[1] * np.sin(phi)\n",
    "ell_xx, ell_yy = utils.apply(M, np.vstack([ell_xx_n, ell_yy_n]).T).T"
   ]
  },
  {
   "cell_type": "markdown",
   "id": "7956f315-5b8f-4081-aeba-63dd2787781a",
   "metadata": {},
   "source": [
    "View radial distribution in normalized coordinates."
   ]
  },
  {
   "cell_type": "code",
   "execution_count": null,
   "id": "95708ce0-ca60-4561-abcd-cad9b4ce337e",
   "metadata": {},
   "outputs": [],
   "source": [
    "radii = np.sqrt(np.sum(np.square(points_nn), axis=1))\n",
    "max_radius = np.max(radii[valid])\n",
    "print(f'max radius with signal = {max_radius}')\n",
    "\n",
    "fig, ax = pplt.subplots(figsize=(4, 2))\n",
    "bins = 50\n",
    "ax.hist(radii, color='lightgray', bins=bins, label='all')\n",
    "ax.hist(radii[valid], color='black', bins=bins, label='above thresh')\n",
    "ax.axvline(max_radius, color='pink', label='max radius')\n",
    "ax.legend(loc='top', framealpha=0)\n",
    "ax.format(xlabel='radius', ylabel='num. points')\n",
    "plt.show()"
   ]
  },
  {
   "cell_type": "markdown",
   "id": "11cc85ee-739d-4cb0-b9f3-8bd321dec50c",
   "metadata": {},
   "source": [
    "Plot proposed scan path over measured signal."
   ]
  },
  {
   "cell_type": "code",
   "execution_count": null,
   "id": "4aca5676-b3ac-4e4d-8963-9dc58daa5631",
   "metadata": {},
   "outputs": [],
   "source": [
    "fig, axes = pplt.subplots(ncols=2, wspace=None, figwidth=None, share=False)\n",
    "c = np.ma.masked_less_equal(signal, thresh) if mask else signal\n",
    "for ax, _points, _new_points in zip(axes, [points, points_n], [new_points, new_points_n]):\n",
    "#     ax.scatter(points[:, 0], points[:, 1], marker='s', c=signal, norm='log')\n",
    "    ax.scatter(\n",
    "        _points[:, 0], \n",
    "        _points[:, 1], \n",
    "        marker='o', \n",
    "        ms=8,\n",
    "        color='lightgray',\n",
    "        alpha=0.75,\n",
    "        label='signal',\n",
    "        ec='None',\n",
    "    )\n",
    "    ax.scatter(\n",
    "        _points[valid, 0], \n",
    "        _points[valid, 1], \n",
    "        marker='o', \n",
    "        ms=8,\n",
    "        color='pink4',\n",
    "        ec='None',\n",
    "#         label='signal',\n",
    "    )\n",
    "    ax.plot(_new_points[:, 0], _new_points[:, 1], marker='.', s=3, lw=1.0, color='gray', label='scan')\n",
    "axes.format(xlabel=acts[0], ylabel=acts[1], toplabels=['Sheared', 'Un-sheared'])\n",
    "for i, (ax, x, y) in enumerate(zip(axes, [ell_xx, ell_xx_n], [ell_yy, ell_yy_n])):\n",
    "    _center = center.copy()\n",
    "    if i == 1:\n",
    "        _center[:] = 0.0\n",
    "#     ax.plot(x + _center[0], y + _center[1], color='black', ls='-', lw=1.0, zorder=0)\n",
    "axes[0].legend(ncols=1, loc='upper left')\n",
    "for ax in axes:\n",
    "    xmin, xmax = ax.get_xlim()\n",
    "    if xmin > xmax:\n",
    "        xmin, xmax = xmax, xmin\n",
    "    delta = 1.0\n",
    "    xmin -= delta\n",
    "    xmax += delta\n",
    "    ax.format(xlim=(xmin, xmax))\n",
    "# plt.savefig(f'xxpp_ellipse_scan_navg{navg}.png')\n",
    "lims, lims_n = [(ax.get_xlim(), ax.get_ylim()) for ax in axes]\n",
    "plt.show()"
   ]
  },
  {
   "cell_type": "markdown",
   "id": "d1067efa-d040-47fc-b4ca-9d9c6ea96b39",
   "metadata": {},
   "source": [
    "## Snug scan (experimental)"
   ]
  },
  {
   "cell_type": "markdown",
   "id": "e06135c2-2924-4044-afcc-8dec7fa98df6",
   "metadata": {},
   "source": [
    "Learn the coordinates of first/last signal point on each sweep; use this to define new boundaries that hug the distribution."
   ]
  },
  {
   "cell_type": "code",
   "execution_count": null,
   "id": "78cdb081-6be0-46b5-bce8-732b7293a57d",
   "metadata": {},
   "outputs": [],
   "source": [
    "iterations = data['iteration'].copy()\n",
    "surface = utils.get_boundary_points(iterations, points, signal, thresh, pad=3.0, tol=0.2)"
   ]
  },
  {
   "cell_type": "markdown",
   "id": "a522a458-5a79-462f-9e01-da5e00ef5686",
   "metadata": {},
   "source": [
    "Save this file to feed it to scan engine (not a good long-term solution)."
   ]
  },
  {
   "cell_type": "code",
   "execution_count": null,
   "id": "66a130fe-f8f4-4278-88e4-4cf5eeea1610",
   "metadata": {},
   "outputs": [],
   "source": [
    "# np.save('/Users/46h/Research/btf/btf-scripts/temp_data/x-emittance2d-surface.npy', surface)"
   ]
  },
  {
   "cell_type": "code",
   "execution_count": null,
   "id": "e2f43fa4-ce44-4ffe-94b0-61dd649cf8df",
   "metadata": {},
   "outputs": [],
   "source": [
    "norm = False\n",
    "_points = points_n if norm else points\n",
    "_surface = surface_n if norm else surface\n",
    "_lims = lims_n if norm else lims"
   ]
  },
  {
   "cell_type": "code",
   "execution_count": null,
   "id": "e79eb50c-b106-4cef-9378-f1f4841b1450",
   "metadata": {},
   "outputs": [],
   "source": [
    "fig, ax = pplt.subplots()\n",
    "ax.scatter(\n",
    "    _points[valid, 0], _points[valid, 1], \n",
    "    marker='.', \n",
    "    ms=8,\n",
    "    color='pink7',\n",
    ")\n",
    "for pts in _surface:\n",
    "    ax.plot(pts[:, 0], pts[:, 1], color='black', lw=0, marker='|')\n",
    "ax.format(xlabel='x2', ylabel='x1', xlim=_lims[0], ylim=_lims[1])\n",
    "# plt.savefig(f'xxpp_ellipse_scan_navg{navg}.png')\n",
    "plt.show()"
   ]
  },
  {
   "cell_type": "code",
   "execution_count": null,
   "id": "573d5886-32a5-42ad-8943-5bf20647010b",
   "metadata": {},
   "outputs": [],
   "source": [
    "i, j = 1, 0\n",
    "\n",
    "fig, ax = pplt.subplots()\n",
    "ax.scatter(\n",
    "    _points[:, i], _points[:, j], \n",
    "    marker='.', \n",
    "    ms=8,\n",
    "    color='lightgray',\n",
    "#     label='noise'\n",
    ")\n",
    "ax.scatter(\n",
    "    _points[valid, i], _points[valid, j], \n",
    "    marker='.', \n",
    "    ms=8,\n",
    "    color='pink7',\n",
    "    label='signal',\n",
    ")\n",
    "for k in range(2):\n",
    "    label = None\n",
    "    if k == 0:\n",
    "        label = 'interpolated boundary'\n",
    "    ax.plot(surface[k][:, i], surface[k][:, j], color='black', lw=1.0, label=label)\n",
    "ax.format(xlabel=['x2','x1'][i], ylabel=['x2','x1'][j], xlim=_lims[i], ylim=_lims[j])\n",
    "ax.legend(loc='t', framealpha=0)\n",
    "# plt.savefig(f'int_surface.png')\n",
    "plt.show()"
   ]
  },
  {
   "cell_type": "code",
   "execution_count": null,
   "id": "d74eb573-bea3-4182-9392-d12b6bdb9e3b",
   "metadata": {},
   "outputs": [],
   "source": [
    "print(len(points[valid]) / len(points))"
   ]
  },
  {
   "cell_type": "markdown",
   "id": "b4f6be03-a3da-4425-8215-04af2a196864",
   "metadata": {},
   "source": [
    "Do this in generator function."
   ]
  },
  {
   "cell_type": "code",
   "execution_count": null,
   "id": "ecd70b74-373a-4e3c-8fc2-60509aa0bcfc",
   "metadata": {},
   "outputs": [],
   "source": [
    "import importlib\n",
    "importlib.reload(sp)\n",
    "\n",
    "# Run points generator\n",
    "navg = 0\n",
    "kws = dict(\n",
    "    variables=variables, \n",
    "    M=M, \n",
    "    reprate=reprate,\n",
    "    navg=navg, \n",
    "    boundary='ellipsoid',  # {None, 'ellipsoid'} \n",
    "    R=1.1,\n",
    "    exclude_outside_box=True,\n",
    "    surface=surface,\n",
    ")\n",
    "lgen = list(sp.gen(**kws))\n",
    "\n",
    "# Reshape\n",
    "if navg > 0:\n",
    "    new_points = np.zeros((len(lgen), ndim))\n",
    "    for i in range(len(lgen)):\n",
    "        new_points[i, :] = lgen[i][0]\n",
    "else:\n",
    "    lgen = np.array(lgen)\n",
    "    new_points = np.zeros((2 * lgen.shape[0], ndim))\n",
    "    for i in range(ndim):\n",
    "        new_points[:, i] = lgen[:, i, :2].ravel()\n",
    "    \n",
    "# Un-shear generated points.\n",
    "new_points_n = utils.apply(Minv, new_points - center)"
   ]
  },
  {
   "cell_type": "code",
   "execution_count": null,
   "id": "4946bdfe-8abf-4d7a-a115-668ae5bfb023",
   "metadata": {},
   "outputs": [],
   "source": [
    "fig, axes = pplt.subplots(ncols=2, wspace=None, figwidth=None, share=False)\n",
    "for ax, _points, _new_points in zip(axes, [points[valid], points_n[valid]], [new_points, new_points_n]):\n",
    "    ax.scatter(\n",
    "        _points[:, 0], _points[:, 1], \n",
    "        marker='o', \n",
    "        ms=8,\n",
    "        color='pink4',\n",
    "        label='signal',\n",
    "    )\n",
    "    ax.plot(_new_points[:, 0], _new_points[:, 1], marker='.', s=3, lw=1.0, color='grey', label='scan')\n",
    "axes.format(xlabel=acts[0], ylabel=acts[1], toplabels=['Sheared', 'Un-sheared'])\n",
    "axes[0].legend(ncols=1, loc='upper left')\n",
    "for ax in axes:\n",
    "    xmin, xmax = ax.get_xlim()\n",
    "    if xmin > xmax:\n",
    "        xmin, xmax = xmax, xmin\n",
    "    delta = 1.0\n",
    "    xmin -= delta\n",
    "    xmax += delta\n",
    "    ax.format(xlim=(xmin, xmax))\n",
    "lims, lims_n = [(ax.get_xlim(), ax.get_ylim()) for ax in axes]\n",
    "plt.show()"
   ]
  },
  {
   "cell_type": "markdown",
   "id": "c53f4578-c04a-427d-bd14-15b6f2b6c04f",
   "metadata": {},
   "source": [
    "## Convert to phase space coordinates "
   ]
  },
  {
   "cell_type": "code",
   "execution_count": null,
   "id": "dcfd4bfb-16e5-4420-8022-2c48a9dfb53d",
   "metadata": {},
   "outputs": [],
   "source": [
    "y1 = -data['y_PositionSync'].copy()\n",
    "y2 = -data['yp_PositionSync'].copy()"
   ]
  },
  {
   "cell_type": "code",
   "execution_count": null,
   "id": "851a8ff0-c84b-48a7-9b2e-1425ea455bc9",
   "metadata": {},
   "outputs": [],
   "source": [
    "from tools.energyVS06 import EnergyCalculate\n",
    "\n",
    "l = 0.129  # dipole face to screen (assume same for first/last dipole-screen)\n",
    "if cam.lower() == 'cam06':\n",
    "    GL05 = 0.0  # QH05 integrated field strength\n",
    "    GL06 = 0.0  # QH06 integrated field strength  (1 [A] = -0.0778 [Tm])\n",
    "    l1 = 0.280  # slit1 to QH05 center\n",
    "    l2 = 0.210  # QH05 center to QV06 center\n",
    "    l3 = 0.457  # QV06 center to slit2\n",
    "    L2 = 0.599  # slit2 to dipole face\n",
    "    if GL05 == 0.0 and file['config']['metadata']['BTF_MEBT_Mag:PS_QH05:I_Set'][0] != 0.0:\n",
    "        print('Warning: QH05 is turned on according to metadata.')\n",
    "    if GL05 != 0.0 and file['config']['metadata']['BTF_MEBT_Mag:PS_QH05:I_Set'][0] == 0.0:\n",
    "        print('Warning: QH05 is turned off according to metadata.')\n",
    "    if GL06 == 0.0 and file['config']['metadata']['BTF_MEBT_Mag:PS_QV06:I_Set'][0] != 0.0:\n",
    "        print('Warning: QH06 is turned on according to metadata.')\n",
    "    if GL06 != 0.0 and file['config']['metadata']['BTF_MEBT_Mag:PS_QV06:I_Set'][0] == 0.0:\n",
    "        print('Warning: QH06 is turned off according to metadata.')\n",
    "elif cam.lower() == 'cam34':\n",
    "    GL05 = 0.0 \n",
    "    GL06 = 0.0 \n",
    "    l1 = 0.000 \n",
    "    l2 = 0.000 \n",
    "    l3 = 0.774  \n",
    "    L2 = 0.311 \n",
    "LL = l1 + l2 + l3 + L2  # distance from emittance plane to dipole entrance\n",
    "ecalc = EnergyCalculate(l1=l1, l2=l2, l3=l3, L2=L2, l=l)\n",
    "Mslit = ecalc.getM1(GL05=GL05, GL06=GL06)  # slit-slit"
   ]
  },
  {
   "cell_type": "code",
   "execution_count": null,
   "id": "2080ec3c-6322-49d5-88a4-fd0cb692b4ea",
   "metadata": {},
   "outputs": [],
   "source": [
    "# Convert to phase space coordinates.\n",
    "y = y1.copy()\n",
    "yp = 1e3 * ecalc.calculate_yp(y1 * 1e-3, y2 * 1e-3, Mslit)  \n",
    "\n",
    "y -= np.mean(y)\n",
    "yp -= np.mean(yp)\n",
    "\n",
    "# Define a regular grid.\n",
    "n = 30\n",
    "ygrid = np.linspace(np.min(y), np.max(y), int(1.1 * n) + 1)\n",
    "ypgrid = np.linspace(np.min(yp), np.max(yp), int(1.6 * n) + 1)\n",
    "\n",
    "# Interpolate points onto the regular grid.\n",
    "points = np.vstack([y, yp]).T\n",
    "new_points = utils.get_grid_coords(ygrid, ypgrid)\n",
    "f = interpolate.griddata(points, signal, new_points, method='linear', fill_value=0.0)\n",
    "f = f.reshape(len(ygrid), len(ypgrid))\n",
    "f = f / np.max(f)\n",
    "f[f < 0.0001] = 0\n",
    "\n",
    "# Subtract centroid\n",
    "ygrid -= np.average(ygrid, weights=np.sum(f, axis=1))\n",
    "ypgrid -= np.average(ypgrid, weights=np.sum(f, axis=0))"
   ]
  },
  {
   "cell_type": "code",
   "execution_count": null,
   "id": "cc9a7e7f-9372-48d3-8201-0d5f959ae05d",
   "metadata": {},
   "outputs": [],
   "source": [
    "fig, axes = pplt.subplots(ncols=3, share=False)\n",
    "axes[0].scatter(y, yp, c=signal, marker='o', s=10)\n",
    "for ax, norm in zip(axes[1:], [None, 'log']):\n",
    "    mplt.plot_image(f / np.max(f), x=ygrid, handle_log='floor',\n",
    "                    frac_thresh=1e-3,\n",
    "                    y=ypgrid, ax=ax, colorbar=True, norm=norm)   \n",
    "axes.format(ylim=(-10.0, 10.0))\n",
    "axes.format(xlabel='y [mm]', ylabel='yp [mrad]')"
   ]
  },
  {
   "cell_type": "code",
   "execution_count": null,
   "id": "e361ac74-4bae-4d59-a981-2608d2180804",
   "metadata": {},
   "outputs": [],
   "source": [
    "df = pd.DataFrame(\n",
    "    data=np.vstack([\n",
    "        np.hstack([None, ygrid]),\n",
    "        np.hstack([ypgrid[:, None], f.T]),\n",
    "    ]),\n",
    ")\n",
    "directory = '/Users/46h/Research/code/btf-data-analysis/misc/'\n",
    "df.to_csv(\n",
    "    join(directory, f\"emittance-data-y-{filename.split('-')[0]}.csv\"),\n",
    "    header=False,\n",
    "    index=False,\n",
    ")"
   ]
  },
  {
   "cell_type": "code",
   "execution_count": null,
   "id": "17ce6f36-de8d-4a24-9163-4668b8bef9dc",
   "metadata": {},
   "outputs": [],
   "source": []
  }
 ],
 "metadata": {
  "kernelspec": {
   "display_name": "Python 3",
   "language": "python",
   "name": "python3"
  },
  "language_info": {
   "codemirror_mode": {
    "name": "ipython",
    "version": 3
   },
   "file_extension": ".py",
   "mimetype": "text/x-python",
   "name": "python",
   "nbconvert_exporter": "python",
   "pygments_lexer": "ipython3",
   "version": "3.7.6"
  }
 },
 "nbformat": 4,
 "nbformat_minor": 5
}
