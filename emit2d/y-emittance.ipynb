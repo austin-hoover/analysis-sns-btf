{
 "cells": [
  {
   "cell_type": "markdown",
   "id": "7a6a345b-4755-4a21-8c4c-72ab506dd637",
   "metadata": {},
   "source": [
    "# y-y' emittance"
   ]
  },
  {
   "cell_type": "code",
   "execution_count": null,
   "id": "6b3f6ec5-c39a-4172-b74b-7656bc8a9271",
   "metadata": {},
   "outputs": [],
   "source": [
    "import sys\n",
    "import os\n",
    "from os.path import join\n",
    "from pprint import pprint\n",
    "import importlib\n",
    "import numpy as np\n",
    "import matplotlib.pyplot as plt\n",
    "from matplotlib import patches\n",
    "import pandas as pd\n",
    "import h5py\n",
    "from scipy import ndimage\n",
    "import proplot as pplt\n",
    "\n",
    "sys.path.append('..')\n",
    "from tools import image_processing as ip\n",
    "from tools import utils\n",
    "from tools import plotting as mplt\n",
    "from tools import energyVS06 as energy\n",
    "\n",
    "sys.path.append('/Users/46h/Research/btf/btf-scripts/')\n",
    "import scan_patterns as sp"
   ]
  },
  {
   "cell_type": "code",
   "execution_count": null,
   "id": "13ce0cb5-30ef-433c-873f-0b9d8533869d",
   "metadata": {},
   "outputs": [],
   "source": [
    "pplt.rc['grid'] = False\n",
    "pplt.rc['cmap.sequential'] = 'viridis'\n",
    "pplt.rc['cmap.discrete'] = False"
   ]
  },
  {
   "cell_type": "code",
   "execution_count": null,
   "id": "4015ae65-d006-436c-b61d-c5d82839eaaf",
   "metadata": {},
   "outputs": [],
   "source": [
    "datadir = '../Diagnostics/Data/Measurements/2022-06-16/'\n",
    "filenames = os.listdir(datadir)\n",
    "filenames"
   ]
  },
  {
   "cell_type": "code",
   "execution_count": null,
   "id": "89f95501-b95c-4049-b6a3-274236d6d101",
   "metadata": {},
   "outputs": [],
   "source": [
    "filename = '220616114247-y-emittance2d.h5'\n",
    "file = h5py.File(join(datadir, filename), 'r')\n",
    "data = file['scandata']\n",
    "pprint(data.dtype.fields)"
   ]
  },
  {
   "cell_type": "code",
   "execution_count": null,
   "id": "1355240e-d00c-4add-b61d-af387ee2e91a",
   "metadata": {},
   "outputs": [],
   "source": [
    "acts = ['y_PositionSync', 'yp_PositionSync']\n",
    "signame = 'cam34_Integral'\n",
    "sdiag = ['cam34_Integral', 'cam34_Saturation', 'bcm04']\n",
    "signal = data[signame]"
   ]
  },
  {
   "cell_type": "code",
   "execution_count": null,
   "id": "c8cef983-a4ac-4f0e-abbc-96dfc9708862",
   "metadata": {},
   "outputs": [],
   "source": [
    "# Errors and warnings from log\n",
    "for i in range(file['log'].size):\n",
    "    if not(file['/log'][i, 'level'] == 'INFO'.encode('utf')):\n",
    "        timestr = datetime.fromtimestamp(file['/log'][0, 'timestamp']).strftime(\"%m/%d/%Y, %H:%M:%S\")\n",
    "        print(f\"{timestr} {file['log'][i, 'message']}\")\n",
    "\n",
    "# Configuration data\n",
    "for key in file['/config'].keys():\n",
    "    print(f\"{key}\")\n",
    "    print(\"--------------\")\n",
    "    for name in file['/config'][key].dtype.names:\n",
    "        print(f\"{name}: {file['config'][key][name]}\")\n",
    "    print()"
   ]
  },
  {
   "cell_type": "code",
   "execution_count": null,
   "id": "bc1dffdf-eab6-42e2-b028-27cb6256ddbe",
   "metadata": {},
   "outputs": [],
   "source": [
    "cam = 'cam34'\n",
    "cam_settings = ip.camera_settings(cam)"
   ]
  },
  {
   "cell_type": "code",
   "execution_count": null,
   "id": "a44b7a2b-0d35-4206-9ae5-65634694b41f",
   "metadata": {},
   "outputs": [],
   "source": [
    "fig, ax = pplt.subplots(figsize=(8, 2))\n",
    "for act in acts:\n",
    "    ax.plot(data[:, act], marker=None, label=act)  # plt.plot(tpred,act3,':',color='C2')\n",
    "ax.legend()\n",
    "ax.format(xlabel='Step', ylabel='[mm]')"
   ]
  },
  {
   "cell_type": "code",
   "execution_count": null,
   "id": "186c11a8-a7b5-4e5c-9576-0b3331e03547",
   "metadata": {},
   "outputs": [],
   "source": [
    "fig, ax = pplt.subplots()\n",
    "ax.scatter(data[:, acts[1]], data[:, acts[0]], marker='s', s=50, \n",
    "           c=signal, norm='log', \n",
    "           colorbar=True, colorbar_kw=dict(label=signame))\n",
    "ax.format(xlabel=acts[1], ylabel=acts[0])\n",
    "# plt.savefig('_output/y2d')"
   ]
  },
  {
   "cell_type": "code",
   "execution_count": null,
   "id": "6f038a63-18a2-44f7-a3dd-f44001d80221",
   "metadata": {},
   "outputs": [],
   "source": [
    "for item in sdiag:\n",
    "    print(f'Diagnostic: {item}')\n",
    "    print('Max = {:.3f}'.format(np.max(data[:, item])))\n",
    "    print('Min = {:.3f}'.format(np.min(data[:, item])))\n",
    "    print('Mean = {:.3f}'.format(np.mean(data[:, item])))\n",
    "    fig, ax = pplt.subplots(figsize=(7.0, 2.0))\n",
    "    ax.plot(data[:, item], color='black', marker='.', ms=4, label=item)\n",
    "    ax.format(xlabel='Step', ylabel=item)\n",
    "    plt.show()"
   ]
  },
  {
   "cell_type": "markdown",
   "id": "ba938a1b-ac94-4e80-9d53-ba55b4676300",
   "metadata": {},
   "source": [
    "#### Pick frames for background calculation"
   ]
  },
  {
   "cell_type": "code",
   "execution_count": null,
   "id": "7d05292f-3896-456d-8ff9-969b3d0f7ddd",
   "metadata": {},
   "outputs": [],
   "source": [
    "bgidx = np.arange(1, 35)\n",
    "\n",
    "fig, ax = pplt.subplots()\n",
    "ax.plot(data[:, acts[0]], data[:, acts[1]], alpha=0.2, color='grey')\n",
    "ax.scatter(data[:, acts[0]], data[:, acts[1]], marker='s', \n",
    "           c=signal, norm='log',\n",
    "           colorbar=True, colorbar_kw=dict(label=f'log10({signame})'))\n",
    "\n",
    "ax.plot(data[bgidx, acts[0]], data[bgidx, acts[1]], 'rs', label='Background')\n",
    "ax.legend(loc='t')\n",
    "ax.format(xlabel=acts[0], ylabel=acts[1])"
   ]
  },
  {
   "cell_type": "markdown",
   "id": "5a65a8ec-f4de-419b-82b8-65991c286506",
   "metadata": {
    "tags": []
   },
   "source": [
    "## Threshold "
   ]
  },
  {
   "cell_type": "code",
   "execution_count": null,
   "id": "18af470d-e2f1-449e-bbc8-fd4d80c1275e",
   "metadata": {
    "tags": []
   },
   "outputs": [],
   "source": [
    "# thr = 0.043\n",
    "thr = 0.1075\n",
    "w = signal.copy()\n",
    "w[w < thr] = 0.0\n",
    "print(f'signame = {signame}')\n",
    "print('Est 4D dynamic range 10^%.3f'%np.log10(thr / max(w)))"
   ]
  },
  {
   "cell_type": "code",
   "execution_count": null,
   "id": "cf0b1980-0673-4c31-8b58-d6f592dc9e92",
   "metadata": {},
   "outputs": [],
   "source": [
    "idx, = np.where(signal >= thr)"
   ]
  },
  {
   "cell_type": "code",
   "execution_count": null,
   "id": "d7437057-9f9c-483e-92ce-d46808f5b14a",
   "metadata": {},
   "outputs": [],
   "source": [
    "fig, ax = pplt.subplots(figsize=(8.0, 2.0))\n",
    "ax.semilogy(signal, color='black', lw=0, marker='.', s=5)\n",
    "ax.semilogy(idx, signal[idx], marker='.', s=1, color='red', lw=0, label='Above thresh')\n",
    "ax.legend()\n",
    "ax.format(xlabel='Step', ylabel=signame)"
   ]
  },
  {
   "cell_type": "code",
   "execution_count": null,
   "id": "09247eb2-3917-4265-aa8f-a3993a461b54",
   "metadata": {},
   "outputs": [],
   "source": [
    "fig, ax = pplt.subplots(figsize=(8.0, 2.0))\n",
    "ax.semilogy(np.sort(signal), color='black', lw=0, marker='.', s=5)\n",
    "ax.semilogy(np.sort(w), marker='.', color='red', lw=0, s=1, label='Above thresh')\n",
    "ax.legend()\n",
    "ax.format(xlabel='Step', ylabel=signame,)"
   ]
  },
  {
   "cell_type": "code",
   "execution_count": null,
   "id": "0e8e0083-26c3-45d6-8ce6-54acd4859c53",
   "metadata": {},
   "outputs": [],
   "source": [
    "fig, axes = pplt.subplots(ncols=2)\n",
    "for mask, ax in zip([False, True], axes):\n",
    "    c = np.ma.masked_less_equal(signal, thr) if mask else signal\n",
    "    ax.scatter(\n",
    "        data[:, acts[1]], data[:, acts[0]], marker='s', s=50,\n",
    "        c=c, norm='log',\n",
    "        colorbar=True\n",
    "    )\n",
    "axes[1].format(xlim=axes[0].get_xlim(), ylim=axes[0].get_ylim())\n",
    "axes.format(xlabel=acts[1], ylabel=acts[0])"
   ]
  },
  {
   "cell_type": "markdown",
   "id": "fb63ccc1-348d-4df2-b49d-7a87dd2567da",
   "metadata": {},
   "source": [
    "## Measure against new scan boundaries"
   ]
  },
  {
   "cell_type": "markdown",
   "id": "f3a9744b-de42-47c0-a4cd-fc68a3171123",
   "metadata": {},
   "source": [
    "Make a list of coordinates that have signal."
   ]
  },
  {
   "cell_type": "code",
   "execution_count": null,
   "id": "9691adf6-f9f5-4c77-accb-60cfe9e29c29",
   "metadata": {},
   "outputs": [],
   "source": [
    "pts = np.vstack([data[:, acts[0]], data[:, acts[1]]]).T\n",
    "sig_pts = pts[idx, :]"
   ]
  },
  {
   "cell_type": "markdown",
   "id": "1e37212c-e4dd-4353-95f2-79dc9e68d5f2",
   "metadata": {},
   "source": [
    "Define \"normalized\" actuator coordinates."
   ]
  },
  {
   "cell_type": "code",
   "execution_count": null,
   "id": "3fcf3618-c4fc-456f-b3e0-afd513fa493f",
   "metadata": {},
   "outputs": [],
   "source": [
    "ndim = 2\n",
    "nsteps = 32\n",
    "M = np.identity(ndim)\n",
    "M[0, 1] = 0.55\n",
    "slit_dict = {\n",
    "    'y1': {\n",
    "        'pvname': 'ITSF_Diag:Slit_VT34b',\n",
    "        'center': 6.5,\n",
    "        'distance': 16.5,\n",
    "        'steps': nsteps,\n",
    "        'min': -50.0,\n",
    "        'max': +50.0,\n",
    "    },\n",
    "    'y2': {\n",
    "        'pvname': 'ITSF_Diag:Slit_VT34a',\n",
    "        'center': 9.5,\n",
    "        'distance': 18.0,\n",
    "        'steps': nsteps,\n",
    "        'min': -50.0, \n",
    "        'max': +50.0\n",
    "    }\n",
    "}\n",
    "reprate = 5\n",
    "navg = 0\n",
    "keys = ['y1', 'y2']\n",
    "for key in keys:\n",
    "    slit_dict[key]['distance'] *= 1.0"
   ]
  },
  {
   "cell_type": "code",
   "execution_count": null,
   "id": "4388bdf4-3374-4762-8538-a154a68b0b53",
   "metadata": {},
   "outputs": [],
   "source": [
    "importlib.reload(sp)"
   ]
  },
  {
   "cell_type": "code",
   "execution_count": null,
   "id": "483eb953-e4fd-4b98-882f-3af842db85bb",
   "metadata": {
    "tags": []
   },
   "outputs": [],
   "source": [
    "def gen(navg=1): \n",
    "    center = np.array([slit_dict[keys[i]]['center'] for i in range(ndim)])\n",
    "    distance = np.array([slit_dict[keys[i]]['distance'] for i in range(ndim)])\n",
    "    nsteps = np.array([slit_dict[keys[i]]['steps'] for i in range(ndim)])\n",
    "    \n",
    "    grid = sp.ellipsoid(center, distance, nsteps, fit=navg==0)\n",
    "        \n",
    "    ##### STEPPER SCAN COMMANDS\n",
    "    if navg > 0:           \n",
    "        for point in grid:\n",
    "            realpoint = np.matmul(M, point - center) + center\n",
    "            # don't let slit destination exceed min/max specified in slit_dict\n",
    "            # skip points that exceed this limit, but otherwise do not change scan\n",
    "            skip = False\n",
    "            for i in range(ndim):\n",
    "                if (realpoint[i] > slit_dict[keys[i]]['max']) or (realpoint[i] < slit_dict[keys[i]]['min']):\n",
    "                    skip = True\n",
    "            if skip:\n",
    "                continue\n",
    "            yield realpoint, navg\n",
    "        \n",
    "    ##### SWEEPER SCAN COMMANDS\n",
    "    elif navg == 0:\n",
    "        sweep_speed = distance[0]/nsteps[0]*reprate\n",
    "        nsteps[0] = 1\n",
    "\n",
    "        # -- call grid instance and get first point (note that this point is\n",
    "        # now removed from `grid`)\n",
    "        lastpoint = next(grid)\n",
    "        # -- step through grid points\n",
    "        for point in grid:\n",
    "            # -- skip points where sweeper doesn't move\n",
    "            if (point[0] - lastpoint[0]) == 0:\n",
    "                lastpoint = point.copy()\n",
    "                continue\n",
    "                \n",
    "            # -- transform to real slit coordinates\n",
    "            realpoint = np.matmul(M, point - center) + center\n",
    "            reallastpoint = np.matmul(M, lastpoint - center) + center\n",
    "            \n",
    "            # -- copy last point for next iteration\n",
    "            lastpoint = point.copy()\n",
    "            \n",
    "            # -- parse moving/stationary slits on this step\n",
    "            istay, imove = [], []\n",
    "            for j in range(ndim):\n",
    "                dxj = np.abs(realpoint[j] - reallastpoint[j])\n",
    "                if dxj == 0:  # this point is a stepping point\n",
    "                    istay.append(j)\n",
    "                else:\n",
    "                    imove.append(j)\n",
    "                 \n",
    "            ## - this block applies conditions for corner-cutting\n",
    "            # if slit isn't moving but is in invalid region, skip this step\n",
    "            skip = False\n",
    "            for i in istay:\n",
    "                if (realpoint[i] > slit_dict[keys[i]]['max']) or (realpoint[i] < slit_dict[keys[i]]['min']):\n",
    "                    skip = True\n",
    "            if skip:\n",
    "                continue\n",
    "            # constrain sweepers to valid region. This may cause\n",
    "            # odd behavior if there is > 1 sweeper.\n",
    "            for i in imove:\n",
    "                if (reallastpoint[i] > slit_dict[keys[i]]['max']):\n",
    "                    reallastpoint[i] = slit_dict[keys[i]]['max']\n",
    "                if (reallastpoint[i] < slit_dict[keys[i]]['min']):\n",
    "                    reallastpoint[i] = slit_dict[keys[i]]['min']\n",
    "                if (realpoint[i] > slit_dict[keys[i]]['max']):\n",
    "                    realpoint[i] = slit_dict[keys[i]]['max']\n",
    "                if (realpoint[i] < slit_dict[keys[i]]['min']):\n",
    "                    realpoint[i] = slit_dict[keys[i]]['min']\n",
    "            # -- don't send a command if nothing moves \n",
    "            # (happens on 1st, last pts)\n",
    "            if np.all(np.array(reallastpoint) == np.array(realpoint)):\n",
    "                continue\n",
    "            # - send command if it passed all checks above\n",
    "            # -- build up cmd list\n",
    "            cmd = []\n",
    "            # -- 1st slit always gets sweeper command\n",
    "            cmd.append((reallastpoint[0], realpoint[0], sweep_speed))\n",
    "            # -- commands for the rest of the actuators\n",
    "            for j in range(1, ndim):\n",
    "                # if slope, stepper may have to sweep as well\n",
    "                stepper_speed = sweep_speed * (np.abs(realpoint[j] - reallastpoint[j]) / distance[0])\n",
    "                cmd.append((reallastpoint[j], realpoint[j], stepper_speed))\n",
    "            yield cmd"
   ]
  },
  {
   "cell_type": "code",
   "execution_count": null,
   "id": "0be5be9c-9c11-4f60-ac54-e55f6976bca4",
   "metadata": {
    "tags": []
   },
   "outputs": [],
   "source": [
    "# Run points generator\n",
    "lgen = list(gen(navg=navg))\n",
    "\n",
    "# Reshape\n",
    "if navg > 0:\n",
    "    new_pts = np.zeros((len(lgen), ndim))\n",
    "    for i in range(len(lgen)):\n",
    "        new_pts[i, :] = lgen[i][0]\n",
    "else:\n",
    "    lgen = np.array(lgen)\n",
    "    new_pts = np.zeros((2 * lgen.shape[0], ndim))\n",
    "    for i in range(ndim):\n",
    "        new_pts[:, i] = lgen[:, i, :2].ravel()\n",
    "    \n",
    "# Un-shear new (generated) points.\n",
    "center = np.array([slit_dict['y1']['center'], slit_dict['y2']['center']])\n",
    "Minv = np.linalg.inv(M)\n",
    "new_pts_n = utils.apply(Minv, new_pts - center) + center\n",
    "new_pts_n = utils.apply(Minv, new_pts - center) + center\n",
    "\n",
    "# Un-shear signal points.\n",
    "sig_pts_n = np.zeros(sig_pts.shape)\n",
    "for row in range(sig_pts.shape[0]):\n",
    "    sig_pts_n[row, :] = np.matmul(Minv, sig_pts[row, :] - center) + center\n",
    "    \n",
    "# Get actuator coordinates.\n",
    "coords = np.vstack([data[:, acts[0]], data[:, acts[1]]]).T\n",
    "coords_n = np.zeros(coords.shape)\n",
    "for row in range(coords.shape[0]):\n",
    "    coords_n[row, :] = np.matmul(Minv, coords[row, :] - center) + center\n",
    "    \n",
    "# Compute ellipse coordinates.\n",
    "center = np.array([slit_dict[keys[i]]['center'] for i in range(ndim)])\n",
    "distance = np.array([slit_dict[keys[i]]['distance'] for i in range(ndim)])\n",
    "phi = np.linspace(0.0, 2.0 * np.pi, 100)\n",
    "xx_n = 0.5 * distance[0] * np.cos(phi) \n",
    "yy_n = 0.5 * distance[1] * np.sin(phi)\n",
    "xx, yy = utils.apply(M, np.vstack([xx_n, yy_n]).T).T"
   ]
  },
  {
   "cell_type": "code",
   "execution_count": null,
   "id": "4aca5676-b3ac-4e4d-8963-9dc58daa5631",
   "metadata": {},
   "outputs": [],
   "source": [
    "fig, axes = pplt.subplots(ncols=2, wspace=None, figwidth=None)\n",
    "c = np.ma.masked_less_equal(signal, thr) if mask else signal\n",
    "for ax, _pts, _new_pts in zip(axes, [sig_pts, sig_pts_n], [new_pts, new_pts_n]):\n",
    "    ax.scatter(_pts[:, 0], _pts[:, 1], marker='s', color='pink1', label='signal')\n",
    "    ax.plot(_new_pts[:, 0], _new_pts[:, 1], marker='.', s=3, lw=1.0, color='grey', label='scan')\n",
    "axes.format(xlabel=acts[0], ylabel=acts[1], toplabels=['Sheared', 'Un-sheared'])\n",
    "for ax, x, y in zip(axes, [xx, xx_n], [yy, yy_n]):\n",
    "    ax.plot(x + center[0], y + center[1], color='black', ls='-', lw=1.0)\n",
    "for ax in axes:\n",
    "    xmin, xmax = ax.get_xlim()\n",
    "    if xmin > xmax:\n",
    "        xmin, xmax = xmax, xmin\n",
    "    ax.format(xlim=(xmin, xmax))\n",
    "for ax in axes:\n",
    "    xmin, xmax = ax.get_xlim()\n",
    "    width = np.abs(xmax - xmin)\n",
    "    xmid = 0.5 * (xmax + xmin)\n",
    "    pad = 0.1\n",
    "    xmin = xmid - (0.5 + pad) * width\n",
    "    xmax = xmid + (0.5 + pad) * width\n",
    "    ax.format(xlim=(xmin, xmax))\n",
    "axes[0].legend(ncols=1, loc='upper left')\n",
    "# plt.savefig(f'yyp_ellipse_scan_navg{navg}.png')\n",
    "plt.show()"
   ]
  },
  {
   "cell_type": "markdown",
   "id": "c53f4578-c04a-427d-bd14-15b6f2b6c04f",
   "metadata": {},
   "source": [
    "## Convert to phase space coordinates "
   ]
  },
  {
   "cell_type": "code",
   "execution_count": null,
   "id": "128a0059-ac9c-43cc-a240-06f55bf5dc4f",
   "metadata": {},
   "outputs": [],
   "source": [
    "y1 = data['y_PositionSync'].copy()\n",
    "y2 = data['yp_PositionSync'].copy()"
   ]
  },
  {
   "cell_type": "code",
   "execution_count": null,
   "id": "17536ca7-08f8-46e5-9df2-80058a273091",
   "metadata": {},
   "outputs": [],
   "source": [
    "a2mm = 1.009  # assume same as first dipole\n",
    "rho = 0.3556\n",
    "GL05 = 0.0\n",
    "GL06 = 0.0\n",
    "l1 = 0.0\n",
    "l2 = 0.0\n",
    "l3 = 0.774\n",
    "L2 = 0.311  # slit2 to dipole face\n",
    "l = 0.129  # dipole face to VS06 screen (assume same for first/last dipole-screen)\n",
    "LL = l1 + l2 + l3 + L2  # distance from emittance plane to dipole entrance\n",
    "\n",
    "ecalc = energy.EnergyCalculate(l1=l1, l2=l2, l3=l3, L2=L2, l=l, amp2meter=a2mm*1e3)\n",
    "Mslit = ecalc.getM1()  # slit-slit\n",
    "Mscreen = ecalc.getM()  # slit-screen\n",
    "\n",
    "# Watch the negative signs!\n",
    "y = y1\n",
    "yp = 1e3 * ecalc.calculate_yp(y1 * 1e-3, y2 * 1e-3, Mslit)  \n",
    "y = y - np.mean(y)\n",
    "yp = yp - np.mean(yp)"
   ]
  },
  {
   "cell_type": "code",
   "execution_count": null,
   "id": "cc9a7e7f-9372-48d3-8201-0d5f959ae05d",
   "metadata": {},
   "outputs": [],
   "source": [
    "points = np.vstack([y, yp]).T\n",
    "values = signal\n",
    "\n",
    "n = 28\n",
    "y_gv = np.linspace(np.min(y), np.max(y), n)\n",
    "yp_gv = np.linspace(np.min(yp), np.max(yp), int(1.4 * n))\n",
    "Y, YP = np.meshgrid(y_gv, yp_gv, indexing='ij')\n",
    "new_points = np.vstack([Y.ravel(), YP.ravel()]).T\n",
    "\n",
    "from scipy import interpolate\n",
    "f = interpolate.griddata(points, values, new_points, method='linear', fill_value=0.0)\n",
    "f = f.reshape(len(y_gv), len(yp_gv))\n",
    "\n",
    "fig, axes = pplt.subplots(ncols=2)\n",
    "axes[0].scatter(y, yp, c=signal, marker='.')\n",
    "for g in y_gv:\n",
    "    axes[0].axvline(g, color='black', alpha=0.1)\n",
    "for g in yp_gv:\n",
    "    axes[0].axhline(g, color='black', alpha=0.1)\n",
    "f = np.clip(f - 0.03 * f.max(), 0.0, None)\n",
    "mplt.plot_image(f / np.max(f), x=y_gv, y=yp_gv, ax=axes[1], colorbar=True)\n",
    "axes.format(xlabel='y [mm]', ylabel='yp [mrad]')"
   ]
  },
  {
   "cell_type": "code",
   "execution_count": null,
   "id": "22ef6fe8-4444-4f64-996a-d5efc0ac480d",
   "metadata": {},
   "outputs": [],
   "source": []
  }
 ],
 "metadata": {
  "kernelspec": {
   "display_name": "Python 3",
   "language": "python",
   "name": "python3"
  },
  "language_info": {
   "codemirror_mode": {
    "name": "ipython",
    "version": 3
   },
   "file_extension": ".py",
   "mimetype": "text/x-python",
   "name": "python",
   "nbconvert_exporter": "python",
   "pygments_lexer": "ipython3",
   "version": "3.7.6"
  }
 },
 "nbformat": 4,
 "nbformat_minor": 5
}
