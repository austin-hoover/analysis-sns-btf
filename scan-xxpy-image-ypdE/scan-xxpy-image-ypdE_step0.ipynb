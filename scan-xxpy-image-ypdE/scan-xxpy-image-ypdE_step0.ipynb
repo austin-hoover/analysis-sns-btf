{
 "cells": [
  {
   "cell_type": "markdown",
   "id": "129c3f1b-a272-46e8-ba26-2c814b431d6c",
   "metadata": {
    "tags": []
   },
   "source": [
    "# Step 0"
   ]
  },
  {
   "cell_type": "code",
   "execution_count": null,
   "id": "7bc5f5bf-a777-4cbf-a9c7-02547a5191fd",
   "metadata": {},
   "outputs": [],
   "source": [
    "import sys\n",
    "import os\n",
    "from os.path import join\n",
    "import time\n",
    "from datetime import datetime\n",
    "import importlib\n",
    "import numpy as np\n",
    "import pandas as pd\n",
    "import h5py\n",
    "import imageio\n",
    "from scipy import ndimage\n",
    "from scipy import interpolate\n",
    "import skimage\n",
    "from tqdm import tqdm\n",
    "from tqdm import trange\n",
    "from matplotlib import pyplot as plt\n",
    "from matplotlib import cm as cm\n",
    "from matplotlib import colors\n",
    "from matplotlib import patches\n",
    "import proplot as pplt\n",
    "\n",
    "import energyVS06 as energy\n",
    "from plotting import plot_profiles\n",
    "from plotting import plot_image\n",
    "from plotting import thresh_image"
   ]
  },
  {
   "cell_type": "code",
   "execution_count": null,
   "id": "38bc9335-4d1a-4afb-bded-f1b825effecf",
   "metadata": {},
   "outputs": [],
   "source": [
    "pplt.rc['grid'] = False\n",
    "pplt.rc['cmap.discrete'] = False\n",
    "pplt.rc['cmap.sequential'] = 'viridis'"
   ]
  },
  {
   "cell_type": "code",
   "execution_count": null,
   "id": "73ba5406-86d1-438f-a07b-3483f031064b",
   "metadata": {},
   "outputs": [],
   "source": [
    "cam = 'cam34'\n",
    "datadir = '/Diagnostics/Data/Measurements/scan-xxpy-image-ypdE/2022-04-29/'\n",
    "filenames = os.listdir(datadir)\n",
    "filenames"
   ]
  },
  {
   "cell_type": "code",
   "execution_count": null,
   "id": "4938eb37-25a0-44a2-8949-890639762244",
   "metadata": {},
   "outputs": [],
   "source": [
    "filename = '220429190854-scan-xxpy-image-ypdE'\n",
    "\n",
    "ndim, names = 3, []\n",
    "for i in range(1, ndim + 1):\n",
    "    names.extend([f'start{i}', f'stop{i}', f'speed{i}'])\n",
    "\n",
    "df = pd.read_csv(join(datadir, filename + '.csv'), \n",
    "                 skiprows=25, sep='\\s+', header=None, names=names)\n",
    "\n",
    "act_pts = []\n",
    "for i in range(1, ndim + 1):\n",
    "    act_pts.append(df.loc[:, [f'start{i}', f'stop{i}']].values.ravel())\n",
    "    \n",
    "fig, axes = pplt.subplots(nrows=3, figsize=(7, 3))\n",
    "for i, ax in enumerate(axes):\n",
    "    ax.plot(act_pts[i], color='black')\n",
    "plt.show()"
   ]
  },
  {
   "cell_type": "code",
   "execution_count": null,
   "id": "77f0006e-170c-47fc-95f2-5f996a1696d3",
   "metadata": {
    "scrolled": true,
    "tags": []
   },
   "outputs": [],
   "source": [
    "file = h5py.File(join(datadir, filename + '.h5'), 'r')\n",
    "\n",
    "# Errors and warnings from log\n",
    "for i in range(file['log'].size):\n",
    "    if not(file['/log'][i, 'level'] == 'INFO'.encode('utf')):\n",
    "        timestr = datetime.fromtimestamp(file['/log'][0, 'timestamp']).strftime(\"%m/%d/%Y, %H:%M:%S\")\n",
    "        print(f\"{timestr} {file['log'][i, 'message']}\")\n",
    "\n",
    "# Configuration data\n",
    "for key in file['/config'].keys():\n",
    "    print(f\"{key}\")\n",
    "    print(\"--------------\")\n",
    "    for name in file['/config'][key].dtype.names:\n",
    "        print(f\"{name}: {file['config'][key][name]}\")\n",
    "    print()"
   ]
  },
  {
   "cell_type": "code",
   "execution_count": null,
   "id": "2fff1c38-92b1-47ab-9345-362c408cdded",
   "metadata": {},
   "outputs": [],
   "source": [
    "data = file['/scandata']\n",
    "attrs = data.dtype.names\n",
    "sc_dtype = []\n",
    "sc_attrs = list(attrs)\n",
    "wf_dtype = []\n",
    "wf_attrs = []\n",
    "im_dtype = []\n",
    "im_attrs = []\n",
    "print('Moving the following columns:')\n",
    "for i in reversed(range(len(attrs))):\n",
    "    if '_Image' in attrs[i]:\n",
    "        sc_attrs.pop(i)\n",
    "        im_attrs.append(attrs[i])\n",
    "        im_dtype.append((attrs[i], data.dtype[attrs[i]]))\n",
    "        print(attrs[i])\n",
    "    elif 'Profile' in attrs[i]:\n",
    "        sc_attrs.pop(i)\n",
    "        wf_attrs.append(attrs[i])\n",
    "        wf_dtype.append((attrs[i], data.dtype[attrs[i]]))\n",
    "        print(attrs[i])\n",
    "    else:\n",
    "        sc_dtype.append((attrs[i], data.dtype[attrs[i]]))\n",
    "        \n",
    "sc_dtype = np.dtype(sc_dtype)\n",
    "wf_dtype = np.dtype(wf_dtype)\n",
    "im_dtype = np.dtype(im_dtype)\n",
    "\n",
    "print('\\nscalars:')\n",
    "print(sc_dtype)\n",
    "print('\\nwaveforms:')\n",
    "print(wf_dtype)\n",
    "print('\\nimage:')\n",
    "print(im_dtype)"
   ]
  },
  {
   "cell_type": "code",
   "execution_count": null,
   "id": "f0315ce1-9e61-4f18-80d9-119f4622313a",
   "metadata": {},
   "outputs": [],
   "source": [
    "acts = sc_attrs[5:]\n",
    "print('Actuators:')\n",
    "print(acts)\n",
    "\n",
    "sdiag = list(np.array(sc_attrs[2:5]))\n",
    "print('Scalar diagnostics:')\n",
    "print(sdiag)"
   ]
  },
  {
   "cell_type": "code",
   "execution_count": null,
   "id": "9a5ba029-4c33-4796-a14f-b64c90abe7f2",
   "metadata": {},
   "outputs": [],
   "source": [
    "print('# iterations %i'%data[-1,'iteration'])\n",
    "duration = data[-1, 'timestamp'] - data[0, 'timestamp']\n",
    "print('%i points recorded over duration %.1f secondata (%.1f hours)'%(len(data),duration,duration/60/60))\n",
    "print('Effective rep rate = %.2f'%(len(data) / duration))\n",
    "\n",
    "iteration_duration = duration / data[-1, 'iteration']\n",
    "print('Time per iteration: %.2f secondata'%iteration_duration)\n",
    "npts_iteration = len(data) / data[-1, 'iteration']\n",
    "print('Points per iteration: %.2f '%npts_iteration)"
   ]
  },
  {
   "cell_type": "code",
   "execution_count": null,
   "id": "893e9736-371e-4946-a65c-ad2b1e09c82e",
   "metadata": {},
   "outputs": [],
   "source": [
    "idx = np.arange(240)\n",
    "times = [datetime.fromtimestamp(data[i, 'timestamp']) for i in range(len(data))]"
   ]
  },
  {
   "cell_type": "code",
   "execution_count": null,
   "id": "ec5b0c5a-f85f-43df-a0a4-e40fe28126f7",
   "metadata": {},
   "outputs": [],
   "source": [
    "fig, axes = pplt.subplots(nrows=3, figsize=(7, 4), spany=False, aligny=True)\n",
    "for ax, act in zip(axes, acts):\n",
    "    ax.plot(idx, data[idx, act], color='black')\n",
    "    ax.set_ylabel(act)\n",
    "plt.show()"
   ]
  },
  {
   "cell_type": "code",
   "execution_count": null,
   "id": "832434a2-6c56-48db-8182-1a7cb1ace456",
   "metadata": {},
   "outputs": [],
   "source": [
    "dt = np.diff(data[:,'timestamp'])\n",
    "print('reprate = %.2f Hz'%(1/np.median(dt)))\n",
    "\n",
    "# -- mask out a long interruption\n",
    "print('Pauses longer than 30 seconds:')\n",
    "print(dt[dt > 30.0])\n",
    "dt[dt > 30.0] = 0.2\n",
    "\n",
    "duration = data[-1, 'timestamp'] - data[0, 'timestamp']\n",
    "print('effective rep-rate = %.2f Hz'%(len(data) / duration))\n",
    "\n",
    "hist,bins,pathces = plt.hist(dt,bins=21)\n",
    "plt.ylabel('bin counts')\n",
    "plt.xlabel('Pauses between datapoints')\n",
    "plt.gca().set_yscale('log')\n",
    "idx_bins = np.digitize(dt, bins)\n",
    "\n",
    "idx_pause, = np.where(idx_bins>1)\n",
    "\n",
    "print('most long pauses are %.2f seconds'%np.median(dt[idx_pause]))"
   ]
  },
  {
   "cell_type": "code",
   "execution_count": null,
   "id": "3fbfd6af-0cac-42c5-a2a5-edb6a9423266",
   "metadata": {
    "jupyter": {
     "source_hidden": true
    },
    "tags": []
   },
   "outputs": [],
   "source": [
    "idx_plot = np.arange(0,lds,1)\n",
    "\n",
    "timeplot = []\n",
    "for i in idx_plot:\n",
    "    timeplot.append(datetime.fromtimestamp(ds[i,'timestamp']))"
   ]
  },
  {
   "cell_type": "code",
   "execution_count": null,
   "id": "f7324e67-4df7-459a-8971-78c4fa44b7bc",
   "metadata": {
    "tags": []
   },
   "outputs": [],
   "source": [
    "item = 'bcm04'\n",
    "tmp_ = ds[:,item]\n",
    "plt.figure(figsize=[16,3])\n",
    "plt.plot(timeplot,tmp_[idx_plot],'.-'); \n",
    "plt.title(item)\n",
    "plt.ylim([-28,-32])\n",
    "plt.grid(axis='y')\n",
    "\n",
    "print('Before masking, average BCM current = %.3f +- %.3f mA'%(np.mean(tmp_),np.std(tmp_)))"
   ]
  },
  {
   "cell_type": "code",
   "execution_count": null,
   "id": "6253a810-3d49-4194-b3fb-20ae86509f7e",
   "metadata": {},
   "outputs": [],
   "source": [
    "### Mask BCM current\n",
    "bcm_limit=20\n",
    "idx_mask2, = np.where(tmp_>-1*bcm_limit)\n",
    "print(idx_mask2)\n",
    "print('%i points masked due to bcm current < %.3f mA'%(len(idx_mask2),bcm_limit))\n",
    "\n",
    "plt.figure()\n",
    "plt.plot(idx_mask2,tmp_[idx_mask2],'.')\n",
    "plt.ylabel('bcm current [mA]')\n",
    "plt.xlabel('Point #')\n",
    "plt.title('Points masked due to low BCM current')\n",
    "\n",
    "# -- apply mask\n",
    "timemask = []\n",
    "for i in idx_mask2:\n",
    "    timemask.append(datetime.fromtimestamp(ds[i,'timestamp']))\n",
    "\n",
    "\n",
    "# -- \n",
    "idx_plot2, = np.where(~np.isin(idx_plot,idx_mask2))\n",
    "timeplot2 = []\n",
    "for i in idx_plot2:\n",
    "    timeplot2.append(datetime.fromtimestamp(ds[i,'timestamp']))\n",
    "\n",
    "print('After masking, average BCM current = %.3f +- %.3f mA'%(np.mean(tmp_[idx_plot2]),np.std(tmp_[idx_plot2])))\n",
    "\n"
   ]
  },
  {
   "cell_type": "code",
   "execution_count": null,
   "id": "5dc23d84-76ef-4568-910b-924d2fde0988",
   "metadata": {},
   "outputs": [],
   "source": [
    "for item in sc_attrs:\n",
    "    plt.figure(figsize=[16,3])\n",
    "    plt.plot(timeplot,ds[idx_plot,item],'.-'); \n",
    "    plt.plot(timemask,ds[idx_mask2,item],'x')\n",
    "    plt.title(item)\n"
   ]
  },
  {
   "cell_type": "code",
   "execution_count": null,
   "id": "33b1e93b-a455-43ac-85ac-a6bfb461b8b7",
   "metadata": {},
   "outputs": [],
   "source": [
    "idx_peak = np.argmax(ds[:,'%s_Integral'%camname])\n",
    "\n",
    "plt.figure(figsize=[10,5]); \n",
    "plt.subplot(121)\n",
    "plt.title('%s:ProfileY'%camname)\n",
    "plt.plot(ds[idx_peak,'%s_ProfileY'%camname],'.-')\n",
    "\n",
    "plt.subplot(122)\n",
    "plt.title('%s:ProfileY'%camname)\n",
    "plt.semilogy(ds[idx_peak,'%s_ProfileY'%camname]/ds[idx_peak,'%s_ProfileY'%camname].max(),'.-')\n",
    "#plt.ylim([.01,1.01])\n",
    "\n",
    "plt.figure(figsize=[10,5]); \n",
    "plt.subplot(121)\n",
    "plt.title('%s:ProfileX'%camname)\n",
    "plt.plot(ds[idx_peak,'%s_ProfileX'%camname],'.-')\n",
    "\n",
    "plt.subplot(122) \n",
    "plt.title('%s:ProfileX'%camname)\n",
    "plt.semilogy(ds[idx_peak,'%s_ProfileX'%camname]/ds[idx_peak,'%s_ProfileX'%camname].max(),'.-')\n",
    "#plt.ylim([.01,1.01])\n",
    "\n",
    "\n",
    "pix_max = max(ds[idx_peak,'%s_Image'%camname].flatten())\n",
    "print('peak at VT04=%.3f mm, VT06=%.3f mm, HZ04=%.3f mm'%(ds[idx_peak,'x_PositionSync'],\n",
    "                                                        ds[idx_peak,'xp_PositionSync'],\n",
    "                                                        ds[idx_peak,'y_PositionSync']))\n",
    "print('Max pixel value %i'%(pix_max))\n",
    "print('Saturation %.3f'%(ds[idx_peak,'%s_Saturation'%camname]))"
   ]
  },
  {
   "cell_type": "code",
   "execution_count": null,
   "id": "039611d9-4ab0-4b16-9607-cb5f1ca02a0d",
   "metadata": {},
   "outputs": [],
   "source": [
    "idx_peak"
   ]
  },
  {
   "cell_type": "markdown",
   "id": "f8d6d4e3-06db-4f1d-9519-1e423fb0c7af",
   "metadata": {},
   "source": [
    "# Divide into datasets by data-type, save new .h5 file\n"
   ]
  },
  {
   "cell_type": "code",
   "execution_count": null,
   "id": "ceab3dd3-9bf6-40e5-91f0-06a4ba514984",
   "metadata": {},
   "outputs": [],
   "source": [
    "writer = h5py.File(join(datadir, 'preproc-'+ filename + '.h5'), 'w')\n",
    "data_sc = writer.create_dataset('scalar_data', (len(data),), dtype=sc_dtype)\n",
    "data_wf = writer.create_dataset('waveform_data', (len(data),), dtype=wf_dtype)\n",
    "data_im = writer.create_dataset('image_data', (len(data),), dtype=im_dtype)\n",
    "for i in trange(len(data)):\n",
    "    for attr in sc_attrs:\n",
    "        data_sc[i, attr] = data[i, attr]\n",
    "    for attr in wf_attrs:\n",
    "        data_wf[i, attr] = data[i, attr]\n",
    "    for attr in im_attrs:\n",
    "        data_im[i, attr] = data[i, attr]\n",
    "writer.close()"
   ]
  }
 ],
 "metadata": {
  "kernelspec": {
   "display_name": "Python 3 (ipykernel)",
   "language": "python",
   "name": "python3"
  },
  "language_info": {
   "codemirror_mode": {
    "name": "ipython",
    "version": 3
   },
   "file_extension": ".py",
   "mimetype": "text/x-python",
   "name": "python",
   "nbconvert_exporter": "python",
   "pygments_lexer": "ipython3",
   "version": "3.9.6"
  }
 },
 "nbformat": 4,
 "nbformat_minor": 5
}
