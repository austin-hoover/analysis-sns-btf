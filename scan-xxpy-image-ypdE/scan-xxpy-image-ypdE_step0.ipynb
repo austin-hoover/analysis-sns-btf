{
 "cells": [
  {
   "cell_type": "markdown",
   "id": "129c3f1b-a272-46e8-ba26-2c814b431d6c",
   "metadata": {
    "tags": []
   },
   "source": [
    "# Step 0"
   ]
  },
  {
   "cell_type": "code",
   "execution_count": null,
   "id": "7bc5f5bf-a777-4cbf-a9c7-02547a5191fd",
   "metadata": {},
   "outputs": [],
   "source": [
    "import sys\n",
    "import os\n",
    "from os.path import join\n",
    "import time\n",
    "from datetime import datetime\n",
    "import importlib\n",
    "import numpy as np\n",
    "import pandas as pd\n",
    "import h5py\n",
    "import imageio\n",
    "from scipy import ndimage\n",
    "from scipy import interpolate\n",
    "import skimage\n",
    "from tqdm import tqdm\n",
    "from tqdm import trange\n",
    "from matplotlib import pyplot as plt\n",
    "from matplotlib import cm as cm\n",
    "from matplotlib import colors\n",
    "from matplotlib import patches\n",
    "import proplot as pplt\n",
    "\n",
    "# Local\n",
    "sys.path.append('..')\n",
    "from tools import energyVS06 as energy\n",
    "from tools import image_processing as ip\n",
    "from tools.plotting import plot_profiles\n",
    "from tools.plotting import plot_image\n",
    "from tools.plotting import plot_compare_images"
   ]
  },
  {
   "cell_type": "code",
   "execution_count": null,
   "id": "38bc9335-4d1a-4afb-bded-f1b825effecf",
   "metadata": {},
   "outputs": [],
   "source": [
    "pplt.rc['grid'] = False\n",
    "pplt.rc['cmap.discrete'] = False\n",
    "pplt.rc['cmap.sequential'] = 'viridis'"
   ]
  },
  {
   "cell_type": "code",
   "execution_count": null,
   "id": "73ba5406-86d1-438f-a07b-3483f031064b",
   "metadata": {},
   "outputs": [],
   "source": [
    "datadir = '/Diagnostics/Data/Measurements/scan-xxpy-image-ypdE/2022-04-29/'\n",
    "filenames = os.listdir(datadir)\n",
    "filenames"
   ]
  },
  {
   "cell_type": "markdown",
   "id": "968b179c-eda3-4948-b22d-a278a80c7bb5",
   "metadata": {},
   "source": [
    "## Scan overview "
   ]
  },
  {
   "cell_type": "code",
   "execution_count": null,
   "id": "01e62cbf-eab6-4a0b-ae3d-f90a5e8c4509",
   "metadata": {},
   "outputs": [],
   "source": [
    "filename = '220429190854-scan-xxpy-image-ypdE'"
   ]
  },
  {
   "cell_type": "code",
   "execution_count": null,
   "id": "9f9d7bd8-4cd7-4b4d-aecd-b0dad4948bcf",
   "metadata": {
    "scrolled": true,
    "tags": []
   },
   "outputs": [],
   "source": [
    "file = h5py.File(join(datadir, filename + '.h5'), 'r')\n",
    "\n",
    "# Errors and warnings from log\n",
    "for i in range(file['log'].size):\n",
    "    if not(file['/log'][i, 'level'] == 'INFO'.encode('utf')):\n",
    "        timestr = datetime.fromtimestamp(file['/log'][0, 'timestamp']).strftime(\"%m/%d/%Y, %H:%M:%S\")\n",
    "        print(f\"{timestr} {file['log'][i, 'message']}\")\n",
    "\n",
    "# Configuration data\n",
    "for key in file['/config'].keys():\n",
    "    print(f\"{key}\")\n",
    "    print(\"--------------\")\n",
    "    for name in file['/config'][key].dtype.names:\n",
    "        print(f\"{name}: {file['config'][key][name]}\")\n",
    "    print()"
   ]
  },
  {
   "cell_type": "code",
   "execution_count": null,
   "id": "4938eb37-25a0-44a2-8949-890639762244",
   "metadata": {},
   "outputs": [],
   "source": [
    "# Create DataFrame of actuator start, stop, speed.\n",
    "ndim, names = 3, []\n",
    "for i in range(1, ndim + 1):\n",
    "    names.extend([f'start{i}', f'stop{i}', f'speed{i}'])\n",
    "df = pd.read_csv(join(datadir, filename + '.csv'), \n",
    "                 skiprows=25, sep='\\s+', header=None, names=names)\n",
    "\n",
    "# Extract actuator points.\n",
    "act_pts = []\n",
    "for i in range(1, ndim + 1):\n",
    "    act_pts.append(df.loc[:, [f'start{i}', f'stop{i}']].values.ravel())\n",
    "    \n",
    "# Plot actuator points.\n",
    "fig, axes = pplt.subplots(nrows=3, figsize=(7, 3))\n",
    "for i, ax in enumerate(axes):\n",
    "    ax.plot(act_pts[i], color='black')\n",
    "plt.show()"
   ]
  },
  {
   "cell_type": "code",
   "execution_count": null,
   "id": "3bf0cd0a-63b9-44a5-94f8-a3f1f48d2dc8",
   "metadata": {},
   "outputs": [],
   "source": [
    "data = file['/scandata']\n",
    "for item in data.dtype.fields.items():\n",
    "    print(item)"
   ]
  },
  {
   "cell_type": "code",
   "execution_count": null,
   "id": "b432abe0-1346-4f84-bbc9-c8cffb1690ba",
   "metadata": {},
   "outputs": [],
   "source": [
    "acts = data.dtype.names[-3:]"
   ]
  },
  {
   "cell_type": "code",
   "execution_count": null,
   "id": "9a5ba029-4c33-4796-a14f-b64c90abe7f2",
   "metadata": {},
   "outputs": [],
   "source": [
    "print('# iterations %i'%data[-1,'iteration'])\n",
    "duration = data[-1, 'timestamp'] - data[0, 'timestamp']\n",
    "print('%i points recorded over duration %.1f seconds (%.1f hours)'%(len(data), duration, duration / 3660))\n",
    "print('Effective rep rate = %.2f'%(len(data) / duration))\n",
    "\n",
    "iteration_duration = duration / data[-1, 'iteration']\n",
    "print('Time per iteration: %.2f seconds'%iteration_duration)\n",
    "npts_iteration = len(data) / data[-1, 'iteration']\n",
    "print('Points per iteration: %.2f '%npts_iteration)"
   ]
  },
  {
   "cell_type": "code",
   "execution_count": null,
   "id": "893e9736-371e-4946-a65c-ad2b1e09c82e",
   "metadata": {},
   "outputs": [],
   "source": [
    "idx = np.arange(240)\n",
    "times = [datetime.fromtimestamp(data[i, 'timestamp']) for i in range(len(data))]"
   ]
  },
  {
   "cell_type": "code",
   "execution_count": null,
   "id": "ec5b0c5a-f85f-43df-a0a4-e40fe28126f7",
   "metadata": {},
   "outputs": [],
   "source": [
    "fig, axes = pplt.subplots(nrows=3, figsize=(7, 4), spany=False, aligny=True)\n",
    "for ax, act in zip(axes, acts):\n",
    "    ax.plot(idx, data[idx, act], color='black')\n",
    "    ax.set_ylabel(act)\n",
    "plt.show()"
   ]
  },
  {
   "cell_type": "code",
   "execution_count": null,
   "id": "832434a2-6c56-48db-8182-1a7cb1ace456",
   "metadata": {},
   "outputs": [],
   "source": [
    "dt = np.diff(data[:, 'timestamp'])\n",
    "print('reprate = %.2f Hz'%(1/np.median(dt)))\n",
    "\n",
    "# Mask long interruptions.\n",
    "print('Pauses longer than 30 seconds:')\n",
    "print(dt[dt > 30.0])\n",
    "dt[dt > 30.0] = 0.2\n",
    "\n",
    "duration = data[-1, 'timestamp'] - data[0, 'timestamp']\n",
    "print('effective rep-rate = %.2f Hz'%(len(data) / duration))\n",
    "\n",
    "hist,bins,pathces = plt.hist(dt,bins=21)\n",
    "plt.ylabel('bin counts')\n",
    "plt.xlabel('Pauses between datapoints')\n",
    "plt.gca().set_yscale('log')\n",
    "idx_bins = np.digitize(dt, bins)\n",
    "idx_pause, = np.where(idx_bins>1)\n",
    "print('most long pauses are %.2f seconds'%np.median(dt[idx_pause]))"
   ]
  },
  {
   "cell_type": "code",
   "execution_count": null,
   "id": "3fbfd6af-0cac-42c5-a2a5-edb6a9423266",
   "metadata": {
    "tags": []
   },
   "outputs": [],
   "source": [
    "# idx_plot = np.arange(0,lds,1)\n",
    "\n",
    "# timeplot = []\n",
    "# for i in idx_plot:\n",
    "#     timeplot.append(datetime.fromtimestamp(ds[i,'timestamp']))"
   ]
  },
  {
   "cell_type": "code",
   "execution_count": null,
   "id": "f7324e67-4df7-459a-8971-78c4fa44b7bc",
   "metadata": {
    "tags": []
   },
   "outputs": [],
   "source": [
    "# item = 'bcm04'\n",
    "# tmp_ = ds[:,item]\n",
    "# plt.figure(figsize=[16,3])\n",
    "# plt.plot(timeplot,tmp_[idx_plot],'.-'); \n",
    "# plt.title(item)\n",
    "# plt.ylim([-28,-32])\n",
    "# plt.grid(axis='y')\n",
    "\n",
    "# print('Before masking, average BCM current = %.3f +- %.3f mA'%(np.mean(tmp_),np.std(tmp_)))"
   ]
  },
  {
   "cell_type": "code",
   "execution_count": null,
   "id": "6253a810-3d49-4194-b3fb-20ae86509f7e",
   "metadata": {},
   "outputs": [],
   "source": [
    "# ### Mask BCM current\n",
    "# bcm_limit=20\n",
    "# idx_mask2, = np.where(tmp_>-1*bcm_limit)\n",
    "# print(idx_mask2)\n",
    "# print('%i points masked due to bcm current < %.3f mA'%(len(idx_mask2),bcm_limit))\n",
    "\n",
    "# plt.figure()\n",
    "# plt.plot(idx_mask2,tmp_[idx_mask2],'.')\n",
    "# plt.ylabel('bcm current [mA]')\n",
    "# plt.xlabel('Point #')\n",
    "# plt.title('Points masked due to low BCM current')\n",
    "\n",
    "# # -- apply mask\n",
    "# timemask = []\n",
    "# for i in idx_mask2:\n",
    "#     timemask.append(datetime.fromtimestamp(ds[i,'timestamp']))\n",
    "\n",
    "\n",
    "# # -- \n",
    "# idx_plot2, = np.where(~np.isin(idx_plot,idx_mask2))\n",
    "# timeplot2 = []\n",
    "# for i in idx_plot2:\n",
    "#     timeplot2.append(datetime.fromtimestamp(ds[i,'timestamp']))\n",
    "\n",
    "# print('After masking, average BCM current = %.3f +- %.3f mA'%(np.mean(tmp_[idx_plot2]),np.std(tmp_[idx_plot2])))\n",
    "\n"
   ]
  },
  {
   "cell_type": "code",
   "execution_count": null,
   "id": "5dc23d84-76ef-4568-910b-924d2fde0988",
   "metadata": {},
   "outputs": [],
   "source": [
    "# for item in sc_attrs:\n",
    "#     plt.figure(figsize=[16,3])\n",
    "#     plt.plot(timeplot,ds[idx_plot,item],'.-'); \n",
    "#     plt.plot(timemask,ds[idx_mask2,item],'x')\n",
    "#     plt.title(item)\n"
   ]
  },
  {
   "cell_type": "code",
   "execution_count": null,
   "id": "33b1e93b-a455-43ac-85ac-a6bfb461b8b7",
   "metadata": {},
   "outputs": [],
   "source": [
    "# idx_peak = np.argmax(data[:,'%s_Integral'%cam])\n",
    "\n",
    "# plt.figure(figsize=[10,5]); \n",
    "# plt.subplot(121)\n",
    "# plt.title('%s:ProfileY'%cam)\n",
    "# plt.plot(data[idx_peak,'%s_ProfileY'%cam],'.-')\n",
    "\n",
    "# plt.subplot(122)\n",
    "# plt.title('%s:ProfileY'%cam)\n",
    "# plt.semilogy(data[idx_peak,'%s_ProfileY'%cam]/data[idx_peak,'%s_ProfileY'%cam].max(),'.-')\n",
    "# #plt.ylim([.01,1.01])\n",
    "\n",
    "# plt.figure(figsize=[10,5]); \n",
    "# plt.subplot(121)\n",
    "# plt.title('%s:ProfileX'%cam)\n",
    "# plt.plot(data[idx_peak,'%s_ProfileX'%cam],'.-')\n",
    "\n",
    "# plt.subplot(122) \n",
    "# plt.title('%s:ProfileX'%cam)\n",
    "# plt.semilogy(data[idx_peak,'%s_ProfileX'%cam]/data[idx_peak,'%s_ProfileX'%cam].max(),'.-')\n",
    "# #plt.ylim([.01,1.01])\n",
    "\n",
    "\n",
    "# pix_max = max(data[idx_peak,'%s_Image'%cam].flatten())\n",
    "# print('peak at VT04=%.3f mm, VT06=%.3f mm, HZ04=%.3f mm'%(data[idx_peak,'x_PositionSync'],\n",
    "#                                                         data[idx_peak,'xp_PositionSync'],\n",
    "#                                                         data[idx_peak,'y_PositionSync']))\n",
    "# print('Max pixel value %i'%(pix_max))\n",
    "# print('Saturation %.3f'%(data[idx_peak,'%s_Saturation'%cam]))"
   ]
  },
  {
   "cell_type": "markdown",
   "id": "a224c64c-9b70-441a-8e7f-b8f3011eef5f",
   "metadata": {},
   "source": [
    "## Process images "
   ]
  },
  {
   "cell_type": "code",
   "execution_count": null,
   "id": "aff80bc4-ec8a-4fc9-9d80-cd9236e4b0ba",
   "metadata": {},
   "outputs": [],
   "source": [
    "cam = 'cam34'\n",
    "ny = 512\n",
    "nx = 612\n",
    "\n",
    "def get_image(index):\n",
    "    return data[index, cam + '_Image'].reshape(ny, nx)"
   ]
  },
  {
   "cell_type": "code",
   "execution_count": null,
   "id": "a2f5ad30-9f0b-407b-af8f-31941f33ceb1",
   "metadata": {},
   "outputs": [],
   "source": [
    "ipeak = np.argmax(data[cam + '_Integral'])"
   ]
  },
  {
   "cell_type": "code",
   "execution_count": null,
   "id": "a24402c9-8bdd-4a91-8f5d-47801cf78d65",
   "metadata": {},
   "outputs": [],
   "source": [
    "im = get_image(ipeak)"
   ]
  },
  {
   "cell_type": "code",
   "execution_count": null,
   "id": "6abdb3f1-c374-42ba-9a69-fcd96a6fe9da",
   "metadata": {},
   "outputs": [],
   "source": [
    "edges = dict(l=140, r=100, b=130, t=80)\n",
    "im1 = ip.crop(im, **edges)\n",
    "\n",
    "axes = plot_compare_images(im, im1)\n",
    "for ax in axes[:, 0]:\n",
    "    width = im.shape[1] - (edges['l'] + edges['r'])\n",
    "    height = im.shape[0] - (edges['t'] + edges['b'])\n",
    "    center = (edges['l'], edges['b'])\n",
    "    ax.add_patch(patches.Rectangle(center, width, height, fill=False, ec='red'))\n",
    "plt.show()"
   ]
  },
  {
   "cell_type": "code",
   "execution_count": null,
   "id": "4810d2f0-b307-45a0-92d0-a46580cd27b6",
   "metadata": {},
   "outputs": [],
   "source": [
    "downscale_factor = 3\n",
    "im = np.copy(im1)\n",
    "im1 = skimage.transform.downscale_local_mean(\n",
    "    im, \n",
    "    (downscale_factor, downscale_factor)\n",
    ")\n",
    "print(f'New image shape =', im1.shape)\n",
    "print(f'im.nbytes / im_d.nbytes = {(im.nbytes / im1.nbytes):.3f}')\n",
    "\n",
    "axes = plot_compare_images(im, im1)\n",
    "axes.format(toplabels=['Original', f'Downscaled by factor {downscale_factor}'])"
   ]
  },
  {
   "cell_type": "code",
   "execution_count": null,
   "id": "5a359560-21e0-4e92-b4f5-8739363e2205",
   "metadata": {},
   "outputs": [],
   "source": [
    "thresh = 1000\n",
    "thresh_frac_peak = thresh / np.max(im)\n",
    "im = np.copy(im1)\n",
    "im1 = ip.thresh(im, thresh, mask=True)\n",
    "\n",
    "axes = plot_compare_images(im, im1)"
   ]
  },
  {
   "cell_type": "code",
   "execution_count": null,
   "id": "b4220094-537e-4770-ad0f-b32fc1c2666e",
   "metadata": {},
   "outputs": [],
   "source": [
    "irow, icol = np.where(im == np.max(im))\n",
    "i, j = irow[0], icol[0]\n",
    "fig, axes = pplt.subplots(ncols=3, sharey=False)\n",
    "axes[0].pcolormesh(im)\n",
    "kws = dict(color='red', alpha=0.4)\n",
    "axes[0].axhline(i, **kws)\n",
    "axes[0].axvline(j, **kws)\n",
    "axes[1].set_title(f'Row {i}')\n",
    "axes[2].set_title(f'Column {j}')\n",
    "kws = dict(color='black', lw=None)\n",
    "axes[1].plot(np.arange(im.shape[1]), im[i, :] / np.max(im[i, :]), **kws)\n",
    "axes[2].plot(np.arange(im.shape[0]), im[:, j] / np.max(im[:, j]), **kws)\n",
    "axes[1].axhline(thresh / np.max(im[i, :]), color='black', alpha=0.1)\n",
    "axes[2].axhline(thresh / np.max(im[:, j]), color='black', alpha=0.1)\n",
    "axes[1:].format(yscale='log')\n",
    "plt.show()"
   ]
  },
  {
   "cell_type": "markdown",
   "id": "c52cb3f9-3800-4a04-86b6-e687de1b46e9",
   "metadata": {},
   "source": [
    "Now we process all the images."
   ]
  },
  {
   "cell_type": "code",
   "execution_count": null,
   "id": "b7b44e73-9690-4ad1-95bb-de68c40e6733",
   "metadata": {},
   "outputs": [],
   "source": [
    "images = []\n",
    "for index in trange(len(data)):\n",
    "    im = get_image(index)\n",
    "    im = ip.crop(im, **edges)\n",
    "    im = skimage.transform.downscale_local_mean(\n",
    "        im, \n",
    "        (downscale_factor, downscale_factor),\n",
    "    )\n",
    "    # im[im < thresh] = 0  \n",
    "    images.append(im)"
   ]
  },
  {
   "cell_type": "markdown",
   "id": "f8d6d4e3-06db-4f1d-9519-1e423fb0c7af",
   "metadata": {},
   "source": [
    "## Divide into datasets by data-type, save new .h5 file"
   ]
  },
  {
   "cell_type": "markdown",
   "id": "de4a3c34-f5a8-468c-8ac8-1125d0584a23",
   "metadata": {},
   "source": [
    "Create a new h5 file with three data sets: scalar (0d), waveform (1d), and image (2d). First, collect the appropriate dtypes."
   ]
  },
  {
   "cell_type": "code",
   "execution_count": null,
   "id": "314a76bb-0887-4b45-81b9-3e2f7d06af1f",
   "metadata": {},
   "outputs": [],
   "source": [
    "attrs = data.dtype.names\n",
    "sc_dtype, sc_attrs = [], list(attrs)\n",
    "print(sc_attrs)\n",
    "wf_dtype, wf_attrs = [], []\n",
    "im_dtype, im_attrs = [], []\n",
    "print('Moving the following columns:')\n",
    "for i in reversed(range(len(attrs))):\n",
    "    attr = attrs[i]\n",
    "    if '_Image' in attr:\n",
    "        sc_attrs.pop(i)\n",
    "        im_attrs.append(attr)\n",
    "        im_dtype.append((attr, data.dtype[attr]))\n",
    "        print(attr)\n",
    "    elif 'Profile' in attr:\n",
    "        sc_attrs.pop(i)\n",
    "        wf_attrs.append(attr)\n",
    "        wf_dtype.append((attr, data.dtype[attr]))\n",
    "        print(attr)\n",
    "    else:\n",
    "        sc_dtype.append((attr, data.dtype[attr]))\n",
    "        \n",
    "sc_dtype = np.dtype(sc_dtype)\n",
    "wf_dtype = np.dtype(wf_dtype)\n",
    "im_dtype = np.dtype(im_dtype)\n",
    "\n",
    "# Override the image dtype. The original images had dtype '<i4', but they\n",
    "# became floats if they were downsized.\n",
    "im_dtype = np.dtype([(cam + '_Image', str(images[0].dtype), (images[0].size,))])\n",
    "\n",
    "print('\\nscalars:')\n",
    "print(sc_dtype)\n",
    "print('\\nwaveforms:')\n",
    "print(wf_dtype)\n",
    "print('\\nimage:')\n",
    "print(im_dtype)"
   ]
  },
  {
   "cell_type": "code",
   "execution_count": null,
   "id": "ceab3dd3-9bf6-40e5-91f0-06a4ba514984",
   "metadata": {},
   "outputs": [],
   "source": [
    "writer = h5py.File(join(datadir, 'preproc-' + filename + '.h5'), 'w')\n",
    "data_sc = writer.create_dataset('scalardata', (len(data),), dtype=sc_dtype)\n",
    "data_wf = writer.create_dataset('wfdata', (len(data),), dtype=wf_dtype)\n",
    "data_im = writer.create_dataset('imagedata', (len(data),), dtype=im_dtype)\n",
    "for i in trange(len(data)):\n",
    "    for attr in sc_attrs:\n",
    "        data_sc[i, attr] = data[i, attr]\n",
    "    for attr in wf_attrs:\n",
    "        data_wf[i, attr] = data[i, attr]\n",
    "    for attr in im_attrs:\n",
    "        # data_im[i, attr] = data[i, attr]\n",
    "        data_im[i, attr] = images[i].ravel()\n",
    "writer.close()"
   ]
  },
  {
   "cell_type": "code",
   "execution_count": null,
   "id": "7db761d4-2433-44f8-8f4d-7f686d198f3f",
   "metadata": {},
   "outputs": [],
   "source": [
    "print(images[0].shape)  # I guess you'll just have to copy this to th next notebook."
   ]
  }
 ],
 "metadata": {
  "kernelspec": {
   "display_name": "Python 3 (ipykernel)",
   "language": "python",
   "name": "python3"
  },
  "language_info": {
   "codemirror_mode": {
    "name": "ipython",
    "version": 3
   },
   "file_extension": ".py",
   "mimetype": "text/x-python",
   "name": "python",
   "nbconvert_exporter": "python",
   "pygments_lexer": "ipython3",
   "version": "3.9.6"
  }
 },
 "nbformat": 4,
 "nbformat_minor": 5
}
