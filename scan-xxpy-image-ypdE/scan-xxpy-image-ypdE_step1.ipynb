{
 "cells": [
  {
   "cell_type": "markdown",
   "id": "7851e81d-2d3b-4dcc-8ab8-943bebd31c9d",
   "metadata": {
    "tags": []
   },
   "source": [
    "# Step 1"
   ]
  },
  {
   "cell_type": "code",
   "execution_count": 1,
   "id": "38089eaf-189d-4ffa-8fce-f257eec6dbe6",
   "metadata": {},
   "outputs": [],
   "source": [
    "import sys\n",
    "import os\n",
    "from os.path import join\n",
    "import time\n",
    "from datetime import datetime\n",
    "import importlib\n",
    "import numpy as np\n",
    "import pandas as pd\n",
    "import h5py\n",
    "import imageio\n",
    "from scipy import ndimage\n",
    "from scipy import interpolate\n",
    "import skimage\n",
    "from tqdm import tqdm\n",
    "from tqdm import trange\n",
    "from matplotlib import pyplot as plt\n",
    "from matplotlib import cm as cm\n",
    "from matplotlib import colors\n",
    "from matplotlib import patches\n",
    "import proplot as pplt\n",
    "\n",
    "# Local\n",
    "sys.path.append('..')\n",
    "from tools import energyVS06 as energy\n",
    "from tools.plotting import plot_profiles\n",
    "from tools.plotting import plot_image\n",
    "from tools.plotting import plot_compare_images\n",
    "from tools import image_processing as ip\n",
    "from tools.utils import get_bins"
   ]
  },
  {
   "cell_type": "code",
   "execution_count": null,
   "id": "9543a20b-ce8a-4a9c-a137-33ceaf1813d4",
   "metadata": {},
   "outputs": [],
   "source": [
    "pplt.rc['grid'] = False\n",
    "pplt.rc['cmap.discrete'] = False\n",
    "pplt.rc['cmap.sequential'] = 'viridis'"
   ]
  },
  {
   "cell_type": "markdown",
   "id": "8fa534a3-3907-4d2e-b969-d985bd4ba560",
   "metadata": {},
   "source": [
    "## Setup "
   ]
  },
  {
   "cell_type": "code",
   "execution_count": null,
   "id": "d9217f3e-fa52-43de-a28f-21a0d13d6b64",
   "metadata": {},
   "outputs": [],
   "source": [
    "cam = 'cam34'\n",
    "datadir = '/Diagnostics/Data/Measurements/scan-xxpy-image-ypdE/2022-04-29/'\n",
    "filenames = os.listdir(datadir)\n",
    "filenames"
   ]
  },
  {
   "cell_type": "code",
   "execution_count": null,
   "id": "ae99a357-cf4f-4625-8a68-3c4101b7aa41",
   "metadata": {},
   "outputs": [],
   "source": [
    "filename = '220429190854-scan-xxpy-image-ypdE'\n",
    "file = h5py.File(join(datadir, 'preproc-' + filename + '.h5'), 'r')\n",
    "data_sc = file['/scalar_data']\n",
    "data_wf = file['/waveform_data']\n",
    "data_im = file['/image_data']\n",
    "\n",
    "print('All attributes:')\n",
    "print()\n",
    "for data in [data_sc, data_wf, data_im]:\n",
    "    print(data.name)\n",
    "    for item in data.dtype.fields.items():\n",
    "        print(item)\n",
    "    print()"
   ]
  },
  {
   "cell_type": "code",
   "execution_count": null,
   "id": "bba7f9e0-18a8-4a75-88d6-a46a281928c9",
   "metadata": {},
   "outputs": [],
   "source": [
    "acts = data_sc.dtype.names[:3]\n",
    "print('Actuators:')\n",
    "print(acts)\n",
    "\n",
    "print('Scalar diagnostics:')\n",
    "sdiag = data_sc.dtype.names[3:6]\n",
    "print(sdiag)"
   ]
  },
  {
   "cell_type": "code",
   "execution_count": null,
   "id": "32f87899-abc7-4d77-a3ab-1e700d438f88",
   "metadata": {},
   "outputs": [],
   "source": [
    "signal = np.copy(data_sc[:, cam + '_Integral'])\n",
    "ipeak = np.argmax(signal)\n",
    "print('Index of peak signal:', ipeak)"
   ]
  },
  {
   "cell_type": "markdown",
   "id": "0cda9d59-3650-420b-9ea6-6478263f03eb",
   "metadata": {},
   "source": [
    "### Mask BCM current"
   ]
  },
  {
   "cell_type": "code",
   "execution_count": null,
   "id": "55398008-52a3-470b-ba47-068f6d54ca1f",
   "metadata": {},
   "outputs": [],
   "source": [
    "# Gather the BCM data.\n",
    "pv = 'bcm04'\n",
    "bcm_data = data_sc[pv]\n",
    "idx = np.arange(len(data))\n",
    "times = [datetime.fromtimestamp(data_sc[i, 'timestamp']) for i in idx]\n",
    "times = np.array(times)\n",
    "print(f'Average BCM current (before masking) = {np.mean(bcm_data):.3f} +- {np.std(bcm_data):.3f} [mA]')\n",
    "\n",
    "# Mask any low-current points.\n",
    "bcm_limit = 25.0  # [mA]\n",
    "idx_mask, = np.where(bcm_data > -bcm_limit)\n",
    "idx_valid, = np.where(~np.isin(idx, idx_mask))\n",
    "print('idx_mask:', idx_mask)\n",
    "print(f'{len(idx_mask)} points masked due to BCM current < {bcm_limit:.3f} [mA]')\n",
    "print(f'Average BCM current (after masking) = {np.mean(bcm_data[idx_valid]):.3f} +- {np.std(bcm_data[idx_valid]):.3f} [mA]')\n",
    "\n",
    "# After masking, reselect the index of the peak signal.\n",
    "ipeak = idx_valid[np.argmax(signal[idx_valid])]\n",
    "print('New index of peak signal =', ipeak)\n",
    "\n",
    "# Plot the BCM current during the scan, along with masked points.\n",
    "fig, ax = pplt.subplots(figsize=(8.0, 2.0))\n",
    "ax.plot(bcm_data[idx], color='black')\n",
    "ax.plot(idx_mask, bcm_data[idx_mask], color='red', lw=0, marker='.', label='Masked')\n",
    "ax.format(xlabel='Point', ylabel='BCM current [mA]', ygrid=True)\n",
    "ax.legend(loc='upper left')\n",
    "plt.show()"
   ]
  },
  {
   "cell_type": "markdown",
   "id": "3da036d8-7e99-45c4-a9cc-fc11e2334955",
   "metadata": {
    "tags": []
   },
   "source": [
    "### Fit correlations"
   ]
  },
  {
   "cell_type": "code",
   "execution_count": null,
   "id": "0ae37792-4736-4f89-8987-a0ab4ae7cd86",
   "metadata": {},
   "outputs": [],
   "source": [
    "corr = np.identity(len(acts))\n",
    "intercept = np.zeros(corr.shape)\n",
    "for i, act1 in enumerate(acts):\n",
    "    for j, act2 in enumerate(acts):\n",
    "        fit1d = np.polyfit(data_sc[:, act1], data_sc[:, act2], 1, w=signal)\n",
    "        print(f'{act2} vs. {act1}: slope = {fit1d[0]:.3f}')\n",
    "        corr[i, j] = fit1d[0]\n",
    "        intercept[i, j] = fit1d[1]\n",
    "print('Correlation matrix:')\n",
    "print(corr)"
   ]
  },
  {
   "cell_type": "code",
   "execution_count": null,
   "id": "5d4c8111-f5c2-40d9-bf95-eb1db9f35da0",
   "metadata": {},
   "outputs": [],
   "source": [
    "# fig, axes = pplt.subplots(nrows=3, ncols=3, figwidth=4.0, spanx=False, spany=False)\n",
    "# for i in range(3):\n",
    "#     for j in range(3):\n",
    "#         ax = axes[i, j]\n",
    "#         x = data_sc[acts[j]]\n",
    "#         y = data_sc[acts[i]]\n",
    "#         ax.plot(x, y, color='black', alpha=0.3)\n",
    "#         xmin, xmax = np.min(x), np.max(x)\n",
    "#         _x = x - 0.5 * (xmax - xmin)\n",
    "#         _y = corr[j, i] * _x + intercept[j, i]\n",
    "#         ax.plot(x, _y, color='black')\n",
    "# for i, act in enumerate(acts):\n",
    "#     axes[-1, i].set_xlabel(act)\n",
    "#     axes[i, 0].set_ylabel(act)\n",
    "# plt.show()"
   ]
  },
  {
   "cell_type": "markdown",
   "id": "f68c30e4-d7f3-49ec-b702-1e0536d2bd09",
   "metadata": {
    "tags": []
   },
   "source": [
    "### Image processing"
   ]
  },
  {
   "cell_type": "code",
   "execution_count": null,
   "id": "d6bbac67-5343-456f-b975-09210abe3cc9",
   "metadata": {},
   "outputs": [],
   "source": [
    "ny = 512\n",
    "nx = 612\n",
    "y3 = np.arange(ny)\n",
    "x3 = np.arange(nx)\n",
    "\n",
    "def get_image(index):\n",
    "    return data[index, cam + '_Image'].reshape(ny, nx)"
   ]
  },
  {
   "cell_type": "code",
   "execution_count": null,
   "id": "7700275a-659f-4778-9b97-0c7d08b739af",
   "metadata": {},
   "outputs": [],
   "source": [
    "im = get_image(ipeak)"
   ]
  },
  {
   "cell_type": "code",
   "execution_count": null,
   "id": "e2599e9a-42ab-44cb-8d91-ae66e1181fd9",
   "metadata": {},
   "outputs": [],
   "source": [
    "edges = dict(l=140, r=100, b=130, t=80)\n",
    "im1 = ip.crop(im, **edges)\n",
    "\n",
    "axes = plot_compare_images(im, im1)\n",
    "for ax in axes[:, 0]:\n",
    "    width = im.shape[1] - (edges['l'] + edges['r'])\n",
    "    height = im.shape[0] - (edges['t'] + edges['b'])\n",
    "    center = (edges['l'], edges['b'])\n",
    "    ax.add_patch(patches.Rectangle(center, width, height, fill=False, ec='red'))\n",
    "plt.show()"
   ]
  },
  {
   "cell_type": "code",
   "execution_count": null,
   "id": "b0046803-4848-4a5c-ae16-4aa48c04d4a1",
   "metadata": {},
   "outputs": [],
   "source": [
    "downscale_factor = 4\n",
    "im = np.copy(im1)\n",
    "im1 = skimage.transform.downscale_local_mean(\n",
    "    im, \n",
    "    (downscale_factor, downscale_factor)\n",
    ")\n",
    "print(f'New image shape =', im1.shape)\n",
    "print(f'im.nbytes / im_d.nbytes = {(im.nbytes / im1.nbytes):.3f}')\n",
    "\n",
    "axes = plot_compare_images(im, im1)\n",
    "axes.format(toplabels=['Original', f'Downscaled by factor {downscale_factor}'])"
   ]
  },
  {
   "cell_type": "code",
   "execution_count": null,
   "id": "2b53841a-6388-4c12-a4ef-2bc17fab6a7f",
   "metadata": {},
   "outputs": [],
   "source": [
    "thresh = 1000\n",
    "thresh_frac_peak = thresh / np.max(im)\n",
    "im = np.copy(im1)\n",
    "im1 = ip.thresh(im, thresh, mask=True)\n",
    "\n",
    "axes = plot_compare_images(im, im1)"
   ]
  },
  {
   "cell_type": "code",
   "execution_count": null,
   "id": "3dabb097-75d1-4072-b5ed-b2d46aae8670",
   "metadata": {},
   "outputs": [],
   "source": [
    "irow, icol = np.where(im == np.max(im))\n",
    "i, j = irow[0], icol[0]\n",
    "fig, axes = pplt.subplots(ncols=3, sharey=False)\n",
    "axes[0].pcolormesh(im)\n",
    "kws = dict(color='red', alpha=0.4)\n",
    "axes[0].axhline(i, **kws)\n",
    "axes[0].axvline(j, **kws)\n",
    "axes[1].set_title(f'Row {i}')\n",
    "axes[2].set_title(f'Column {j}')\n",
    "kws = dict(color='black', lw=None)\n",
    "axes[1].plot(np.arange(im.shape[1]), im[i, :] / np.max(im[i, :]), **kws)\n",
    "axes[2].plot(np.arange(im.shape[0]), im[:, j] / np.max(im[:, j]), **kws)\n",
    "axes[1].axhline(thresh / np.max(im[i, :]), color='black', alpha=0.1)\n",
    "axes[2].axhline(thresh / np.max(im[:, j]), color='black', alpha=0.1)\n",
    "axes[1:].format(yscale='log')\n",
    "plt.show()"
   ]
  },
  {
   "cell_type": "markdown",
   "id": "9ab09bd1-2cf9-473e-bc51-552fbabf0097",
   "metadata": {},
   "source": [
    "Now we will process all the images."
   ]
  },
  {
   "cell_type": "code",
   "execution_count": null,
   "id": "1264d03b-c746-43d0-bf3d-860ae4a05fec",
   "metadata": {},
   "outputs": [],
   "source": [
    "images = []\n",
    "for index in trange(len(data)):\n",
    "    im = get_image(index)\n",
    "    im = ip.crop(im, **edges)\n",
    "    im = skimage.transform.downscale_local_mean(\n",
    "        im, \n",
    "        (downscale_factor, downscale_factor),\n",
    "    )\n",
    "    im[im < thresh] = 0\n",
    "    images.append(im)\n",
    "images = np.array(images)"
   ]
  },
  {
   "cell_type": "code",
   "execution_count": null,
   "id": "77db7a2b-85b6-49e3-9006-c105c78e5161",
   "metadata": {},
   "outputs": [],
   "source": [
    "print(f'Processed image array size = {images.nbytes:.2e} bytes')"
   ]
  },
  {
   "cell_type": "markdown",
   "id": "a3a75269-eea1-460f-9e44-fd4234b9a07b",
   "metadata": {},
   "source": [
    "## Interpolation"
   ]
  },
  {
   "cell_type": "markdown",
   "id": "cbf924d1-6e8e-49e0-aa7d-7468b2c93cea",
   "metadata": {},
   "source": [
    "Work in the \"normalized\" (decorrelated) slit-screen coordinates. First, try transforming back to square grid."
   ]
  },
  {
   "cell_type": "code",
   "execution_count": null,
   "id": "23ca1ed0-972a-4995-97cf-b95e82370e49",
   "metadata": {
    "jp-MarkdownHeadingCollapsed": true,
    "tags": []
   },
   "outputs": [],
   "source": [
    "# Shearing matrix \n",
    "ndim = 3\n",
    "M = np.identity(ndim)\n",
    "M[1, 2] = 1.9  # dxp / dx\n",
    "Minv = np.linalg.inv(M)\n",
    "\n",
    "# y\n",
    "d1_center = 6.5\n",
    "d1_distance = 14.5\n",
    "d1_steps = 32\n",
    "\n",
    "# xp\n",
    "d2_center = 15.0\n",
    "d2_distance = 24.0\n",
    "d2_steps = 32\n",
    "\n",
    "# x\n",
    "d3_center = 21.0\n",
    "d3_distance = 17.5\n",
    "d3_steps = 32\n",
    "\n",
    "center = np.array([d1_center, d2_center, d3_center])\n",
    "center = center[:, np.newaxis]\n",
    "center"
   ]
  },
  {
   "cell_type": "markdown",
   "id": "a109b5ea-494a-4860-8fbe-7adbe30900eb",
   "metadata": {},
   "source": [
    "Test on csv file (planned points)."
   ]
  },
  {
   "cell_type": "code",
   "execution_count": null,
   "id": "1e8516cc-21ca-4c5f-a921-ebf1f29f5eb6",
   "metadata": {},
   "outputs": [],
   "source": [
    "names = []\n",
    "for i in range(1, ndim + 1):\n",
    "    names.extend([f'start{i}', f'stop{i}', f'step{i}'])\n",
    "df = pd.read_csv(join(datadir, filename + '.csv'), \n",
    "                 skiprows=25, sep='\\s+', header=None, names=names)\n",
    "df"
   ]
  },
  {
   "cell_type": "code",
   "execution_count": null,
   "id": "e9138f42-ee32-4725-a8c5-adb29abbadae",
   "metadata": {},
   "outputs": [],
   "source": [
    "# Extract actuator points.\n",
    "act_pts = [df.loc[:, [f'start{i}', f'stop{i}']].values.ravel() \n",
    "           for i in range(1, ndim + 1)]\n",
    "act_pts = np.array(act_pts).T\n",
    "\n",
    "# Undo linear transformation.\n",
    "act_pts_n = np.apply_along_axis(lambda pt: np.matmul(Minv, pt), 1, act_pts)\n",
    "\n",
    "# Plot actuator points.\n",
    "fig, axes = pplt.subplots(nrows=3, figsize=(8.0, 4.0), spany=False, aligny=True)\n",
    "for i, ax in enumerate(axes):\n",
    "    ax.plot(act_pts_n[:, i], color='black', lw=None, marker='.', ms=0)\n",
    "    ax.format(ylabel=f'actuator {i}')\n",
    "# plt.savefig('_output/actuators')"
   ]
  },
  {
   "cell_type": "markdown",
   "id": "c6b0a41b-c5a1-4a72-9a83-c6460b06a760",
   "metadata": {},
   "source": [
    "Create dataframe of actuator points."
   ]
  },
  {
   "cell_type": "code",
   "execution_count": null,
   "id": "a1f5329e-f732-43e9-9554-80691b1c93bb",
   "metadata": {},
   "outputs": [],
   "source": [
    "dim_names = ['y1', 'x2', 'x1']\n",
    "columns = []\n",
    "for i, dim_name in enumerate(dim_names):\n",
    "    columns.extend([dim_name, dim_name + '_n'])\n",
    "df2 = pd.DataFrame(index=df.index, columns=columns)\n",
    "for i, dim_name in enumerate(dim_names):\n",
    "    df2[dim_name] = act_pts[::2, i]\n",
    "    df2[dim_name + '_n'] = act_pts_n[::2, i]\n",
    "df2"
   ]
  },
  {
   "cell_type": "markdown",
   "id": "2026a0a4-3380-477d-8b69-0b3d3aa5ff95",
   "metadata": {
    "tags": []
   },
   "source": [
    "### Procedure for one bin"
   ]
  },
  {
   "cell_type": "markdown",
   "id": "234f1b26-1930-4b2e-b33d-c7e550736a1a",
   "metadata": {
    "tags": []
   },
   "source": [
    "#### Group by x,x' for a specified bin index"
   ]
  },
  {
   "cell_type": "code",
   "execution_count": null,
   "id": "7d8021e5-99cd-4fa7-a499-6fd18bc9eeb6",
   "metadata": {},
   "outputs": [],
   "source": [
    "nstep = 21\n",
    "GV = []  # Bin positions\n",
    "BI = []  # Bin indices\n",
    "for i, dim_name in enumerate(dim_names):\n",
    "    gv, idx = get_bins(act_pts_n, i, nstep, n_bins_mult=15)\n",
    "    GV.append(gv)\n",
    "    BI.append(idx)\n",
    "    print(f'{dim_name}: {len(gv)} bins')"
   ]
  },
  {
   "cell_type": "code",
   "execution_count": null,
   "id": "ffa5922b-5d57-4907-8bc0-05f36997327c",
   "metadata": {},
   "outputs": [],
   "source": [
    "# fig, axes = pplt.subplots(nrows=3, figsize=(8, 7), spany=False)\n",
    "# for i, (ax, dim_name) in enumerate(zip(axes, dim_names)):\n",
    "#     ax.plot(act_pts_n[:, i], marker='.', color='black', ms=3, lw=0)\n",
    "#     ax.format(ylabel=dim_name, yticks=GV[i], ygrid=True, ytickminor=False, yticklabels=[])\n",
    "# plt.show()"
   ]
  },
  {
   "cell_type": "code",
   "execution_count": null,
   "id": "81143edc-8b7b-487a-8046-dfa3c056b0ea",
   "metadata": {},
   "outputs": [],
   "source": [
    "GV2, GV1 = np.meshgrid(GV[2], GV[1], indexing='ij')\n",
    "\n",
    "fig, ax = pplt.subplots(figwidth=4.5)\n",
    "kws = dict(color='black', alpha=0.15)\n",
    "for gv in GV[1]:\n",
    "    ax.axvline(gv, **kws)\n",
    "for gv in GV[2]:\n",
    "    ax.axhline(gv, **kws)\n",
    "ax.scatter(act_pts_n[:, 1], act_pts_n[:, 2], c='black', s=4, ec='None'); \n",
    "plt.show()"
   ]
  },
  {
   "cell_type": "markdown",
   "id": "300bd276-74ea-4d49-8434-14a6a0698b67",
   "metadata": {
    "tags": []
   },
   "source": [
    "#### Group by x,x' coordinates"
   ]
  },
  {
   "cell_type": "code",
   "execution_count": null,
   "id": "97d3ff08-1f48-4350-a6e3-6d9fc26bba5f",
   "metadata": {
    "scrolled": true,
    "tags": []
   },
   "outputs": [],
   "source": [
    "# POINTS2D holds iteration number on x1-x2 grid (total iterations = 1/2 total sweeps)\n",
    "# ordering: y, xp, x, yp, I\n",
    "POINTS2D = np.full((len(GV[2]), len(GV[1])), np.nan)\n",
    "counter = 1\n",
    "steps = [0]\n",
    "for i in range(POINTS2D.shape[0]):\n",
    "    for j in range(POINTS2D.shape[1]):\n",
    "        idx, = np.where((BI[1] == j) & (BI[2] == i))\n",
    "        if len(idx) > 0:\n",
    "            steps.append(idx)\n",
    "            POINTS2D[i, j] = counter\n",
    "        else:\n",
    "            print(f'Bin {i},{j} empty')\n",
    "        counter += 1\n",
    "POINTS2D = POINTS2D.astype(int)"
   ]
  },
  {
   "cell_type": "code",
   "execution_count": null,
   "id": "08f8c373-05cf-4946-85c0-0aeae371550b",
   "metadata": {},
   "outputs": [],
   "source": [
    "idx_bin = []\n",
    "for i, step in enumerate(steps):\n",
    "    this_iter = np.unique(step / 2 + 1)\n",
    "    if type(this_iter) is float:\n",
    "        this_iter = np.array([this_iter])\n",
    "    this_iter = this_iter.astype(int)\n",
    "    idx_i = []\n",
    "    for j in this_iter:\n",
    "        this_idx, = np.where(data_sc['iteration'] == j)\n",
    "        idx_i.append(this_idx)\n",
    "    idx_bin.append(np.unique(np.hstack(idx_i)))"
   ]
  },
  {
   "cell_type": "markdown",
   "id": "5075d02d-3c6a-4a36-82bb-c9d0304f1773",
   "metadata": {
    "tags": []
   },
   "source": [
    "### Look at a single bin"
   ]
  },
  {
   "cell_type": "code",
   "execution_count": null,
   "id": "bb01f82f-3fb3-4f7d-805b-45d2bb07cd7d",
   "metadata": {},
   "outputs": [],
   "source": [
    "iteration_peak, n_iterations = None, len(steps)\n",
    "for iteration in range(n_iterations):\n",
    "    if ipeak in idx_bin[iteration]:\n",
    "        iteration_peak = iteration\n",
    "        print('peak in iteration %i'%iteration)"
   ]
  },
  {
   "cell_type": "code",
   "execution_count": null,
   "id": "19e49d16-99c7-474e-b29a-e0aa647e236c",
   "metadata": {},
   "outputs": [],
   "source": [
    "iteration = iteration_peak\n",
    "\n",
    "bcm_mean = np.mean(data_sc[:, 'bcm04'])\n",
    "scale = bcm_mean / data_sc[idx_bin[iteration], 'bcm04']\n",
    "\n",
    "fig, ax = pplt.subplots(figsize=(5.0, 2))\n",
    "ax.plot(\n",
    "    data_sc[idx_bin[iteration], 'y_PositionSync'],\n",
    "    data_sc[idx_bin[iteration], cam + '_Integral'],\n",
    "    color='black', marker='.',\n",
    ")\n",
    "ax.plot(\n",
    "    data_sc[idx_bin[iteration], 'y_PositionSync'],\n",
    "    data_sc[idx_bin[iteration], cam + '_Integral'] * scale,\n",
    "    color='black', marker='.', alpha=0.2,\n",
    "    label='Scaled by BCM04',\n",
    ")\n",
    "ax.legend(loc='upper right')\n",
    "ax.format(xlabel='y_PositionSync', ylabel=cam+'_Integral')\n",
    "plt.show()"
   ]
  },
  {
   "cell_type": "markdown",
   "id": "f807f6da-530f-450c-ae97-55c73f0d9f29",
   "metadata": {},
   "source": [
    "### Make a gif of sweep"
   ]
  },
  {
   "cell_type": "code",
   "execution_count": null,
   "id": "68ca03a6-6c09-45fc-94ff-c659d1289e45",
   "metadata": {},
   "outputs": [],
   "source": [
    "i_peak_sweep = np.argmax(data_sc[idx_bin[iteration], cam + '_Integral'])\n",
    "norm_pixel_value = np.max(data_im[idx_bin[iteration][i_peak_sweep], cam + '_Image'])\n",
    "cmap = pplt.Colormap('viridis')\n",
    "greyscale = False\n",
    "log = False\n",
    "\n",
    "_ims = []\n",
    "for i in tqdm(idx_bin[iteration]):\n",
    "    _im = images[i] / norm_pixel_value\n",
    "    if log:\n",
    "        _im = np.log10(_im + 1e-6)\n",
    "    if not greyscale:\n",
    "        _im = cmap(_im)\n",
    "    _ims.append(np.uint8(_im * np.iinfo(np.uint8).max))\n",
    "imageio.mimsave(f'_output/iteration{iteration}.gif', _ims, fps=6)"
   ]
  },
  {
   "cell_type": "markdown",
   "id": "4e6825ed-caa4-4826-863f-442aae1a0f31",
   "metadata": {
    "tags": []
   },
   "source": [
    "### Construct background image\n",
    "\n",
    "This is done by collecting frames around the edge of the image. (This is not used anywhere in the analysis.)"
   ]
  },
  {
   "cell_type": "code",
   "execution_count": null,
   "id": "09c08e6b-7433-4caa-88d4-128ac9a7840a",
   "metadata": {},
   "outputs": [],
   "source": [
    "n_bins = 32\n",
    "ny, nx = images[0].shape\n",
    "edge_bins = np.arange(n_bins + 1, (n_bins + 1) * (n_bins + 1), n_bins + 1)\n",
    "im_edge = np.zeros((ny, nx))\n",
    "im_bg = np.zeros((edge_bins.shape[0], ny, nx))\n",
    "for i, edge_bin in enumerate(edge_bins):\n",
    "    nframes = len(idx_bin[edge_bin])\n",
    "    im3d = np.zeros((nframes, ny, nx))\n",
    "    for j in range(nframes):\n",
    "        im3d[j, :, :] = images[idx_bin[edge_bin][j]]\n",
    "    im_bg[i, :, :] = np.mean(im3d, axis=0)\n",
    "im_bg = np.mean(im_bg, axis=0)\n",
    "im_bg = ndimage.uniform_filter(im_bg, size=(4, 4), mode='nearest')\n",
    "\n",
    "fig, ax = pplt.subplots()\n",
    "ax.pcolormesh(im_bg)\n",
    "ax.format(title='Background')\n",
    "plt.show()"
   ]
  },
  {
   "cell_type": "markdown",
   "id": "439dc86f-c5d7-4d7d-9cd7-4b01af88f426",
   "metadata": {
    "tags": []
   },
   "source": [
    "### Smooth and interpolate along y_PositionSync "
   ]
  },
  {
   "cell_type": "markdown",
   "id": "48d4a261-4c32-4535-abd7-e13b555108fc",
   "metadata": {},
   "source": [
    "We have snapped all points onto an x1-x2 grid. What remains is to interpolate the y1 coordinate — the sweeping variable. We will do this by applying a filter to the 3D image."
   ]
  },
  {
   "cell_type": "code",
   "execution_count": null,
   "id": "d079d595-d6ce-4d40-b7ef-2ebe12964fec",
   "metadata": {},
   "outputs": [],
   "source": [
    "# Make the 3D image. \n",
    "n_frames = len(idx_bin[iteration])\n",
    "im3d = np.zeros((n_frames, ny, nx))\n",
    "for i in trange(n_frames):\n",
    "    im3d[i, :, :] = images[idx_bin[iteration][i]]  \n",
    "    \n",
    "# Get y slit position at each frame.\n",
    "yvals = data_sc[:, 'y_PositionSync'][idx_bin[iteration]]\n",
    "\n",
    "# Apply a smoothing filter along the first dimension (y_PositionSync). We can do the same for \n",
    "# the camera dimensions; the time cost is the same.\n",
    "im3d_smooth = ndimage.median_filter(im3d, size=(3, 1, 1), mode='constant', cval=0.0) "
   ]
  },
  {
   "cell_type": "code",
   "execution_count": null,
   "id": "28a92fe3-a964-43c0-882c-5d4d42cd83c4",
   "metadata": {},
   "outputs": [],
   "source": [
    "i = 25\n",
    "\n",
    "fig, axes = pplt.subplots(ncols=2)\n",
    "axes[0].pcolormesh(im3d[i, :, :])\n",
    "axes[1].pcolormesh(im3d_smooth[i, :, :])\n",
    "axes.format(toplabels=['Raw', 'Smoothed along y'])\n",
    "plt.show()"
   ]
  },
  {
   "cell_type": "markdown",
   "id": "60a16ef2-0e69-4725-bc84-2371fa168b87",
   "metadata": {
    "tags": []
   },
   "source": [
    "#### Interpolate to y grid"
   ]
  },
  {
   "cell_type": "code",
   "execution_count": null,
   "id": "65575ebb-f3e1-496c-aed2-a4e8990d53c1",
   "metadata": {},
   "outputs": [],
   "source": [
    "npts_y = 32\n",
    "ygv = np.linspace(y_vals.min(),y_vals.max(),npts_y)\n",
    "\n",
    "flip = False\n",
    "if y_vals[0] > y_vals[-1]:\n",
    "    flip = True\n",
    "    y_vals = np.flip(y_vals)\n",
    "    im3d_smooth = np.flip(im3d_smooth, axis=0)\n",
    "    im3d = np.flip(im3d, axis=0)\n",
    "\n",
    "# -- deal with any repeating points (otherwise interpolate won't work)\n",
    "repeat_pts, = np.where(np.diff(y_vals) == 0)\n",
    "counter = 1\n",
    "for repeat_pt in reversed(repeat_pts):\n",
    "    yvals[repeat_pt] -= 1e-7 * counter\n",
    "    counter += 1\n",
    "\n",
    "yf, ypf, xf = np.meshgrid(ygv, ypix, xpix, indexing='ij')\n",
    "newpoints = np.vstack([yf.flatten(),ypf.flatten(),xf.flatten()]).T\n",
    "arr3d = interpolate.interpn((y_vals,ypix,xpix), im3d_smooth, newpoints, method='linear', bounds_error=False, fill_value=0.)\n",
    "arr3d = np.reshape(arr3d,[npts_y,ny,nx])"
   ]
  },
  {
   "cell_type": "code",
   "execution_count": null,
   "id": "78df1bbf-9f05-49b8-a592-9b4d62a485ad",
   "metadata": {},
   "outputs": [],
   "source": [
    "plt.figure()\n",
    "plt.plot(y_vals,im3d.sum(axis=1).sum(axis=1),'.',label='each point')\n",
    "plt.plot(y_vals,im3d_smooth.sum(axis=1).sum(axis=1),'-',linewidth=2,label='smoothed')\n",
    "plt.plot(ygv,arr3d.sum(axis=1).sum(axis=1),'-k',label='interpolated')\n",
    "plt.legend()\n",
    "plt.title('Sum over camera image')\n",
    "plt.xlabel('y_PositionSync')\n",
    "plt.ylabel('Sum of %s:Image'%camname)\n",
    "plt.semilogy()\n",
    "\n",
    "\n",
    "\n",
    "plt.figure()\n",
    "plt.plot(y_vals,im3d[:,thiscol,thisrow],'-o',label='each point')\n",
    "plt.plot(y_vals,im3d_smooth[:,thiscol,thisrow],'-',linewidth=2,label='smoothed')\n",
    "plt.plot(ygv,arr3d[:,thiscol,thisrow],'-k',label='interpolated')\n",
    "plt.legend()\n",
    "plt.xlabel('y_PositionSync')\n",
    "plt.ylabel('Single pixel from %s:Image'%camname)\n",
    "plt.semilogy()"
   ]
  },
  {
   "cell_type": "code",
   "execution_count": null,
   "id": "732059f7-df4a-4f80-8865-096fb54f61ad",
   "metadata": {},
   "outputs": [],
   "source": []
  },
  {
   "cell_type": "code",
   "execution_count": null,
   "id": "39267859-82e2-4da1-a9ce-821f8343dbfc",
   "metadata": {},
   "outputs": [],
   "source": [
    "max1 = np.unravel_index(np.argmax(im3d),np.shape(im3d)); max1 = max1[0]\n",
    "max2 = np.unravel_index(np.argmax(arr3d),np.shape(arr3d)); max2 = max2[0]+1\n",
    "\n",
    "plt.figure(figsize=[20,5])\n",
    "plt.subplot(141)\n",
    "plt.pcolor(np.log10(im3d[max1,:,:]))\n",
    "plt.title('raw image')\n",
    "plt.subplot(142)\n",
    "plt.pcolor(np.log10(arr3d[max2,:,:]))\n",
    "plt.title('interpolated along y')\n",
    "plt.subplot(143)\n",
    "plt.plot(im3d[max1,:,:].sum(axis=0),label='raw')\n",
    "plt.plot(arr3d[max2,:,:].sum(axis=0),label='interpolated')\n",
    "plt.semilogy()\n",
    "plt.legend()\n",
    "plt.title('ProfileX')\n",
    "plt.subplot(144)\n",
    "plt.plot(im3d[-2,:,:].flatten(),'x',label='raw')\n",
    "plt.plot(arr3d[-2,:,:].flatten(),'.',label='interpolated')\n",
    "plt.legend()\n",
    "plt.title('pixels in edge frame')\n",
    "    \n",
    "plt.figure(figsize=[11,10])\n",
    "plt.subplot(221)\n",
    "plt.pcolor(im3d[max1,:,:])\n",
    "plt.title('raw image')\n",
    "plt.subplot(222)\n",
    "plt.pcolor(arr3d[max2,:,:])\n",
    "plt.title('interpolated along y')\n",
    "\n",
    "irow,icol = np.where(im3d[max1,:,:]==im3d[max1,:,:].max())\n",
    "row1= irow[0]\n",
    "col1 = icol[0]\n",
    "\n",
    "irow,icol = np.where(arr3d[max2,:,:]==arr3d[max2,:,:].max())\n",
    "row2= irow[0]\n",
    "col2 = icol[0]\n",
    "\n",
    "plt.subplot(223) \n",
    "plt.title('Slice in Cam06 X')\n",
    "plt.semilogy(im3d[max1,row1,:]/im3d[max1,row1,:].max(),'.-')\n",
    "plt.semilogy(arr3d[max2,row2,:]/arr3d[max2,row2,:].max(),'.-')\n",
    "#plt.ylim([.01,1.01])\n",
    "\n",
    "plt.subplot(224) \n",
    "plt.title('Slice in Cam06 Y')\n",
    "plt.semilogy(im3d[max1,:,col1]/im3d[max1,:,col1].max(),'.-')\n",
    "plt.semilogy(arr3d[max2,:,col2]/arr3d[max2,:,col2].max(),'.-')\n",
    "#plt.ylim([.01,1.01])"
   ]
  },
  {
   "cell_type": "markdown",
   "id": "52fa5a01-6f37-4dba-99d5-84f3a4cee862",
   "metadata": {},
   "source": [
    "## Save slit coordinates"
   ]
  },
  {
   "cell_type": "code",
   "execution_count": null,
   "id": "ddbd2921-d2fa-49c6-979f-131a52b204c3",
   "metadata": {},
   "outputs": [],
   "source": [
    "# ordering: y,xp,x\n",
    "xp_x_n = np.vstack([gv1.flatten(),gv2.flatten()])\n",
    "xp_x = np.matmul(M[1:,1:],xp_x_n) + center[1:]\n",
    "gv_xp = xp_x[0,:].reshape(np.shape(gv1))\n",
    "gv_x = xp_x[1,:].reshape(np.shape(gv2))\n",
    "\n",
    "plt.figure(figsize=[10,9])\n",
    "plt.plot(gv_x[:],gv_xp[:],'or-');\n",
    "plt.plot(act_pts[2],act_pts[1],'.k-')\n",
    "\n",
    "plt.xlabel('x1'); plt.ylabel('x2')\n",
    "\n"
   ]
  },
  {
   "cell_type": "code",
   "execution_count": null,
   "id": "eaf04da6-c7ef-453b-b553-3b3a9ac8ec01",
   "metadata": {},
   "outputs": [],
   "source": [
    "# -- define y grid\n",
    "npts_y = 32\n",
    "y = ds_sc[:,'y_PositionSync']\n",
    "ygrid = np.linspace(y.min(),y.max(),npts_y)\n",
    "\n",
    "\n"
   ]
  },
  {
   "cell_type": "code",
   "execution_count": null,
   "id": "7a332117-8671-419d-bf2a-b602dbbce918",
   "metadata": {},
   "outputs": [],
   "source": [
    "XGV = np.repeat(np.reshape(gv_x,np.append(np.shape(gv_x),1)),npts_y,axis=2)\n",
    "XPGV = np.repeat(np.reshape(gv_xp,np.append(np.shape(gv_xp),1)),npts_y,axis=2)\n",
    "YGV = np.zeros(np.shape(XGV))\n",
    "for i in range(len(GV[2])):\n",
    "    for j in range(len(GV[1])):\n",
    "        YGV[i,j,:] = ygrid\n",
    "\n",
    "plt.figure(figsize=[20,4])\n",
    "plt.plot(YGV.flatten(),'.-'); plt.title('y1')\n",
    "plt.xlim([0,10000])\n",
    "plt.figure(figsize=[20,4])\n",
    "plt.plot(XGV.flatten(),'.-'); plt.title('x1')\n",
    "plt.xlim([0,10000])\n",
    "plt.figure(figsize=[20,4])\n",
    "plt.plot(XPGV.flatten(),'.-'); plt.title('x2')\n",
    "plt.xlim([0,10000])"
   ]
  },
  {
   "cell_type": "code",
   "execution_count": null,
   "id": "1b50825a-0620-487a-a37f-9b60d29b6da6",
   "metadata": {},
   "outputs": [],
   "source": [
    "plt.figure(figsize=[20,10])\n",
    "plt.plot(XGV.flatten(),XPGV.flatten(),'o-')\n",
    "\n",
    "plt.xlabel('x1'); plt.ylabel('x2')"
   ]
  },
  {
   "cell_type": "code",
   "execution_count": null,
   "id": "8265f975-c130-46fb-9e94-ffda0adbce0f",
   "metadata": {},
   "outputs": [],
   "source": [
    "coord_3d = np.stack([XGV,XPGV,YGV],axis=0)\n",
    "np.shape(coord_3d)\n",
    "\n",
    "savefilename = 'slit_coordinates_%s.npy'%(filename.split('.')[0])\n",
    "np.save(savefilename, coord_3d)"
   ]
  },
  {
   "cell_type": "markdown",
   "id": "93113a70-4ee6-4504-ae90-1b71801d08c2",
   "metadata": {
    "tags": []
   },
   "source": [
    "#### Make a function that does all the above\n",
    "\n"
   ]
  },
  {
   "cell_type": "code",
   "execution_count": null,
   "id": "29a30c54-ed16-4f31-af60-4f2f94a7392a",
   "metadata": {},
   "outputs": [],
   "source": [
    "# -- define y grid\n",
    "npts_y = 32\n",
    "y = ds_sc[:,'y_PositionSync'].copy()\n",
    "ygrid = np.linspace(y.min(),y.max(),npts_y)\n",
    "\n",
    "\n",
    "## -- make 3D image\n",
    "npix_y = ny\n",
    "npix_x = nx\n",
    "\n",
    "\n",
    "\n",
    "def make_image3d(idx,ygv,ny,nx,plotFlag=False,newfig=True):\n",
    "\n",
    "    # -- build up 3D image (Cam06 image for every data-point in sweep)\n",
    "    nframes = len(idx)\n",
    "    im3d = np.zeros([nframes,ny,nx])\n",
    "    for i in range(nframes):\n",
    "        ima = make_image(idx[i],plotFlag=False,thr=None)\n",
    "        im3d[i,:,:] = ima\n",
    "        \n",
    "\n",
    "    # -- y Position for each frame\n",
    "    y_vals = ds_sc[:,'y_PositionSync'][idx]\n",
    "    # -- put in increasing order  (needed for interpolation)\n",
    "    idx_sort = np.argsort(y_vals)\n",
    "    y_vals = y_vals[idx_sort]\n",
    "    im3d = im3d[idx_sort,:,:]\n",
    "    # -- deal with any repeating points (otherwise interpolate won't work)\n",
    "    repeat_pts, = np.where(np.diff(y_vals)==0)\n",
    "    counter = 1\n",
    "    for i in reversed(range(len(repeat_pts))):\n",
    "        y_vals[repeat_pts[i]] -= .0000001*counter\n",
    "        counter += 1\n",
    "\n",
    "    ## -- apply filter along 1st dimension (y_PositionSync) only\n",
    "    im3d_smooth = im3d#ndimage.median_filter(im3d, size=(3,1,1), mode='nearest')\n",
    "\n",
    "    # -- interpolate\n",
    "    yf, ypf, xf = np.meshgrid(ygv,ypix,xpix,indexing='ij')\n",
    "    newpoints = np.vstack([yf.flatten(),ypf.flatten(),xf.flatten()]).T\n",
    "    arr3d = interpolate.interpn((y_vals,ypix,xpix), im3d_smooth, newpoints, method='linear', bounds_error=False, fill_value=0.)\n",
    "    arr3d = np.reshape(arr3d,[npts_y,ny,nx])\n",
    "\n",
    "    if plotFlag:\n",
    "        if newfig:\n",
    "            plt.figure()\n",
    "        plt.plot(ygv,arr3d.sum(axis=1).sum(axis=1),'o-')\n",
    "        plt.xlabel('y_PositionSync [mm]')\n",
    "             \n",
    "    return(arr3d)\n",
    "\n",
    "iteration = 109\n",
    "thisidx = idx_bin[iteration]\n",
    "a3d = make_image3d(thisidx,ygrid,npix_y,npix_x,plotFlag=True)\n",
    "plt.title('Interpolated signal dependence on y slit')\n",
    "\n",
    "# plt.figure()\n",
    "# plt.plot(ds_sc[idx_bin[iteration],'y_PositionSync'],ds_sc[idx_bin[iteration],'cam06_Integral'],'.-')\n",
    "# plt.title('cam06:Integral')"
   ]
  },
  {
   "cell_type": "markdown",
   "id": "4c5fe16a-cd76-402d-90d9-434cf49bc01d",
   "metadata": {},
   "source": [
    "## View projection and slice plots for datapoints in this 1 sweep. \n",
    "coordinates y1,y3,x3"
   ]
  },
  {
   "cell_type": "code",
   "execution_count": null,
   "id": "ad14a6e9-a52b-4ef5-bbcf-aa6acd227f95",
   "metadata": {},
   "outputs": [],
   "source": [
    "iteration = 111 + 2*17\n",
    "thisidx = idx_bin[iteration]\n",
    "a3d = make_image3d(thisidx,ygrid,npix_y,npix_x,plotFlag=True)\n",
    "plt.title('Interpolated signal dependence on y slit')"
   ]
  },
  {
   "cell_type": "code",
   "execution_count": null,
   "id": "74f6ee94-55d5-42aa-9af2-193a96f3d53c",
   "metadata": {
    "tags": []
   },
   "outputs": [],
   "source": [
    "plt.figure(figsize=[12,10])\n",
    "plt.subplot(221)\n",
    "thisplot(a3d[:,:,306],labels=['y3','y1'])\n",
    "plt.title('slice at x3=306 (pixel)')\n",
    "plt.subplot(222)\n",
    "thisplot(a3d.sum(axis=2),labels=['y3','y1'])\n",
    "plt.title('projection onto y1,y2')\n",
    "plt.subplot(223)\n",
    "thisplot(a3d.sum(axis=0),labels=['x3','y3'])\n",
    "plt.title('projection onto y3,x3')\n",
    "plt.tight_layout()"
   ]
  },
  {
   "cell_type": "markdown",
   "id": "1ab1b74b-cbc8-44d7-bec1-3b118ac934fd",
   "metadata": {
    "tags": []
   },
   "source": [
    "# Cropping camera image\n",
    "\n",
    "Do this to save disk space "
   ]
  },
  {
   "cell_type": "markdown",
   "id": "42012361-09b9-48df-8b62-42ff050c97dd",
   "metadata": {
    "tags": []
   },
   "source": [
    "## Step 1: estimate crop area based on this one sweep near beam center"
   ]
  },
  {
   "cell_type": "code",
   "execution_count": null,
   "id": "377d7fc3-ad70-4fdf-a214-b96304d80c71",
   "metadata": {},
   "outputs": [],
   "source": [
    "# -- crop limits\n",
    "ix3_0 = 150\n",
    "ix3_1 = nx - 100 \n",
    "iy3_0 = 0\n",
    "iy3_1 = ny\n",
    "\n",
    "def plotcrop(a3d_,croplist,bn):\n",
    "    (ix3_0_,ix3_1_,iy3_0_,iy3_1_) = croplist\n",
    "    x3proj = a3d_.sum(axis=0).sum(axis=0)\n",
    "    y3proj = a3d_.sum(axis=0).sum(axis=1)\n",
    "    improj = a3d_.sum(axis=0)\n",
    "    \n",
    "    plt.figure(figsize = [17,5])\n",
    "    plt.subplot(131)\n",
    "    plt.semilogy(x3proj,'.-')\n",
    "    yl = plt.ylim()\n",
    "    plt.plot([ix3_0_,ix3_0_],yl,'r')\n",
    "    plt.plot([ix3_1_,ix3_1_],yl,'r')\n",
    "    plt.plot(np.arange(ix3_0_,ix3_1_),x3proj[ix3_0_:ix3_1_])\n",
    "    plt.ylim(yl)\n",
    "    plt.title('Projection onto x3 axis, sweep %i'%bn)\n",
    "\n",
    "    plt.subplot(132)\n",
    "    plt.semilogy(y3proj,'.-')\n",
    "    yl = plt.ylim()\n",
    "    plt.plot([iy3_0_,iy3_0_],yl,'r')\n",
    "    plt.plot([iy3_1_,iy3_1_],yl,'r')\n",
    "    plt.plot(np.arange(iy3_0_,iy3_1_),y3proj[iy3_0_:iy3_1_])\n",
    "    plt.ylim(yl)\n",
    "    plt.title('Projection onto y3 axis, sweep %i'%bn)\n",
    "\n",
    "    plt.subplot(133) \n",
    "    plt.pcolor(np.log10(improj))\n",
    "    xl = plt.xlim()\n",
    "    yl = plt.ylim()\n",
    "    plt.plot(xl,[iy3_0_,iy3_0_],'r')\n",
    "    plt.plot(xl,[iy3_1_,iy3_1_],'r')\n",
    "    plt.plot([ix3_0_,ix3_0_],yl,'r')\n",
    "    plt.plot([ix3_1_,ix3_1_],yl,'r')\n",
    "    plt.xlim(xl)\n",
    "    plt.ylim(yl)\n",
    "    plt.title('Projection along y1 axis, sweep %i'%bn)\n",
    "    \n",
    "thisidx = idx_bin[iteration]\n",
    "a3d = make_image3d(thisidx,ygrid,npix_y,npix_x,plotFlag=False)\n",
    "plotcrop(a3d,[ix3_0,ix3_1,iy3_0,iy3_1],iteration)"
   ]
  },
  {
   "cell_type": "code",
   "execution_count": null,
   "id": "38d2413c-86cf-4b7f-8fba-dea7695adb2f",
   "metadata": {},
   "outputs": [],
   "source": [
    "# -- try cropping on some random bins\n",
    "for i in range(30):\n",
    "    iteration_ = np.random.randint(len(steps))\n",
    "    \n",
    "    thisidx = idx_bin[iteration_]\n",
    "    a3d = make_image3d(thisidx,ygrid,npix_y,npix_x,plotFlag=False)\n",
    "    plotcrop(a3d,[ix3_0,ix3_1,iy3_0,iy3_1],iteration_)"
   ]
  },
  {
   "cell_type": "code",
   "execution_count": null,
   "id": "31053160-4751-4905-82d4-2b38ac867f12",
   "metadata": {},
   "outputs": [],
   "source": [
    "arrays_3d_shape = tuple([len(GV[2]),len(GV[1])]+list(np.shape(a3d)))\n",
    "print(arrays_3d_shape)\n",
    "\n",
    "print('Cropping image to x3 = [%i, %i], y3 = [%i, %i]'%(ix3_0,ix3_1,iy3_0,iy3_1))\n",
    "crop_shape = list(arrays_3d_shape)\n",
    "crop_shape[3] = iy3_1-iy3_0\n",
    "crop_shape[4] = ix3_1-ix3_0\n",
    "crop_shape = tuple(crop_shape)\n",
    "print(crop_shape)"
   ]
  },
  {
   "cell_type": "markdown",
   "id": "f56b4805-f5fc-4413-b9dc-2f511fd9a198",
   "metadata": {
    "tags": []
   },
   "source": [
    "### Loop over all bins in x,x' positions\n",
    "~ 1 minute per set\n",
    "\n",
    "also apply cropping; make memmap that is cropped array size. \n"
   ]
  },
  {
   "cell_type": "code",
   "execution_count": null,
   "id": "81ee9610-5df8-46bf-8b66-32f9f1bf0a21",
   "metadata": {},
   "outputs": [],
   "source": [
    "t0 = time()\n",
    "savefilename = 'rawgrid_%s.mmp'%(filename.split('.')[0])\n",
    "arrays_3d = np.memmap(savefilename,shape=crop_shape,dtype=np.uint32,mode='w+') # specifying integer type saves memory\n",
    "for ii in range(len(GV[2])):\n",
    "    for jj in range(len(GV[1])):\n",
    "        try:\n",
    "            thisidx = idx_bin[POINTS2D[ii,jj]-1]\n",
    "            a3d_ = make_image3d(thisidx,ygrid,npix_y,npix_x)\n",
    "            arrays_3d[ii,jj,:,:,:] = a3d_[:,iy3_0:iy3_1,ix3_0:ix3_1]\n",
    "        except IndexError:\n",
    "            print('No points in grid bin %i,%i'%(ii,jj))\n",
    "            arrays_3d[ii,jj,:,:,:] = 0 \n",
    "    \n",
    "tf = time()\n",
    "print('Elapsed time %.2f minutes'%((tf-t0)/60.))\n",
    "\n",
    "# savefilename = 'rawgrid_%s.npy'%(filename.split('.')[0])\n",
    "# np.save(savefilename, arrays_3d)\n",
    "\n",
    "#print(sys.getsizeof(arrays_3d))\n",
    "#np.savez_compressed(savefilename, a3d=arrays_3d, x1gv=GV[2], x2gv = GV1[1], M=M, centers=centers, y1gv = ygrid)\n",
    "del arrays_3d"
   ]
  },
  {
   "cell_type": "markdown",
   "id": "b1cddb45-9260-48fc-88bc-1196eb1b87e3",
   "metadata": {
    "tags": []
   },
   "source": [
    "# View cropped and thresholded array. \n",
    "Remember, grid coordinates are in normalized frame"
   ]
  },
  {
   "cell_type": "code",
   "execution_count": null,
   "id": "c2c9c980-5e1c-4ab3-9b2b-219e4964f168",
   "metadata": {},
   "outputs": [],
   "source": [
    "a5d = np.memmap(savefilename,shape=crop_shape,dtype=np.uint32,mode='r')"
   ]
  },
  {
   "cell_type": "markdown",
   "id": "138b37a9-dce6-45bc-aeca-615b7f7bd3e2",
   "metadata": {
    "tags": []
   },
   "source": [
    "## Slices across beam center"
   ]
  },
  {
   "cell_type": "code",
   "execution_count": null,
   "id": "bbaaff18-c2c6-4a9e-8d4d-7169ad4541ab",
   "metadata": {},
   "outputs": [],
   "source": [
    "a5d_max = a5d.max()\n",
    "ix1,ix2,iy1,iy2,ix3 = np.where(a5d==a5d_max)\n",
    "ix1 = ix1[0];  ix2 = ix2[0]; ix3 = ix3[0]; iy1 = iy1[0]; iy2 = iy2[0]\n",
    "print('Center at index (%i,%i,%i,%i,%i), peak value %.2f'%(ix1,ix2,iy1,iy2,ix3,a5d_max))"
   ]
  },
  {
   "cell_type": "code",
   "execution_count": null,
   "id": "2f8fd759-7ee8-4d2c-8b44-bbc9036398ce",
   "metadata": {},
   "outputs": [],
   "source": [
    "ima = a5d[ix1,ix2,iy1,:,:].copy()\n",
    "labels=['x3','y3']\n",
    "nx = np.shape(ima)[1]\n",
    "ny = np.shape(ima)[0]\n",
    "\n",
    "plt.figure(figsize=[12,5])\n",
    "plt.subplot(121); plot_image(ima,log=False,nx_=nx,ny_=ny,labels=labels); \n",
    "plt.subplot(122); plot_image(ima,log=True,nx_=nx,ny_=ny,labels=labels); plt.colorbar()\n",
    "\n"
   ]
  },
  {
   "cell_type": "code",
   "execution_count": null,
   "id": "6a8ede61-06b8-4383-b2f0-55d5c8b1bb93",
   "metadata": {},
   "outputs": [],
   "source": [
    "ima = a5d[ix1,ix2,:,iy2,:].copy()\n",
    "labels=['x3','y1']\n",
    "nx = np.shape(ima)[1]\n",
    "ny = np.shape(ima)[0]\n",
    "\n",
    "plt.figure(figsize=[12,5])\n",
    "plt.subplot(121); plot_image(ima,log=False,nx_=nx,ny_=ny,labels=labels); \n",
    "plt.subplot(122); plot_image(ima,log=True,nx_=nx,ny_=ny,labels=labels); plt.colorbar()\n",
    "\n",
    "\n",
    "\n"
   ]
  },
  {
   "cell_type": "code",
   "execution_count": null,
   "id": "ac704451-e34c-4e7b-828e-4a47d6e09457",
   "metadata": {},
   "outputs": [],
   "source": [
    "ima = a5d[ix1,:,iy1,iy2,:].copy()\n",
    "labels=['x3','x2']\n",
    "nx = np.shape(ima)[1]\n",
    "ny = np.shape(ima)[0]\n",
    "\n",
    "plt.figure(figsize=[12,5])\n",
    "plt.subplot(121); plot_image(ima,log=False,nx_=nx,ny_=ny,labels=labels); \n",
    "plt.subplot(122); plot_image(ima,log=True,nx_=nx,ny_=ny,labels=labels); plt.colorbar()\n"
   ]
  },
  {
   "cell_type": "code",
   "execution_count": null,
   "id": "e4e60cb8-4fe7-425c-acd8-3cdb0df20ecd",
   "metadata": {},
   "outputs": [],
   "source": [
    "ima = a5d[:,ix2,iy1,iy2,:].copy()\n",
    "labels=['x3','x1']\n",
    "nx = np.shape(ima)[1]\n",
    "ny = np.shape(ima)[0]\n",
    "\n",
    "plt.figure(figsize=[12,5])\n",
    "plt.subplot(121); plot_image(ima,log=False,nx_=nx,ny_=ny,labels=labels); \n",
    "plt.subplot(122); plot_image(ima,log=True,nx_=nx,ny_=ny,labels=labels); plt.colorbar()"
   ]
  },
  {
   "cell_type": "code",
   "execution_count": null,
   "id": "f1a956f6-0dd6-45b6-9732-bd6a3ba58cc8",
   "metadata": {},
   "outputs": [],
   "source": [
    "ima = a5d[:,:,iy1+2,iy2,ix3].copy()\n",
    "labels=['x2','x1']\n",
    "nx = np.shape(ima)[1]\n",
    "ny = np.shape(ima)[0]\n",
    "\n",
    "plt.figure(figsize=[12,5])\n",
    "plt.subplot(121); plot_image(ima,log=False,nx_=nx,ny_=ny,labels=labels); \n",
    "plt.subplot(122); plot_image(ima,log=True,nx_=nx,ny_=ny,labels=labels); plt.colorbar()"
   ]
  },
  {
   "cell_type": "code",
   "execution_count": null,
   "id": "87150b72-92b3-4247-ba70-cee841f2666c",
   "metadata": {},
   "outputs": [],
   "source": [
    "ima = a5d[ix1,ix2,:,:,ix3].copy()\n",
    "labels=['y2','y1']\n",
    "nx = np.shape(ima)[1]\n",
    "ny = np.shape(ima)[0]\n",
    "\n",
    "plt.figure(figsize=[12,5])\n",
    "plt.subplot(121); plot_image(ima,log=False,nx_=nx,ny_=ny,labels=labels); \n",
    "plt.subplot(122); plot_image(ima,log=True,nx_=nx,ny_=ny,labels=labels); plt.colorbar()"
   ]
  },
  {
   "cell_type": "code",
   "execution_count": null,
   "id": "34524f83-69df-4974-80b3-9f6813b87906",
   "metadata": {},
   "outputs": [],
   "source": [
    "ima = a5d[:,ix2,:,iy2,ix3].copy()\n",
    "labels=['y1','x1']\n",
    "nx = np.shape(ima)[1]\n",
    "ny = np.shape(ima)[0]\n",
    "\n",
    "plt.figure(figsize=[12,5])\n",
    "plt.subplot(121); plot_image(ima,log=False,nx_=nx,ny_=ny,labels=labels); \n",
    "plt.subplot(122); plot_image(ima,log=True,nx_=nx,ny_=ny,labels=labels); plt.colorbar()\n"
   ]
  },
  {
   "cell_type": "markdown",
   "id": "17dd8aa4-72c5-47d2-9dfa-c6d274c7990a",
   "metadata": {},
   "source": [
    "## Projections\n",
    "\n",
    "Note: this is without threshold applied, so backgrounds are elevated."
   ]
  },
  {
   "cell_type": "code",
   "execution_count": null,
   "id": "348a4778-d3be-423d-bf12-a3b6792d4160",
   "metadata": {},
   "outputs": [],
   "source": [
    "# (ix1,ix2,iy1,iy2,ix3)\n",
    "ima = a5d.sum(axis=1).sum(axis=2).sum(axis=2)\n",
    "labels=['y1','x1']\n",
    "nx = np.shape(ima)[1]\n",
    "ny = np.shape(ima)[0]\n",
    "\n",
    "plt.figure(figsize=[12,5])\n",
    "plt.subplot(121); plot_image(ima,log=False,nx_=nx,ny_=ny,labels=labels); \n",
    "plt.subplot(122); plot_image(ima,log=True,nx_=nx,ny_=ny,labels=labels); plt.colorbar()\n"
   ]
  },
  {
   "cell_type": "code",
   "execution_count": null,
   "id": "b584e4b8-56cc-4625-92ca-3f39f5c04f85",
   "metadata": {},
   "outputs": [],
   "source": [
    "# (ix1,ix2,iy1,iy2,ix3)\n",
    "ima = a5d.sum(axis=2).sum(axis=2).sum(axis=2)\n",
    "labels=['x2','x1']\n",
    "nx = np.shape(ima)[1]\n",
    "ny = np.shape(ima)[0]\n",
    "\n",
    "plt.figure(figsize=[12,5])\n",
    "plt.subplot(121); plot_image(ima,log=False,nx_=nx,ny_=ny,labels=labels); \n",
    "plt.subplot(122); plot_image(ima,log=True,nx_=nx,ny_=ny,labels=labels); plt.colorbar()\n",
    "\n"
   ]
  },
  {
   "cell_type": "code",
   "execution_count": null,
   "id": "509df54d-3237-4f14-aada-78247e11825a",
   "metadata": {},
   "outputs": [],
   "source": [
    "# (ix1,ix2,iy1,iy2,ix3)\n",
    "ima = a5d.sum(axis=0).sum(axis=0).sum(axis=2)\n",
    "labels=['y2','y1']\n",
    "nx = np.shape(ima)[1]\n",
    "ny = np.shape(ima)[0]\n",
    "\n",
    "plt.figure(figsize=[12,5])\n",
    "plt.subplot(121); plot_image(ima,log=False,nx_=nx,ny_=ny,labels=labels); \n",
    "plt.subplot(122); plot_image(ima,log=True,nx_=nx,ny_=ny,labels=labels); plt.colorbar()\n",
    "\n"
   ]
  },
  {
   "cell_type": "code",
   "execution_count": null,
   "id": "a7ef7ec8-355c-4b4c-843b-d14d9cd338d5",
   "metadata": {},
   "outputs": [],
   "source": [
    "# (ix1,ix2,iy1,iy2,ix3)\n",
    "ima = a5d.sum(axis=0).sum(axis=1).sum(axis=2)\n",
    "labels=['y3','x2']\n",
    "nx = np.shape(ima)[1]\n",
    "ny = np.shape(ima)[0]\n",
    "\n",
    "plt.figure(figsize=[12,5])\n",
    "plt.subplot(121); plot_image(ima,log=False,nx_=nx,ny_=ny,labels=labels); \n",
    "plt.subplot(122); plot_image(ima,log=True,nx_=nx,ny_=ny,labels=labels); plt.colorbar()\n"
   ]
  },
  {
   "cell_type": "code",
   "execution_count": null,
   "id": "4150e798-3c8c-4378-9a90-048cdfc73296",
   "metadata": {},
   "outputs": [],
   "source": [
    "# (ix1,ix2,iy1,iy2,ix3)\n",
    "ima = a5d.sum(axis=1).sum(axis=1).sum(axis=1)\n",
    "labels=['x3','x1']\n",
    "nx = np.shape(ima)[1]\n",
    "ny = np.shape(ima)[0]\n",
    "\n",
    "plt.figure(figsize=[12,5])\n",
    "plt.subplot(121); plot_image(ima,log=False,nx_=nx,ny_=ny,labels=labels); \n",
    "plt.subplot(122); plot_image(ima,log=True,nx_=nx,ny_=ny,labels=labels); plt.colorbar()\n",
    "\n"
   ]
  },
  {
   "cell_type": "code",
   "execution_count": null,
   "id": "ccb11840-5667-4045-866e-ad67c5fa0217",
   "metadata": {},
   "outputs": [],
   "source": [
    "del a5d"
   ]
  },
  {
   "cell_type": "code",
   "execution_count": null,
   "id": "94418cfa-3431-4256-b6f2-d04143d4955a",
   "metadata": {},
   "outputs": [],
   "source": []
  }
 ],
 "metadata": {
  "kernelspec": {
   "display_name": "Python 3 (ipykernel)",
   "language": "python",
   "name": "python3"
  },
  "language_info": {
   "codemirror_mode": {
    "name": "ipython",
    "version": 3
   },
   "file_extension": ".py",
   "mimetype": "text/x-python",
   "name": "python",
   "nbconvert_exporter": "python",
   "pygments_lexer": "ipython3",
   "version": "3.9.6"
  }
 },
 "nbformat": 4,
 "nbformat_minor": 5
}
