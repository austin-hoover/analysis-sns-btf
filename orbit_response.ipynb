{
 "cells": [
  {
   "cell_type": "markdown",
   "metadata": {},
   "source": [
    "# Orbit response "
   ]
  },
  {
   "cell_type": "code",
   "execution_count": null,
   "metadata": {},
   "outputs": [],
   "source": [
    "import sys\n",
    "import os\n",
    "from os.path import join\n",
    "import collections\n",
    "from datetime import datetime\n",
    "import importlib\n",
    "import h5py\n",
    "import numpy as np\n",
    "from pprint import pprint\n",
    "from tqdm import tqdm\n",
    "from matplotlib import pyplot as plt\n",
    "import proplot as pplt\n",
    "\n",
    "from tools.data import H5Reader\n",
    "from tools.plotting import linear_fit"
   ]
  },
  {
   "cell_type": "code",
   "execution_count": null,
   "metadata": {},
   "outputs": [],
   "source": [
    "pplt.rc['grid'] = False\n",
    "pplt.rc['cmap.discrete'] = False\n",
    "pplt.rc['cmap.sequential'] = 'viridis'"
   ]
  },
  {
   "cell_type": "markdown",
   "metadata": {},
   "source": [
    "## Setup "
   ]
  },
  {
   "cell_type": "code",
   "execution_count": null,
   "metadata": {},
   "outputs": [],
   "source": [
    "folder = 'Diagnostics/Data/Measurements/orbit_response/2022-05-11/'\n",
    "filenames = os.listdir(folder)\n",
    "filenames"
   ]
  },
  {
   "cell_type": "code",
   "execution_count": null,
   "metadata": {},
   "outputs": [],
   "source": [
    "class DataFile(H5Reader):\n",
    "    def __init__(self, filename, folder='.'):\n",
    "        super().__init__(filename, folder)\n",
    "        self.quad, self.screen, self.cam = self.filename.split('-')[-1].split('.h5')[0].split('_')\n",
    "        self.screen_int = self.screen[-2:]\n",
    "        self.quad_int = self.quad[-2:]\n",
    "        self.cam_int = self.cam[-2:]"
   ]
  },
  {
   "cell_type": "markdown",
   "metadata": {},
   "source": [
    "Create nested dictionary of data files. "
   ]
  },
  {
   "cell_type": "code",
   "execution_count": null,
   "metadata": {},
   "outputs": [],
   "source": [
    "dfiles = dict()\n",
    "for filename in filenames:\n",
    "    df = DataFile(filename, folder)\n",
    "    if df.screen not in dfiles:        \n",
    "        dfiles[df.screen] = dict()\n",
    "    dfiles[df.screen][df.quad] = df"
   ]
  },
  {
   "cell_type": "code",
   "execution_count": null,
   "metadata": {},
   "outputs": [],
   "source": [
    "screens = sorted(dfiles)\n",
    "print('screens:', screens)\n",
    "print('dfiles:')\n",
    "pprint(dfiles)"
   ]
  },
  {
   "cell_type": "markdown",
   "metadata": {},
   "source": [
    "## Analysis"
   ]
  },
  {
   "cell_type": "code",
   "execution_count": null,
   "metadata": {},
   "outputs": [],
   "source": [
    "screen = 'VS14'\n",
    "quads = sorted(dfiles[screen].keys(), key=lambda quad: int(quad[-2:]))\n",
    "print('quads:', quads)"
   ]
  },
  {
   "cell_type": "code",
   "execution_count": null,
   "metadata": {},
   "outputs": [],
   "source": [
    "ncols = 4\n",
    "nrows = int(np.ceil(len(dfiles[screen]) / ncols))   \n",
    "remainder = nrows * ncols - len(quads)\n",
    "istart = 1  # Ignore first data point.\n",
    "kws = dict(marker='.', ms=3)\n",
    "\n",
    "fig, axes = pplt.subplots(ncols=ncols, nrows=nrows, figwidth=8.0, sharey=False)\n",
    "for ax in axes[-remainder:]:\n",
    "    ax.axis('off')\n",
    "for ax, quad in zip(axes, quads):\n",
    "    data = dfiles[screen][quad].data\n",
    "    name_rb = quad + '_CurrentRb'\n",
    "    name_set = quad + '_CurrentSet'\n",
    "    x = np.arange(istart, len(df.data))\n",
    "    ax.plot(x, data[istart:, name_rb], color='black', label='CurrentRb', **kws)\n",
    "    ax.plot(x, data[istart:, name_set], color='black', alpha=0.3, label='CurrentSet', **kws)\n",
    "    ax.set_title(quad)\n",
    "axes[0, -1].legend(loc='r', ncols=1, framealpha=0)\n",
    "axes.format(xlabel='Step')"
   ]
  },
  {
   "cell_type": "code",
   "execution_count": null,
   "metadata": {},
   "outputs": [],
   "source": [
    "for screen in screens:\n",
    "    \n",
    "    colors = pplt.Cycle('colorblind').by_key()['color']\n",
    "\n",
    "    fig, axes = pplt.subplots(ncols=ncols, nrows=nrows, figwidth=8.0, sharex=False, sharey=1,\n",
    "                              hspace=6.0)\n",
    "    for ax in axes[-remainder:]:\n",
    "        ax.axis('off')\n",
    "    for ax, quad in zip(axes, quads):\n",
    "        data = dfiles[screen][quad].data\n",
    "        current_rb_pv = quad + '_CurrentRb'\n",
    "        x = data[current_rb_pv]\n",
    "        x = x[istart:]\n",
    "        for i, (dim, yloc, halign) in enumerate(zip(['x', 'y'], [0.98, 0.88], ['left', 'right'])):\n",
    "            profiles = data['Cam09_Profile' + dim.capitalize()]\n",
    "            profiles = profiles[istart:]\n",
    "            means = np.argmax(profiles, axis=1)\n",
    "            yfit, slope, intercept = linear_fit(x, means)\n",
    "            ax.plot(x, yfit, color=colors[i], alpha=0.2)\n",
    "            ax.plot(x[istart:], means[istart:], color=colors[i], marker='.', lw=0, label=dim)\n",
    "            ax.annotate(f'slope = {slope:.1f}', xy=(0.98, yloc), xycoords='axes fraction',\n",
    "    #                     fontsize='small',\n",
    "                        horizontalalignment='right', verticalalignment='top', color=colors[i])\n",
    "        ax.format(xlabel=current_rb_pv)\n",
    "    axes[0].legend(loc='top', framealpha=0)\n",
    "    # Pad limits to fit text.\n",
    "    frac_pad_t = 0.35\n",
    "    frac_pad_b = 0.05\n",
    "    for ax in axes:\n",
    "        ymin, ymax = ax.get_ylim()\n",
    "        distance = abs(ymax - ymin)\n",
    "        pad_t = frac_pad_t * distance\n",
    "        pad_b = frac_pad_b * distance\n",
    "        ax.format(ylim=(ymin - pad_b, ymax + pad_t))\n",
    "    axes.format(ylabel='Position [pixel]', suptitle=f'Screen: {screen}')\n",
    "    plt.savefig(f'_output/quad_scan_{screen}')\n",
    "    plt.show()"
   ]
  },
  {
   "cell_type": "markdown",
   "metadata": {},
   "source": [
    "Everything in one plot."
   ]
  },
  {
   "cell_type": "code",
   "execution_count": null,
   "metadata": {},
   "outputs": [],
   "source": [
    "istart = 1"
   ]
  },
  {
   "cell_type": "code",
   "execution_count": null,
   "metadata": {},
   "outputs": [],
   "source": [
    "colors = pplt.Cycle('colorblind').by_key()['color']\n",
    "line_kws = dict(alpha=0.2)\n",
    "scatter_kws = dict(marker='.', s=40, alpha=0.9, ec='None')\n",
    "\n",
    "fig, axes = pplt.subplots(ncols=7, nrows=len(screens), figwidth=10.0)\n",
    "for row, screen in enumerate(screens):\n",
    "    for col, (ax, quad) in enumerate(zip(axes[row, :], quads)):\n",
    "        data = dfiles[screen][quad].data\n",
    "        current_rb_pv = quad + '_CurrentRb'\n",
    "        x = data[current_rb_pv]\n",
    "        x = x[istart:]\n",
    "        x_mean = np.mean(x)\n",
    "        x_frac_dev = (x - x_mean) / x_mean\n",
    "#         ax1 = ax.alty(color=colors[1])\n",
    "#         if col != axes.shape[1] - 1:\n",
    "#             ax1.format(yticklabels=[])\n",
    "        for i, (_ax, dim, yloc, halign) in enumerate(zip([ax, ax], ['x', 'y'], [0.98, 0.88], ['left', 'right'])):\n",
    "            profiles = data['Cam09_Profile' + dim.capitalize()]\n",
    "            profiles = profiles[istart:]\n",
    "            means = np.argmax(profiles, axis=1)\n",
    "            yfit, slope, intercept = linear_fit(x, means)\n",
    "            _ax.plot(x_frac_dev, yfit, color=colors[i], **line_kws)\n",
    "            _ax.scatter(x_frac_dev, means, c=colors[i], label=dim, **scatter_kws)\n",
    "axes[0, 0].legend(loc='upper left')\n",
    "\n",
    "# Pad limits.\n",
    "frac_pad_x = 0.05\n",
    "frac_pad_y = 0.0\n",
    "for row, ax in enumerate(axes[:, 0]):\n",
    "    vmin, vmax = ax.get_ylim()\n",
    "    pad = frac_pad_y * abs(vmax - vmin)\n",
    "    axes[row, :].format(ylim=(vmin - pad, vmax + pad))\n",
    "for col, ax in enumerate(axes[-1, :]):\n",
    "    vmin, vmax = ax.get_xlim()\n",
    "    if vmin > vmax:\n",
    "        vmax, vmin = vmin, vmax\n",
    "    pad = frac_pad_x * abs(vmax - vmin)\n",
    "    axes[:, col].format(xlim=(vmin - pad, vmax + pad))\n",
    "\n",
    "axes.format(\n",
    "    ylabel='Position [pixel]', \n",
    "    xlabel='Fractional quad change',\n",
    "    leftlabels=[f'{screen}' for screen in screens],\n",
    "    toplabels=quads,\n",
    ")\n",
    "plt.savefig(f'_output/quad_scan')\n",
    "plt.show()"
   ]
  }
 ],
 "metadata": {
  "kernelspec": {
   "display_name": "Python 3",
   "language": "python",
   "name": "python3"
  },
  "language_info": {
   "codemirror_mode": {
    "name": "ipython",
    "version": 3
   },
   "file_extension": ".py",
   "mimetype": "text/x-python",
   "name": "python",
   "nbconvert_exporter": "python",
   "pygments_lexer": "ipython3",
   "version": "3.7.6"
  }
 },
 "nbformat": 4,
 "nbformat_minor": 4
}
