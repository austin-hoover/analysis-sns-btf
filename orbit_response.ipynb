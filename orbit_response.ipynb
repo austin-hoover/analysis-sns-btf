{
 "cells": [
  {
   "cell_type": "markdown",
   "metadata": {},
   "source": [
    "# Orbit response "
   ]
  },
  {
   "cell_type": "code",
   "execution_count": 1,
   "metadata": {},
   "outputs": [],
   "source": [
    "import sys\n",
    "import os\n",
    "from os.path import join\n",
    "import collections\n",
    "from datetime import datetime\n",
    "import importlib\n",
    "import h5py\n",
    "import numpy as np\n",
    "from tqdm import tqdm\n",
    "from matplotlib import pyplot as plt\n",
    "import proplot as pplt\n",
    "\n",
    "from tools.data import H5Reader"
   ]
  },
  {
   "cell_type": "code",
   "execution_count": 2,
   "metadata": {},
   "outputs": [],
   "source": [
    "pplt.rc['grid'] = False\n",
    "pplt.rc['cmap.discrete'] = False\n",
    "pplt.rc['cmap.sequential'] = 'viridis'"
   ]
  },
  {
   "cell_type": "code",
   "execution_count": 3,
   "metadata": {},
   "outputs": [
    {
     "data": {
      "text/plain": [
       "['220511102740-orbit_response-QH11_VS22_Cam09.h5',\n",
       " '220511101859-orbit_response-QH13_VS14_Cam09.h5',\n",
       " '220511103208-orbit_response-QV12_VS30_Cam09.h5',\n",
       " '220511103314-orbit_response-QV10_VS30_Cam09.h5',\n",
       " '220511103347-orbit_response-QV09_VS30_Cam09.h5',\n",
       " '220511102845-orbit_response-QV09_VS22_Cam09.h5',\n",
       " '220511102918-orbit_response-QH08_VS22_Cam09.h5',\n",
       " '220511102707-orbit_response-QV12_VS22_Cam09.h5',\n",
       " '220511102117-orbit_response-QV09_VS14_Cam09.h5',\n",
       " '220511102812-orbit_response-QV10_VS22_Cam09.h5',\n",
       " '220511103420-orbit_response-QH08_VS30_Cam09.h5',\n",
       " '220511103453-orbit_response-QV07_VS30_Cam09.h5',\n",
       " '220511102627-orbit_response-QH13_VS22_Cam09.h5',\n",
       " '220511102011-orbit_response-QH11_VS14_Cam09.h5',\n",
       " '220511102150-orbit_response-QH08_VS14_Cam09.h5',\n",
       " '220511102044-orbit_response-QV10_VS14_Cam09.h5',\n",
       " '220511103241-orbit_response-QH11_VS30_Cam09.h5',\n",
       " '220511102951-orbit_response-QV07_VS22_Cam09.h5',\n",
       " '220511103128-orbit_response-QH13_VS30_Cam09.h5',\n",
       " '220511101939-orbit_response-QV12_VS14_Cam09.h5',\n",
       " '220511102223-orbit_response-QV07_VS14_Cam09.h5']"
      ]
     },
     "execution_count": 3,
     "metadata": {},
     "output_type": "execute_result"
    }
   ],
   "source": [
    "folder = 'Diagnostics/Data/Measurements/orbit_response/2022-05-11/'\n",
    "filenames = os.listdir(folder)\n",
    "filenames"
   ]
  },
  {
   "cell_type": "code",
   "execution_count": 72,
   "metadata": {},
   "outputs": [],
   "source": [
    "class DataFile(H5Reader):\n",
    "    def __init__(self, filename, folder='.'):\n",
    "        super().__init__(filename, folder)\n",
    "        self.quad, self.screen, self.cam = self.filename.split('-')[-1].split('.h5')[0].split('_')\n",
    "        self.screen_int = self.screen[-2:]\n",
    "        self.quad_int = self.quad[-2:]\n",
    "        self.cam_int = self.cam[-2:]"
   ]
  },
  {
   "cell_type": "code",
   "execution_count": 87,
   "metadata": {},
   "outputs": [
    {
     "data": {
      "text/plain": [
       "['VS14', 'VS22', 'VS30']"
      ]
     },
     "execution_count": 87,
     "metadata": {},
     "output_type": "execute_result"
    }
   ],
   "source": [
    "dfiles_by_screen = dict()\n",
    "for filename in filenames:\n",
    "    df = DataFile(filename, folder)\n",
    "    if df.screen in dfiles_by_screen:\n",
    "        dfiles_by_screen[df.screen].append(df)\n",
    "    else:\n",
    "        dfiles_by_screen[df.screen] = list()\n",
    "        \n",
    "screens = sorted(list(dfiles_by_screen))\n",
    "screens"
   ]
  }
 ],
 "metadata": {
  "kernelspec": {
   "display_name": "Python 3",
   "language": "python",
   "name": "python3"
  },
  "language_info": {
   "codemirror_mode": {
    "name": "ipython",
    "version": 3
   },
   "file_extension": ".py",
   "mimetype": "text/x-python",
   "name": "python",
   "nbconvert_exporter": "python",
   "pygments_lexer": "ipython3",
   "version": "3.7.6"
  }
 },
 "nbformat": 4,
 "nbformat_minor": 4
}
