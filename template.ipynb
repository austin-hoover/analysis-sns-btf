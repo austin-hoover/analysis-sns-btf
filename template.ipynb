{
 "cells": [
  {
   "cell_type": "markdown",
   "id": "7a6a345b-4755-4a21-8c4c-72ab506dd637",
   "metadata": {},
   "source": [
    "# Template"
   ]
  },
  {
   "cell_type": "code",
   "execution_count": null,
   "id": "6b3f6ec5-c39a-4172-b74b-7656bc8a9271",
   "metadata": {},
   "outputs": [],
   "source": [
    "import sys\n",
    "import os\n",
    "from os.path import join\n",
    "from datetime import datetime\n",
    "import importlib\n",
    "from pprint import pprint\n",
    "import json\n",
    "import numpy as np\n",
    "import pandas as pd\n",
    "import h5py\n",
    "import skimage\n",
    "from tqdm import trange\n",
    "from tqdm import tqdm\n",
    "from matplotlib import pyplot as plt\n",
    "from matplotlib import patches\n",
    "import proplot as pplt\n",
    "\n",
    "sys.path.append('..')\n",
    "from tools import energyVS06 as energy\n",
    "from tools import image_processing as ip\n",
    "from tools import plotting as mplt\n",
    "from tools import utils"
   ]
  },
  {
   "cell_type": "code",
   "execution_count": null,
   "id": "13ce0cb5-30ef-433c-873f-0b9d8533869d",
   "metadata": {},
   "outputs": [],
   "source": [
    "pplt.rc['grid'] = False\n",
    "pplt.rc['cmap.sequential'] = 'viridis'\n",
    "pplt.rc['cmap.discrete'] = False"
   ]
  },
  {
   "cell_type": "markdown",
   "id": "ee97339a-61bb-4fb8-a216-2a8b95e06574",
   "metadata": {},
   "source": [
    "## Load data "
   ]
  },
  {
   "cell_type": "code",
   "execution_count": null,
   "id": "4015ae65-d006-436c-b61d-c5d82839eaaf",
   "metadata": {},
   "outputs": [],
   "source": [
    "datadir = '/Diagnostics/Data/Measurements/2022-06-16/'\n",
    "filenames = os.listdir(datadir)\n",
    "filenames"
   ]
  },
  {
   "cell_type": "code",
   "execution_count": null,
   "id": "89f95501-b95c-4049-b6a3-274236d6d101",
   "metadata": {},
   "outputs": [],
   "source": [
    "filename = '220616114247-y-emittance2d.h5'\n",
    "file = h5py.File(join(datadir, filename), 'r')\n",
    "data = file['scandata']\n",
    "pprint(data.dtype.fields)"
   ]
  },
  {
   "cell_type": "code",
   "execution_count": null,
   "id": "c8cef983-a4ac-4f0e-abbc-96dfc9708862",
   "metadata": {},
   "outputs": [],
   "source": [
    "if 'config' in file:\n",
    "    config = file['config']\n",
    "    print(f\"'config', {type(config)}\")\n",
    "    for key in config:\n",
    "        print(f\"  '{key}', {type(config[key])}\")\n",
    "        for name in config[key].dtype.names:\n",
    "            print(f'    {name}: {config[key][name]}')\n",
    "    # Make dictionary of metadata\n",
    "    metadata = dict()\n",
    "    for name in config['metadata'].dtype.names:\n",
    "        metadata[name] = config['metadata'][name]\n",
    "else:\n",
    "    # Older measurement; metadata is in json file.\n",
    "    metadata = json.load(open(join(datadir, filename + '-metadata.json'), 'r'))\n",
    "    _metadata = dict()\n",
    "    for _dict in metadata.values():\n",
    "        for key, value in _dict.items():\n",
    "            _metadata[key] = value\n",
    "    metadata = _metadata\n",
    "    pprint(metadata)"
   ]
  },
  {
   "cell_type": "code",
   "execution_count": null,
   "id": "22ef6fe8-4444-4f64-996a-d5efc0ac480d",
   "metadata": {},
   "outputs": [],
   "source": [
    "if 'log' in file:\n",
    "    log = file['log']\n",
    "    print(f\"'log', {type(log)}\")\n",
    "    for item in log.dtype.fields.items():\n",
    "        print('  ', item)\n",
    "\n",
    "    print('\\nErrors and warnings:')\n",
    "    for i in range(log.size):\n",
    "        if not(log[i, 'level'] == 'INFO'.encode('utf')):\n",
    "            timestr = datetime.fromtimestamp(log[i, 'timestamp']).strftime(\"%m/%d/%Y, %H:%M:%S\")\n",
    "            print(f\"{timestr} {log[i, 'message']}\")"
   ]
  },
  {
   "cell_type": "code",
   "execution_count": null,
   "id": "5183a0a3-c924-4c4a-b586-1b03382662e8",
   "metadata": {},
   "outputs": [],
   "source": [
    "data = file['scandata']\n",
    "\n",
    "print(f\"'scandata', {type(data)}\")\n",
    "for item in data.dtype.fields.items():\n",
    "    print('  ', item)\n",
    "print(f\"nbytes = {data.nbytes:.3e}\")"
   ]
  },
  {
   "cell_type": "code",
   "execution_count": null,
   "id": "df31dc9c-9de9-40f8-b232-3a58c410c6ee",
   "metadata": {},
   "outputs": [],
   "source": []
  }
 ],
 "metadata": {
  "kernelspec": {
   "display_name": "Python 3 (ipykernel)",
   "language": "python",
   "name": "python3"
  },
  "language_info": {
   "codemirror_mode": {
    "name": "ipython",
    "version": 3
   },
   "file_extension": ".py",
   "mimetype": "text/x-python",
   "name": "python",
   "nbconvert_exporter": "python",
   "pygments_lexer": "ipython3",
   "version": "3.9.12"
  }
 },
 "nbformat": 4,
 "nbformat_minor": 5
}
