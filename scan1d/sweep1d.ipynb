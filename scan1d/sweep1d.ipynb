{
 "cells": [
  {
   "cell_type": "code",
   "execution_count": null,
   "id": "6b3f6ec5-c39a-4172-b74b-7656bc8a9271",
   "metadata": {},
   "outputs": [],
   "source": [
    "import sys\n",
    "import os\n",
    "from os.path import join\n",
    "import numpy as np\n",
    "import h5py\n",
    "import matplotlib.pyplot as plt\n",
    "import proplot as pplt\n",
    "\n",
    "pplt.rc['grid'] = False\n",
    "pplt.rc['cmap.discrete'] = False\n",
    "pplt.rc['cmap.sequential'] = 'viridis'"
   ]
  },
  {
   "cell_type": "code",
   "execution_count": null,
   "id": "4015ae65-d006-436c-b61d-c5d82839eaaf",
   "metadata": {},
   "outputs": [],
   "source": [
    "datadir = './Diagnostics/Data/Measurements/2022-05-09/'\n",
    "filenames = os.listdir(datadir)\n",
    "filenames"
   ]
  },
  {
   "cell_type": "code",
   "execution_count": null,
   "id": "860e6ef9-2d69-4503-9ba9-c90ed89e1c17",
   "metadata": {},
   "outputs": [],
   "source": [
    "filename = '220509101220-scan1d.h5'\n",
    "cam = 'Cam06'\n",
    "ny = 512  # number of y pixels\n",
    "nx = 612  # number of x pixels"
   ]
  },
  {
   "cell_type": "code",
   "execution_count": null,
   "id": "d5713e02-1cf8-4536-bd33-c1c66d5fb6e0",
   "metadata": {},
   "outputs": [],
   "source": [
    "file = h5py.File(join(datadir, filename), 'r')"
   ]
  },
  {
   "cell_type": "code",
   "execution_count": null,
   "id": "23e533b6-14d3-43f9-8cef-f7914f0d62a3",
   "metadata": {
    "tags": []
   },
   "outputs": [],
   "source": [
    "# Errors and warnings from log\n",
    "for i in range(file['log'].size):\n",
    "    if not(file['/log'][i, 'level'] == 'INFO'.encode('utf')):\n",
    "        timestr = datetime.fromtimestamp(file['/log'][0, 'timestamp']).strftime(\"%m/%d/%Y, %H:%M:%S\")\n",
    "        print(f\"{timestr} {file['log'][i, 'message']}\")\n",
    "\n",
    "# Configuration data\n",
    "for key in file['/config'].keys():\n",
    "    print(f\"{key}\")\n",
    "    print(\"--------------\")\n",
    "    for name in file['/config'][key].dtype.names:\n",
    "        print(f\"{name}: {file['config'][key][name]}\")\n",
    "    print()"
   ]
  },
  {
   "cell_type": "code",
   "execution_count": null,
   "id": "bba9dff8-9f2f-45f6-bee4-affad7a5f0c2",
   "metadata": {},
   "outputs": [],
   "source": [
    "data = file['/scandata']\n",
    "attrs = data.dtype.names\n",
    "acts = [key for key in attrs if 'PositionSync' in key]\n",
    "print('attrs:', attrs)\n",
    "print('acts:', acts)"
   ]
  },
  {
   "cell_type": "markdown",
   "id": "6291ce59-21f1-49be-a95f-77b86b985a81",
   "metadata": {},
   "source": [
    "Extract the vertical beam profile."
   ]
  },
  {
   "cell_type": "code",
   "execution_count": null,
   "id": "43fc58be-4be9-4798-8797-80ffa6ecbba6",
   "metadata": {},
   "outputs": [],
   "source": [
    "idx = list(range(0, len(data), 5))\n",
    "ncols = 6\n",
    "nrows = int(np.ceil(len(idx) / ncols))\n",
    "\n",
    "fig, axes = pplt.subplots(ncols=ncols, nrows=nrows, figwidth=10.0)\n",
    "axes.format(xticks=[], yticks=[])\n",
    "for i, ax in zip(idx, axes):\n",
    "    im = data[i, cam + '_Image'].reshape(ny, nx)\n",
    "    profx = data[i, cam + '_ProfileX']\n",
    "    profy = data[i, cam + '_ProfileY']\n",
    "    cut = 100\n",
    "    ax.plot(profx[cut:-cut], color='black')\n",
    "#     axes[i].imshow(im)\n",
    "plt.show()"
   ]
  },
  {
   "cell_type": "code",
   "execution_count": null,
   "id": "c98978cf-0843-4518-9e3c-009ac636df78",
   "metadata": {},
   "outputs": [],
   "source": [
    "fig, ax = pplt.subplots()\n",
    "ax.plot(data['y_PositionSync'], data['Cam06_Integral'], marker='.', color='black')\n",
    "ax.format(xlabel='y_PositionSync', ylabel='Cam06_Integral')"
   ]
  },
  {
   "cell_type": "code",
   "execution_count": null,
   "id": "fd70b609-7812-4450-a0a9-89a2a9da8e57",
   "metadata": {},
   "outputs": [],
   "source": []
  },
  {
   "cell_type": "code",
   "execution_count": null,
   "id": "31997fab-66b6-42b6-b208-c291108023ae",
   "metadata": {},
   "outputs": [],
   "source": []
  },
  {
   "cell_type": "markdown",
   "id": "f4315026-b9f0-42be-bbb7-63c479abac3d",
   "metadata": {},
   "source": [
    "## 2022-05-09 experiment"
   ]
  },
  {
   "cell_type": "code",
   "execution_count": null,
   "id": "866c8687-6b66-4ac2-b9db-cc9d11ddbbf4",
   "metadata": {},
   "outputs": [],
   "source": [
    "datadir = './Diagnostics/Data/Measurements/2022-05-09/'\n",
    "filenames = os.listdir(datadir)\n",
    "filenames = [f for f in filenames if 'scan1d' in f]\n",
    "filenames"
   ]
  },
  {
   "cell_type": "code",
   "execution_count": null,
   "id": "c49252a3-8f73-4c8a-8716-c908754edd52",
   "metadata": {},
   "outputs": [],
   "source": [
    "def get_timestamp(filename):\n",
    "    tstr = filename.split('-')[0]\n",
    "    year, month, day, hour, minute, second = [int(tstr[i:i+2]) for i in range(0, len(tstr), 2)]\n",
    "    return datetime(year, month, day, hour, minute, second)\n",
    "\n",
    "filenames = sorted(filenames, key=get_timestamp)\n",
    "filenames"
   ]
  },
  {
   "cell_type": "code",
   "execution_count": null,
   "id": "fe979a57-d7c4-4b57-95f4-be7b6d1b59b9",
   "metadata": {},
   "outputs": [],
   "source": [
    "# The first four measurements are for the first set of optics as the beam current is increased.\n",
    "groups = [[], []]\n",
    "for i in range(2):\n",
    "    lo = 4 * i\n",
    "    hi = lo + 4\n",
    "    for filename in filenames[lo:hi]:   \n",
    "        file = h5py.File(join(datadir, filename), 'r')\n",
    "        data = file['scandata']\n",
    "        groups[i].append(data)"
   ]
  },
  {
   "cell_type": "code",
   "execution_count": null,
   "id": "48daa349-f1f1-48d4-9ea7-a46269f4a261",
   "metadata": {},
   "outputs": [],
   "source": [
    "fig, axes = pplt.subplots(nrows=4, ncols=1, figsize=(4.0, 5.0))\n",
    "for j, (group, alpha) in enumerate(zip(reversed(groups), [1.0, 0.2])):\n",
    "    for i, (ax, data) in enumerate(zip(axes, group)):\n",
    "#         ax.set_title(f\"bcm04 = {np.mean(data['bcm04']):.2f}\")\n",
    "        text_kws = dict()\n",
    "        if j == 0:\n",
    "            text_kws['xy'] = (0.02, 0.95)\n",
    "            text_kws['alpha'] = 1.0\n",
    "        else:\n",
    "            text_kws['xy'] = (0.02, 0.80)\n",
    "            text_kws['alpha'] = 0.3\n",
    "        ax.annotate(f\"bcm04 = {np.mean(data['bcm04']):.2f}\", xycoords='axes fraction', \n",
    "#                         fontsize='small',\n",
    "                    horizontalalignment='left', verticalalignment='top', **text_kws)\n",
    "        x = data['y_PositionSync']\n",
    "        y = data['Cam06_Integral']\n",
    "        y = y / np.sum(y)\n",
    "#         label = f\"bcm04 = {np.mean(data['bcm04']):.2f}\"\n",
    "        label = ['Default optics', 'Modified optics'][j]\n",
    "        ax.plot(x, y, color='black', alpha=alpha, marker='.', ms=3, label=label)\n",
    "        \n",
    "# Plot a vertical line representing slit position.\n",
    "# y_slit_pos = 13.0\n",
    "# for ax in axes:\n",
    "#     ax.axvline(y_slit_pos, alpha=0.3)\n",
    "\n",
    "axes[0].legend(ncols=2, loc='t', framealpha=0.0)\n",
    "axes.format(xlabel='y_PositionSync [mm]', ylabel='Cam06_Integral (normalized)', yticklabels=[])\n",
    "# axes.format(rightlabels=['', '', r'$\\leftarrow$ Intensity', ''])\n",
    "plt.savefig('_output/full_projections')\n",
    "plt.show()"
   ]
  },
  {
   "cell_type": "code",
   "execution_count": null,
   "id": "96be6f99-a4a0-4ce6-b8e4-e3247859ad5a",
   "metadata": {},
   "outputs": [],
   "source": [
    "x = np.arange(nx)\n",
    "cut = 100\n",
    "idx = x[cut:-cut]\n",
    "fig, axes = pplt.subplots(nrows=2, ncols=len(group), figsize=(8.0, 3.0))\n",
    "for row, group in enumerate(groups):  # new optics, then old optics\n",
    "    for ax, data in zip(axes[row, :], group):\n",
    "        m = ax.pcolormesh(\n",
    "            x[idx], \n",
    "            data['y_PositionSync'],\n",
    "            data['Cam06_ProfileX'][:, idx],\n",
    "#             colorbar=True,\n",
    "#             discrete=True,\n",
    "            cmap='dusk_r',\n",
    "        )\n",
    "# fig.colorbar(m)\n",
    "for ax, data in zip(axes[0, :], groups[0]):\n",
    "    ax.set_title(f\"bcm04 = {np.mean(data['bcm04']):.2f}\")\n",
    "axes.format(\n",
    "    xlabel='x screen [pixel]', ylabel='y slit [mm]',\n",
    "    leftlabels=['Modified optics', 'Default optics'],\n",
    "    suptitle=r'Beam current $\\rightarrow$',\n",
    ")\n",
    "plt.savefig('_output/y_vs_dE.png')"
   ]
  },
  {
   "cell_type": "code",
   "execution_count": null,
   "id": "999b1a9a-9c05-481a-9ad4-e630f7c2b880",
   "metadata": {},
   "outputs": [],
   "source": []
  }
 ],
 "metadata": {
  "kernelspec": {
   "display_name": "Python 3",
   "language": "python",
   "name": "python3"
  },
  "language_info": {
   "codemirror_mode": {
    "name": "ipython",
    "version": 3
   },
   "file_extension": ".py",
   "mimetype": "text/x-python",
   "name": "python",
   "nbconvert_exporter": "python",
   "pygments_lexer": "ipython3",
   "version": "3.7.6"
  }
 },
 "nbformat": 4,
 "nbformat_minor": 5
}
