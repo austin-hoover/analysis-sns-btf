{
 "cells": [
  {
   "cell_type": "markdown",
   "id": "a4bfe105-df44-43b5-b01e-e8c6560fc951",
   "metadata": {},
   "source": [
    "# Vertical slit-screen phase space measurement"
   ]
  },
  {
   "cell_type": "markdown",
   "id": "157c1af0-9c1b-4062-a832-d7ca6cedcdcf",
   "metadata": {},
   "source": [
    "## Setup "
   ]
  },
  {
   "cell_type": "code",
   "execution_count": null,
   "id": "6b3f6ec5-c39a-4172-b74b-7656bc8a9271",
   "metadata": {},
   "outputs": [],
   "source": [
    "import sys\n",
    "import os\n",
    "from os.path import join\n",
    "import numpy as np\n",
    "import pandas as pd\n",
    "import h5py\n",
    "import imageio\n",
    "import matplotlib.pyplot as plt\n",
    "from matplotlib import colors\n",
    "from matplotlib import cm\n",
    "from matplotlib.animation import FuncAnimation\n",
    "import proplot as pplt\n",
    "\n",
    "sys.path.append('..')\n",
    "from tools import energyVS06 as energy\n",
    "from tools import utils\n",
    "from tools import image_processing as ip\n",
    "\n",
    "pplt.rc['grid'] = False\n",
    "pplt.rc['cmap.discrete'] = False\n",
    "pplt.rc['cmap.sequential'] = 'viridis'"
   ]
  },
  {
   "cell_type": "code",
   "execution_count": null,
   "id": "4015ae65-d006-436c-b61d-c5d82839eaaf",
   "metadata": {},
   "outputs": [],
   "source": [
    "datadir = '../Diagnostics/Data/Measurements/2022-06-26/'\n",
    "filenames = os.listdir(datadir)\n",
    "filenames"
   ]
  },
  {
   "cell_type": "code",
   "execution_count": null,
   "id": "ef2ef51f-b621-4c5f-880a-eef66a32fcc3",
   "metadata": {},
   "outputs": [],
   "source": [
    "filename = '220626134206-y1d-vs06.h5'"
   ]
  },
  {
   "cell_type": "code",
   "execution_count": null,
   "id": "feec91ea-abb9-4cab-88fd-ea0ce410fc51",
   "metadata": {},
   "outputs": [],
   "source": [
    "cam = 'cam06'\n",
    "cam_settings = ip.camera_settings(cam)\n",
    "zoom = 0.33\n",
    "pix2mm = cam_settings.pix2mm / zoom\n",
    "print(f'{cam}: {pix2mm} mm/pixel at {zoom}X zoom')"
   ]
  },
  {
   "cell_type": "code",
   "execution_count": null,
   "id": "860e6ef9-2d69-4503-9ba9-c90ed89e1c17",
   "metadata": {},
   "outputs": [],
   "source": [
    "# HZ34a scan\n",
    "L = 8.0036 - 6.13006  # [m]\n",
    "\n",
    "## HZ34b scan\n",
    "# L = 8.0036 - 6.90450  # [m]\n",
    "\n",
    "print(f'L = {L:.3f}')\n",
    "\n",
    "# Slit-slit scan, L = 0.775\n",
    "cam_prof_y = f'{cam}_ProfileY'\n",
    "cam_image = f'{cam}_Image'\n",
    "pix2mm = 0.05  # cam34 at zoom x1\n",
    "ny, nx = cam_settings.shape\n",
    "print('Image shape:', cam_settings.shape)"
   ]
  },
  {
   "cell_type": "code",
   "execution_count": null,
   "id": "d5713e02-1cf8-4536-bd33-c1c66d5fb6e0",
   "metadata": {},
   "outputs": [],
   "source": [
    "file = h5py.File(join(datadir, filename), 'r')"
   ]
  },
  {
   "cell_type": "code",
   "execution_count": null,
   "id": "23e533b6-14d3-43f9-8cef-f7914f0d62a3",
   "metadata": {
    "tags": []
   },
   "outputs": [],
   "source": [
    "# Errors and warnings from log\n",
    "for i in range(file['log'].size):\n",
    "    if not(file['/log'][i, 'level'] == 'INFO'.encode('utf')):\n",
    "        timestr = datetime.fromtimestamp(file['/log'][0, 'timestamp']).strftime(\"%m/%d/%Y, %H:%M:%S\")\n",
    "        print(f\"{timestr} {file['log'][i, 'message']}\")\n",
    "\n",
    "# Configuration data\n",
    "for key in file['/config'].keys():\n",
    "    print(f\"{key}\")\n",
    "    print(\"--------------\")\n",
    "    for name in file['/config'][key].dtype.names:\n",
    "        print(f\"{name}: {file['config'][key][name]}\")\n",
    "    print()"
   ]
  },
  {
   "cell_type": "code",
   "execution_count": null,
   "id": "bba9dff8-9f2f-45f6-bee4-affad7a5f0c2",
   "metadata": {},
   "outputs": [],
   "source": [
    "data = file['/scandata']\n",
    "attrs = data.dtype.names\n",
    "acts = [key for key in attrs if 'PositionSync' in key]\n",
    "print('attrs:', attrs)\n",
    "print('acts:', acts)"
   ]
  },
  {
   "cell_type": "markdown",
   "id": "6291ce59-21f1-49be-a95f-77b86b985a81",
   "metadata": {},
   "source": [
    "Extract the vertical beam profile."
   ]
  },
  {
   "cell_type": "code",
   "execution_count": null,
   "id": "39cc181e-d28e-4a38-8ac4-217bed9ff1e0",
   "metadata": {},
   "outputs": [],
   "source": [
    "signal = np.sum(data[:, cam_prof_y], axis=1)"
   ]
  },
  {
   "cell_type": "markdown",
   "id": "b1e2b52d-42a3-4e9b-a5fe-98a158dfd0e2",
   "metadata": {},
   "source": [
    "Determine the scan center and width."
   ]
  },
  {
   "cell_type": "code",
   "execution_count": null,
   "id": "4728f59c-7303-4023-a873-226f5d9b667a",
   "metadata": {},
   "outputs": [],
   "source": [
    "y0 = 13.5\n",
    "dy = 25.0\n",
    "\n",
    "tdata = np.linspace(0.0, 1.0, len(data))\n",
    "\n",
    "fig, ax = pplt.subplots(figsize=(4, 2))\n",
    "ax.plot(tdata, data[:, acts[0]], marker='.', color='black') \n",
    "ax.format(xlabel='Time', ylabel=acts[0])\n",
    "plt.show()\n",
    "\n",
    "fig, ax = pplt.subplots(nrows=1, figsize=(4, 2))\n",
    "ax.plot(data[:, acts[0]], signal, marker='.', color='black')\n",
    "ax.axvline(y0 - 0.5 * dy, color='grey')\n",
    "ax.axvline(y0 + 0.5 * dy, color='grey')\n",
    "ax.axvline(y0, color='grey')\n",
    "ax.axvspan(y0 - 0.5 * dy, y0 + 0.5 * dy, color='grey', alpha=0.2)\n",
    "imax = np.argmax(signal)\n",
    "ax.plot(data[imax, acts[0]], signal[imax], marker='*', color='red')\n",
    "ax.format(xlabel=acts[0], ylabel=cam_prof_y)\n",
    "xmin, xmax = ax.get_xlim()\n",
    "if xmax < xmin:\n",
    "    xmin, xmax = xmax, xmin\n",
    "    ax.format(xlim=(xmin, xmax))\n",
    "# plt.savefig('_output/yprof')\n",
    "plt.show()\n",
    "\n",
    "fig, ax = pplt.subplots(nrows=1, figsize=(4, 2))\n",
    "ax.plot(data[:, acts[0]], signal, marker='.', color='black')\n",
    "ax.axvline(y0 - 0.5 * dy, color='grey')\n",
    "ax.axvline(y0 + 0.5 * dy, color='grey')\n",
    "ax.axvline(y0, color='grey')\n",
    "ax.axvspan(y0 - 0.5 * dy, y0 + 0.5 * dy, color='grey', alpha=0.2)\n",
    "ax.format(xlabel=acts[0], ylabel=cam_prof_y, yscale='log')\n",
    "plt.show()\n",
    "\n",
    "print(f'Peak at {acts[0]} = {data[imax, acts[0]]:.3f}')"
   ]
  },
  {
   "cell_type": "markdown",
   "id": "9d0c9da5-318b-46c9-b86c-c7fe0eb4a900",
   "metadata": {},
   "source": [
    "## Plot images"
   ]
  },
  {
   "cell_type": "code",
   "execution_count": null,
   "id": "b6de5997-0fd7-4937-a3ae-cbb8033199d0",
   "metadata": {},
   "outputs": [],
   "source": [
    "import importlib\n",
    "importlib.reload(ip)\n",
    "\n",
    "cam_settings = ip.camera_settings(cam)\n",
    "image_shape = cam_settings.shape"
   ]
  },
  {
   "cell_type": "code",
   "execution_count": null,
   "id": "c1f849db-1ca2-436b-b576-981647b1b35c",
   "metadata": {},
   "outputs": [],
   "source": [
    "skip = 2\n",
    "nfigs = len(data[::skip])\n",
    "ncols = 6\n",
    "nrows = int(np.ceil(nfigs / ncols))\n",
    "\n",
    "fig, axes = pplt.subplots(nrows=nrows, ncols=ncols, figwidth=10.0)\n",
    "for i in range(nfigs):\n",
    "    ax = axes[i]\n",
    "    ima = np.reshape(data[::skip, cam_image][i], image_shape)\n",
    "    ax.pcolormesh(np.log10(ima))\n",
    "    ax.annotate(f'image {i * skip}', xy=(0.01, 0.99), xycoords='axes fraction', \n",
    "                color='white', fontsize='small',\n",
    "                horizontalalignment='left', verticalalignment='top')\n",
    "axes.format(xticks=[], yticks=[])\n",
    "plt.show()"
   ]
  },
  {
   "cell_type": "code",
   "execution_count": null,
   "id": "f63041bb-ce65-49f1-ba66-2e72677edfe1",
   "metadata": {},
   "outputs": [],
   "source": [
    "acts"
   ]
  },
  {
   "cell_type": "code",
   "execution_count": null,
   "id": "bb35670b-1fff-49f1-8bba-249419c37f0a",
   "metadata": {},
   "outputs": [],
   "source": [
    "for i in range(14, 21, 1):\n",
    "    im = data[i, cam_image].reshape(ny, nx)\n",
    "\n",
    "    fig, ax = pplt.subplots()\n",
    "    ax.imshow(im / np.max(im), norm='log', colorbar=True)\n",
    "    ax.annotate(f'frame {i}', xy=(0.02, 0.98), xycoords='axes fraction', verticalalignment='top', color='white')\n",
    "    ax.annotate(f'HZ34a_PositionSync = {data[acts[0]][i]:.2f}', xy=(0.02, 0.91), \n",
    "                xycoords='axes fraction', verticalalignment='top', color='white')\n",
    "    ax.format(xticks=[], yticks=[])\n",
    "#     plt.savefig(f'_output/im{i}.png')\n",
    "    plt.show()"
   ]
  },
  {
   "cell_type": "markdown",
   "id": "ca419328-87c0-41ca-9e12-b47415064135",
   "metadata": {},
   "source": [
    "## Reconstruct phase space distribution"
   ]
  },
  {
   "cell_type": "code",
   "execution_count": null,
   "id": "249d26af-ff66-4e12-8c58-4cc9d85cd449",
   "metadata": {},
   "outputs": [],
   "source": [
    "y3y1 = np.zeros([ny, len(data)])\n",
    "for i in range(0, len(data)):\n",
    "    im = np.reshape(data[i, cam_image], [ny, nx])\n",
    "    y3y1[:, i] = np.sum(im, axis=1)\n",
    "    \n",
    "fig, axes = pplt.subplots(ncols=2, sharey=True)\n",
    "axes[0].pcolormesh(data[:, 'y_PositionSync'], np.arange(ny), y3y1,\n",
    "                   colorbar=True, colorbar_kw=dict(label=cam_image))\n",
    "axes[1].pcolormesh(data[:, 'y_PositionSync'], np.arange(ny), np.log10(y3y1), \n",
    "                   colorbar=True, colorbar_kw=dict(label=f'log({cam_image})'))\n",
    "axes.format(xlabel='y1', ylabel='y3')\n",
    "plt.show()"
   ]
  },
  {
   "cell_type": "code",
   "execution_count": null,
   "id": "ec27095f-7f58-4205-af51-a208c9e225e8",
   "metadata": {},
   "outputs": [],
   "source": [
    "yscreen = pix2mm * np.arange(ny)  \n",
    "Y1, Y3 = np.meshgrid(data[:, 'y_PositionSync'], yscreen)\n",
    "Y = Y1 - np.average(data[:, 'y_PositionSync'], weights=np.sum(y3y1, axis=0)) \n",
    "YP = (Y3 - np.average(yscreen, weights=np.sum(y3y1, axis=1)) - Y) / L\n",
    "\n",
    "fig, axes = pplt.subplots(ncols=2, sharey=True)\n",
    "axes[0].pcolormesh(Y1, Y3, y3y1, colorbar=True)\n",
    "axes[1].pcolormesh(Y1, Y3, np.log10(y3y1), colorbar=True)\n",
    "axes.format(xlabel=\"y1\", ylabel=\"y3\")\n",
    "axes[1].set_title('Logscale')\n",
    "plt.show()"
   ]
  },
  {
   "cell_type": "markdown",
   "id": "6b5d5064-37af-4353-8692-bb11ef25787a",
   "metadata": {},
   "source": [
    "## Reconstruct phase space; energy slice"
   ]
  },
  {
   "cell_type": "markdown",
   "id": "1182876e-93cc-4c7e-81f4-4d42203925e8",
   "metadata": {},
   "source": [
    "The y-y' phase space is already a slice in x-x' (near the beam center). The `im3d` axes are [y3, x3, y1]."
   ]
  },
  {
   "cell_type": "code",
   "execution_count": null,
   "id": "0f6bd2fc-da80-4c3c-afd4-286326aa4345",
   "metadata": {
    "tags": []
   },
   "outputs": [],
   "source": [
    "im3d = np.zeros([ny, nx, len(data)])  # [y_screen, x_screen, y_slit]\n",
    "for i in range(0, len(data)):\n",
    "    im3d[:, :, i] = np.reshape(data[i, cam_image], (ny, nx))"
   ]
  },
  {
   "cell_type": "markdown",
   "id": "1478bed0-b368-462a-b4d2-d9a09bc061b6",
   "metadata": {},
   "source": [
    "## Movies\n",
    "\n",
    "#### Cam34 image vs y-slit"
   ]
  },
  {
   "cell_type": "code",
   "execution_count": null,
   "id": "a5b14667-9a14-476b-bd2c-ddcd2dc82e8f",
   "metadata": {},
   "outputs": [],
   "source": [
    "cmap = pplt.Colormap('mono_r', discrete=False)"
   ]
  },
  {
   "cell_type": "code",
   "execution_count": null,
   "id": "0e20a0a6-c333-4ae9-82fa-45e04fd7ecb9",
   "metadata": {},
   "outputs": [],
   "source": [
    "norm_pixel_value = np.max(data[:, cam_image])\n",
    "images = []\n",
    "greyscale = False\n",
    "colormap = cmap\n",
    "for i in range(len(data)):\n",
    "    im = im3d[:, :, i]  \n",
    "    im = im / norm_pixel_value\n",
    "    if greyscale:\n",
    "        images.append(np.uint8(im * np.iinfo(np.uint8).max))\n",
    "    else:\n",
    "        im_rgb = colormap(im)\n",
    "        images.append(np.uint8(im_rgb * np.iinfo(np.uint8).max))\n",
    "    \n",
    "imageio.mimsave('_output/' + filename + f'-{cam}-screen-unorm.gif', images, fps=3)\n",
    "fig, ax = pplt.subplots()\n",
    "ax.imshow(images[len(data) // 2], colorbar=True, cmap=cmap);"
   ]
  },
  {
   "cell_type": "markdown",
   "id": "749d77a7-7a7b-4af5-a9ea-cf6a37e5ba66",
   "metadata": {},
   "source": [
    "#### Slit/screen coordinates"
   ]
  },
  {
   "cell_type": "code",
   "execution_count": null,
   "id": "968bdb37-cf3b-426a-851b-68b4c25adc31",
   "metadata": {},
   "outputs": [],
   "source": [
    "# Convert pixels to mm\n",
    "x3 = np.arange(nx) * pix2mm\n",
    "y3 = np.arange(ny) * pix2mm\n",
    "y1 = data[:, 'y_PositionSync']\n",
    "\n",
    "# Subtract the mean from each dimension. (Negative signs \n",
    "# flip y-slit and y-screen axes.)\n",
    "x3 = x3 - np.average(x3, weights=utils.project(im3d, 1))\n",
    "y3 = y3 - np.average(y3, weights=utils.project(im3d, 0))  # negative sign?\n",
    "y1 = y1 - np.average(y1, weights=utils.project(im3d, 2))  # negative sign?\n",
    "\n",
    "Y3, X3, Y1 = np.meshgrid(y3, x3, y1, indexing='ij')"
   ]
  },
  {
   "cell_type": "markdown",
   "id": "6d9989ab-f7bc-455c-934a-891a56582c4f",
   "metadata": {},
   "source": [
    "Two-dimensional projections"
   ]
  },
  {
   "cell_type": "code",
   "execution_count": null,
   "id": "508dc491-ba5b-45ae-9ac7-35464e4807d8",
   "metadata": {},
   "outputs": [],
   "source": [
    "norm = None  # ['log', None]\n",
    "xdata = [x3, x3, y1]\n",
    "ydata = [y1, y3, y3]\n",
    "Hdata = [\n",
    "    utils.project(im3d, [1, 2]).T, \n",
    "    utils.project(im3d, [0, 1]), \n",
    "    utils.project(im3d, [0, 2]),\n",
    "]\n",
    "xlabels = ['x-screen [mm]', 'x-screen [mm]', 'y_slit [mm]']\n",
    "ylabels = ['y-slit [mm]', 'y-screen [mm]', 'y-screen [mm]']\n",
    "titles = ['y1-dE', 'y2-dE', 'y2-y1']\n",
    "fig, axes = pplt.subplots(ncols=3, sharex=False, sharey=False, figwidth=7.5)\n",
    "for x, y, H, ax, xlabel, ylabel, title in zip(xdata, ydata, Hdata, axes, xlabels, ylabels, titles):\n",
    "    ax.pcolormesh(x, y, H, norm=norm)\n",
    "    ax.format(xlabel=xlabel, ylabel=ylabel, title=title)"
   ]
  },
  {
   "cell_type": "code",
   "execution_count": null,
   "id": "22dfd33b-4f3e-46e2-ac89-8012a115853f",
   "metadata": {
    "tags": []
   },
   "outputs": [],
   "source": [
    "# -- matrix params\n",
    "a2mm = 1.009  # assume same as first dipole\n",
    "rho = 0.3556\n",
    "GL05 = 0\n",
    "GL06 = 0.0\n",
    "l1 = 0\n",
    "l2 = 0\n",
    "l3 = 0.774\n",
    "L2 = 0.311  # slit2 to dipole face\n",
    "l = 0.129  # dipole face to VS06 screen (assume same for 1st and last dipole/screen)\n",
    "LL = l1 + l2 + l3 + L2  # distance from emittance plane to dipole entrance\n",
    "\n",
    "ecalc = energy.EnergyCalculate(l1=l1, l2=l2, l3=l3, L2=L2, l=l, amp2meter=a2mm*1e3)\n",
    "\n",
    "#Mslit = ecalc.getM1()  # slit-slit\n",
    "Mscreen = ecalc.getM2()  # 2nd-slit to screen\n",
    "\n",
    "# Matrix multiply to get 3D grids for yp and w.\n",
    "Y = Y1.copy()  # [y', w, y]\n",
    "YP = ecalc.calculate_yp(Y * 1e-3, Y3 * 1e-3, Mscreen)\n",
    "YP = YP.reshape(Y.shape) * 1e3\n",
    "W = ecalc.calculate_dE_screen(X3 * 1e-3, 0, 0, 0, Mscreen)\n",
    "W = W.reshape(Y.shape) * 1e3\n",
    "\n",
    "w = ecalc.calculate_dE_screen(x3 * 1e-3, 0, 0, 0, Mscreen) * 1e3   # energy spread"
   ]
  },
  {
   "cell_type": "code",
   "execution_count": null,
   "id": "cda22ee5-170f-473b-be03-73d19235e762",
   "metadata": {},
   "outputs": [],
   "source": [
    "from ipywidgets import interactive\n",
    "from tools import plotting as mplt\n",
    "\n",
    "def update(k):\n",
    "    fig, ax = pplt.subplots()\n",
    "    mplt.plot_image(im3d[:, :, k].T, norm=None, ax=ax, colorbar=True)\n",
    "    plt.show()\n",
    "    \n",
    "interactive(update, k=(0, im3d.shape[2]))"
   ]
  },
  {
   "cell_type": "code",
   "execution_count": null,
   "id": "64392299-3319-4491-a6ad-637a9d9a9dac",
   "metadata": {},
   "outputs": [],
   "source": [
    "k = im3d.shape[2] // 2 + 10\n",
    "\n",
    "_U = Y[:, :, k]\n",
    "_V = YP[:, :, k]\n",
    "H = im3d[:, :, k]\n",
    "\n",
    "fig, ax = pplt.subplots()\n",
    "ax.pcolormesh(H.T)\n",
    "plt.show()"
   ]
  },
  {
   "cell_type": "code",
   "execution_count": null,
   "id": "47dbd3a4-ec70-4c02-ba28-ec47ef95f3cd",
   "metadata": {},
   "outputs": [],
   "source": []
  }
 ],
 "metadata": {
  "kernelspec": {
   "display_name": "Python 3",
   "language": "python",
   "name": "python3"
  },
  "language_info": {
   "codemirror_mode": {
    "name": "ipython",
    "version": 3
   },
   "file_extension": ".py",
   "mimetype": "text/x-python",
   "name": "python",
   "nbconvert_exporter": "python",
   "pygments_lexer": "ipython3",
   "version": "3.7.6"
  }
 },
 "nbformat": 4,
 "nbformat_minor": 5
}
