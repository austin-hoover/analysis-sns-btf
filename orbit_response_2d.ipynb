{
 "cells": [
  {
   "cell_type": "markdown",
   "id": "7070ab9c-8a86-44fb-b37b-737fcf4c3c1c",
   "metadata": {},
   "source": [
    "# Orbit response"
   ]
  },
  {
   "cell_type": "code",
   "execution_count": null,
   "id": "7da64e46-4bc6-4fc9-b613-cd4e92a28070",
   "metadata": {},
   "outputs": [],
   "source": [
    "import sys\n",
    "import os\n",
    "from os.path import join\n",
    "from collections import Counter\n",
    "from datetime import datetime\n",
    "import h5py\n",
    "from tqdm import tqdm\n",
    "import numpy as np\n",
    "from scipy import optimize as opt\n",
    "from matplotlib import pyplot as plt\n",
    "import proplot as pplt\n",
    "\n",
    "sys.path.append('/Users/46h/Research/code/optimized_sav_gal/')\n",
    "import sgfilter\n",
    "\n",
    "pplt.rc['grid'] = False\n",
    "pplt.rc['cmap.discrete'] = False\n",
    "pplt.rc['cmap.sequential'] = 'dusk_r'"
   ]
  },
  {
   "cell_type": "code",
   "execution_count": null,
   "id": "f676e043-ea19-48ba-bcbe-b97b7f58fb55",
   "metadata": {},
   "outputs": [],
   "source": [
    "def get_quad_id(filename):\n",
    "    return filename.split('_')[5]\n",
    "\n",
    "def get_quad_number(filename):\n",
    "    return int(get_quad_id(filename)[2:])\n",
    "\n",
    "def mean_std(x, f):\n",
    "    N = np.sum(f)\n",
    "    mean = np.sum(f * x) / N\n",
    "    std = np.sum(f * (x - mean)**2) / N\n",
    "    return mean, std\n",
    "\n",
    "def autofilter(signal):\n",
    "    n_opt = sgfilter.n_opt(signal)\n",
    "    signal_filtered = sgfilter.sg_filter_gram(signal, n_opt, 2)\n",
    "    return signal_filtered.values"
   ]
  },
  {
   "cell_type": "code",
   "execution_count": null,
   "id": "8139b25e-7431-4eda-b602-57b7bd5cf1a9",
   "metadata": {},
   "outputs": [],
   "source": [
    "folder = 'Diagnostics/Data/Measurements/2022-04-22/'\n",
    "filenames = os.listdir(folder)\n",
    "filenames = [filename for filename in filenames if 'orbit_response' in filename]\n",
    "filenames = sorted(filenames, key=get_quad_number, reverse=True)\n",
    "filenames"
   ]
  },
  {
   "cell_type": "code",
   "execution_count": null,
   "id": "7b44b9c1-1358-465a-a47c-2f8ce287eb3f",
   "metadata": {},
   "outputs": [],
   "source": [
    "filename = filenames[0]\n",
    "file = h5py.File(join(folder, filename), 'r')\n",
    "list(file.keys())"
   ]
  },
  {
   "cell_type": "code",
   "execution_count": null,
   "id": "c718deab-5830-4df6-a1b5-1bc51403aac7",
   "metadata": {
    "scrolled": true,
    "tags": []
   },
   "outputs": [],
   "source": [
    "# Errors and warnings from log\n",
    "for i in range(file['log'].size):\n",
    "    if not(file['/log'][i, 'level'] == 'INFO'.encode('utf')):\n",
    "        timestr = datetime.fromtimestamp(file['/log'][0, 'timestamp']).strftime(\"%m/%d/%Y, %H:%M:%S\")\n",
    "        print(f\"{timestr} {file['log'][i, 'message']}\")\n",
    "\n",
    "# Configuration data\n",
    "for key in file['/config'].keys():\n",
    "    print(f\"{key}\")\n",
    "    print(\"--------------\")\n",
    "    for name in file['/config'][key].dtype.names:\n",
    "        print(f\"{name}: {file['config'][key][name]}\")\n",
    "    print()"
   ]
  },
  {
   "cell_type": "code",
   "execution_count": null,
   "id": "13a43626-cef7-4a36-830e-aab905064e08",
   "metadata": {},
   "outputs": [],
   "source": [
    "data = file['scandata']\n",
    "print('Data:')\n",
    "for i, name in enumerate(data.dtype.names):\n",
    "    print(f'{name} [{data.dtype[i]}]')\n",
    "print()\n",
    "\n",
    "slits = [key for key in data.dtype.names if 'PositionSync' in key]\n",
    "print(f'slits: {slits}')"
   ]
  },
  {
   "cell_type": "code",
   "execution_count": null,
   "id": "546a1139-ede1-4c35-b811-27f7564190ca",
   "metadata": {},
   "outputs": [],
   "source": [
    "for name in data.dtype.names:\n",
    "    if name in ['timestamp', 'Cam09_profileX', 'Cam09_profileY']:\n",
    "        continue\n",
    "    fig, ax = pplt.subplots(figsize=(5.0, 2.0))\n",
    "    ax.plot(data['iteration'], data[name], color='black')\n",
    "    for i in [22, 44, 66, 88, 110]:\n",
    "        ax.axvline(i, color='black', alpha=0.1)\n",
    "    ax.format(xlabel='Iteration', ylabel=name)\n",
    "    plt.show()"
   ]
  },
  {
   "cell_type": "markdown",
   "id": "d047fd87-bb23-447a-ad59-07466360864d",
   "metadata": {},
   "source": [
    "Some of the signals are just noise."
   ]
  },
  {
   "cell_type": "code",
   "execution_count": null,
   "id": "92746cf2-8024-471c-9662-b11ac5c30b67",
   "metadata": {},
   "outputs": [],
   "source": [
    "profile = data['Cam09_profileX'][100]\n",
    "profile = profile[75:]  # No signal at beginning.\n",
    "noise_mean = np.mean(profile)\n",
    "\n",
    "fig, ax = pplt.subplots(figsize=(4.0, 1.5))\n",
    "ax.plot(profile, color='black', alpha=0.1, label='Signal')\n",
    "ax.axhline(noise_mean, color='black', label='Noise mean')\n",
    "ax.legend(loc='top')\n",
    "plt.show()"
   ]
  },
  {
   "cell_type": "markdown",
   "id": "f32ace19-1e9b-4ae0-ae6e-2e9422da220d",
   "metadata": {},
   "source": [
    "Try thresholding to get rid of noise."
   ]
  },
  {
   "cell_type": "code",
   "execution_count": null,
   "id": "b990ebfa-d9a8-4e4d-8bd3-805e805cb282",
   "metadata": {},
   "outputs": [],
   "source": [
    "thresh = 2e5\n",
    "idx, profiles = [], []\n",
    "for i, profile in enumerate(tqdm(data['Cam09_profileX'])):\n",
    "    profile = profile[75:]\n",
    "    profile -= noise_mean\n",
    "    profile = np.clip(profile, thresh, None)\n",
    "    profile -= thresh\n",
    "    if np.count_nonzero(profile) > 60:\n",
    "        idx.append(i)\n",
    "        profiles.append(profile)\n",
    "idx = np.array(idx)\n",
    "profiles = np.array(profiles)"
   ]
  },
  {
   "cell_type": "code",
   "execution_count": null,
   "id": "b7976e2b-831c-41b1-aa55-b64290998c0b",
   "metadata": {},
   "outputs": [],
   "source": [
    "fig, ax = pplt.subplots(figsize=(10, 5))\n",
    "ax.pcolormesh(profiles.T)\n",
    "plt.show()"
   ]
  },
  {
   "cell_type": "code",
   "execution_count": null,
   "id": "9c2da327-18af-4cdd-950c-4289fa5706d9",
   "metadata": {},
   "outputs": [],
   "source": [
    "means = []\n",
    "for i, profile in zip(idx, profiles):\n",
    "    imax = np.argmax(profile)\n",
    "    means.append(imax)"
   ]
  },
  {
   "cell_type": "code",
   "execution_count": null,
   "id": "6766ebe1-b091-4248-8a2e-bed9ff53eac6",
   "metadata": {},
   "outputs": [],
   "source": [
    "means_long = np.full(len(data), np.nan)\n",
    "for i, mean in zip(idx, means):\n",
    "    means_long[i] = mean\n",
    "\n",
    "fig, axes = pplt.subplots(nrows=2, figsize=(6, 2.25), height_ratios=[1.0, 0.4], spany=False)\n",
    "plt_kws = dict(alpha=0.6)\n",
    "axes[1].plot(data['HZ04_PositionSync'], **plt_kws)\n",
    "axes[1].plot(data['HZ06_PositionSync'], **plt_kws)\n",
    "axes[0].plot(means_long, color='black', lw=0, marker='.', ms=3)\n",
    "axes[0].format(ylabel='Mean position', xlabel='Step')\n",
    "plt.show()"
   ]
  }
 ],
 "metadata": {
  "kernelspec": {
   "display_name": "Python 3",
   "language": "python",
   "name": "python3"
  },
  "language_info": {
   "codemirror_mode": {
    "name": "ipython",
    "version": 3
   },
   "file_extension": ".py",
   "mimetype": "text/x-python",
   "name": "python",
   "nbconvert_exporter": "python",
   "pygments_lexer": "ipython3",
   "version": "3.7.6"
  }
 },
 "nbformat": 4,
 "nbformat_minor": 5
}
