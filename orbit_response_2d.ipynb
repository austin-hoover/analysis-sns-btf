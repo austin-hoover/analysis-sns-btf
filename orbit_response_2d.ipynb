{
 "cells": [
  {
   "cell_type": "markdown",
   "id": "7070ab9c-8a86-44fb-b37b-737fcf4c3c1c",
   "metadata": {},
   "source": [
    "# Orbit response"
   ]
  },
  {
   "cell_type": "code",
   "execution_count": null,
   "id": "7da64e46-4bc6-4fc9-b613-cd4e92a28070",
   "metadata": {},
   "outputs": [],
   "source": [
    "import sys\n",
    "import os\n",
    "from os.path import join\n",
    "from collections import Counter\n",
    "from datetime import datetime\n",
    "import h5py\n",
    "from tqdm import tqdm\n",
    "import numpy as np\n",
    "from scipy import optimize as opt\n",
    "from matplotlib import pyplot as plt\n",
    "import proplot as pplt\n",
    "\n",
    "sys.path.append('/Users/46h/Research/code/optimized_sav_gal/')\n",
    "import sgfilter\n",
    "\n",
    "pplt.rc['grid'] = False\n",
    "pplt.rc['cmap.discrete'] = False\n",
    "pplt.rc['cmap.sequential'] = 'dusk_r'"
   ]
  },
  {
   "cell_type": "code",
   "execution_count": null,
   "id": "f676e043-ea19-48ba-bcbe-b97b7f58fb55",
   "metadata": {},
   "outputs": [],
   "source": [
    "def get_quad_id(filename):\n",
    "    return filename.split('_')[5]\n",
    "\n",
    "def get_quad_number(filename):\n",
    "    return int(get_quad_id(filename)[2:])\n",
    "\n",
    "def mean_std(x, f):\n",
    "    N = np.sum(f)\n",
    "    mean = np.sum(f * x) / N\n",
    "    std = np.sum(f * (x - mean)**2) / N\n",
    "    return mean, std\n",
    "\n",
    "def autofilter(signal):\n",
    "    n_opt = sgfilter.n_opt(signal)\n",
    "    signal_filtered = sgfilter.sg_filter_gram(signal, n_opt, 2)\n",
    "    return signal_filtered.values"
   ]
  },
  {
   "cell_type": "code",
   "execution_count": null,
   "id": "8139b25e-7431-4eda-b602-57b7bd5cf1a9",
   "metadata": {},
   "outputs": [],
   "source": [
    "folder = 'Diagnostics/Data/Measurements/2022-04-22/'\n",
    "filenames = os.listdir(folder)\n",
    "filenames = [filename for filename in filenames if 'orbit_response' in filename]\n",
    "filenames = sorted(filenames, key=get_quad_number, reverse=True)\n",
    "filenames"
   ]
  },
  {
   "cell_type": "code",
   "execution_count": null,
   "id": "7b44b9c1-1358-465a-a47c-2f8ce287eb3f",
   "metadata": {},
   "outputs": [],
   "source": [
    "filename = filenames[0]\n",
    "file = h5py.File(join(folder, filename), 'r')\n",
    "list(file.keys())"
   ]
  },
  {
   "cell_type": "code",
   "execution_count": null,
   "id": "c718deab-5830-4df6-a1b5-1bc51403aac7",
   "metadata": {
    "scrolled": true,
    "tags": []
   },
   "outputs": [],
   "source": [
    "# Errors and warnings from log\n",
    "for i in range(file['log'].size):\n",
    "    if not(file['/log'][i, 'level'] == 'INFO'.encode('utf')):\n",
    "        timestr = datetime.fromtimestamp(file['/log'][0, 'timestamp']).strftime(\"%m/%d/%Y, %H:%M:%S\")\n",
    "        print(f\"{timestr} {file['log'][i, 'message']}\")\n",
    "\n",
    "# Configuration data\n",
    "for key in file['/config'].keys():\n",
    "    print(f\"{key}\")\n",
    "    print(\"--------------\")\n",
    "    for name in file['/config'][key].dtype.names:\n",
    "        print(f\"{name}: {file['config'][key][name]}\")\n",
    "    print()"
   ]
  },
  {
   "cell_type": "code",
   "execution_count": null,
   "id": "13a43626-cef7-4a36-830e-aab905064e08",
   "metadata": {},
   "outputs": [],
   "source": [
    "data = file['scandata']\n",
    "print('Data:')\n",
    "for i, name in enumerate(data.dtype.names):\n",
    "    print(f'{name} [{data.dtype[i]}]')\n",
    "print()\n",
    "\n",
    "slits = [key for key in data.dtype.names if 'PositionSync' in key]\n",
    "print(f'slits: {slits}')"
   ]
  },
  {
   "cell_type": "code",
   "execution_count": null,
   "id": "546a1139-ede1-4c35-b811-27f7564190ca",
   "metadata": {},
   "outputs": [],
   "source": [
    "for name in data.dtype.names:\n",
    "    if name in ['timestamp', 'Cam09_profileX', 'Cam09_profileY']:\n",
    "        continue\n",
    "    fig, ax = pplt.subplots(figsize=(5.0, 2.0))\n",
    "    ax.plot(data['iteration'], data[name], color='black')\n",
    "    for i in [22, 44, 66, 88, 110]:\n",
    "        ax.axvline(i, color='black', alpha=0.1)\n",
    "    ax.format(xlabel='Iteration', ylabel=name)\n",
    "    plt.show()"
   ]
  },
  {
   "cell_type": "markdown",
   "id": "d047fd87-bb23-447a-ad59-07466360864d",
   "metadata": {},
   "source": [
    "Some of the signals are just noise."
   ]
  },
  {
   "cell_type": "code",
   "execution_count": null,
   "id": "92746cf2-8024-471c-9662-b11ac5c30b67",
   "metadata": {},
   "outputs": [],
   "source": [
    "profile = data['Cam09_profileX'][100]\n",
    "profile = profile[75:]  # No signal at beginning.\n",
    "noise_mean = np.mean(profile)\n",
    "\n",
    "fig, ax = pplt.subplots(figsize=(4.0, 1.5))\n",
    "ax.plot(profile, color='black', alpha=0.1, label='Signal')\n",
    "ax.axhline(noise_mean, color='black', label='Noise mean')\n",
    "ax.legend(loc='top')\n",
    "plt.show()"
   ]
  },
  {
   "cell_type": "markdown",
   "id": "f32ace19-1e9b-4ae0-ae6e-2e9422da220d",
   "metadata": {},
   "source": [
    "Try thresholding to get rid of noise."
   ]
  },
  {
   "cell_type": "code",
   "execution_count": null,
   "id": "b990ebfa-d9a8-4e4d-8bd3-805e805cb282",
   "metadata": {},
   "outputs": [],
   "source": [
    "thresh = 2e5\n",
    "good_idx = []\n",
    "good_profiles = []\n",
    "good_profiles_filtered = []\n",
    "for i, profile in enumerate(tqdm(data['Cam09_profileX'])):\n",
    "    profile = profile[75:]\n",
    "    profile -= noise_mean\n",
    "    profile[profile < thresh] = thresh\n",
    "    profile -= thresh\n",
    "    if np.count_nonzero(profile) > 60:\n",
    "        good_idx.append(i)\n",
    "        good_profiles.append(profile)\n",
    "        good_profiles_filtered.append(autofilter(profile))\n",
    "good_idx = np.array(good_idx)"
   ]
  },
  {
   "cell_type": "code",
   "execution_count": null,
   "id": "9c2da327-18af-4cdd-950c-4289fa5706d9",
   "metadata": {},
   "outputs": [],
   "source": [
    "n = 10\n",
    "means = []\n",
    "for i, f, ff in zip(good_idx, good_profiles, good_profiles_filtered):\n",
    "    imax = np.argmax(ff)\n",
    "    means.append(imax)\n",
    "#     fig, ax = pplt.subplots(figsize=(4, 1.5))\n",
    "#     ax.plot(f, color='black', alpha=0.1)\n",
    "#     ax.plot(ff, color='black')\n",
    "#     ax.axvline(imax, color='pink7', alpha=0.5)\n",
    "#     plt.show()"
   ]
  },
  {
   "cell_type": "code",
   "execution_count": null,
   "id": "6766ebe1-b091-4248-8a2e-bed9ff53eac6",
   "metadata": {},
   "outputs": [],
   "source": [
    "means_long = np.full(len(data), np.nan)\n",
    "for i, mean in zip(good_idx, means):\n",
    "    means_long[i] = mean\n",
    "\n",
    "fig, ax = pplt.subplots(figsize=(9, 2))\n",
    "ax.plot(means_long, color='black', lw=None, marker='.', ms=3)\n",
    "ax.format(ylabel='Mean position', xlabel='Step')\n",
    "plt.show()"
   ]
  },
  {
   "cell_type": "code",
   "execution_count": null,
   "id": "672e4cd6-9f92-41eb-8ac4-cbcf943a80e0",
   "metadata": {},
   "outputs": [],
   "source": []
  },
  {
   "cell_type": "code",
   "execution_count": null,
   "id": "fedbc2d2-4b40-4a20-8f25-bb35114cee42",
   "metadata": {},
   "outputs": [],
   "source": []
  },
  {
   "cell_type": "markdown",
   "id": "16d2fb39-b500-48cc-8825-5f41e8845733",
   "metadata": {},
   "source": [
    "One iteration = one sweep of the first slit. One iteration should be equal to 22 steps. I will let one \"period\" = one sweep of the second slit. One period should be equal to 22 iterations. The quad current is changed after each period."
   ]
  },
  {
   "cell_type": "markdown",
   "id": "1088b405-d478-4631-8598-80120ac3be18",
   "metadata": {},
   "source": [
    "Let's get the step indices for each period."
   ]
  },
  {
   "cell_type": "code",
   "execution_count": null,
   "id": "f9ad5408-9d2e-4a00-a1d5-911dcda90d15",
   "metadata": {
    "scrolled": true,
    "tags": []
   },
   "outputs": [],
   "source": [
    "quad_id = get_quad_id(filename)\n",
    "period_length = 22\n",
    "idx_dict = dict()\n",
    "for period in range(1, 7):\n",
    "    idx = np.logical_and(\n",
    "        data['iteration'] >= (period - 1) * period_length + 1,\n",
    "        data['iteration'] <= period * period_length,\n",
    "    )\n",
    "    idx_dict[period] = data['iteration'][idx]\n",
    "idx_dict"
   ]
  },
  {
   "cell_type": "markdown",
   "id": "85c708c0-fe2b-4b30-a5df-beecaa3d4edf",
   "metadata": {},
   "source": [
    "Recall that our goal is to compute the beam centroid for each x,x' as a function of quad current. First, let's get the data from this period."
   ]
  },
  {
   "cell_type": "code",
   "execution_count": null,
   "id": "4ccb617b-8c62-46f3-a430-49c04e87294d",
   "metadata": {},
   "outputs": [],
   "source": [
    "period = 1\n",
    "idx = idx_dict[period]\n",
    "slit_pos = {slit: data[slit] for slit in slits}\n",
    "quad_current_set = np.mean(data[f'{quad_id}_CurrentSet'][idx])\n",
    "quad_current_avg = np.mean(data[f'{quad_id}_CurrentRb'][idx])\n",
    "xprofiles = data['Cam09_ProfileX'][idx, :]\n",
    "yprofiles = data['Cam09_ProfileY'][idx, :]\n",
    "print(f'quad_current_avg = {quad_current_avg:.2f}')\n",
    "print(f'quad_current_aset = {quad_current_avg:.2f}')"
   ]
  },
  {
   "cell_type": "markdown",
   "id": "1297b159-e2e3-4ca7-a7a9-ced4a3a17f3b",
   "metadata": {},
   "source": [
    "For some reason, there are more than 22 steps (positions of the sweeping slit) per iteration. Furthermore, the number of steps per iteration changes on each iteration. I'm not sure why."
   ]
  },
  {
   "cell_type": "code",
   "execution_count": null,
   "id": "cf9e6480-72b4-4c91-b475-3ed2c2922b45",
   "metadata": {},
   "outputs": [],
   "source": [
    "steps_per_iter = Counter(idx)\n",
    "print('Iteration: number of steps')\n",
    "steps_per_iter"
   ]
  },
  {
   "cell_type": "markdown",
   "id": "6144c7a5-e84b-4ee0-8895-af16f9e9e2b0",
   "metadata": {},
   "source": [
    "We could cut them off at the same number; hold off for now."
   ]
  },
  {
   "cell_type": "markdown",
   "id": "a078f182-0ea0-4514-ae3a-3ad0695bc809",
   "metadata": {},
   "source": [
    "Let's look at the profiles at the first iteration — as the first slit sweeps."
   ]
  },
  {
   "cell_type": "code",
   "execution_count": null,
   "id": "8b400c04-ea46-4bd4-b3b5-c17a4dbd809b",
   "metadata": {},
   "outputs": [],
   "source": [
    "iteration = 1\n",
    "steps = steps_per_iter[iteration]\n",
    "lo = iteration - 1\n",
    "hi = lo + steps\n",
    "_yprofiles = yprofiles[lo:hi, :]\n",
    "\n",
    "for i, y in enumerate(_yprofiles):\n",
    "    x = 0.023 * np.arange(len(y))  # 0.024 mm/pixel at zoom=1.0.\n",
    "    y_filtered = autofilter(y)\n",
    "    imean = np.argmax(y_filtered)\n",
    "    mean = x[imean]\n",
    "    print(f'mean = {mean:.2f}')\n",
    "#     fig, ax = pplt.subplots()\n",
    "#     ax.plot(x, y, color='black', alpha=0.1, label='original')\n",
    "#     ax.plot(x, y_filtered, color='black', label='filtered')\n",
    "#     ax.format(yticklabels=[], ylabel='Amplitude', xlabel='y [mm]')\n",
    "#     ax.axvline(mean, color='pink8', alpha=0.5, label='mean')\n",
    "#     ax.legend(loc='top', framealpha=0.0)\n",
    "# #     plt.savefig(f'_output/Cam09_ProfileY_{i}')\n",
    "#     plt.show()"
   ]
  },
  {
   "cell_type": "markdown",
   "id": "23d35c1c-e9c7-4089-9aa0-0f5664a93e1c",
   "metadata": {},
   "source": [
    "I want to know: for a given x and x', how does it's position on the screen change as a function of quad strength? That means that I need to match up iterations between periods."
   ]
  },
  {
   "cell_type": "code",
   "execution_count": null,
   "id": "018ee7ba-8823-43a2-a444-b1c6ed6d58aa",
   "metadata": {},
   "outputs": [],
   "source": [
    "i = 4\n",
    "for j in range(12):\n",
    "    idx = np.logical_and(\n",
    "        data[slits[1]] == data[slits[1]][i],\n",
    "        data[slits[0]] == data[slits[0]][j],\n",
    "    )\n",
    "\n",
    "    y = data['Cam09_ProfileY'][idx, :]\n",
    "    if y.shape[0] > 1:\n",
    "        y = y[0]\n",
    "    y = np.squeeze(y)\n",
    "    x = 0.023 * np.arange(len(y))  # 0.024 mm/pixel at zoom=1.0.\n",
    "    \n",
    "    # Check noise level.\n",
    "    peak = np.max(y) / np.mean(y)\n",
    "    print(peak)\n",
    "\n",
    "    fig, ax = pplt.subplots()\n",
    "    ax.plot(x, y, color='black', alpha=0.1)\n",
    "    \n",
    "#     y_filtered = autofilter(y)\n",
    "#     ax.plot(x, y_filtered, color='black')\n",
    "#     imean = np.argmax(y_filtered)\n",
    "#     mean = x[imean]\n",
    "#     ax.format(yticklabels=[], ylabel='Amplitude', xlabel='y [mm]')\n",
    "#     ax.axvline(mean, color='pink8', alpha=0.5, label='mean')\n",
    "#     plt.show()"
   ]
  },
  {
   "cell_type": "code",
   "execution_count": null,
   "id": "27495f95-37dd-4a5e-8e23-25bf74bc11a4",
   "metadata": {},
   "outputs": [],
   "source": []
  }
 ],
 "metadata": {
  "kernelspec": {
   "display_name": "Python 3",
   "language": "python",
   "name": "python3"
  },
  "language_info": {
   "codemirror_mode": {
    "name": "ipython",
    "version": 3
   },
   "file_extension": ".py",
   "mimetype": "text/x-python",
   "name": "python",
   "nbconvert_exporter": "python",
   "pygments_lexer": "ipython3",
   "version": "3.7.6"
  }
 },
 "nbformat": 4,
 "nbformat_minor": 5
}
