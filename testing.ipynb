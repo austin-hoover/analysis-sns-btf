{
 "cells": [
  {
   "cell_type": "markdown",
   "metadata": {},
   "source": [
    "# Scan pattern testing"
   ]
  },
  {
   "cell_type": "code",
   "execution_count": null,
   "metadata": {},
   "outputs": [],
   "source": [
    "import sys\n",
    "import numpy as np\n",
    "import matplotlib.pyplot as plt\n",
    "import proplot as pplt\n",
    "\n",
    "sys.path.append('..')\n",
    "from tools import utils\n",
    "\n",
    "sys.path.append('/Users/46h/Research/btf/btf-scripts/')\n",
    "import scan_patterns as sp\n",
    "\n",
    "pplt.rc['grid'] = False"
   ]
  },
  {
   "cell_type": "code",
   "execution_count": null,
   "metadata": {},
   "outputs": [],
   "source": [
    "ndim = 3\n",
    "n = 16\n",
    "slit_dict = {\n",
    "    'x1': {\n",
    "        'center': 0.0,\n",
    "        'distance': 1.0,\n",
    "        'steps': n,\n",
    "        'min': -np.inf,\n",
    "        'max': +np.inf,\n",
    "    },\n",
    "    'x2': {\n",
    "        'center': 0.0,\n",
    "        'distance': 1.0,\n",
    "        'steps': n,\n",
    "        'min': -np.inf,\n",
    "        'max': +np.inf,\n",
    "    },\n",
    "    'x3': {\n",
    "        'center': 0.0,\n",
    "        'distance': 0.0,\n",
    "        'steps': 0,\n",
    "        'min': -np.inf,\n",
    "        'max': +np.inf,\n",
    "    },\n",
    "}\n",
    "for attr, sign in zip(['min', 'max'], [-1.0, +1.0]):\n",
    "    slit_dict['x1'][attr] = sign * 0.4\n",
    "    pass\n",
    "    \n",
    "keys = list(slit_dict)\n",
    "M = np.identity(ndim)\n",
    "M[keys.index('x3'), keys.index('x1')] = 1.0"
   ]
  },
  {
   "cell_type": "code",
   "execution_count": null,
   "metadata": {},
   "outputs": [],
   "source": [
    "import importlib\n",
    "importlib.reload(sp)\n",
    "\n",
    "# Run points generator\n",
    "navg = 1\n",
    "kws = dict(\n",
    "    slit_dict=slit_dict, \n",
    "    M=M, \n",
    "    reprate=5.0,\n",
    "    navg=navg, \n",
    "    boundary='ellipsoid',  # {None, 'ellipsoid'} \n",
    "    R=1.0,\n",
    "    exclude_outside_box=True,\n",
    ")\n",
    "lgen = list(sp.gen(**kws))\n",
    "\n",
    "# Reshape\n",
    "if navg > 0:\n",
    "    pts = np.zeros((len(lgen), ndim))\n",
    "    for i in range(len(lgen)):\n",
    "        pts[i, :] = lgen[i][0]\n",
    "else:\n",
    "    lgen = np.array(lgen)\n",
    "    pts = np.zeros((2 * lgen.shape[0], ndim))\n",
    "    for i in range(ndim):\n",
    "        pts[:, i] = lgen[:, i, :2].ravel()\n",
    "    \n",
    "# Un-shear new (generated) points.\n",
    "center = np.array([slit_dict[key]['center'] for key in keys])\n",
    "Minv = np.linalg.inv(M)\n",
    "pts_n = utils.apply(Minv, pts - center)"
   ]
  },
  {
   "cell_type": "code",
   "execution_count": null,
   "metadata": {},
   "outputs": [],
   "source": [
    "_pts = pts"
   ]
  },
  {
   "cell_type": "code",
   "execution_count": null,
   "metadata": {},
   "outputs": [],
   "source": [
    "from plotly import graph_objects as go\n",
    "\n",
    "fig = go.Figure(data=go.Scatter3d(x=_pts[:, 0], y=_pts[:, 1], z=_pts[:, 2], mode='markers',\n",
    "                                  marker=dict(color='black', size=1.0, opacity=0.)))\n",
    "# fig.update_scenes(xaxis_visible=False, yaxis_visible=False, zaxis_visible=False)\n",
    "fig.show()"
   ]
  },
  {
   "cell_type": "code",
   "execution_count": null,
   "metadata": {},
   "outputs": [],
   "source": [
    "labels = ['x1', 'x2', 'x3']\n",
    "fig, axes = pplt.subplots(ncols=3, nrows=3, figwidth=5, span=False)\n",
    "for i in range(3):\n",
    "    for j in range(3):\n",
    "        x = _pts[:, j]\n",
    "        y = _pts[:, i]\n",
    "        ax = axes[i, j]\n",
    "        ax.plot(x, y, lw=1, marker='.', ms=2, color='black')\n",
    "    axes[i, 0].format(ylabel=labels[i])\n",
    "    axes[-1, i].format(xlabel=labels[i])\n",
    "axes.format(xlim=(-0.55, 0.55), ylim=(-0.55, 0.55))"
   ]
  },
  {
   "cell_type": "code",
   "execution_count": null,
   "metadata": {},
   "outputs": [],
   "source": [
    "np.max(pts, axis=0)"
   ]
  },
  {
   "cell_type": "code",
   "execution_count": null,
   "metadata": {},
   "outputs": [],
   "source": []
  }
 ],
 "metadata": {
  "kernelspec": {
   "display_name": "Python 3",
   "language": "python",
   "name": "python3"
  },
  "language_info": {
   "codemirror_mode": {
    "name": "ipython",
    "version": 3
   },
   "file_extension": ".py",
   "mimetype": "text/x-python",
   "name": "python",
   "nbconvert_exporter": "python",
   "pygments_lexer": "ipython3",
   "version": "3.7.6"
  }
 },
 "nbformat": 4,
 "nbformat_minor": 4
}
