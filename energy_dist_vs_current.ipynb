{
 "cells": [
  {
   "cell_type": "markdown",
   "id": "7070ab9c-8a86-44fb-b37b-737fcf4c3c1c",
   "metadata": {},
   "source": [
    "# Energy profile vs. beam intensity"
   ]
  },
  {
   "cell_type": "markdown",
   "id": "fd0b8e31-0cb2-42a9-81bb-38de11b6f598",
   "metadata": {},
   "source": [
    "To do: check whether the mean x and y on the BPM is the same at each intensity."
   ]
  },
  {
   "cell_type": "code",
   "execution_count": null,
   "id": "7da64e46-4bc6-4fc9-b613-cd4e92a28070",
   "metadata": {},
   "outputs": [],
   "source": [
    "import os\n",
    "from os.path import join\n",
    "from collections import Counter\n",
    "from datetime import datetime\n",
    "import h5py\n",
    "import numpy as np\n",
    "from tqdm import trange\n",
    "from scipy import optimize as opt\n",
    "from matplotlib import pyplot as plt\n",
    "from matplotlib import colors\n",
    "from matplotlib import cm\n",
    "import proplot as pplt\n",
    "\n",
    "pplt.rc['grid'] = False\n",
    "pplt.rc['cmap.discrete'] = False\n",
    "pplt.rc['cmap.sequential'] = 'dusk_r'"
   ]
  },
  {
   "cell_type": "code",
   "execution_count": null,
   "id": "f676e043-ea19-48ba-bcbe-b97b7f58fb55",
   "metadata": {},
   "outputs": [],
   "source": [
    "folder = 'Diagnostics/Data/Measurements/2022-04-27/'\n",
    "filenames = os.listdir(folder)\n",
    "filenames = sorted(filenames, key=lambda filename: int(filename.split('-')[0]))\n",
    "filenames"
   ]
  },
  {
   "cell_type": "code",
   "execution_count": null,
   "id": "7b44b9c1-1358-465a-a47c-2f8ce287eb3f",
   "metadata": {},
   "outputs": [],
   "source": [
    "filename = filenames[0]\n",
    "file = h5py.File(join(folder, filename), 'r')\n",
    "list(file.keys())"
   ]
  },
  {
   "cell_type": "code",
   "execution_count": null,
   "id": "c718deab-5830-4df6-a1b5-1bc51403aac7",
   "metadata": {},
   "outputs": [],
   "source": [
    "# Errors and warnings from log\n",
    "for i in range(file['log'].size):\n",
    "    if not(file['/log'][i, 'level'] == 'INFO'.encode('utf')):\n",
    "        timestr = datetime.fromtimestamp(file['/log'][0, 'timestamp']).strftime(\"%m/%d/%Y, %H:%M:%S\")\n",
    "        print(f\"{timestr} {file['log'][i, 'message']}\")\n",
    "\n",
    "# Configuration data\n",
    "for key in file['/config'].keys():\n",
    "    print(f\"{key}\")\n",
    "    print(\"--------------\")\n",
    "    for name in file['/config'][key].dtype.names:\n",
    "        print(f\"{name}: {file['config'][key][name]}\")\n",
    "    print()"
   ]
  },
  {
   "cell_type": "code",
   "execution_count": null,
   "id": "13a43626-cef7-4a36-830e-aab905064e08",
   "metadata": {},
   "outputs": [],
   "source": [
    "data = file['scandata']\n",
    "print('Data:')\n",
    "for i, name in enumerate(data.dtype.names):\n",
    "    print(f'{name} [{data.dtype[i]}]')\n",
    "print()\n",
    "\n",
    "slits = [key for key in data.dtype.names if 'PositionSync' in key]\n",
    "print('slits:')\n",
    "for slit in slits:\n",
    "    print(slit)"
   ]
  },
  {
   "cell_type": "code",
   "execution_count": null,
   "id": "0e667329-e394-4436-a145-5beec5defbad",
   "metadata": {},
   "outputs": [],
   "source": [
    "for name in data.dtype.names:\n",
    "    if name in ['timestamp', 'cam06_Image', 'cam06_ProfileX']:\n",
    "        continue\n",
    "    fig, ax = pplt.subplots(figsize=(3.0, 2.5))\n",
    "    ax.plot(data[name], color='black')\n",
    "    ax.format(xlabel='step', ylabel=name)\n",
    "    plt.show()"
   ]
  },
  {
   "cell_type": "code",
   "execution_count": null,
   "id": "0ac329a2-7604-495b-a08d-961115919c2d",
   "metadata": {},
   "outputs": [],
   "source": [
    "fig, ax = pplt.subplots(figsize=(3.0, 2.5))\n",
    "ax.format(xlabel='Step', ylabel='Current [mA]')\n",
    "ax2 = ax.alty(color='grey')\n",
    "ax2.format(ylabel='LEBT Focus1')\n",
    "ax2.plot(data['focus1'], color='grey')\n",
    "ax.plot(data['bcm'], color='black')\n",
    "plt.savefig('_output/current')"
   ]
  },
  {
   "cell_type": "code",
   "execution_count": null,
   "id": "3cf5c41a-0c79-42da-a4b0-0a33052191e1",
   "metadata": {},
   "outputs": [],
   "source": [
    "bpm_wfs = dict()\n",
    "bpm_means = dict()\n",
    "bpm_stds = dict()\n",
    "bpm_keys = ['x', 'y', 'u', 'd', 'l', 'r', 'xraw', 'yraw']\n",
    "for key in bpm_keys:\n",
    "    bpm_wfs[key] = []\n",
    "    bpm_means[key] = []\n",
    "    bpm_stds[key] = []"
   ]
  },
  {
   "cell_type": "code",
   "execution_count": null,
   "id": "5f99dd1c-521b-4e3d-bf67-dc485b6a1247",
   "metadata": {},
   "outputs": [],
   "source": [
    "iterations = []\n",
    "profiles = []\n",
    "currents = []\n",
    "images = []\n",
    "lo, hi = 566, 595\n",
    "for iteration in trange(1, max(data['iteration']) + 1):\n",
    "    iterations.append(iteration)\n",
    "    idx = data['iteration'] == iteration\n",
    "    image = np.mean(data['cam06_Image'][idx, :], axis=0).reshape((512, 612))\n",
    "    images.append(image)\n",
    "    profile = np.mean(data['cam06_ProfileX'][idx, :], axis=0)  # averagine\n",
    "    profile = profile / np.sum(profile)  # normalize\n",
    "    profiles.append(profile)\n",
    "    currents.append(data['bcm'][idx][0])\n",
    "    # BPM waveforms\n",
    "    cut = 999  # some waveforms are zero beyond this index\n",
    "    bpm_wf = dict()\n",
    "    bpm_wf['x'] = np.mean(data['bpm04_x'][idx, :cut], axis=0)\n",
    "    bpm_wf['y'] = np.mean(data['bpm04_y'][idx, :cut], axis=0)\n",
    "    bpm_wf['u'] = np.mean(data['bpm04_magu'][idx, :cut], axis=0)\n",
    "    bpm_wf['d'] = np.mean(data['bpm04_magd'][idx, :cut], axis=0)\n",
    "    bpm_wf['l'] = np.mean(data['bpm04_magl'][idx, :cut], axis=0)\n",
    "    bpm_wf['r'] = np.mean(data['bpm04_magr'][idx, :cut], axis=0)\n",
    "    bpm_wf['xraw'] = 8.0 * np.log10(bpm_wf['l'] / bpm_wf['r'])\n",
    "    bpm_wf['yraw'] = 8.0 * np.log10(bpm_wf['u'] / bpm_wf['d'])\n",
    "    for key, wf in bpm_wf.items():\n",
    "        window = wf[lo:hi]\n",
    "        bpm_means[key].append(np.mean(window))\n",
    "        bpm_stds[key].append(np.std(window))\n",
    "        bpm_wfs[key].append(wf)"
   ]
  },
  {
   "cell_type": "code",
   "execution_count": null,
   "id": "fadac0e0-5a1a-4fe8-a341-849ebafbd722",
   "metadata": {},
   "outputs": [],
   "source": [
    "profiles = np.array(profiles)\n",
    "currents = np.array(currents)\n",
    "for key in bpm_wfs:\n",
    "    bpm_wfs[key] = np.array(bpm_wfs[key])\n",
    "    bpm_means[key] = np.array(bpm_means[key])\n",
    "    bpm_stds[key] = np.array(bpm_stds[key])"
   ]
  },
  {
   "cell_type": "markdown",
   "id": "c0540ee5-5ee3-4548-b297-f0c58d5f84ca",
   "metadata": {},
   "source": [
    "The following cell creates a lot of plots."
   ]
  },
  {
   "cell_type": "code",
   "execution_count": null,
   "id": "488e738a-c7e5-4426-b0f4-ef712df1f70a",
   "metadata": {},
   "outputs": [],
   "source": [
    "pad = 25\n",
    "_lo = lo - pad\n",
    "_hi = hi + pad\n",
    "xx = np.arange(lo - pad, hi + pad)\n",
    "# for i in range(len(profiles)):\n",
    "#     fig, axes = pplt.subplots(ncols=8, figheight=1.5, sharey=False)\n",
    "#     plot_kws = dict(color='black')\n",
    "#     for ax, key in zip(axes, bpm_keys):\n",
    "#         ax.plot(xx, bpm_wfs[key][i, _lo:_hi], **plot_kws)\n",
    "#         ax.set_title(key)\n",
    "#         ax.axvspan(lo, hi, color='black', alpha=0.05)\n",
    "#     plt.show()"
   ]
  },
  {
   "cell_type": "code",
   "execution_count": null,
   "id": "5a114801-0e36-456d-a21d-25c060b9ec6f",
   "metadata": {},
   "outputs": [],
   "source": [
    "cmap = pplt.Colormap('greys', left=0.12, right=0.9)\n",
    "norm = colors.Normalize(np.min(np.abs(currents)), np.max(np.abs(currents)))\n",
    "mappable = cm.ScalarMappable(norm, cmap)"
   ]
  },
  {
   "cell_type": "code",
   "execution_count": null,
   "id": "e76b3ea8-33a0-4693-a837-f1150dc3ae85",
   "metadata": {},
   "outputs": [],
   "source": [
    "fig, axes = pplt.subplots(ncols=2, nrows=2, figsize=(5, 2.5), spany=False, aligny=True)\n",
    "plot_kws = dict(lw=0.75)\n",
    "for i in range(len(profiles)):\n",
    "    color = mappable.to_rgba(np.abs(currents[i]))\n",
    "    axes[0, 0].plot(xx, bpm_wfs['x'][i, _lo:_hi].T, color=color, **plot_kws)\n",
    "    axes[1, 0].plot(xx, bpm_wfs['y'][i, _lo:_hi].T, color=color, **plot_kws)\n",
    "    axes[0, 1].plot(xx, bpm_wfs['xraw'][i, _lo:_hi].T, color=color, **plot_kws)\n",
    "    axes[1, 1].plot(xx, bpm_wfs['yraw'][i, _lo:_hi].T, color=color, **plot_kws)\n",
    "for ax in axes:\n",
    "    ax.axvspan(lo, hi, color='black', alpha=0.025)\n",
    "fig.colorbar(mappable, label='Current [mA]')\n",
    "axes[0, :].format(ylabel='x [mm]')\n",
    "axes[1, :].format(ylabel='y [mm]')\n",
    "axes.format(\n",
    "    xlabel='Time', \n",
    "    toplabels=['From BPM electronics', 'From raw waveforms'], \n",
    "    toplabels_kw=dict(fontweight='normal'),\n",
    ")\n",
    "plt.savefig('_output/bpm')"
   ]
  },
  {
   "cell_type": "code",
   "execution_count": null,
   "id": "e15433a1-eaf5-41e8-b613-23453ae13d45",
   "metadata": {},
   "outputs": [],
   "source": [
    "fig, ax = pplt.subplots()\n",
    "plot_kws = dict(marker='.', ms=4.0, lw=0, elinewidth=1.0)\n",
    "for key in ['x', 'y']:\n",
    "    ax.errorbar(currents, bpm_means[key], yerr=bpm_stds[key], label=key, **plot_kws)\n",
    "ax.format(cycle='colorblind')\n",
    "plot_kws['alpha'] = 0.2\n",
    "for key in ['xraw', 'yraw']:\n",
    "    ax.errorbar(currents, bpm_means[key], yerr=bpm_stds[key], label=key, **plot_kws)\n",
    "ax.format(xlabel='Current [mA]', ylabel='[mm]')\n",
    "ax.legend(loc='right', ncols=1, framealpha=0.)\n",
    "plt.savefig('_output/bpmavg')\n",
    "plt.show()"
   ]
  },
  {
   "cell_type": "code",
   "execution_count": null,
   "id": "e64479ab-cec8-410a-b15f-9bfe384a5537",
   "metadata": {},
   "outputs": [],
   "source": [
    "fig, ax = pplt.subplots(figsize=(4.0, 3.0))\n",
    "for profile, current in zip(profiles, currents):\n",
    "    ax.plot(profile, color = mappable.to_rgba(np.abs(current)))\n",
    "ax.colorbar(mappable=mappable, label='Current [mA]')\n",
    "ax.format(xlim=(100, ax.get_xlim()[1]), yticks=[], xlabel=r'~$\\Delta$E', xticks=[], ylabel='Density')\n",
    "plt.savefig('_output/hollow')"
   ]
  },
  {
   "cell_type": "code",
   "execution_count": null,
   "id": "e013f176-1855-4a4b-ac84-de80f84e7d08",
   "metadata": {},
   "outputs": [],
   "source": [
    "fig, ax = pplt.subplots(\n",
    "    figsize=(4.0, 3.0)\n",
    ")\n",
    "ax.plot(profiles.T, cycle=cmap)\n",
    "ax.colorbar(mappable)\n",
    "ax.format(xlim=(100, ax.get_xlim()[1]), yticks=[], xlabel=r'~$\\Delta$E', xticks=[], ylabel='Density')\n",
    "plt.savefig('_output/overlay')\n",
    "plt.show()"
   ]
  },
  {
   "cell_type": "code",
   "execution_count": null,
   "id": "f00157ad-8712-47d3-bdbd-c48c9dccdc79",
   "metadata": {},
   "outputs": [],
   "source": [
    "fig, ax = pplt.subplots(figsize=(5.0, 2.0))\n",
    "ax.pcolormesh(\n",
    "    np.arange(profiles.shape[1]),\n",
    "    currents, \n",
    "    profiles, \n",
    "    cmap='mono_r', colorbar=True, colorbar_kw=dict(ticks=[]),\n",
    ")\n",
    "ax.format(ylabel='Current [mA]', xlabel=r'~$\\Delta$E')\n",
    "plt.savefig('waterfall_heatmap')\n",
    "plt.show()"
   ]
  },
  {
   "cell_type": "code",
   "execution_count": null,
   "id": "1783639b-b516-4e4a-88a0-ac721e36ed56",
   "metadata": {},
   "outputs": [],
   "source": [
    "fig, axes = pplt.subplots(nrows=4, ncols=5, figwidth=7.0, space=0.5)\n",
    "for ax in axes[-2:]:\n",
    "    ax.axis('off')\n",
    "for image, ax, current in zip(images[1:], axes, currents):\n",
    "    ax.imshow(image, cmap='mono_r')\n",
    "    ax.annotate(f'I = {current:.2f}', xy=(0.01, 0.01), xycoords='axes fraction',\n",
    "                color='white', fontsize='small',\n",
    "                verticalalignment='bottom', horizontalalignment='left')\n",
    "axes.format(xticks=[], yticks=[])\n",
    "plt.savefig('_output/images')\n",
    "plt.show()"
   ]
  },
  {
   "cell_type": "code",
   "execution_count": null,
   "id": "3683a541-0e3a-4bbe-95c6-59d926994443",
   "metadata": {},
   "outputs": [],
   "source": [
    "# import gif\n",
    "# gif.options.matplotlib[\"dpi\"] = 200\n",
    "\n",
    "# @gif.frame\n",
    "# def plot(i):\n",
    "#     fig, ax = plt.subplots(figsize=(3.0, 3.0))\n",
    "#     ax.imshow(images[i], cmap=pplt.Colormap('mono_r', left=0.04))\n",
    "#     ax.annotate(f'I = {currents[i]:.2f} [mA]', xy=(0.01, 0.01), xycoords='axes fraction',\n",
    "#                 color='white', fontsize='small',\n",
    "#                 verticalalignment='bottom', horizontalalignment='left')\n",
    "#     ax.set_xticks([])\n",
    "#     ax.set_yticks([])\n",
    "#     plt.savefig(f'_output/folder/image{i}.png')\n",
    "\n",
    "# frames = [plot(i) for i in range(len(images))]\n",
    "# gif.save(frames, '_output/images.gif', duration=0.25, unit=\"s\", between=\"frames\")"
   ]
  }
 ],
 "metadata": {
  "kernelspec": {
   "display_name": "Python 3",
   "language": "python",
   "name": "python3"
  },
  "language_info": {
   "codemirror_mode": {
    "name": "ipython",
    "version": 3
   },
   "file_extension": ".py",
   "mimetype": "text/x-python",
   "name": "python",
   "nbconvert_exporter": "python",
   "pygments_lexer": "ipython3",
   "version": "3.7.6"
  }
 },
 "nbformat": 4,
 "nbformat_minor": 5
}
