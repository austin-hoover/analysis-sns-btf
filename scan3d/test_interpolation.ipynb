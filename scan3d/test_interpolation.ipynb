{
 "cells": [
  {
   "cell_type": "markdown",
   "id": "fc2001b3-f0cc-420d-a505-24a734d5750f",
   "metadata": {},
   "source": [
    "# Interpolation of semi-structured data in five dimensions"
   ]
  },
  {
   "cell_type": "markdown",
   "id": "68a6ba50-5201-48c9-a7b3-9a716bd378e3",
   "metadata": {},
   "source": [
    "According to [this paper], the time complexity of Delauny triangulation is O(...). This is explains why the interpolation cannot work in our case, where we have well over one billion points in five-dimensional space. "
   ]
  },
  {
   "cell_type": "markdown",
   "id": "3113b288-cec9-4d03-be08-690416c268f6",
   "metadata": {},
   "source": [
    "Suppose we have data on an irregular grid in x-y-z space. The grid in x-y is a sheared rectangle; the grid in z is irregularly spaced; we want to linearly interpolate the data onto a regular x-y-z grid. The first option is to run 3D interpolation. The second option is to break the problem into two steps: first interpolate w for each (x, y), then interpolate x-y for each new w. This notebook compares the two approaches."
   ]
  },
  {
   "cell_type": "code",
   "execution_count": null,
   "id": "8f1fbb75-86eb-4e5e-ba57-effc3e370d81",
   "metadata": {},
   "outputs": [],
   "source": [
    "import sys\n",
    "import time\n",
    "import numpy as np\n",
    "from scipy import interpolate\n",
    "from scipy import ndimage\n",
    "from matplotlib import pyplot as plt\n",
    "from matplotlib import animation\n",
    "import proplot as pplt\n",
    "from tqdm import tqdm, trange\n",
    "\n",
    "sys.path.append('../')\n",
    "from tools import utils\n",
    "from tools import plotting as mplt\n",
    "\n",
    "pplt.rc['grid'] = False\n",
    "pplt.rc['cmap.discrete'] = False\n",
    "pplt.rc['cmap.sequential'] = 'viridis'\n",
    "pplt.rc['savefig.dpi'] = 'figure'\n",
    "pplt.rc['animation.html'] = 'jshtml'"
   ]
  },
  {
   "cell_type": "markdown",
   "id": "09ed150b-710e-4877-96a7-805d4da7a3d3",
   "metadata": {},
   "source": [
    "Define an irregular grid."
   ]
  },
  {
   "cell_type": "code",
   "execution_count": null,
   "id": "a6731d72-7b90-40e8-96f6-c4a82b4b81f2",
   "metadata": {},
   "outputs": [],
   "source": [
    "dims = ['x', 'y', 'z']\n",
    "shape = (32, 32, 32)\n",
    "xn = np.linspace(-5.0, 5.0, shape[0])\n",
    "yn = np.linspace(-5.0, 5.0, shape[1])\n",
    "zn = np.linspace(-5.0, 5.0, shape[2])\n",
    "Xn, Yn, Zn = np.meshgrid(xn, yn, zn, indexing='ij')\n",
    "\n",
    "# Mess up grid spacing along z axis.\n",
    "noise = 0.1\n",
    "z = np.sort(zn * np.random.uniform(1.0 - noise, 1.0 + noise, shape[2]))\n",
    "Z = np.zeros(shape)\n",
    "for i in range(shape[0]):\n",
    "    for j in range(shape[1]):\n",
    "        Z[i, j, :] = z\n",
    "\n",
    "# Apply shearing to x-y grid.\n",
    "X = Xn + 0.5 * Yn\n",
    "Y = Yn\n",
    "coords = [X, Y, Z]"
   ]
  },
  {
   "cell_type": "code",
   "execution_count": null,
   "id": "de472b29-09a8-4445-b13c-0243f118b4e1",
   "metadata": {},
   "outputs": [],
   "source": [
    "fig, axes = pplt.subplots(nrows=3, ncols=3, figwidth=5, spanx=False, spany=False)\n",
    "for i in range(3):\n",
    "    for j in range(3):\n",
    "        axes[i, j].scatter(coords[j].ravel(), coords[i].ravel(), s=0.1, color='black')\n",
    "    axes[i, 0].format(ylabel=dims[i])\n",
    "    axes[-1, i].format(xlabel=dims[i])\n",
    "axes.format(suptitle='2D views of the grid', suptitle_kw=dict(fontweight='normal'))\n",
    "plt.show()"
   ]
  },
  {
   "cell_type": "markdown",
   "id": "da095b62-8a3d-446d-aceb-a1af83b69c55",
   "metadata": {},
   "source": [
    "Define a function on the grid."
   ]
  },
  {
   "cell_type": "code",
   "execution_count": null,
   "id": "30e7b7f1-0598-4586-b242-81d998fe0887",
   "metadata": {},
   "outputs": [],
   "source": [
    "def fun(X, Y, Z):\n",
    "    R = np.sqrt(X**2 + Y**2)\n",
    "    osc = np.sin(np.pi * 0.1 * (X**2 + Y**2) + Z**2)**2\n",
    "    return osc * np.exp(-0.5 * (R**2 + X*Z - 0.75*Y*Z))\n",
    "\n",
    "C = fun(X, Y, Z)"
   ]
  },
  {
   "cell_type": "markdown",
   "id": "ab6d339e-0b6b-4043-b554-9ef0bee1a9ea",
   "metadata": {},
   "source": [
    "Here are some of the x-y slices as z is varied. Note that the images are "
   ]
  },
  {
   "cell_type": "code",
   "execution_count": null,
   "id": "ba24e195-72d4-40ae-9509-b51c1dab126a",
   "metadata": {},
   "outputs": [],
   "source": [
    "fig, ax = pplt.subplots()\n",
    "ax.format(xlabel='x', ylabel='y', xticks=[], yticks=[])\n",
    "plt.close()\n",
    "\n",
    "cbar = None\n",
    "C_max = np.max(C)\n",
    "vmax = None\n",
    "\n",
    "def update(k):\n",
    "    ax.clear()\n",
    "    idx = (slice(None), slice(None), k)\n",
    "    ax.pcolormesh(X[idx].T, Y[idx].T, C[idx].T / C_max, vmax=vmax, ec='None')\n",
    "    ax.set_title(f'z = {Z[0, 0, k]:.2f}', fontsize='medium')\n",
    "    \n",
    "anim = animation.FuncAnimation(fig, update, frames=shape[2])\n",
    "anim.save('slices.gif', dpi=300)"
   ]
  },
  {
   "cell_type": "code",
   "execution_count": null,
   "id": "99c9997d-ed81-413d-9b58-79f96ed9a9ec",
   "metadata": {},
   "outputs": [],
   "source": [
    "fig, axes = pplt.subplots(ncols=5, nrows=2, figwidth=7.0)\n",
    "for ax, k in zip(axes, range(0, shape[2], 3)):\n",
    "    idx = (slice(None), slice(None), k)\n",
    "    ax.pcolormesh(X[idx].T, Y[idx].T, C[idx].T)\n",
    "    ax.format(xlabel='x', ylabel='y')\n",
    "    ax.set_title(f'z = {Z[0, 0, k]:.2f}', fontsize='medium')\n",
    "axes.format(xticks=[], yticks=[])"
   ]
  },
  {
   "cell_type": "markdown",
   "id": "af22694b-68d6-4538-a181-0444f942d23a",
   "metadata": {},
   "source": [
    "## 3D interpolation."
   ]
  },
  {
   "cell_type": "markdown",
   "id": "0c8d50d3-7850-4874-bff6-bd8fec6bbae7",
   "metadata": {},
   "source": [
    "Define the interpolation grid."
   ]
  },
  {
   "cell_type": "code",
   "execution_count": null,
   "id": "a712780c-79ca-4996-a081-c1b1a7278499",
   "metadata": {},
   "outputs": [],
   "source": [
    "new_shape = tuple(np.multiply(shape, [1.5, 1.0, 1.0]).astype(int))\n",
    "x_new = np.linspace(X.min(), X.max(), new_shape[0])\n",
    "y_new = np.linspace(Y.min(), Y.max(), new_shape[1])\n",
    "z_new = np.linspace(Z.min(), Z.max(), new_shape[2])\n",
    "new_coords = np.meshgrid(x_new, y_new, z_new, indexing='ij')\n",
    "X_new, Y_new, Z_new = new_coords"
   ]
  },
  {
   "cell_type": "markdown",
   "id": "07cf979a-0c7c-4388-8e4c-b6562c98df15",
   "metadata": {},
   "source": [
    "Let's first test 2D interpolation on a 2D slice of the 3D function. The new grid is overlayed on the tilted grid on the left. Notice that because the measurement grid is tilted, we need to increase the resolution in interpolation grid along the x axis."
   ]
  },
  {
   "cell_type": "code",
   "execution_count": null,
   "id": "443f453a-cfa0-4169-aed1-1e3ebc5010ac",
   "metadata": {},
   "outputs": [],
   "source": [
    "idx = (slice(None), slice(None), shape[2] // 2)\n",
    "points = (X[idx].ravel(), Y[idx].ravel())\n",
    "values = C[idx].ravel()\n",
    "new_points = (X_new[idx].ravel(), Y_new[idx].ravel())\n",
    "grid_kws = dict(method='linear', fill_value=0.0)\n",
    "new_values = interpolate.griddata(points, values, new_points, **grid_kws)\n",
    "\n",
    "fig, axes = pplt.subplots(ncols=2)\n",
    "axes[0].pcolormesh(X[idx].T, Y[idx].T, C[idx].T)\n",
    "axes[1].pcolormesh(X_new[idx].T, Y_new[idx].T, \n",
    "                   new_values.reshape(new_shape[0], new_shape[1]).T)\n",
    "axes[0].scatter(X_new.T, Y_new.T, color='red', ec='None', s=0.1)\n",
    "axes.format(xlabel='x', ylabel='y', toplabels=['Initial', 'Interpolated'])\n",
    "plt.show()"
   ]
  },
  {
   "cell_type": "markdown",
   "id": "579363dc-ed4d-4610-80f5-55a2d7e49f17",
   "metadata": {},
   "source": [
    "Now that the interpolation grid is configured, run the 3D interpolation. "
   ]
  },
  {
   "cell_type": "code",
   "execution_count": null,
   "id": "ec83546d-fb6f-42be-a550-4375088c8fc2",
   "metadata": {},
   "outputs": [],
   "source": [
    "grid_kws = dict(method='linear', fill_value=0.0)\n",
    "\n",
    "start_time = time.time()\n",
    "points = tuple([U.ravel() for U in coords])\n",
    "values = C.ravel()\n",
    "new_points = tuple([U.ravel() for U in new_coords])\n",
    "new_values = interpolate.griddata(points, values, new_points, **grid_kws)\n",
    "C_new_3d = new_values.reshape(new_shape)\n",
    "print(f'{(time.time() - start_time):2f} sec')"
   ]
  },
  {
   "cell_type": "markdown",
   "id": "ac9093e3-5f3e-4bd9-9cba-7ae96dcc33fb",
   "metadata": {},
   "source": [
    "## Alternative method "
   ]
  },
  {
   "cell_type": "markdown",
   "id": "9c7e14d9-5cbb-433f-9890-f9b7d0ba3099",
   "metadata": {},
   "source": [
    "We don't need to perform the full 3D interpolation; we can take advantage of the original grid structure. First, interpolate over z for each (x, y). Since we will need to resize the array, we will use `_C` as a placeholder."
   ]
  },
  {
   "cell_type": "code",
   "execution_count": null,
   "id": "d6d18c5e-6574-429d-b01a-f75d521b00c8",
   "metadata": {},
   "outputs": [],
   "source": [
    "_C = np.copy(C)"
   ]
  },
  {
   "cell_type": "code",
   "execution_count": null,
   "id": "b18eb659-8847-488e-a4bc-f51b68a7aee5",
   "metadata": {},
   "outputs": [],
   "source": [
    "C_new = np.zeros((shape[0], shape[1], new_shape[2]))"
   ]
  },
  {
   "cell_type": "code",
   "execution_count": null,
   "id": "5536e9db-7865-4919-aef1-36b80362e347",
   "metadata": {},
   "outputs": [],
   "source": [
    "start_time = time.time()\n",
    "new_points = z_new\n",
    "for i in range(shape[0]):\n",
    "    for j in range(shape[1]):\n",
    "        points = Z[i, j, :]\n",
    "        values = _C[i, j, :]\n",
    "        C_new[i, j, :] = interpolate.griddata(points, values, new_points, **grid_kws)\n",
    "_C = np.copy(C_new)\n",
    "print(f'{(time.time() - start_time):2f} sec')"
   ]
  },
  {
   "cell_type": "markdown",
   "id": "3dca5c67-1fa0-4a02-9e3d-90fbece71f61",
   "metadata": {},
   "source": [
    "We can view the results for different x and y pixels."
   ]
  },
  {
   "cell_type": "code",
   "execution_count": null,
   "id": "56d5767a-6a40-4ef0-afc2-f3de653b359b",
   "metadata": {},
   "outputs": [],
   "source": [
    "i = shape[0] // 2\n",
    "fig, axes = pplt.subplots(nrows=2, ncols=4, figwidth=6)\n",
    "for ax, j in zip(axes, range(shape[1] // 4, 3 * shape[1] // 4, 1)):\n",
    "    idx = (i, j, slice(None))\n",
    "    ax.plot(Z[i, j, :], C[i, j, :], marker='.', ms=3, lw=0, color='black', label='data')\n",
    "    ax.plot(z_new, C_new[i, j, :], color='blue7', alpha=0.3, label='int')\n",
    "    ax.plot(z_new, C_new_3d[i, j, :], color='pink7', alpha=0.3, label='int3d')\n",
    "    ax.annotate(f'i,j = ({i},{j})', xy=(0.02, 0.98), xycoords='axes fraction',\n",
    "                fontsize='small', verticalalignment='top')\n",
    "axes[0, -1].legend(loc='t', ncols=1, framealpha=0)\n",
    "axes.format(xlabel='z')\n",
    "plt.show()"
   ]
  },
  {
   "cell_type": "markdown",
   "id": "01cd3a81-8f7c-4d2c-88c2-a12ab7707840",
   "metadata": {},
   "source": [
    "I don't know why the 3D method is so bad?"
   ]
  },
  {
   "cell_type": "markdown",
   "id": "78514c1b-bd27-48fd-b0d2-1753155593c2",
   "metadata": {},
   "source": [
    "We now need to make new coordinate arrays."
   ]
  },
  {
   "cell_type": "code",
   "execution_count": null,
   "id": "2fed4239-fdc4-4351-b0e1-11232379b2d2",
   "metadata": {},
   "outputs": [],
   "source": [
    "X = utils.copy_into_new_dim(X[:, :, 0], new_shape[2], axis=-1)\n",
    "Y = utils.copy_into_new_dim(Y[:, :, 0], new_shape[2], axis=-1)\n",
    "Z = utils.copy_into_new_dim(z_new, (shape[0], shape[1]), axis=0)"
   ]
  },
  {
   "cell_type": "code",
   "execution_count": null,
   "id": "53f5895a-da8a-457d-ab53-bf3f28b35e3b",
   "metadata": {},
   "outputs": [],
   "source": [
    "print(X.shape, Y.shape, Z.shape)"
   ]
  },
  {
   "cell_type": "markdown",
   "id": "1aeec8d0-9fd4-454b-bc74-1066e1b0f0ef",
   "metadata": {},
   "source": [
    "Now interpolate x-y for each z."
   ]
  },
  {
   "cell_type": "code",
   "execution_count": null,
   "id": "7b5dab5a-5073-403d-abde-339871caa3bd",
   "metadata": {},
   "outputs": [],
   "source": [
    "start_time = time.time()\n",
    "C_new = np.zeros(new_shape)\n",
    "new_points = tuple([U.ravel() for U in np.meshgrid(x_new, y_new, indexing='ij')])\n",
    "for k in range(new_shape[2]):\n",
    "    points = (X[:, :, k].ravel(), Y[:, :, k].ravel())\n",
    "    values = _C[:, :, k].ravel()\n",
    "    new_values = interpolate.griddata(points, values, new_points, **grid_kws)\n",
    "    C_new[:, :, k] = new_values.reshape(new_shape[0], new_shape[1])\n",
    "print(f'{(time.time() - start_time):2f} sec')"
   ]
  },
  {
   "cell_type": "markdown",
   "id": "bb8c22d7-42e8-457c-9eda-d9075be286c5",
   "metadata": {},
   "source": [
    "Below is a plot of some x-y slices."
   ]
  },
  {
   "cell_type": "code",
   "execution_count": null,
   "id": "f0d04061-850e-4d67-99d1-12f523f8d818",
   "metadata": {},
   "outputs": [],
   "source": [
    "kk = np.arange(0, new_shape[2], 4)\n",
    "\n",
    "fig, axes = pplt.subplots(ncols=6, nrows=3, figwidth=7.0, space=0.5)\n",
    "for row, array in enumerate([C, C_new, C_new_3d]):\n",
    "    for ax, k in zip(axes[row, :], kk):\n",
    "        idx = (slice(None), slice(None), k)\n",
    "        if row == 0:\n",
    "            x, y = X[idx].T, Y[idx].T\n",
    "        else:\n",
    "            x, y = x_new, y_new\n",
    "        ax.pcolormesh(x, y, array[idx].T)\n",
    "        if row == 0:\n",
    "            ax.set_title(f'z = {z_new[k]:.2f}', fontsize='medium')\n",
    "axes.format(xticks=[], yticks=[], xlabel='x', ylabel='y',\n",
    "            rowlabels=['C_meas', 'C_new', 'C_new_3d'])"
   ]
  }
 ],
 "metadata": {
  "kernelspec": {
   "display_name": "Python 3 (ipykernel)",
   "language": "python",
   "name": "python3"
  },
  "language_info": {
   "codemirror_mode": {
    "name": "ipython",
    "version": 3
   },
   "file_extension": ".py",
   "mimetype": "text/x-python",
   "name": "python",
   "nbconvert_exporter": "python",
   "pygments_lexer": "ipython3",
   "version": "3.9.7"
  }
 },
 "nbformat": 4,
 "nbformat_minor": 5
}
