{
 "cells": [
  {
   "cell_type": "markdown",
   "id": "d57c07ab-d192-4b0c-8548-8d4b1f8bf7f4",
   "metadata": {},
   "source": [
    "# Figures: *Analysis of the five-dimensional phase space distribution of an ion beam using direct, efficient, high-resolution measurements*"
   ]
  },
  {
   "cell_type": "code",
   "execution_count": null,
   "id": "bde7f506-2600-46d2-b1cc-86b60b566413",
   "metadata": {},
   "outputs": [],
   "source": [
    "import sys\n",
    "import os\n",
    "import itertools\n",
    "import importlib\n",
    "\n",
    "import h5py\n",
    "import numpy as np\n",
    "from tqdm.notebook import tqdm\n",
    "from tqdm.notebook import trange\n",
    "from plotly import graph_objects as go\n",
    "from matplotlib import pyplot as plt\n",
    "from ipywidgets import interactive\n",
    "from ipywidgets import widgets\n",
    "import proplot as pplt\n",
    "\n",
    "sys.path.append('/home/46h/psdist/')\n",
    "from psdist import dist as bd\n",
    "from psdist import image as bi\n",
    "from psdist import plotting as mplt\n",
    "from psdist import utils\n",
    "\n",
    "sys.path.append('/home/46h/btf-data-analysis/')\n",
    "from tools import analysis as ba"
   ]
  },
  {
   "cell_type": "markdown",
   "id": "53fc6ecc-e07b-4ba8-b468-e85619430e38",
   "metadata": {},
   "source": [
    "## Settings "
   ]
  },
  {
   "cell_type": "code",
   "execution_count": null,
   "id": "27b21d49-8ae0-4e4e-9d31-18f30b35f6d3",
   "metadata": {},
   "outputs": [],
   "source": [
    "pplt.rc['grid'] = False\n",
    "pplt.rc['cmap.discrete'] = False\n",
    "pplt.rc['cmap.sequential'] = 'viridis'\n",
    "pplt.rc['figure.facecolor'] = 'white'\n",
    "pplt.rc['font.family'] = 'serif'\n",
    "pplt.rc['font.serif'] = 'Times New Roman'\n",
    "\n",
    "def save(figname, **kws):\n",
    "    ext = 'pdf'\n",
    "    figpath = './figures'\n",
    "    plt.savefig(os.path.join(figpath, figname + '.' + ext), **kws)"
   ]
  },
  {
   "cell_type": "markdown",
   "id": "e9d46027-149d-445c-8419-82b0f656e35e",
   "metadata": {},
   "source": [
    "## Load data "
   ]
  },
  {
   "cell_type": "code",
   "execution_count": null,
   "id": "771b6980-e1cb-4aaa-b674-9dd5b457f711",
   "metadata": {},
   "outputs": [],
   "source": [
    "# folder = '/home/46h/btf-data-analysis/scan3d/scan-xxpy-image-ypdE/_saved/2021-12-03-VS06'\n",
    "# folder = '/home/46h/btf-data-analysis/scan3d/scan-xxpy-image-ypdE/_saved/2022-07-15-VS06'\n",
    "folder = '/home/46h/btf-data-analysis/scan3d/scan-xxpy-image-ypdE/_saved/2022-06-26-VS06'"
   ]
  },
  {
   "cell_type": "markdown",
   "id": "c4092ee0-24dd-4146-8189-d92aad501c6a",
   "metadata": {},
   "source": [
    "Load the phase space density array `f` and grid coordinates `coords`."
   ]
  },
  {
   "cell_type": "code",
   "execution_count": null,
   "id": "aa667a98-9d95-4163-9f51-45d1360cd93f",
   "metadata": {},
   "outputs": [],
   "source": [
    "info = utils.load_pickle(os.path.join(folder, 'info.pkl'))\n",
    "filename = info['filename']\n",
    "coords = utils.load_stacked_arrays(os.path.join(folder, f'coords_{filename}.npz'))\n",
    "shape = tuple([len(c) for c in coords])\n",
    "f = np.memmap(os.path.join(folder, f'f_{filename}.mmp'), shape=shape, dtype='float', mode='r')\n",
    "\n",
    "print('f.shape:', shape)"
   ]
  },
  {
   "cell_type": "markdown",
   "id": "777f66a7-7e9d-492a-b3cd-cd2e31ee158f",
   "metadata": {},
   "source": [
    "Give units to the coordinates. Default is mm, mrad, MeV."
   ]
  },
  {
   "cell_type": "code",
   "execution_count": null,
   "id": "1e795cfc-1861-4819-8217-169d1dbe2d82",
   "metadata": {},
   "outputs": [],
   "source": [
    "coords[4] *= 1000.0\n",
    "\n",
    "dims = [\"x\", \"x'\", \"y\", \"y'\", \"w\"]\n",
    "units = [\"mm\", \"mrad\", \"mm\", \"mrad\", \"keV\"]\n",
    "dims_units = [f'{d} [{u}]' for d, u in zip(dims, units)]"
   ]
  },
  {
   "cell_type": "markdown",
   "id": "6bbda023-3a46-4974-9239-a92d18ea431f",
   "metadata": {},
   "source": [
    "Center the coordinates on the centroid calculated from the profiles."
   ]
  },
  {
   "cell_type": "code",
   "execution_count": null,
   "id": "af35674e-494c-426a-aa52-7675c7a4daaf",
   "metadata": {},
   "outputs": [],
   "source": [
    "profs = []\n",
    "for i in range(5):\n",
    "    prof = bi.project(f, axis=i)\n",
    "    prof = prof / np.sum(prof)\n",
    "    coords[i] = coords[i] - np.average(coords[i], weights=prof)\n",
    "    profs.append(prof)"
   ]
  },
  {
   "cell_type": "markdown",
   "id": "d33c6afe-80a7-455f-9bf0-d633c948c5d0",
   "metadata": {},
   "source": [
    "Crop the array."
   ]
  },
  {
   "cell_type": "code",
   "execution_count": null,
   "id": "27af812b-7005-4571-b9dc-f5bc65662f08",
   "metadata": {},
   "outputs": [],
   "source": [
    "crop = (\n",
    "    (0, f.shape[0]),\n",
    "    (10, f.shape[1] - 10),\n",
    "    (0, f.shape[2]),\n",
    "    (17, f.shape[3] - 14),\n",
    "    (10, f.shape[4] - 15),\n",
    ")\n",
    "\n",
    "fig, axes = pplt.subplots(ncols=5, figwidth=7, spanx=False, figheight=None)\n",
    "for i, ax in enumerate(axes):\n",
    "    ax.plot(profs[i], color='black')\n",
    "    ax.axvspan(crop[i][0], crop[i][1] - 1, color='black', alpha=0.1)\n",
    "    ax.format(xlabel=dims[i] + ' [pixel]')\n",
    "# axes.format(yscale='log')\n",
    "plt.show()"
   ]
  },
  {
   "cell_type": "code",
   "execution_count": null,
   "id": "cbfc3665-d730-4539-b11b-9854b01e5768",
   "metadata": {},
   "outputs": [],
   "source": [
    "ind = tuple([slice(c[0], c[1]) for c in crop])\n",
    "f = f[ind]\n",
    "coords = [c[ind[i]] for i, c in enumerate(coords)]"
   ]
  },
  {
   "cell_type": "markdown",
   "id": "37c32305-fbfa-48f8-b182-8347cd27a1cb",
   "metadata": {},
   "source": [
    "Normalize `f` to the range [0, 1]."
   ]
  },
  {
   "cell_type": "code",
   "execution_count": null,
   "id": "fddf7705-b2e7-4180-a0bb-5ac824466282",
   "metadata": {},
   "outputs": [],
   "source": [
    "f_min = np.min(f)\n",
    "if f_min < 0.0:\n",
    "    print(f'min(f) = {f_min}')\n",
    "    print('Clipping to zero.')\n",
    "    f = np.clip(f, 0.0, None)\n",
    "f = f / np.max(f)\n",
    "\n",
    "print(f'f_min = {np.min(f)}')\n",
    "print(f'f_max = {np.max(f)}')"
   ]
  },
  {
   "cell_type": "markdown",
   "id": "faee59ec-51a3-4b07-8491-bfc39a29effb",
   "metadata": {},
   "source": [
    "Apply a threshold to `f`."
   ]
  },
  {
   "cell_type": "code",
   "execution_count": null,
   "id": "340721a4-1357-486d-8b39-8a5ce227d699",
   "metadata": {},
   "outputs": [],
   "source": [
    "f[f < 10.0**-3.5] = 0"
   ]
  },
  {
   "cell_type": "markdown",
   "id": "09ef47ab-5440-442b-b14e-76cbc1d9d56f",
   "metadata": {},
   "source": [
    "## Rectangular slices"
   ]
  },
  {
   "cell_type": "markdown",
   "id": "6392c873-8a09-4522-9ae1-2282adc46571",
   "metadata": {},
   "source": [
    "### 1D projections "
   ]
  },
  {
   "cell_type": "markdown",
   "id": "d5f2b9ed-3b89-43c1-a61b-80a54f0c5b27",
   "metadata": {},
   "source": [
    "`slice_type` can be 'int', in which case only one index is selected along the axis, or 'range', in which case a range of indices are selected."
   ]
  },
  {
   "cell_type": "code",
   "execution_count": null,
   "id": "a5766e00-a16f-4a37-929e-ab8cbf67be47",
   "metadata": {},
   "outputs": [],
   "source": [
    "mplt.interactive_proj1d(\n",
    "    f, coords=coords, dims=dims, units=units, default_ind=4,\n",
    "    kind='line',  # {'line', 'step', 'bar'}\n",
    "    slice_type='int',  # {'int', 'range'}\n",
    ")"
   ]
  },
  {
   "cell_type": "markdown",
   "id": "6aee9c2c-4860-42d9-ada3-fd5c9c575200",
   "metadata": {},
   "source": [
    "Zoom in on the center of transverse phase space."
   ]
  },
  {
   "cell_type": "code",
   "execution_count": null,
   "id": "d8b347a2-cfd8-40dd-a317-0e220afc95ab",
   "metadata": {},
   "outputs": [],
   "source": [
    "pplt.rc['font.family'] = 'sans-serif'\n",
    "pplt.rc['font.sans-serif'] = 'DejaVu Sans'\n",
    "pplt.rc['mathtext.fontset'] = 'dejavusans'"
   ]
  },
  {
   "cell_type": "code",
   "execution_count": null,
   "id": "96c8532c-2e43-4a7f-a281-7b999bc3082f",
   "metadata": {},
   "outputs": [],
   "source": [
    "ind_center = [np.argmin(np.abs(c)) for c in coords]\n",
    "\n",
    "fig, axes = pplt.subplots(ncols=4, figwidth=4.5, figheight=1.1)\n",
    "axes.format(xlabel=\"Energy [keV]\", yticklabels=[], xlim=(-65.0, 65.0))\n",
    "order = [0, 2, 1, 3]\n",
    "for i, ax in enumerate(axes):\n",
    "    idx = bi.make_slice(4, order[:i+1], [ind_center[k] for k in order[:i+1]])\n",
    "    frac = np.sum(f[idx]) / np.sum(f)\n",
    "    print(f'frac_volume = {(f[idx].size / f.size)}')\n",
    "    pw = bi.project(f[idx], 3 - i)\n",
    "    pw = pw / np.sum(pw)\n",
    "    ax.bar(coords[4], pw, color='black', width=1.0)\n",
    "    title = \"\"\n",
    "    for j in order[:i+1]:\n",
    "        title += r\"${} \\approx$\".format(dims[j])\n",
    "    title += \"0\"\n",
    "    # title += f\"\\n({(100.0 * frac):.3f}%)\"\n",
    "    ax.format(title=title, title_kw=dict(fontsize='medium'))\n",
    "axes.format(ylim=(0.0, axes[0].get_ylim()[1]), xspineloc='bottom', yspineloc='neither')\n",
    "save('energy_transverse_slice')"
   ]
  },
  {
   "cell_type": "markdown",
   "id": "0cff55d1-81e7-4da6-bf9c-efbb2b50b8f6",
   "metadata": {},
   "source": [
    "### 2D projections "
   ]
  },
  {
   "cell_type": "code",
   "execution_count": null,
   "id": "7533e693-e4cb-4c9a-bb0b-b1c9e98bf6c2",
   "metadata": {},
   "outputs": [],
   "source": [
    "prof_kws = dict(lw=0.5, alpha=0.7, color='white', scale=0.12)  # for 1D profiles\n",
    "\n",
    "mplt.interactive_proj2d(\n",
    "    f, coords=coords, dims=dims, units=units, prof_kws=prof_kws, \n",
    "    slice_type='int',  # {'int', 'range'}\n",
    "    cmap='mono',\n",
    ")"
   ]
  },
  {
   "cell_type": "markdown",
   "id": "14720060-60cf-4070-9252-65e7f7d4e6af",
   "metadata": {},
   "source": [
    "### Crazy plot"
   ]
  },
  {
   "cell_type": "code",
   "execution_count": null,
   "id": "b032c071-5540-420c-8804-20389cc145fa",
   "metadata": {},
   "outputs": [],
   "source": [
    "axis_proj = (0, 2, 3, 4)\n",
    "_f = bi.project(f, axis=axis_proj)  \n",
    "_f = _f / np.max(_f)"
   ]
  },
  {
   "cell_type": "code",
   "execution_count": null,
   "id": "11af3d15-2950-47b1-9930-267b4b1c82fc",
   "metadata": {},
   "outputs": [],
   "source": [
    "# Now work in 4D space x-y-y'-w\n",
    "axis_view = (0, 1)\n",
    "axis_slice = (2, 3)\n",
    "nrows = ncols = 9\n",
    "\n",
    "ind_slice = []\n",
    "for i, n in zip(axis_slice, [nrows, ncols]):\n",
    "    pad = int(0.2 * _f.shape[i])\n",
    "    ii = np.linspace(pad, _f.shape[i] - 1 - pad, nrows)\n",
    "    ii = ii.astype(int)\n",
    "    ii = list(ii)\n",
    "    ind_slice.append(ii)"
   ]
  },
  {
   "cell_type": "code",
   "execution_count": null,
   "id": "5e1fc6ee-3417-4ac7-9d8e-0a423d33e182",
   "metadata": {},
   "outputs": [],
   "source": [
    "idx = 4 * [slice(None)]\n",
    "for axis, ind in zip(axis_slice, ind_slice):\n",
    "    idx[axis] = ind\n",
    "    _f = _f[tuple(idx)]\n",
    "    idx[axis] = slice(None)\n",
    "_f = _f / np.max(_f)\n",
    "\n",
    "_fx = bi.project(f, axis=(0, 2, 3))[:, :, ind_slice[0]]\n",
    "_fy = bi.project(f, axis=(0, 2, 4))[:, :, ind_slice[1]]\n",
    "print(_f.shape, _fx.shape, _fy.shape)"
   ]
  },
  {
   "cell_type": "code",
   "execution_count": null,
   "id": "7b7a4c79-7604-4759-8d69-5387861099b2",
   "metadata": {},
   "outputs": [],
   "source": [
    "_coords = [coords[i] for i in axis_proj]\n",
    "for axis, ind in zip(axis_slice, ind_slice):\n",
    "    _coords[axis] = [_coords[axis][i] for i in ind]\n",
    "_dims = [dims[i] for i in axis_proj]\n",
    "_units = [units[i] for i in axis_proj]\n",
    "_labels = [f'{dim} [{unit}]' for dim, unit in zip(_dims, _units)]\n",
    "print(_dims)\n",
    "print(_units)\n",
    "print(_labels)\n",
    "print([len(c) for c in _coords])"
   ]
  },
  {
   "cell_type": "code",
   "execution_count": null,
   "id": "1b0863d7-050e-476e-adb6-545ec7e88d90",
   "metadata": {},
   "outputs": [],
   "source": [
    "space = 0.35\n",
    "hspace = nrows * [space]\n",
    "wspace = ncols * [space]\n",
    "hspace[-1] = wspace[-1] = 5.0 * space\n",
    "fig, axes = pplt.subplots(\n",
    "    ncols=ncols+1, nrows=nrows+1, figwidth=8.5,\n",
    "    hspace=hspace, wspace=wspace,\n",
    "    share=False,\n",
    "    xticks=[], yticks=[],\n",
    ")\n",
    "plot_kws = dict(\n",
    "    # profx=True, profy=True, prof_kws=dict(lw=0.4, alpha=0.5, kind='step'),\n",
    "    thresh=10.0**-3.5,\n",
    "    thresh_type='frac',\n",
    ")\n",
    "for i in range(nrows):\n",
    "    for j in range(ncols):\n",
    "        ax = axes[i, j]\n",
    "        idx = bi.make_slice(_f.ndim, axis_slice, (i, j))\n",
    "        mplt.plot_image(\n",
    "            _f[idx],\n",
    "            x=_coords[axis_view[0]], \n",
    "            y=_coords[axis_view[1]],\n",
    "            ax=ax,\n",
    "            vmax=None,\n",
    "            **plot_kws\n",
    "        )\n",
    "for i, ax in enumerate(axes[:-1, -1]):\n",
    "    mplt.plot_image(\n",
    "        _fy[:, :, i],\n",
    "        x=_coords[axis_view[0]], \n",
    "        y=_coords[axis_view[1]],\n",
    "        ax=ax,\n",
    "        **plot_kws\n",
    "    )\n",
    "for i, ax in enumerate(axes[-1, :-1]):\n",
    "    mplt.plot_image(\n",
    "        _fx[:, :, i],\n",
    "        x=_coords[axis_view[0]], \n",
    "        y=_coords[axis_view[1]],\n",
    "        ax=ax,\n",
    "        **plot_kws\n",
    "    )\n",
    "mplt.plot_image(\n",
    "    bi.project(f, (0, 2)),\n",
    "    x=_coords[axis_view[0]], \n",
    "    y=_coords[axis_view[1]],\n",
    "    ax=axes[-1, -1],\n",
    "    **plot_kws\n",
    ")\n",
    "axes[-2, 0].format(xlabel=_dims[axis_view[0]], ylabel=_dims[axis_view[1]])\n",
    "save(f'matrix_{nrows}x{ncols}')\n",
    "plt.show()"
   ]
  },
  {
   "cell_type": "code",
   "execution_count": null,
   "id": "0f8eebc8-e760-42cb-bc1b-e7054b91796b",
   "metadata": {},
   "outputs": [],
   "source": []
  },
  {
   "cell_type": "code",
   "execution_count": null,
   "id": "f8a13f28-6489-4725-be35-3c98cc182f31",
   "metadata": {},
   "outputs": [],
   "source": []
  },
  {
   "cell_type": "code",
   "execution_count": null,
   "id": "01e5248b-a5fe-4213-a3db-4b6c3cd5eb51",
   "metadata": {},
   "outputs": [],
   "source": [
    "_cmap = pplt.Colormap('mono', right=0.75)\n",
    "_cmap"
   ]
  },
  {
   "cell_type": "code",
   "execution_count": null,
   "id": "67ee8330-acf0-4db2-9025-1296dfe37018",
   "metadata": {},
   "outputs": [],
   "source": [
    "axis = (0, 2, 4)\n",
    "_f = utils.project(f, axis=axis)\n",
    "_f = _f / np.max(_f)\n",
    "_coords = [coords[i] for i in axis]\n",
    "_dims = [dims[i] for i in axis]\n",
    "_units = [units[i] for i in axis]\n",
    "_dims_units = [dims_units[i] for i in axis]\n",
    "\n",
    "ncols = 5\n",
    "# start_stop = [\n",
    "#     (14, len(_coords[0]) - 1 - 14),\n",
    "#     (19, len(_coords[1]) - 1 - 19),\n",
    "#     (20, len(_coords[2]) - 1 - 20),\n",
    "# ]\n",
    "start_stop = [\n",
    "    (9, len(_coords[0]) - 1 - 9),\n",
    "    (10, len(_coords[1]) - 1 - 10),\n",
    "    (25, len(_coords[2]) - 1 - 25),\n",
    "]\n",
    "\n",
    "for cmap in ['viridis', _cmap]:\n",
    "    for i, ((start, stop), c) in enumerate(zip(start_stop, _coords)):\n",
    "        fig, axes = pplt.subplots(ncols=ncols, nrows=1, figwidth=6.0)\n",
    "        jj = np.linspace(start, stop, ncols).astype(int)\n",
    "        for ax, j in zip(axes, jj):\n",
    "            idx = utils.make_slice(_f.ndim, i, int(j))\n",
    "            axis_view = [k for k in range(_f.ndim) if k != i]\n",
    "            mplt.plot_image(\n",
    "                _f[idx], \n",
    "                x=_coords[axis_view[0]], \n",
    "                y=_coords[axis_view[1]], \n",
    "                ax=ax,\n",
    "                vmin=0.0, vmax=1.0,\n",
    "                linewidth=0, rasterized=True,\n",
    "                cmap=cmap,\n",
    "                # colorbar=ax==axes[-1], \n",
    "                colorbar_kw=dict(\n",
    "                    width=0.1, \n",
    "                    # ticks=[0, 1],\n",
    "                ),\n",
    "                profx=True, profy=True, prof_kws=dict(lw=0.4, alpha=0.5, color='white', scale=0.09),\n",
    "            )\n",
    "            if ax.get_xlim()[1] < ax.get_xlim()[0]:\n",
    "                ax.format(xlim=sorted(ax.get_xlim()))\n",
    "            ax.annotate(r\"${} \\approx {:.0f}$ [{}]\".format(_dims[i], _coords[i][j], _units[i]), \n",
    "                        color='white', \n",
    "                        fontsize='small',\n",
    "                        xy=(0.02, 0.98), verticalalignment='top', xycoords='axes fraction')\n",
    "        axes.format(\n",
    "            xlabel=_dims_units[axis_view[0]], \n",
    "            ylabel=_dims_units[axis_view[1]],\n",
    "        )\n",
    "        plt.savefig(f'_output/{_dims[axis_view[0]]}{_dims[axis_view[1]]}_{_dims[i]}slice_{cmap}')\n",
    "        plt.show()"
   ]
  },
  {
   "cell_type": "code",
   "execution_count": null,
   "id": "b5d8c1ad-9a95-4ebe-b29f-d4d35e8be1b0",
   "metadata": {},
   "outputs": [],
   "source": [
    "for i, (start, stop) in enumerate(start_stop):\n",
    "    print(_dims[i], _coords[i][start], _coords[i][stop])"
   ]
  },
  {
   "cell_type": "markdown",
   "id": "32a87e97-45df-40bf-a49c-7788311023f3",
   "metadata": {},
   "source": [
    "Slice through energy."
   ]
  },
  {
   "cell_type": "code",
   "execution_count": null,
   "id": "9ae5373e-dd5f-4e81-9203-6d1cf60acf08",
   "metadata": {},
   "outputs": [],
   "source": [
    "# Find vmax for each 3D image stack (x1-x2-w).\n",
    "nslice = 6\n",
    "inds = [(0, 1), (2, 3), (0, 2), (0, 3), (2, 1), (1, 3)]\n",
    "ii = np.linspace(19, len(_coords[2]) - 1 - 22, nslice).astype(int)\n",
    "vmaxs = []\n",
    "for (j, k) in tqdm(inds):\n",
    "    _f = utils.project(f[..., ii], axis=(j, k, 4))\n",
    "    vmaxs.append(np.max(_f))"
   ]
  },
  {
   "cell_type": "code",
   "execution_count": null,
   "id": "680a1030-c7da-4188-a333-22705a2cfeb4",
   "metadata": {},
   "outputs": [],
   "source": [
    "# cmap = _cmap\n",
    "cmap = 'viridis'\n",
    "prof = False\n",
    "space = 0.0 if cmap == _cmap else 0.5\n",
    "fig, axes = pplt.subplots(ncols=6, nrows=nslice, figwidth=8.0, share=False, space=space)\n",
    "axes.format(xticks=[], yticks=[])\n",
    "for ax, (j, k) in zip(axes, inds):\n",
    "    ax.format(title=f'{dims[j]}-{dims[k]}')\n",
    "for row, i in enumerate(ii):\n",
    "    axes[row, 0].format(ylabel=r\"$w \\approx {:.0f}$ [keV]\".format(coords[4][i]))\n",
    "    for col, (ax, (j, k)) in enumerate(zip(axes[row, :], inds)):\n",
    "        image = utils.project(f[..., i], (j, k))\n",
    "        mplt.plot_image(\n",
    "            image,\n",
    "            x=coords[j],\n",
    "            y=coords[k],\n",
    "            ax=ax,\n",
    "            vmax=vmaxs[col],\n",
    "            cmap=cmap,\n",
    "            linewidth=0, rasterized=True,\n",
    "            profx=prof, profy=prof, prof_kws=dict(lw=0.4, alpha=0.5, color='white', scale=0.09),\n",
    "        )\n",
    "plt.savefig(f'_output/transverse_wslice_stacked_{cmap}_{prof}')\n",
    "plt.show()"
   ]
  },
  {
   "cell_type": "code",
   "execution_count": null,
   "id": "130ba42f-804b-4fab-9129-bda29f8a8c3d",
   "metadata": {},
   "outputs": [],
   "source": [
    "pwd"
   ]
  },
  {
   "cell_type": "markdown",
   "id": "a5507dd0-d335-4295-97af-8fd9c76f1e04",
   "metadata": {},
   "source": [
    "## Contour slices"
   ]
  },
  {
   "cell_type": "markdown",
   "id": "b3fe5917-7992-4779-b48a-e46bdb46cfda",
   "metadata": {},
   "source": [
    "We can also use contour slices — volumes defined by density contours."
   ]
  },
  {
   "cell_type": "markdown",
   "id": "56e5fae9-f3d5-4d5e-b1ab-cdfecfa0ccfd",
   "metadata": {},
   "source": [
    "### 1D projections"
   ]
  },
  {
   "cell_type": "markdown",
   "id": "bb49bc1e-630a-4805-9471-68c9b8ded72b",
   "metadata": {},
   "source": [
    "Plot the 1D projection of the distribution along any axis. The `4D thresh` slider applies a threshold to the remaining four dimensions before computing the projection. For example, if we are looking at the energy projection, `4D thresh` applies to the transverse phase space x-x'-y-y'. The density in this space is normalized to the range [0, 1], so a threshold of 0 selects all particles, while a threshold of 1 selects only the brightest pixel in x-x'-y-y'. The fraction of the beam selected is printed on the figure (`frac`)."
   ]
  },
  {
   "cell_type": "code",
   "execution_count": null,
   "id": "a4d1ee2c-acd9-4d99-8d7d-a57c77d44d4c",
   "metadata": {},
   "outputs": [],
   "source": [
    "def proj1d_mask(f, thresh=0.1, fpr=None, normalize=True, return_frac=False, axis=0):\n",
    "    axis_proj = [i for i in range(f.ndim) if i != axis]\n",
    "    if fpr is None:\n",
    "        fpr = utils.project(f, axis_proj)\n",
    "    fpr = fpr / np.max(fpr)\n",
    "    idx = np.where(fpr > thresh)\n",
    "    frac = np.sum(fpr[idx]) / np.sum(fpr)\n",
    "    idx = utils.make_slice(f.ndim, axis_proj, idx)    \n",
    "    p = np.sum(f[idx], axis=int(axis == 0))\n",
    "    if normalize:\n",
    "        p = p / np.sum(p)\n",
    "    if return_frac:\n",
    "        return p, frac\n",
    "    return p"
   ]
  },
  {
   "cell_type": "code",
   "execution_count": null,
   "id": "ec1d83c9-7466-4a36-b521-96d93eeda362",
   "metadata": {},
   "outputs": [],
   "source": [
    "def update(thresh, dim):\n",
    "    axis = dims.index(dim)\n",
    "    p, frac = proj1d_mask(f, thresh, normalize=True, return_frac=True, axis=axis)\n",
    "    \n",
    "    fig, ax = pplt.subplots(figsize=(4, 1.5))\n",
    "    ax.format(xlabel=dims_units[axis], title=f'frac = {frac:.2f}')\n",
    "    ax.bar(coords[axis], p, color='black')\n",
    "    plt.show()\n",
    "    \n",
    "    \n",
    "thresh = widgets.FloatSlider(description='4D thresh', min=0.0, max=0.99, value=0.5, step=0.001)\n",
    "interactive(update, thresh=thresh, dim=reversed(dims))"
   ]
  },
  {
   "cell_type": "markdown",
   "id": "59bf9e1d-4856-43f2-9610-da6ecac68f1b",
   "metadata": {},
   "source": [
    "### 2D projections "
   ]
  },
  {
   "cell_type": "markdown",
   "id": "276422b4-a4e4-4538-ad8f-6921b21a6b4c",
   "metadata": {},
   "source": [
    "We can do the same thing with 2D projections, applying a threshold in the remaining three dimensions."
   ]
  },
  {
   "cell_type": "code",
   "execution_count": null,
   "id": "07a51557-1cbb-4809-8ebb-2f9990865490",
   "metadata": {},
   "outputs": [],
   "source": [
    "def proj2d_mask(f, thresh=0.1, fpr=None, normalize=True, return_frac=False, axis=(2, 3)):\n",
    "    # Compute the 3D mask.\n",
    "    axis_proj = [i for i in range(f.ndim) if i not in axis]\n",
    "    if fpr is None:\n",
    "        fpr = utils.project(f, axis_proj)\n",
    "    fpr = fpr / np.max(fpr)\n",
    "    mask = fpr < thresh\n",
    "    frac = np.sum(fpr[~mask]) / np.sum(fpr)\n",
    "\n",
    "    # Copy the 3D mask into the two projected dimensions.\n",
    "    mask = utils.copy_into_new_dim(mask, (f.shape[axis[0]], f.shape[axis[1]]), axis=-1, copy=True)\n",
    "    # Put the dimensions in the correct order.        \n",
    "    isort = np.argsort(list(axis_proj) + list(axis))\n",
    "    mask = np.moveaxis(mask, isort, np.arange(5))\n",
    "    \n",
    "    # Project the masked 5D array onto the specified axis.    \n",
    "    im = utils.project(np.ma.masked_array(f, mask=mask), axis=axis)\n",
    "    if return_frac:\n",
    "        return im, frac\n",
    "    return im"
   ]
  },
  {
   "cell_type": "code",
   "execution_count": null,
   "id": "639e1b98-57ee-4426-a876-19f004a8ec7a",
   "metadata": {
    "jupyter": {
     "source_hidden": true
    },
    "tags": []
   },
   "outputs": [],
   "source": [
    "def update(thresh, dim1, dim2, log=False, **kws):\n",
    "    if dim1 == dim2:\n",
    "        return\n",
    "    axis = [dims.index(dim1), dims.index(dim2)]\n",
    "    im, frac = proj2d_mask(f, thresh, normalize=True, return_frac=True, axis=axis)\n",
    "    \n",
    "    fig, ax = pplt.subplots()\n",
    "    kws['norm'] = 'log' if log else None\n",
    "    kws.setdefault('thresh', 10.0**-3.5)\n",
    "    kws.setdefault('thresh_type', 'frac')\n",
    "    kws.setdefault('colorbar', True)\n",
    "    kws.setdefault('profx', True)\n",
    "    kws.setdefault('profy', True)\n",
    "    ax.format(xlabel=dims_units[axis[0]], ylabel=dims_units[axis[1]], title=f'frac = {frac:.2f}')\n",
    "    mplt.plot_image(im, x=coords[axis[0]], y=coords[axis[1]], ax=ax, prof_kws=prof_kws, **kws)\n",
    "    ax.format(xlim=sorted(ax.get_xlim()))\n",
    "    plt.show()\n",
    "    \n",
    "    \n",
    "thresh = widgets.FloatSlider(description='3D thresh', min=0.0, max=0.99, value=0.5, step=0.001)\n",
    "kws = dict()\n",
    "interactive(update, thresh=thresh, dim1=dims, dim2=reversed(dims), log=False)"
   ]
  },
  {
   "cell_type": "markdown",
   "id": "4562845a-867d-4d4a-9c3d-6c4d4488ef9d",
   "metadata": {},
   "source": [
    "## Radial density"
   ]
  },
  {
   "cell_type": "markdown",
   "id": "5b5db8a6-4f1b-4d96-8d56-17665a634f37",
   "metadata": {},
   "source": [
    "Radial density plots may also convey useful information. We define the radius as $r = \\sqrt{\\mathbf{x}^T \\mathbf{\\Sigma}^{-1} \\mathbf{x}}$, where $\\mathbf{x}$ is the phase space coordinate vector and $\\mathbf{\\Sigma} = \\langle{\\mathbf{x}\\mathbf{x}^T}\\rangle$ is the covariance matrix. So we are looking at the density within nested ellipsoidal shells in the phase space. (This hides information unless the distribution has ellipsoidal symmetry.)"
   ]
  },
  {
   "cell_type": "code",
   "execution_count": null,
   "id": "70355a76-588c-4aab-8312-a5f8fbe69728",
   "metadata": {},
   "outputs": [],
   "source": [
    "def get_radii(coords, Sigma):\n",
    "    COORDS = np.meshgrid(*coords, indexing='ij')\n",
    "    shape = tuple([len(c) for c in coords])\n",
    "    R = np.zeros(shape)\n",
    "    Sigma_inv = np.linalg.inv(Sigma)\n",
    "    for ii in tqdm(np.ndindex(shape)):\n",
    "        vec = np.array([C[ii] for C in COORDS])\n",
    "        R[ii] = np.sqrt(np.linalg.multi_dot([vec.T, Sigma_inv, vec]))\n",
    "    return R\n",
    "\n",
    "def radial_density(f, R, radii, dr=None):\n",
    "    if dr is None:\n",
    "        dr = 0.5 * np.max(R) / (len(R) - 1)\n",
    "    fr = []\n",
    "    for r in tqdm(radii):\n",
    "        f_masked = np.ma.masked_where(np.logical_or(R < r, R > r + dr), f)\n",
    "        # I just use the mean density within this shell...\n",
    "        fr.append(np.mean(f_masked))\n",
    "    return np.array(fr)"
   ]
  },
  {
   "cell_type": "code",
   "execution_count": null,
   "id": "8adbb2f2-b4cd-42d0-8f33-ff29fee0f3ae",
   "metadata": {},
   "outputs": [],
   "source": [
    "def plot_radial_density(axis=None, nr=70):\n",
    "    # Project the distribution onto the specified axis.\n",
    "    _f = utils.project(f, axis)\n",
    "    \n",
    "    # Compute the covariance matrix.\n",
    "    _coords = [coords[i] for i in axis]\n",
    "    Sigma, mu = ba.dist_cov(_f, _coords, disp=True)\n",
    "    \n",
    "    # Compute the radii in normalized space.\n",
    "    print('Computing radii on mesh...')\n",
    "    R = get_radii(_coords, Sigma)\n",
    "    \n",
    "    # Compute the approximate radial density in normalized space.\n",
    "    radii = np.linspace(0.0, np.max(R), nr)\n",
    "    fr = radial_density(_f, R, radii, dr=None)\n",
    "    fr = fr / np.nanmax(fr)\n",
    "    \n",
    "    # Plot on top of a Gaussian which is normalized in the same way.\n",
    "    fig, axes = pplt.subplots(ncols=2, figwidth=5.75, figheight=2.55, share=False, space=10)\n",
    "    for ax in axes:\n",
    "        alpha = 0.2\n",
    "        ax.plot(radii, np.exp(-0.5 * radii**2), color='red', alpha=alpha, label='gauss')\n",
    "        # ax.plot(rs, [float(r <= 2.0) for r in rs], color='blue', alpha=alpha, label='uniform')\n",
    "        ax.plot(\n",
    "            radii, fr, color='black', label='data',\n",
    "            marker='.', lw=0, ms=3,\n",
    "        )\n",
    "        ax.legend(ncols=1, loc='upper right', handlelength=1)\n",
    "    axes.format(xlim=(0.0, 5.0))\n",
    "    axes[1].format(yscale='log', yformatter='log')\n",
    "    axes[1].format(ymin=1e-5, ymax=1.5)\n",
    "    \n",
    "    title = \"-\".join([dims[i] for i in axis])\n",
    "    axes.format(xlabel=r\"$r = \\sqrt{\\mathbf{x}^T\\mathbf{\\Sigma}^{-1}\\mathbf{x}}$\", \n",
    "                ylabel=r\"$f(r)$\", title=title)\n",
    "    return axes"
   ]
  },
  {
   "cell_type": "markdown",
   "id": "ade553b2-d127-418b-b954-f254dfa6a749",
   "metadata": {},
   "source": [
    "Here are a few examples in 3D. Note the x-y-w distribution, in which the hollowish core is visible."
   ]
  },
  {
   "cell_type": "code",
   "execution_count": null,
   "id": "988ee405-a0e5-4307-b247-4e46940b6003",
   "metadata": {
    "scrolled": true,
    "tags": []
   },
   "outputs": [],
   "source": [
    "ndim = 5  # number of dimensions in projected array\n",
    "nr = 70  # number of radial points\n",
    "for axis in itertools.combinations([0, 1, 2, 3, 4], ndim):    \n",
    "    print('axis =', axis)\n",
    "    axes = plot_radial_density(axis, nr)\n",
    "    plt.savefig(f\"_output/radial_density_{'-'.join([dims[i] for i in axis])}.png\")\n",
    "    plt.close()"
   ]
  },
  {
   "cell_type": "markdown",
   "id": "bb821a60-8f5f-43e9-9d07-df0adee9f232",
   "metadata": {},
   "source": [
    "## Corner plots "
   ]
  },
  {
   "cell_type": "markdown",
   "id": "f664dda6-0f52-4ace-a0d9-eed46fb907e6",
   "metadata": {},
   "source": [
    "### Corner plot with rectangular slices"
   ]
  },
  {
   "cell_type": "markdown",
   "id": "901a99d1-b4bc-430b-be21-8f90d0f0a0f2",
   "metadata": {},
   "source": [
    "This shows the full 2D projections."
   ]
  },
  {
   "cell_type": "code",
   "execution_count": null,
   "id": "01bff3c4-7aa3-46bf-bdeb-07a35b8c60e0",
   "metadata": {
    "jupyter": {
     "source_hidden": true
    },
    "tags": []
   },
   "outputs": [],
   "source": [
    "def update(cmap=None, log=False):\n",
    "    axes = mplt.corner(\n",
    "        f,\n",
    "        coords=coords,\n",
    "        diag_kind='None',\n",
    "        labels=dims_units,\n",
    "        norm='log' if log else None,\n",
    "        handle_log='floor',\n",
    "        thresh=10.0**-3.5,\n",
    "        thresh_type='frac',\n",
    "        prof='edges',\n",
    "        prof_kws=prof_kws,\n",
    "        linewidth=0, rasterized=True,\n",
    "        cmap=cmap,\n",
    "    )\n",
    "    axes.format(xlabel_kw=dict(fontsize='large'), ylabel_kw=dict(fontsize='large'))\n",
    "    return axes\n",
    "\n",
    "interactive(update, cmap=mplt.CMAPS, log=False)"
   ]
  },
  {
   "cell_type": "markdown",
   "id": "b154afa5-a236-4260-b6f3-b9da3ea13816",
   "metadata": {},
   "source": [
    "This plot shows everything — all 2D projections — for rectangular slices of the 5D array. (*Very slow*.)"
   ]
  },
  {
   "cell_type": "code",
   "execution_count": null,
   "id": "943c04b1-b3ea-4782-a312-56c73eaa40e2",
   "metadata": {
    "jupyter": {
     "source_hidden": true
    },
    "tags": []
   },
   "outputs": [],
   "source": [
    "slice_type = 'int'\n",
    "\n",
    "# Sliders\n",
    "n = f.ndim\n",
    "sliders, checks = [], []\n",
    "for k in range(n):\n",
    "    if slice_type == \"int\":\n",
    "        slider = widgets.IntSlider(\n",
    "            min=0,\n",
    "            max=f.shape[k],\n",
    "            value=f.shape[k] // 2,\n",
    "            description=dims[k],\n",
    "            continuous_update=True,\n",
    "        )\n",
    "    elif slice_type == \"range\":\n",
    "        slider = widgets.IntRangeSlider(\n",
    "            value=(0, f.shape[k]),\n",
    "            min=0,\n",
    "            max=f.shape[k],\n",
    "            description=dims[k],\n",
    "            continuous_update=True,\n",
    "        )\n",
    "    else:\n",
    "        raise ValueError(\"Invalid `slice_type`.\")\n",
    "    slider.layout.display = \"none\"\n",
    "    sliders.append(slider)\n",
    "    checks.append(widgets.Checkbox(description=f\"slice {dims[k]}\"))\n",
    "\n",
    "def hide(button):\n",
    "    for k in range(n):\n",
    "        for element in [sliders[k], checks[k]]:\n",
    "            element.layout.display = None\n",
    "        if not checks[k].value:\n",
    "            sliders[k].layout.display = \"none\"\n",
    "            \n",
    "for check in checks:\n",
    "    check.observe(hide, names=\"value\")\n",
    "            \n",
    "mask = np.full(f.shape, False)\n",
    "_f = np.ma.masked_array(f, mask=mask)\n",
    "            \n",
    "def update(\n",
    "    cmap,\n",
    "    handle_log,\n",
    "    log,\n",
    "    check1,\n",
    "    check2,\n",
    "    check3,\n",
    "    check4,\n",
    "    check5,\n",
    "    slider1,\n",
    "    slider2,\n",
    "    slider3,\n",
    "    slider4,\n",
    "    slider5,\n",
    "):\n",
    "    # Make slice that keeps the original dimensions of the array.\n",
    "    checks = [check1, check2, check3, check4, check5]\n",
    "    sliders = [slider1, slider2, slider3, slider4, slider5]\n",
    "    axis_slice = [dims.index(dim) for dim, check in zip(dims, checks) if check]\n",
    "    ind = sliders\n",
    "    for k in range(n):\n",
    "        if type(ind[k]) is int:\n",
    "            ind[k] = (ind[k], ind[k] + 1)\n",
    "    idx = utils.make_slice(f.ndim, axis=axis_slice, ind=ind)\n",
    "\n",
    "    _f.mask[:, :, :, :, :] = True\n",
    "    _f.mask[idx] = False\n",
    "    \n",
    "    # Corner plot of this slice.\n",
    "    axes = mplt.corner(\n",
    "        _f,\n",
    "        coords=coords,\n",
    "        diag_kind='None',\n",
    "        labels=dims_units,\n",
    "        norm='log' if log else None,\n",
    "        thresh=10.0**-3.5,\n",
    "        thresh_type='frac',\n",
    "        prof='edges',\n",
    "        prof_kws=prof_kws,\n",
    "        linewidth=0, rasterized=True,\n",
    "        cmap=cmap,\n",
    "        handle_log=handle_log,\n",
    "    )\n",
    "    axes.format(xlabel_kw=dict(fontsize='large'), ylabel_kw=dict(fontsize='large'))\n",
    "    return axes\n",
    "\n",
    "kws = dict()\n",
    "kws['cmap'] = mplt.CMAPS\n",
    "kws['handle_log'] = 'floor'\n",
    "kws['log'] = False\n",
    "for i, check in enumerate(checks, start=1):\n",
    "    kws[f\"check{i}\"] = check\n",
    "for i, slider in enumerate(sliders, start=1):\n",
    "    kws[f\"slider{i}\"] = slider\n",
    "interactive(update, **kws)"
   ]
  },
  {
   "cell_type": "markdown",
   "id": "1b91e3fa-38f5-4d37-b854-e7f8957d17f8",
   "metadata": {},
   "source": [
    "### Corner plot with contour slices "
   ]
  },
  {
   "cell_type": "markdown",
   "id": "7dafd132-93c5-48c5-9b75-a1ef4c2b18af",
   "metadata": {},
   "source": [
    "#### 4D transverse contours: 2D transverse projections and 1D energy projection"
   ]
  },
  {
   "cell_type": "markdown",
   "id": "e2848f08-a84e-45a6-95ad-6e5729187353",
   "metadata": {},
   "source": [
    "Here, we observe the energy distribution within density contours in the 4D transverse phase space."
   ]
  },
  {
   "cell_type": "code",
   "execution_count": null,
   "id": "1cb0c846-3755-4081-9a47-bf8aba7f0ee6",
   "metadata": {
    "tags": []
   },
   "outputs": [],
   "source": [
    "ftr = project(f, axis=(0, 1, 2, 3))\n",
    "ftr = ftr / np.max(ftr)\n",
    "\n",
    "def update(log=False, thresh=0.5):\n",
    "    global ftr \n",
    "    frac = np.sum(ftr[ftr > thresh]) / np.sum(ftr)\n",
    "    print(f'frac = {frac:.4f}')\n",
    "    axes = mplt.corner(\n",
    "        np.ma.masked_where(ftr < thresh, ftr),\n",
    "        coords=coords[:4],\n",
    "        diag_kind='None',\n",
    "        labels=dims_units,\n",
    "        thresh=10.0**-3.0,\n",
    "        thresh_type='frac',\n",
    "        fill_value=0.0,\n",
    "        norm='log' if log else None,\n",
    "        handle_log='floor',\n",
    "        prof='edges',\n",
    "        prof_kws=dict(kind='step', lw=0.4, alpha=0.8),\n",
    "        linewidth=0,rasterized=True\n",
    "    )\n",
    "    pw = proj1d_mask(f, thresh, fpr=ftr, normalize=True, return_frac=False, axis=4)\n",
    "    ax = axes[0, 2]\n",
    "    for i in range(3):\n",
    "        for j in range(i + 1):\n",
    "            axes[i, j]._shared_x_axes.remove(ax)\n",
    "            axes[i, j]._shared_y_axes.remove(ax)\n",
    "    ax.axis('on')\n",
    "    ax.bar(coords[4], pw, color='black')\n",
    "    ax.format(\n",
    "        xlim=(np.min(coords[4]), np.max(coords[4])),\n",
    "        ylim=(0, 0.1),\n",
    "        xspineloc='bottom', yspineloc='left',\n",
    "        title='energy projection',\n",
    "    )\n",
    "    return axes, frac\n",
    "    \n",
    "interactive(update, log=False, thresh=(0.0, 0.99, 0.01))"
   ]
  },
  {
   "cell_type": "markdown",
   "id": "63dc755c-c490-4fd8-9168-31fbfdec6984",
   "metadata": {},
   "source": [
    "Plot 2D projections of 4D phase space in energy slices."
   ]
  },
  {
   "cell_type": "code",
   "execution_count": null,
   "id": "b587f58e-eefe-43a2-8caf-77abe4de362b",
   "metadata": {},
   "outputs": [],
   "source": [
    "def update(log, w):\n",
    "    axes = mplt.corner(\n",
    "        f[..., w],\n",
    "        coords=coords[:4],\n",
    "        diag_kind='None',\n",
    "        labels=dims_units,\n",
    "        thresh=10.0**-3.5,\n",
    "        thresh_type='frac',\n",
    "        fill_value=0.0,\n",
    "        norm='log' if log else None,\n",
    "        handle_log='floor',\n",
    "        prof='edges',\n",
    "        prof_kws=dict(kind='step', lw=0.4, alpha=0.8),\n",
    "        linewidth=0,rasterized=True\n",
    "    )\n",
    "    axes.format(xlabel_kw=dict(fontsize='large'), ylabel_kw=dict(fontsize='large'))\n",
    "    return axes\n",
    "    \n",
    "interactive(update, log=False, w=widgets.IntSlider(description='w', min=0, max=len(coords[4]) - 1))"
   ]
  },
  {
   "cell_type": "markdown",
   "id": "625ffaa6-0507-41d6-b761-ca783cf2c83c",
   "metadata": {},
   "source": [
    "#### 4D transverse contours: all projections"
   ]
  },
  {
   "cell_type": "markdown",
   "id": "6007dfa2-e173-41a4-b95b-820392bc97f2",
   "metadata": {},
   "source": [
    "Plot the 2D projections of the 5D phase space distribution as the 4D boundary is changed in transverse phase space. To slice the array, we compute a 4D mask in the transverse phase space, then copy the mask along the last axis of the array to get a 5D mask. *(This is slow.)*. The only thing new, relative to the previous plot, is the 2D correlations of energy with the other variables."
   ]
  },
  {
   "cell_type": "code",
   "execution_count": null,
   "id": "cf71f52e-c56a-493a-8744-3aed41f9eb7e",
   "metadata": {},
   "outputs": [],
   "source": [
    "def mask_4d(f, thresh=0.0, ftr=None):\n",
    "    \"\"\"Mask N-D array `f` based on contours of `f.sum(axis=-1)`.\"\"\"\n",
    "    if ftr is None:\n",
    "        ftr = np.sum(f, axis=-1)\n",
    "        ftr = ftr / np.max(ftr)\n",
    "    condition = utils.copy_into_new_dim(ftr < thresh, f.shape[-1])\n",
    "    return np.ma.masked_where(condition, f)"
   ]
  },
  {
   "cell_type": "code",
   "execution_count": null,
   "id": "49ecb71e-56e9-4646-9db6-047fa2fe3f35",
   "metadata": {
    "jupyter": {
     "source_hidden": true
    },
    "tags": []
   },
   "outputs": [],
   "source": [
    "def update(log, thresh):\n",
    "    axes = mplt.corner(\n",
    "        mask_4d(f, thresh, ftr=ftr),\n",
    "        coords=coords,\n",
    "        diag_kind='None',\n",
    "        labels=dims_units,\n",
    "        thresh=10.0**-3.0,\n",
    "        thresh_type='frac',\n",
    "        fill_value=0.0,\n",
    "        norm='log' if log else None,\n",
    "        handle_log='floor',\n",
    "        prof='edges',\n",
    "        prof_kws=dict(kind='step', lw=0.4, alpha=0.8),\n",
    "    )\n",
    "    plt.show()\n",
    "    \n",
    "thresh = widgets.FloatSlider(description=\"x-x'-y-y' thresh\", min=0.0, max=0.99, value=0.5, step=0.001)\n",
    "interactive(update, log=False, thresh=thresh)"
   ]
  },
  {
   "cell_type": "markdown",
   "id": "c3b13b76-08c0-48f7-aa2a-b8f1be4ce413",
   "metadata": {},
   "source": [
    "#### 5D contours"
   ]
  },
  {
   "cell_type": "markdown",
   "id": "96dd73c9-209d-4207-a217-f2f96bbaa647",
   "metadata": {},
   "source": [
    "Plot the 2D projections of the 5D array within 5D density contours."
   ]
  },
  {
   "cell_type": "code",
   "execution_count": null,
   "id": "4767eb29-aa04-4425-8931-55760390e8e0",
   "metadata": {
    "tags": []
   },
   "outputs": [],
   "source": [
    "def update(cmap, log, thresh):\n",
    "    axes = mplt.corner(\n",
    "        np.ma.masked_less_equal(f, thresh),\n",
    "        coords=coords,\n",
    "        diag_kind='None',\n",
    "        labels=dims_units,\n",
    "        norm='log' if log else None,\n",
    "        handle_log='floor',\n",
    "        thresh=10.0**-3.5,\n",
    "        thresh_type='frac',\n",
    "        prof='edges',\n",
    "        prof_kws=prof_kws,\n",
    "        linewidth=0, rasterized=True,\n",
    "        cmap=cmap,\n",
    "    )\n",
    "    axes.format(xlabel_kw=dict(fontsize='large'), ylabel_kw=dict(fontsize='large'))\n",
    "    return axes\n",
    "\n",
    "thresh = widgets.FloatSlider(description=\"5D thresh\", min=0.0, max=0.99, value=0.5, step=0.001)\n",
    "interactive(update, cmap=mplt.CMAPS, log=False, thresh=thresh)"
   ]
  },
  {
   "cell_type": "markdown",
   "id": "ae186595-919c-4e11-ad18-9e63865f83ed",
   "metadata": {},
   "source": [
    "View the x-w projection within shrinking 5D density contours."
   ]
  },
  {
   "cell_type": "code",
   "execution_count": null,
   "id": "d825d217-670f-474d-b034-9445fb91cb3e",
   "metadata": {},
   "outputs": [],
   "source": [
    "threshs = np.linspace(0.0, 0.7, 12)\n",
    "ims = []\n",
    "for thresh in tqdm(threshs):\n",
    "    im = utils.project(np.ma.masked_less_equal(f, thresh), axis=(4, 0))\n",
    "    ims.append(im)"
   ]
  },
  {
   "cell_type": "code",
   "execution_count": null,
   "id": "8ff3783c-7328-4a0e-99fb-74ac5f3f3afc",
   "metadata": {},
   "outputs": [],
   "source": [
    "ncols = 6\n",
    "nrows = int(np.ceil(len(ims) / ncols))\n",
    "fig, axes = pplt.subplots(nrows=nrows, ncols=ncols, figwidth=8)\n",
    "axes.format(xlabel=dims_units[4], ylabel=dims_units[0])\n",
    "for ax, im, thresh in zip(axes, ims, threshs):\n",
    "    mplt.plot_image(im, x=coords[4], y=coords[0], ax=ax)\n",
    "    ax.annotate(f\"t = {thresh:.2f}\", xy=(0.03, 0.03), xycoords='axes fraction', \n",
    "                color='red', fontsize='small')\n",
    "plt.show()"
   ]
  },
  {
   "cell_type": "code",
   "execution_count": null,
   "id": "7e63c018-9bdf-4815-883e-5ffa8439ec3c",
   "metadata": {},
   "outputs": [],
   "source": []
  }
 ],
 "metadata": {
  "kernelspec": {
   "display_name": "myenv",
   "language": "python",
   "name": "myenv"
  },
  "language_info": {
   "codemirror_mode": {
    "name": "ipython",
    "version": 3
   },
   "file_extension": ".py",
   "mimetype": "text/x-python",
   "name": "python",
   "nbconvert_exporter": "python",
   "pygments_lexer": "ipython3",
   "version": "3.9.7"
  }
 },
 "nbformat": 4,
 "nbformat_minor": 5
}
