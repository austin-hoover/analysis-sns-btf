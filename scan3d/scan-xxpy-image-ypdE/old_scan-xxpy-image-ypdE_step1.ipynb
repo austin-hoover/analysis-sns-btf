{
 "cells": [
  {
   "cell_type": "markdown",
   "id": "d189e4b0-a482-4f3e-97b2-f06a89679294",
   "metadata": {},
   "source": [
    "# Step 1"
   ]
  },
  {
   "cell_type": "markdown",
   "id": "521e265b-93fa-407c-9c6c-06f7cc8ac002",
   "metadata": {},
   "source": [
    "* Load scalar, waveform and image h5 files.\n",
    "* Snap the points onto a regular grid in x1-x2 space.\n",
    "* Interpolate the points onto a regular y1 grid.\n",
    "* Generate the file \"rawgrid_....mmp\" containing the 5D density array in slit-screen (x1-x2-y1-y3-x3) coordinates.\n",
    "* Generate the file \"rawgrid_coordinates_....npy\" containing the mesh coordinates for \"rawgrid_....mmp\"."
   ]
  },
  {
   "cell_type": "code",
   "execution_count": null,
   "id": "38089eaf-189d-4ffa-8fce-f257eec6dbe6",
   "metadata": {},
   "outputs": [],
   "source": [
    "import sys\n",
    "import os\n",
    "from os.path import join\n",
    "import time\n",
    "from datetime import datetime\n",
    "import importlib\n",
    "import numpy as np\n",
    "import pandas as pd\n",
    "import h5py\n",
    "import imageio\n",
    "from scipy import ndimage\n",
    "from scipy import interpolate\n",
    "import skimage\n",
    "from tqdm.notebook import tqdm\n",
    "from tqdm.notebook import trange\n",
    "from matplotlib import pyplot as plt\n",
    "from matplotlib.patches import Ellipse\n",
    "from plotly import graph_objects as go\n",
    "import proplot as pplt\n",
    "\n",
    "sys.path.append('../..')\n",
    "from tools import energyVS06 as energy\n",
    "from tools import image_processing as ip\n",
    "from tools import plotting as mplt\n",
    "from tools import utils"
   ]
  },
  {
   "cell_type": "code",
   "execution_count": null,
   "id": "9543a20b-ce8a-4a9c-a137-33ceaf1813d4",
   "metadata": {},
   "outputs": [],
   "source": [
    "pplt.rc['grid'] = False\n",
    "pplt.rc['cmap.discrete'] = False\n",
    "pplt.rc['cmap.sequential'] = 'viridis'"
   ]
  },
  {
   "cell_type": "markdown",
   "id": "8fa534a3-3907-4d2e-b969-d985bd4ba560",
   "metadata": {},
   "source": [
    "## Setup "
   ]
  },
  {
   "cell_type": "markdown",
   "id": "8f405ee7-6f0b-471e-be40-d9cd81aa001f",
   "metadata": {},
   "source": [
    "Global variables"
   ]
  },
  {
   "cell_type": "code",
   "execution_count": null,
   "id": "4609379e-d217-4e87-8225-d66d5f9b3878",
   "metadata": {},
   "outputs": [],
   "source": [
    "SMOOTH = False  # whether to smooth y1-y3-x3 image along first axis"
   ]
  },
  {
   "cell_type": "markdown",
   "id": "2595f23b-ce13-4813-acc8-1706203f8f5b",
   "metadata": {},
   "source": [
    "Load info from step 0."
   ]
  },
  {
   "cell_type": "code",
   "execution_count": null,
   "id": "6caa9695-1e8b-4693-91c4-86ef0745da04",
   "metadata": {},
   "outputs": [],
   "source": [
    "folder = '_output'"
   ]
  },
  {
   "cell_type": "code",
   "execution_count": null,
   "id": "b4a6b999-dd75-4c3d-820a-92ebbd4327c4",
   "metadata": {},
   "outputs": [],
   "source": [
    "info = utils.load_pickle(join(folder, 'info.pkl'))\n",
    "info"
   ]
  },
  {
   "cell_type": "code",
   "execution_count": null,
   "id": "ae99a357-cf4f-4625-8a68-3c4101b7aa41",
   "metadata": {},
   "outputs": [],
   "source": [
    "datadir = info['datadir']\n",
    "filename = info['filename']\n",
    "file = h5py.File(join(datadir, 'preproc-' + filename + '.h5'), 'r')\n",
    "data_sc = file['/scalardata']\n",
    "data_wf = file['/wfdata']\n",
    "data_im = file['/imagedata']\n",
    "\n",
    "print('All attributes:')\n",
    "print()\n",
    "for data in [data_sc, data_wf, data_im]:\n",
    "    print(data.name)\n",
    "    for item in data.dtype.fields.items():\n",
    "        print(item)\n",
    "    print()"
   ]
  },
  {
   "cell_type": "markdown",
   "id": "0695049a-d9ee-4a7d-ab81-6ee38dbf8cea",
   "metadata": {},
   "source": [
    "## Scan path"
   ]
  },
  {
   "cell_type": "code",
   "execution_count": null,
   "id": "cce0ad07-37af-4575-8a15-443bc6ac97ae",
   "metadata": {},
   "outputs": [],
   "source": [
    "variables = info['variables']\n",
    "keys = list(variables)\n",
    "ndim = len(keys)\n",
    "acts = ['y_PositionSync', 'xp_PositionSync', 'x_PositionSync']\n",
    "M = info['M']\n",
    "Minv = np.linalg.inv(M)\n",
    "\n",
    "center = np.array([variables[key]['center'] for key in keys])\n",
    "distance = np.array([variables[key]['distance'] for key in keys])\n",
    "nsteps = np.array([variables[key]['steps'] for key in keys])\n",
    "\n",
    "points = np.vstack([data_sc[act] for act in acts]).T\n",
    "points_n = utils.apply(Minv, points - center)\n",
    "points_nn = points_n / (0.5 * distance)"
   ]
  },
  {
   "cell_type": "markdown",
   "id": "a109b5ea-494a-4860-8fbe-7adbe30900eb",
   "metadata": {},
   "source": [
    "We can compare these with the planned points listed in the csv file."
   ]
  },
  {
   "cell_type": "code",
   "execution_count": null,
   "id": "1e8516cc-21ca-4c5f-a921-ebf1f29f5eb6",
   "metadata": {},
   "outputs": [],
   "source": [
    "csv_filename = join(datadir, filename + '.csv')\n",
    "skiprows = 0\n",
    "for line in open(csv_filename, 'r'):\n",
    "    if line.startswith('#'):\n",
    "        skiprows += 1\n",
    "names = []\n",
    "for i in range(1, 4):\n",
    "    names.extend([f'start{i}', f'stop{i}', f'step{i}'])\n",
    "df = pd.read_table(csv_filename, skiprows=skiprows, sep='\\s+', header=None, names=names)\n",
    "df"
   ]
  },
  {
   "cell_type": "markdown",
   "id": "4b62fdc6-94a9-4038-b26b-a663ceb00066",
   "metadata": {},
   "source": [
    "Make sure the actuator names in this notebook match the order in the CSV file."
   ]
  },
  {
   "cell_type": "code",
   "execution_count": null,
   "id": "69848807-29e7-444f-8c2b-67a9d126e7b3",
   "metadata": {},
   "outputs": [],
   "source": [
    "header_line = None\n",
    "for row, line in enumerate(open(join(datadir, filename + '.csv'), 'r')):\n",
    "    if row == skiprows - 1:\n",
    "        header_line = line\n",
    "        break\n",
    "for char in ['#', ',']:\n",
    "    header_line = header_line.replace(char, '')\n",
    "header_line = header_line.lstrip()\n",
    "print(header_line.split())"
   ]
  },
  {
   "cell_type": "code",
   "execution_count": null,
   "id": "e9138f42-ee32-4725-a8c5-adb29abbadae",
   "metadata": {},
   "outputs": [],
   "source": [
    "# Extract planned actuator points.\n",
    "pl_points = [df.loc[:, [f'start{i}', f'stop{i}']].values.ravel() \n",
    "             for i in range(1, ndim + 1)]\n",
    "pl_points = np.array(pl_points).T\n",
    "\n",
    "# Undo linear transformation.\n",
    "pl_points_n = utils.apply(Minv, pl_points - center)\n",
    "pl_points_nn = pl_points_n / (0.5 * distance)\n",
    "\n",
    "# Plot planned points in \"normalized\" space.\n",
    "fig, axes = pplt.subplots(nrows=3, figsize=(8.0, 4.0), spany=False, aligny=True)\n",
    "for i, ax in enumerate(axes):\n",
    "    ax.plot(pl_points_n[:, i], color='black', lw=None, marker='.', ms=0)\n",
    "    ax.format(ylabel=f'actuator {i}')\n",
    "plt.savefig('_output/planned_acts_n.png')"
   ]
  },
  {
   "cell_type": "markdown",
   "id": "c6b0a41b-c5a1-4a72-9a83-c6460b06a760",
   "metadata": {},
   "source": [
    "Create dataframe of planned actuator points in real and normalized space."
   ]
  },
  {
   "cell_type": "code",
   "execution_count": null,
   "id": "a1f5329e-f732-43e9-9554-80691b1c93bb",
   "metadata": {},
   "outputs": [],
   "source": [
    "dim_names = keys\n",
    "columns = []\n",
    "for i, dim_name in enumerate(dim_names):\n",
    "    columns.extend([dim_name, dim_name + '_n', dim_name + '_nn'])\n",
    "df = pd.DataFrame(index=df.index, columns=columns)\n",
    "for i, dim_name in enumerate(dim_names):\n",
    "    df[dim_name] = pl_points[::2, i]\n",
    "    df[dim_name + '_n'] = pl_points_n[::2, i]\n",
    "    df[dim_name + '_nn'] = pl_points_nn[::2, i]\n",
    "df"
   ]
  },
  {
   "cell_type": "code",
   "execution_count": null,
   "id": "86a41261-a760-423d-8c4b-eb90ba3b8932",
   "metadata": {},
   "outputs": [],
   "source": [
    "fig, ax = pplt.subplots()\n",
    "ax.scatter(points_n[:, 1], points_n[:, 2], c='black', s=0.1, label='readback')\n",
    "ax.scatter(pl_points_n[:, 1], pl_points_n[:, 2], c='red', s=0.1, label='planned')\n",
    "ax.legend(loc='r', ncols=1, ms=1)\n",
    "ax.format(xlabel='x2', ylabel='x1')\n",
    "plt.savefig('_output/x2-x1_planned_readback.png')\n",
    "plt.show()"
   ]
  },
  {
   "cell_type": "markdown",
   "id": "79a3ea98-06d9-4c76-8470-850f6604e0a5",
   "metadata": {},
   "source": [
    "## Interpolation "
   ]
  },
  {
   "cell_type": "markdown",
   "id": "234f1b26-1930-4b2e-b33d-c7e550736a1a",
   "metadata": {
    "tags": []
   },
   "source": [
    "### Snap points onto x1-x2 grid"
   ]
  },
  {
   "cell_type": "markdown",
   "id": "6c389acd-6e3b-4079-8aa9-d6fa8554e599",
   "metadata": {},
   "source": [
    "We will use the planned points, which should be close to the real points in x1-x2. Need to play with `n` below until the expected number of grid points is obtained. We want the readback points to be relatively close to the grid points."
   ]
  },
  {
   "cell_type": "code",
   "execution_count": null,
   "id": "7a506dd5-88b0-4ccd-8564-a0efcbc720f3",
   "metadata": {},
   "outputs": [],
   "source": [
    "ns_lists = []\n",
    "for i in (1, 2):\n",
    "    print('i =', i)\n",
    "    diffs = []\n",
    "    ns = np.arange(15, 500)\n",
    "    for n in ns:\n",
    "        gv, idx = utils.snap(pl_points_n[:, i], n=n, tol=0.1)\n",
    "        deltas = np.diff(gv)\n",
    "        diffs.append(np.var(deltas) / np.max(deltas))\n",
    "    diffs = np.array(diffs)\n",
    "\n",
    "    fig, ax = pplt.subplots(figsize=(5, 2))\n",
    "    ax.plot(ns, diffs, color='black')\n",
    "    from scipy.signal import find_peaks\n",
    "    mins, _ = find_peaks(-diffs)\n",
    "    ax.plot(ns[mins], diffs[mins], color='red', lw=0, marker='.', ms=3)\n",
    "    plt.show()\n",
    "\n",
    "    print(ns[mins][np.argsort(diffs[mins])])\n",
    "    print()\n",
    "    ns_lists.append(ns[mins][np.argsort(diffs[mins])])"
   ]
  },
  {
   "cell_type": "code",
   "execution_count": null,
   "id": "54123f63-94ba-40d0-b613-82fdf5399fec",
   "metadata": {
    "tags": []
   },
   "outputs": [],
   "source": [
    "for n in range(100000):\n",
    "    if n in ns_lists[0] and n in ns_lists[1]:\n",
    "        print(n)"
   ]
  },
  {
   "cell_type": "code",
   "execution_count": null,
   "id": "71501c09-91f7-457c-b73a-4be53bf56a94",
   "metadata": {},
   "outputs": [],
   "source": [
    "gvs, idxs = [], []\n",
    "for i, dim_name in enumerate(dim_names):\n",
    "    gv, idx = utils.snap(\n",
    "        pl_points_n[:, i], \n",
    "        n=97,  # 2022-04-09, 2021-12-03\n",
    "    )    \n",
    "    gvs.append(gv)\n",
    "    idxs.append(idx)\n",
    "    print(f'{dim_name}: {len(gv)} grid points')"
   ]
  },
  {
   "cell_type": "code",
   "execution_count": null,
   "id": "135725b5-6388-400d-91ea-430b2eedb7ac",
   "metadata": {},
   "outputs": [],
   "source": [
    "fig, axes = pplt.subplots(ncols=2, figwidth=9)\n",
    "line_kws = dict(color='black', alpha=0.11)\n",
    "for ax, title, pts in zip(axes, ['Planned', 'Readback'], [pl_points_n, points_n]):\n",
    "    for gv in gvs[1]:\n",
    "        ax.axvline(gv, **line_kws)\n",
    "    for gv in gvs[2]:\n",
    "        ax.axhline(gv, **line_kws)    \n",
    "    ax.scatter(pts[:, 1], pts[:, 2], c='red', s=1)\n",
    "    ax.format(title=title)\n",
    "axes.format(xlabel='x2', ylabel='x1')\n",
    "plt.savefig('_output/snap.png')"
   ]
  },
  {
   "cell_type": "markdown",
   "id": "9e39237f-b38d-4e5e-8421-59f8cf9eacac",
   "metadata": {},
   "source": [
    "`POINTS2D` holds the iteration number on the x2-x1 grid. (The number of iterations is half the number of sweeps.)"
   ]
  },
  {
   "cell_type": "code",
   "execution_count": null,
   "id": "57c02e90-6cf3-48b2-bcbb-e5094ad93924",
   "metadata": {
    "scrolled": true,
    "tags": []
   },
   "outputs": [],
   "source": [
    "POINTS2D = np.full((len(gvs[2]), len(gvs[1])), np.nan)\n",
    "iteration, steps = 0, []\n",
    "for i in range(POINTS2D.shape[0]):\n",
    "    for j in range(POINTS2D.shape[1]):\n",
    "        idx, = np.where((idxs[2] == i) & (idxs[1] == j))\n",
    "        if len(idx) > 0:\n",
    "            POINTS2D[i, j] = iteration\n",
    "            steps.append(idx)\n",
    "        else:\n",
    "            print(f'Bin {i},{j} is empty')\n",
    "        iteration += 1\n",
    "POINTS2D = POINTS2D.astype(int)"
   ]
  },
  {
   "cell_type": "code",
   "execution_count": null,
   "id": "4644c266-2f19-4652-9320-8f16cf56aa7a",
   "metadata": {},
   "outputs": [],
   "source": [
    "fig, ax = pplt.subplots()\n",
    "_arr = np.zeros((POINTS2D.shape))\n",
    "for i in range(POINTS2D.shape[0]):\n",
    "    for j in range(POINTS2D.shape[1]):\n",
    "        _arr[i, j] = -1 if np.isnan(POINTS2D[i, j]) else POINTS2D[i, j]\n",
    "ax.pcolormesh(\n",
    "    gvs[1], \n",
    "    gvs[2],\n",
    "    np.ma.masked_less_equal(_arr, 0),  cmap='grays',\n",
    "    colorbar=True, colorbar_kw=dict(label='Iteration'),\n",
    ")\n",
    "ax.format(ylabel='x1', xlabel='x2')\n",
    "plt.savefig('_output/POINTS2D.png')"
   ]
  },
  {
   "cell_type": "markdown",
   "id": "ecca913a-aef7-4778-abb6-8d1a64732642",
   "metadata": {},
   "source": [
    "`idx_bin[i]` holds a list of all indices for iteration `i` (the ith point in the x1-x2 grid)."
   ]
  },
  {
   "cell_type": "code",
   "execution_count": null,
   "id": "83a1352a-ce4e-4c3c-a6aa-fce7f932f607",
   "metadata": {},
   "outputs": [],
   "source": [
    "idx_bin = []\n",
    "for i, step in enumerate(tqdm(steps)):\n",
    "    iterations = np.unique((step / 2 + 1).astype(int))\n",
    "    idx = np.hstack([np.where(data_sc[:, 'iteration'] == iteration)[0] for iteration in iterations])\n",
    "    idx_bin.append(np.unique(idx))"
   ]
  },
  {
   "cell_type": "markdown",
   "id": "5075d02d-3c6a-4a36-82bb-c9d0304f1773",
   "metadata": {
    "tags": []
   },
   "source": [
    "### Observe one sweep"
   ]
  },
  {
   "cell_type": "markdown",
   "id": "f57368c5-3987-4431-81ba-73758943d828",
   "metadata": {},
   "source": [
    "We will observe the sweep containing the largest camera integral in the scan."
   ]
  },
  {
   "cell_type": "code",
   "execution_count": null,
   "id": "bb01f82f-3fb3-4f7d-805b-45d2bb07cd7d",
   "metadata": {},
   "outputs": [],
   "source": [
    "cam = info['cam']\n",
    "ipeak = np.argmax(data_sc[cam + '_Integral'])\n",
    "iteration_peak, n_iterations = None, len(steps)\n",
    "for iteration in range(n_iterations):\n",
    "    if ipeak in idx_bin[iteration]:\n",
    "        iteration_peak = iteration\n",
    "        \n",
    "iteration = iteration_peak\n",
    "idx = idx_bin[iteration]\n",
    "print(f'Peak is in iteration {iteration}')\n",
    "print(f'Set iteration = {iteration}')\n",
    "print(f'Set idx = idx_bin[iteration] = {idx}')"
   ]
  },
  {
   "cell_type": "markdown",
   "id": "62dce4a1-8dee-4131-b8b8-ce4d5d1a2576",
   "metadata": {},
   "source": [
    "Observe the actuator positions and camera integral during the sweep."
   ]
  },
  {
   "cell_type": "code",
   "execution_count": null,
   "id": "9cf2d542-cec1-4c6e-8cfe-8a60ec4cb271",
   "metadata": {},
   "outputs": [],
   "source": [
    "bcm_mean = np.mean(data_sc[:, 'bcm04'])\n",
    "bcm_scale = bcm_mean / data_sc[idx, 'bcm04']\n",
    "\n",
    "kws = dict(marker='.', color='black')\n",
    "fig, axes = pplt.subplots(nrows=4, figsize=(5, 6), spany=False, aligny=True)\n",
    "for _scale, alpha, label in zip([1.0, bcm_scale], [1.0, 0.2], [None, 'Scaled by BCM04']):\n",
    "    axes[0].plot(idx, data_sc[idx, cam + '_Integral'] * _scale,\n",
    "                 alpha=alpha, label=label, **kws)\n",
    "axes[0].legend(loc='upper right')\n",
    "axes[0].format(ylabel=f'{cam}_Integral')\n",
    "for ax, act in zip(axes[1:], acts):\n",
    "    ax.plot(idx, data_sc[idx, act], **kws)\n",
    "    ax.format(ylabel=act)\n",
    "axes.format(xlabel='Step in scan', suptitle=f'Iteration {iteration}')\n",
    "plt.savefig(f'_output/iteration{iteration}.png')\n",
    "plt.show()"
   ]
  },
  {
   "cell_type": "markdown",
   "id": "3559764a-5197-45b8-8cda-2bcb7798f182",
   "metadata": {},
   "source": [
    "Observe the image on the screen during the sweep. (The following saves a GIF.)"
   ]
  },
  {
   "cell_type": "code",
   "execution_count": null,
   "id": "ba64dcd0-8474-4803-81f3-02efd9dc3e89",
   "metadata": {},
   "outputs": [],
   "source": [
    "def get_image(i):\n",
    "    image_shape = info['image_shape']\n",
    "    return data_im[i, cam + '_Image'].reshape(image_shape)"
   ]
  },
  {
   "cell_type": "code",
   "execution_count": null,
   "id": "68ca03a6-6c09-45fc-94ff-c659d1289e45",
   "metadata": {},
   "outputs": [],
   "source": [
    "ipeak_sweep = np.argmax(data_sc[idx, cam + '_Integral'])\n",
    "norm_pixel_value = np.max(data_im[idx[ipeak_sweep], cam + '_Image'])\n",
    "for cmap in ['viridis', 'dusk_r', 'mono_r']:\n",
    "    _cmap = pplt.Colormap(cmap)\n",
    "    greyscale = False\n",
    "\n",
    "    _ims = []\n",
    "    for i in tqdm(idx):\n",
    "        _im = get_image(i) / norm_pixel_value\n",
    "        if not greyscale:\n",
    "            _im = _cmap(_im)\n",
    "        _ims.append(np.uint8(_im * np.iinfo(np.uint8).max))\n",
    "\n",
    "    gif_filename = f'_output/iteration{iteration}_{cmap}.gif'\n",
    "    imageio.mimwrite(gif_filename, _ims, fps=6)"
   ]
  },
  {
   "cell_type": "markdown",
   "id": "439dc86f-c5d7-4d7d-9cd7-4b01af88f426",
   "metadata": {
    "tags": []
   },
   "source": [
    "### Form 3D image"
   ]
  },
  {
   "cell_type": "markdown",
   "id": "48d4a261-4c32-4535-abd7-e13b555108fc",
   "metadata": {},
   "source": [
    "Each sweep/iteration — each point in the x1-x2 grid — produces a 3D image: y1-y3-x3."
   ]
  },
  {
   "cell_type": "code",
   "execution_count": null,
   "id": "87790b8c-6e87-45c3-ad11-c6d063e215e2",
   "metadata": {},
   "outputs": [],
   "source": [
    "im3d = np.array([get_image(i) for i in idx])\n",
    "print(im3d.shape)"
   ]
  },
  {
   "cell_type": "markdown",
   "id": "10e2e960-3af9-4471-ac92-7bff238ba4ae",
   "metadata": {},
   "source": [
    "The image will be interpolated over the y1 axis. There is the option to apply a smoothing filter before interpolation. (I have actually found this to decrease the quality of the interpolation, but maybe that is because my images were already downscaled. This might have to do with the fact that I downscaled already? The variable `SMOOTH`, at the top of this notebook, determines whether smoothing is applied before interpolation.)"
   ]
  },
  {
   "cell_type": "code",
   "execution_count": null,
   "id": "fdae4fae-8014-4e61-914f-a81d8e0c7d49",
   "metadata": {},
   "outputs": [],
   "source": [
    "im3d_smooth = ndimage.median_filter(im3d, size=(3, 1, 1), mode='constant', cval=0.0) "
   ]
  },
  {
   "cell_type": "markdown",
   "id": "fa0d7987-281e-414d-8c5e-826bbb4b76d9",
   "metadata": {},
   "source": [
    "Compare the image with/without smoothing at the frame with the largest pixel value in the iteration."
   ]
  },
  {
   "cell_type": "code",
   "execution_count": null,
   "id": "28a92fe3-a964-43c0-882c-5d4d42cd83c4",
   "metadata": {},
   "outputs": [],
   "source": [
    "i, _, _ = np.unravel_index(np.argmax(im3d), im3d.shape)\n",
    "\n",
    "fig, axes = pplt.subplots([[1, 2, 3], [1, 2, 4]], figwidth=7, sharey=False)\n",
    "axes[0].pcolormesh(im3d[i, :, :])\n",
    "axes[1].pcolormesh(im3d_smooth[i, :, :])\n",
    "for yscale in [None, 'log']:\n",
    "    for ax in axes[2:]:\n",
    "        handles = []\n",
    "        for color, _im3d in zip(['black', 'pink6'], [im3d, im3d_smooth]):\n",
    "            handle = ax.plot(np.sum(_im3d[i, :, :], axis=0), color=color, marker='.', ms=2, lw=1)\n",
    "            handles.append(handle)\n",
    "axes[3].format(yscale='log')\n",
    "for ax, title in zip(axes, ['Raw', 'Smoothed along y', 'Profiles']):\n",
    "    ax.set_title(title)\n",
    "axes[:2].format(xticks=[], yticks=[])\n",
    "axes[2].legend(handles, labels=['raw', 'smoothed'], ncol=1, loc='upper right', handlelength=1.25)\n",
    "plt.savefig('_output/raw_vs_smooth_proj.png')\n",
    "plt.show()"
   ]
  },
  {
   "cell_type": "markdown",
   "id": "c7bfb0c6-4642-4746-a802-391be53e9b48",
   "metadata": {},
   "source": [
    "Look at different x3-y3 pixels for all y1."
   ]
  },
  {
   "cell_type": "code",
   "execution_count": null,
   "id": "8178a34c-ec35-4454-8885-9ae84c7842f1",
   "metadata": {},
   "outputs": [],
   "source": [
    "n = 7\n",
    "ii = np.linspace(0, im3d.shape[1] - 1, n).astype(int)\n",
    "jj = np.linspace(0, im3d.shape[2] - 1, n).astype(int)\n",
    "\n",
    "fig, axes = pplt.subplots(ncols=n, nrows=n, figsize=(8.0, 5.5), space=0)\n",
    "axes.format(\n",
    "    xlabel='y1', \n",
    "    bottomlabels=['', '', '', 'x1', '', '', ''], \n",
    "    leftlabels=['', '', '', 'x2', '', '', ''],\n",
    ")\n",
    "for row, i in enumerate(ii):\n",
    "    for col, j in enumerate(jj):\n",
    "        ax = axes[row, col]\n",
    "        kws = dict(lw=1.0)\n",
    "        ax.plot(im3d[:, i, j], **kws)\n",
    "        ax.plot(im3d_smooth[:, i, j], **kws)\n",
    "plt.savefig('_output/y1_smoothing.png')\n",
    "plt.show()"
   ]
  },
  {
   "cell_type": "markdown",
   "id": "60a16ef2-0e69-4725-bc84-2371fa168b87",
   "metadata": {
    "tags": []
   },
   "source": [
    "### Interpolate over y1"
   ]
  },
  {
   "cell_type": "code",
   "execution_count": null,
   "id": "8feaac62-39ab-4e4f-af41-86f38c43b692",
   "metadata": {},
   "outputs": [],
   "source": [
    "# Define the y1 grid using all points in the data set.\n",
    "N_PTS_Y = variables['y1']['steps']\n",
    "y1_gv = np.linspace(\n",
    "    np.min(data_sc['y_PositionSync']),\n",
    "    np.max(data_sc['y_PositionSync']),\n",
    "    N_PTS_Y,\n",
    ")\n",
    "\n",
    "# Obtain the y1 values corresponding to the y1 axis.\n",
    "y1_vals = data_sc[idx, 'y_PositionSync']\n",
    "\n",
    "# Interpolate along the y1 axis.\n",
    "interp_method = 'linear'\n",
    "_im3d = im3d_smooth if SMOOTH else im3d\n",
    "arr3d = ip.interp_along_axis(_im3d, y1_vals, y1_gv, axis=0, kind=interp_method)"
   ]
  },
  {
   "cell_type": "markdown",
   "id": "9d785b76-ce94-4b22-ad66-e2b02ff3aee5",
   "metadata": {},
   "source": [
    "Find the the indices of the maximum element of the 3D image. Keep in mind that if `im3d` has many more y elements than `arr3d`, the plots may not look the same. "
   ]
  },
  {
   "cell_type": "code",
   "execution_count": null,
   "id": "fb50d6c8-a4f6-4f58-a8e9-d6f55e407ffd",
   "metadata": {},
   "outputs": [],
   "source": [
    "frame1, row, col = utils.max_indices(im3d)\n",
    "frame2, _, _ = utils.max_indices(arr3d)"
   ]
  },
  {
   "cell_type": "code",
   "execution_count": null,
   "id": "2ce4c1dc-8806-4c8c-8e6e-a6bd559161c6",
   "metadata": {},
   "outputs": [],
   "source": [
    "fig, axes = pplt.subplots(ncols=2, nrows=2, sharey=False, figsize=(6, 4))\n",
    "for x, arr, alpha, label in zip([y1_gv, y1_vals], [arr3d, im3d], [1.0, 0.2], ['interpolated', 'raw']):\n",
    "    for j in range(2):\n",
    "        y = utils.project(arr, 0) if j == 0 else arr[:, row, col]\n",
    "        y = y / np.sum(y)\n",
    "        for i, ax in enumerate(axes[:, j]):\n",
    "            ax.plot(x, y, color='black', label=label, marker='.', alpha=alpha, ms=5)\n",
    "axes[0, 1].legend(loc='upper right', ncol=1,)\n",
    "axes[1, :].format(yscale='log', xlabel='y1')\n",
    "for ax, title in zip(axes[0, :], ['Sum over image', f'Pixel ({row}, {col})']):\n",
    "    ax.format(title=title)\n",
    "plt.savefig('_output/peak_frame_interp_compare.png')"
   ]
  },
  {
   "cell_type": "markdown",
   "id": "db47427a-1c41-466f-99f1-bf06f65a9fbe",
   "metadata": {},
   "source": [
    "Plot the frame with the maximum pixel in either array."
   ]
  },
  {
   "cell_type": "code",
   "execution_count": null,
   "id": "bcba3071-27f4-4b80-9555-d2d5ae6b56e4",
   "metadata": {},
   "outputs": [],
   "source": [
    "fig, axes = pplt.subplots(ncols=2, nrows=2, figwidth=None, sharex=False, sharey=False)\n",
    "for j, _im in enumerate([im3d[frame1, :, :], arr3d[frame2, :, :]]):\n",
    "    for i, norm in enumerate([None, 'log']):\n",
    "        mplt.plot_image(_im.T / np.max(_im), ax=axes[i, j], norm=norm, colorbar=True)\n",
    "axes.format(\n",
    "    leftlabels=['Normal scale', 'Log scale'],\n",
    "    toplabels=['Raw image', 'Interpolated along y']\n",
    ")\n",
    "plt.savefig('_output/interp_image_compare.png')"
   ]
  },
  {
   "cell_type": "code",
   "execution_count": null,
   "id": "4a601737-2edd-48f8-b9ac-b99d8bb4a08b",
   "metadata": {},
   "outputs": [],
   "source": [
    "fig, axes = pplt.subplots(ncols=2, sharey=False, spanx=False, figsize=(8, 2))\n",
    "axes[0].plot(np.sum(arr3d[frame2, :, :], axis=0), color='black', alpha=0.2, label='interpolated')\n",
    "axes[0].plot(np.sum(im3d[frame1, :, :], axis=0), marker='.', ms=2, lw=0, color='black', label='raw')\n",
    "axes[0].legend(ncol=1)\n",
    "axes[0].format(yscale=None, title='ProfileX')\n",
    "axes[1].plot(arr3d[-2, :, :].ravel(), marker='.', lw=0, color='black', ms=1, label='Raw')\n",
    "axes[1].plot(arr3d[-2, :, :].ravel(), color='black', alpha=0.2, label='Interpolated')\n",
    "axes[1].legend(loc='upper left', ncols=1)\n",
    "axes[1].format(title='Pixels in edge frame', xlabel='Pixel number')\n",
    "plt.savefig('_output/interp_px.png')"
   ]
  },
  {
   "cell_type": "code",
   "execution_count": null,
   "id": "f28c60e2-896a-48b5-b37f-8f53044e5060",
   "metadata": {},
   "outputs": [],
   "source": [
    "fig, axes = pplt.subplots([[1, 2, 3], [1, 4, 5]], sharey=False, sharex=False)\n",
    "axes[0].pcolormesh(im3d[frame1, :, :])\n",
    "kws = dict(color='white', lw=0.785, alpha=0.5)\n",
    "axes[0].axvline(col, **kws)\n",
    "axes[0].axhline(row, **kws)\n",
    "kws = dict(marker='.', color='black', ms=2.0, lw=1.0)\n",
    "for im, label in zip([arr3d[frame2], im3d[frame1]], ['interpolated', 'raw']):\n",
    "    if label == 'raw':\n",
    "        kws['alpha'] = 0.2\n",
    "    elif label == 'interpolated':\n",
    "        kws['alpha'] = 1.0\n",
    "    for ax in axes[:, 1]:\n",
    "        ax.plot(im[row, :] / np.sum(im[row, :]), label=label, **kws)\n",
    "    for ax in axes[:, 2]:\n",
    "        ax.plot(im[:, col] / np.sum(im[:, col]), label=label, **kws)\n",
    "axes[2].legend(ncols=1, loc='upper right')\n",
    "axes[1].set_title(f'{cam} - row {row}')\n",
    "axes[2].set_title(f'{cam} - col {col}')\n",
    "axes[1, 1:].format(yscale='log')\n",
    "plt.savefig('_output/interp_peak_slice.png')\n",
    "plt.show()"
   ]
  },
  {
   "cell_type": "markdown",
   "id": "ab41e2d6-8473-4077-88e1-9d59a82b7830",
   "metadata": {},
   "source": [
    "Now try comparing all x3-y3 projections of 3D image — interpolated vs. not."
   ]
  },
  {
   "cell_type": "code",
   "execution_count": null,
   "id": "37f2dad9-788d-4d10-8d5e-b5adf1980ff5",
   "metadata": {},
   "outputs": [],
   "source": [
    "ncols = 8\n",
    "nplots = 3 * ncols\n",
    "for j, (title, _arr) in enumerate(zip(['Raw', 'Interpolated along y1'], [im3d, arr3d])):\n",
    "    ind = np.linspace(0, _arr.shape[0] - 1, 24).astype(int)\n",
    "    nrows = np.ceil(len(ind) / float(ncols)).astype(int)\n",
    "    fig, axes = pplt.subplots(ncols=ncols, nrows=nrows, figwidth=10.0, space=0.2)\n",
    "    axes.format(xticks=[], yticks=[])\n",
    "    _y1 = [y1_vals, y1_gv][j]\n",
    "    for ax, i in zip(axes, ind):\n",
    "        mplt.plot_image(_arr[i].T, ax=ax)\n",
    "        ax.annotate(f'y1 = {_y1[i]:.2f}', xy=(0.02, 0.98), xycoords='axes fraction',\n",
    "                    color='white', verticalalignment='top')\n",
    "    for i in range(nrows * ncols - len(ind)):\n",
    "        axes[~i].axis('off')\n",
    "    axes.format(suptitle=title)\n",
    "    plt.savefig(f\"_output/iteration{iteration}_{['raw','y1interp'][j]}.png\")\n",
    "    plt.show()"
   ]
  },
  {
   "cell_type": "markdown",
   "id": "c650cf29-63dc-4806-b22a-71a760e200d6",
   "metadata": {},
   "source": [
    "## View projections and slices of interpolated 3D image "
   ]
  },
  {
   "cell_type": "markdown",
   "id": "2bec3365-eb19-4478-b6bd-f32f3b7270a5",
   "metadata": {},
   "source": [
    "### Projections"
   ]
  },
  {
   "cell_type": "code",
   "execution_count": null,
   "id": "2da32cd9-ad88-4540-b3da-bda96084d45e",
   "metadata": {},
   "outputs": [],
   "source": [
    "dims = ['y1', 'y3', 'x3']\n",
    "axes = mplt.corner(arr3d, diag_kind=None, labels=dims, prof='edges',\n",
    "                   prof_kws=dict(lw=0.5, alpha=0.7))\n",
    "plt.savefig('_output/peak_interp_proj_corner.png')"
   ]
  },
  {
   "cell_type": "markdown",
   "id": "ea57f4a0-ae05-4d36-ba52-815cde9d6fc3",
   "metadata": {},
   "source": [
    "### Slices"
   ]
  },
  {
   "cell_type": "code",
   "execution_count": null,
   "id": "9888b060-dab7-4568-8a5b-5f4733dad114",
   "metadata": {},
   "outputs": [],
   "source": [
    "ind_slice = [int(s / 2) for s in arr3d.shape]\n",
    "\n",
    "plot_kws = dict(discrete=False, colorbar=True)\n",
    "fig, axes = pplt.subplots(nrows=2, ncols=3, sharex=False, sharey=False, spany=False, spanx=False, )\n",
    "for j in range(3):\n",
    "    idx = utils.make_slice(3, j, ind_slice[j])\n",
    "    _im = arr3d[idx]\n",
    "    _im = _im / np.max(_im)\n",
    "    for ax, norm in zip(axes[:, j], [None, 'log']):\n",
    "        mplt.plot_image(_im, ax=ax, norm=norm, **plot_kws)\n",
    "    axes[0, j].format(title=f'{dims[j]} = {ind_slice[j]}')\n",
    "axes[:, 0].format(xlabel='y3', ylabel='x3')\n",
    "axes[:, 1].format(xlabel='y1', ylabel='x3')\n",
    "axes[:, 2].format(xlabel='y1', ylabel='y3')\n",
    "plt.savefig('_output/peak_interp_slice.png')\n",
    "plt.show()"
   ]
  },
  {
   "cell_type": "code",
   "execution_count": null,
   "id": "f7c20c6f-701e-4c58-89f5-82fbd62ce611",
   "metadata": {},
   "outputs": [],
   "source": [
    "mplt.interactive_proj2d(arr3d / np.max(arr3d), dims=['x1', 'y3', 'x3'], \n",
    "                        default_ind=(2, 1), slider_type='int')"
   ]
  },
  {
   "cell_type": "markdown",
   "id": "52fa5a01-6f37-4dba-99d5-84f3a4cee862",
   "metadata": {},
   "source": [
    "## Save 3D grid coordinates"
   ]
  },
  {
   "cell_type": "code",
   "execution_count": null,
   "id": "ddbd2921-d2fa-49c6-979f-131a52b204c3",
   "metadata": {},
   "outputs": [],
   "source": [
    "GV_X1_n, GV_X2_n = np.meshgrid(gvs[2], gvs[1], indexing='ij')\n",
    "x2_x1_n = np.vstack([GV_X2_n.ravel(), GV_X1_n.ravel()]).T\n",
    "x2_x1 = utils.apply(M[1:, 1:], x2_x1_n) + center[1:]\n",
    "GV_X2 = x2_x1[:, 0].reshape(GV_X2_n.shape)\n",
    "GV_X1 = x2_x1[:, 1].reshape(GV_X1_n.shape)\n",
    "\n",
    "fig, axes = pplt.subplots(ncols=2, figwidth=8, sharey=False, sharex=False)\n",
    "for ax, (grid1, grid2), pts in zip(axes, [(GV_X2, GV_X1), (GV_X2_n, GV_X1_n)], [pl_points, pl_points_n]):\n",
    "    _h1 = ax.plot(grid1.T, grid2.T, color='black', alpha=0.2, lw=3)\n",
    "    _h2 = ax.plot(pts[:, 1], pts[:, 2], color='black', marker='.', ms=2, lw=0.5)\n",
    "axes.format(xlabel='x2', ylabel='x1')\n",
    "axes[0].legend([_h1, _h2], labels=['grid', 'scan rb'], loc='upper left')\n",
    "axes[1].format(title='Normalized')\n",
    "plt.savefig('_output/x1-x2-grid.png')"
   ]
  },
  {
   "cell_type": "markdown",
   "id": "d0e0f282-383c-48d2-9c58-ea49abd4598f",
   "metadata": {},
   "source": [
    "Obtain 3D grid coordinates."
   ]
  },
  {
   "cell_type": "code",
   "execution_count": null,
   "id": "7a332117-8671-419d-bf2a-b602dbbce918",
   "metadata": {},
   "outputs": [],
   "source": [
    "X1 = np.repeat(GV_X1[:, :, np.newaxis], N_PTS_Y, axis=2)\n",
    "X2 = np.repeat(GV_X2[:, :, np.newaxis], N_PTS_Y, axis=2)\n",
    "Y1 = np.zeros(X1.shape)\n",
    "for i in range(Y1.shape[0]):\n",
    "    for j in range(Y1.shape[1]):\n",
    "        Y1[i, j, :] = y1_gv"
   ]
  },
  {
   "cell_type": "code",
   "execution_count": null,
   "id": "7defbf2c-33c8-4153-9ba3-826c45f859aa",
   "metadata": {},
   "outputs": [],
   "source": [
    "fig, axes = pplt.subplots(nrows=3, figsize=(5, 4), spany=False, aligny=True)\n",
    "for ax, G, ylabel in zip(axes, [X1, X2, Y1], [\"x1 [mm]\", \"x2 [mm]\", \"y1 [mm]\"]):\n",
    "    ax.plot(G.ravel(), color='black')\n",
    "    ax.format(ylabel=ylabel)\n",
    "axes.format(xlabel='Step')\n",
    "plt.savefig('_output/acts_black.png')"
   ]
  },
  {
   "cell_type": "code",
   "execution_count": null,
   "id": "8265f975-c130-46fb-9e94-ffda0adbce0f",
   "metadata": {},
   "outputs": [],
   "source": [
    "coord_3d = np.stack([X1, X2, Y1], axis=0)\n",
    "print(f'coord_3d.shape = {coord_3d.shape}')"
   ]
  },
  {
   "cell_type": "code",
   "execution_count": null,
   "id": "d657add5-2c03-4040-b3e6-399841d8275a",
   "metadata": {},
   "outputs": [],
   "source": [
    "savefilename = f'_output/coordinates3d_raw_{filename}.npy'\n",
    "np.save(savefilename, coord_3d)"
   ]
  },
  {
   "cell_type": "markdown",
   "id": "f56b4805-f5fc-4413-b9dc-2f511fd9a198",
   "metadata": {
    "tags": []
   },
   "source": [
    "## Save 5D array as memory map "
   ]
  },
  {
   "cell_type": "code",
   "execution_count": null,
   "id": "893e86ff-a4b0-41bf-9e23-49e7f0447bf7",
   "metadata": {},
   "outputs": [],
   "source": [
    "shape = [len(gvs[2]), len(gvs[1])] + list(arr3d.shape)  # [x1, x2, y1, y3, x3]\n",
    "shape = tuple(shape)\n",
    "info['rawgrid_shape'] = shape\n",
    "print('shape:', shape)"
   ]
  },
  {
   "cell_type": "code",
   "execution_count": null,
   "id": "f7ef9f6e-ab70-4894-888b-f36980b2f2f1",
   "metadata": {},
   "outputs": [],
   "source": [
    "im_dtype = get_image(0).dtype\n",
    "info['im_dtype'] = im_dtype\n",
    "print('image dtype:', im_dtype)"
   ]
  },
  {
   "cell_type": "code",
   "execution_count": null,
   "id": "c6fe3d1a-775c-4508-870e-0995aafc6a4d",
   "metadata": {},
   "outputs": [],
   "source": [
    "utils.save_pickle('_output/info.pkl', info)\n",
    "file = open('_output/info.txt', 'w')\n",
    "for key, value in info.items():\n",
    "    file.write(f'{key}: {value}\\n')\n",
    "file.close()"
   ]
  },
  {
   "cell_type": "code",
   "execution_count": null,
   "id": "81ee9610-5df8-46bf-8b66-32f9f1bf0a21",
   "metadata": {
    "scrolled": true,
    "tags": []
   },
   "outputs": [],
   "source": [
    "savefilename = f'_output/f_raw_{filename}.mmp'\n",
    "f_raw = np.memmap(savefilename, shape=shape, dtype=im_dtype, mode='w+') \n",
    "for i in trange(POINTS2D.shape[0]):\n",
    "    for j in range(POINTS2D.shape[1]):\n",
    "        try:\n",
    "            iteration = POINTS2D[i, j]\n",
    "            idx = idx_bin[iteration]\n",
    "            im3d = np.array([get_image(k) for k in idx])\n",
    "            if SMOOTH:\n",
    "                im3d = ndimage.median_filter(im3d, size=(3, 1, 1), mode='constant', cval=0.0) \n",
    "            y1_vals = data_sc[idx, 'y_PositionSync']\n",
    "            f_raw[i, j, :, :, :] = ip.interp_along_axis(im3d, y1_vals, y1_gv, axis=0, kind=interp_method)\n",
    "        except IndexError:\n",
    "            print(f'No points in grid bin ({i}, {j})')\n",
    "            f_raw[i, j, :, :, :] = 0\n",
    "del f_raw"
   ]
  },
  {
   "cell_type": "code",
   "execution_count": null,
   "id": "64b8dc0e-2bb0-4135-bfd8-cc8dfc6dac61",
   "metadata": {},
   "outputs": [],
   "source": [
    "f_raw = np.memmap(savefilename, shape=shape, dtype=im_dtype) "
   ]
  },
  {
   "cell_type": "code",
   "execution_count": null,
   "id": "7950a637-7481-4782-8e3f-82f144f68035",
   "metadata": {},
   "outputs": [],
   "source": []
  }
 ],
 "metadata": {
  "kernelspec": {
   "display_name": "myenv",
   "language": "python",
   "name": "myenv"
  },
  "language_info": {
   "codemirror_mode": {
    "name": "ipython",
    "version": 3
   },
   "file_extension": ".py",
   "mimetype": "text/x-python",
   "name": "python",
   "nbconvert_exporter": "python",
   "pygments_lexer": "ipython3",
   "version": "3.9.7"
  },
  "toc-autonumbering": true,
  "toc-showmarkdowntxt": false,
  "toc-showtags": false
 },
 "nbformat": 4,
 "nbformat_minor": 5
}
