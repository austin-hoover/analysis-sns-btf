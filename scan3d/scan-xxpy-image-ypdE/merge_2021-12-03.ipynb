{
 "cells": [
  {
   "cell_type": "markdown",
   "id": "129c3f1b-a272-46e8-ba26-2c814b431d6c",
   "metadata": {
    "tags": []
   },
   "source": [
    "# Merge 2021-12-03"
   ]
  },
  {
   "cell_type": "markdown",
   "id": "0b59b23d-84b7-40f9-8dfd-46d6dd939e37",
   "metadata": {},
   "source": [
    "This notebook merges the two datasets from 2022-12-03 into one H5 file. This is for convenient use in the analysis pipeline."
   ]
  },
  {
   "cell_type": "code",
   "execution_count": null,
   "id": "7bc5f5bf-a777-4cbf-a9c7-02547a5191fd",
   "metadata": {},
   "outputs": [],
   "source": [
    "import sys\n",
    "import os\n",
    "from os.path import join\n",
    "import shutil\n",
    "from datetime import datetime\n",
    "import importlib\n",
    "import json\n",
    "import numpy as np\n",
    "import pandas as pd\n",
    "import h5py\n",
    "import skimage\n",
    "from tqdm import trange\n",
    "from tqdm import tqdm\n",
    "from matplotlib import pyplot as plt\n",
    "from matplotlib import patches\n",
    "import proplot as pplt\n",
    "\n",
    "sys.path.append('../..')\n",
    "from tools import energyVS06 as energy\n",
    "from tools import image_processing as ip\n",
    "from tools import plotting as mplt"
   ]
  },
  {
   "cell_type": "code",
   "execution_count": null,
   "id": "38bc9335-4d1a-4afb-bded-f1b825effecf",
   "metadata": {},
   "outputs": [],
   "source": [
    "pplt.rc['cmap.discrete'] = False\n",
    "pplt.rc['cmap.sequential'] = 'viridis'\n",
    "pplt.rc['grid'] = False"
   ]
  },
  {
   "cell_type": "code",
   "execution_count": null,
   "id": "861f7b1c-8469-4279-aa8a-af27ee47bede",
   "metadata": {},
   "outputs": [],
   "source": [
    "folder = '/Diagnostics/Data/Measurements/scan-xxpy-image-ypdE/2021-12-03/'\n",
    "os.listdir(folder)"
   ]
  },
  {
   "cell_type": "code",
   "execution_count": null,
   "id": "abc32faa-d60e-4a9c-8b02-427c19e850cb",
   "metadata": {},
   "outputs": [],
   "source": [
    "t1 = '211203151919'\n",
    "t2 = '211203192701'\n",
    "timestamps = [t1, t2]"
   ]
  },
  {
   "cell_type": "markdown",
   "id": "31879f56-e500-4c40-90a9-5fc4d8386012",
   "metadata": {},
   "source": [
    "Merge the H5 files."
   ]
  },
  {
   "cell_type": "code",
   "execution_count": null,
   "id": "7f061101-e61c-4bd9-9f28-ffe65cdd0454",
   "metadata": {},
   "outputs": [],
   "source": [
    "files = []\n",
    "for timestamp in timestamps:\n",
    "    filename = join(folder, timestamp + '-scan-xxpy-image-ypdE.h5')\n",
    "    files.append(h5py.File(filename))"
   ]
  },
  {
   "cell_type": "code",
   "execution_count": null,
   "id": "7addbb3e-0fbf-4021-a246-7b5d50e13c3a",
   "metadata": {},
   "outputs": [],
   "source": [
    "nrows = sum([len(file['scandata']) for file in files])"
   ]
  },
  {
   "cell_type": "code",
   "execution_count": null,
   "id": "f35881b6-8412-4f51-a6da-e45226cd33db",
   "metadata": {},
   "outputs": [],
   "source": [
    "dtype = files[0]['scandata'].dtype"
   ]
  },
  {
   "cell_type": "code",
   "execution_count": null,
   "id": "6e12e149-562a-484a-a0c8-89610e09ca2e",
   "metadata": {},
   "outputs": [],
   "source": [
    "file_out = h5py.File(join(folder, f'merged2-{t1}-{t2}-scan-xxpy-image-ypdE.h5'), mode='w')\n",
    "data_out = file_out.create_dataset('scandata', (nrows,), dtype=dtype)\n",
    "istart = 0\n",
    "for file in files:\n",
    "    data = file['scandata']\n",
    "    for i in trange(len(data)):\n",
    "        for name in data.dtype.names:\n",
    "            data_out[i + istart, name] = data[i, name]\n",
    "    istart += len(data)\n",
    "    file.close()\n",
    "file_out.close()"
   ]
  },
  {
   "cell_type": "markdown",
   "id": "31012775-bbed-44d0-90ff-a4be72ba759b",
   "metadata": {},
   "source": [
    "Copy the csv file for convenience. The csv file in the original data set contains all the planned points."
   ]
  },
  {
   "cell_type": "code",
   "execution_count": null,
   "id": "97bb65bc-87e7-45a6-b6ea-a4ed51407eb3",
   "metadata": {},
   "outputs": [],
   "source": [
    "shutil.copyfile(\n",
    "    join(folder, f'{t1}-scan-xxpy-image-ypdE.csv'),\n",
    "    join(folder, f'merged2-{t1}-{t2}-scan-xxpy-image-ypdE.csv'),\n",
    ")"
   ]
  },
  {
   "cell_type": "markdown",
   "id": "c8d24e0f-03bb-48c7-9d2e-ac86f22ffebd",
   "metadata": {},
   "source": [
    "Copy the JSON file for convenience."
   ]
  },
  {
   "cell_type": "code",
   "execution_count": null,
   "id": "a52cf6cc-81ea-4d05-b4cf-3b8063b3f71f",
   "metadata": {},
   "outputs": [],
   "source": [
    "shutil.copyfile(\n",
    "    join(folder, f'{t1}-scan-xxpy-image-ypdE-metadata.json'),\n",
    "    join(folder, f'merged2-{t1}-{t2}-scan-xxpy-image-ypdE-metadata.json'),\n",
    ")"
   ]
  }
 ],
 "metadata": {
  "kernelspec": {
   "display_name": "myenv",
   "language": "python",
   "name": "myenv"
  },
  "language_info": {
   "codemirror_mode": {
    "name": "ipython",
    "version": 3
   },
   "file_extension": ".py",
   "mimetype": "text/x-python",
   "name": "python",
   "nbconvert_exporter": "python",
   "pygments_lexer": "ipython3",
   "version": "3.9.7"
  },
  "toc-autonumbering": true
 },
 "nbformat": 4,
 "nbformat_minor": 5
}
