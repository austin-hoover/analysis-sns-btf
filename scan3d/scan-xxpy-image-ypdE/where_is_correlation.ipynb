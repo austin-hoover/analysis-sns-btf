{
 "cells": [
  {
   "cell_type": "markdown",
   "id": "d57c07ab-d192-4b0c-8548-8d4b1f8bf7f4",
   "metadata": {},
   "source": [
    "# Locating longitudinal-transverse correlations in phase space "
   ]
  },
  {
   "cell_type": "markdown",
   "id": "28e013f3-15f0-4c1d-b6a6-5db79d6a8f1c",
   "metadata": {},
   "source": [
    "The goal of this notebook is to identify the \"width\" of the measured longitudinal-transverse correlation in the phase space distribution of the BTF bunch at the first emittance station. We will look at the energy distribution of particles within a boundary in 4D transverse phase space."
   ]
  },
  {
   "cell_type": "code",
   "execution_count": null,
   "id": "bde7f506-2600-46d2-b1cc-86b60b566413",
   "metadata": {},
   "outputs": [],
   "source": [
    "import sys\n",
    "import os\n",
    "from os.path import join\n",
    "import importlib\n",
    "import numpy as np\n",
    "import h5py\n",
    "import itertools\n",
    "from tqdm.notebook import tqdm\n",
    "from tqdm.notebook import trange\n",
    "from plotly import graph_objects as go\n",
    "from matplotlib import pyplot as plt\n",
    "from ipywidgets import interactive\n",
    "from ipywidgets import widgets\n",
    "import proplot as pplt\n",
    "\n",
    "sys.path.append('../../')\n",
    "from tools import plotting as mplt\n",
    "from tools import utils\n",
    "from tools.utils import project\n",
    "from tools import analysis as ba"
   ]
  },
  {
   "cell_type": "code",
   "execution_count": null,
   "id": "27b21d49-8ae0-4e4e-9d31-18f30b35f6d3",
   "metadata": {},
   "outputs": [],
   "source": [
    "pplt.rc['grid'] = False\n",
    "pplt.rc['cmap.discrete'] = False\n",
    "pplt.rc['cmap.sequential'] = 'viridis'\n",
    "pplt.rc['figure.facecolor'] = 'white'"
   ]
  },
  {
   "cell_type": "markdown",
   "id": "e9d46027-149d-445c-8419-82b0f656e35e",
   "metadata": {},
   "source": [
    "## Load data "
   ]
  },
  {
   "cell_type": "code",
   "execution_count": null,
   "id": "771b6980-e1cb-4aaa-b674-9dd5b457f711",
   "metadata": {},
   "outputs": [],
   "source": [
    "folder = '_saved/2022-07-15-VS06/'"
   ]
  },
  {
   "cell_type": "code",
   "execution_count": null,
   "id": "999ab03d-314a-4ad8-9595-1dae7f5121a6",
   "metadata": {},
   "outputs": [],
   "source": [
    "info = utils.load_pickle(join(folder, 'info.pkl'))\n",
    "info"
   ]
  },
  {
   "cell_type": "code",
   "execution_count": null,
   "id": "aa667a98-9d95-4163-9f51-45d1360cd93f",
   "metadata": {},
   "outputs": [],
   "source": [
    "filename = info['filename']\n",
    "coords = utils.load_stacked_arrays(join(folder, f'coords_{filename}.npz'))\n",
    "shape = tuple([len(c) for c in coords])\n",
    "print('shape:', shape)"
   ]
  },
  {
   "cell_type": "code",
   "execution_count": null,
   "id": "96cbe823-0da8-4033-a64b-7ed46bfd8832",
   "metadata": {},
   "outputs": [],
   "source": [
    "f = np.memmap(join(folder, f'f_{filename}.mmp'), shape=shape, dtype='float', mode='r')"
   ]
  },
  {
   "cell_type": "markdown",
   "id": "6bbda023-3a46-4974-9239-a92d18ea431f",
   "metadata": {},
   "source": [
    "Crop the 5D array."
   ]
  },
  {
   "cell_type": "code",
   "execution_count": null,
   "id": "0b03917b-cf03-4716-b275-f90c93693bab",
   "metadata": {},
   "outputs": [],
   "source": [
    "dims = [\"x\", \"x'\", \"y\", \"y'\", \"w\"]\n",
    "units = [\"mm\", \"mrad\", \"mm\", \"mrad\", \"MeV\"]\n",
    "dims_units = [f'{d} [{u}]' for d, u in zip(dims, units)]\n",
    "prof_kws = dict(lw=0.5, alpha=0.7, color='white', scale=0.12)"
   ]
  },
  {
   "cell_type": "code",
   "execution_count": null,
   "id": "af35674e-494c-426a-aa52-7675c7a4daaf",
   "metadata": {},
   "outputs": [],
   "source": [
    "prof = []\n",
    "for i in range(5):\n",
    "    p = utils.project(f, i)\n",
    "    p = p / np.sum(p)\n",
    "    prof.append(p)"
   ]
  },
  {
   "cell_type": "code",
   "execution_count": null,
   "id": "0f478fcc-0336-4c99-9ed4-760e2694dfb2",
   "metadata": {},
   "outputs": [],
   "source": [
    "for i in range(5):\n",
    "    coords[i] = coords[i] - np.average(coords[i], weights=prof[i]) "
   ]
  },
  {
   "cell_type": "code",
   "execution_count": null,
   "id": "27af812b-7005-4571-b9dc-f5bc65662f08",
   "metadata": {},
   "outputs": [],
   "source": [
    "crop = (\n",
    "    (0, f.shape[0]),\n",
    "    (10, f.shape[1] - 10),\n",
    "    (0, f.shape[2]),\n",
    "    (16, f.shape[3] - 16),\n",
    "    (12, f.shape[4] - 19),\n",
    ")\n",
    "\n",
    "fig, axes = pplt.subplots(ncols=5, figwidth=7, spanx=False, figheight=None)\n",
    "for i, ax in enumerate(axes):\n",
    "    ax.plot(prof[i], color='black')\n",
    "    ax.axvspan(crop[i][0], crop[i][1] - 1, color='black', alpha=0.1)\n",
    "    ax.format(xlabel=dims[i] + ' [pixel]')\n",
    "# axes.format(yscale='log')\n",
    "plt.show()"
   ]
  },
  {
   "cell_type": "code",
   "execution_count": null,
   "id": "cbfc3665-d730-4539-b11b-9854b01e5768",
   "metadata": {},
   "outputs": [],
   "source": [
    "ind = tuple([slice(c[0], c[1]) for c in crop])\n",
    "f = f[ind]\n",
    "coords = [c[ind[i]] for i, c in enumerate(coords)]"
   ]
  },
  {
   "cell_type": "markdown",
   "id": "37c32305-fbfa-48f8-b182-8347cd27a1cb",
   "metadata": {},
   "source": [
    "Clip small negative values."
   ]
  },
  {
   "cell_type": "code",
   "execution_count": null,
   "id": "fddf7705-b2e7-4180-a0bb-5ac824466282",
   "metadata": {},
   "outputs": [],
   "source": [
    "f_max = np.max(f)\n",
    "f_min = np.min(f)\n",
    "if f_min < 0.0:\n",
    "    print(f'min(f) = {f_min}')\n",
    "    print('Clipping to zero.')\n",
    "    f = np.clip(f, 0.0, None)"
   ]
  },
  {
   "cell_type": "code",
   "execution_count": null,
   "id": "6bc4f804-a5c6-432d-b02c-c625d117103a",
   "metadata": {},
   "outputs": [],
   "source": [
    "f = f / f_max"
   ]
  },
  {
   "cell_type": "markdown",
   "id": "09ef47ab-5440-442b-b14e-76cbc1d9d56f",
   "metadata": {},
   "source": [
    "## Rectangular slices"
   ]
  },
  {
   "cell_type": "markdown",
   "id": "0cff55d1-81e7-4da6-bf9c-efbb2b50b8f6",
   "metadata": {},
   "source": [
    "### 2D projections "
   ]
  },
  {
   "cell_type": "markdown",
   "id": "6818acdf-42df-4918-9078-3cc954700942",
   "metadata": {},
   "source": [
    "First view the 2D projections at integer slices. "
   ]
  },
  {
   "cell_type": "code",
   "execution_count": null,
   "id": "7533e693-e4cb-4c9a-bb0b-b1c9e98bf6c2",
   "metadata": {},
   "outputs": [],
   "source": [
    "mplt.interactive_proj2d(f, coords=coords, dims=dims, units=units, slice_type='int')"
   ]
  },
  {
   "cell_type": "markdown",
   "id": "721d55d9-60be-49dd-9bab-2610a26f0cdb",
   "metadata": {},
   "source": [
    "And at range slices."
   ]
  },
  {
   "cell_type": "code",
   "execution_count": null,
   "id": "781c2d37-dc10-4694-8277-baadd6623b86",
   "metadata": {},
   "outputs": [],
   "source": [
    "mplt.interactive_proj2d(f, coords=coords, dims=dims, units=units,\n",
    "                        slice_type='range')"
   ]
  },
  {
   "cell_type": "code",
   "execution_count": null,
   "id": "3dec169b-da3d-4db5-a9c4-77de6920d4d8",
   "metadata": {},
   "outputs": [],
   "source": [
    "frac_thresh = 10.0**-3.5"
   ]
  },
  {
   "cell_type": "markdown",
   "id": "54dd2c16-fcd0-4ec1-90cd-6e7e521fc89b",
   "metadata": {},
   "source": [
    "And all 2D projections."
   ]
  },
  {
   "cell_type": "code",
   "execution_count": null,
   "id": "00b1aa5b-2afd-4065-a3a5-a01bda2f6fda",
   "metadata": {},
   "outputs": [],
   "source": [
    "axes = mplt.corner(\n",
    "    f,\n",
    "    coords=coords,\n",
    "    diag_kind='None',\n",
    "    labels=dims_units,\n",
    "    norm='log', \n",
    "    handle_log='floor',\n",
    "    thresh=frac_thresh,\n",
    "    thresh_type='frac',\n",
    "    prof='edges',\n",
    "    prof_kws=dict(lw=0.5, alpha=0.7, color='white', scale=0.12),\n",
    "    linewidth=0, rasterized=True,\n",
    ")\n",
    "axes.format(xlabel_kw=dict(fontsize='large'), ylabel_kw=dict(fontsize='large'))"
   ]
  },
  {
   "cell_type": "markdown",
   "id": "6392c873-8a09-4522-9ae1-2282adc46571",
   "metadata": {},
   "source": [
    "### 1D projections "
   ]
  },
  {
   "cell_type": "code",
   "execution_count": null,
   "id": "a5766e00-a16f-4a37-929e-ab8cbf67be47",
   "metadata": {},
   "outputs": [],
   "source": [
    "mplt.interactive_proj1d(f, coords=coords, dims=dims, units=units, default_ind=4,\n",
    "                        kind='line', slice_type='int')"
   ]
  },
  {
   "cell_type": "code",
   "execution_count": null,
   "id": "e98a4c18-8f28-4464-a845-6288ba6ac363",
   "metadata": {},
   "outputs": [],
   "source": [
    "mplt.interactive_proj1d(f, coords=coords, dims=dims, units=units, default_ind=4,\n",
    "                        kind='line', slice_type='range')"
   ]
  },
  {
   "cell_type": "code",
   "execution_count": null,
   "id": "789478ed-f7c5-4533-bdbf-39013270df00",
   "metadata": {},
   "outputs": [],
   "source": [
    "# pplt.rc['pdf.fonttype'] = 42"
   ]
  },
  {
   "cell_type": "code",
   "execution_count": null,
   "id": "96c8532c-2e43-4a7f-a281-7b999bc3082f",
   "metadata": {},
   "outputs": [],
   "source": [
    "_ind = [np.argmin(np.abs(c)) for c in coords]\n",
    "\n",
    "fig, axes = pplt.subplots(ncols=4, figwidth=4.5, figheight=1.35)\n",
    "axes.format(xlabel=\"w [MeV]\", yticklabels=[], xlim=(-0.065, 0.065))\n",
    "for i, ax in enumerate(axes):\n",
    "    idx = utils.make_slice(4, np.arange(i + 1), _ind[:i+1])\n",
    "    \n",
    "    frac = np.sum(f[idx]) / np.sum(f)\n",
    "    \n",
    "    pw = project(f[idx], 3 - i)\n",
    "    pw = pw / np.sum(pw)\n",
    "    ax.bar(coords[4], pw, color='black', width=1)\n",
    "    title = \"\"\n",
    "    for j in range(i + 1):\n",
    "        title += r\"${} \\approx$\".format(dims[j])\n",
    "    title += \"0\"\n",
    "    title += f\"\\n({100.0*frac:.2f}%)\"\n",
    "    ax.format(title=title, title_kw=dict(fontsize='medium'))\n",
    "axes.format(ylim=(0.0, axes[0].get_ylim()[1]), \n",
    "            xspineloc='bottom', yspineloc='neither', \n",
    "            # ylabel='Density'\n",
    "           )\n",
    "# for png in [False, True]:\n",
    "#     figname = '_output/w_slices'\n",
    "#     if png:\n",
    "#         figname += '.png'\n",
    "#     plt.savefig(figname)"
   ]
  },
  {
   "cell_type": "markdown",
   "id": "a5507dd0-d335-4295-97af-8fd9c76f1e04",
   "metadata": {},
   "source": [
    "## Contour slices"
   ]
  },
  {
   "cell_type": "markdown",
   "id": "b3fe5917-7992-4779-b48a-e46bdb46cfda",
   "metadata": {},
   "source": [
    "We can also use contour slices — volumes defined by density contours."
   ]
  },
  {
   "cell_type": "markdown",
   "id": "4b86205e-cee3-4294-84d0-f6e7a815dd0d",
   "metadata": {},
   "source": [
    "### Energy distribution "
   ]
  },
  {
   "cell_type": "markdown",
   "id": "e2848f08-a84e-45a6-95ad-6e5729187353",
   "metadata": {},
   "source": [
    "Here, we observe the energy distribution within density contours in the 4D transverse phase space."
   ]
  },
  {
   "cell_type": "code",
   "execution_count": null,
   "id": "aa05451b-df7e-4943-8d1a-85237d034783",
   "metadata": {},
   "outputs": [],
   "source": [
    "ftr = project(f, axis=(0, 1, 2, 3))\n",
    "ftr = ftr / np.max(ftr)"
   ]
  },
  {
   "cell_type": "markdown",
   "id": "7701050d-4124-45ad-a625-b9e130eb7263",
   "metadata": {},
   "source": [
    "View the distribution of pixel values in the array."
   ]
  },
  {
   "cell_type": "code",
   "execution_count": null,
   "id": "ccce9196-262d-4d8e-ab6d-09ddd9a04843",
   "metadata": {},
   "outputs": [],
   "source": [
    "fig, ax = pplt.subplots()\n",
    "ax.hist(ftr.ravel(), bins=20, color='black')\n",
    "ax.format(yscale='log', ylabel='Count', xlabel='4D pixel value')\n",
    "plt.show()"
   ]
  },
  {
   "cell_type": "code",
   "execution_count": null,
   "id": "b68c15af-e4c6-4387-ab0a-ee1184e339c4",
   "metadata": {},
   "outputs": [],
   "source": [
    "def energy_proj(f, level=0.5, ftr=None, normalize=True, return_frac=False):\n",
    "    if ftr is None:\n",
    "        ftr = np.sum(f, axis=-1)\n",
    "    ftr = ftr / np.max(ftr)\n",
    "    idx = np.where(ftr > level)\n",
    "    frac = np.sum(ftr[idx]) / np.sum(ftr)\n",
    "    pw = np.sum(f[idx], axis=0)\n",
    "    if normalize:\n",
    "        pw = pw / np.sum(pw)\n",
    "    if return_frac:\n",
    "        return pw, frac\n",
    "    return pw"
   ]
  },
  {
   "cell_type": "code",
   "execution_count": null,
   "id": "abb117ca-90d8-491d-a6f8-703eace04023",
   "metadata": {},
   "outputs": [],
   "source": [
    "def update(thresh):\n",
    "    pw, frac = energy_proj(f, thresh, ftr=ftr, normalize=True, return_frac=True)\n",
    "    fig, ax = pplt.subplots(figsize=(4, 1.5))\n",
    "    ax.format(xlabel=dims_units[4], title=f'frac = {frac:.2f}')\n",
    "    ax.bar(coords[4], pw, color='black')\n",
    "    plt.show()\n",
    "    \n",
    "interactive(update, thresh=(0.0, 0.99, 0.01))"
   ]
  },
  {
   "cell_type": "markdown",
   "id": "3b3e5682-4ad7-49ff-8a2f-8f72d9fd19c1",
   "metadata": {},
   "source": [
    "Here are other plots of the same data."
   ]
  },
  {
   "cell_type": "code",
   "execution_count": null,
   "id": "543201f6-b280-4e51-8249-8eef0c8be9ec",
   "metadata": {},
   "outputs": [],
   "source": [
    "n = 20\n",
    "levels = np.linspace(0.9, 0.0, n)\n",
    "\n",
    "pws, fracs = [], []\n",
    "for level in levels:\n",
    "    pw, frac = energy_proj(f, level, ftr=ftr, normalize=True, return_frac=True)\n",
    "    pws.append(pw)\n",
    "    fracs.append(frac)\n",
    "pws = pws / np.max(pws)"
   ]
  },
  {
   "cell_type": "code",
   "execution_count": null,
   "id": "638ecc96-07fe-4816-bcd1-f5356e297993",
   "metadata": {},
   "outputs": [],
   "source": [
    "fig, ax = pplt.subplots()\n",
    "ax.plot(\n",
    "    levels[::-1], fracs[::-1], color='black',\n",
    "    marker='.', lw=0,\n",
    ")\n",
    "ax.format(xlabel=\"Threshold (x-x'-y-y')\", ylabel='Fraction of particles', xlim=(-0.02, 1.0))"
   ]
  },
  {
   "cell_type": "code",
   "execution_count": null,
   "id": "acba74b3-6b5e-41d0-9403-676dfb9af946",
   "metadata": {},
   "outputs": [],
   "source": [
    "fig, ax = pplt.subplots(figsize=(4, 1.75))\n",
    "ax.pcolormesh(coords[4], levels[::-1], pws[::-1],\n",
    "              colorbar=True, colorbar_kw=dict(label='Density (arb. units)', width=0.1))\n",
    "ax.format(xlabel='Energy [MeV]', ylabel='4D thresh')\n",
    "plt.show()"
   ]
  },
  {
   "cell_type": "code",
   "execution_count": null,
   "id": "fb046f90-f369-4386-8794-1b8ea5d3f654",
   "metadata": {},
   "outputs": [],
   "source": [
    "cmap = pplt.Colormap('fire_r', left=0.0, right=0.9)\n",
    "# cmap = pplt.Colormap('crest', left=0.0, right=1.0)\n",
    "\n",
    "fig, ax = pplt.subplots(figsize=(4, 1.75))\n",
    "ax.plot(coords[4], pws[::-1].T, cycle=cmap, lw=1, colorbar=True, \n",
    "        colorbar_kw=dict(values=levels[::-1], label=\"Threshold (x-x'-y-y')\"))\n",
    "ax.format(xlabel=\"Energy [MeV]\")\n",
    "plt.show()"
   ]
  },
  {
   "cell_type": "code",
   "execution_count": null,
   "id": "c833ed6d-76b1-44a1-8940-475698abbfe4",
   "metadata": {},
   "outputs": [],
   "source": [
    "fig, ax = pplt.subplots(figsize=(4.5, 1.55))\n",
    "\n",
    "alpha = 0.3\n",
    "color = 'red6'\n",
    "ax2 = ax.alty(color=color)\n",
    "ax2.format(ylabel='Fraction of beam', \n",
    "           yscale='log', \n",
    "           ylim=(0.001, 1.0))\n",
    "\n",
    "_levels = np.linspace(0.0, 0.95, 35)\n",
    "_fracs = [energy_proj(f, _level, ftr=ftr, normalize=True, return_frac=True)[1]\n",
    "          for _level in _levels]\n",
    "ax2.plot(_levels[::-1], _fracs[::-1], zorder=0, color=color, alpha=alpha, lw=1.25)\n",
    "\n",
    "for level, pw in zip(levels, pws):\n",
    "    ax.plotx(coords[4], level + 0.045 * pw, \n",
    "             # color='black', alpha=0.3,\n",
    "             color='black', alpha=1,\n",
    "             zorder=999999)\n",
    "ax.format(\n",
    "    ylabel='Energy [MeV]', \n",
    "    xlabel=\"Threshold (x-x'-y-y')\",\n",
    "    ylim=(-0.09, 0.09), xlim=(-0.03, 0.97),\n",
    ")\n",
    "# plt.savefig('_output/waterfall')"
   ]
  },
  {
   "cell_type": "code",
   "execution_count": null,
   "id": "edad21b6-d3f2-4836-84b5-49f578c5e538",
   "metadata": {},
   "outputs": [],
   "source": [
    "# Z = pws[::-1]\n",
    "# X, Y = np.meshgrid(levels[::-1], coords[4], indexing='ij')    \n",
    "# lines = []\n",
    "# line_marker = dict(color='black', width=3)\n",
    "# for x, y, z in zip(X, Y, Z):\n",
    "#     lines.append(go.Scatter3d(x=x, y=y, z=z, mode='lines', line=line_marker))\n",
    "# uaxis= dict(\n",
    "#     gridcolor='rgb(255, 255, 255)',\n",
    "#     zerolinecolor='rgb(255, 255, 255)',\n",
    "#     showbackground=True,\n",
    "#     backgroundcolor='rgb(230, 230,230)',\n",
    "# )\n",
    "# layout = go.Layout(\n",
    "#     width=500,\n",
    "#     height=500,\n",
    "#     showlegend=False,\n",
    "#     scene=dict(\n",
    "#         xaxis=uaxis, \n",
    "#         yaxis=uaxis,\n",
    "#         zaxis=uaxis,\n",
    "#     ),\n",
    "# )\n",
    "# fig = go.Figure(data=lines, layout=layout)\n",
    "# fig.show()"
   ]
  },
  {
   "cell_type": "code",
   "execution_count": null,
   "id": "23fab70b-aa70-441c-adaa-e16d6b197f40",
   "metadata": {},
   "outputs": [],
   "source": [
    "# fig = go.Figure(data=[go.Surface(x=levels[::-1], y=coords[4], z=pws[::-1].T)])\n",
    "# fig.update_layout(width=500, height=500)\n",
    "# fig.show()"
   ]
  },
  {
   "cell_type": "markdown",
   "id": "f583d42c-e71c-45bd-ade9-b82dcd4f1211",
   "metadata": {},
   "source": [
    "Plot the 2D projections of the 4D phase space distribution as the boundary is changed, along with the energy distribution within the boundary."
   ]
  },
  {
   "cell_type": "code",
   "execution_count": null,
   "id": "1cb0c846-3755-4081-9a47-bf8aba7f0ee6",
   "metadata": {},
   "outputs": [],
   "source": [
    "def update(log=False, thresh=0.5):\n",
    "    global ftr \n",
    "    frac = np.sum(ftr[ftr > thresh]) / np.sum(ftr)\n",
    "    print(f'frac = {frac:.4f}')\n",
    "    axes = mplt.corner(\n",
    "        np.ma.masked_where(ftr < thresh, ftr),\n",
    "        coords=coords[:4],\n",
    "        diag_kind='None',\n",
    "        labels=dims_units,\n",
    "        thresh=10.0**-3.0,\n",
    "        thresh_type='frac',\n",
    "        fill_value=0.0,\n",
    "        norm='log' if log else None,\n",
    "        handle_log='floor',\n",
    "        prof='edges',\n",
    "        prof_kws=dict(kind='step', lw=0.4, alpha=0.8),\n",
    "        linewidth=0,rasterized=True\n",
    "    )\n",
    "    pw = energy_proj(f, thresh, ftr=ftr, normalize=True)\n",
    "    ax = axes[0, 2]\n",
    "    for i in range(3):\n",
    "        for j in range(i + 1):\n",
    "            axes[i, j]._shared_x_axes.remove(ax)\n",
    "            axes[i, j]._shared_y_axes.remove(ax)\n",
    "    ax.axis('on')\n",
    "    ax.plot(coords[4], pw, color='black')\n",
    "    ax.format(\n",
    "        xlim=(np.min(coords[4]), np.max(coords[4])),\n",
    "        ylim=(0, 0.1),\n",
    "        xspineloc='bottom', yspineloc='left',\n",
    "        title='energy projection',\n",
    "    )\n",
    "    return axes, frac\n",
    "    \n",
    "interactive(update, log=False, thresh=(0.0, 0.99, 0.01))"
   ]
  },
  {
   "cell_type": "markdown",
   "id": "6007dfa2-e173-41a4-b95b-820392bc97f2",
   "metadata": {},
   "source": [
    "Plot the 2D projections of the 5D phase space distribution as the 4D boundary is changed. To slice the array, we compute a 4D mask in the transverse phase space, then copy the mask along the last axis of the array to get a 5D mask. *This is very slow.*"
   ]
  },
  {
   "cell_type": "code",
   "execution_count": null,
   "id": "cf71f52e-c56a-493a-8744-3aed41f9eb7e",
   "metadata": {},
   "outputs": [],
   "source": [
    "def mask_4d(f, thresh=0.0, ftr=None):\n",
    "    \"\"\"Mask N-D array `f` based on contours of `f.sum(axis=-1)`.\"\"\"\n",
    "    if ftr is None:\n",
    "        ftr = np.sum(f, axis=-1)\n",
    "        ftr = ftr / np.max(ftr)\n",
    "    condition = utils.copy_into_new_dim(ftr < thresh, f.shape[-1])\n",
    "    return np.ma.masked_where(condition, f)"
   ]
  },
  {
   "cell_type": "code",
   "execution_count": null,
   "id": "49ecb71e-56e9-4646-9db6-047fa2fe3f35",
   "metadata": {},
   "outputs": [],
   "source": [
    "def update(log, thresh):\n",
    "    axes = mplt.corner(\n",
    "        mask_4d(f, thresh, ftr=ftr),\n",
    "        coords=coords,\n",
    "        diag_kind='None',\n",
    "        labels=dims_units,\n",
    "        thresh=10.0**-3.0,\n",
    "        thresh_type='frac',\n",
    "        fill_value=0.0,\n",
    "        norm='log' if log else None,\n",
    "        handle_log='floor',\n",
    "        prof='edges',\n",
    "        prof_kws=dict(kind='step', lw=0.4, alpha=0.8),\n",
    "    )\n",
    "    plt.show()\n",
    "    \n",
    "interactive(update, log=False, thresh=(0.0, 0.99, 0.01))"
   ]
  },
  {
   "cell_type": "markdown",
   "id": "1dc36289-b543-4527-9894-74412e98cdbc",
   "metadata": {},
   "source": [
    "### Repeat for any 1D or 2D projection"
   ]
  },
  {
   "cell_type": "code",
   "execution_count": null,
   "id": "22fe9c44-7bba-4409-993f-68e7452692c8",
   "metadata": {},
   "outputs": [],
   "source": [
    "def proj1d_mask(f, thresh=0.1, fpr=None, normalize=True, return_frac=False, axis=0):\n",
    "    axis_proj = [i for i in range(f.ndim) if i != axis]\n",
    "    if fpr is None:\n",
    "        fpr = utils.project(f, axis_proj)\n",
    "    fpr = fpr / np.max(fpr)\n",
    "    idx = np.where(fpr > thresh)\n",
    "    frac = np.sum(fpr[idx]) / np.sum(fpr)\n",
    "    \n",
    "    idx = utils.make_slice(f.ndim, axis_proj, idx)    \n",
    "    p = np.sum(f[idx], axis=int(axis == 0))\n",
    "\n",
    "    if normalize:\n",
    "        p = p / np.sum(p)\n",
    "    if return_frac:\n",
    "        return p, frac\n",
    "    return p"
   ]
  },
  {
   "cell_type": "code",
   "execution_count": null,
   "id": "45f6eb3c-23e5-4630-a715-c169d35a90cc",
   "metadata": {},
   "outputs": [],
   "source": [
    "def update(thresh, dim):\n",
    "    axis = dims.index(dim)\n",
    "    p, frac = proj1d_mask(f, thresh, normalize=True, return_frac=True, axis=axis)\n",
    "    \n",
    "    fig, ax = pplt.subplots(figsize=(4, 1.5))\n",
    "    ax.format(xlabel=dims_units[axis], title=f'frac = {frac:.2f}')\n",
    "    ax.bar(coords[axis], p, color='black')\n",
    "    plt.show()\n",
    "    \n",
    "thresh = widgets.FloatSlider(description='4D thresh', min=0.0, max=0.99, value=0.5, step=0.001)\n",
    "interactive(update, thresh=thresh, dim=reversed(dims))"
   ]
  },
  {
   "cell_type": "code",
   "execution_count": null,
   "id": "63d13c02-0cf9-4dd1-a290-a68c9eabc892",
   "metadata": {},
   "outputs": [],
   "source": [
    "def proj2d_mask(f, thresh=0.1, fpr=None, normalize=True, return_frac=False, axis=(2, 3)):\n",
    "    # Compute 3D mask.\n",
    "    axis_proj = [i for i in range(f.ndim) if i not in axis]\n",
    "    if fpr is None:\n",
    "        fpr = utils.project(f, axis_proj)\n",
    "    fpr = fpr / np.max(fpr)\n",
    "    mask = fpr < thresh\n",
    "    frac = np.sum(fpr[~mask]) / np.sum(fpr)\n",
    "\n",
    "    # Copy 3D mask into the two projected dimensions.\n",
    "    mask = utils.copy_into_new_dim(mask, (f.shape[axis[0]], f.shape[axis[1]]), axis=-1, copy=True)\n",
    "    # Put the dimensions in the correct order.        \n",
    "    isort = np.argsort(list(axis_proj) + list(axis))\n",
    "    mask = np.moveaxis(mask, isort, np.arange(5))\n",
    "    \n",
    "    # Now project the masked 5D array onto the specified axis.    \n",
    "    im = utils.project(np.ma.masked_array(f, mask=mask), axis=axis)\n",
    "    if return_frac:\n",
    "        return im, frac\n",
    "    return im"
   ]
  },
  {
   "cell_type": "code",
   "execution_count": null,
   "id": "b75fa997-d7ee-4fee-adf9-faef3d7c1959",
   "metadata": {},
   "outputs": [],
   "source": [
    "def update(thresh, dim1, dim2, log=False, **kws):\n",
    "    if dim1 == dim2:\n",
    "        return\n",
    "    axis = [dims.index(dim1), dims.index(dim2)]\n",
    "    im, frac = proj2d_mask(f, thresh, normalize=True, return_frac=True, axis=axis)\n",
    "    print('frac = {}'.format(frac))\n",
    "    \n",
    "    fig, ax = pplt.subplots()\n",
    "    kws['norm'] = 'log' if log else None\n",
    "    kws.setdefault('thresh', 10.0**-3.5)\n",
    "    kws.setdefault('thresh_type', 'frac')\n",
    "    kws.setdefault('colorbar', True)\n",
    "    kws.setdefault('profx', True)\n",
    "    kws.setdefault('profy', True)\n",
    "    ax.format(xlabel=dims_units[axis[0]], ylabel=dims_units[axis[1]], title=f'frac = {frac:.2f}')\n",
    "    mplt.plot_image(im, x=coords[axis[0]], y=coords[axis[1]], ax=ax, **kws)\n",
    "    ax.format(xlim=sorted(ax.get_xlim()))\n",
    "    plt.show()\n",
    "    \n",
    "thresh = widgets.FloatSlider(description='3D thresh', min=0.0, max=0.99, value=0.5, step=0.001)\n",
    "kws = dict()\n",
    "interactive(update, thresh=thresh, dim1=dims, dim2=reversed(dims), log=False)"
   ]
  },
  {
   "cell_type": "markdown",
   "id": "4562845a-867d-4d4a-9c3d-6c4d4488ef9d",
   "metadata": {},
   "source": [
    "## Radial density"
   ]
  },
  {
   "cell_type": "code",
   "execution_count": null,
   "id": "90348e8e-0615-42cf-a0d0-b6e29dfa81c9",
   "metadata": {},
   "outputs": [],
   "source": [
    "f[f < 10.0**-3.5] = 0.0"
   ]
  },
  {
   "cell_type": "code",
   "execution_count": null,
   "id": "70355a76-588c-4aab-8312-a5f8fbe69728",
   "metadata": {},
   "outputs": [],
   "source": [
    "def get_radii(coords, Sigma):\n",
    "    COORDS = np.meshgrid(*coords, indexing='ij')\n",
    "    shape = tuple([len(c) for c in coords])\n",
    "    R = np.zeros(shape)\n",
    "    Sigma_inv = np.linalg.inv(Sigma)\n",
    "    for ii in tqdm(np.ndindex(shape)):\n",
    "        vec = np.array([C[ii] for C in COORDS])\n",
    "        R[ii] = np.sqrt(np.linalg.multi_dot([vec.T, Sigma_inv, vec]))\n",
    "    return R\n",
    "\n",
    "def radial_density(f, R, radii, dr=None):\n",
    "    if dr is None:\n",
    "        dr = 0.5 * np.max(R) / (len(R) - 1)\n",
    "    fr = []\n",
    "    for r in tqdm(radii):\n",
    "        f_masked = np.ma.masked_where(np.logical_or(R < r, R > r + dr), f)\n",
    "        fr.append(np.mean(f_masked))\n",
    "    return np.array(fr)"
   ]
  },
  {
   "cell_type": "code",
   "execution_count": null,
   "id": "988ee405-a0e5-4307-b247-4e46940b6003",
   "metadata": {
    "tags": []
   },
   "outputs": [],
   "source": [
    "ndim = 3  # number of dimensions in projected array\n",
    "nr = 70  # number of radial points\n",
    "for axis in itertools.combinations([0, 1, 2, 3, 4], ndim):    \n",
    "    # Project the distribution onto the specified axis.\n",
    "    print('axis =', axis)\n",
    "    _f = utils.project(f, axis)\n",
    "    \n",
    "    # Compute the covariance matrix.\n",
    "    _coords = [coords[i] for i in axis]\n",
    "    Sigma, mu = ba.dist_cov(_f, _coords, disp=True)\n",
    "    \n",
    "    # Compute the radii in normalized space.\n",
    "    print('Computing radii...')\n",
    "    R = get_radii(_coords, Sigma)\n",
    "    \n",
    "    # Compute the approximate radial density in normalized space.\n",
    "    radii = np.linspace(0.0, np.max(R), nr)\n",
    "    fr = radial_density(_f, R, radii, dr=None)\n",
    "    fr = fr / np.nanmax(fr)\n",
    "    \n",
    "    # Plot on top of a Gaussian which is normalized in the same way.\n",
    "    fig, axes = pplt.subplots(ncols=2, figwidth=5.75, figheight=2.55, share=False, space=10)\n",
    "    for ax in axes:\n",
    "        alpha = 0.2\n",
    "        ax.plot(radii, np.exp(-0.5 * radii**2), color='red', alpha=alpha, label='gauss')\n",
    "        # ax.plot(rs, [float(r <= 2.0) for r in rs], color='blue', alpha=alpha, label='uniform')\n",
    "        ax.plot(\n",
    "            radii, fr, color='black', label='data',\n",
    "            marker='.', lw=0, ms=3,\n",
    "        )\n",
    "        ax.legend(ncols=1, loc='upper right', handlelength=1)\n",
    "    axes.format(xlim=(0.0, 5.0))\n",
    "    axes[1].format(yscale='log', yformatter='log')\n",
    "    axes[1].format(ymin=1e-5, ymax=1.5)\n",
    "    \n",
    "    title = \"-\".join([dims[i] for i in axis])\n",
    "    axes.format(xlabel=r\"$r = \\sqrt{\\mathbf{x}^T\\mathbf{\\Sigma}^{-1}\\mathbf{x}}$\", \n",
    "                ylabel=r\"$f(r)$\", title=title)\n",
    "    # plt.savefig(f'_output/{title}.png')\n",
    "    plt.show()"
   ]
  },
  {
   "cell_type": "code",
   "execution_count": null,
   "id": "f88d416e-50e1-468a-8244-6922ed722a89",
   "metadata": {},
   "outputs": [],
   "source": []
  }
 ],
 "metadata": {
  "kernelspec": {
   "display_name": "myenv",
   "language": "python",
   "name": "myenv"
  },
  "language_info": {
   "codemirror_mode": {
    "name": "ipython",
    "version": 3
   },
   "file_extension": ".py",
   "mimetype": "text/x-python",
   "name": "python",
   "nbconvert_exporter": "python",
   "pygments_lexer": "ipython3",
   "version": "3.9.7"
  }
 },
 "nbformat": 4,
 "nbformat_minor": 5
}
