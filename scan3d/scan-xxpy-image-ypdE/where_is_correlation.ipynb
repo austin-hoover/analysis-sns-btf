{
 "cells": [
  {
   "cell_type": "markdown",
   "id": "d57c07ab-d192-4b0c-8548-8d4b1f8bf7f4",
   "metadata": {},
   "source": [
    "# Locating longitudinal-transverse correlation in transverse phase space "
   ]
  },
  {
   "cell_type": "markdown",
   "id": "28e013f3-15f0-4c1d-b6a6-5db79d6a8f1c",
   "metadata": {},
   "source": [
    "The goal of this notebook is to identify the \"width\" of the observed longitudinal-transverse correlation in the phase space distribution of the BTF bunch at the first emittance station. My idea is to look at the energy distribution of particles within a boundary in 4D transverse phase space. The easiest boundary to implement would be a cube, but it would be nice to reduce things down to one variable. We could try going to normalized coordinates and plotting energy distribution for the particles within a sphere of radius $r$, for example. Or we could the 4D density contours in the transverse phase space, plotting energy distribution vs. contour level."
   ]
  },
  {
   "cell_type": "code",
   "execution_count": null,
   "id": "bde7f506-2600-46d2-b1cc-86b60b566413",
   "metadata": {},
   "outputs": [],
   "source": [
    "import sys\n",
    "import os\n",
    "from os.path import join\n",
    "import importlib\n",
    "import numpy as np\n",
    "import pandas as pd\n",
    "import h5py\n",
    "from tqdm.notebook import tqdm\n",
    "from tqdm.notebook import trange\n",
    "import seaborn as sns\n",
    "from matplotlib import pyplot as plt\n",
    "from ipywidgets import interactive\n",
    "from ipywidgets import widgets\n",
    "import proplot as pplt\n",
    "\n",
    "sys.path.append('../..')\n",
    "from tools import plotting as mplt\n",
    "from tools import utils\n",
    "from tools.utils import project"
   ]
  },
  {
   "cell_type": "code",
   "execution_count": null,
   "id": "27b21d49-8ae0-4e4e-9d31-18f30b35f6d3",
   "metadata": {},
   "outputs": [],
   "source": [
    "pplt.rc['grid'] = False\n",
    "pplt.rc['cmap.discrete'] = False\n",
    "pplt.rc['cmap.sequential'] = 'viridis'\n",
    "pplt.rc['figure.facecolor'] = 'white'"
   ]
  },
  {
   "cell_type": "markdown",
   "id": "e9d46027-149d-445c-8419-82b0f656e35e",
   "metadata": {},
   "source": [
    "## Load data "
   ]
  },
  {
   "cell_type": "code",
   "execution_count": null,
   "id": "daa40b99-f912-4a13-b157-18ca5b93cd22",
   "metadata": {},
   "outputs": [],
   "source": [
    "folder = '_saved/2021-12-03-VS06'"
   ]
  },
  {
   "cell_type": "code",
   "execution_count": null,
   "id": "999ab03d-314a-4ad8-9595-1dae7f5121a6",
   "metadata": {},
   "outputs": [],
   "source": [
    "info = utils.load_pickle(join(folder, 'info.pkl'))\n",
    "info"
   ]
  },
  {
   "cell_type": "code",
   "execution_count": null,
   "id": "aa667a98-9d95-4163-9f51-45d1360cd93f",
   "metadata": {},
   "outputs": [],
   "source": [
    "filename = info['filename']\n",
    "coords = utils.load_stacked_arrays(join(folder, f'coords_{filename}.npz'))\n",
    "shape = tuple([len(c) for c in coords])\n",
    "print('shape:', shape)"
   ]
  },
  {
   "cell_type": "code",
   "execution_count": null,
   "id": "96cbe823-0da8-4033-a64b-7ed46bfd8832",
   "metadata": {},
   "outputs": [],
   "source": [
    "f = np.memmap(join(folder, f'f_{filename}.mmp'), shape=shape, dtype='float', mode='r')"
   ]
  },
  {
   "cell_type": "code",
   "execution_count": null,
   "id": "fddf7705-b2e7-4180-a0bb-5ac824466282",
   "metadata": {},
   "outputs": [],
   "source": [
    "f_max = np.max(f)\n",
    "f_min = np.min(f)\n",
    "if f_min < 0.0:\n",
    "    print(f'min(f) = {f_min}')\n",
    "    print('Clipping to zero.')\n",
    "    f = np.clip(f, 0.0, None)"
   ]
  },
  {
   "cell_type": "code",
   "execution_count": null,
   "id": "f35e78a6-e9a5-45af-aa57-796577460dc5",
   "metadata": {},
   "outputs": [],
   "source": [
    "dims = [\"x\", \"xp\", \"y\", \"yp\", \"w\"]\n",
    "units = [\"mm\", \"mrad\", \"mm\", \"mrad\", \"MeV\"]\n",
    "dims_units = [f'{d} [{u}]' for d, u in zip(dims, units)]\n",
    "prof_kws = dict(lw=0.5, alpha=0.7, color='white', scale=0.12)"
   ]
  },
  {
   "cell_type": "markdown",
   "id": "8c01c071-07ef-4ddf-b11f-2d2af983ed92",
   "metadata": {},
   "source": [
    "Look at the entire array."
   ]
  },
  {
   "cell_type": "code",
   "execution_count": null,
   "id": "7533e693-e4cb-4c9a-bb0b-b1c9e98bf6c2",
   "metadata": {},
   "outputs": [],
   "source": [
    "mplt.interactive_proj2d(f, coords=coords, dims=dims, units=units)"
   ]
  },
  {
   "cell_type": "markdown",
   "id": "d05e7be0-b2af-4435-a498-81891426d2dd",
   "metadata": {},
   "source": [
    "First, look at the energy distribution for integer slices of the other variables."
   ]
  },
  {
   "cell_type": "code",
   "execution_count": null,
   "id": "c3cf2e4c-a14f-4ef5-b465-684c664c9eef",
   "metadata": {},
   "outputs": [],
   "source": [
    "sliders = [widgets.IntSlider(min=0, max=len(c)-1, value=len(c)//2) for c in coords[:4]]"
   ]
  },
  {
   "cell_type": "code",
   "execution_count": null,
   "id": "e98a4c18-8f28-4464-a845-6288ba6ac363",
   "metadata": {},
   "outputs": [],
   "source": [
    "def update(x, xp, y, yp):\n",
    "    pw = f[x, xp, y, yp, :] / f_max\n",
    "    fig, ax = pplt.subplots(figsize=(4, 1.5))\n",
    "    ax.format(ylim=(0, 1))\n",
    "    ax.plot(coords[4], pw, color='black')\n",
    "    plt.show()\n",
    "    \n",
    "interactive(update, x=sliders[0], xp=sliders[1], y=sliders[2], yp=sliders[3])"
   ]
  },
  {
   "cell_type": "markdown",
   "id": "41175d24-dad9-4579-a1ab-6ef70baab803",
   "metadata": {},
   "source": [
    "What about only real space?"
   ]
  },
  {
   "cell_type": "code",
   "execution_count": null,
   "id": "6aa62afc-63f2-471e-9949-bed50beac9bb",
   "metadata": {},
   "outputs": [],
   "source": [
    "f3d = project(f, axis=(0, 2, 4))\n",
    "f3d = f3d / np.max(f3d)\n",
    "\n",
    "def update(x, y):\n",
    "    pw = f3d[x, y]\n",
    "    fig, ax = pplt.subplots(figsize=(4, 1.5))\n",
    "    ax.format(ylim=(0, 1))\n",
    "    ax.plot(coords[4], pw, color='black')\n",
    "    plt.show()\n",
    "    \n",
    "interactive(update, x=sliders[0], y=sliders[2])"
   ]
  },
  {
   "cell_type": "markdown",
   "id": "3effe7ee-5010-47cc-9dcd-002c582da1be",
   "metadata": {},
   "source": [
    "We can also select ranges along each axis."
   ]
  },
  {
   "cell_type": "code",
   "execution_count": null,
   "id": "2db9cc81-7847-402f-a56a-5363b26a7639",
   "metadata": {},
   "outputs": [],
   "source": [
    "utils.make_slice(5, axis=(0, 1, 2, 3), ind=((0, 2), (3, 5), (6, 7), (8, 9)))"
   ]
  },
  {
   "cell_type": "code",
   "execution_count": null,
   "id": "780b9571-a486-4c8e-8990-a3ebf9ea4772",
   "metadata": {},
   "outputs": [],
   "source": [
    "range_sliders = [widgets.IntRangeSlider(min=0, max=len(c)-1) for c in coords[:4]]\n",
    "\n",
    "def update(xr, xpr, yr, ypr):\n",
    "    idx = utils.make_slice(5, axis=(0, 1, 2, 3), ind=(xr, xpr, yr, ypr))\n",
    "    f_slice = f[idx] / f_max\n",
    "    pw = project(f_slice, axis=4)\n",
    "    fig, ax = pplt.subplots(figsize=(4, 1.5))\n",
    "    # ax.format(ylim=(0, 1))\n",
    "    ax.plot(coords[4], pw, color='black')\n",
    "    plt.show()\n",
    "    \n",
    "interactive(update, xr=range_sliders[0], xpr=range_sliders[1], yr=range_sliders[2], ypr=range_sliders[3])"
   ]
  },
  {
   "cell_type": "markdown",
   "id": "a5507dd0-d335-4295-97af-8fd9c76f1e04",
   "metadata": {},
   "source": [
    "## Energy projection within 4D transverse contours"
   ]
  },
  {
   "cell_type": "code",
   "execution_count": null,
   "id": "aa05451b-df7e-4943-8d1a-85237d034783",
   "metadata": {},
   "outputs": [],
   "source": [
    "ftr = project(f, axis=(0, 1, 2, 3))\n",
    "ftr = ftr / np.max(ftr)"
   ]
  },
  {
   "cell_type": "code",
   "execution_count": null,
   "id": "ccce9196-262d-4d8e-ab6d-09ddd9a04843",
   "metadata": {},
   "outputs": [],
   "source": [
    "fig, ax = pplt.subplots()\n",
    "ax.hist(ftr.ravel(), bins=20, color='black')\n",
    "ax.format(yscale='log', ylabel='Count', xlabel='4D pixel value')\n",
    "plt.show()"
   ]
  },
  {
   "cell_type": "markdown",
   "id": "c6f7873e-3006-432b-8b2e-048f29db634f",
   "metadata": {},
   "source": [
    "W need to find valid x, xp, y, yp indices. Then we just masked the other indices and project f as normal to get w projection."
   ]
  },
  {
   "cell_type": "code",
   "execution_count": null,
   "id": "5ddbddde-6cb7-46ab-8958-f08b3a28115d",
   "metadata": {},
   "outputs": [],
   "source": [
    "n = 30\n",
    "levels = np.linspace(0.99, 0.01, n)\n",
    "pws = []\n",
    "for level in levels:\n",
    "    inds = np.where(ftr > level)\n",
    "    pw = np.sum(f[inds], axis=0)\n",
    "    pw = pw / np.sum(pw)\n",
    "    pws.append(pw)\n",
    "pws = np.array(pws)"
   ]
  },
  {
   "cell_type": "code",
   "execution_count": null,
   "id": "f63474ba-f8df-4e6a-a008-247950220eb9",
   "metadata": {},
   "outputs": [],
   "source": [
    "fig, ax = pplt.subplots(figwidth=3.0, figheight=1.5)\n",
    "ax.pcolormesh(\n",
    "    coords[4],\n",
    "    levels,\n",
    "    pws, \n",
    "    cmap='dusk_r',\n",
    "    ec='None',\n",
    ")\n",
    "ax.format(xlim=(-0.07, 0.07))\n",
    "ax.format(ylabel='4D contour level', xlabel='dE [MeV]')\n",
    "plt.savefig('4Dcontour_dE.png')"
   ]
  },
  {
   "cell_type": "code",
   "execution_count": null,
   "id": "5e5eb527-01e6-46a6-aaa7-e75b688b01d2",
   "metadata": {},
   "outputs": [],
   "source": [
    "fig, ax = pplt.subplots(figsize=(4.5, 1.75))\n",
    "for i, (color, pw) in enumerate(zip(pplt.get_colors('flare', len(pws)), pws)):\n",
    "    x = coords[4]\n",
    "    y = pw + levels[i]\n",
    "    ax.plotx(x, y, \n",
    "             # color=color\n",
    "            color='black',\n",
    "           )\n",
    "ax.format(ylim=(-0.1, 0.1))\n",
    "ax.format(ylabel='dE [MeV]', xlabel='4D contour level')\n",
    "plt.savefig('4Dcontour_dE2.png')"
   ]
  },
  {
   "cell_type": "code",
   "execution_count": null,
   "id": "d8125b5b-ed85-4108-a875-d0b81aea4e02",
   "metadata": {},
   "outputs": [],
   "source": [
    "f2d = project(f, (2, 3))\n",
    "f2d = f2d / np.max(f2d)"
   ]
  },
  {
   "cell_type": "code",
   "execution_count": null,
   "id": "0c9ba8c7-491b-4dc0-b45e-34d00e96d86d",
   "metadata": {},
   "outputs": [],
   "source": [
    "fig, ax = pplt.subplots(figwidth=4)\n",
    "ax.contour(\n",
    "    coords[2], \n",
    "    coords[3], \n",
    "    f2d.T,\n",
    "    # color='black',\n",
    "    labels=True,\n",
    "    levels=np.linspace(0.1, 1.0, 10),\n",
    ")\n",
    "ax.format(xlabel=\"y [mm]\", ylabel=\"yp [mrad]\")\n",
    "ax.format(xlim=(-7, 7), ylim=(-2.5, 2.5))\n",
    "plt.show()"
   ]
  },
  {
   "cell_type": "code",
   "execution_count": null,
   "id": "787754f1-c8e6-4bd8-9a06-088afe2ebde0",
   "metadata": {},
   "outputs": [],
   "source": [
    "fig, ax = pplt.subplots()\n",
    "mplt.plot_image(\n",
    "    f2d, x=coords[2], y=coords[3], ax=ax,\n",
    "    # cmap='mono',\n",
    "    contour=True, \n",
    "    contour_kws=dict(\n",
    "        labels=True, \n",
    "        color='white',\n",
    "        lw=0.4,\n",
    "        alpha=1,\n",
    "        levels=(0.001, 0.01, 0.1, 0.5, 1.0),\n",
    "    ),\n",
    "    colorbar=True,\n",
    ")\n",
    "ax.format(xlabel=\"y [mm]\", ylabel=\"yp [mrad]\")\n",
    "# ax.format(xlim=(-7, 7), ylim=(-2.5, 2.5))\n",
    "ax.format(xlim=(-9, 9), ylim=(-4, 4))\n",
    "plt.savefig('contour_yyp.png')\n",
    "plt.show()"
   ]
  },
  {
   "cell_type": "code",
   "execution_count": null,
   "id": "8078913a-c184-4c44-9b71-76a2da7c82f4",
   "metadata": {},
   "outputs": [],
   "source": []
  }
 ],
 "metadata": {
  "kernelspec": {
   "display_name": "myenv",
   "language": "python",
   "name": "myenv"
  },
  "language_info": {
   "codemirror_mode": {
    "name": "ipython",
    "version": 3
   },
   "file_extension": ".py",
   "mimetype": "text/x-python",
   "name": "python",
   "nbconvert_exporter": "python",
   "pygments_lexer": "ipython3",
   "version": "3.9.7"
  }
 },
 "nbformat": 4,
 "nbformat_minor": 5
}
