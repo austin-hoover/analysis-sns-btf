{
 "cells": [
  {
   "cell_type": "markdown",
   "id": "d57c07ab-d192-4b0c-8548-8d4b1f8bf7f4",
   "metadata": {},
   "source": [
    "# Locating longitudinal-transverse correlation in transverse phase space "
   ]
  },
  {
   "cell_type": "markdown",
   "id": "28e013f3-15f0-4c1d-b6a6-5db79d6a8f1c",
   "metadata": {},
   "source": [
    "The goal of this notebook is to identify the \"width\" of the observed longitudinal-transverse correlation in the phase space distribution of the BTF bunch at the first emittance station. My idea is to look at the energy distribution of particles within a boundary in 4D transverse phase space. The easiest boundary to implement would be a cube, but it would be nice to reduce things down to one variable. We could try going to normalized coordinates and plotting energy distribution for the particles within a sphere of radius $r$, for example. Or we could the 4D density contours in the transverse phase space, plotting energy distribution vs. contour level."
   ]
  },
  {
   "cell_type": "code",
   "execution_count": null,
   "id": "bde7f506-2600-46d2-b1cc-86b60b566413",
   "metadata": {},
   "outputs": [],
   "source": [
    "import sys\n",
    "import os\n",
    "from os.path import join\n",
    "import importlib\n",
    "import numpy as np\n",
    "import pandas as pd\n",
    "import h5py\n",
    "from tqdm.notebook import tqdm\n",
    "from tqdm.notebook import trange\n",
    "import seaborn as sns\n",
    "from matplotlib import pyplot as plt\n",
    "from ipywidgets import interactive\n",
    "from ipywidgets import widgets\n",
    "import proplot as pplt\n",
    "\n",
    "sys.path.append('../..')\n",
    "from tools import plotting as mplt\n",
    "from tools import utils\n",
    "from tools.utils import project"
   ]
  },
  {
   "cell_type": "code",
   "execution_count": null,
   "id": "27b21d49-8ae0-4e4e-9d31-18f30b35f6d3",
   "metadata": {},
   "outputs": [],
   "source": [
    "pplt.rc['grid'] = False\n",
    "pplt.rc['cmap.discrete'] = False\n",
    "pplt.rc['cmap.sequential'] = 'viridis'\n",
    "pplt.rc['figure.facecolor'] = 'white'"
   ]
  },
  {
   "cell_type": "markdown",
   "id": "e9d46027-149d-445c-8419-82b0f656e35e",
   "metadata": {},
   "source": [
    "## Load data "
   ]
  },
  {
   "cell_type": "code",
   "execution_count": null,
   "id": "daa40b99-f912-4a13-b157-18ca5b93cd22",
   "metadata": {},
   "outputs": [],
   "source": [
    "folder = '_saved/2021-12-03-VS06'"
   ]
  },
  {
   "cell_type": "code",
   "execution_count": null,
   "id": "999ab03d-314a-4ad8-9595-1dae7f5121a6",
   "metadata": {},
   "outputs": [],
   "source": [
    "info = utils.load_pickle(join(folder, 'info.pkl'))\n",
    "info"
   ]
  },
  {
   "cell_type": "code",
   "execution_count": null,
   "id": "aa667a98-9d95-4163-9f51-45d1360cd93f",
   "metadata": {},
   "outputs": [],
   "source": [
    "filename = info['filename']\n",
    "coords = utils.load_stacked_arrays(join(folder, f'coords_{filename}.npz'))\n",
    "shape = tuple([len(c) for c in coords])\n",
    "print('shape:', shape)"
   ]
  },
  {
   "cell_type": "code",
   "execution_count": null,
   "id": "96cbe823-0da8-4033-a64b-7ed46bfd8832",
   "metadata": {},
   "outputs": [],
   "source": [
    "f = np.memmap(join(folder, f'f_{filename}.mmp'), shape=shape, dtype='float', mode='r')"
   ]
  },
  {
   "cell_type": "code",
   "execution_count": null,
   "id": "fddf7705-b2e7-4180-a0bb-5ac824466282",
   "metadata": {},
   "outputs": [],
   "source": [
    "f_max = np.max(f)\n",
    "f_min = np.min(f)\n",
    "if f_min < 0.0:\n",
    "    print(f'min(f) = {f_min}')\n",
    "    print('Clipping to zero.')\n",
    "    f = np.clip(f, 0.0, None)"
   ]
  },
  {
   "cell_type": "code",
   "execution_count": null,
   "id": "f35e78a6-e9a5-45af-aa57-796577460dc5",
   "metadata": {},
   "outputs": [],
   "source": [
    "dims = [\"x\", \"xp\", \"y\", \"yp\", \"w\"]\n",
    "units = [\"mm\", \"mrad\", \"mm\", \"mrad\", \"MeV\"]\n",
    "dims_units = [f'{d} [{u}]' for d, u in zip(dims, units)]\n",
    "prof_kws = dict(lw=0.5, alpha=0.7, color='white', scale=0.12)"
   ]
  },
  {
   "cell_type": "markdown",
   "id": "d05e7be0-b2af-4435-a498-81891426d2dd",
   "metadata": {},
   "source": [
    "First, look at the energy distribution for integer slices of the other variables."
   ]
  },
  {
   "cell_type": "code",
   "execution_count": null,
   "id": "c3cf2e4c-a14f-4ef5-b465-684c664c9eef",
   "metadata": {},
   "outputs": [],
   "source": [
    "sliders = [widgets.IntSlider(min=0, max=len(c)-1, value=len(c)//2) for c in coords[:4]]"
   ]
  },
  {
   "cell_type": "code",
   "execution_count": null,
   "id": "e98a4c18-8f28-4464-a845-6288ba6ac363",
   "metadata": {},
   "outputs": [],
   "source": [
    "def update(x, xp, y, yp):\n",
    "    pw = f[x, xp, y, yp, :] / f_max\n",
    "    fig, ax = pplt.subplots(figsize=(4, 1.5))\n",
    "    ax.format(ylim=(0, 1))\n",
    "    ax.plot(coords[4], pw, color='black')\n",
    "    plt.show()\n",
    "    \n",
    "interactive(update, x=sliders[0], xp=sliders[1], y=sliders[2], yp=sliders[3])"
   ]
  },
  {
   "cell_type": "markdown",
   "id": "3effe7ee-5010-47cc-9dcd-002c582da1be",
   "metadata": {},
   "source": [
    "We can also select ranges along each axis."
   ]
  },
  {
   "cell_type": "code",
   "execution_count": null,
   "id": "780b9571-a486-4c8e-8990-a3ebf9ea4772",
   "metadata": {},
   "outputs": [],
   "source": [
    "range_sliders = [widgets.IntRangeSlider(min=0, max=len(c)-1) for c in coords[:4]]\n",
    "\n",
    "def update(xr, xpr, yr, ypr):\n",
    "    \n",
    "    pw = f[x, xp, y, yp, :] / f_max\n",
    "    fig, ax = pplt.subplots(figsize=(4, 1.5))\n",
    "    ax.format(ylim=(0, 1))\n",
    "    ax.plot(coords[4], pw, color='black')\n",
    "    plt.show()\n",
    "    \n",
    "interactive(update, x=sliders[0], xp=sliders[1], y=sliders[2], yp=sliders[3])"
   ]
  },
  {
   "cell_type": "code",
   "execution_count": null,
   "id": "b41ebdcc-4e33-4607-a68a-831a5f5ca0c8",
   "metadata": {},
   "outputs": [],
   "source": []
  }
 ],
 "metadata": {
  "kernelspec": {
   "display_name": "myenv",
   "language": "python",
   "name": "myenv"
  },
  "language_info": {
   "codemirror_mode": {
    "name": "ipython",
    "version": 3
   },
   "file_extension": ".py",
   "mimetype": "text/x-python",
   "name": "python",
   "nbconvert_exporter": "python",
   "pygments_lexer": "ipython3",
   "version": "3.9.7"
  }
 },
 "nbformat": 4,
 "nbformat_minor": 5
}
