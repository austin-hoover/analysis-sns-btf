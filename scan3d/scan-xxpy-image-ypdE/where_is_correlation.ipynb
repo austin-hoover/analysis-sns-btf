{
 "cells": [
  {
   "cell_type": "markdown",
   "id": "d57c07ab-d192-4b0c-8548-8d4b1f8bf7f4",
   "metadata": {},
   "source": [
    "# Locating longitudinal-transverse correlation in transverse phase space "
   ]
  },
  {
   "cell_type": "markdown",
   "id": "28e013f3-15f0-4c1d-b6a6-5db79d6a8f1c",
   "metadata": {},
   "source": [
    "The goal of this notebook is to identify the \"width\" of the measured longitudinal-transverse correlation in the phase space distribution of the BTF bunch at the first emittance station. We will look at the energy distribution of particles within a boundary in 4D transverse phase space."
   ]
  },
  {
   "cell_type": "code",
   "execution_count": null,
   "id": "bde7f506-2600-46d2-b1cc-86b60b566413",
   "metadata": {},
   "outputs": [],
   "source": [
    "import sys\n",
    "import os\n",
    "from os.path import join\n",
    "import importlib\n",
    "import numpy as np\n",
    "import h5py\n",
    "from tqdm.notebook import tqdm\n",
    "from tqdm.notebook import trange\n",
    "from plotly import graph_objects as go\n",
    "from matplotlib import pyplot as plt\n",
    "from ipywidgets import interactive\n",
    "from ipywidgets import widgets\n",
    "import proplot as pplt\n",
    "\n",
    "sys.path.append('../../')\n",
    "from tools import plotting as mplt\n",
    "from tools import utils\n",
    "from tools.utils import project"
   ]
  },
  {
   "cell_type": "code",
   "execution_count": null,
   "id": "27b21d49-8ae0-4e4e-9d31-18f30b35f6d3",
   "metadata": {},
   "outputs": [],
   "source": [
    "pplt.rc['grid'] = False\n",
    "pplt.rc['cmap.discrete'] = False\n",
    "pplt.rc['cmap.sequential'] = 'viridis'\n",
    "pplt.rc['figure.facecolor'] = 'white'"
   ]
  },
  {
   "cell_type": "markdown",
   "id": "e9d46027-149d-445c-8419-82b0f656e35e",
   "metadata": {},
   "source": [
    "## Load data "
   ]
  },
  {
   "cell_type": "code",
   "execution_count": null,
   "id": "771b6980-e1cb-4aaa-b674-9dd5b457f711",
   "metadata": {},
   "outputs": [],
   "source": [
    "folder = '_saved/2021-12-03-VS06/'"
   ]
  },
  {
   "cell_type": "code",
   "execution_count": null,
   "id": "999ab03d-314a-4ad8-9595-1dae7f5121a6",
   "metadata": {},
   "outputs": [],
   "source": [
    "info = utils.load_pickle(join(folder, 'info.pkl'))\n",
    "info"
   ]
  },
  {
   "cell_type": "code",
   "execution_count": null,
   "id": "aa667a98-9d95-4163-9f51-45d1360cd93f",
   "metadata": {},
   "outputs": [],
   "source": [
    "filename = info['filename']\n",
    "coords = utils.load_stacked_arrays(join(folder, f'coords_{filename}.npz'))\n",
    "shape = tuple([len(c) for c in coords])\n",
    "print('shape:', shape)"
   ]
  },
  {
   "cell_type": "code",
   "execution_count": null,
   "id": "96cbe823-0da8-4033-a64b-7ed46bfd8832",
   "metadata": {},
   "outputs": [],
   "source": [
    "f = np.memmap(join(folder, f'f_{filename}.mmp'), shape=shape, dtype='float', mode='r')"
   ]
  },
  {
   "cell_type": "markdown",
   "id": "6bbda023-3a46-4974-9239-a92d18ea431f",
   "metadata": {},
   "source": [
    "Crop the 5D array."
   ]
  },
  {
   "cell_type": "code",
   "execution_count": null,
   "id": "0b03917b-cf03-4716-b275-f90c93693bab",
   "metadata": {},
   "outputs": [],
   "source": [
    "dims = [\"x\", \"xp\", \"y\", \"yp\", \"w\"]\n",
    "units = [\"mm\", \"mrad\", \"mm\", \"mrad\", \"MeV\"]\n",
    "dims_units = [f'{d} [{u}]' for d, u in zip(dims, units)]\n",
    "prof_kws = dict(lw=0.5, alpha=0.7, color='white', scale=0.12)"
   ]
  },
  {
   "cell_type": "code",
   "execution_count": null,
   "id": "27af812b-7005-4571-b9dc-f5bc65662f08",
   "metadata": {},
   "outputs": [],
   "source": [
    "crop = (\n",
    "    (0, f.shape[0]),\n",
    "    (7, f.shape[1] - 7),\n",
    "    (0, f.shape[2]),\n",
    "    (10, f.shape[3] - 10),\n",
    "    (15, f.shape[4] - 15),\n",
    ")\n",
    "\n",
    "fig, axes = pplt.subplots(ncols=5, figwidth=7, spanx=False, figheight=None)\n",
    "for i, ax in enumerate(axes):\n",
    "    p = utils.project(f, i)\n",
    "    p = p / np.sum(p)\n",
    "    ax.plot(p, color='black')\n",
    "    ax.format(xlabel=dims[i] + ' [pixel]', xlim=(crop[i][0], crop[i][1] - 1))\n",
    "# axes.format(yscale='log')\n",
    "plt.show()"
   ]
  },
  {
   "cell_type": "code",
   "execution_count": null,
   "id": "cbfc3665-d730-4539-b11b-9854b01e5768",
   "metadata": {},
   "outputs": [],
   "source": [
    "ind = tuple([slice(c[0], c[1]) for c in crop])\n",
    "f = f[ind]\n",
    "coords = [c[ind[i]] for i, c in enumerate(coords)]"
   ]
  },
  {
   "cell_type": "markdown",
   "id": "37c32305-fbfa-48f8-b182-8347cd27a1cb",
   "metadata": {},
   "source": [
    "Clip small negative values."
   ]
  },
  {
   "cell_type": "code",
   "execution_count": null,
   "id": "fddf7705-b2e7-4180-a0bb-5ac824466282",
   "metadata": {},
   "outputs": [],
   "source": [
    "f_max = np.max(f)\n",
    "f_min = np.min(f)\n",
    "if f_min < 0.0:\n",
    "    print(f'min(f) = {f_min}')\n",
    "    print('Clipping to zero.')\n",
    "    f = np.clip(f, 0.0, None)"
   ]
  },
  {
   "cell_type": "markdown",
   "id": "09ef47ab-5440-442b-b14e-76cbc1d9d56f",
   "metadata": {},
   "source": [
    "## Rectangular slice"
   ]
  },
  {
   "cell_type": "markdown",
   "id": "0cff55d1-81e7-4da6-bf9c-efbb2b50b8f6",
   "metadata": {},
   "source": [
    "### 2D projections "
   ]
  },
  {
   "cell_type": "markdown",
   "id": "6818acdf-42df-4918-9078-3cc954700942",
   "metadata": {},
   "source": [
    "First view the 2D projections at integer slices. (Set `frac_thresh` to -3.0.)"
   ]
  },
  {
   "cell_type": "code",
   "execution_count": null,
   "id": "7533e693-e4cb-4c9a-bb0b-b1c9e98bf6c2",
   "metadata": {},
   "outputs": [],
   "source": [
    "mplt.interactive_proj2d(f / f_max, coords=coords, dims=dims, units=units)"
   ]
  },
  {
   "cell_type": "markdown",
   "id": "721d55d9-60be-49dd-9bab-2610a26f0cdb",
   "metadata": {},
   "source": [
    "And at range slices."
   ]
  },
  {
   "cell_type": "code",
   "execution_count": null,
   "id": "781c2d37-dc10-4694-8277-baadd6623b86",
   "metadata": {},
   "outputs": [],
   "source": [
    "mplt.interactive_proj2d(f / f_max, coords=coords, dims=dims, units=units,\n",
    "                        slice_type='range')"
   ]
  },
  {
   "cell_type": "code",
   "execution_count": null,
   "id": "3dec169b-da3d-4db5-a9c4-77de6920d4d8",
   "metadata": {},
   "outputs": [],
   "source": [
    "frac_thresh = 10.0**-3.0"
   ]
  },
  {
   "cell_type": "markdown",
   "id": "54dd2c16-fcd0-4ec1-90cd-6e7e521fc89b",
   "metadata": {},
   "source": [
    "And all 2D projections."
   ]
  },
  {
   "cell_type": "code",
   "execution_count": null,
   "id": "00b1aa5b-2afd-4065-a3a5-a01bda2f6fda",
   "metadata": {},
   "outputs": [],
   "source": [
    "axes = mplt.corner(\n",
    "    f,\n",
    "    coords=coords,\n",
    "    diag_kind='None',\n",
    "    labels=dims_units,\n",
    "    # norm='log',\n",
    "    handle_log='floor',\n",
    "    frac_thresh=frac_thresh,\n",
    "    prof='edges',\n",
    "    prof_kws=dict(lw=0.5, alpha=0.7, color='white', scale=0.12),\n",
    ")\n",
    "# plt.savefig('_output/corner_VS06.png')"
   ]
  },
  {
   "cell_type": "markdown",
   "id": "6392c873-8a09-4522-9ae1-2282adc46571",
   "metadata": {},
   "source": [
    "### 1D projections "
   ]
  },
  {
   "cell_type": "code",
   "execution_count": null,
   "id": "a5766e00-a16f-4a37-929e-ab8cbf67be47",
   "metadata": {},
   "outputs": [],
   "source": [
    "mplt.interactive_proj1d(f, coords=coords, dims=dims, units=units, default_ind=4,\n",
    "                        slice_type='int')"
   ]
  },
  {
   "cell_type": "code",
   "execution_count": null,
   "id": "e98a4c18-8f28-4464-a845-6288ba6ac363",
   "metadata": {},
   "outputs": [],
   "source": [
    "mplt.interactive_proj1d(f, coords=coords, dims=dims, units=units, default_ind=4,\n",
    "                        slice_type='range')"
   ]
  },
  {
   "cell_type": "code",
   "execution_count": null,
   "id": "96c8532c-2e43-4a7f-a281-7b999bc3082f",
   "metadata": {},
   "outputs": [],
   "source": [
    "ind = [18, 18, 18, 30]\n",
    "_dims = [\"x\", \"x'\", \"y\", \"y'\"]\n",
    "\n",
    "fig, axes = pplt.subplots(ncols=4, figwidth=7, figheight=1.5)\n",
    "axes.format(xlabel=\"w [MeV]\", yticklabels=[], xlim=(-0.065, 0.065))\n",
    "for i, ax in enumerate(axes):\n",
    "    idx = utils.make_slice(4, np.arange(i + 1), ind[:i+1])\n",
    "    pw = project(f[idx], 3 - i)\n",
    "    pw = pw / np.sum(pw)\n",
    "    ax.bar(coords[4], pw, color='black', width=1)\n",
    "    ax.format(title=\", \".join([r\"${} \\approx 0$\".format(_dim) for _dim in _dims[:i+1]]))\n",
    "axes.format(ylim=(0.0, axes[0].get_ylim()[1]), xspineloc='bottom', yspineloc='left', ylabel='Density')\n",
    "plt.savefig('_output/w_slices.png')"
   ]
  },
  {
   "cell_type": "markdown",
   "id": "a5507dd0-d335-4295-97af-8fd9c76f1e04",
   "metadata": {},
   "source": [
    "## Contour slice"
   ]
  },
  {
   "cell_type": "markdown",
   "id": "e2848f08-a84e-45a6-95ad-6e5729187353",
   "metadata": {},
   "source": [
    "Select only those pixels above a threshold — within a contour — in 4D phase space. An example of contours in 2D phase space."
   ]
  },
  {
   "cell_type": "code",
   "execution_count": null,
   "id": "85dda0b9-6e3d-4807-b3c2-cc29354cc215",
   "metadata": {},
   "outputs": [],
   "source": [
    "f2d = project(f, (2, 3))\n",
    "f2d = f2d / np.max(f2d)\n",
    "\n",
    "fig, ax = pplt.subplots()\n",
    "mplt.plot_image(\n",
    "    f2d, x=coords[2], y=coords[3], ax=ax,\n",
    "    contour=True, \n",
    "    contour_kws=dict(\n",
    "        labels=True, \n",
    "        color='white',\n",
    "        lw=0.4,\n",
    "        alpha=1,\n",
    "        levels=(0.001, 0.01, 0.1, 0.5, 1.0),\n",
    "    ),\n",
    "    colorbar=True,\n",
    ")\n",
    "ax.format(xlabel=\"y [mm]\", ylabel=\"yp [mrad]\")\n",
    "# plt.savefig('contour_yyp.png')\n",
    "plt.show()"
   ]
  },
  {
   "cell_type": "markdown",
   "id": "bf98c238-7c21-4a51-a31a-a2dab9a13b4b",
   "metadata": {},
   "source": [
    "Project the distribution onto 4D transverse phase space."
   ]
  },
  {
   "cell_type": "code",
   "execution_count": null,
   "id": "aa05451b-df7e-4943-8d1a-85237d034783",
   "metadata": {},
   "outputs": [],
   "source": [
    "ftr = project(f, axis=(0, 1, 2, 3))\n",
    "ftr = ftr / np.max(ftr)"
   ]
  },
  {
   "cell_type": "markdown",
   "id": "7701050d-4124-45ad-a625-b9e130eb7263",
   "metadata": {},
   "source": [
    "View the distribution of pixel values in the array."
   ]
  },
  {
   "cell_type": "code",
   "execution_count": null,
   "id": "ccce9196-262d-4d8e-ab6d-09ddd9a04843",
   "metadata": {},
   "outputs": [],
   "source": [
    "fig, ax = pplt.subplots()\n",
    "ax.hist(ftr.ravel(), bins=20, color='black')\n",
    "ax.format(yscale='log', ylabel='Count', xlabel='4D pixel value')\n",
    "plt.show()"
   ]
  },
  {
   "cell_type": "markdown",
   "id": "4b86205e-cee3-4294-84d0-f6e7a815dd0d",
   "metadata": {},
   "source": [
    "### Energy distribution "
   ]
  },
  {
   "cell_type": "markdown",
   "id": "91a7a6c8-2bd9-46c8-817f-2de03da561cf",
   "metadata": {},
   "source": [
    "Plot the energy distribution of a shrinking 4D phase space volume. The volume is defined by a contour in 4D phase space."
   ]
  },
  {
   "cell_type": "code",
   "execution_count": null,
   "id": "b68c15af-e4c6-4387-ab0a-ee1184e339c4",
   "metadata": {},
   "outputs": [],
   "source": [
    "def energy_proj(f, level=0.5, ftr=None, normalize=True):\n",
    "    if ftr is None:\n",
    "        ftr = np.sum(f, axis=-1)\n",
    "    pw = np.sum(f[np.where(ftr > level)], axis=0)\n",
    "    if normalize:\n",
    "        pw = pw / np.sum(pw)\n",
    "    return pw"
   ]
  },
  {
   "cell_type": "code",
   "execution_count": null,
   "id": "abb117ca-90d8-491d-a6f8-703eace04023",
   "metadata": {},
   "outputs": [],
   "source": [
    "def update(level):\n",
    "    pw = energy_proj(f, level, ftr=ftr, normalize=True)\n",
    "    fig, ax = pplt.subplots(figsize=(4, 1.5))\n",
    "    ax.format(xlabel=dims_units[4])\n",
    "    ax.bar(coords[4], pw, color='black')\n",
    "    plt.show()\n",
    "    \n",
    "interactive(update, level=(0.0, 0.99, 0.01))"
   ]
  },
  {
   "cell_type": "markdown",
   "id": "3b3e5682-4ad7-49ff-8a2f-8f72d9fd19c1",
   "metadata": {},
   "source": [
    "Uncomment cells below for various plots of the same data."
   ]
  },
  {
   "cell_type": "code",
   "execution_count": null,
   "id": "543201f6-b280-4e51-8249-8eef0c8be9ec",
   "metadata": {},
   "outputs": [],
   "source": [
    "n = 20\n",
    "levels = np.linspace(0.99, 0.01, n)\n",
    "pws = np.array([energy_proj(f, level, ftr=ftr) for level in levels]) \n",
    "pws = pws / np.max(pws)"
   ]
  },
  {
   "cell_type": "code",
   "execution_count": null,
   "id": "acba74b3-6b5e-41d0-9403-676dfb9af946",
   "metadata": {},
   "outputs": [],
   "source": [
    "fig, ax = pplt.subplots(figsize=(4, 1.75))\n",
    "ax.pcolormesh(coords[4], levels[::-1], pws[::-1],\n",
    "              colorbar=True, colorbar_kw=dict(label='Density (arb. units)', width=0.1))\n",
    "ax.format(xlabel='w [MeV]', ylabel='4D contour level')\n",
    "plt.show()"
   ]
  },
  {
   "cell_type": "code",
   "execution_count": null,
   "id": "fb046f90-f369-4386-8794-1b8ea5d3f654",
   "metadata": {},
   "outputs": [],
   "source": [
    "cmap = pplt.Colormap('fire_r', left=0.0, right=0.9)\n",
    "# cmap = pplt.Colormap('crest', left=0.0, right=1.0)\n",
    "\n",
    "fig, ax = pplt.subplots(figsize=(4, 1.75))\n",
    "ax.plot(pws[::-1].T, cycle=cmap, lw=1, colorbar=True, \n",
    "        colorbar_kw=dict(values=levels[::-1], label='4D contour level'))\n",
    "plt.show()"
   ]
  },
  {
   "cell_type": "code",
   "execution_count": null,
   "id": "5e5eb527-01e6-46a6-aaa7-e75b688b01d2",
   "metadata": {},
   "outputs": [],
   "source": [
    "fig, ax = pplt.subplots(figsize=(4.0, 1.75))\n",
    "for i, (color, pw) in enumerate(zip(pplt.get_colors('flare', len(pws)), pws)):\n",
    "    x = coords[4]\n",
    "    y = levels[i] + 0.075 * pw \n",
    "    ax.plotx(x, y, color='black')\n",
    "ax.format(ylim=(-0.1, 0.1))\n",
    "ax.format(ylabel='w [MeV]', xlabel=\"Fractional threshold in x-x'-y-y'\")\n",
    "plt.savefig('_output/4Dcontour_dE2.png')"
   ]
  },
  {
   "cell_type": "code",
   "execution_count": null,
   "id": "edad21b6-d3f2-4836-84b5-49f578c5e538",
   "metadata": {},
   "outputs": [],
   "source": [
    "# Z = pws[::-1]\n",
    "# X, Y = np.meshgrid(levels[::-1], coords[4], indexing='ij')    \n",
    "# lines = []\n",
    "# line_marker = dict(color='black', width=3)\n",
    "# for x, y, z in zip(X, Y, Z):\n",
    "#     lines.append(go.Scatter3d(x=x, y=y, z=z, mode='lines', line=line_marker))\n",
    "# uaxis= dict(\n",
    "#     gridcolor='rgb(255, 255, 255)',\n",
    "#     zerolinecolor='rgb(255, 255, 255)',\n",
    "#     showbackground=True,\n",
    "#     backgroundcolor='rgb(230, 230,230)',\n",
    "# )\n",
    "# layout = go.Layout(\n",
    "#     width=500,\n",
    "#     height=500,\n",
    "#     showlegend=False,\n",
    "#     scene=dict(\n",
    "#         xaxis=uaxis, \n",
    "#         yaxis=uaxis,\n",
    "#         zaxis=uaxis,\n",
    "#     ),\n",
    "# )\n",
    "# fig = go.Figure(data=lines, layout=layout)\n",
    "# fig.show()"
   ]
  },
  {
   "cell_type": "code",
   "execution_count": null,
   "id": "23fab70b-aa70-441c-adaa-e16d6b197f40",
   "metadata": {},
   "outputs": [],
   "source": [
    "# fig = go.Figure(data=[go.Surface(x=levels[::-1], y=coords[4], z=pws[::-1].T)])\n",
    "# fig.update_layout(width=500, height=500)\n",
    "# fig.show()"
   ]
  },
  {
   "cell_type": "markdown",
   "id": "17dd421d-1885-470d-9cc4-6ae634c2b72f",
   "metadata": {},
   "source": [
    "### Corner plot with slicing"
   ]
  },
  {
   "cell_type": "markdown",
   "id": "f583d42c-e71c-45bd-ade9-b82dcd4f1211",
   "metadata": {},
   "source": [
    "We want to see what the distribution looks like as we slice it. First, plot the 2D projections of the 4D phase space distribution as the boundary is changed, along with the energy distribution of the pixels in the slice."
   ]
  },
  {
   "cell_type": "code",
   "execution_count": null,
   "id": "1cb0c846-3755-4081-9a47-bf8aba7f0ee6",
   "metadata": {},
   "outputs": [],
   "source": [
    "def update(log=False, level=0.5):\n",
    "    global ftr    \n",
    "    axes = mplt.corner(\n",
    "        np.ma.masked_where(ftr < level, ftr),\n",
    "        coords=coords[:4],\n",
    "        diag_kind='None',\n",
    "        labels=dims_units,\n",
    "        frac_thresh=frac_thresh,\n",
    "        fill_value=0.0,\n",
    "        norm='log' if log else None,\n",
    "        handle_log='floor',\n",
    "        prof='edges',\n",
    "        prof_kws=dict(kind='step', lw=0.4, alpha=0.8),\n",
    "    )\n",
    "    pw = energy_proj(f, level, ftr=ftr, normalize=True)\n",
    "    ax = axes[0, 2]\n",
    "    for i in range(3):\n",
    "        for j in range(i + 1):\n",
    "            axes[i, j]._shared_x_axes.remove(ax)\n",
    "            axes[i, j]._shared_y_axes.remove(ax)\n",
    "    ax.axis('on')\n",
    "    ax.plot(coords[4], pw, color='black')\n",
    "    ax.format(\n",
    "        xlim=(np.min(coords[4]), np.max(coords[4])),\n",
    "        ylim=(0, 0.1),\n",
    "        xspineloc='bottom', yspineloc='left',\n",
    "        title='energy projection',\n",
    "    )\n",
    "    return axes\n",
    "    \n",
    "interactive(update, log=False, level=(0.0, 0.99, 0.01))"
   ]
  },
  {
   "cell_type": "code",
   "execution_count": null,
   "id": "a8bc4ba7-1e7d-48c0-a9cc-090d55b8a711",
   "metadata": {},
   "outputs": [],
   "source": [
    "# for i, level in enumerate(tqdm(np.linspace(0.0, 0.9, 25))):\n",
    "#     axes = update(level=level)\n",
    "#     axes.format(suptitle=f\"threshold = {level:.2f}\")\n",
    "#     plt.savefig(f'_output/corner_slice_{i}.png', dpi=300)\n",
    "#     plt.close()"
   ]
  },
  {
   "cell_type": "markdown",
   "id": "2634e9b6-75bd-4fd4-97b7-a0f7e671d624",
   "metadata": {},
   "source": [
    "Save a gif of this figure."
   ]
  },
  {
   "cell_type": "code",
   "execution_count": null,
   "id": "4beee00f-dc77-40b9-bf85-404c4fbe32a9",
   "metadata": {},
   "outputs": [],
   "source": [
    "def update(level):\n",
    "    _ftr = np.ma.masked_where(ftr < level, ftr)\n",
    "    _fxxp = project(_ftr, axis=(0, 1))\n",
    "    _fyyp = project(_ftr, axis=(2, 3))\n",
    "    plot_kws = dict(\n",
    "        frac_thresh=frac_thresh,\n",
    "        fill_value=0.0,\n",
    "        norm=None,\n",
    "        handle_log='floor',\n",
    "        prof_kws=dict(kind='step', lw=0.4, alpha=0.8),\n",
    "    )\n",
    "\n",
    "    fig, axes = pplt.subplots(ncols=3, figwidth=6, share=False)\n",
    "    for ax, (i, j) in zip(axes[:2], [(0, 1), (2, 3)]):\n",
    "        mplt.plot_image(project(_ftr, (i, j)), x=coords[i], y=coords[j], ax=ax, \n",
    "                        # profx=True, profy=True, \n",
    "                        **plot_kws)\n",
    "        ax.format(xlabel=dims_units[i], ylabel=dims_units[j])\n",
    "    pw = energy_proj(f, level)\n",
    "    ax = axes[2]\n",
    "    ax.plot(energy_proj(f, level, ftr=ftr, normalize=True), color='black')\n",
    "    ax.format(xlabel=dims_units[4], ylim=(0, 0.1), yticks=[])\n",
    "    for ax in axes[:2]:\n",
    "        ax.format(xlim=0.8*np.array(ax.get_xlim()), ylim=0.5*np.array(ax.get_ylim()))\n",
    "        \n",
    "interactive(update, level=(0.0, 0.99, 0.01))"
   ]
  },
  {
   "cell_type": "markdown",
   "id": "1570849d-902a-4e89-a461-cc8cec003d13",
   "metadata": {},
   "source": [
    "Next, plot the 2D projections of the 5D distribution as the 4D slice boundary is changed. To slice the array, we compute a 4D mask in the transverse phase space, then copy the mask along the last axis of the array to get a 5D mask. *This works but is very slow...*"
   ]
  },
  {
   "cell_type": "code",
   "execution_count": null,
   "id": "cf71f52e-c56a-493a-8744-3aed41f9eb7e",
   "metadata": {},
   "outputs": [],
   "source": [
    "def mask_4d(f, level=0.0, ftr=None):\n",
    "    \"\"\"Mask N-D array `f` based on contours of `f.sum(axis=-1)`.\"\"\"\n",
    "    if ftr is None:\n",
    "        ftr = np.sum(f, axis=-1)\n",
    "    condition = utils.copy_into_new_dim(ftr < level, f.shape[-1])\n",
    "    return np.ma.masked_where(condition, f)"
   ]
  },
  {
   "cell_type": "code",
   "execution_count": null,
   "id": "49ecb71e-56e9-4646-9db6-047fa2fe3f35",
   "metadata": {},
   "outputs": [],
   "source": [
    "def update(log, level):\n",
    "    axes = mplt.corner(\n",
    "        mask_4d(f, level, ftr=ftr),\n",
    "        coords=coords,\n",
    "        diag_kind='None',\n",
    "        labels=dims_units,\n",
    "        frac_thresh=frac_thresh,\n",
    "        fill_value=0.0,\n",
    "        norm='log' if log else None,\n",
    "        handle_log='floor',\n",
    "        prof='edges',\n",
    "        prof_kws=dict(kind='step', lw=0.4, alpha=0.8),\n",
    "    )\n",
    "    plt.show()\n",
    "    \n",
    "interactive(update, log=False, level=(0.0, 0.99, 0.01))"
   ]
  },
  {
   "cell_type": "code",
   "execution_count": null,
   "id": "bb06b880-7ea8-49f6-9b52-33649e2a728a",
   "metadata": {},
   "outputs": [],
   "source": []
  }
 ],
 "metadata": {
  "kernelspec": {
   "display_name": "myenv",
   "language": "python",
   "name": "myenv"
  },
  "language_info": {
   "codemirror_mode": {
    "name": "ipython",
    "version": 3
   },
   "file_extension": ".py",
   "mimetype": "text/x-python",
   "name": "python",
   "nbconvert_exporter": "python",
   "pygments_lexer": "ipython3",
   "version": "3.9.7"
  }
 },
 "nbformat": 4,
 "nbformat_minor": 5
}
