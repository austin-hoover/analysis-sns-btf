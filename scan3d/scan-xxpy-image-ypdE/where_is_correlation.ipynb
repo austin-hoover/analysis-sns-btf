{
 "cells": [
  {
   "cell_type": "markdown",
   "id": "d57c07ab-d192-4b0c-8548-8d4b1f8bf7f4",
   "metadata": {},
   "source": [
    "# Locating longitudinal-transverse correlation in transverse phase space "
   ]
  },
  {
   "cell_type": "markdown",
   "id": "28e013f3-15f0-4c1d-b6a6-5db79d6a8f1c",
   "metadata": {},
   "source": [
    "The goal of this notebook is to identify the \"width\" of the observed longitudinal-transverse correlation in the phase space distribution of the BTF bunch at the first emittance station. My idea is to look at the energy distribution of particles within a boundary in 4D transverse phase space. The easiest boundary to implement would be a cube, but it would be nice to reduce things down to one variable. We could try going to normalized coordinates and plotting energy distribution for the particles within a sphere of radius $r$, for example. Or we could the 4D density contours in the transverse phase space, plotting energy distribution vs. contour level."
   ]
  },
  {
   "cell_type": "code",
   "execution_count": null,
   "id": "bde7f506-2600-46d2-b1cc-86b60b566413",
   "metadata": {},
   "outputs": [],
   "source": [
    "import sys\n",
    "import os\n",
    "from os.path import join\n",
    "import importlib\n",
    "import numpy as np\n",
    "import pandas as pd\n",
    "import h5py\n",
    "from tqdm.notebook import tqdm\n",
    "from tqdm.notebook import trange\n",
    "import seaborn as sns\n",
    "from matplotlib import pyplot as plt\n",
    "from ipywidgets import interactive\n",
    "from ipywidgets import widgets\n",
    "import proplot as pplt\n",
    "\n",
    "sys.path.append('../..')\n",
    "from tools import plotting as mplt\n",
    "from tools import utils\n",
    "from tools.utils import project"
   ]
  },
  {
   "cell_type": "code",
   "execution_count": null,
   "id": "27b21d49-8ae0-4e4e-9d31-18f30b35f6d3",
   "metadata": {},
   "outputs": [],
   "source": [
    "pplt.rc['grid'] = False\n",
    "pplt.rc['cmap.discrete'] = False\n",
    "pplt.rc['cmap.sequential'] = 'viridis'\n",
    "pplt.rc['figure.facecolor'] = 'white'"
   ]
  },
  {
   "cell_type": "markdown",
   "id": "e9d46027-149d-445c-8419-82b0f656e35e",
   "metadata": {},
   "source": [
    "## Load data "
   ]
  },
  {
   "cell_type": "code",
   "execution_count": null,
   "id": "daa40b99-f912-4a13-b157-18ca5b93cd22",
   "metadata": {},
   "outputs": [],
   "source": [
    "folder = '_saved/2021-12-03-VS06'"
   ]
  },
  {
   "cell_type": "code",
   "execution_count": null,
   "id": "999ab03d-314a-4ad8-9595-1dae7f5121a6",
   "metadata": {},
   "outputs": [],
   "source": [
    "info = utils.load_pickle(join(folder, 'info.pkl'))\n",
    "info"
   ]
  },
  {
   "cell_type": "code",
   "execution_count": null,
   "id": "aa667a98-9d95-4163-9f51-45d1360cd93f",
   "metadata": {},
   "outputs": [],
   "source": [
    "filename = info['filename']\n",
    "coords = utils.load_stacked_arrays(join(folder, f'coords_{filename}.npz'))\n",
    "shape = tuple([len(c) for c in coords])\n",
    "print('shape:', shape)"
   ]
  },
  {
   "cell_type": "code",
   "execution_count": null,
   "id": "96cbe823-0da8-4033-a64b-7ed46bfd8832",
   "metadata": {},
   "outputs": [],
   "source": [
    "f = np.memmap(join(folder, f'f_{filename}.mmp'), shape=shape, dtype='float', mode='r')"
   ]
  },
  {
   "cell_type": "code",
   "execution_count": null,
   "id": "fddf7705-b2e7-4180-a0bb-5ac824466282",
   "metadata": {},
   "outputs": [],
   "source": [
    "f_max = np.max(f)\n",
    "f_min = np.min(f)\n",
    "if f_min < 0.0:\n",
    "    print(f'min(f) = {f_min}')\n",
    "    print('Clipping to zero.')\n",
    "    f = np.clip(f, 0.0, None)"
   ]
  },
  {
   "cell_type": "code",
   "execution_count": null,
   "id": "f35e78a6-e9a5-45af-aa57-796577460dc5",
   "metadata": {},
   "outputs": [],
   "source": [
    "dims = [\"x\", \"xp\", \"y\", \"yp\", \"w\"]\n",
    "units = [\"mm\", \"mrad\", \"mm\", \"mrad\", \"MeV\"]\n",
    "dims_units = [f'{d} [{u}]' for d, u in zip(dims, units)]\n",
    "prof_kws = dict(lw=0.5, alpha=0.7, color='white', scale=0.12)"
   ]
  },
  {
   "cell_type": "markdown",
   "id": "8c01c071-07ef-4ddf-b11f-2d2af983ed92",
   "metadata": {},
   "source": [
    "Crop the 5D array."
   ]
  },
  {
   "cell_type": "code",
   "execution_count": null,
   "id": "f6f6e076-b53b-4fbd-a2fb-2e1ab970b7ef",
   "metadata": {},
   "outputs": [],
   "source": [
    "crop = (\n",
    "    (0, f.shape[0]),\n",
    "    (7, f.shape[1] - 7),\n",
    "    (0, f.shape[2]),\n",
    "    (10, f.shape[3] - 10),\n",
    "    (15, f.shape[4] - 15),\n",
    ")\n",
    "\n",
    "fig, axes = pplt.subplots(ncols=5, figwidth=7, spanx=False, figheight=None)\n",
    "for i, ax in enumerate(axes):\n",
    "    p = utils.project(f, i)\n",
    "    p = p / np.sum(p)\n",
    "    ax.plot(p, color='black')\n",
    "    ax.format(xlabel=dims[i], xlim=(crop[i][0], crop[i][1] - 1))\n",
    "# axes.format(yscale='log')\n",
    "plt.show()"
   ]
  },
  {
   "cell_type": "code",
   "execution_count": null,
   "id": "92ebc24c-a15b-4373-898c-ae60e01551af",
   "metadata": {},
   "outputs": [],
   "source": [
    "ind = tuple([slice(c[0], c[1]) for c in crop])"
   ]
  },
  {
   "cell_type": "code",
   "execution_count": null,
   "id": "49bf7a4e-1bde-4f7b-837f-a8154c6237b6",
   "metadata": {},
   "outputs": [],
   "source": [
    "f = f[ind]\n",
    "coords = [c[ind[i]] for i, c in enumerate(coords)]"
   ]
  },
  {
   "cell_type": "markdown",
   "id": "6818acdf-42df-4918-9078-3cc954700942",
   "metadata": {},
   "source": [
    "Observe 2D projections."
   ]
  },
  {
   "cell_type": "code",
   "execution_count": null,
   "id": "2181927e-b210-4d2b-8a4a-9b9adc8bef8b",
   "metadata": {},
   "outputs": [],
   "source": [
    "f_max = np.max(f)\n",
    "f_min = np.min(f)"
   ]
  },
  {
   "cell_type": "code",
   "execution_count": null,
   "id": "7533e693-e4cb-4c9a-bb0b-b1c9e98bf6c2",
   "metadata": {},
   "outputs": [],
   "source": [
    "mplt.interactive_proj2d(f / f_max, coords=coords, dims=dims, units=units)"
   ]
  },
  {
   "cell_type": "code",
   "execution_count": null,
   "id": "3dec169b-da3d-4db5-a9c4-77de6920d4d8",
   "metadata": {},
   "outputs": [],
   "source": [
    "frac_thresh = 10.0**-3.0"
   ]
  },
  {
   "cell_type": "code",
   "execution_count": null,
   "id": "00b1aa5b-2afd-4065-a3a5-a01bda2f6fda",
   "metadata": {},
   "outputs": [],
   "source": [
    "axes = mplt.corner(\n",
    "    f,\n",
    "    coords=coords,\n",
    "    diag_kind='None',\n",
    "    labels=dims_units,\n",
    "    norm=None,\n",
    "    frac_thresh=frac_thresh,\n",
    ")"
   ]
  },
  {
   "cell_type": "code",
   "execution_count": null,
   "id": "c3cf2e4c-a14f-4ef5-b465-684c664c9eef",
   "metadata": {},
   "outputs": [],
   "source": [
    "sliders = [widgets.IntSlider(min=0, max=len(c)-1, value=len(c)//2) for c in coords[:4]]"
   ]
  },
  {
   "cell_type": "code",
   "execution_count": null,
   "id": "e98a4c18-8f28-4464-a845-6288ba6ac363",
   "metadata": {},
   "outputs": [],
   "source": [
    "def update(x, xp, y, yp):\n",
    "    pw = f[x, xp, y, yp, :] / f_max\n",
    "    fig, ax = pplt.subplots(figsize=(4, 1.5))\n",
    "    # ax.format(ylim=(0, 1), xlabel=dims_units[4])\n",
    "    # ax.plot(coords[4], pw, color='black')\n",
    "    # ax.fill_between(coords[4], pw, color='black')\n",
    "    ax.bar(coords[4], pw, color='black')\n",
    "    plt.show()\n",
    "    \n",
    "interactive(update, x=sliders[0], xp=sliders[1], y=sliders[2], yp=sliders[3])"
   ]
  },
  {
   "cell_type": "markdown",
   "id": "41175d24-dad9-4579-a1ab-6ef70baab803",
   "metadata": {},
   "source": [
    "What about only real space?"
   ]
  },
  {
   "cell_type": "code",
   "execution_count": null,
   "id": "6aa62afc-63f2-471e-9949-bed50beac9bb",
   "metadata": {},
   "outputs": [],
   "source": [
    "f3d = project(f, axis=(0, 2, 4))\n",
    "f3d = f3d / np.max(f3d)\n",
    "\n",
    "def update(x, y):\n",
    "    pw = f3d[x, y]\n",
    "    fig, ax = pplt.subplots(figsize=(4, 1.5))\n",
    "    ax.format(ylim=(0, 1))\n",
    "    # ax.plot(coords[4], pw, color='black')\n",
    "    ax.bar(coords[4], pw, color='black')\n",
    "    plt.show()\n",
    "    \n",
    "interactive(update, x=sliders[0], y=sliders[2])"
   ]
  },
  {
   "cell_type": "markdown",
   "id": "3effe7ee-5010-47cc-9dcd-002c582da1be",
   "metadata": {},
   "source": [
    "We can also select ranges along each axis."
   ]
  },
  {
   "cell_type": "code",
   "execution_count": null,
   "id": "2db9cc81-7847-402f-a56a-5363b26a7639",
   "metadata": {},
   "outputs": [],
   "source": [
    "utils.make_slice(5, axis=(0, 1, 2, 3), ind=((0, 2), (3, 5), (6, 7), (8, 9)))"
   ]
  },
  {
   "cell_type": "code",
   "execution_count": null,
   "id": "780b9571-a486-4c8e-8990-a3ebf9ea4772",
   "metadata": {},
   "outputs": [],
   "source": [
    "range_sliders = [widgets.IntRangeSlider(min=0, max=len(c)-1) for c in coords[:4]]\n",
    "\n",
    "def update(xr, xpr, yr, ypr):\n",
    "    idx = utils.make_slice(5, axis=(0, 1, 2, 3), ind=(xr, xpr, yr, ypr))\n",
    "    f_slice = f[idx] / f_max\n",
    "    pw = project(f_slice, axis=4)\n",
    "    fig, ax = pplt.subplots(figsize=(4, 1.5))\n",
    "    # ax.plot(coords[4], pw, color='black')\n",
    "    # ax.fill_between(coords[4], pw, color='black')\n",
    "    ax.bar(coords[4], pw, color='black')\n",
    "    plt.show()\n",
    "    \n",
    "interactive(update, xr=range_sliders[0], xpr=range_sliders[1], yr=range_sliders[2], ypr=range_sliders[3])"
   ]
  },
  {
   "cell_type": "markdown",
   "id": "a5507dd0-d335-4295-97af-8fd9c76f1e04",
   "metadata": {},
   "source": [
    "## Energy projection within 4D transverse contours"
   ]
  },
  {
   "cell_type": "code",
   "execution_count": null,
   "id": "aa05451b-df7e-4943-8d1a-85237d034783",
   "metadata": {},
   "outputs": [],
   "source": [
    "ftr = project(f, axis=(0, 1, 2, 3))\n",
    "ftr = ftr / np.max(ftr)"
   ]
  },
  {
   "cell_type": "code",
   "execution_count": null,
   "id": "ccce9196-262d-4d8e-ab6d-09ddd9a04843",
   "metadata": {},
   "outputs": [],
   "source": [
    "fig, ax = pplt.subplots()\n",
    "ax.hist(ftr.ravel(), bins=20, color='black')\n",
    "ax.format(yscale='log', ylabel='Count', xlabel='4D pixel value')\n",
    "plt.show()"
   ]
  },
  {
   "cell_type": "markdown",
   "id": "c6f7873e-3006-432b-8b2e-048f29db634f",
   "metadata": {},
   "source": [
    "W need to find valid x, xp, y, yp indices. Then we just masked the other indices and project f as normal to get w projection."
   ]
  },
  {
   "cell_type": "code",
   "execution_count": null,
   "id": "5ddbddde-6cb7-46ab-8958-f08b3a28115d",
   "metadata": {},
   "outputs": [],
   "source": [
    "n = 30\n",
    "levels = np.linspace(0.99, 0.01, n)\n",
    "pws = []\n",
    "for level in levels:\n",
    "    inds = np.where(ftr > level)\n",
    "    pw = np.sum(f[inds], axis=0)\n",
    "    pw = pw / np.sum(pw)\n",
    "    pws.append(pw)\n",
    "pws = np.array(pws)"
   ]
  },
  {
   "cell_type": "code",
   "execution_count": null,
   "id": "f63474ba-f8df-4e6a-a008-247950220eb9",
   "metadata": {},
   "outputs": [],
   "source": [
    "fig, ax = pplt.subplots(figwidth=3.0, figheight=1.5)\n",
    "ax.pcolormesh(\n",
    "    coords[4], levels, pws, \n",
    "    cmap='dusk_r', ec='None',\n",
    ")\n",
    "ax.format(xlim=(-0.07, 0.07))\n",
    "ax.format(ylabel='4D contour level', xlabel='dE [MeV]')\n",
    "# plt.savefig('4Dcontour_dE.png')"
   ]
  },
  {
   "cell_type": "code",
   "execution_count": null,
   "id": "5e5eb527-01e6-46a6-aaa7-e75b688b01d2",
   "metadata": {},
   "outputs": [],
   "source": [
    "fig, ax = pplt.subplots(figsize=(4.5, 1.75))\n",
    "for i, (color, pw) in enumerate(zip(pplt.get_colors('flare', len(pws)), pws)):\n",
    "    x = coords[4]\n",
    "    y = pw + levels[i]\n",
    "    ax.plotx(x, y, \n",
    "             # color=color\n",
    "            color='black',\n",
    "           )\n",
    "ax.format(ylim=(-0.1, 0.1))\n",
    "ax.format(ylabel='w [MeV]', xlabel='4D contour level')\n",
    "# plt.savefig('4Dcontour_dE2.png')"
   ]
  },
  {
   "cell_type": "markdown",
   "id": "9e3ce0ff-3f65-4f77-9ce8-f333f2b60549",
   "metadata": {},
   "source": [
    "Plot 2D contours for example."
   ]
  },
  {
   "cell_type": "code",
   "execution_count": null,
   "id": "d8125b5b-ed85-4108-a875-d0b81aea4e02",
   "metadata": {},
   "outputs": [],
   "source": [
    "f2d = project(f, (2, 3))\n",
    "f2d = f2d / np.max(f2d)"
   ]
  },
  {
   "cell_type": "code",
   "execution_count": null,
   "id": "787754f1-c8e6-4bd8-9a06-088afe2ebde0",
   "metadata": {},
   "outputs": [],
   "source": [
    "fig, ax = pplt.subplots()\n",
    "mplt.plot_image(\n",
    "    f2d, x=coords[2], y=coords[3], ax=ax,\n",
    "    # cmap='mono',\n",
    "    contour=True, \n",
    "    contour_kws=dict(\n",
    "        labels=True, \n",
    "        color='white',\n",
    "        lw=0.4,\n",
    "        alpha=1,\n",
    "        levels=(0.001, 0.01, 0.1, 0.5, 1.0),\n",
    "    ),\n",
    "    colorbar=True,\n",
    ")\n",
    "ax.format(xlabel=\"y [mm]\", ylabel=\"yp [mrad]\")\n",
    "# plt.savefig('contour_yyp.png')\n",
    "plt.show()"
   ]
  },
  {
   "cell_type": "markdown",
   "id": "17dd421d-1885-470d-9cc4-6ae634c2b72f",
   "metadata": {},
   "source": [
    "## More plots"
   ]
  },
  {
   "cell_type": "markdown",
   "id": "f583d42c-e71c-45bd-ade9-b82dcd4f1211",
   "metadata": {},
   "source": [
    "I want to see what the distribution looks like as I slice it. Find the mask in the transverse phase space, then copy the mask along the last axis of the array to get a 5D mask. Then project this masked array."
   ]
  },
  {
   "cell_type": "code",
   "execution_count": null,
   "id": "2bb12799-b91e-48cf-b1f6-f3ee9f71c965",
   "metadata": {},
   "outputs": [],
   "source": [
    "def update(level):\n",
    "    # print('calculating...')\n",
    "    condition = ftr < level\n",
    "    condition = utils.copy_into_new_dim(condition, f.shape[4])\n",
    "    _f = np.ma.masked_where(condition, f)\n",
    "    p = np.sum(_f, (0, 1, 2, 3))\n",
    "    p = p / np.sum(p)\n",
    "    # print('done calculating')\n",
    "    fig, ax = pplt.subplots(figsize=(4, 1.5))\n",
    "    ax.format(xlabel=dims_units[4])\n",
    "    ax.bar(coords[4], p, color='black')\n",
    "    plt.show()\n",
    "    \n",
    "interactive(update, level=(0.0, 0.99, 0.01))"
   ]
  },
  {
   "cell_type": "markdown",
   "id": "9b474e11-cc96-4bfa-b3e1-5bf2834afafa",
   "metadata": {},
   "source": [
    "Make sure you get the same thing."
   ]
  },
  {
   "cell_type": "code",
   "execution_count": null,
   "id": "93ffef5f-0cbc-4ac5-8544-977756ca06cb",
   "metadata": {},
   "outputs": [],
   "source": [
    "n = 20\n",
    "levels = np.linspace(0.99, 0.01, n)\n",
    "pws = np.zeros((n, f.shape[4]))\n",
    "for i, level in enumerate(tqdm(levels)):\n",
    "    mask = ftr < level\n",
    "    mask = utils.copy_into_new_dim(mask, f.shape[4])\n",
    "    _f = np.ma.masked_array(f, mask=mask)\n",
    "    pws[i] = project(_f, axis=4)\n",
    "    pws[i] = pws[i] / np.sum(pws[i])"
   ]
  },
  {
   "cell_type": "code",
   "execution_count": null,
   "id": "00b656e7-97f8-4d7a-9ad3-6e538356cbf7",
   "metadata": {},
   "outputs": [],
   "source": [
    "fig, ax = pplt.subplots(figsize=(4.5, 1.75))\n",
    "for i, (color, pw) in enumerate(zip(pplt.get_colors('flare', len(pws)), pws)):\n",
    "    x = coords[4]\n",
    "    y = pw + levels[i]\n",
    "    ax.plotx(x, y, color='black')\n",
    "ax.format(ylim=(-0.1, 0.1))\n",
    "ax.format(ylabel='w [MeV]', xlabel='4D contour level')\n",
    "# plt.savefig('4Dcontour_dE2.png')"
   ]
  },
  {
   "cell_type": "code",
   "execution_count": null,
   "id": "49ecb71e-56e9-4646-9db6-047fa2fe3f35",
   "metadata": {},
   "outputs": [],
   "source": []
  }
 ],
 "metadata": {
  "kernelspec": {
   "display_name": "myenv",
   "language": "python",
   "name": "myenv"
  },
  "language_info": {
   "codemirror_mode": {
    "name": "ipython",
    "version": 3
   },
   "file_extension": ".py",
   "mimetype": "text/x-python",
   "name": "python",
   "nbconvert_exporter": "python",
   "pygments_lexer": "ipython3",
   "version": "3.9.7"
  }
 },
 "nbformat": 4,
 "nbformat_minor": 5
}
