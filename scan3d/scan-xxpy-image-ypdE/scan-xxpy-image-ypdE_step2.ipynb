{
 "cells": [
  {
   "cell_type": "markdown",
   "id": "d57c07ab-d192-4b0c-8548-8d4b1f8bf7f4",
   "metadata": {},
   "source": [
    "# Step 2: visualization"
   ]
  },
  {
   "cell_type": "code",
   "execution_count": null,
   "id": "bde7f506-2600-46d2-b1cc-86b60b566413",
   "metadata": {},
   "outputs": [],
   "source": [
    "import sys\n",
    "import os\n",
    "from os.path import join\n",
    "import time\n",
    "from datetime import datetime\n",
    "import importlib\n",
    "import numpy as np\n",
    "import pandas as pd\n",
    "import h5py\n",
    "import sympy\n",
    "from tqdm.notebook import tqdm\n",
    "from tqdm.notebook import trange\n",
    "import matplotlib as mpl\n",
    "import seaborn as sns\n",
    "from matplotlib import pyplot as plt\n",
    "from matplotlib import colors\n",
    "from matplotlib import patches\n",
    "import plotly.graph_objs as go\n",
    "from ipywidgets import interactive\n",
    "from ipywidgets import widgets\n",
    "from IPython.display import display\n",
    "from IPython.display import clear_output\n",
    "import proplot as pplt\n",
    "\n",
    "sys.path.append('../..')\n",
    "from tools import analysis as ba\n",
    "from tools import energyVS06 as energy\n",
    "from tools import image_processing as ip\n",
    "from tools import plotting as mplt\n",
    "from tools import utils\n",
    "from tools.utils import project"
   ]
  },
  {
   "cell_type": "code",
   "execution_count": null,
   "id": "27b21d49-8ae0-4e4e-9d31-18f30b35f6d3",
   "metadata": {},
   "outputs": [],
   "source": [
    "pplt.rc['grid'] = False\n",
    "pplt.rc['cmap.discrete'] = False\n",
    "pplt.rc['cmap.sequential'] = 'viridis'\n",
    "pplt.rc['figure.facecolor'] = 'white'\n",
    "pplt.rc['pdf.fonttype'] = 42  # TrueType font... for NAPAC-2022\n",
    "pplt.rc['savefig.dpi'] = 300  # default is 1000..."
   ]
  },
  {
   "cell_type": "markdown",
   "id": "e9d46027-149d-445c-8419-82b0f656e35e",
   "metadata": {},
   "source": [
    "## Load data "
   ]
  },
  {
   "cell_type": "code",
   "execution_count": null,
   "id": "daa40b99-f912-4a13-b157-18ca5b93cd22",
   "metadata": {},
   "outputs": [],
   "source": [
    "folder = '_saved/2022-03-17-VS06/'"
   ]
  },
  {
   "cell_type": "code",
   "execution_count": null,
   "id": "999ab03d-314a-4ad8-9595-1dae7f5121a6",
   "metadata": {},
   "outputs": [],
   "source": [
    "info = utils.load_pickle(join(folder, 'info.pkl'))\n",
    "info"
   ]
  },
  {
   "cell_type": "code",
   "execution_count": null,
   "id": "aa667a98-9d95-4163-9f51-45d1360cd93f",
   "metadata": {},
   "outputs": [],
   "source": [
    "filename = info['filename']\n",
    "coords = utils.load_stacked_arrays(join(folder, f'coords_{filename}.npz'))\n",
    "shape = tuple([len(c) for c in coords])\n",
    "print('shape:', shape)"
   ]
  },
  {
   "cell_type": "code",
   "execution_count": null,
   "id": "96cbe823-0da8-4033-a64b-7ed46bfd8832",
   "metadata": {},
   "outputs": [],
   "source": [
    "f = np.memmap(join(folder, f'f_{filename}.mmp'), shape=shape, dtype='float', mode='r')"
   ]
  },
  {
   "cell_type": "code",
   "execution_count": null,
   "id": "fddf7705-b2e7-4180-a0bb-5ac824466282",
   "metadata": {},
   "outputs": [],
   "source": [
    "f_max = np.max(f)\n",
    "f_min = np.min(f)\n",
    "if f_min < 0.0:\n",
    "    print(f'min(f) = {f_min}')\n",
    "    print('Clipping to zero.')\n",
    "    f = np.clip(f, 0.0, None)"
   ]
  },
  {
   "cell_type": "code",
   "execution_count": null,
   "id": "f35e78a6-e9a5-45af-aa57-796577460dc5",
   "metadata": {},
   "outputs": [],
   "source": [
    "dims = [\"x\", \"x'\", \"y\", \"y'\", \"w\"]\n",
    "units = [\"mm\", \"mrad\", \"mm\", \"mrad\", \"MeV\"]\n",
    "dims_units = [f'{d} [{u}]' for d, u in zip(dims, units)]\n",
    "labels = dims_units\n",
    "prof_kws = dict(lw=0.5, alpha=0.7, color='white', scale=0.12, kind='step')"
   ]
  },
  {
   "cell_type": "markdown",
   "id": "d0bcaa9c-95fe-46a6-99c3-2f9bc61a7d31",
   "metadata": {},
   "source": [
    "Center the grid on the beam centroid. This will make it easier to compare with simulation."
   ]
  },
  {
   "cell_type": "code",
   "execution_count": null,
   "id": "2666b542-6ba4-4af0-ba0b-52cd02222f4d",
   "metadata": {},
   "outputs": [],
   "source": [
    "proj = []\n",
    "for i in range(f.ndim):\n",
    "    p = utils.project(f, i)\n",
    "    p = p / np.sum(p)\n",
    "    proj.append(p)\n",
    "    \n",
    "centroid = [np.average(c, weights=p) for c, p in zip(coords, proj)]\n",
    "for i in range(5):\n",
    "    coords[i] = coords[i] - centroid[i]"
   ]
  },
  {
   "cell_type": "markdown",
   "id": "497eed51-7aa4-48b7-ae1c-e2f6b946ddbf",
   "metadata": {},
   "source": [
    "Crop the array if you want to."
   ]
  },
  {
   "cell_type": "code",
   "execution_count": null,
   "id": "4ddea4b8-c638-468d-8047-1117745b6e72",
   "metadata": {},
   "outputs": [],
   "source": [
    "crop = (\n",
    "    (5, f.shape[0] - 0),\n",
    "    (1, f.shape[1] - 3),\n",
    "    (0, f.shape[2] - 0),\n",
    "    (15, f.shape[3] - 15),\n",
    "    (20, f.shape[4] - 20),\n",
    ")\n",
    "\n",
    "fig, axes = pplt.subplots(ncols=5, figwidth=7, spanx=False, figheight=None)\n",
    "for i, ax in enumerate(axes):\n",
    "    ax.plot(proj[i] / np.max(proj[i]), color='black')\n",
    "    ax.axvspan(crop[i][0], crop[i][1] - 1, alpha=0.1, color='black')\n",
    "    ax.format(xlabel=dims[i] + ' [pixel]')\n",
    "# axes.format(yscale='log')\n",
    "plt.show()"
   ]
  },
  {
   "cell_type": "markdown",
   "id": "01dfa673-0214-4165-96e6-b555765f1cf1",
   "metadata": {},
   "source": [
    "Make temporary arrays `_f` and `_coords` to see if you like the crop settings before making lots of plots. "
   ]
  },
  {
   "cell_type": "code",
   "execution_count": null,
   "id": "f84a2c66-acd4-406c-8ab5-17b34e7d45e9",
   "metadata": {},
   "outputs": [],
   "source": [
    "ind = tuple([slice(*c) for c in crop])\n",
    "_f = f[ind]\n",
    "_coords = [c[ind[i]] for i, c in enumerate(coords)]"
   ]
  },
  {
   "cell_type": "code",
   "execution_count": null,
   "id": "202cafe6-3151-45e9-a393-3e2a19b14be2",
   "metadata": {},
   "outputs": [],
   "source": [
    "_f = _f / np.max(_f)"
   ]
  },
  {
   "cell_type": "code",
   "execution_count": null,
   "id": "ffcb8a85-13ea-4b64-afd2-e105b17e4deb",
   "metadata": {},
   "outputs": [],
   "source": [
    "_f[_f < 10.0**-3.0 * _f.max()] = 0"
   ]
  },
  {
   "cell_type": "markdown",
   "id": "cfc26fcf-3612-4fd2-8d7a-721e6fb81776",
   "metadata": {},
   "source": [
    "## Interactive"
   ]
  },
  {
   "cell_type": "markdown",
   "id": "14c205ca-b8ce-4f98-91f9-7f36a3c478db",
   "metadata": {},
   "source": [
    "### 1D projection of int slice "
   ]
  },
  {
   "cell_type": "code",
   "execution_count": null,
   "id": "8dfa57ce-3782-442d-b717-94b56696c5de",
   "metadata": {},
   "outputs": [],
   "source": [
    "mplt.interactive_proj1d(_f, coords=_coords, dims=dims, units=units,\n",
    "                        kind='step',\n",
    "                        slice_type='int', default_ind=4)"
   ]
  },
  {
   "cell_type": "markdown",
   "id": "4c6c4c18-41c7-436f-8f56-6a172f6b91d1",
   "metadata": {},
   "source": [
    "### 1D projection of range slice "
   ]
  },
  {
   "cell_type": "code",
   "execution_count": null,
   "id": "cf2eee1b-e8ce-4c4a-aa7c-7a0ad967862f",
   "metadata": {},
   "outputs": [],
   "source": [
    "mplt.interactive_proj1d(_f, coords=_coords, dims=dims, units=units,\n",
    "                        slice_type='range', default_ind=4)"
   ]
  },
  {
   "cell_type": "markdown",
   "id": "26ba4ab9-8443-474d-be52-2a60060f3828",
   "metadata": {},
   "source": [
    "### 2D projection of int slice "
   ]
  },
  {
   "cell_type": "code",
   "execution_count": null,
   "id": "1154d277-98ef-4650-a68f-fe79344f0a9c",
   "metadata": {},
   "outputs": [],
   "source": [
    "mplt.interactive_proj2d(_f, coords=_coords, default_ind=(2, 3),\n",
    "                        slice_type='int', dims=dims, units=units)"
   ]
  },
  {
   "cell_type": "markdown",
   "id": "4f815248-e1e7-4994-9c30-b57e7ff63c4a",
   "metadata": {},
   "source": [
    "### 2D projection of range slice"
   ]
  },
  {
   "cell_type": "code",
   "execution_count": null,
   "id": "86deac93-00a5-4e9c-9c70-a1930babc24e",
   "metadata": {},
   "outputs": [],
   "source": [
    "mplt.interactive_proj2d(f / f_max, coords=coords, default_ind=(2, 3),\n",
    "                        slice_type='range', dims=dims, units=units)"
   ]
  },
  {
   "cell_type": "markdown",
   "id": "b010f69c-d21e-4d1b-8d48-2eeefc916ec5",
   "metadata": {},
   "source": [
    "Save the grid coordinates if everything looks good."
   ]
  },
  {
   "cell_type": "code",
   "execution_count": null,
   "id": "209522b1-3c88-4896-9361-0103953f530e",
   "metadata": {},
   "outputs": [],
   "source": [
    "f = _f\n",
    "coords = _coords\n",
    "utils.save_stacked_array(f'_output/coords_{filename}_cropped.npz', coords)"
   ]
  },
  {
   "cell_type": "markdown",
   "id": "b97c1d88-e0a3-4fb7-a729-e25258a3a5e9",
   "metadata": {},
   "source": [
    "## Static "
   ]
  },
  {
   "cell_type": "markdown",
   "id": "8159a04a-60c7-47ba-a3ef-fa435c22662c",
   "metadata": {},
   "source": [
    "### Projections"
   ]
  },
  {
   "cell_type": "code",
   "execution_count": null,
   "id": "55290ff9-45cb-4250-aaca-ac04e6cc5cf7",
   "metadata": {},
   "outputs": [],
   "source": [
    "frac_thresh = 10.0**-2.7"
   ]
  },
  {
   "cell_type": "markdown",
   "id": "be5fb1f6-19a2-4c3a-a092-6c73af501927",
   "metadata": {},
   "source": [
    "Corner plot."
   ]
  },
  {
   "cell_type": "code",
   "execution_count": null,
   "id": "50da6c6b-5af9-4484-be3d-aeaa63d7d08c",
   "metadata": {},
   "outputs": [],
   "source": [
    "importlib.reload(mplt)"
   ]
  },
  {
   "cell_type": "code",
   "execution_count": null,
   "id": "2130b5ba-9669-4a27-a2d1-d9d7a7fe551d",
   "metadata": {},
   "outputs": [],
   "source": [
    "for norm in [None, 'log']:\n",
    "    axes = mplt.corner(\n",
    "        f,\n",
    "        coords=coords,\n",
    "        diag_kind='None',  # {'line', 'None'}\n",
    "        prof='edges',  # {True, False, 'edges'}\n",
    "        prof_kws=prof_kws,\n",
    "        fig_kws=dict(figwidth=(0.85 * 1.5 * 4), space=1),\n",
    "        labels=[\"x [mm]\", \"x' [mrad]\", \"y [mm]\", \"y' [mm]\", \"w [MeV]\"],\n",
    "        norm=norm,\n",
    "        handle_log='floor',\n",
    "        thresh=frac_thresh,\n",
    "        thresh_type='frac',\n",
    "        linewidth=0, rasterized=True,\n",
    "        discrete=False,\n",
    "    )\n",
    "    label_kw = dict(fontsize='large')\n",
    "    axes.format(xlabel_kw=label_kw, ylabel_kw=label_kw)\n",
    "    for png in [False, True]:\n",
    "        figname = f'_output/int_corner_norm{norm}'\n",
    "        if png:\n",
    "            figname += '.png'\n",
    "        plt.savefig(figname)\n",
    "    plt.show()"
   ]
  },
  {
   "cell_type": "markdown",
   "id": "5e8be85d-15f5-4609-9655-00960ebfdd94",
   "metadata": {},
   "source": [
    "2D projections (this will save a lot of files)."
   ]
  },
  {
   "cell_type": "code",
   "execution_count": null,
   "id": "c9359543-fcc9-4833-a354-2693f8942a2e",
   "metadata": {
    "tags": []
   },
   "outputs": [],
   "source": [
    "for i in trange(5):\n",
    "    for j in trange(i):\n",
    "        H = utils.project(f, (j, i))\n",
    "        H = H / np.max(H)\n",
    "        for norm in [None, 'log']:\n",
    "            for prof in [True, False]:\n",
    "                fig, ax = pplt.subplots()\n",
    "                mplt.plot_image(H, x=coords[j], y=coords[i], ax=ax,\n",
    "                                profx=prof, profy=prof, prof_kws=prof_kws, \n",
    "                                thresh=frac_thresh,\n",
    "                                thresh_type='frac',\n",
    "                                norm=norm, handle_log='floor', colorbar=True)\n",
    "                ax.format(xlabel=dims_units[j], ylabel=dims_units[i])\n",
    "                plt.savefig(f\"_output/proj_{dims[j]}-{dims[i]}_{norm}.png\", dpi=300)\n",
    "                plt.close()"
   ]
  },
  {
   "cell_type": "markdown",
   "id": "9bbc560d-1f53-4999-b262-3e6a60c3dd03",
   "metadata": {},
   "source": [
    "### Slices"
   ]
  },
  {
   "cell_type": "markdown",
   "id": "74efdfd6-55a2-435a-8579-7b99da4f975c",
   "metadata": {},
   "source": [
    "#### Max pixel "
   ]
  },
  {
   "cell_type": "code",
   "execution_count": null,
   "id": "8e36b0a1-f5eb-4520-b3a8-5ff72a9df1db",
   "metadata": {},
   "outputs": [],
   "source": [
    "ind = np.unravel_index(np.argmax(f), f.shape)\n",
    "ind = tuple([i for i in ind])\n",
    "print('max pixel indices:', ind)"
   ]
  },
  {
   "cell_type": "code",
   "execution_count": null,
   "id": "76517e3b-cf41-46c6-8aed-92b26d14389c",
   "metadata": {},
   "outputs": [],
   "source": [
    "prof = True\n",
    "axes_slice = [(k, j, i) for i in range(f.ndim) for j in range(i) for k in range(j)]\n",
    "axes_view = [tuple([i for i in range(f.ndim) if i not in axis])\n",
    "             for axis in axes_slice]\n",
    "for axis, axis_view in zip(axes_slice, axes_view):\n",
    "    idx = utils.make_slice(5, axis, [ind[i] for i in axis])\n",
    "    f_slice = f[idx]\n",
    "    f_slice = f_slice / np.max(f_slice)\n",
    "    \n",
    "    dim1, dim2 = [dims[i] for i in axis_view]\n",
    "    \n",
    "    fig, plot_axes = pplt.subplots(ncols=2)\n",
    "    for ax, norm in zip(plot_axes, [None, 'log']):\n",
    "        mplt.plot_image(f_slice, x=coords[axis_view[0]], y=coords[axis_view[1]],\n",
    "                        ax=ax,\n",
    "                        profx=prof, profy=prof, prof_kws=prof_kws, handle_log='floor',\n",
    "                        thresh=frac_thresh, thresh_type='frac', vmin=0.001, vmax=1.0,\n",
    "                        norm=norm, colorbar=True)\n",
    "    plot_axes.format(xlabel=dim1, ylabel=dim2)\n",
    "    string = '_output/int_slice_'\n",
    "    for i in axis:\n",
    "        string += f'{dims[i]}-{ind[i]}'\n",
    "    _dims = [dims[i] for i in axis]\n",
    "    _units = [units[i] for i in axis]\n",
    "    _vals = [coords[i][ind[i]] for i in axis]\n",
    "    plot_axes.format(suptitle=f'{_dims[0]} = {_vals[0]:.2f} [{_units[0]}],  {_dims[1]} = {_vals[1]:.2f} [{_units[1]}],  {_dims[2]} = {_vals[2]:.2f} [{_units[2]}]')\n",
    "    plot_axes.format(suptitle_kw=dict(fontweight='normal'))\n",
    "    plt.savefig(string)\n",
    "    plt.show()"
   ]
  },
  {
   "cell_type": "markdown",
   "id": "4da855a5-70c5-44f5-8fc3-0a9ca4c9d797",
   "metadata": {},
   "source": [
    "#### Energy slices"
   ]
  },
  {
   "cell_type": "code",
   "execution_count": null,
   "id": "fd8302a1-0e9b-4879-a0eb-a79de21f9251",
   "metadata": {},
   "outputs": [],
   "source": [
    "n = 6\n",
    "ncols = 6\n",
    "nrows = int(np.ceil(n / ncols))\n",
    "\n",
    "wmin = -0.05\n",
    "wmax = +0.05\n",
    "\n",
    "lo = np.where(coords[4] < wmin)[0][-1]\n",
    "hi = np.where(coords[4] > wmax)[0][0]\n",
    "\n",
    "print(coords[4][lo:hi])\n",
    "ks = np.linspace(lo, hi, n).astype(int)"
   ]
  },
  {
   "cell_type": "code",
   "execution_count": null,
   "id": "bedf610c-b02c-4a67-9484-da5caa4b51dd",
   "metadata": {
    "scrolled": true,
    "tags": []
   },
   "outputs": [],
   "source": [
    "cmap = 'viridis'\n",
    "for j in range(4):\n",
    "    for i in range(j):\n",
    "        if not ((i == 0 and j == 1) or (i == 2 and j == 3)):\n",
    "            continue\n",
    "        f3d = utils.project(f, (i, j, 4))\n",
    "        f3d = f3d / np.max(f3d)\n",
    "        for norm in [None, 'log']:\n",
    "                vmin = vmax = None\n",
    "                # colorbar = 't'\n",
    "                colorbar = False\n",
    "                prof = True\n",
    "                _vmin = vmin if not norm else None\n",
    "                _vmax = vmax if not norm else None            \n",
    "                fig, axes = pplt.subplots(ncols=ncols, nrows=nrows, figwidth=9.0)\n",
    "                for ax, k in zip(axes, ks):      \n",
    "                    image = f3d[:, :, k]\n",
    "                    image = image / np.max(image)\n",
    "                    mplt.plot_image(\n",
    "                        image, x=coords[i], y=coords[j], ax=ax,\n",
    "                        norm=norm,\n",
    "                        linewidth=0, rasterized=True, ec='None',\n",
    "                        # vmin=_vmin, \n",
    "                        vmin=1e-3,\n",
    "                        vmax=1.0,\n",
    "                        # colorbar=colorbar, \n",
    "                        # colorbar=ax==axes[-1],\n",
    "                        # colorbar_kw=dict(width=0.085, space=1),\n",
    "                        profx=prof,\n",
    "                        profy=prof,\n",
    "                        prof_kws=prof_kws,\n",
    "                        handle_log='floor',\n",
    "                        thresh=frac_thresh,\n",
    "                        thresh_type='frac',\n",
    "                        cmap=cmap,\n",
    "                        discrete=False,\n",
    "                        contour_kws=dict(color='white', lw=0.3, alpha=0.3, \n",
    "                                         values=[0.001, 0.001000001]\n",
    "                                         # values=[0.001, 0.01, 0.1],\n",
    "                                        )\n",
    "                    )\n",
    "                    ax.annotate(f'w = {coords[4][k]:.3f} [MeV]', xy=(0.02, 0.98), verticalalignment='top',\n",
    "                                xycoords='axes fraction', fontsize='small', color='white')\n",
    "                axes.format(xlabel=labels[i], ylabel=labels[j])\n",
    "                for png in [False, True]:\n",
    "                    figname = f'_output/energy_slice_proj_{dims[i]}-{dims[j]}_{cmap}_{norm}'\n",
    "                    if png:\n",
    "                        figname += '.png'\n",
    "                    plt.savefig(figname)\n",
    "                plt.show()"
   ]
  },
  {
   "cell_type": "markdown",
   "id": "bd08a8a8-2fb1-44d5-975f-b6aaab90fb9e",
   "metadata": {},
   "source": [
    "## Covariance matrix"
   ]
  },
  {
   "cell_type": "markdown",
   "id": "5ee6f61c-134b-487d-95a2-2c1055ce8529",
   "metadata": {},
   "source": [
    "Compute the 5$\\times$5 covariance matrix (this will take a while if `f` is large)."
   ]
  },
  {
   "cell_type": "code",
   "execution_count": null,
   "id": "4020b6de-7102-4d7d-9546-37bf86e68fde",
   "metadata": {},
   "outputs": [],
   "source": [
    "Sigma, means = ba.dist_cov(f, coords, disp=True)\n",
    "sympy.Matrix(np.round(Sigma, 3))"
   ]
  },
  {
   "cell_type": "markdown",
   "id": "8404286e-f9d3-40e2-be64-8875305a99d7",
   "metadata": {
    "tags": []
   },
   "source": [
    "Compute the $5 \\times 5$ correlation matrix from the covariance matrix."
   ]
  },
  {
   "cell_type": "code",
   "execution_count": null,
   "id": "0bcd1a00-7872-4e03-a054-c61ffef99209",
   "metadata": {},
   "outputs": [],
   "source": [
    "Corr = utils.cov2corr(Sigma)\n",
    "sympy.Matrix(np.round(Corr, 3))"
   ]
  },
  {
   "cell_type": "code",
   "execution_count": null,
   "id": "52bebb91-a559-4140-a90f-c55eccb3a8ca",
   "metadata": {},
   "outputs": [],
   "source": [
    "g = sns.heatmap(Corr, xticklabels=dims, yticklabels=dims, annot=True,\n",
    "                cbar=False, cmap='grays')\n",
    "plt.savefig('_output/correlation_matrix.png')"
   ]
  },
  {
   "cell_type": "code",
   "execution_count": null,
   "id": "2c7c73aa-152f-4a5c-b6a2-f9d4f757849f",
   "metadata": {},
   "outputs": [],
   "source": [
    "np.savetxt('_output/Sigma.dat', Sigma)\n",
    "np.savetxt('_output/Corr.dat', Corr)"
   ]
  },
  {
   "cell_type": "code",
   "execution_count": null,
   "id": "25d7b818-28e9-42b0-92cb-ed6969cc47c7",
   "metadata": {
    "scrolled": true,
    "tags": []
   },
   "outputs": [],
   "source": [
    "for i in range(5):\n",
    "    for j in range(i):\n",
    "        angle, cx, cy = ba.rms_ellipse_dims(Sigma[j, j], Sigma[i, i], Sigma[j, i])\n",
    "        center = (means[j], means[i])\n",
    "        width = 4.0 * cx\n",
    "        height = 4.0 * cy\n",
    "\n",
    "        fig, ax = pplt.subplots()\n",
    "        mplt.plot_image(utils.project(f, (j, i)), x=coords[j], y=coords[i], ax=ax,\n",
    "                        frac_thresh=frac_thresh)\n",
    "        ax.add_patch(\n",
    "            patches.Ellipse(\n",
    "                center, width, height, angle=-np.degrees(angle),\n",
    "                ec='white', fill=False, lw=0.9, alpha=0.6,\n",
    "            )\n",
    "        )\n",
    "        ax.format(xlabel=dims_units[i], ylabel=dims_units[j])\n",
    "        plt.savefig(f'_output/rms_ellipse_{dims[j]}-{dims[i]}.png')"
   ]
  },
  {
   "cell_type": "code",
   "execution_count": null,
   "id": "2c25640e-7eb9-4f30-8c05-3bbf40f55306",
   "metadata": {},
   "outputs": [],
   "source": [
    "axes = mplt.corner(\n",
    "    f,\n",
    "    coords=coords,\n",
    "    prof=False,\n",
    "    labels=dims_units,\n",
    "    frac_thresh=frac_thresh,\n",
    ")\n",
    "for i in range(5):\n",
    "    for j in range(i):\n",
    "        ax = axes[i, j]\n",
    "        angle, cx, cy = ba.rms_ellipse_dims(Sigma[j, j], Sigma[i, i], Sigma[j, i])\n",
    "        center = (means[j], means[i])\n",
    "        width = 4.0 * cx\n",
    "        height = 4.0 * cy\n",
    "        angle = -np.degrees(angle)\n",
    "        ax.add_patch(patches.Ellipse(center, width, height, angle=angle,\n",
    "                                     ec='white', fill=False, lw=0.7, alpha=0.6))\n",
    "plt.savefig('_output/int_corner_cov.png')\n",
    "plt.show()"
   ]
  },
  {
   "cell_type": "code",
   "execution_count": null,
   "id": "28c1d761-5bfa-45fa-ae15-5e982e89d382",
   "metadata": {},
   "outputs": [],
   "source": [
    "alpha_x, alpha_y, beta_x, beta_y = ba.twiss(Sigma)\n",
    "eps_x, eps_y, eps_1, eps_2 = ba.emittances(Sigma)\n",
    "print(f'alpha_x = {alpha_x}')\n",
    "print(f'alpha_y = {alpha_y}')\n",
    "print(f'beta_x = {beta_x}')\n",
    "print(f'beta_y = {beta_y}')\n",
    "print(f'epsx = {eps_x}')\n",
    "print(f'epsy = {eps_y}')\n",
    "print(f'eps1 = {eps_1}')\n",
    "print(f'eps2 = {eps_2}')"
   ]
  },
  {
   "cell_type": "markdown",
   "id": "59ae08be-3489-439f-8322-69f141a51f9e",
   "metadata": {},
   "source": [
    "### Root-mean-square emittances vs. energy"
   ]
  },
  {
   "cell_type": "markdown",
   "id": "4bd2c687-d231-4569-9ed8-5098323b910d",
   "metadata": {},
   "source": [
    "Computing 4D covariance matrix for each energy slice also takes a long time. For now, compute x-x' and y-y' emittances."
   ]
  },
  {
   "cell_type": "code",
   "execution_count": null,
   "id": "8c8ea8a9-f21d-451d-9278-8fd499c3aa12",
   "metadata": {},
   "outputs": [],
   "source": [
    "emittances, twiss = [], []\n",
    "for (i, j) in [(0, 1), (2, 3)]:\n",
    "    f3d = utils.project(f, (i, j, 4))\n",
    "    _Sigmas = np.zeros((shape[4], 2, 2))  # x-xp covariance matrix\n",
    "    _means = np.zeros((shape[4], 2))  # x-xp mean\n",
    "    _emittances = np.zeros(shape[4])  # rms emittance\n",
    "    _twiss = np.zeros((shape[4], 2))  # rms alpha, beta\n",
    "    for k in trange(shape[4]):  # for each energy w\n",
    "        _Sigmas[k], _means[k] = ba.dist_cov(f3d[:, :, k], [coords[i], coords[j]])\n",
    "        _emittances[k] = ba._emittance(_Sigmas[k])\n",
    "        _twiss[k] = ba._twiss(_Sigmas[k])\n",
    "    emittances.append(_emittances)\n",
    "    twiss.append(_twiss)\n",
    "emittances = np.array(emittances).T\n",
    "twiss = np.hstack(twiss)"
   ]
  },
  {
   "cell_type": "code",
   "execution_count": null,
   "id": "80773461-d79c-40d9-9e0c-79e82c8946b0",
   "metadata": {},
   "outputs": [],
   "source": [
    "colors = pplt.Cycle('colorblind').by_key()['color']\n",
    "labels = [r'$\\varepsilon_x$', r'$\\varepsilon_y$']\n",
    "\n",
    "fig, ax = pplt.subplots(figsize=(4.5, 2.5))\n",
    "for i in range(2):\n",
    "    ax.plot(coords[4], emittances[:, i], label=labels[i], marker='.', ms=3)\n",
    "    ax.axhline([eps_x, eps_y][i], color=colors[i], label=labels[i]+' (full)', \n",
    "               alpha=0.3, ls='-')\n",
    "ax.format(ylabel='[mm mrad]', xlabel='w [MeV]', title='Energy slice emittances')\n",
    "ax.legend(ncols=1, loc='r')\n",
    "plt.savefig('_output/energy_slice_emittances.png')"
   ]
  },
  {
   "cell_type": "code",
   "execution_count": null,
   "id": "795ce3f9-de73-4191-9658-4df99245116a",
   "metadata": {},
   "outputs": [],
   "source": [
    "twiss_labels = [r'$\\alpha_x$', r'$\\beta_x$', r'$\\alpha_y$', r'$\\beta_y$']\n",
    "cut = 20\n",
    "idx = np.arange(cut, shape[4] - cut)\n",
    "\n",
    "fig, ax = pplt.subplots(figsize=(4.5, 2.5))\n",
    "for i, _alpha in zip((0, 2), [alpha_x, alpha_y]):\n",
    "    ax.plot(coords[4][idx], twiss[idx, i], label=twiss_labels[i], marker='.', ms=3)\n",
    "    ax.axhline(_alpha, color=colors[i-1], label=twiss_labels[i]+' (full)', \n",
    "               alpha=0.3, ls='-')\n",
    "ax.format(xlabel='w [MeV]', title='Energy slice rms alpha')\n",
    "ax.legend(ncols=1, loc='r')\n",
    "plt.savefig('_output/energy_slice_alphas.png')"
   ]
  },
  {
   "cell_type": "code",
   "execution_count": null,
   "id": "70b7f951-8427-4af0-9b46-6a896b758ed5",
   "metadata": {},
   "outputs": [],
   "source": [
    "fig, ax = pplt.subplots(figsize=(4.5, 2.5))\n",
    "for i, _beta, color in zip((1, 3), [beta_x, beta_y], colors[:2]):\n",
    "    ax.plot(coords[4][idx], twiss[idx, i], label=twiss_labels[i], marker='.', ms=3)\n",
    "    ax.axhline(_beta, color=colors[i-1], label=twiss_labels[i]+' (full)', \n",
    "               alpha=0.3, ls='-')\n",
    "ax.format(xlabel='w [MeV]', title='Energy slice rms beta')\n",
    "ax.legend(ncols=1, loc='r')\n",
    "plt.savefig('_output/energy_slice_betas.png')"
   ]
  },
  {
   "cell_type": "code",
   "execution_count": null,
   "id": "aa4536fc-603d-48cf-9822-9ac2cebe7a10",
   "metadata": {},
   "outputs": [],
   "source": []
  }
 ],
 "metadata": {
  "kernelspec": {
   "display_name": "myenv",
   "language": "python",
   "name": "myenv"
  },
  "language_info": {
   "codemirror_mode": {
    "name": "ipython",
    "version": 3
   },
   "file_extension": ".py",
   "mimetype": "text/x-python",
   "name": "python",
   "nbconvert_exporter": "python",
   "pygments_lexer": "ipython3",
   "version": "3.9.7"
  }
 },
 "nbformat": 4,
 "nbformat_minor": 5
}
