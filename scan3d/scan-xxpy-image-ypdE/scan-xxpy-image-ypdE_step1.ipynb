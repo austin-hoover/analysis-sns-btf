{
 "cells": [
  {
   "cell_type": "markdown",
   "id": "4a6a2fec-ae49-4115-b4bf-ade79f49a70e",
   "metadata": {},
   "source": [
    "# Step 1"
   ]
  },
  {
   "cell_type": "markdown",
   "id": "344c7092-4d68-400e-ae77-533ec7c23a57",
   "metadata": {},
   "source": [
    "* Load scalar, waveform and image h5 files.\n",
    "* Interpolate each image onto y'-w grid.\n",
    "* For each sweep, interpolate y-y'-w image onto y grid.\n",
    "* For each y-y'-w image pixel, interpolate onto x-x' grid."
   ]
  },
  {
   "cell_type": "code",
   "execution_count": null,
   "id": "3fc39892-9867-4872-8f44-221cc2d61d90",
   "metadata": {},
   "outputs": [],
   "source": [
    "from datetime import datetime\n",
    "import importlib\n",
    "import itertools\n",
    "import json\n",
    "import numpy as np\n",
    "import os\n",
    "from pprint import pprint\n",
    "import sys\n",
    "\n",
    "import h5py\n",
    "import imageio\n",
    "from ipywidgets import interactive\n",
    "from ipywidgets import widgets\n",
    "from matplotlib import patches\n",
    "from matplotlib import pyplot as plt\n",
    "import pandas as pd\n",
    "from plotly import graph_objects as go\n",
    "import proplot as pplt\n",
    "from scipy import ndimage\n",
    "from scipy import interpolate\n",
    "import skimage\n",
    "from tqdm.notebook import tqdm\n",
    "from tqdm.notebook import trange\n",
    "\n",
    "sys.path.append('/home/46h/btf-data-analysis/')\n",
    "from tools import image_processing as ip\n",
    "from tools import utils\n",
    "from tools.energyVS06 import EnergyCalculate\n",
    "\n",
    "sys.path.append('/home/46h/ps-dist/')\n",
    "from psdist import plotting as mplt"
   ]
  },
  {
   "cell_type": "code",
   "execution_count": null,
   "id": "30e18ef3-72eb-4bbb-8a46-312e12e79470",
   "metadata": {},
   "outputs": [],
   "source": [
    "pplt.rc['cmap.discrete'] = False\n",
    "pplt.rc['cmap.sequential'] = 'viridis'\n",
    "pplt.rc['grid'] = False\n",
    "pplt.rc['savefig.dpi'] = 300"
   ]
  },
  {
   "cell_type": "markdown",
   "id": "d5520f6f-fd27-4d17-b3a4-ef75dfb6bd12",
   "metadata": {},
   "source": [
    "## Load data"
   ]
  },
  {
   "cell_type": "code",
   "execution_count": null,
   "id": "95d58271-8d76-4dbf-a7fc-54e153426345",
   "metadata": {},
   "outputs": [],
   "source": [
    "folder = '_output/'"
   ]
  },
  {
   "cell_type": "code",
   "execution_count": null,
   "id": "dfd2faee-cf99-4197-b46a-9cfb193c33d3",
   "metadata": {},
   "outputs": [],
   "source": [
    "info = utils.load_pickle(os.path.join(folder, 'info.pkl'))\n",
    "print('info')\n",
    "pprint(info)"
   ]
  },
  {
   "cell_type": "code",
   "execution_count": null,
   "id": "0937824b-7755-4fb2-ba86-9b79fe6f9927",
   "metadata": {},
   "outputs": [],
   "source": [
    "filename = info['filename']\n",
    "file = h5py.File(os.path.join(folder, 'preproc-' + filename + '.h5'), 'r')\n",
    "data_sc = file['/scalardata']\n",
    "data_wf = file['/wfdata']\n",
    "data_im = file['/imagedata']\n",
    "\n",
    "print('Attributes:')\n",
    "print()\n",
    "for data in [data_sc, data_wf, data_im]:\n",
    "    print(data.name)\n",
    "    for item in data.dtype.fields.items():\n",
    "        print(item)\n",
    "    print()"
   ]
  },
  {
   "cell_type": "code",
   "execution_count": null,
   "id": "adc83282-73c7-44da-8edc-464de2b6f366",
   "metadata": {},
   "outputs": [],
   "source": [
    "def save(figname, path=folder, prefix='fig_step1', ext='png', **kws):\n",
    "    figname = f'{prefix}_{figname}'\n",
    "    if ext:\n",
    "        figname = f'{figname}.{ext}'\n",
    "    plt.savefig(os.path.join(path, figname), **kws)"
   ]
  },
  {
   "cell_type": "markdown",
   "id": "7ce8aac7-816b-4788-bef8-bc33e174d723",
   "metadata": {},
   "source": [
    "## Scan overview"
   ]
  },
  {
   "cell_type": "markdown",
   "id": "dd9d4dac-8ef6-4ffb-923d-42c51c18b06a",
   "metadata": {},
   "source": [
    "### Data collection frequency"
   ]
  },
  {
   "cell_type": "code",
   "execution_count": null,
   "id": "74eca49c-8c70-4c73-84a3-7da1f47fe901",
   "metadata": {},
   "outputs": [],
   "source": [
    "duration = data_sc[-1, 'timestamp'] - data_sc[0, 'timestamp']\n",
    "iteration_duration = duration / data_sc[-1, 'iteration']\n",
    "points_per_iteration = len(data) / data_sc[-1, 'iteration']\n",
    "print(f'{len(data)} points recorded over {duration:.1f} seconds ({(duration / 3600.0):.1f} hours)')\n",
    "print(f\"Number of iterations: {data_sc[-1, 'iteration']}\")\n",
    "print(f'Effective rep rate: {(len(data) / duration):.2f} Hz')\n",
    "print(f'Time per iteration: {iteration_duration:.2f} seconds')\n",
    "print(f'Points per iteration: {points_per_iteration:.2f}')"
   ]
  },
  {
   "cell_type": "markdown",
   "id": "c6405333-d81a-4c96-bf0d-cec2e0ec5daf",
   "metadata": {},
   "source": [
    "Look for long pauses during data collection."
   ]
  },
  {
   "cell_type": "code",
   "execution_count": null,
   "id": "2364308e-e46a-4df9-91a7-ff30e1775efb",
   "metadata": {},
   "outputs": [],
   "source": [
    "timestamps = data_sc['timestamp'][:]\n",
    "dt = np.diff(timestamps)\n",
    "rep_rate = 1.0 / np.median(dt)\n",
    "print(f'reprate = {rep_rate:.2f} Hz')\n",
    "\n",
    "print('Pauses longer than 30 seconds:')\n",
    "long_pause = 30.0\n",
    "pprint(dt[dt > long_pause])\n",
    "dt[dt > long_pause] = 0.2\n",
    "\n",
    "hist, bins = np.histogram(dt, bins=21)\n",
    "idx_bins = np.digitize(dt, bins)\n",
    "idx_pause, = np.where(idx_bins > 1)\n",
    "median_pause = np.median(dt[idx_pause])\n",
    "print(f'Most pauses are {median_pause:.2f} seconds')\n",
    "\n",
    "fig, ax = pplt.subplots()\n",
    "ax.bar(0.5 * (bins[1:] + bins[:-1]), hist, color='black', alpha=0.3)\n",
    "ax.axvline(median_pause, color='black')\n",
    "ax.format(xlabel='Pause length [seconds]', ylabel='Number of points', yscale='log')\n",
    "save('pauses')"
   ]
  },
  {
   "cell_type": "markdown",
   "id": "600f92f4-41fb-4de3-ab88-514f17b859e4",
   "metadata": {},
   "source": [
    "### Camera integral and saturation"
   ]
  },
  {
   "cell_type": "code",
   "execution_count": null,
   "id": "55dfb977-03df-4500-b340-ef6828349b99",
   "metadata": {},
   "outputs": [],
   "source": [
    "cam = info['cam']\n",
    "saturation = data_sc[info['cam'] + '_Saturation'][:]\n",
    "\n",
    "fig, ax = pplt.subplots(figsize=(8.0, 2.0))\n",
    "ax.plot(saturation, color='lightgrey', lw=0.8)\n",
    "ax.format(ylabel='saturation', xlabel='Point', ylim=(ax.get_ylim()[0], 1.0))\n",
    "save(f'{cam}_saturation')"
   ]
  },
  {
   "cell_type": "markdown",
   "id": "c8e579c4-010d-4f87-b720-9b370d826ac1",
   "metadata": {},
   "source": [
    "Camera integral: Define `signal` as the camera integral normalized to the range [0, 1] (minimium is subtracted first). By tuning `thresh` and observing the signal in logarithmic scale, we can estimate the dynamic range."
   ]
  },
  {
   "cell_type": "code",
   "execution_count": null,
   "id": "2357a435-a1a1-457f-80a0-ec5615f0a564",
   "metadata": {},
   "outputs": [],
   "source": [
    "signal = data_sc[cam + '_Integral'][:]\n",
    "signal = signal - np.min(signal)\n",
    "signal = signal / np.max(signal)\n",
    "thresh = 0.0004  # fraction of max signal\n",
    "valid, = np.where(signal >= thresh)\n",
    "invalid, = np.where(signal < thresh)\n",
    "\n",
    "print(f'Fractional signal thresh = {thresh}')\n",
    "print(f'Fraction of points above thresh: {len(valid) / len(signal)}')\n",
    "for yscale in [None, 'log']:\n",
    "    fig, ax = pplt.subplots(figsize=(8.0, 2.35))\n",
    "    ax.plot(signal, color='lightgrey', lw=0.8)\n",
    "    ax.plot(valid, signal[valid], lw=0, marker='.', ms=2, alpha=1, ec='None', color='black')\n",
    "    ax.format(yscale=yscale, ylabel='Signal', xlabel='Point')\n",
    "    save(f'signal_thresh_{yscale}')"
   ]
  },
  {
   "cell_type": "markdown",
   "id": "dc354e33-9acf-4f4a-9661-896b3bd64ffa",
   "metadata": {},
   "source": [
    "## Setup interpolation grids"
   ]
  },
  {
   "cell_type": "markdown",
   "id": "1843531a-f448-40ac-8cf6-425a45298e13",
   "metadata": {},
   "source": [
    "Input `nsteps`, the number of x1, x2, y1 steps during the scan. This does not need to be exact. (It will not be exact for y1 since this is the sweeping variable.)"
   ]
  },
  {
   "cell_type": "code",
   "execution_count": null,
   "id": "2e486c3e-a0cf-4d50-b07f-321eeb6f04a8",
   "metadata": {},
   "outputs": [],
   "source": [
    "acts = ['x_PositionSync', 'xp_PositionSync', 'y_PositionSync']\n",
    "nsteps = [64, 64, 64]"
   ]
  },
  {
   "cell_type": "markdown",
   "id": "d2e6a29c-d857-49e2-a956-f72280619532",
   "metadata": {},
   "source": [
    "Generate `points`, a list of {x1, x2, y1} slit coordinates."
   ]
  },
  {
   "cell_type": "code",
   "execution_count": null,
   "id": "c28655b7-ec45-4890-aef2-dcef5462197d",
   "metadata": {},
   "outputs": [],
   "source": [
    "points = np.vstack([data_sc[act] for act in acts]).T\n",
    "print('points.shape =', points.shape)"
   ]
  },
  {
   "cell_type": "markdown",
   "id": "35f306ee-e70a-4689-a054-5bced8eed5dc",
   "metadata": {},
   "source": [
    "Convert to the beam-frame coordinates."
   ]
  },
  {
   "cell_type": "code",
   "execution_count": null,
   "id": "55827a9e-cb27-4e09-9ea2-fd51b9bc47c2",
   "metadata": {},
   "outputs": [],
   "source": [
    "# VT04/VT06 are same sign as x_beam; VT34a and VT34b are opposite. This\n",
    "# is due to the 180-degree bend in the BTF lattice.\n",
    "if cam.lower() == 'cam34':\n",
    "    points[:, :2] = -points[:, :2]\n",
    "\n",
    "# The horizontal slit coordinate y1 changes sign (slit inserted from above).\n",
    "points[:, 2] = -points[:, 2]\n",
    "\n",
    "# The screen coordinates (x3, y3) also change sign (right hand rule).\n",
    "image_shape = info['image_shape']\n",
    "x3grid = -np.arange(image_shape[1]) * info['image_pix2mm_x'] \n",
    "y3grid = -np.arange(image_shape[0]) * info['image_pix2mm_y']"
   ]
  },
  {
   "cell_type": "markdown",
   "id": "ecef285b-289e-4aa9-96a5-725621db275f",
   "metadata": {},
   "source": [
    "Build the transfer matrices between the slits and the screen. "
   ]
  },
  {
   "cell_type": "code",
   "execution_count": null,
   "id": "82542f1b-7829-44e7-8b0e-84a389967280",
   "metadata": {},
   "outputs": [],
   "source": [
    "dipole_current = 0.0  # deviation of dipole current from nominal\n",
    "l = 0.129  # dipole face to screen (assume same for first/last dipole-screen)\n",
    "metadata = info['metadata']\n",
    "if cam.lower() == 'cam06':\n",
    "    GL05 = 0.0  # QH05 integrated field strength (1 [A] = 0.0778 [Tm])\n",
    "    GL06 = 0.0  # QH06 integrated field strength (1 [A] = 0.0778 [Tm])\n",
    "    l1 = 0.280  # slit1 to QH05 center\n",
    "    l2 = 0.210  # QH05 center to QV06 center\n",
    "    l3 = 0.457  # QV06 center to slit2\n",
    "    L2 = 0.599  # slit2 to dipole face    \n",
    "    rho_sign = +1.0  # dipole bend radius sign\n",
    "    if GL05 == 0.0 and metadata['BTF_MEBT_Mag:PS_QH05:I_Set'] != 0.0:\n",
    "        print('Warning: QH05 is turned on according to metadata.')\n",
    "    if GL05 != 0.0 and metadata['BTF_MEBT_Mag:PS_QH05:I_Set'] == 0.0:\n",
    "        print('Warning: QH05 is turned off according to metadata.')\n",
    "    if GL06 == 0.0 and metadata['BTF_MEBT_Mag:PS_QV06:I_Set'] != 0.0:\n",
    "        print('Warning: QH06 is turned on according to metadata.')\n",
    "    if GL06 != 0.0 and metadata['BTF_MEBT_Mag:PS_QV06:I_Set'] == 0.0:\n",
    "        print('Warning: QH06 is turned off according to metadata.')\n",
    "elif cam.lower() == 'cam34':\n",
    "    GL05 = 0.0  # QH05 integrated field strength\n",
    "    GL06 = 0.0  # QH06 integrated field strength\n",
    "    l1 = 0.000  # slit1 to QH05 center\n",
    "    l2 = 0.000  # QH05 center to QV06 center\n",
    "    l3 = 0.774  # QV06 center to slit2\n",
    "    L2 = 0.311  # slit2 to dipole face\n",
    "    # Weird... I can only get the right answer for energy if I *do not* flip rho,\n",
    "    # x1, x2, and x3. I then flip x and xp at the very end.\n",
    "    rho_sign = +1.0  # dipole bend radius sign\n",
    "    x3grid = -x3grid\n",
    "    points[:, :2] = -points[:, :2]\n",
    "LL = l1 + l2 + l3 + L2  # distance from emittance plane to dipole entrance\n",
    "ecalc = EnergyCalculate(l1=l1, l2=l2, l3=l3, L2=L2, l=l, rho_sign=rho_sign)\n",
    "Mslit = ecalc.getM1(GL05=GL05, GL06=GL06)  # slit-slit\n",
    "Mscreen = ecalc.getM(GL05=GL05, GL06=GL06)  # slit-screen"
   ]
  },
  {
   "cell_type": "markdown",
   "id": "745cc708-08bd-496b-b3dd-aac2399733c7",
   "metadata": {},
   "source": [
    "Convert to x'."
   ]
  },
  {
   "cell_type": "code",
   "execution_count": null,
   "id": "8b5159c6-faba-4d60-b69f-4a6e84d203e7",
   "metadata": {},
   "outputs": [],
   "source": [
    "points[:, 1] = 1.0e3 * ecalc.calculate_xp(points[:, 0] * 1.0e-3, points[:, 1] * 1.0e-3, Mslit) "
   ]
  },
  {
   "cell_type": "markdown",
   "id": "ceed66df-db4e-4b6d-bb7c-e43597d9467b",
   "metadata": {},
   "source": [
    "Center points at zero."
   ]
  },
  {
   "cell_type": "markdown",
   "id": "13c72e49-a2eb-4597-b781-0baa56737d0c",
   "metadata": {},
   "source": [
    "Make grids."
   ]
  },
  {
   "cell_type": "code",
   "execution_count": null,
   "id": "374a4fae-b1c6-4a52-986f-2a3d3921da12",
   "metadata": {},
   "outputs": [],
   "source": [
    "scales = [1.1, 1.6, 1.1]  # grid resolution relative to `nsteps`\n",
    "points -= np.mean(points, axis=0)\n",
    "mins = np.min(points, axis=0)\n",
    "maxs = np.max(points, axis=0)\n",
    "ns = np.multiply(scales, np.array(nsteps) + 1).astype(int)\n",
    "xgrid, xpgrid, ygrid = [np.linspace(umin, umax, n) for (umin, umax, n) in zip(mins, maxs, ns)]\n",
    "\n",
    "# Compute y' for each y-y3.\n",
    "YP = np.zeros((len(ygrid), len(y3grid)))\n",
    "for k, y in enumerate(ygrid):\n",
    "    YP[k] = 1e3 * ecalc.calculate_yp(1e-3 * y, 1e-3 * y3grid, Mscreen)\n",
    "ypgrid = np.linspace(np.min(YP), np.max(YP), int(1.1 * len(y3grid)))\n",
    "\n",
    "# Compute w (energy) for each x-xp.\n",
    "W = np.zeros((len(xgrid), len(xpgrid), len(x3grid)))\n",
    "for i, x in enumerate(xgrid):\n",
    "    for j, xp in enumerate(xpgrid):\n",
    "        W[i, j] = ecalc.calculate_dE_screen(1e-3 * x3grid, dipole_current, 1e-3 * x, 1e-3 * xp, Mscreen)\n",
    "wgrid = np.linspace(np.min(W), np.max(W), int(1.1 * len(x3grid)))"
   ]
  },
  {
   "cell_type": "markdown",
   "id": "25bfd481-23e1-441d-a708-3853ec6db9fe",
   "metadata": {},
   "source": [
    "## Interpolate "
   ]
  },
  {
   "cell_type": "code",
   "execution_count": null,
   "id": "ef27ba9e-f305-4aad-91e9-64794cd1e090",
   "metadata": {},
   "outputs": [],
   "source": [
    "iterations = data_sc['iteration'].copy()  # iteration == sweep\n",
    "iteration_nums = np.unique(iterations)\n",
    "n_iterations = len(iteration_nums)\n",
    "kws = dict(kind='linear', copy=True, bounds_error=False, fill_value=0.0, assume_sorted=False)"
   ]
  },
  {
   "cell_type": "markdown",
   "id": "c7537ee2-0d05-4d40-81cb-063473802741",
   "metadata": {},
   "source": [
    "### Interpolate y"
   ]
  },
  {
   "cell_type": "code",
   "execution_count": null,
   "id": "1f3d819f-779d-4747-9af3-98a6c40cf346",
   "metadata": {},
   "outputs": [],
   "source": [
    "images_yy3x3 = []\n",
    "for iteration in tqdm(iteration_nums):\n",
    "    idx, = np.where(iterations == iteration)\n",
    "    _points = points[idx, 2]\n",
    "    _values = data_im[idx, cam + '_Image'].reshape((len(idx), len(y3grid), len(x3grid)))\n",
    "    _, uind = np.unique(_points, return_index=True)\n",
    "    fint = interpolate.interp1d(_points[uind], _values[uind], axis=0, **kws)\n",
    "    images_yy3x3.append(fint(ygrid))"
   ]
  },
  {
   "cell_type": "markdown",
   "id": "3bc78ecd-e694-440d-9b1b-2d58cedf81fe",
   "metadata": {},
   "source": [
    "### Interpolate y'"
   ]
  },
  {
   "cell_type": "code",
   "execution_count": null,
   "id": "497dfbe4-c49c-4b1b-a7a6-dbec9bd5162f",
   "metadata": {},
   "outputs": [],
   "source": [
    "images_yypx3 = []\n",
    "for image_yy3x3 in tqdm(images_yy3x3):\n",
    "    image_yypx3 = np.zeros((len(ygrid), len(ypgrid), len(x3grid)))\n",
    "    for k in range(len(ygrid)):\n",
    "        _points = YP[k]\n",
    "        _values = image_yy3x3[k, :, :]\n",
    "        fint = interpolate.interp1d(_points, _values, axis=0, **kws)\n",
    "        image_yypx3[k, :, :] = fint(ypgrid)\n",
    "    images_yypx3.append(image_yypx3)\n",
    "del(images_yy3x3)"
   ]
  },
  {
   "cell_type": "markdown",
   "id": "31420c5f-8b77-4d48-8469-c7644480b82c",
   "metadata": {},
   "source": [
    "### Interpolate w"
   ]
  },
  {
   "cell_type": "code",
   "execution_count": null,
   "id": "132a5dab-366b-4086-90f9-bc469a9b0b32",
   "metadata": {},
   "outputs": [],
   "source": [
    "XXP = []\n",
    "images_yypw = []\n",
    "for iteration, image_yypx3 in enumerate(tqdm(images_yypx3), start=1):\n",
    "    x, xp = np.mean(points[iterations == iteration, :2], axis=0)\n",
    "    _points = ecalc.calculate_dE_screen(1.0e-3 * x3grid, dipole_current, 1.0e-3 * x, 1.0e-3 * xp, Mscreen)\n",
    "    _values = image_yypx3\n",
    "    fint = interpolate.interp1d(_points, _values, axis=-1, **kws)\n",
    "    images_yypw.append(fint(wgrid))\n",
    "    XXP.append([x, xp])\n",
    "del(images_yypx3)\n",
    "XXP = np.array(XXP)\n",
    "images_yypw = np.array(images_yypw)"
   ]
  },
  {
   "cell_type": "markdown",
   "id": "6101785f-abde-4c31-b0c6-56175989cb68",
   "metadata": {},
   "source": [
    "### Interpolate x-x'"
   ]
  },
  {
   "cell_type": "markdown",
   "id": "ba97fc11-ad19-4b62-87df-d9f3fb68b2a6",
   "metadata": {},
   "source": [
    "Since we moved in vertical lines in the x-xp plane, we could separate the x and xp interpolations. If we moved in diagonal lines in the x-xp plane, we would need to use 2D interpolation The variable `xxp_interp` determines which method to use."
   ]
  },
  {
   "cell_type": "code",
   "execution_count": null,
   "id": "d380e5c9-a8df-4393-9234-e1fe1b48afbf",
   "metadata": {},
   "outputs": [],
   "source": [
    "xxp_interp = '1D'  # {'1D', '2D'}"
   ]
  },
  {
   "cell_type": "markdown",
   "id": "4a76e316-8d6a-47ae-a9b6-09d791dc3640",
   "metadata": {},
   "source": [
    "Group the iterations by x step. Loop through each iteration and check if x has changed significantly. (Within each x step, x should only change by a small amount due to noise in the readback.) Find a good cutoff `max_abs_delta`."
   ]
  },
  {
   "cell_type": "code",
   "execution_count": null,
   "id": "88868223-45d6-401c-bbb0-a7e9aa7f30e7",
   "metadata": {},
   "outputs": [],
   "source": [
    "max_abs_delta = 0.03  # Max absolute change in x within a group.\n",
    "X, steps = [], []\n",
    "x_last = np.inf\n",
    "for iteration in trange(1, n_iterations + 1):\n",
    "    x, xp = XXP[iteration - 1]\n",
    "    if np.abs(x - x_last) > max_abs_delta:\n",
    "        X.append(x)\n",
    "        steps.append([])\n",
    "    steps[-1].append(iteration)\n",
    "    x_last = x\n",
    "\n",
    "fig, ax = pplt.subplots(figsize=(4, 2))\n",
    "ax.hist(np.abs(np.diff(points[:, 0])), bins=75, color='black')\n",
    "ax.axvline(max_abs_delta, color='red')\n",
    "ax.format(yscale='log', xlabel=r'$\\Delta x$ [mm]', ylabel='Number of steps')\n",
    "save('scan_delta_x')\n",
    "plt.show()\n",
    "\n",
    "fig, ax = pplt.subplots(figsize=(4, 2))\n",
    "for _iterations in steps:\n",
    "    _idx = np.array(_iterations) - 1\n",
    "    ax.scatter(XXP[_idx][:, 0], XXP[_idx][:, 1], s=1)\n",
    "    ax.format(xlabel=\"x [mm]\", ylabel=\"x' [mrad]\")\n",
    "save('scan_x_groups')\n",
    "plt.show()"
   ]
  },
  {
   "cell_type": "markdown",
   "id": "afafabf8-c853-48bd-b695-672e4f1a3d7a",
   "metadata": {},
   "source": [
    "Interpolate:"
   ]
  },
  {
   "cell_type": "code",
   "execution_count": null,
   "id": "6ae10686-9921-4851-ae7b-8753b784fc85",
   "metadata": {},
   "outputs": [],
   "source": [
    "shape = (len(xgrid), len(xpgrid), len(ygrid), len(ypgrid), len(wgrid))\n",
    "f = np.memmap(\n",
    "    os.path.join(folder, f'f_{filename}.mmp'), \n",
    "    dtype='float', \n",
    "    mode='w+', \n",
    "    shape=shape,\n",
    ")"
   ]
  },
  {
   "cell_type": "code",
   "execution_count": null,
   "id": "73cc2e16-a346-47f3-b2cc-f54b5fabc527",
   "metadata": {},
   "outputs": [],
   "source": [
    "if xxp_interp == '1D':\n",
    "    # Interpolate x'-y-y'-w image along x'\n",
    "    print(\"Interpolating xp.\")\n",
    "    images_xpyypw = []\n",
    "    for _iterations in tqdm(steps):\n",
    "        idx = np.array(_iterations) - 1\n",
    "        _points = XXP[idx, 1]\n",
    "        _values = images_yypw[idx]\n",
    "        fint = interpolate.interp1d(_points, _values, axis=0, **kws)\n",
    "        images_xpyypw.append(fint(xpgrid))\n",
    "    del(images_yypw)\n",
    "\n",
    "    # Interpolate the x-x'-y-y'-w image stack onto a regular x grid. \n",
    "    print(\"Interpolating x.\")\n",
    "    \n",
    "    # Could get memory errors for large arrays. In this case, break down \n",
    "    # into smaller interpolations. If `n_loop = 1`, interpolate the x-y-y'-w\n",
    "    # image for each x'; if `n_loop == 2`, interpolate the x-y'-w image for \n",
    "    # each x'-y; etc. If `n_loop == 0`, interpolate the x-x'-y-y'-w image \n",
    "    # directly.\n",
    "    n_loop = 2\n",
    "    _points = X\n",
    "    if n_loop == 0:\n",
    "        _values = images_xpyypw\n",
    "        fint = interpolate.interp1d(_points, _values, axis=0, **kws)\n",
    "        f[:, j, k, l, m] = fint(xgrid)\n",
    "    else:\n",
    "        images_xpyypw = np.array(images_xpyypw)\n",
    "        axis = list(range(1, n_loop + 1))\n",
    "        ranges = [range(s) for s in shape[1: n_loop + 1]]\n",
    "        for ind in tqdm(itertools.product(*ranges)):\n",
    "            idx = utils.make_slice(5, axis=axis, ind=ind)\n",
    "            _values = images_xpyypw[idx]\n",
    "            fint = interpolate.interp1d(_points, _values, axis=0, **kws)\n",
    "            f[idx] = fint(xgrid) \n",
    "        del(images_xpyypw)\n",
    "else:\n",
    "    # 2D interpolation of x-x' for each {y, y', w}.\n",
    "    print(\"Interpolating x-xp.\")\n",
    "    _points = XXP\n",
    "    _new_points = utils.get_grid_coords(xgrid, xpgrid)\n",
    "    for k in trange(shape[2]):\n",
    "        for l in trange(shape[3]):\n",
    "            for m in range(shape[4]):\n",
    "                _values = images_yypw[:, k, l, m]\n",
    "                new_values = interpolate.griddata(\n",
    "                    _points,\n",
    "                    _values,\n",
    "                    _new_points,\n",
    "                    method='linear',\n",
    "                    fill_value=False,\n",
    "                )\n",
    "                f[:, :, k, l, m] = new_values.reshape((shape[0], shape[1]))"
   ]
  },
  {
   "cell_type": "markdown",
   "id": "c9ff6da1-cc0a-4de0-8f8f-dd481524be2b",
   "metadata": {},
   "source": [
    "## Shutdown"
   ]
  },
  {
   "cell_type": "markdown",
   "id": "7a639adf-4bd5-4b89-a57e-2effe14f9e6a",
   "metadata": {},
   "source": [
    "Hack: flip x-x' if we are at Cam34."
   ]
  },
  {
   "cell_type": "code",
   "execution_count": null,
   "id": "3f2f69a8-0697-4d75-81a5-31d2b7189d77",
   "metadata": {},
   "outputs": [],
   "source": [
    "if cam.lower() == 'cam34':\n",
    "    ## This may give a memory error...\n",
    "    f[:, :, :, :, :] = f[::-1, ::-1, :, :, :] \n",
    "    \n",
    "    ## ...but this should not.\n",
    "    # for k in trange(shape[2]):\n",
    "    #     f[:, :, k, :, :] = f[::-1, ::-1, k, :, :]"
   ]
  },
  {
   "cell_type": "markdown",
   "id": "26856685-a039-4403-9f72-df77d54a27d8",
   "metadata": {},
   "source": [
    "Save the grid coordinates."
   ]
  },
  {
   "cell_type": "code",
   "execution_count": null,
   "id": "939b8f64-d328-4260-aa45-6ec2e3acb8d9",
   "metadata": {},
   "outputs": [],
   "source": [
    "coords = [xgrid, xpgrid, ygrid, ypgrid, wgrid]\n",
    "coords = [c.copy() - np.mean(c) for c in coords]\n",
    "utils.save_stacked_array(os.path.join(folder, f'coords_{filename}.npz'), coords)"
   ]
  },
  {
   "cell_type": "markdown",
   "id": "9c359599-c7c0-4e4c-9f80-019fa9da6b40",
   "metadata": {},
   "source": [
    "Briefly examine the interpolated array."
   ]
  },
  {
   "cell_type": "code",
   "execution_count": null,
   "id": "2270af51-04f6-4432-a014-e655ddf75d0d",
   "metadata": {},
   "outputs": [],
   "source": [
    "dims = [\"x\", \"x'\", \"y\", \"y'\", \"w\"]\n",
    "units = ['mm', 'mrad', 'mm', 'mrad', 'MeV']\n",
    "dims_units = [f'{dim} [{unit}]' for dim, unit in zip(dims, units)]\n",
    "prof_kws = dict(kind='step')"
   ]
  },
  {
   "cell_type": "code",
   "execution_count": null,
   "id": "0c0fc3bf-f729-4102-9f33-91e8528b1166",
   "metadata": {},
   "outputs": [],
   "source": [
    "mplt.interactive_proj1d(f, coords=coords, dims=dims, units=units)"
   ]
  },
  {
   "cell_type": "code",
   "execution_count": null,
   "id": "762a86bd-d9b3-4977-8a35-f34525d011ab",
   "metadata": {},
   "outputs": [],
   "source": [
    "mplt.interactive_proj2d(f, coords=coords, dims=dims, units=units, prof_kws=prof_kws)"
   ]
  },
  {
   "cell_type": "markdown",
   "id": "93bca038-876b-46b4-8e12-80a722eee20c",
   "metadata": {},
   "source": [
    "Write changes to the memory map."
   ]
  },
  {
   "cell_type": "code",
   "execution_count": null,
   "id": "2d8b2bc1-3e44-4838-94a1-a763c702fa8b",
   "metadata": {},
   "outputs": [],
   "source": [
    "f.flush()"
   ]
  },
  {
   "cell_type": "markdown",
   "id": "94d961ce-003b-48a2-93c0-632905aaddbc",
   "metadata": {},
   "source": [
    "Save info."
   ]
  },
  {
   "cell_type": "code",
   "execution_count": null,
   "id": "172b5d13-03c0-4951-9064-e29a863220e7",
   "metadata": {},
   "outputs": [],
   "source": [
    "info['dims'] = dims\n",
    "info['units'] = units\n",
    "info['int_shape'] = shape\n",
    "utils.save_pickle(os.path.join(folder, 'info.pkl'), info)"
   ]
  },
  {
   "cell_type": "markdown",
   "id": "6e98b6d2-e0b6-4bd9-8ea0-3c53b2b1df3b",
   "metadata": {},
   "source": [
    "Save static html of this notebook."
   ]
  },
  {
   "cell_type": "code",
   "execution_count": null,
   "id": "bf92f74c-e31f-4496-9e80-7d5fc848d308",
   "metadata": {},
   "outputs": [],
   "source": [
    "os.system(f\"jupyter nbconvert scan-xxpy-image-ypdE_step1.ipynb --to html\");\n",
    "os.system(f\"mv scan-xxpy-image-ypdE_step1.html {folder}\");"
   ]
  },
  {
   "cell_type": "code",
   "execution_count": null,
   "id": "b7c93a30-c2ce-453a-8101-be7b1bf314fc",
   "metadata": {},
   "outputs": [],
   "source": [
    "os.system(f\"ls {folder}\");"
   ]
  },
  {
   "cell_type": "code",
   "execution_count": null,
   "id": "c2916965-e079-4e4d-887e-1a2d46225629",
   "metadata": {},
   "outputs": [],
   "source": [
    "file.close()"
   ]
  },
  {
   "cell_type": "code",
   "execution_count": null,
   "id": "dbfa8ac1-3185-4b4c-b454-ef52b10e6092",
   "metadata": {},
   "outputs": [],
   "source": []
  }
 ],
 "metadata": {
  "kernelspec": {
   "display_name": "myenv",
   "language": "python",
   "name": "myenv"
  },
  "language_info": {
   "codemirror_mode": {
    "name": "ipython",
    "version": 3
   },
   "file_extension": ".py",
   "mimetype": "text/x-python",
   "name": "python",
   "nbconvert_exporter": "python",
   "pygments_lexer": "ipython3",
   "version": "3.9.7"
  },
  "toc-autonumbering": true
 },
 "nbformat": 4,
 "nbformat_minor": 5
}
