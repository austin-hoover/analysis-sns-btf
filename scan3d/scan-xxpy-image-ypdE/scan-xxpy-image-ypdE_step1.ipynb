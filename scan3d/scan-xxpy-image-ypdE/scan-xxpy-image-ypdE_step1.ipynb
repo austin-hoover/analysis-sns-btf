{
 "cells": [
  {
   "cell_type": "markdown",
   "id": "4a6a2fec-ae49-4115-b4bf-ade79f49a70e",
   "metadata": {},
   "source": [
    "# Step 1"
   ]
  },
  {
   "cell_type": "markdown",
   "id": "344c7092-4d68-400e-ae77-533ec7c23a57",
   "metadata": {},
   "source": [
    "* Load scalar, waveform and image h5 files.\n",
    "* For each sweep, interpolate images on regular y grid. \n",
    "* For each y and image pixel, interpolate x-x'. (f(x, x', y, y3, x3))\n",
    "* For each (x, xp, y, x3), interpolate yp. (f(x, x', y, y', x3))\n",
    "* For each (x, xp, y, yp), inteprolate w. (f(x, x', y, y', w))."
   ]
  },
  {
   "cell_type": "code",
   "execution_count": 1,
   "id": "4b81a757-08c6-4a57-9f45-a1f2df7a4976",
   "metadata": {},
   "outputs": [],
   "source": [
    "import sys\n",
    "import os\n",
    "from os.path import join\n",
    "import time\n",
    "from datetime import datetime\n",
    "import importlib\n",
    "from pprint import pprint\n",
    "import numpy as np\n",
    "import pandas as pd\n",
    "import h5py\n",
    "import imageio\n",
    "from scipy import ndimage\n",
    "from scipy import interpolate\n",
    "import skimage\n",
    "from tqdm.notebook import tqdm\n",
    "from tqdm.notebook import trange\n",
    "from matplotlib import pyplot as plt\n",
    "from matplotlib.patches import Ellipse\n",
    "from plotly import graph_objects as go\n",
    "import proplot as pplt\n",
    "from ipywidgets import interactive\n",
    "\n",
    "sys.path.append('../..')\n",
    "from tools import energyVS06 as energy\n",
    "from tools import image_processing as ip\n",
    "from tools import plotting as mplt\n",
    "from tools import utils"
   ]
  },
  {
   "cell_type": "code",
   "execution_count": 2,
   "id": "30e18ef3-72eb-4bbb-8a46-312e12e79470",
   "metadata": {},
   "outputs": [],
   "source": [
    "pplt.rc['grid'] = False\n",
    "pplt.rc['cmap.discrete'] = False\n",
    "pplt.rc['cmap.sequential'] = 'viridis'"
   ]
  },
  {
   "cell_type": "markdown",
   "id": "d5520f6f-fd27-4d17-b3a4-ef75dfb6bd12",
   "metadata": {},
   "source": [
    "## Setup"
   ]
  },
  {
   "cell_type": "code",
   "execution_count": 3,
   "id": "95d58271-8d76-4dbf-a7fc-54e153426345",
   "metadata": {},
   "outputs": [],
   "source": [
    "folder = '_output'"
   ]
  },
  {
   "cell_type": "code",
   "execution_count": 4,
   "id": "9416a2c7-d72a-4f55-a781-f3a26fbcf47b",
   "metadata": {},
   "outputs": [
    {
     "name": "stdout",
     "output_type": "stream",
     "text": [
      "info\n",
      "{'M': array([[1. , 0. , 0. ],\n",
      "       [0. , 1. , 1.9],\n",
      "       [0. , 0. , 1. ]]),\n",
      " 'acts': ['y_PositionSync', 'xp_PositionSync', 'x_PositionSync'],\n",
      " 'cam': 'cam34',\n",
      " 'cam_pix2mm_x': 0.1,\n",
      " 'cam_pix2mm_y': 0.1,\n",
      " 'cam_shape': (512, 612),\n",
      " 'cam_zoom': 0.5,\n",
      " 'datadir': '/Diagnostics/Data/Measurements/scan-xxpy-image-ypdE/2022-04-29',\n",
      " 'filename': '220429190854-scan-xxpy-image-ypdE',\n",
      " 'image_crop_edges': {'x1': 190, 'x2': 460, 'y1': 135, 'y2': 435},\n",
      " 'image_downscale': 4,\n",
      " 'image_offset': 28.0,\n",
      " 'image_pix2mm_x': 0.4,\n",
      " 'image_pix2mm_y': 0.39705882352941174,\n",
      " 'image_shape': (75, 68),\n",
      " 'image_thresh': 98.0,\n",
      " 'ndim': 3,\n",
      " 'variables': {'x1': {'center': 21.0,\n",
      "                      'distance': 17.5,\n",
      "                      'max': 50.0,\n",
      "                      'min': -50.0,\n",
      "                      'pvname': 'ITSF_Diag:Slit_VT34a',\n",
      "                      'steps': 32},\n",
      "               'x2': {'center': 15.0,\n",
      "                      'distance': 24.0,\n",
      "                      'max': 50.0,\n",
      "                      'min': -50.0,\n",
      "                      'pvname': 'ITSF_Diag:Slit_VT34b',\n",
      "                      'steps': 32},\n",
      "               'y1': {'center': 6.5,\n",
      "                      'distance': 14.5,\n",
      "                      'max': 50.0,\n",
      "                      'min': -50.0,\n",
      "                      'pvname': 'ITSF_Diag:Slit_HZ34a',\n",
      "                      'steps': 32}}}\n"
     ]
    }
   ],
   "source": [
    "info = utils.load_pickle(join(folder, 'info.pkl'))\n",
    "print('info')\n",
    "pprint(info)"
   ]
  },
  {
   "cell_type": "code",
   "execution_count": 5,
   "id": "697eb6d5-be4c-4923-97af-8214075640bd",
   "metadata": {},
   "outputs": [
    {
     "name": "stdout",
     "output_type": "stream",
     "text": [
      "Attributes:\n",
      "\n",
      "/scalardata\n",
      "('x_PositionSync', (dtype('<f8'), 0))\n",
      "('xp_PositionSync', (dtype('<f8'), 8))\n",
      "('y_PositionSync', (dtype('<f8'), 16))\n",
      "('bcm04', (dtype('<f8'), 24))\n",
      "('cam34_Integral', (dtype('<f8'), 32))\n",
      "('cam34_Saturation', (dtype('<f8'), 40))\n",
      "('iteration', (dtype('int64'), 48))\n",
      "('timestamp', (dtype('<f8'), 56))\n",
      "\n",
      "/wfdata\n",
      "('cam34_ProfileX', (dtype(('<f4', (612,))), 0))\n",
      "('cam34_ProfileY', (dtype(('<f4', (512,))), 2448))\n",
      "\n",
      "/imagedata\n",
      "('cam34_Image', (dtype(('<f8', (5100,))), 0))\n",
      "\n"
     ]
    }
   ],
   "source": [
    "datadir = info['datadir']\n",
    "filename = info['filename']\n",
    "datadir = info['datadir']\n",
    "file = h5py.File(join(datadir, 'preproc-' + filename + '.h5'), 'r')\n",
    "data_sc = file['/scalardata']\n",
    "data_wf = file['/wfdata']\n",
    "data_im = file['/imagedata']\n",
    "\n",
    "print('Attributes:')\n",
    "print()\n",
    "for data in [data_sc, data_wf, data_im]:\n",
    "    print(data.name)\n",
    "    for item in data.dtype.fields.items():\n",
    "        print(item)\n",
    "    print()"
   ]
  },
  {
   "cell_type": "code",
   "execution_count": 7,
   "id": "44490d1e-e17d-4aea-9b3d-0331dcfa266b",
   "metadata": {},
   "outputs": [],
   "source": [
    "variables = info['variables']\n",
    "keys = list(variables)\n",
    "ndim = len(keys)\n",
    "center = np.array([variables[key]['center'] for key in keys])\n",
    "distance = np.array([variables[key]['distance'] for key in keys])\n",
    "nsteps = np.array([variables[key]['steps'] for key in keys])\n",
    "\n",
    "M = info['M']\n",
    "Minv = np.linalg.inv(M)\n",
    "\n",
    "acts = info['acts']\n",
    "points = np.vstack([data_sc[act] for act in acts]).T\n",
    "points_n = utils.apply(Minv, points - center)\n",
    "points_nn = points_n / (0.5 * distance)"
   ]
  },
  {
   "cell_type": "markdown",
   "id": "b35377b2-bd83-469f-b1d1-0db24b5f623b",
   "metadata": {},
   "source": [
    "# Interpolation"
   ]
  },
  {
   "cell_type": "markdown",
   "id": "6f21739d-9606-490f-9f4c-cc6797674d78",
   "metadata": {},
   "source": [
    "### Interpolate y "
   ]
  },
  {
   "cell_type": "markdown",
   "id": "fe63497d-af1f-4132-8ad4-a1de98fa0dcf",
   "metadata": {},
   "source": [
    "Define a regular $y$ grid."
   ]
  },
  {
   "cell_type": "code",
   "execution_count": 8,
   "id": "381fb510-e8a5-4fbd-8215-761e6343b5f1",
   "metadata": {},
   "outputs": [],
   "source": [
    "ygrid = np.linspace(np.min(points[:, 0]), np.max(points[:, 0]), int(nsteps[0]))"
   ]
  },
  {
   "cell_type": "markdown",
   "id": "3112bb40-ec3b-4d67-8074-e0d6b6f2b0b9",
   "metadata": {},
   "source": [
    "Interpolate the image stack along the $y$ axis on each iteration."
   ]
  },
  {
   "cell_type": "code",
   "execution_count": 9,
   "id": "3eda0fa1-a11f-47a6-bce6-2f863f02102d",
   "metadata": {},
   "outputs": [],
   "source": [
    "cam = info['cam']\n",
    "image_shape = info['image_shape']\n",
    "iterations = data_sc['iteration']\n",
    "images = data_im[cam + '_Image'].reshape((points.shape[0], image_shape[0], image_shape[1]))"
   ]
  },
  {
   "cell_type": "code",
   "execution_count": 10,
   "id": "7ad3c866-349f-48a3-8f53-3cf7a18a95f4",
   "metadata": {},
   "outputs": [
    {
     "data": {
      "application/vnd.jupyter.widget-view+json": {
       "model_id": "73ee15e30dca4821b5a1799d9a5a0c7f",
       "version_major": 2,
       "version_minor": 0
      },
      "text/plain": [
       "  0%|          | 0/1089 [00:00<?, ?it/s]"
      ]
     },
     "metadata": {},
     "output_type": "display_data"
    },
    {
     "name": "stderr",
     "output_type": "stream",
     "text": [
      "/home/46h/.venv/lib64/python3.9/site-packages/scipy/interpolate/_interpolate.py:641: RuntimeWarning: invalid value encountered in true_divide\n",
      "  slope = (y_hi - y_lo) / (x_hi - x_lo)[:, None]\n",
      "/home/46h/.venv/lib64/python3.9/site-packages/scipy/interpolate/_interpolate.py:641: RuntimeWarning: divide by zero encountered in true_divide\n",
      "  slope = (y_hi - y_lo) / (x_hi - x_lo)[:, None]\n"
     ]
    }
   ],
   "source": [
    "iteration_nums = np.unique(iterations)\n",
    "n_iterations = len(iteration_nums)\n",
    "images_3D = np.zeros((n_iterations, nsteps[0], image_shape[0], image_shape[1]))\n",
    "for count, iteration in enumerate(tqdm(iteration_nums)):\n",
    "    idx, = np.where(iterations == iteration)\n",
    "    _points = points[idx, 0]\n",
    "    _values = images[idx, :, :]\n",
    "    fint = interpolate.interp1d(\n",
    "        points[idx, 0],\n",
    "        images[idx, :, :],\n",
    "        axis=0,\n",
    "        kind='linear', \n",
    "        bounds_error=False,\n",
    "        fill_value=0.0, \n",
    "        assume_sorted=False,\n",
    "    )\n",
    "    images_3D[count, ...] = fint(ygrid) "
   ]
  },
  {
   "cell_type": "code",
   "execution_count": 11,
   "id": "ac255f61-2cbe-4b38-b032-e7dfd080d81f",
   "metadata": {},
   "outputs": [
    {
     "data": {
      "application/vnd.jupyter.widget-view+json": {
       "model_id": "b80f7ae55bec4128b96dfc04623846de",
       "version_major": 2,
       "version_minor": 0
      },
      "text/plain": [
       "interactive(children=(IntSlider(value=544, description='i', max=1088), IntSlider(value=15, description='y', ma…"
      ]
     },
     "metadata": {},
     "output_type": "display_data"
    }
   ],
   "source": [
    "def update(i, y):\n",
    "    fig, ax = pplt.subplots()\n",
    "    ax.imshow(images_3D[i, y, :, :])\n",
    "    ax.format(xlabel='y3', ylabel='x3')\n",
    "    plt.show()\n",
    "    \n",
    "interactive(update, i=(0, len(images_3D) - 1), y=(0, len(ygrid) - 1))"
   ]
  },
  {
   "cell_type": "markdown",
   "id": "ffb2eceb-a45b-482c-87af-f77513b93c10",
   "metadata": {},
   "source": [
    "### Interpolate x-x'"
   ]
  },
  {
   "cell_type": "markdown",
   "id": "b7796e65-621b-4612-ba09-c4775ee4afcc",
   "metadata": {},
   "source": [
    "Build the transfer matrices between the slits and the screen. (TO DO: Something needs to change sign for VS34 relative to VS06...)"
   ]
  },
  {
   "cell_type": "code",
   "execution_count": 12,
   "id": "118acbfa-daa7-4759-930a-89449080b050",
   "metadata": {},
   "outputs": [],
   "source": [
    "a2mm = 1.009  # assume same for both dipoles\n",
    "rho = 0.3556  # bend radius\n",
    "GL05 = 0.0\n",
    "GL06 = 0.0\n",
    "l1 = 0.0\n",
    "l2 = 0.0\n",
    "l3 = 0.774\n",
    "L2 = 0.311  # slit2 to dipole face\n",
    "l = 0.129  # dipole face to VS06 screen (assume same for first/last dipole-screen)\n",
    "LL = l1 + l2 + l3 + L2  # distance from emittance plane to dipole entrance\n",
    "ecalc = energy.EnergyCalculate(l1=l1, l2=l2, l3=l3, L2=L2, l=l, amp2meter=a2mm*1e3)\n",
    "Mslit = ecalc.getM1()  # slit-slit\n",
    "Mscreen = ecalc.getM()  # slit-screen"
   ]
  },
  {
   "cell_type": "markdown",
   "id": "2fff40e7-c87d-4600-8b2f-5a25498186ec",
   "metadata": {},
   "source": [
    "Assume that $x_1$ and $x_2$ do not change on each iteration (or that the only variation is noise in the readback value). Select an $x$ and $x'$ for each $\\left\\{y, y_3, x_3\\right\\}$."
   ]
  },
  {
   "cell_type": "code",
   "execution_count": 13,
   "id": "2be18581-7c67-4967-afb0-af812faa5ad4",
   "metadata": {},
   "outputs": [],
   "source": [
    "XXP = np.zeros((n_iterations, 2))\n",
    "for iteration in iteration_nums:\n",
    "    idx = iterations == iteration\n",
    "    x2, x1 = np.mean(points[idx, 1:], axis=0)\n",
    "    x = x1\n",
    "    xp = 1e3 * ecalc.calculate_xp(x1 * 1e-3, x2 * 1e-3, Mslit)\n",
    "    XXP[iteration - 1] = (x, xp)"
   ]
  },
  {
   "cell_type": "markdown",
   "id": "fcdb3828-4a51-4451-ad6b-5fc3d3a10e4f",
   "metadata": {},
   "source": [
    "Define the $x$-$x'$ interpolation grid. Tune `x_scale` and `xp_scale` to roughly align the grid points with the measured points."
   ]
  },
  {
   "cell_type": "code",
   "execution_count": 14,
   "id": "b623cafc-0790-4a5e-9c3c-e6b8161df020",
   "metadata": {},
   "outputs": [
    {
     "data": {
      "image/png": "[encoded data removed]",
      "text/plain": [
       "Figure(nrows=1, ncols=1, figwidth=4.0)"
      ]
     },
     "metadata": {
      "image/png": {
       "height": 384,
       "width": 400
      }
     },
     "output_type": "display_data"
    }
   ],
   "source": [
    "x_scale = 1.05\n",
    "xp_scale = 1.7\n",
    "\n",
    "x_min, xp_min = np.min(XXP, axis=0)\n",
    "x_max, xp_max = np.max(XXP, axis=0)\n",
    "xgrid = np.linspace(x_min, x_max, int(x_scale * nsteps[1]))\n",
    "xpgrid = np.linspace(xp_min, xp_max, int(xp_scale * nsteps[2]))\n",
    "XXP_new = utils.get_grid_coords(xgrid, xpgrid, indexing='ij')\n",
    "\n",
    "fig, ax = pplt.subplots(figwidth=4)\n",
    "line_kws = dict(color='lightgray', lw=0.7)\n",
    "for x in xgrid:\n",
    "    g1 = ax.axvline(x, **line_kws)\n",
    "for xp in xpgrid:\n",
    "    ax.axhline(xp, **line_kws)\n",
    "ax.plot(XXP[:, 0], XXP[:, 1], color='pink7', lw=0, marker='.', ms=2)\n",
    "ax.format(xlabel='x [mm]', ylabel='xp [mrad]')\n",
    "plt.savefig('_output/xxp_interp_grid.png')"
   ]
  },
  {
   "cell_type": "markdown",
   "id": "698be431-3e0c-4daa-b8cb-5be89f1b33d0",
   "metadata": {},
   "source": [
    "Interpolate $x$-$x'$ for each $\\left\\{y, y_3, x_3\\right\\}$."
   ]
  },
  {
   "cell_type": "code",
   "execution_count": 15,
   "id": "0f0749e2-9900-4ae4-b2ed-599de9e2cc66",
   "metadata": {
    "scrolled": true,
    "tags": []
   },
   "outputs": [
    {
     "data": {
      "application/vnd.jupyter.widget-view+json": {
       "model_id": "b295582e58c04523bae74d1c39131e02",
       "version_major": 2,
       "version_minor": 0
      },
      "text/plain": [
       "  0%|          | 0/32 [00:00<?, ?it/s]"
      ]
     },
     "metadata": {},
     "output_type": "display_data"
    },
    {
     "data": {
      "application/vnd.jupyter.widget-view+json": {
       "model_id": "114233f432014282a5b1abf726e0bb4e",
       "version_major": 2,
       "version_minor": 0
      },
      "text/plain": [
       "  0%|          | 0/75 [00:00<?, ?it/s]"
      ]
     },
     "metadata": {},
     "output_type": "display_data"
    },
    {
     "data": {
      "application/vnd.jupyter.widget-view+json": {
       "model_id": "9c08ef205e724a4bbab8dd3383f73c08",
       "version_major": 2,
       "version_minor": 0
      },
      "text/plain": [
       "  0%|          | 0/75 [00:00<?, ?it/s]"
      ]
     },
     "metadata": {},
     "output_type": "display_data"
    },
    {
     "data": {
      "application/vnd.jupyter.widget-view+json": {
       "model_id": "d4d69d5da6824838aee71f6879caeedd",
       "version_major": 2,
       "version_minor": 0
      },
      "text/plain": [
       "  0%|          | 0/75 [00:00<?, ?it/s]"
      ]
     },
     "metadata": {},
     "output_type": "display_data"
    },
    {
     "data": {
      "application/vnd.jupyter.widget-view+json": {
       "model_id": "c707c957a173433fae5c322a1a85af83",
       "version_major": 2,
       "version_minor": 0
      },
      "text/plain": [
       "  0%|          | 0/75 [00:00<?, ?it/s]"
      ]
     },
     "metadata": {},
     "output_type": "display_data"
    },
    {
     "data": {
      "application/vnd.jupyter.widget-view+json": {
       "model_id": "44b30dd4d0004387b0d587f0777b6a6f",
       "version_major": 2,
       "version_minor": 0
      },
      "text/plain": [
       "  0%|          | 0/75 [00:00<?, ?it/s]"
      ]
     },
     "metadata": {},
     "output_type": "display_data"
    },
    {
     "data": {
      "application/vnd.jupyter.widget-view+json": {
       "model_id": "9f7f0a03d6cc467a91768bac80455a33",
       "version_major": 2,
       "version_minor": 0
      },
      "text/plain": [
       "  0%|          | 0/75 [00:00<?, ?it/s]"
      ]
     },
     "metadata": {},
     "output_type": "display_data"
    },
    {
     "data": {
      "application/vnd.jupyter.widget-view+json": {
       "model_id": "778042debaaa4d0e9255d257fd2d5332",
       "version_major": 2,
       "version_minor": 0
      },
      "text/plain": [
       "  0%|          | 0/75 [00:00<?, ?it/s]"
      ]
     },
     "metadata": {},
     "output_type": "display_data"
    },
    {
     "data": {
      "application/vnd.jupyter.widget-view+json": {
       "model_id": "6fedc0dc8bb54d159fc9ae770c025adb",
       "version_major": 2,
       "version_minor": 0
      },
      "text/plain": [
       "  0%|          | 0/75 [00:00<?, ?it/s]"
      ]
     },
     "metadata": {},
     "output_type": "display_data"
    },
    {
     "data": {
      "application/vnd.jupyter.widget-view+json": {
       "model_id": "11a1db8703db461c96539a160e5f4108",
       "version_major": 2,
       "version_minor": 0
      },
      "text/plain": [
       "  0%|          | 0/75 [00:00<?, ?it/s]"
      ]
     },
     "metadata": {},
     "output_type": "display_data"
    },
    {
     "data": {
      "application/vnd.jupyter.widget-view+json": {
       "model_id": "d31bdb0cc9d1436490102ec1570150f5",
       "version_major": 2,
       "version_minor": 0
      },
      "text/plain": [
       "  0%|          | 0/75 [00:00<?, ?it/s]"
      ]
     },
     "metadata": {},
     "output_type": "display_data"
    },
    {
     "data": {
      "application/vnd.jupyter.widget-view+json": {
       "model_id": "5e7c26422697455684943115569b5207",
       "version_major": 2,
       "version_minor": 0
      },
      "text/plain": [
       "  0%|          | 0/75 [00:00<?, ?it/s]"
      ]
     },
     "metadata": {},
     "output_type": "display_data"
    },
    {
     "data": {
      "application/vnd.jupyter.widget-view+json": {
       "model_id": "44ba1ea90ee64202bae9fbaab1fcaba1",
       "version_major": 2,
       "version_minor": 0
      },
      "text/plain": [
       "  0%|          | 0/75 [00:00<?, ?it/s]"
      ]
     },
     "metadata": {},
     "output_type": "display_data"
    },
    {
     "data": {
      "application/vnd.jupyter.widget-view+json": {
       "model_id": "b2620056a7c54bd8b16efa58ad928063",
       "version_major": 2,
       "version_minor": 0
      },
      "text/plain": [
       "  0%|          | 0/75 [00:00<?, ?it/s]"
      ]
     },
     "metadata": {},
     "output_type": "display_data"
    },
    {
     "data": {
      "application/vnd.jupyter.widget-view+json": {
       "model_id": "c1fba276606c4300816ee5b3cbdd74b0",
       "version_major": 2,
       "version_minor": 0
      },
      "text/plain": [
       "  0%|          | 0/75 [00:00<?, ?it/s]"
      ]
     },
     "metadata": {},
     "output_type": "display_data"
    },
    {
     "data": {
      "application/vnd.jupyter.widget-view+json": {
       "model_id": "a5c1263d8542453498497fd77c279d30",
       "version_major": 2,
       "version_minor": 0
      },
      "text/plain": [
       "  0%|          | 0/75 [00:00<?, ?it/s]"
      ]
     },
     "metadata": {},
     "output_type": "display_data"
    },
    {
     "data": {
      "application/vnd.jupyter.widget-view+json": {
       "model_id": "8b419ed0d934459aa79404eafee0ea4d",
       "version_major": 2,
       "version_minor": 0
      },
      "text/plain": [
       "  0%|          | 0/75 [00:00<?, ?it/s]"
      ]
     },
     "metadata": {},
     "output_type": "display_data"
    },
    {
     "data": {
      "application/vnd.jupyter.widget-view+json": {
       "model_id": "a4ee3ac67fd346c5a41c90960ac3a48b",
       "version_major": 2,
       "version_minor": 0
      },
      "text/plain": [
       "  0%|          | 0/75 [00:00<?, ?it/s]"
      ]
     },
     "metadata": {},
     "output_type": "display_data"
    },
    {
     "data": {
      "application/vnd.jupyter.widget-view+json": {
       "model_id": "929e530dcea54eda9030fd6ba834f3ea",
       "version_major": 2,
       "version_minor": 0
      },
      "text/plain": [
       "  0%|          | 0/75 [00:00<?, ?it/s]"
      ]
     },
     "metadata": {},
     "output_type": "display_data"
    },
    {
     "data": {
      "application/vnd.jupyter.widget-view+json": {
       "model_id": "99493451f77c4a54ab935287bb8839f4",
       "version_major": 2,
       "version_minor": 0
      },
      "text/plain": [
       "  0%|          | 0/75 [00:00<?, ?it/s]"
      ]
     },
     "metadata": {},
     "output_type": "display_data"
    },
    {
     "data": {
      "application/vnd.jupyter.widget-view+json": {
       "model_id": "0d4de6469f584720a9a4d67fe5fa2c0e",
       "version_major": 2,
       "version_minor": 0
      },
      "text/plain": [
       "  0%|          | 0/75 [00:00<?, ?it/s]"
      ]
     },
     "metadata": {},
     "output_type": "display_data"
    },
    {
     "data": {
      "application/vnd.jupyter.widget-view+json": {
       "model_id": "90dc4bddb2ba4781b5b65b6b0acfb69b",
       "version_major": 2,
       "version_minor": 0
      },
      "text/plain": [
       "  0%|          | 0/75 [00:00<?, ?it/s]"
      ]
     },
     "metadata": {},
     "output_type": "display_data"
    },
    {
     "data": {
      "application/vnd.jupyter.widget-view+json": {
       "model_id": "32ab65cb7a8e455db0171e9d152deb4f",
       "version_major": 2,
       "version_minor": 0
      },
      "text/plain": [
       "  0%|          | 0/75 [00:00<?, ?it/s]"
      ]
     },
     "metadata": {},
     "output_type": "display_data"
    },
    {
     "data": {
      "application/vnd.jupyter.widget-view+json": {
       "model_id": "c54c9d6f7dd14f93b0e1437fd01f44c4",
       "version_major": 2,
       "version_minor": 0
      },
      "text/plain": [
       "  0%|          | 0/75 [00:00<?, ?it/s]"
      ]
     },
     "metadata": {},
     "output_type": "display_data"
    },
    {
     "data": {
      "application/vnd.jupyter.widget-view+json": {
       "model_id": "c0ad3e292b20456a8e9854490a641881",
       "version_major": 2,
       "version_minor": 0
      },
      "text/plain": [
       "  0%|          | 0/75 [00:00<?, ?it/s]"
      ]
     },
     "metadata": {},
     "output_type": "display_data"
    },
    {
     "data": {
      "application/vnd.jupyter.widget-view+json": {
       "model_id": "ac609a4633094854afea16d1ff4af42a",
       "version_major": 2,
       "version_minor": 0
      },
      "text/plain": [
       "  0%|          | 0/75 [00:00<?, ?it/s]"
      ]
     },
     "metadata": {},
     "output_type": "display_data"
    },
    {
     "data": {
      "application/vnd.jupyter.widget-view+json": {
       "model_id": "d269ae67170e478a9724a2e4b6dfb446",
       "version_major": 2,
       "version_minor": 0
      },
      "text/plain": [
       "  0%|          | 0/75 [00:00<?, ?it/s]"
      ]
     },
     "metadata": {},
     "output_type": "display_data"
    },
    {
     "data": {
      "application/vnd.jupyter.widget-view+json": {
       "model_id": "015c4527a1f0455e9d4d00e74b411d44",
       "version_major": 2,
       "version_minor": 0
      },
      "text/plain": [
       "  0%|          | 0/75 [00:00<?, ?it/s]"
      ]
     },
     "metadata": {},
     "output_type": "display_data"
    },
    {
     "data": {
      "application/vnd.jupyter.widget-view+json": {
       "model_id": "cf9905d26ef44ce2948aac425a0ac230",
       "version_major": 2,
       "version_minor": 0
      },
      "text/plain": [
       "  0%|          | 0/75 [00:00<?, ?it/s]"
      ]
     },
     "metadata": {},
     "output_type": "display_data"
    },
    {
     "data": {
      "application/vnd.jupyter.widget-view+json": {
       "model_id": "c8f8041b340c4d6bb3ace3f2c71e09bd",
       "version_major": 2,
       "version_minor": 0
      },
      "text/plain": [
       "  0%|          | 0/75 [00:00<?, ?it/s]"
      ]
     },
     "metadata": {},
     "output_type": "display_data"
    },
    {
     "data": {
      "application/vnd.jupyter.widget-view+json": {
       "model_id": "c21f2685cafd48ccbe551b088ea9a0bd",
       "version_major": 2,
       "version_minor": 0
      },
      "text/plain": [
       "  0%|          | 0/75 [00:00<?, ?it/s]"
      ]
     },
     "metadata": {},
     "output_type": "display_data"
    },
    {
     "data": {
      "application/vnd.jupyter.widget-view+json": {
       "model_id": "cb9c55a91a92420ca43025592b4bba50",
       "version_major": 2,
       "version_minor": 0
      },
      "text/plain": [
       "  0%|          | 0/75 [00:00<?, ?it/s]"
      ]
     },
     "metadata": {},
     "output_type": "display_data"
    },
    {
     "data": {
      "application/vnd.jupyter.widget-view+json": {
       "model_id": "2af8149642a541aeaa8146ac98d758cc",
       "version_major": 2,
       "version_minor": 0
      },
      "text/plain": [
       "  0%|          | 0/75 [00:00<?, ?it/s]"
      ]
     },
     "metadata": {},
     "output_type": "display_data"
    }
   ],
   "source": [
    "shape = (len(xgrid), len(xpgrid), len(ygrid), image_shape[0], image_shape[1])\n",
    "f = np.zeros(shape)\n",
    "for k in trange(shape[2]):\n",
    "    for l in trange(shape[3]):\n",
    "        for m in range(shape[4]):\n",
    "            new_values = interpolate.griddata(\n",
    "                XXP,\n",
    "                images_3D[:, k, l, m],\n",
    "                XXP_new,\n",
    "                method='linear',\n",
    "                fill_value=False,\n",
    "            )\n",
    "            f[:, :, k, l, m] = new_values.reshape((shape[0], shape[1]))"
   ]
  },
  {
   "cell_type": "markdown",
   "id": "a8300a59-7b1e-4453-9814-f2499fc1ef40",
   "metadata": {},
   "source": [
    "## Interpolate y'"
   ]
  },
  {
   "cell_type": "markdown",
   "id": "d980fb41-eb04-4bf4-9ae9-d4691fcc99ad",
   "metadata": {},
   "source": [
    "Convert $x_3$ and $y_3$ to mm."
   ]
  },
  {
   "cell_type": "code",
   "execution_count": 18,
   "id": "f11e0b15-18e1-4cb1-a42d-11fad71443f1",
   "metadata": {},
   "outputs": [],
   "source": [
    "pix2mm_x = info['image_pix2mm_x']\n",
    "pix2mm_y = info['image_pix2mm_y']\n",
    "x3grid = np.arange(image_shape[1]) * pix2mm_x\n",
    "y3grid = np.arange(image_shape[0]) * pix2mm_y"
   ]
  },
  {
   "cell_type": "markdown",
   "id": "cb910268-e7cf-493b-bc49-4efd5fc88480",
   "metadata": {},
   "source": [
    "Make the $y'$ grid."
   ]
  },
  {
   "cell_type": "code",
   "execution_count": 21,
   "id": "e11257c3-e451-4725-a453-6aa5f99f0b62",
   "metadata": {},
   "outputs": [
    {
     "data": {
      "image/png": "[encoded data removed]",
      "text/plain": [
       "Figure(nrows=1, ncols=1, figwidth=4.0)"
      ]
     },
     "metadata": {
      "image/png": {
       "height": 397,
       "width": 400
      }
     },
     "output_type": "display_data"
    }
   ],
   "source": [
    "ypgrid_scale = 1.4  # scales resolution of y' interpolation grid\n",
    "_Y, _Y3 = np.meshgrid(ygrid, y3grid, indexing='ij')\n",
    "_YP = 1e3 * ecalc.calculate_yp(_Y * 1e-3, _Y3 * 1e-3, Mscreen)  # [mrad]\n",
    "ypgrid = np.linspace(np.min(_YP), np.max(_YP), int(ypgrid_scale * image_shape[0]))\n",
    "\n",
    "fig, ax = pplt.subplots(figwidth=4)\n",
    "for yp in ypgrid:\n",
    "    ax.axhline(yp, **line_kws)\n",
    "ax.plot(_Y.ravel(), _YP.ravel(), color='pink7', lw=0, marker='.', ms=2)\n",
    "ax.format(xlabel='y [mm]', ylabel='yp [mrad]')\n",
    "plt.savefig('_output/yyp_interp_grid.png')\n",
    "plt.show()"
   ]
  },
  {
   "cell_type": "markdown",
   "id": "654d210f-955c-4abf-8243-fbeb7e72a64f",
   "metadata": {},
   "source": [
    "The $y$ coordinate is already on a grid. For each $\\left\\{x, x', y, x_3\\right\\}$, transform $y_3 \\rightarrow y'$ and interpolate onto `ypgrid`. "
   ]
  },
  {
   "cell_type": "code",
   "execution_count": null,
   "id": "d5226a19-e407-44a8-ba24-2ff9473e242c",
   "metadata": {},
   "outputs": [
    {
     "data": {
      "application/vnd.jupyter.widget-view+json": {
       "model_id": "e46a8aea4ba24fe69c907b83b96da276",
       "version_major": 2,
       "version_minor": 0
      },
      "text/plain": [
       "  0%|          | 0/33 [00:00<?, ?it/s]"
      ]
     },
     "metadata": {},
     "output_type": "display_data"
    },
    {
     "data": {
      "application/vnd.jupyter.widget-view+json": {
       "model_id": "ca93c6d5225c4b64a5628f789aba42d4",
       "version_major": 2,
       "version_minor": 0
      },
      "text/plain": [
       "  0%|          | 0/54 [00:00<?, ?it/s]"
      ]
     },
     "metadata": {},
     "output_type": "display_data"
    },
    {
     "data": {
      "application/vnd.jupyter.widget-view+json": {
       "model_id": "9d53e2dcf16c45a18b70143f487127a8",
       "version_major": 2,
       "version_minor": 0
      },
      "text/plain": [
       "  0%|          | 0/54 [00:00<?, ?it/s]"
      ]
     },
     "metadata": {},
     "output_type": "display_data"
    },
    {
     "data": {
      "application/vnd.jupyter.widget-view+json": {
       "model_id": "3a60b8a4265743c9bee943feb2f3596a",
       "version_major": 2,
       "version_minor": 0
      },
      "text/plain": [
       "  0%|          | 0/54 [00:00<?, ?it/s]"
      ]
     },
     "metadata": {},
     "output_type": "display_data"
    }
   ],
   "source": [
    "shape = (len(xgrid), len(xpgrid), len(ygrid), len(ypgrid), image_shape[1])\n",
    "f_new = np.zeros(shape)\n",
    "for i in trange(shape[0]):\n",
    "    for j in trange(shape[1]):\n",
    "        for k in range(shape[2]):\n",
    "            for m in range(shape[4]): \n",
    "                y = ygrid[k]\n",
    "                yp = 1e3 * ecalc.calculate_yp(y * 1e-3, y3grid * 1e-3, Mscreen)\n",
    "                fint = interpolate.interp1d(\n",
    "                    yp,\n",
    "                    f[i, j, k, :, m], \n",
    "                    kind='linear', \n",
    "                    fill_value=0.0, \n",
    "                    bounds_error=False,\n",
    "                    assume_sorted=False,\n",
    "                )\n",
    "                f_new[i, j, k, :, m] = fint(ypgrid)\n",
    "f = f_new.copy()"
   ]
  },
  {
   "cell_type": "markdown",
   "id": "bc678b7c-9ca4-44e4-a69f-0de09caf3a8c",
   "metadata": {},
   "source": [
    "### Interpolate energy spread $w$"
   ]
  },
  {
   "cell_type": "markdown",
   "id": "5cc9100d-67d5-4d11-a930-d436dda1fc7c",
   "metadata": {},
   "source": [
    "Form the grid for the energy spread $w$."
   ]
  },
  {
   "cell_type": "code",
   "execution_count": null,
   "id": "be94c53d-8478-4926-869f-ad510ca1f7fe",
   "metadata": {},
   "outputs": [],
   "source": [
    "_W = np.zeros((shape[0], shape[1], image_shape[1]))\n",
    "for i in range(shape[0]):\n",
    "    for j in range(shape[1]):\n",
    "        x = xgrid[i]\n",
    "        xp = xpgrid[j]\n",
    "        _W[i, j, :] = ecalc.calculate_dE_screen(x3grid * 1e-3, 0.0, x * 1e-3, xp * 1e-3, Mscreen)  # [MeV]\n",
    "wgrid = np.linspace(np.min(_W), np.max(_W), image_shape[1])"
   ]
  },
  {
   "cell_type": "markdown",
   "id": "08b8bc94-7b30-457d-a1a3-b0a1cc2dba07",
   "metadata": {},
   "source": [
    "Interpolate $w$ for each $\\left\\{x, x', y, y'\\right\\}$."
   ]
  },
  {
   "cell_type": "code",
   "execution_count": null,
   "id": "5d195660-0cc0-4df5-8d7a-140f3394dff4",
   "metadata": {},
   "outputs": [],
   "source": [
    "savefilename = f'_output/f_{filename}.mmp'\n",
    "f_new = np.memmap(savefilename, shape=shape, dtype='float', mode='w+') \n",
    "for i in trange(shape[0]):\n",
    "    for j in trange(shape[1]):\n",
    "        for k in range(shape[2]):\n",
    "            for l in range(shape[3]):\n",
    "                fint = interpolate.interp1d(\n",
    "                    _W[i, j, :],\n",
    "                    f[i, j, k, l, :],\n",
    "                    kind='linear',\n",
    "                    fill_value=0.0, \n",
    "                    bounds_error=False,\n",
    "                    assume_sorted=False,\n",
    "                )\n",
    "                f_new[i, j, k, l, :] = fint(wgrid)"
   ]
  },
  {
   "cell_type": "markdown",
   "id": "7bea80ec-92a0-4aab-883f-e7da2f8dc763",
   "metadata": {},
   "source": [
    "Save grid coordinates."
   ]
  },
  {
   "cell_type": "code",
   "execution_count": null,
   "id": "1fec8e26-03a4-4a27-8fb2-49c1a3d30ad8",
   "metadata": {},
   "outputs": [],
   "source": [
    "coords = [xgrid, xpgrid, ygrid, ypgrid, wgrid]\n",
    "for i in range(5):\n",
    "    coords[i] = coords[i] - np.mean(coords[i])\n",
    "utils.save_stacked_array(f'_output/coords_{filename}.npy', coords)"
   ]
  }
 ],
 "metadata": {
  "kernelspec": {
   "display_name": "myenv",
   "language": "python",
   "name": "myenv"
  },
  "language_info": {
   "codemirror_mode": {
    "name": "ipython",
    "version": 3
   },
   "file_extension": ".py",
   "mimetype": "text/x-python",
   "name": "python",
   "nbconvert_exporter": "python",
   "pygments_lexer": "ipython3",
   "version": "3.9.7"
  }
 },
 "nbformat": 4,
 "nbformat_minor": 5
}
