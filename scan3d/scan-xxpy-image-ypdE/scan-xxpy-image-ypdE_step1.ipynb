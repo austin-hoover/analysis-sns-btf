{
 "cells": [
  {
   "cell_type": "markdown",
   "id": "4a6a2fec-ae49-4115-b4bf-ade79f49a70e",
   "metadata": {},
   "source": [
    "# Step 1"
   ]
  },
  {
   "cell_type": "markdown",
   "id": "344c7092-4d68-400e-ae77-533ec7c23a57",
   "metadata": {},
   "source": [
    "* Load scalar, waveform and image h5 files.\n",
    "* For each sweep, interpolate images on regular y grid. \n",
    "* For each y and image pixel, interpolate x-x'. (f(x, x', y, y3, x3))\n",
    "* For each (x, xp, y, x3), interpolate yp. (f(x, x', y, y', x3))\n",
    "* For each (x, xp, y, yp), inteprolate w. (f(x, x', y, y', w))."
   ]
  },
  {
   "cell_type": "code",
   "execution_count": 1,
   "id": "4b81a757-08c6-4a57-9f45-a1f2df7a4976",
   "metadata": {},
   "outputs": [],
   "source": [
    "import sys\n",
    "import os\n",
    "from os.path import join\n",
    "import time\n",
    "from datetime import datetime\n",
    "import importlib\n",
    "import json\n",
    "from pprint import pprint\n",
    "import numpy as np\n",
    "import pandas as pd\n",
    "import h5py\n",
    "import imageio\n",
    "from scipy import ndimage\n",
    "from scipy import interpolate\n",
    "import skimage\n",
    "from tqdm.notebook import tqdm\n",
    "from tqdm.notebook import trange\n",
    "from matplotlib import pyplot as plt\n",
    "from matplotlib.patches import Ellipse\n",
    "from plotly import graph_objects as go\n",
    "import proplot as pplt\n",
    "from ipywidgets import interactive\n",
    "from ipywidgets import widgets\n",
    "\n",
    "sys.path.append('../..')\n",
    "from tools.energyVS06 import EnergyCalculate\n",
    "from tools import image_processing as ip\n",
    "from tools import plotting as mplt\n",
    "from tools import utils"
   ]
  },
  {
   "cell_type": "code",
   "execution_count": 2,
   "id": "30e18ef3-72eb-4bbb-8a46-312e12e79470",
   "metadata": {},
   "outputs": [],
   "source": [
    "pplt.rc['grid'] = False\n",
    "pplt.rc['cmap.discrete'] = False\n",
    "pplt.rc['cmap.sequential'] = 'viridis'"
   ]
  },
  {
   "cell_type": "markdown",
   "id": "d5520f6f-fd27-4d17-b3a4-ef75dfb6bd12",
   "metadata": {},
   "source": [
    "## Setup"
   ]
  },
  {
   "cell_type": "code",
   "execution_count": 3,
   "id": "95d58271-8d76-4dbf-a7fc-54e153426345",
   "metadata": {},
   "outputs": [],
   "source": [
    "folder = '_output'"
   ]
  },
  {
   "cell_type": "code",
   "execution_count": 4,
   "id": "9416a2c7-d72a-4f55-a781-f3a26fbcf47b",
   "metadata": {},
   "outputs": [
    {
     "name": "stdout",
     "output_type": "stream",
     "text": [
      "info\n",
      "{'M': array([[1. , 0. , 0. ],\n",
      "       [0. , 1. , 2.5],\n",
      "       [0. , 0. , 1. ]]),\n",
      " 'acts': ['y_PositionSync', 'xp_PositionSync', 'x_PositionSync'],\n",
      " 'cam': 'cam34',\n",
      " 'cam_pix2mm_x': 0.1,\n",
      " 'cam_pix2mm_y': 0.1,\n",
      " 'cam_shape': (512, 612),\n",
      " 'cam_zoom': 0.5,\n",
      " 'datadir': '/Diagnostics/Data/Measurements/scan-xxpy-image-ypdE/2022-06-25/',\n",
      " 'filename': '220625182720-scan-xxpy-image-ypdE',\n",
      " 'image_crop_edges': {'x1': 160, 'x2': 410, 'y1': 142, 'y2': 441},\n",
      " 'image_downscale': 3,\n",
      " 'image_offset': 16.0,\n",
      " 'image_pix2mm_x': 0.29900000000000004,\n",
      " 'image_pix2mm_y': 0.2976190476190476,\n",
      " 'image_shape': (100, 84),\n",
      " 'image_thresh': 57.2,\n",
      " 'int_shape': (71, 104, 71, 110, 92),\n",
      " 'ndim': 3,\n",
      " 'noise_icenter': 206160,\n",
      " 'signal_thresh': 0.0003,\n",
      " 'variables': {'x1': {'center': 21.5,\n",
      "                      'distance': 19.5,\n",
      "                      'max': 50.0,\n",
      "                      'min': -50.0,\n",
      "                      'pvname': 'ITSF_Diag:Slit_VT34a',\n",
      "                      'steps': 64},\n",
      "               'x2': {'center': 16.5,\n",
      "                      'distance': 21.0,\n",
      "                      'max': 36.0,\n",
      "                      'min': -2.0,\n",
      "                      'pvname': 'ITSF_Diag:Slit_VT34b',\n",
      "                      'steps': 64},\n",
      "               'y1': {'center': 7.0,\n",
      "                      'distance': 14.5,\n",
      "                      'max': 50.0,\n",
      "                      'min': -50.0,\n",
      "                      'pvname': 'ITSF_Diag:Slit_HZ34a',\n",
      "                      'steps': 64}}}\n"
     ]
    }
   ],
   "source": [
    "info = utils.load_pickle(join(folder, 'info.pkl'))\n",
    "print('info')\n",
    "pprint(info)"
   ]
  },
  {
   "cell_type": "code",
   "execution_count": 5,
   "id": "697eb6d5-be4c-4923-97af-8214075640bd",
   "metadata": {},
   "outputs": [
    {
     "name": "stdout",
     "output_type": "stream",
     "text": [
      "Attributes:\n",
      "\n",
      "/scalardata\n",
      "('x_PositionSync', (dtype('<f8'), 0))\n",
      "('xp_PositionSync', (dtype('<f8'), 8))\n",
      "('y_PositionSync', (dtype('<f8'), 16))\n",
      "('bcm04', (dtype('<f8'), 24))\n",
      "('cam34_Integral', (dtype('<f8'), 32))\n",
      "('cam34_Saturation', (dtype('<f8'), 40))\n",
      "('iteration', (dtype('int64'), 48))\n",
      "('timestamp', (dtype('<f8'), 56))\n",
      "\n",
      "/wfdata\n",
      "('cam34_ProfileX', (dtype(('<f4', (612,))), 0))\n",
      "('cam34_ProfileY', (dtype(('<f4', (512,))), 2448))\n",
      "\n",
      "/imagedata\n",
      "('cam34_Image', (dtype(('<f8', (8400,))), 0))\n",
      "\n"
     ]
    }
   ],
   "source": [
    "datadir = info['datadir']\n",
    "filename = info['filename']\n",
    "datadir = info['datadir']\n",
    "file = h5py.File(join(datadir, 'preproc-' + filename + '.h5'), 'r')\n",
    "data_sc = file['/scalardata']\n",
    "data_wf = file['/wfdata']\n",
    "data_im = file['/imagedata']\n",
    "\n",
    "print('Attributes:')\n",
    "print()\n",
    "for data in [data_sc, data_wf, data_im]:\n",
    "    print(data.name)\n",
    "    for item in data.dtype.fields.items():\n",
    "        print(item)\n",
    "    print()"
   ]
  },
  {
   "cell_type": "code",
   "execution_count": 6,
   "id": "44490d1e-e17d-4aea-9b3d-0331dcfa266b",
   "metadata": {},
   "outputs": [
    {
     "name": "stdout",
     "output_type": "stream",
     "text": [
      "['y_PositionSync', 'xp_PositionSync', 'x_PositionSync']\n",
      "cam = 'cam34'\n"
     ]
    }
   ],
   "source": [
    "variables = info['variables']\n",
    "keys = list(variables)\n",
    "nsteps = np.array([variables[key]['steps'] for key in keys])\n",
    "\n",
    "acts = info['acts']\n",
    "print(acts)\n",
    "points = np.vstack([data_sc[act] for act in acts]).T\n",
    "points = points[:, ::-1]  # x, x2, y\n",
    "nsteps = nsteps[::-1]\n",
    "\n",
    "cam = info['cam']\n",
    "print(f\"cam = '{cam}'\")\n",
    "if cam.lower() not in ['cam06', 'cam34']:\n",
    "    raise ValueError(f\"Unknown camera name '{cam}'.\")"
   ]
  },
  {
   "cell_type": "markdown",
   "id": "5d514eeb-318b-4765-8ba6-c893c39a1612",
   "metadata": {},
   "source": [
    "## Convert to beam frame coordinates"
   ]
  },
  {
   "cell_type": "code",
   "execution_count": 7,
   "id": "c28655b7-ec45-4890-aef2-dcef5462197d",
   "metadata": {},
   "outputs": [],
   "source": [
    "## y slit is inserted from above, always opposite y beam.\n",
    "points[:, 2] = -points[:, 2]\n",
    "\n",
    "## Screen coordinates (x3, y3) are always opposite beam (x, y).\n",
    "image_shape = info['image_shape']\n",
    "x3grid = -np.arange(image_shape[1]) * info['image_pix2mm_x']\n",
    "y3grid = -np.arange(image_shape[0]) * info['image_pix2mm_y']\n",
    "\n",
    "# VT04/VT06 are same sign as x_beam; VT34a and VT34b are opposite.\n",
    "if cam.lower() == 'cam34':\n",
    "    points[:, :2] = -points[:, :2]"
   ]
  },
  {
   "cell_type": "markdown",
   "id": "dc354e33-9acf-4f4a-9661-896b3bd64ffa",
   "metadata": {},
   "source": [
    "## Setup interpolation grids"
   ]
  },
  {
   "cell_type": "markdown",
   "id": "ecef285b-289e-4aa9-96a5-725621db275f",
   "metadata": {},
   "source": [
    "Build the transfer matrices between the slits and the screen. "
   ]
  },
  {
   "cell_type": "code",
   "execution_count": 8,
   "id": "24b44335-667b-47d4-9a89-2e5d25acf564",
   "metadata": {
    "scrolled": true,
    "tags": []
   },
   "outputs": [
    {
     "name": "stdout",
     "output_type": "stream",
     "text": [
      "{'BTF_MEBT_Mag:PS_DCH01:I_Set': array([4.69999981]),\n",
      " 'BTF_MEBT_Mag:PS_DCH02:I_Set': array([5.]),\n",
      " 'BTF_MEBT_Mag:PS_DCH34:I_Set': array([5.69999981]),\n",
      " 'BTF_MEBT_Mag:PS_DCV01:I_Set': array([-3.]),\n",
      " 'BTF_MEBT_Mag:PS_DCV02:I_Set': array([-2.]),\n",
      " 'BTF_MEBT_Mag:PS_DCV34:I_Set': array([3.0999999]),\n",
      " 'BTF_MEBT_Mag:PS_DH07:I_Set': array([358.5]),\n",
      " 'BTF_MEBT_Mag:PS_QH01:I_Set': array([157.94000244]),\n",
      " 'BTF_MEBT_Mag:PS_QH03:I_Set': array([6.74547816]),\n",
      " 'BTF_MEBT_Mag:PS_QH05:I_Set': array([0.]),\n",
      " 'BTF_MEBT_Mag:PS_QH08:I_Set': array([4.0999999]),\n",
      " 'BTF_MEBT_Mag:PS_QH11:I_Set': array([7.19999981]),\n",
      " 'BTF_MEBT_Mag:PS_QH13:I_Set': array([6.00035858]),\n",
      " 'BTF_MEBT_Mag:PS_QH33:I_Set': array([5.0999999]),\n",
      " 'BTF_MEBT_Mag:PS_QV02:I_Set': array([280.05999756]),\n",
      " 'BTF_MEBT_Mag:PS_QV04:I_Set': array([-3.75051265]),\n",
      " 'BTF_MEBT_Mag:PS_QV06:I_Set': array([-0.]),\n",
      " 'BTF_MEBT_Mag:PS_QV07:I_Set': array([-3.0999999]),\n",
      " 'BTF_MEBT_Mag:PS_QV09:I_Set': array([-1.85000002]),\n",
      " 'BTF_MEBT_Mag:PS_QV10:I_Set': array([-1.89999998]),\n",
      " 'BTF_MEBT_Mag:PS_QV12:I_Set': array([-6.55000019]),\n",
      " 'BTF_MEBT_Mag:PS_QV34:I_Set': array([-5.30000019]),\n",
      " 'ITSF_Diag:Act_BPM04:PositionSync': array([0.01554556]),\n",
      " 'ITSF_Diag:Atten02:PositionSync': array([-73.825]),\n",
      " 'ITSF_Diag:Cam34:Brightness': array([1.]),\n",
      " 'ITSF_Diag:Cam34:Exp': array([1100], dtype=int32),\n",
      " 'ITSF_Diag:Cam34:Gain': array([0], dtype=int32),\n",
      " 'ITSF_Diag:Cam34:Magn': array([2], dtype=int32),\n",
      " 'ITSF_Diag:Cam34:ROIh': array([612.]),\n",
      " 'ITSF_Diag:Cam34:ROIw': array([612.]),\n",
      " 'ITSF_Diag:Cam34:ROIx': array([0.]),\n",
      " 'ITSF_Diag:Cam34:ROIy': array([0.]),\n",
      " 'ITSF_Diag:Cam34:Saturation': array([0.00091554]),\n",
      " 'ITSF_Diag:Cam34:Threshold': array([0.]),\n",
      " 'ITSF_Diag:Cam34:Xc': array([-0.2]),\n",
      " 'ITSF_Diag:Cam34:Yc': array([-1.2]),\n",
      " 'ITSF_Diag:FC12:PositionSync': array([-51.9]),\n",
      " 'ITSF_Diag:Slit_HZ04:PositionSync': array([-51.595]),\n",
      " 'ITSF_Diag:Slit_HZ06:PositionSync': array([-51.705]),\n",
      " 'ITSF_Diag:Slit_HZ34a:PositionSync': array([14.34537712]),\n",
      " 'ITSF_Diag:Slit_HZ34b:PositionSync': array([-51.705]),\n",
      " 'ITSF_Diag:Slit_VT04:PositionSync': array([-51.535]),\n",
      " 'ITSF_Diag:Slit_VT06:PositionSync': array([-51.51]),\n",
      " 'ITSF_Diag:Slit_VT34a:PositionSync': array([11.79435887]),\n",
      " 'ITSF_Diag:Slit_VT34b:PositionSync': array([-1.41326503]),\n",
      " 'ITSF_Diag:VS06:PositionSync': array([-73.825]),\n",
      " 'ITSF_Diag:VS14:PositionSync': array([-59.76541166]),\n",
      " 'ITSF_Diag:VS22:PositionSync': array([-84.07721387]),\n",
      " 'ITSF_Diag:VS30:PositionSync': array([-73.825]),\n",
      " 'ITSF_Diag:VS34:PositionSync': array([14.97745654]),\n",
      " 'RFTF_TM:Gate_BeamOn:RR': array([5.]),\n",
      " 'Test_LLRF:FCM_RFQ1:CtlAmpSet': array([0.63]),\n",
      " 'timestamp': array([1.65619606e+09])}\n"
     ]
    }
   ],
   "source": [
    "# Eventually switch to saving metadata dict as pickled file in Step 0, then loading here.\n",
    "_file = h5py.File(join(datadir, filename + '.h5'), 'r')\n",
    "if 'config' in _file:\n",
    "    config = _file['config']\n",
    "    metadata = dict()\n",
    "    for name in config['metadata'].dtype.names:\n",
    "        metadata[name] = config['metadata'][name]\n",
    "else:\n",
    "    # Older measurement; metadata is in json file.\n",
    "    metadata = json.load(open(join(datadir, filename + '-metadata.json'), 'r'))\n",
    "    _metadata = dict()\n",
    "    for _dict in metadata.values():\n",
    "        for key, value in _dict.items():\n",
    "            _metadata[key] = value\n",
    "    metadata = _metadata\n",
    "pprint(metadata)"
   ]
  },
  {
   "cell_type": "code",
   "execution_count": 9,
   "id": "82542f1b-7829-44e7-8b0e-84a389967280",
   "metadata": {},
   "outputs": [],
   "source": [
    "dipole_current = 0.0  # deviation of dipole current from nominal\n",
    "l = 0.129  # dipole face to screen (assume same for first/last dipole-screen)\n",
    "if cam.lower() == 'cam06':\n",
    "    GL05 = 0.0  # QH05 integrated field strength (1 [A] = 0.0778 [Tm])\n",
    "    GL06 = 0.0778  # QH06 integrated field strength (1 [A] = 0.0778 [Tm])\n",
    "    l1 = 0.280  # slit1 to QH05 center\n",
    "    l2 = 0.210  # QH05 center to QV06 center\n",
    "    l3 = 0.457  # QV06 center to slit2\n",
    "    L2 = 0.599  # slit2 to dipole face    \n",
    "    rho_sign = +1.0  # dipole bend radius sign\n",
    "    if GL05 == 0.0 and metadata['BTF_MEBT_Mag:PS_QH05:I_Set'] != 0.0:\n",
    "        print('Warning: QH05 is turned on according to metadata.')\n",
    "    if GL05 != 0.0 and metadata['BTF_MEBT_Mag:PS_QH05:I_Set'] == 0.0:\n",
    "        print('Warning: QH05 is turned off according to metadata.')\n",
    "    if GL06 == 0.0 and metadata['BTF_MEBT_Mag:PS_QV06:I_Set'] != 0.0:\n",
    "        print('Warning: QH06 is turned on according to metadata.')\n",
    "    if GL06 != 0.0 and metadata['BTF_MEBT_Mag:PS_QV06:I_Set'] == 0.0:\n",
    "        print('Warning: QH06 is turned off according to metadata.')\n",
    "elif cam.lower() == 'cam34':\n",
    "    GL05 = 0.0  # QH05 integrated field strength\n",
    "    GL06 = 0.0  # QH06 integrated field strength\n",
    "    l1 = 0.000  # slit1 to QH05 center\n",
    "    l2 = 0.000  # QH05 center to QV06 center\n",
    "    l3 = 0.774  # QV06 center to slit2\n",
    "    L2 = 0.311  # slit2 to dipole face\n",
    "    # Weird... I can only get the right answer for energy if I *do not* flip rho,\n",
    "    # x1, x2, and x3. I then flip x and xp at the very end.\n",
    "    rho_sign = +1.0  # dipole bend radius sign\n",
    "    x3grid = -x3grid\n",
    "    points[:, :2] = -points[:, :2]\n",
    "LL = l1 + l2 + l3 + L2  # distance from emittance plane to dipole entrance\n",
    "ecalc = EnergyCalculate(l1=l1, l2=l2, l3=l3, L2=L2, l=l, rho_sign=rho_sign)\n",
    "Mslit = ecalc.getM1(GL05=GL05, GL06=GL06)  # slit-slit\n",
    "Mscreen = ecalc.getM(GL05=GL05, GL06=GL06)  # slit-screen"
   ]
  },
  {
   "cell_type": "markdown",
   "id": "745cc708-08bd-496b-b3dd-aac2399733c7",
   "metadata": {},
   "source": [
    "Convert to x'."
   ]
  },
  {
   "cell_type": "code",
   "execution_count": 10,
   "id": "8b5159c6-faba-4d60-b69f-4a6e84d203e7",
   "metadata": {},
   "outputs": [],
   "source": [
    "points[:, 1] = 1e3 * ecalc.calculate_xp(points[:, 0] * 1e-3, points[:, 1] * 1e-3, Mslit) "
   ]
  },
  {
   "cell_type": "markdown",
   "id": "ceed66df-db4e-4b6d-bb7c-e43597d9467b",
   "metadata": {},
   "source": [
    "Center points at zero."
   ]
  },
  {
   "cell_type": "code",
   "execution_count": 11,
   "id": "138d2f0c-10b6-4b42-a0d0-68ec09bbce64",
   "metadata": {},
   "outputs": [],
   "source": [
    "points -= np.mean(points, axis=0)"
   ]
  },
  {
   "cell_type": "markdown",
   "id": "13c72e49-a2eb-4597-b781-0baa56737d0c",
   "metadata": {},
   "source": [
    "Make grids."
   ]
  },
  {
   "cell_type": "code",
   "execution_count": 12,
   "id": "374a4fae-b1c6-4a52-986f-2a3d3921da12",
   "metadata": {},
   "outputs": [],
   "source": [
    "mins = np.min(points, axis=0)\n",
    "maxs = np.max(points, axis=0)\n",
    "scales = [1.1, 1.6, 1.1]\n",
    "ns = np.multiply(scales, nsteps + 1).astype(int)\n",
    "xgrid, xpgrid, ygrid = [np.linspace(umin, umax, n) \n",
    "                        for (umin, umax, n) in zip(mins, maxs, ns)]\n",
    "\n",
    "YP = np.zeros((len(ygrid), len(y3grid)))\n",
    "for k, y in enumerate(ygrid):\n",
    "    YP[k] = 1e3 * ecalc.calculate_yp(1e-3 * y, 1e-3 * y3grid, Mscreen)\n",
    "ypgrid = np.linspace(np.min(YP), np.max(YP), int(1.1 * len(y3grid)))\n",
    "\n",
    "W = np.zeros((len(xgrid), len(xpgrid), len(x3grid)))\n",
    "for i, x in enumerate(xgrid):\n",
    "    for j, xp in enumerate(xpgrid):\n",
    "        W[i, j] = ecalc.calculate_dE_screen(1e-3 * x3grid, dipole_current, 1e-3 * x, 1e-3 * xp, Mscreen)\n",
    "wgrid = np.linspace(np.min(W), np.max(W), int(1.1 * len(x3grid)))"
   ]
  },
  {
   "cell_type": "markdown",
   "id": "25bfd481-23e1-441d-a708-3853ec6db9fe",
   "metadata": {},
   "source": [
    "## Interpolate "
   ]
  },
  {
   "cell_type": "code",
   "execution_count": 13,
   "id": "ef27ba9e-f305-4aad-91e9-64794cd1e090",
   "metadata": {},
   "outputs": [],
   "source": [
    "iterations = data_sc['iteration']\n",
    "iteration_nums = np.unique(iterations)\n",
    "n_iterations = len(iteration_nums)\n",
    "kws = dict(kind='linear', copy=True, bounds_error=False, fill_value=0.0, assume_sorted=False)"
   ]
  },
  {
   "cell_type": "markdown",
   "id": "1bec984e-36f0-4301-94a7-231c41d30eef",
   "metadata": {},
   "source": [
    "Interpolate y-y3-x3 image along y for each sweep."
   ]
  },
  {
   "cell_type": "code",
   "execution_count": null,
   "id": "1f3d819f-779d-4747-9af3-98a6c40cf346",
   "metadata": {},
   "outputs": [
    {
     "data": {
      "application/vnd.jupyter.widget-view+json": {
       "model_id": "5106f23753cc41ba9bca8fda9b0a4658",
       "version_major": 2,
       "version_minor": 0
      },
      "text/plain": [
       "  0%|          | 0/3146 [00:00<?, ?it/s]"
      ]
     },
     "metadata": {},
     "output_type": "display_data"
    }
   ],
   "source": [
    "images_yy3x3 = []\n",
    "for iteration in tqdm(iteration_nums):\n",
    "    idx, = np.where(iterations == iteration)\n",
    "    _points = points[idx, 2]\n",
    "    _values = data_im[idx, cam + '_Image'].reshape((len(idx), len(y3grid), len(x3grid)))\n",
    "    _, uind = np.unique(_points, return_index=True)\n",
    "    fint = interpolate.interp1d(_points[uind], _values[uind], axis=0, **kws)\n",
    "    images_yy3x3.append(fint(ygrid))"
   ]
  },
  {
   "cell_type": "markdown",
   "id": "3bc78ecd-e694-440d-9b1b-2d58cedf81fe",
   "metadata": {},
   "source": [
    "Convert y3 to y'."
   ]
  },
  {
   "cell_type": "code",
   "execution_count": null,
   "id": "497dfbe4-c49c-4b1b-a7a6-dbec9bd5162f",
   "metadata": {},
   "outputs": [],
   "source": [
    "images_yypx3 = []\n",
    "for image_yy3x3 in tqdm(images_yy3x3):\n",
    "    image_yypx3 = np.zeros((len(ygrid), len(ypgrid), len(x3grid)))\n",
    "    for k in range(len(ygrid)):\n",
    "        _points = YP[k]\n",
    "        _values = image_yy3x3[k, :, :]\n",
    "        fint = interpolate.interp1d(_points, _values, axis=0, **kws)\n",
    "        image_yypx3[k, :, :] = fint(ypgrid)\n",
    "    images_yypx3.append(image_yypx3)"
   ]
  },
  {
   "cell_type": "code",
   "execution_count": null,
   "id": "c10f7c03-4217-415d-a8fe-b166fd58a47b",
   "metadata": {},
   "outputs": [],
   "source": [
    "del(images_yy3x3)"
   ]
  },
  {
   "cell_type": "markdown",
   "id": "31420c5f-8b77-4d48-8469-c7644480b82c",
   "metadata": {},
   "source": [
    "Convert x3 to w."
   ]
  },
  {
   "cell_type": "code",
   "execution_count": null,
   "id": "132a5dab-366b-4086-90f9-bc469a9b0b32",
   "metadata": {},
   "outputs": [],
   "source": [
    "XXP = []\n",
    "images_yypw = []\n",
    "for iteration, image_yypx3 in enumerate(tqdm(images_yypx3), start=1):\n",
    "    x, xp = np.mean(points[iterations == iteration, :2], axis=0)\n",
    "    _points = ecalc.calculate_dE_screen(1e-3 * x3grid, dipole_current, 1e-3 * x, 1e-3 * xp, Mscreen)\n",
    "    _values = image_yypx3\n",
    "    fint = interpolate.interp1d(_points, _values, axis=-1, **kws)\n",
    "    images_yypw.append(fint(wgrid))\n",
    "    XXP.append([x, xp])"
   ]
  },
  {
   "cell_type": "code",
   "execution_count": null,
   "id": "0f9f7084-0e2e-4a01-9b4e-6e90c60aaf60",
   "metadata": {},
   "outputs": [],
   "source": [
    "del(images_yypx3)"
   ]
  },
  {
   "cell_type": "markdown",
   "id": "ba97fc11-ad19-4b62-87df-d9f3fb68b2a6",
   "metadata": {},
   "source": [
    "Since we move in vertical lines in the x-xp plane, we can separate the x and xp interpolations. If we moved in diagonal lines in the x-xp plane, we would need to perform a 2D interpolation for each y, yp, w; we currently do not do this. 2D interpolation is in the older notebooks in this directory... should add as an option here."
   ]
  },
  {
   "cell_type": "code",
   "execution_count": null,
   "id": "9087d7d3-a611-4bc8-b95f-e19e46ef2490",
   "metadata": {},
   "outputs": [],
   "source": [
    "XXP = np.zeros((n_iterations, 2))\n",
    "for iteration in iteration_nums:\n",
    "    idx, = np.where(iterations == iteration)\n",
    "    XXP[iteration - 1] = np.mean(points[idx, :2], axis=0)\n",
    "    \n",
    "fig, ax = pplt.subplots(figwidth=4)\n",
    "ax.scatter(XXP[:, 0], XXP[:, 1], c=np.arange(1, n_iterations + 1), s=2, cmap='flare_r',\n",
    "           colorbar=True, colorbar_kw=dict(label='iteration'))\n",
    "ax.format(xlabel=\"x [mm]\", ylabel=\"xp [mrad]\")\n",
    "plt.savefig('_output/x-xp_iterations.png')\n",
    "plt.show()"
   ]
  },
  {
   "cell_type": "markdown",
   "id": "69084406-7e96-4d4e-9c51-cc69aaacd086",
   "metadata": {},
   "source": [
    "We need to group the iterations by x step. To do this, loop through each iteration and check if x has changed by a significant amount (within the same x step, x will only change by very small amounts due to noise in the readback). Find a good number for this."
   ]
  },
  {
   "cell_type": "code",
   "execution_count": null,
   "id": "88868223-45d6-401c-bbb0-a7e9aa7f30e7",
   "metadata": {},
   "outputs": [],
   "source": [
    "max_abs_delta = 0.075\n",
    "deltas = np.diff(points[:, 0])\n",
    "fig, ax = pplt.subplots()\n",
    "ax.hist(np.abs(deltas), bins=50, color='black')\n",
    "ax.axvline(max_abs_delta, color='red')\n",
    "ax.format(yscale='log', xlabel='delta_x [mm]')\n",
    "plt.show()"
   ]
  },
  {
   "cell_type": "markdown",
   "id": "89d728c1-6b8b-4be5-935e-55b535c8559b",
   "metadata": {},
   "source": [
    "Group the iterations."
   ]
  },
  {
   "cell_type": "code",
   "execution_count": null,
   "id": "4f8b4e90-4975-4aa8-a026-0f7f61df5f55",
   "metadata": {},
   "outputs": [],
   "source": [
    "X = []\n",
    "steps = []\n",
    "x_last = np.inf\n",
    "for iteration in trange(1, n_iterations + 1):\n",
    "    x, xp = XXP[iteration - 1]\n",
    "    if np.abs(x - x_last) > max_abs_delta:\n",
    "        X.append(x)\n",
    "        steps.append([])\n",
    "    steps[-1].append(iteration)\n",
    "    x_last = x"
   ]
  },
  {
   "cell_type": "code",
   "execution_count": null,
   "id": "3243422b-e9d6-4a1d-8c9e-84b3376a7b5f",
   "metadata": {},
   "outputs": [],
   "source": [
    "fig, ax = pplt.subplots(figwidth=5)\n",
    "for _iterations in steps:\n",
    "    _idx = np.array(_iterations) - 1\n",
    "    ax.scatter(XXP[_idx][:, 0], XXP[_idx][:, 1], s=1)\n",
    "    ax.format(xlabel=\"x [mm]\", ylabel=\"xp [mrad]\")\n",
    "plt.savefig('_output/x_groups.png')"
   ]
  },
  {
   "cell_type": "markdown",
   "id": "fb3c62df-7ee5-4e16-9f19-965978c38e15",
   "metadata": {},
   "source": [
    "Interpolate each xp-y-yp-w image along xp."
   ]
  },
  {
   "cell_type": "code",
   "execution_count": null,
   "id": "73cc2e16-a346-47f3-b2cc-f54b5fabc527",
   "metadata": {},
   "outputs": [],
   "source": [
    "images_xpyypw = []\n",
    "images_yypw = np.array(images_yypw)\n",
    "for _iterations in tqdm(steps):\n",
    "    idx = np.array(_iterations) - 1\n",
    "    _points = XXP[idx, 1]\n",
    "    _values = images_yypw[idx]\n",
    "    fint = interpolate.interp1d(_points, _values, axis=0, **kws)\n",
    "    images_xpyypw.append(fint(xpgrid))"
   ]
  },
  {
   "cell_type": "code",
   "execution_count": null,
   "id": "2d5d096f-943b-4d07-b1e4-5d3a5c8752a6",
   "metadata": {},
   "outputs": [],
   "source": [
    "del(images_yypw)"
   ]
  },
  {
   "cell_type": "markdown",
   "id": "3d6ee282-e08d-4211-9295-549b58b8210a",
   "metadata": {},
   "source": [
    "Interpolate the xp-y-yp-w image stack along x."
   ]
  },
  {
   "cell_type": "code",
   "execution_count": null,
   "id": "47719f5f-11cd-45eb-b37c-accddde23975",
   "metadata": {},
   "outputs": [],
   "source": [
    "# Create memory map\n",
    "shape = (len(xgrid), len(xpgrid), len(ygrid), len(ypgrid), len(wgrid))\n",
    "f = np.memmap(f'_output/f_{filename}.mmp', dtype='float', mode='w+', shape=shape)\n",
    "\n",
    "# Interpolate x coordinate\n",
    "_points = X\n",
    "\n",
    "# # Interpolate 5D image stack... memory error for large arrays.\n",
    "# _values = images_xpyypw\n",
    "# fint = interpolate.interp1d(_points, _values, axis=0, **kws)\n",
    "# f[:, j, k, l, m] = fint(xgrid)\n",
    "\n",
    "# This should work... if it doesn't, add another for loop and so only 3D arrays\n",
    "# are passed to `interp1d`.\n",
    "images_xpyypw = np.array(images_xpyypw)\n",
    "for j in trange(shape[1]):\n",
    "    _values = images_xpyypw[:, j, :, :, :]\n",
    "    fint = interpolate.interp1d(_points, _values, axis=0, **kws)\n",
    "    f[:, j, :, :, :] = fint(xgrid)"
   ]
  },
  {
   "cell_type": "code",
   "execution_count": null,
   "id": "b74e868e-ba5e-4ed1-b0bb-fde75db5f1e0",
   "metadata": {},
   "outputs": [],
   "source": [
    "del(images_xpyypw)"
   ]
  },
  {
   "cell_type": "code",
   "execution_count": null,
   "id": "3f2f69a8-0697-4d75-81a5-31d2b7189d77",
   "metadata": {},
   "outputs": [],
   "source": [
    "# Hack: flip x and x'.\n",
    "if cam.lower() == 'cam34':\n",
    "    \n",
    "    ## This gave a memory error...\n",
    "    # f[:, :, :, :, :] = f[::-1, ::-1, :, :, :] \n",
    "    \n",
    "    # This did not.\n",
    "    for k in trange(shape[2]):\n",
    "        for l in range(shape[3]):\n",
    "            for m in range(shape[4]):\n",
    "                f[:, :, k, l, m] = f[::-1, ::-1, k, l, m]\n",
    "                \n",
    "# Write changes to the memory map. \n",
    "f.flush()"
   ]
  },
  {
   "cell_type": "code",
   "execution_count": null,
   "id": "939b8f64-d328-4260-aa45-6ec2e3acb8d9",
   "metadata": {},
   "outputs": [],
   "source": [
    "coords = [xgrid, xpgrid, ygrid, ypgrid, wgrid]\n",
    "coords = [c.copy() - np.mean(c) for c in coords]\n",
    "utils.save_stacked_array(f'_output/coords_{filename}.npz', coords)"
   ]
  },
  {
   "cell_type": "markdown",
   "id": "9c359599-c7c0-4e4c-9f80-019fa9da6b40",
   "metadata": {},
   "source": [
    "Examine the array (Step 2 notebook makes more plots)."
   ]
  },
  {
   "cell_type": "code",
   "execution_count": null,
   "id": "2270af51-04f6-4432-a014-e655ddf75d0d",
   "metadata": {},
   "outputs": [],
   "source": [
    "dims = ['x', 'xp', 'y', 'yp', 'w']\n",
    "units = ['mm', 'mrad', 'mm', 'mrad', 'MeV']\n",
    "dims_units = [f'{dim} [{unit}]' for dim, unit in zip(dims, units)]\n",
    "prof_kws = dict(kind='step')\n",
    "mplt.interactive_proj2d(f, coords=coords, dims=dims, units=units, prof_kws=prof_kws)"
   ]
  },
  {
   "cell_type": "code",
   "execution_count": null,
   "id": "b477fd10-a0f4-40d9-b150-3305ad4dd47b",
   "metadata": {},
   "outputs": [],
   "source": [
    "axes = mplt.corner(\n",
    "    f,\n",
    "    coords=coords,\n",
    "    labels=dims_units,\n",
    "    diag_kind='None',\n",
    "    prof='edges',\n",
    "    prof_kws=prof_kws,\n",
    ")"
   ]
  },
  {
   "cell_type": "markdown",
   "id": "94d961ce-003b-48a2-93c0-632905aaddbc",
   "metadata": {},
   "source": [
    "Save info."
   ]
  },
  {
   "cell_type": "code",
   "execution_count": null,
   "id": "172b5d13-03c0-4951-9064-e29a863220e7",
   "metadata": {},
   "outputs": [],
   "source": [
    "info['dims'] = dims\n",
    "info['units'] = units\n",
    "info['int_shape'] = shape\n",
    "\n",
    "# Save as pickled dictionary for loading.\n",
    "utils.save_pickle('_output/info.pkl', info)\n",
    "\n",
    "# Save as file for viewing.\n",
    "file = open('_output/info.txt', 'w')\n",
    "for key, value in info.items():\n",
    "    file.write(f'{key}: {value}\\n')\n",
    "file.close()"
   ]
  },
  {
   "cell_type": "markdown",
   "id": "6e98b6d2-e0b6-4bd9-8ea0-3c53b2b1df3b",
   "metadata": {},
   "source": [
    "Save static html of this notebook."
   ]
  },
  {
   "cell_type": "code",
   "execution_count": null,
   "id": "b7c93a30-c2ce-453a-8101-be7b1bf314fc",
   "metadata": {},
   "outputs": [],
   "source": [
    "! jupyter nbconvert scan-xxpy-image-ypdE_step1.ipynb --to html\n",
    "! mv scan-xxpy-image-ypdE_step1.html ./_output\n",
    "! ls _output"
   ]
  },
  {
   "cell_type": "code",
   "execution_count": null,
   "id": "72047731-0994-4cbd-8988-069dfbb3dfe4",
   "metadata": {},
   "outputs": [],
   "source": []
  }
 ],
 "metadata": {
  "kernelspec": {
   "display_name": "myenv",
   "language": "python",
   "name": "myenv"
  },
  "language_info": {
   "codemirror_mode": {
    "name": "ipython",
    "version": 3
   },
   "file_extension": ".py",
   "mimetype": "text/x-python",
   "name": "python",
   "nbconvert_exporter": "python",
   "pygments_lexer": "ipython3",
   "version": "3.9.7"
  },
  "toc-autonumbering": false
 },
 "nbformat": 4,
 "nbformat_minor": 5
}
