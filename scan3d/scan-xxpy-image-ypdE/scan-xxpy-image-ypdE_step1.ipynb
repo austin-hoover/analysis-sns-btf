{
 "cells": [
  {
   "cell_type": "markdown",
   "id": "d189e4b0-a482-4f3e-97b2-f06a89679294",
   "metadata": {},
   "source": [
    "# Step 1"
   ]
  },
  {
   "cell_type": "markdown",
   "id": "521e265b-93fa-407c-9c6c-06f7cc8ac002",
   "metadata": {},
   "source": [
    "* Load scalar, waveform and image h5 files\n",
    "* Snap points onto a grid in x1-x2 space.\n",
    "* Interpolate onto regular y1 grid.\n",
    "* Generate file \"rawgrid_...\" containing the 5D density array in slit-screen (x1-x2-y1-x3-y3) coordinates.\n",
    "* Generate file \"slit_coordinates_...\" containing the coordinates along each dimension in \"rawgrid...\"."
   ]
  },
  {
   "cell_type": "code",
   "execution_count": null,
   "id": "38089eaf-189d-4ffa-8fce-f257eec6dbe6",
   "metadata": {},
   "outputs": [],
   "source": [
    "import sys\n",
    "import os\n",
    "from os.path import join\n",
    "import time\n",
    "from datetime import datetime\n",
    "import importlib\n",
    "import numpy as np\n",
    "import pandas as pd\n",
    "import h5py\n",
    "import imageio\n",
    "from scipy import ndimage\n",
    "from scipy import interpolate\n",
    "import skimage\n",
    "from tqdm import tqdm\n",
    "from tqdm import trange\n",
    "from matplotlib import pyplot as plt\n",
    "import proplot as pplt\n",
    "\n",
    "sys.path.append('../..')\n",
    "from tools import energyVS06 as energy\n",
    "from tools import image_processing as ip\n",
    "from tools import plotting as mplt\n",
    "from tools import utils"
   ]
  },
  {
   "cell_type": "code",
   "execution_count": null,
   "id": "9543a20b-ce8a-4a9c-a137-33ceaf1813d4",
   "metadata": {},
   "outputs": [],
   "source": [
    "pplt.rc['grid'] = False\n",
    "pplt.rc['cmap.discrete'] = False\n",
    "pplt.rc['cmap.sequential'] = 'viridis'"
   ]
  },
  {
   "cell_type": "markdown",
   "id": "8fa534a3-3907-4d2e-b969-d985bd4ba560",
   "metadata": {},
   "source": [
    "## Setup "
   ]
  },
  {
   "cell_type": "markdown",
   "id": "64f10498-43f6-4a3e-916c-41e7fe9db8ff",
   "metadata": {},
   "source": [
    "Global variables"
   ]
  },
  {
   "cell_type": "code",
   "execution_count": null,
   "id": "ce51c6c1-3442-4320-91f0-b2d896180af0",
   "metadata": {},
   "outputs": [],
   "source": [
    "N_PTS_Y = 33  # Number of points in y grid (sweeping slit).\n",
    "SMOOTH = False  # Whether to smooth the 3D (y1-y3-x3) image along the first axis.\n",
    "ny, nx = np.loadtxt('processed_image_shape.txt').astype('int')\n",
    "print(f'Processed image shape = ({ny}, {nx})')"
   ]
  },
  {
   "cell_type": "code",
   "execution_count": null,
   "id": "d9217f3e-fa52-43de-a28f-21a0d13d6b64",
   "metadata": {},
   "outputs": [],
   "source": [
    "datadir = '/Diagnostics/Data/Measurements/scan-xxpy-image-ypdE/2022-04-29/'\n",
    "filenames = os.listdir(datadir)\n",
    "filenames"
   ]
  },
  {
   "cell_type": "code",
   "execution_count": null,
   "id": "ae99a357-cf4f-4625-8a68-3c4101b7aa41",
   "metadata": {},
   "outputs": [],
   "source": [
    "filename = '220429190854-scan-xxpy-image-ypdE'\n",
    "file = h5py.File(join(datadir, 'preproc-' + filename + '.h5'), 'r')\n",
    "data_sc = file['/scalardata']\n",
    "data_wf = file['/wfdata']\n",
    "data_im = file['/imagedata']\n",
    "\n",
    "print('All attributes:')\n",
    "print()\n",
    "for data in [data_sc, data_wf, data_im]:\n",
    "    print(data.name)\n",
    "    for item in data.dtype.fields.items():\n",
    "        print(item)\n",
    "    print()"
   ]
  },
  {
   "cell_type": "code",
   "execution_count": null,
   "id": "bba7f9e0-18a8-4a75-88d6-a46a281928c9",
   "metadata": {},
   "outputs": [],
   "source": [
    "cam = 'cam34'\n",
    "sdiag = ['bcm04', f'{cam}_Integral', f'{cam}_Saturation']\n",
    "acts = ['y_PositionSync', 'xp_PositionSync', 'x_PositionSync']\n",
    "print('Scalar diagnostics:', sdiag)\n",
    "print('Actuators:', acts)"
   ]
  },
  {
   "cell_type": "code",
   "execution_count": null,
   "id": "32f87899-abc7-4d77-a3ab-1e700d438f88",
   "metadata": {},
   "outputs": [],
   "source": [
    "signal = np.copy(data_sc[:, cam + '_Integral'])\n",
    "ipeak = np.argmax(signal)\n",
    "print('Index of peak signal:', ipeak)"
   ]
  },
  {
   "cell_type": "markdown",
   "id": "3da036d8-7e99-45c4-a9cc-fc11e2334955",
   "metadata": {
    "tags": []
   },
   "source": [
    "### Slit correlations"
   ]
  },
  {
   "cell_type": "code",
   "execution_count": null,
   "id": "0ae37792-4736-4f89-8987-a0ab4ae7cd86",
   "metadata": {},
   "outputs": [],
   "source": [
    "corr = np.identity(len(acts))\n",
    "intercept = np.zeros(corr.shape)\n",
    "for i, act1 in enumerate(acts):\n",
    "    for j, act2 in enumerate(acts):\n",
    "        fit1d = np.polyfit(data_sc[:, act1], data_sc[:, act2], 1, w=signal)\n",
    "        print(f'{act2} vs. {act1}: slope = {fit1d[0]:.3f}')\n",
    "        corr[i, j] = fit1d[0]\n",
    "        intercept[i, j] = fit1d[1]\n",
    "print('Correlation matrix:')\n",
    "print(corr)"
   ]
  },
  {
   "cell_type": "code",
   "execution_count": null,
   "id": "5d4c8111-f5c2-40d9-bf95-eb1db9f35da0",
   "metadata": {},
   "outputs": [],
   "source": [
    "fig, axes = pplt.subplots(nrows=3, ncols=3, figwidth=4.0, \n",
    "                          spanx=False, spany=False, aligny=True)\n",
    "for i in range(3):\n",
    "    for j in range(3):\n",
    "        ax = axes[i, j]\n",
    "        x = data_sc[acts[j]]\n",
    "        y = data_sc[acts[i]]\n",
    "        ax.plot(x, y, color='black', alpha=0.3)\n",
    "        xmin, xmax = np.min(x), np.max(x)\n",
    "        _x = x - 0.5 * (xmax - xmin)\n",
    "        _y = corr[j, i] * _x + intercept[j, i]\n",
    "        ax.plot(x, _y, color='black')\n",
    "for i, act in enumerate(acts):\n",
    "    axes[-1, i].set_xlabel(act)\n",
    "    axes[i, 0].set_ylabel(act)\n",
    "plt.show()"
   ]
  },
  {
   "cell_type": "markdown",
   "id": "cbf924d1-6e8e-49e0-aa7d-7468b2c93cea",
   "metadata": {},
   "source": [
    "Work in the \"normalized\" (decorrelated) slit-screen coordinates. First, try transforming back to square grid."
   ]
  },
  {
   "cell_type": "code",
   "execution_count": null,
   "id": "23ca1ed0-972a-4995-97cf-b95e82370e49",
   "metadata": {
    "jp-MarkdownHeadingCollapsed": true,
    "tags": []
   },
   "outputs": [],
   "source": [
    "# Shearing matrix \n",
    "ndim = 3\n",
    "M = np.identity(ndim)\n",
    "M[1, 2] = 1.9  # dxp / dx\n",
    "Minv = np.linalg.inv(M)\n",
    "\n",
    "# Center slit positions\n",
    "d1_center = 6.5  # y\n",
    "d2_center = 15.0  # xp\n",
    "d3_center = 21.0  # x\n",
    "\n",
    "center = np.array([d1_center, d2_center, d3_center])"
   ]
  },
  {
   "cell_type": "markdown",
   "id": "a109b5ea-494a-4860-8fbe-7adbe30900eb",
   "metadata": {},
   "source": [
    "Test on CSV file (planned points)."
   ]
  },
  {
   "cell_type": "code",
   "execution_count": null,
   "id": "1e8516cc-21ca-4c5f-a921-ebf1f29f5eb6",
   "metadata": {},
   "outputs": [],
   "source": [
    "# Find out how many rows to skip. \n",
    "csv_filename = join(datadir, filename + '.csv')\n",
    "skiprows = 0\n",
    "for line in open(csv_filename, 'r'):\n",
    "    if line.startswith('#'):\n",
    "        skiprows += 1\n",
    "print('skiprows =', skiprows)\n",
    "\n",
    "# Read the CSV file.\n",
    "names = []\n",
    "for i in range(1, ndim + 1):\n",
    "    names.extend([f'start{i}', f'stop{i}', f'step{i}'])\n",
    "df = pd.read_table(csv_filename, skiprows=skiprows, sep='\\s+', header=None, names=names)\n",
    "df"
   ]
  },
  {
   "cell_type": "markdown",
   "id": "4b62fdc6-94a9-4038-b26b-a663ceb00066",
   "metadata": {},
   "source": [
    "Make sure the actuator names in this notebook match the order in the CSV file."
   ]
  },
  {
   "cell_type": "code",
   "execution_count": null,
   "id": "69848807-29e7-444f-8c2b-67a9d126e7b3",
   "metadata": {},
   "outputs": [],
   "source": [
    "header_line = None\n",
    "for row, line in enumerate(open(join(datadir, filename + '.csv'), 'r')):\n",
    "    if row == skiprows - 1:\n",
    "        header_line = line\n",
    "        break\n",
    "for char in ['#', ',']:\n",
    "    header_line = header_line.replace(char, '')\n",
    "header_line = header_line.lstrip()\n",
    "print(header_line.split())"
   ]
  },
  {
   "cell_type": "code",
   "execution_count": null,
   "id": "e9138f42-ee32-4725-a8c5-adb29abbadae",
   "metadata": {},
   "outputs": [],
   "source": [
    "# Extract actuator points.\n",
    "act_pts = [df.loc[:, [f'start{i}', f'stop{i}']].values.ravel() for i in range(1, ndim + 1)]\n",
    "act_pts = np.array(act_pts).T\n",
    "\n",
    "# Undo linear transformation.\n",
    "act_pts_n = np.apply_along_axis(lambda pt: np.matmul(Minv, pt - center), 1, act_pts)\n",
    "\n",
    "# Plot actuator points in \"normalized\" space.\n",
    "fig, axes = pplt.subplots(nrows=3, figsize=(8.0, 4.0), spany=False, aligny=True)\n",
    "for i, ax in enumerate(axes):\n",
    "    ax.plot(act_pts_n[:, i], color='black', lw=None, marker='.', ms=0)\n",
    "    ax.format(ylabel=f'actuator {i}')"
   ]
  },
  {
   "cell_type": "markdown",
   "id": "c6b0a41b-c5a1-4a72-9a83-c6460b06a760",
   "metadata": {},
   "source": [
    "Create dataframe of planned actuator points in real and normalized space."
   ]
  },
  {
   "cell_type": "code",
   "execution_count": null,
   "id": "a1f5329e-f732-43e9-9554-80691b1c93bb",
   "metadata": {},
   "outputs": [],
   "source": [
    "dim_names = ['y1', 'x2', 'x1']\n",
    "columns = []\n",
    "for i, dim_name in enumerate(dim_names):\n",
    "    columns.extend([dim_name, dim_name + '_n'])\n",
    "df = pd.DataFrame(index=df.index, columns=columns)\n",
    "for i, dim_name in enumerate(dim_names):\n",
    "    df[dim_name] = act_pts[::2, i]\n",
    "    df[dim_name + '_n'] = act_pts_n[::2, i]\n",
    "df"
   ]
  },
  {
   "cell_type": "markdown",
   "id": "d12d3209-305b-4131-b612-747c4bfaeee6",
   "metadata": {},
   "source": [
    "## Interpolation "
   ]
  },
  {
   "cell_type": "markdown",
   "id": "234f1b26-1930-4b2e-b33d-c7e550736a1a",
   "metadata": {
    "tags": []
   },
   "source": [
    "### Snap points onto x1-x2 grid"
   ]
  },
  {
   "cell_type": "code",
   "execution_count": null,
   "id": "7d8021e5-99cd-4fa7-a499-6fd18bc9eeb6",
   "metadata": {},
   "outputs": [],
   "source": [
    "GV, BI = [], []\n",
    "for i, dim_name in enumerate(dim_names):\n",
    "    gv, idx = utils.snap(act_pts_n[:, i], n=11*15)\n",
    "    GV.append(gv)\n",
    "    BI.append(idx)\n",
    "    print(f'{dim_name}: {len(gv)} grid points')"
   ]
  },
  {
   "cell_type": "code",
   "execution_count": null,
   "id": "81143edc-8b7b-487a-8046-dfa3c056b0ea",
   "metadata": {},
   "outputs": [],
   "source": [
    "GV_X2_n, GV_X1_n = np.meshgrid(GV[1], GV[2], indexing='ij')\n",
    "\n",
    "fig, ax = pplt.subplots(figwidth=4.0)\n",
    "kws = dict(color='black', alpha=0.15)\n",
    "for gv in GV[1]:\n",
    "    ax.axvline(gv, **kws)\n",
    "for gv in GV[2]:\n",
    "    h1 = ax.axhline(gv, **kws)\n",
    "h2 = ax.scatter(act_pts_n[:, 1], act_pts_n[:, 2], c='black', s=4, ec='None') \n",
    "ax.legend([h1, h2], labels=['grid', 'planned points'], loc='t')\n",
    "ax.format(xlabel=dim_names[1], ylabel=dim_names[2])\n",
    "plt.show()"
   ]
  },
  {
   "cell_type": "markdown",
   "id": "9e39237f-b38d-4e5e-8421-59f8cf9eacac",
   "metadata": {},
   "source": [
    "`POINTS2D` holds the iteration number on the x2-x1 grid. (The number of iterations is half the number of sweeps.)"
   ]
  },
  {
   "cell_type": "code",
   "execution_count": null,
   "id": "57c02e90-6cf3-48b2-bcbb-e5094ad93924",
   "metadata": {},
   "outputs": [],
   "source": [
    "POINTS2D = np.zeros((len(GV[2]), len(GV[1])))\n",
    "POINTS2D[:] = np.nan\n",
    "steps = []\n",
    "iteration = 0\n",
    "for i in range(POINTS2D.shape[0]):\n",
    "    for j in range(POINTS2D.shape[1]):\n",
    "        idx, = np.where((BI[2] == i) & (BI[1] == j))\n",
    "        if len(idx) > 0:\n",
    "            steps.append(idx)\n",
    "            POINTS2D[i, j] = iteration\n",
    "        else:\n",
    "            print(f'Bin {i},{j} is empty')\n",
    "        iteration += 1\n",
    "POINTS2D = POINTS2D.astype(int)"
   ]
  },
  {
   "cell_type": "markdown",
   "id": "ecca913a-aef7-4778-abb6-8d1a64732642",
   "metadata": {},
   "source": [
    "The entry `idx_bin[i]` holds a list of all indices for iteration `i`."
   ]
  },
  {
   "cell_type": "code",
   "execution_count": null,
   "id": "83a1352a-ce4e-4c3c-a6aa-fce7f932f607",
   "metadata": {},
   "outputs": [],
   "source": [
    "idx_bin = []\n",
    "for i, step in enumerate(steps):\n",
    "    indices = np.unique((step / 2 + 1).astype(int))\n",
    "    idx = np.hstack([np.where(data_sc[:, 'iteration'] == j)[0] for j in indices])\n",
    "    idx_bin.append(np.unique(idx))"
   ]
  },
  {
   "cell_type": "markdown",
   "id": "5075d02d-3c6a-4a36-82bb-c9d0304f1773",
   "metadata": {
    "tags": []
   },
   "source": [
    "### Observe one sweep"
   ]
  },
  {
   "cell_type": "markdown",
   "id": "f57368c5-3987-4431-81ba-73758943d828",
   "metadata": {},
   "source": [
    "We will observe the sweep containing the largest camera integral in the scan."
   ]
  },
  {
   "cell_type": "code",
   "execution_count": null,
   "id": "bb01f82f-3fb3-4f7d-805b-45d2bb07cd7d",
   "metadata": {},
   "outputs": [],
   "source": [
    "iteration_peak, n_iterations = None, len(steps)\n",
    "for iteration in range(n_iterations):\n",
    "    if ipeak in idx_bin[iteration]:\n",
    "        iteration_peak = iteration\n",
    "        \n",
    "iteration = iteration_peak\n",
    "idx = idx_bin[iteration]\n",
    "print(f'Peak is in iteration {iteration}')\n",
    "print(f'Set iteration = {iteration}')\n",
    "print(f'Set idx = idx_bin[iteration] = {idx}')"
   ]
  },
  {
   "cell_type": "markdown",
   "id": "62dce4a1-8dee-4131-b8b8-ce4d5d1a2576",
   "metadata": {},
   "source": [
    "Observe the actuator positions and camera integral during the sweep."
   ]
  },
  {
   "cell_type": "code",
   "execution_count": null,
   "id": "9cf2d542-cec1-4c6e-8cfe-8a60ec4cb271",
   "metadata": {},
   "outputs": [],
   "source": [
    "bcm_mean = np.mean(data_sc[:, 'bcm04'])\n",
    "bcm_scale = bcm_mean / data_sc[idx, 'bcm04']\n",
    "\n",
    "kws = dict(marker='.', color='black')\n",
    "fig, axes = pplt.subplots(nrows=4, figsize=(5, 6), spany=False, aligny=True)\n",
    "for _scale, alpha, label in zip([1.0, bcm_scale], [1.0, 0.2], [None, 'Scaled by BCM04']):\n",
    "    axes[0].plot(\n",
    "        idx,\n",
    "        data_sc[idx, cam + '_Integral'] * _scale,\n",
    "        alpha=alpha,\n",
    "        label=label,\n",
    "        **kws,\n",
    "    )\n",
    "axes[0].legend(loc='upper right')\n",
    "axes[0].format(ylabel=f'{cam}_Integral')\n",
    "for ax, act in zip(axes[1:], acts):\n",
    "    ax.plot(\n",
    "        idx,\n",
    "        data_sc[idx, act],\n",
    "        **kws,\n",
    "    )\n",
    "    ax.format(ylabel=act)\n",
    "axes.format(xlabel='Step in scan', suptitle=f'Iteration {iteration}')\n",
    "plt.show()"
   ]
  },
  {
   "cell_type": "markdown",
   "id": "3559764a-5197-45b8-8cda-2bcb7798f182",
   "metadata": {},
   "source": [
    "Observe the image on the screen during the sweep. "
   ]
  },
  {
   "cell_type": "code",
   "execution_count": null,
   "id": "ba64dcd0-8474-4803-81f3-02efd9dc3e89",
   "metadata": {},
   "outputs": [],
   "source": [
    "def get_image(i):\n",
    "    return data_im[i, cam + '_Image'].reshape(ny, nx)"
   ]
  },
  {
   "cell_type": "code",
   "execution_count": null,
   "id": "68ca03a6-6c09-45fc-94ff-c659d1289e45",
   "metadata": {},
   "outputs": [],
   "source": [
    "ipeak_sweep = np.argmax(data_sc[idx, cam + '_Integral'])\n",
    "norm_pixel_value = np.max(data_im[idx[ipeak_sweep], cam + '_Image'])\n",
    "cmap = pplt.Colormap('dusk_r')\n",
    "greyscale = False\n",
    "\n",
    "_ims = []\n",
    "for i in tqdm(idx):\n",
    "    _im = get_image(i) / norm_pixel_value\n",
    "    if not greyscale:\n",
    "        _im = cmap(_im)\n",
    "    _ims.append(np.uint8(_im * np.iinfo(np.uint8).max))\n",
    "\n",
    "gif_filename = f'_output/iteration{iteration}.gif'\n",
    "imageio.mimwrite(gif_filename, _ims, fps=6)"
   ]
  },
  {
   "cell_type": "markdown",
   "id": "d53e24c9-f710-4c54-aab5-468ca7798d2d",
   "metadata": {},
   "source": [
    "![](_output/iteration742.gif)"
   ]
  },
  {
   "cell_type": "markdown",
   "id": "439dc86f-c5d7-4d7d-9cd7-4b01af88f426",
   "metadata": {
    "tags": []
   },
   "source": [
    "### Smooth and interpolate along y_PositionSync "
   ]
  },
  {
   "cell_type": "markdown",
   "id": "48d4a261-4c32-4535-abd7-e13b555108fc",
   "metadata": {},
   "source": [
    "We have snapped all points onto an x1-x2 grid. We now interpolate the y1 coordinate — the sweeping variable."
   ]
  },
  {
   "cell_type": "code",
   "execution_count": null,
   "id": "87790b8c-6e87-45c3-ad11-c6d063e215e2",
   "metadata": {},
   "outputs": [],
   "source": [
    "# Assemble the 3d image.\n",
    "im3d = np.array([get_image(i) for i in idx])\n",
    "\n",
    "# Apply a smoothing filter along the first dimension (y_PositionSync). \n",
    "im3d_smooth = ndimage.median_filter(im3d, size=(3, 1, 1), mode='constant', cval=0.0) "
   ]
  },
  {
   "cell_type": "code",
   "execution_count": null,
   "id": "28a92fe3-a964-43c0-882c-5d4d42cd83c4",
   "metadata": {},
   "outputs": [],
   "source": [
    "i, _, _ = np.unravel_index(np.argmax(im3d), im3d.shape)\n",
    "\n",
    "fig, axes = pplt.subplots(ncols=3, figwidth=7, sharey=False)\n",
    "axes[0].pcolormesh(im3d[i, :, :])\n",
    "axes[1].pcolormesh(im3d_smooth[i, :, :])\n",
    "axes[2].plot(np.sum(im3d[i, :, :], axis=0), color='black', \n",
    "             marker='.', ms=3, label='raw')\n",
    "axes[2].plot(np.sum(im3d_smooth[i, :, :], axis=0), color='pink6', \n",
    "             marker='.', ms=3, lw=0.75, label='smoothed')\n",
    "for ax, title in zip(axes, ['Raw', 'Smoothed along y', 'Profiles']):\n",
    "    ax.set_title(title)\n",
    "axes[:-1].format(xticks=[], yticks=[])\n",
    "axes[-1].format(yscale='log')\n",
    "axes[-1].legend(ncol=1, loc='upper right')\n",
    "plt.show()"
   ]
  },
  {
   "cell_type": "markdown",
   "id": "60a16ef2-0e69-4725-bc84-2371fa168b87",
   "metadata": {
    "tags": []
   },
   "source": [
    "### Interpolate to y1 grid"
   ]
  },
  {
   "cell_type": "code",
   "execution_count": null,
   "id": "8feaac62-39ab-4e4f-af41-86f38c43b692",
   "metadata": {},
   "outputs": [],
   "source": [
    "# Define the y1 grid using all points in the data set.\n",
    "y1_gv = np.linspace(\n",
    "    np.min(data_sc['y_PositionSync']),\n",
    "    np.max(data_sc['y_PositionSync']),\n",
    "    N_PTS_Y,\n",
    ")\n",
    "\n",
    "# Obtain the y1 values corresponding to each image in this sweep.\n",
    "y1_vals = data_sc[idx, 'y_PositionSync']\n",
    "\n",
    "# Interpolate along the y1 axis.\n",
    "if SMOOTH:\n",
    "    arr3d = ip.interp_along_axis(im3d_smooth, y1_vals, y1_gv, axis=0)\n",
    "else:\n",
    "    arr3d = ip.interp_along_axis(im3d, y1_vals, y1_gv, axis=0)"
   ]
  },
  {
   "cell_type": "code",
   "execution_count": null,
   "id": "2ce4c1dc-8806-4c8c-8e6e-a6bd559161c6",
   "metadata": {},
   "outputs": [],
   "source": [
    "row, col = utils.max_indices(get_image(ipeak))\n",
    "\n",
    "fig, axes = pplt.subplots(ncols=2, sharey=False)\n",
    "for i, ax in enumerate(axes):\n",
    "    for x, arr, alpha, label in zip([y1_gv, y1_vals], [arr3d, im3d], [1.0, 0.2], ['interpolated', 'raw']):\n",
    "        if i == 0:\n",
    "            y = utils.project(arr, 0)\n",
    "        else:\n",
    "            y = arr[:, row, col]\n",
    "        ax.plot(x, y, color='black', label=label, marker='.', alpha=alpha)\n",
    "axes[1].legend(loc='upper right', ncol=1,)\n",
    "axes.format(yscale='log', xlabel='y [mm]')\n",
    "for ax, title in zip(axes, ['Sum over image', f'Pixel ({row}, {col})']):\n",
    "    ax.format(title=title)\n",
    "plt.show()"
   ]
  },
  {
   "cell_type": "markdown",
   "id": "db47427a-1c41-466f-99f1-bf06f65a9fbe",
   "metadata": {},
   "source": [
    "Find the frame with the maximum pixel."
   ]
  },
  {
   "cell_type": "code",
   "execution_count": null,
   "id": "9379b8a9-93aa-40d9-985c-8fd226e3d6f8",
   "metadata": {},
   "outputs": [],
   "source": [
    "max1 = np.unravel_index(np.argmax(im3d), im3d.shape)[0]\n",
    "max2 = 1 + np.unravel_index(np.argmax(arr3d), arr3d.shape)[0]  # why + 1?\n",
    "row1, col1 = utils.max_indices(im3d[max1, :, :])\n",
    "row2, col2 = utils.max_indices(arr3d[max2, :, :])\n",
    "print(f'max1, row1, col1 = ({max1}, {row1}, {col1})')\n",
    "print(f'max2, row2, col2 = ({max2}, {row2}, {col2})')"
   ]
  },
  {
   "cell_type": "code",
   "execution_count": null,
   "id": "bcba3071-27f4-4b80-9555-d2d5ae6b56e4",
   "metadata": {},
   "outputs": [],
   "source": [
    "im1, im2 = im3d[max1], arr3d[max2]\n",
    "fig, axes = pplt.subplots(ncols=2, nrows=2, figwidth=None, sharex=False, sharey=False)\n",
    "for col, _im in enumerate([im1, im2]):\n",
    "    for row, norm in enumerate([None, 'log']):\n",
    "        mplt.plot_image(_im.T, ax=axes[row, col], norm=norm, colorbar=True)\n",
    "axes.format(leftlabels=['Normal scale', 'Log scale'],\n",
    "            toplabels=['Raw image', 'Interpolated along y'])"
   ]
  },
  {
   "cell_type": "code",
   "execution_count": null,
   "id": "4a601737-2edd-48f8-b9ac-b99d8bb4a08b",
   "metadata": {},
   "outputs": [],
   "source": [
    "fig, axes = pplt.subplots(ncols=2, sharey=False, spanx=False, figsize=(8, 2))\n",
    "axes[0].plot(np.sum(arr3d[max2, :, :], axis=0), color='black', alpha=0.2, label='interpolated')\n",
    "axes[0].plot(np.sum(im3d[max1, :, :], axis=0), marker='.', ms=2, lw=0, color='black', label='raw')\n",
    "axes[0].legend(ncol=1)\n",
    "axes[0].format(yscale='log', title='ProfileX')\n",
    "axes[1].plot(arr3d[-2, :, :].ravel(), marker='.', lw=0, color='black', ms=1, label='Raw')\n",
    "axes[1].plot(arr3d[-2, :, :].ravel(), color='black', alpha=0.2, label='Interpolated')\n",
    "axes[1].legend(loc='upper left', ncols=1)\n",
    "axes[1].format(title='Pixels in edge frame', xlabel='Pixel number')"
   ]
  },
  {
   "cell_type": "code",
   "execution_count": null,
   "id": "f28c60e2-896a-48b5-b37f-8f53044e5060",
   "metadata": {},
   "outputs": [],
   "source": [
    "fig, axes = pplt.subplots([[1, 2, 3], [1, 4, 5]], sharey=False, sharex=False)\n",
    "axes[0].pcolormesh(im3d[max1, :, :])\n",
    "kws = dict(color='white', lw=0.785, alpha=0.5)\n",
    "axes[0].axvline(col1, **kws)\n",
    "axes[0].axhline(row1, **kws)\n",
    "kws = dict(marker='.', color='black', ms=2.0, lw=1.0)\n",
    "for im, row, col, label in zip([arr3d[max2], im3d[max1]], [row2, row1], [col2, col1], ['interpolated', 'raw']):\n",
    "    if label == 'raw':\n",
    "        kws['alpha'] = 0.2\n",
    "    elif label == 'interpolated':\n",
    "        kws['alpha'] = 1.0\n",
    "    for ax in axes[:, 1]:\n",
    "        ax.plot(im[row, :] / np.sum(im[row, :]), label=label, **kws)\n",
    "    for ax in axes[:, 2]:\n",
    "        ax.plot(im[:, col] / np.sum(im[:, col]), label=label, **kws)\n",
    "axes[2].legend(ncols=1, loc='upper right')\n",
    "axes[1].set_title(f'{cam} - row {row}')\n",
    "axes[2].set_title(f'{cam} - col {col}')\n",
    "axes[1, 1:].format(yscale='log')\n",
    "plt.show()"
   ]
  },
  {
   "cell_type": "markdown",
   "id": "c650cf29-63dc-4806-b22a-71a760e200d6",
   "metadata": {},
   "source": [
    "## View projections and slices of interpolated 3D image "
   ]
  },
  {
   "cell_type": "markdown",
   "id": "2bec3365-eb19-4478-b6bd-f32f3b7270a5",
   "metadata": {},
   "source": [
    "### Projections"
   ]
  },
  {
   "cell_type": "code",
   "execution_count": null,
   "id": "2da32cd9-ad88-4540-b3da-bda96084d45e",
   "metadata": {},
   "outputs": [],
   "source": [
    "dims = ['y1', 'x3', 'y3']\n",
    "axes = mplt.corner(arr3d, diag_kind=None, labels=dims, prof='edges')"
   ]
  },
  {
   "cell_type": "markdown",
   "id": "ea57f4a0-ae05-4d36-ba52-815cde9d6fc3",
   "metadata": {},
   "source": [
    "### Slices"
   ]
  },
  {
   "cell_type": "code",
   "execution_count": null,
   "id": "9888b060-dab7-4568-8a5b-5f4733dad114",
   "metadata": {},
   "outputs": [],
   "source": [
    "ind_slice = [int(s * 1 / 2) for s in arr3d.shape]\n",
    "\n",
    "plot_kws = dict(discrete=False, colorbar=True)\n",
    "fig, axes = pplt.subplots(nrows=2, ncols=3, sharex=False, sharey=False, spany=False, spanx=False)\n",
    "for j in range(3):\n",
    "    _im = utils.slice_array(arr3d, axis=j, ind=ind_slice[j])\n",
    "    _im = _im / np.max(_im)\n",
    "    for ax, norm in zip(axes[:, j], [None, 'log']):\n",
    "        mplt.plot_image(_im, ax=ax, norm=norm, **plot_kws)\n",
    "    axes[0, j].format(title=f'{dims[i]} = {ind_slice[i]}')\n",
    "axes[:, 0].format(xlabel='y3', ylabel='x3')\n",
    "axes[:, 1].format(xlabel='y1', ylabel='x3')\n",
    "axes[:, 2].format(xlabel='y1', ylabel='y3')\n",
    "plt.show()"
   ]
  },
  {
   "cell_type": "markdown",
   "id": "52fa5a01-6f37-4dba-99d5-84f3a4cee862",
   "metadata": {},
   "source": [
    "## Save grid coordinates"
   ]
  },
  {
   "cell_type": "code",
   "execution_count": null,
   "id": "ddbd2921-d2fa-49c6-979f-131a52b204c3",
   "metadata": {},
   "outputs": [],
   "source": [
    "x2_x1_n = np.vstack([GV_X2_n.ravel(), GV_X1_n.ravel()]).T\n",
    "x2_x1 = utils.apply(M[1:, 1:], x2_x1_n) + center[1:]\n",
    "GV_X2 = x2_x1[:, 0].reshape(GV_X2_n.shape)\n",
    "GV_X1 = x2_x1[:, 1].reshape(GV_X1_n.shape)\n",
    "\n",
    "fig, axes = pplt.subplots(ncols=2, figwidth=8, sharey=False, sharex=False)\n",
    "for ax, (grid1, grid2), pts in zip(axes, [(GV_X2, GV_X1), (GV_X2_n, GV_X1_n)], [act_pts, act_pts_n]):\n",
    "    ax.plot(grid1[:], grid2[:], color='black', alpha=0.2, lw=3)\n",
    "    ax.plot(pts[:, 1], pts[:, 2], color='black', marker='.', ms=2, lw=0.5)\n",
    "axes.format(xlabel='x2', ylabel='x1')\n",
    "axes[1].format(title='\"Normalized\"')"
   ]
  },
  {
   "cell_type": "markdown",
   "id": "d0e0f282-383c-48d2-9c58-ea49abd4598f",
   "metadata": {},
   "source": [
    "Obtain 3D grid coordinates."
   ]
  },
  {
   "cell_type": "code",
   "execution_count": null,
   "id": "7a332117-8671-419d-bf2a-b602dbbce918",
   "metadata": {},
   "outputs": [],
   "source": [
    "X1 = np.repeat(GV_X1[:, :, np.newaxis], N_PTS_Y, axis=2)\n",
    "X2 = np.repeat(GV_X2[:, :, np.newaxis], N_PTS_Y, axis=2)\n",
    "Y1 = np.zeros(X1.shape)\n",
    "for i in range(len(GV[2])):\n",
    "    for j in range(len(GV[1])):\n",
    "        Y1[i, j, :] = y1_gv"
   ]
  },
  {
   "cell_type": "code",
   "execution_count": null,
   "id": "7defbf2c-33c8-4153-9ba3-826c45f859aa",
   "metadata": {},
   "outputs": [],
   "source": [
    "fig, axes = pplt.subplots(nrows=3, figsize=(5, 4), spany=False, aligny=True)\n",
    "for ax, G, ylabel in zip(axes, [X1, X2, Y1], [\"x1 [mm]\", \"x2 [mm]\", \"y1 [mm]\"]):\n",
    "    ax.plot(G.ravel(), color='black')\n",
    "    ax.format(ylabel=ylabel)\n",
    "axes.format(xlabel='Step')"
   ]
  },
  {
   "cell_type": "code",
   "execution_count": null,
   "id": "8265f975-c130-46fb-9e94-ffda0adbce0f",
   "metadata": {},
   "outputs": [],
   "source": [
    "coord_3d = np.stack([X1, X2, Y1], axis=0)\n",
    "print(f'coord_3d.shape = {coord_3d.shape}')"
   ]
  },
  {
   "cell_type": "code",
   "execution_count": null,
   "id": "d657add5-2c03-4040-b3e6-399841d8275a",
   "metadata": {},
   "outputs": [],
   "source": [
    "savefilename = f'slit_coordinates_{filename}.npy'\n",
    "np.save(savefilename, coord_3d)"
   ]
  },
  {
   "cell_type": "markdown",
   "id": "f56b4805-f5fc-4413-b9dc-2f511fd9a198",
   "metadata": {
    "tags": []
   },
   "source": [
    "## Save 5D array as memory map "
   ]
  },
  {
   "cell_type": "code",
   "execution_count": null,
   "id": "893e86ff-a4b0-41bf-9e23-49e7f0447bf7",
   "metadata": {},
   "outputs": [],
   "source": [
    "shape = [len(GV[2]), len(GV[1])] + list(arr3d.shape)  # [x1, x2, y1, y3, x3]\n",
    "shape = tuple(shape)\n",
    "np.savetxt('rawgrid_shape.txt', shape)\n",
    "print('shape:', shape)"
   ]
  },
  {
   "cell_type": "code",
   "execution_count": null,
   "id": "f7ef9f6e-ab70-4894-888b-f36980b2f2f1",
   "metadata": {},
   "outputs": [],
   "source": [
    "im_dtype = get_image(0).dtype\n",
    "file = open('im_dtype.txt', 'w')\n",
    "file.write(str(im_dtype))\n",
    "file.close()\n",
    "print('image dtype:', im_dtype)"
   ]
  },
  {
   "cell_type": "code",
   "execution_count": null,
   "id": "81ee9610-5df8-46bf-8b66-32f9f1bf0a21",
   "metadata": {
    "scrolled": true,
    "tags": []
   },
   "outputs": [],
   "source": [
    "savefilename = f'rawgrid_{filename}.mmp'\n",
    "arrays_3d = np.memmap(savefilename, shape=shape, dtype=im_dtype, mode='w+') \n",
    "for i in trange(POINTS2D.shape[0]):\n",
    "    for j in range(POINTS2D.shape[1]):\n",
    "        try:\n",
    "            iteration = POINTS2D[i, j]\n",
    "            idx = idx_bin[iteration]\n",
    "            im3d = np.array([get_image(k) for k in idx])\n",
    "            if SMOOTH:\n",
    "                im3d = ndimage.median_filter(im3d, size=(3, 1, 1), mode='constant', cval=0.0) \n",
    "            y1_vals = data_sc[idx, 'y_PositionSync']\n",
    "            arrays_3d[i, j, :, :, :] = ip.interp_along_axis(im3d, y1_vals, y1_gv, axis=0)\n",
    "        except IndexError:\n",
    "            print(f'No points in grid bin ({i}, {j})')\n",
    "            arrays_3d[i, j, :, :, :] = 0\n",
    "del arrays_3d"
   ]
  },
  {
   "cell_type": "code",
   "execution_count": null,
   "id": "549d6aaa-2f62-40b4-a243-0ca23aeeccf1",
   "metadata": {},
   "outputs": [],
   "source": []
  }
 ],
 "metadata": {
  "kernelspec": {
   "display_name": "myenv",
   "language": "python",
   "name": "myenv"
  },
  "language_info": {
   "codemirror_mode": {
    "name": "ipython",
    "version": 3
   },
   "file_extension": ".py",
   "mimetype": "text/x-python",
   "name": "python",
   "nbconvert_exporter": "python",
   "pygments_lexer": "ipython3",
   "version": "3.9.7"
  },
  "toc-autonumbering": true,
  "toc-showmarkdowntxt": false,
  "toc-showtags": false
 },
 "nbformat": 4,
 "nbformat_minor": 5
}
