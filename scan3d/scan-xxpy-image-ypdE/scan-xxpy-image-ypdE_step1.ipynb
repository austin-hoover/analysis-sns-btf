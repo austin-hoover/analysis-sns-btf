{
 "cells": [
  {
   "cell_type": "markdown",
   "id": "4a6a2fec-ae49-4115-b4bf-ade79f49a70e",
   "metadata": {},
   "source": [
    "# Step 1"
   ]
  },
  {
   "cell_type": "markdown",
   "id": "344c7092-4d68-400e-ae77-533ec7c23a57",
   "metadata": {},
   "source": [
    "* Load scalar, waveform and image h5 files.\n",
    "* For each sweep, interpolate images on regular y grid. \n",
    "* For each y and image pixel, interpolate x-x'. (f(x, x', y, y3, x3))\n",
    "* For each (x, xp, y, x3), interpolate yp. (f(x, x', y, y', x3))\n",
    "* For each (x, xp, y, yp), inteprolate w. (f(x, x', y, y', w))."
   ]
  },
  {
   "cell_type": "code",
   "execution_count": null,
   "id": "4b81a757-08c6-4a57-9f45-a1f2df7a4976",
   "metadata": {},
   "outputs": [],
   "source": [
    "import sys\n",
    "import os\n",
    "from os.path import join\n",
    "import time\n",
    "from datetime import datetime\n",
    "import importlib\n",
    "from pprint import pprint\n",
    "import numpy as np\n",
    "import pandas as pd\n",
    "import h5py\n",
    "import imageio\n",
    "from scipy import ndimage\n",
    "from scipy import interpolate\n",
    "import skimage\n",
    "from tqdm.notebook import tqdm\n",
    "from tqdm.notebook import trange\n",
    "from matplotlib import pyplot as plt\n",
    "from matplotlib.patches import Ellipse\n",
    "from plotly import graph_objects as go\n",
    "import proplot as pplt\n",
    "from ipywidgets import interactive\n",
    "from ipywidgets import widgets\n",
    "\n",
    "sys.path.append('../..')\n",
    "from tools.energyVS06 import EnergyCalculate\n",
    "from tools import image_processing as ip\n",
    "from tools import plotting as mplt\n",
    "from tools import utils"
   ]
  },
  {
   "cell_type": "code",
   "execution_count": null,
   "id": "30e18ef3-72eb-4bbb-8a46-312e12e79470",
   "metadata": {},
   "outputs": [],
   "source": [
    "pplt.rc['grid'] = False\n",
    "pplt.rc['cmap.discrete'] = False\n",
    "pplt.rc['cmap.sequential'] = 'viridis'"
   ]
  },
  {
   "cell_type": "markdown",
   "id": "d5520f6f-fd27-4d17-b3a4-ef75dfb6bd12",
   "metadata": {},
   "source": [
    "## Setup"
   ]
  },
  {
   "cell_type": "code",
   "execution_count": null,
   "id": "95d58271-8d76-4dbf-a7fc-54e153426345",
   "metadata": {},
   "outputs": [],
   "source": [
    "folder = '_output'"
   ]
  },
  {
   "cell_type": "code",
   "execution_count": null,
   "id": "9416a2c7-d72a-4f55-a781-f3a26fbcf47b",
   "metadata": {},
   "outputs": [],
   "source": [
    "info = utils.load_pickle(join(folder, 'info.pkl'))\n",
    "print('info')\n",
    "pprint(info)"
   ]
  },
  {
   "cell_type": "code",
   "execution_count": null,
   "id": "697eb6d5-be4c-4923-97af-8214075640bd",
   "metadata": {},
   "outputs": [],
   "source": [
    "datadir = info['datadir']\n",
    "filename = info['filename']\n",
    "datadir = info['datadir']\n",
    "file = h5py.File(join(datadir, 'preproc-' + filename + '.h5'), 'r')\n",
    "data_sc = file['/scalardata']\n",
    "data_wf = file['/wfdata']\n",
    "data_im = file['/imagedata']\n",
    "\n",
    "print('Attributes:')\n",
    "print()\n",
    "for data in [data_sc, data_wf, data_im]:\n",
    "    print(data.name)\n",
    "    for item in data.dtype.fields.items():\n",
    "        print(item)\n",
    "    print()"
   ]
  },
  {
   "cell_type": "code",
   "execution_count": null,
   "id": "44490d1e-e17d-4aea-9b3d-0331dcfa266b",
   "metadata": {},
   "outputs": [],
   "source": [
    "variables = info['variables']\n",
    "keys = list(variables)\n",
    "nsteps = np.array([variables[key]['steps'] for key in keys])\n",
    "\n",
    "acts = info['acts']\n",
    "print(acts)\n",
    "points = np.vstack([data_sc[act] for act in acts]).T"
   ]
  },
  {
   "cell_type": "markdown",
   "id": "b35377b2-bd83-469f-b1d1-0db24b5f623b",
   "metadata": {},
   "source": [
    "# Interpolation"
   ]
  },
  {
   "cell_type": "markdown",
   "id": "5d514eeb-318b-4765-8ba6-c893c39a1612",
   "metadata": {},
   "source": [
    "### Convert to beam frame coordinates"
   ]
  },
  {
   "cell_type": "code",
   "execution_count": null,
   "id": "c28655b7-ec45-4890-aef2-dcef5462197d",
   "metadata": {},
   "outputs": [],
   "source": [
    "## y slit is inserted from above, always opposite y beam.\n",
    "points[:, 0] = -points[:, 0]\n",
    "\n",
    "## Screen coordinates (x3, y3) are always opposite beam (x, y).\n",
    "image_shape = info['image_shape']\n",
    "x3grid = -np.arange(image_shape[1]) * info['image_pix2mm_x']\n",
    "y3grid = -np.arange(image_shape[0]) * info['image_pix2mm_y']\n",
    "\n",
    "# VT04/VT06 are same sign as x_beam; VT34a and VT34b are opposite. HOWEVER,\n",
    "# I do not seem to get the right answer by flipping the signs of the VT34\n",
    "# slits. It seems they have the same sign as x_beam... so don't flip for\n",
    "# now. The bend radius also flips sign (positive/negative at VS06/VS34).\n",
    "cam = info['cam'].lower()\n",
    "rho_sign = None\n",
    "if cam == 'cam06':\n",
    "    rho_sign = +1.0\n",
    "elif cam == 'cam34':\n",
    "    rho_sign = -1.0\n",
    "    # points[:, 1:] *= -1.0\n",
    "else:\n",
    "    raise ValueError('Unknown camera name!')"
   ]
  },
  {
   "cell_type": "markdown",
   "id": "dc354e33-9acf-4f4a-9661-896b3bd64ffa",
   "metadata": {},
   "source": [
    "### Setup interpolation grids"
   ]
  },
  {
   "cell_type": "markdown",
   "id": "7f43ef55-bb22-4941-bfde-79d354b401a5",
   "metadata": {},
   "source": [
    "#### y grid"
   ]
  },
  {
   "cell_type": "code",
   "execution_count": null,
   "id": "1e55b72e-441a-45e5-9fca-a93f0e288684",
   "metadata": {},
   "outputs": [],
   "source": [
    "y_scale = 1.1\n",
    "ygrid = np.linspace(\n",
    "    np.min(points[:, 0]), \n",
    "    np.max(points[:, 0]), \n",
    "    int(y_scale * (nsteps[0] + 1)),\n",
    ")"
   ]
  },
  {
   "cell_type": "markdown",
   "id": "f3e5040f-39e1-456f-b851-6a02ef5f3783",
   "metadata": {},
   "source": [
    "#### x-x' grid"
   ]
  },
  {
   "cell_type": "markdown",
   "id": "ecef285b-289e-4aa9-96a5-725621db275f",
   "metadata": {},
   "source": [
    "Build the transfer matrices between the slits and the screen. (TO DO: Something needs to change sign for VS34 relative to VS06...)"
   ]
  },
  {
   "cell_type": "code",
   "execution_count": null,
   "id": "82542f1b-7829-44e7-8b0e-84a389967280",
   "metadata": {},
   "outputs": [],
   "source": [
    "a2mm = 1.009  # assume same for both dipoles\n",
    "rho = 0.3556  # bend radius\n",
    "GL05 = 0.0  # quad 05\n",
    "GL06 = 0.0  # quad 05\n",
    "l1 = 0.0\n",
    "l2 = 0.0\n",
    "l3 = 0.774\n",
    "L2 = 0.311  # slit2 to dipole face\n",
    "l = 0.129  # dipole face to screen (assume same for first/last dipole-screen)\n",
    "dipole_current = 0.0  # deviation of dipole current from nominal\n",
    "LL = l1 + l2 + l3 + L2  # distance from emittance plane to dipole entrance\n",
    "ecalc = EnergyCalculate(l1=l1, l2=l2, l3=l3, L2=L2, l=l, \n",
    "                        amp2meter=a2mm*1e3, rho_sign=rho_sign)\n",
    "Mslit = ecalc.getM1()  # slit-slit\n",
    "Mscreen = ecalc.getM()  # slit-screen"
   ]
  },
  {
   "cell_type": "markdown",
   "id": "6b613b62-871a-43f2-b17a-33e53030740a",
   "metadata": {},
   "source": [
    "Assume that $x$ and $x'$ do not change on each iteration (or that the only variation is noise in the readback value). Select an $x$ and $x'$ for each $\\left\\{y, y_3, x_3\\right\\}$."
   ]
  },
  {
   "cell_type": "code",
   "execution_count": null,
   "id": "5d443b27-3f30-42d0-86fa-83a96abd7091",
   "metadata": {},
   "outputs": [],
   "source": [
    "iterations = data_sc['iteration']\n",
    "iteration_nums = np.unique(iterations)\n",
    "n_iterations = len(iteration_nums)\n",
    "\n",
    "XXP = np.zeros((n_iterations, 2))\n",
    "for iteration in iteration_nums:\n",
    "    idx, = np.where(iterations == iteration)\n",
    "    x2, x1 = np.mean(points[idx, 1:], axis=0)\n",
    "    x = x1\n",
    "    xp = 1e3 * ecalc.calculate_xp(x1 * 1e-3, x2 * 1e-3, Mslit)\n",
    "    XXP[iteration - 1] = (x, xp)"
   ]
  },
  {
   "cell_type": "markdown",
   "id": "850f093f-3147-4d79-b68f-2f13674aca0f",
   "metadata": {},
   "source": [
    "Define the $x$-$x'$ interpolation grid. Tune `x_scale` and `xp_scale` to roughly align the grid points with the measured points."
   ]
  },
  {
   "cell_type": "code",
   "execution_count": null,
   "id": "6bef673e-d120-4222-888a-d6d92698ac31",
   "metadata": {},
   "outputs": [],
   "source": [
    "x_scale = 1.1\n",
    "xp_scale = 1.6\n",
    "\n",
    "x_min, xp_min = np.min(XXP, axis=0)\n",
    "x_max, xp_max = np.max(XXP, axis=0)\n",
    "xgrid = np.linspace(x_min, x_max, int(x_scale * (nsteps[2] + 1)))\n",
    "xpgrid = np.linspace(xp_min, xp_max, int(xp_scale * (nsteps[1] + 1)))\n",
    "\n",
    "fig, ax = pplt.subplots(figwidth=4)\n",
    "line_kws = dict(color='lightgray', lw=0.7)\n",
    "for x in xgrid:\n",
    "    g1 = ax.axvline(x, **line_kws)\n",
    "for xp in xpgrid:\n",
    "    ax.axhline(xp, **line_kws)\n",
    "ax.plot(XXP[:, 0], XXP[:, 1], color='pink7', lw=0, marker='.', ms=2)\n",
    "xlim = ax.get_xlim()\n",
    "if xlim[0] > xlim[1]:\n",
    "    ax.set_xlim(reversed(xlim))\n",
    "ax.format(xlabel='x [mm]', ylabel='xp [mrad]')\n",
    "plt.savefig('_output/xxp_interp_grid.png')"
   ]
  },
  {
   "cell_type": "markdown",
   "id": "7e4d74d7-9dee-4996-8eec-697be96dcfdb",
   "metadata": {},
   "source": [
    "#### y' grid"
   ]
  },
  {
   "cell_type": "markdown",
   "id": "cb910268-e7cf-493b-bc49-4efd5fc88480",
   "metadata": {},
   "source": [
    "Define the $y'$ grid."
   ]
  },
  {
   "cell_type": "code",
   "execution_count": null,
   "id": "e11257c3-e451-4725-a453-6aa5f99f0b62",
   "metadata": {},
   "outputs": [],
   "source": [
    "yp_scale = 1.25  # scales resolution of y' interpolation grid\n",
    "_Y, _Y3 = np.meshgrid(ygrid, y3grid, indexing='ij')\n",
    "_YP = 1e3 * ecalc.calculate_yp(_Y * 1e-3, _Y3 * 1e-3, Mscreen)  # [mrad]\n",
    "ypgrid = np.linspace(\n",
    "    np.min(_YP),\n",
    "    np.max(_YP), \n",
    "    int(yp_scale * len(y3grid)),\n",
    ")\n",
    "\n",
    "fig, ax = pplt.subplots(figwidth=4)\n",
    "for yp in ypgrid:\n",
    "    ax.axhline(yp, **line_kws)\n",
    "for y in ygrid:\n",
    "    ax.axvline(y, **line_kws)\n",
    "ax.plot(_Y.ravel(), _YP.ravel(), color='pink7', lw=0, marker='.', ms=2)\n",
    "ax.format(xlabel='y [mm]', ylabel='yp [mrad]')\n",
    "plt.savefig('_output/yyp_interp_grid.png')\n",
    "plt.show()"
   ]
  },
  {
   "cell_type": "markdown",
   "id": "cdcf7eea-92df-4602-b7da-5d634d52badb",
   "metadata": {},
   "source": [
    "#### w grid"
   ]
  },
  {
   "cell_type": "code",
   "execution_count": null,
   "id": "eda9de79-64b0-43c5-8e7e-c3cb800bd37d",
   "metadata": {},
   "outputs": [],
   "source": [
    "w_scale = 1.1\n",
    "_W = np.zeros((len(xgrid), len(xpgrid), image_shape[1]))\n",
    "for i in range(len(xgrid)):\n",
    "    for j in range(len(xpgrid)):\n",
    "        _W[i, j, :] = ecalc.calculate_dE_screen(\n",
    "            1e-3 * x3grid,\n",
    "            dipole_current, \n",
    "            1e-3 * xgrid[i],\n",
    "            1e-3 * xpgrid[j],\n",
    "            Mscreen,\n",
    "        )\n",
    "wgrid = np.linspace(np.min(_W), np.max(_W), int(w_scale * image_shape[1]))"
   ]
  },
  {
   "cell_type": "code",
   "execution_count": null,
   "id": "c9f82fb6-8d03-459b-b5c3-6da4dde5af33",
   "metadata": {},
   "outputs": [],
   "source": [
    "_arrs = []\n",
    "count = 0\n",
    "j = 0\n",
    "for i in range(len(xgrid)):\n",
    "    _arrs.append(_W[i, j, :])\n",
    "\n",
    "fig, ax = pplt.subplots()\n",
    "for i, _arr in enumerate(_arrs):\n",
    "    ax.plot([i, i], [np.min(_arr), np.max(_arr)], c='black')\n",
    "for w in wgrid:\n",
    "    ax.axhline(w, **line_kws)"
   ]
  },
  {
   "cell_type": "code",
   "execution_count": null,
   "id": "a34bf9b5-1bca-4f4d-b1eb-d10beb72659b",
   "metadata": {},
   "outputs": [],
   "source": [
    "xxpw_points = []\n",
    "for x in np.linspace(xgrid.min(), xgrid.max(), 10):\n",
    "    for xp in np.linspace(xpgrid.min(), xpgrid.max(), 10):\n",
    "        for x3 in np.linspace(x3grid.min(), x3grid.max(), 10):\n",
    "            w = ecalc.calculate_dE_screen(x3 * 1e-3, 0.0, x * 1e-3, xp * 1e-3, Mscreen)  # [MeV]\n",
    "            xxpw_points.append([x, xp, w])\n",
    "xxpw_points = np.array(xxpw_points)\n",
    "xxpw_points = xxpw_points - np.mean(xxpw_points, axis=0)\n",
    "\n",
    "fig, axes = pplt.subplots(ncols=3, nrows=3, figwidth=4.5, span=False)\n",
    "for i in range(3):\n",
    "    for j in range(3):\n",
    "        ax = axes[i, j]\n",
    "        ax.scatter(xxpw_points[:, j], xxpw_points[:, i], color='black', s=1)\n",
    "    axes[-1, i].set_xlabel(['x', 'xp', 'w'][i])\n",
    "    axes[i, 0].set_ylabel(['x', 'xp', 'w'][i])\n",
    "plt.show()"
   ]
  },
  {
   "cell_type": "markdown",
   "id": "aa830225-29a1-4a25-b819-ee86f27c8dd5",
   "metadata": {},
   "source": [
    "## Interpolation "
   ]
  },
  {
   "cell_type": "code",
   "execution_count": null,
   "id": "47168291-00ee-49ad-ba22-297b490bd8aa",
   "metadata": {},
   "outputs": [],
   "source": [
    "cam = info['cam']\n",
    "images = data_im[cam + '_Image'].reshape((len(points), len(y3grid), len(x3grid)))"
   ]
  },
  {
   "cell_type": "markdown",
   "id": "6f21739d-9606-490f-9f4c-cc6797674d78",
   "metadata": {},
   "source": [
    "### Interpolate y "
   ]
  },
  {
   "cell_type": "markdown",
   "id": "3112bb40-ec3b-4d67-8074-e0d6b6f2b0b9",
   "metadata": {},
   "source": [
    "Interpolate the image stack along the $y$ axis on each iteration."
   ]
  },
  {
   "cell_type": "code",
   "execution_count": null,
   "id": "7ad3c866-349f-48a3-8f53-3cf7a18a95f4",
   "metadata": {},
   "outputs": [],
   "source": [
    "images_3D, images_3D_raw = [], []\n",
    "for iteration in tqdm(iteration_nums):\n",
    "    idx, = np.where(iterations == iteration)\n",
    "    _points = points[idx, 0].copy()\n",
    "    _values = images[idx, :, :].copy()\n",
    "    _, uind = np.unique(_points, return_index=True)\n",
    "    # Interpolate y-y3-x3 image along y axis.\n",
    "    fint = interpolate.interp1d(\n",
    "        _points[uind],\n",
    "        _values[uind],\n",
    "        kind='linear', \n",
    "        axis=0, \n",
    "        copy=True, \n",
    "        bounds_error=False, \n",
    "        fill_value=0.0, \n",
    "        assume_sorted=True,\n",
    "    )\n",
    "    images_3D.append(fint(ygrid))\n",
    "    images_3D_raw.append(_values[uind])\n",
    "images_3D = np.array(images_3D)"
   ]
  },
  {
   "cell_type": "markdown",
   "id": "ca93f4d5-a962-4041-98dd-b87b9c7b2b48",
   "metadata": {},
   "source": [
    "Adjust `yraw` slider so that we're looking at the same point y value as `yint`. "
   ]
  },
  {
   "cell_type": "code",
   "execution_count": null,
   "id": "ac255f61-2cbe-4b38-b032-e7dfd080d81f",
   "metadata": {},
   "outputs": [],
   "source": [
    "def update(iteration, yint, yraw):\n",
    "    fig, axes = pplt.subplots(ncols=2)\n",
    "    for _arrs, _y, title, ax in zip([images_3D_raw, images_3D], [yraw, yint], ['Raw', 'Interpolated'], axes):\n",
    "        ax.format(title=title)\n",
    "        mplt.plot_image(_arrs[iteration - 1][_y, :, :].T, ax=ax)\n",
    "    axes.format(xlabel='x3', ylabel='y3')\n",
    "    print(f'yint, yraw = ({ygrid[yint]}, {points[yraw, 0]})')\n",
    "    print(f'x, xp = {XXP[iteration - 1]}')\n",
    "    plt.show()\n",
    "    \n",
    "interactive(\n",
    "    update, \n",
    "    # iteration=(1, len(images_3D)), \n",
    "    iteration=widgets.BoundedIntText(\n",
    "        value=len(images_3D)//2,\n",
    "        min=1,\n",
    "        max=len(XXP),\n",
    "        step=1,\n",
    "        description='Iteration',\n",
    "        disabled=False,\n",
    "    ),\n",
    "    yint=(0, len(ygrid) - 1), \n",
    "    yraw=(0, len(ygrid) - 1),\n",
    ")"
   ]
  },
  {
   "cell_type": "markdown",
   "id": "6b47f56f-7f07-4a6c-acad-a8f7e78f8969",
   "metadata": {},
   "source": [
    "### Testing"
   ]
  },
  {
   "cell_type": "markdown",
   "id": "fc0f057d-06fb-49a8-90a3-af79497df323",
   "metadata": {
    "tags": []
   },
   "source": [
    "y-y'"
   ]
  },
  {
   "cell_type": "code",
   "execution_count": null,
   "id": "292fb623-6a96-4d1e-95ff-7e6cc8b194a8",
   "metadata": {},
   "outputs": [],
   "source": [
    "# fyy3 = np.sum(images_3D, axis=(0, -1))  # y vs y3\n",
    "# fyyp = np.zeros((len(ygrid), len(ypgrid)))\n",
    "# for i in range(len(ygrid)):\n",
    "#     fint = interpolate.interp1d(\n",
    "#         ecalc.calculate_yp(ygrid[i], y3grid, Mscreen),\n",
    "#         fyy3[i, :],\n",
    "#         kind='linear', fill_value=0.0, bounds_error=False,\n",
    "#         assume_sorted=False,\n",
    "#     )\n",
    "#     fyyp[i, :] = fint(ypgrid)\n",
    "    \n",
    "# fig, ax = pplt.subplots()\n",
    "# mplt.plot_image(fyyp, x=ygrid-np.mean(ygrid), y=ypgrid-np.mean(ypgrid), ax=ax, \n",
    "#                 norm='log', handle_log='floor', frac_thresh=1e-3)\n",
    "# ax.format(xlabel='y [mm]', ylabel='yp [mrad]')"
   ]
  },
  {
   "cell_type": "markdown",
   "id": "214b47c2-103e-4fe5-8d87-5eebb4904f88",
   "metadata": {},
   "source": [
    "x-x'"
   ]
  },
  {
   "cell_type": "code",
   "execution_count": null,
   "id": "ed66e467-e876-40c4-9119-18708ded3325",
   "metadata": {},
   "outputs": [],
   "source": [
    "# _values = np.sum(images_3D, axis=(1, 2, 3))\n",
    "# _points = XXP\n",
    "# _new_points = utils.get_grid_coords(xgrid, xpgrid)\n",
    "# _new_values = interpolate.griddata(_points, _values, _new_points, method='linear', fill_value=0.0)\n",
    "# fxxp = _new_values.reshape((len(xgrid), len(xpgrid)))\n",
    "\n",
    "# fig, ax = pplt.subplots()\n",
    "# mplt.plot_image(\n",
    "#     fxxp, x=xgrid-np.mean(xgrid), y=xpgrid-np.mean(xpgrid), ax=ax, \n",
    "#     norm='log', handle_log='floor', \n",
    "#     frac_thresh=1e-3, \n",
    "#     colorbar=True,\n",
    "# )\n",
    "# ax.format(xlabel='x [mm]', ylabel='xp [mrad]')"
   ]
  },
  {
   "cell_type": "markdown",
   "id": "5988b01e-26e0-47a5-b713-356f8c94688c",
   "metadata": {},
   "source": [
    "#### 3D test"
   ]
  },
  {
   "cell_type": "markdown",
   "id": "c360020e-32a2-4bca-a520-a520587b7bab",
   "metadata": {},
   "source": [
    "Direct 3D interpolation."
   ]
  },
  {
   "cell_type": "code",
   "execution_count": null,
   "id": "07584737-4c9a-4702-bfac-13faebf0fdee",
   "metadata": {},
   "outputs": [],
   "source": [
    "# _points = np.vstack([points[:, 2], points[:, 1], points[:, 0]]).T\n",
    "# _points[:, 1] = 1e3 * ecalc.calculate_xp(1e-3 * _points[:, 0], 1e-3 * _points[:, 1], Mslit)\n",
    "# _values = np.sum(data_im[cam + '_Image'], axis=1) \n",
    "# _new_points = utils.get_grid_coords(xgrid, xpgrid, ygrid)\n",
    "# _new_values = interpolate.griddata(\n",
    "#     _points,\n",
    "#     _values,\n",
    "#     _new_points,\n",
    "#     method='linear',\n",
    "#     fill_value=0.0,\n",
    "# )\n",
    "# _f3d = _new_values.reshape((len(xgrid), len(xpgrid), len(ygrid)))\n",
    "# _coords = [grid for grid in [xgrid, xpgrid, ygrid]]\n",
    "# mplt.interactive_proj2d(_f3d / np.max(_f3d), dims=['x', 'xp', 'y'], coords=_coords)"
   ]
  },
  {
   "cell_type": "markdown",
   "id": "b4792d3c-abac-4f6d-bfd1-51dc50852722",
   "metadata": {},
   "source": [
    "#### 4D test"
   ]
  },
  {
   "cell_type": "code",
   "execution_count": null,
   "id": "9d531920-2421-40de-9987-463ad4f0b5a0",
   "metadata": {},
   "outputs": [],
   "source": [
    "# images_yy3 = np.sum(images_3D, axis=-1)  # iteration, y, y3\n",
    "# _new_points = utils.get_grid_coords(xgrid, xpgrid)\n",
    "# f4d = np.zeros((len(xgrid), len(xpgrid), len(ygrid), len(y3grid)))\n",
    "# _new_points = utils.get_grid_coords(xgrid, xpgrid, indexing='ij')\n",
    "# for k in trange(len(ygrid)):\n",
    "#     for l in range(len(y3grid)):\n",
    "#         _points = XXP\n",
    "#         _values = images_yy3[:, k, l]\n",
    "#         _new_values = interpolate.griddata(\n",
    "#             _points, _values, _new_points, \n",
    "#             method='linear', fill_value=0.0,\n",
    "#         )\n",
    "#         f4d[:, :, k, l] = _new_values.reshape((len(xgrid), len(xpgrid)))\n",
    "# f4d = np.clip(f4d, 0.0, None)"
   ]
  },
  {
   "cell_type": "code",
   "execution_count": null,
   "id": "50717944-bdbd-4684-8f49-9b7e8fd50113",
   "metadata": {},
   "outputs": [],
   "source": [
    "# mplt.interactive_proj2d(f4d, dims=['x', 'xp', 'y', 'y3'])"
   ]
  },
  {
   "cell_type": "code",
   "execution_count": null,
   "id": "d9b30435-af7c-4668-8a49-22edc2cfca3a",
   "metadata": {},
   "outputs": [],
   "source": [
    "# axes = mplt.corner(\n",
    "#     f4d,\n",
    "#     coords=[xgrid-np.mean(xgrid), xpgrid-np.mean(xpgrid), \n",
    "#             ygrid-np.mean(ygrid), y3grid-np.mean(y3grid)],\n",
    "#     diag_kind='None',\n",
    "#     labels=[\"x [mm]\", \"xp [mrad]\", \"y [mm]\", \"y3 [mm]\"],\n",
    "#     # prof='edges',\n",
    "#     prof_kws=dict(lw=0.75, alpha=0.5),\n",
    "# )\n",
    "# # plt.savefig(\"_output/corner_4d_y3.png\")"
   ]
  },
  {
   "cell_type": "code",
   "execution_count": null,
   "id": "22a99149-4a50-47b5-b7fb-db4a8fdc4033",
   "metadata": {},
   "outputs": [],
   "source": [
    "# f4d_new = np.zeros((len(xgrid), len(xpgrid), len(ygrid), len(ypgrid)))\n",
    "# for i in trange(len(xgrid)):\n",
    "#     for j in range(len(xpgrid)):\n",
    "#         for k in range(len(ygrid)):\n",
    "#             _points = 1e3 * ecalc.calculate_yp(ygrid[k] * 1e-3, y3grid * 1e-3, Mscreen)\n",
    "#             _values = f4d[i, j, k, :].copy()\n",
    "#             fint = interpolate.interp1d(\n",
    "#                 _points,\n",
    "#                 _values,\n",
    "#                 kind='linear',\n",
    "#                 assume_sorted=False,\n",
    "#                 bounds_error=False,\n",
    "#                 fill_value=0.0,\n",
    "#             )\n",
    "#             f4d_new[i, j, k, :] = fint(ypgrid)\n",
    "# f4d_new = np.clip(f4d_new, 0.0, None)"
   ]
  },
  {
   "cell_type": "code",
   "execution_count": null,
   "id": "8e157288-7a8a-449d-acbb-ad121368fc8b",
   "metadata": {},
   "outputs": [],
   "source": [
    "# _coords = [grid - np.mean(grid) for grid in [xgrid, xpgrid, ygrid, ypgrid]]\n",
    "# mplt.interactive_proj2d(f4d_new, dims=['x', 'xp', 'y', 'yp'], coords=_coords)"
   ]
  },
  {
   "cell_type": "code",
   "execution_count": null,
   "id": "b83b9cd6-d4c1-4ea8-99ed-606897e5a85b",
   "metadata": {},
   "outputs": [],
   "source": [
    "# axes = mplt.corner(\n",
    "#     f4d_new,\n",
    "#     coords=_coords,\n",
    "#     diag_kind='None',\n",
    "#     labels=[\"x [mm]\", \"xp [mrad]\", \"y [mm]\", \"yp [mrad]\"],\n",
    "# )\n",
    "# # plt.savefig(\"_output/corner_4d.png\")"
   ]
  },
  {
   "cell_type": "markdown",
   "id": "ffb2eceb-a45b-482c-87af-f77513b93c10",
   "metadata": {},
   "source": [
    "### Interpolate x-x'"
   ]
  },
  {
   "cell_type": "markdown",
   "id": "698be431-3e0c-4daa-b8cb-5be89f1b33d0",
   "metadata": {},
   "source": [
    "Interpolate $x$-$x'$ for each $\\left\\{y, y_3, x_3\\right\\}$."
   ]
  },
  {
   "cell_type": "code",
   "execution_count": null,
   "id": "0f0749e2-9900-4ae4-b2ed-599de9e2cc66",
   "metadata": {
    "scrolled": true,
    "tags": []
   },
   "outputs": [],
   "source": [
    "shape = (len(xgrid), len(xpgrid), len(ygrid), image_shape[0], image_shape[1])\n",
    "f = np.zeros(shape)\n",
    "_new_points = utils.get_grid_coords(xgrid, xpgrid)\n",
    "for k in trange(shape[2]):\n",
    "    for l in trange(shape[3]):\n",
    "        for m in range(shape[4]):\n",
    "            new_values = interpolate.griddata(\n",
    "                XXP,\n",
    "                images_3D[:, k, l, m],\n",
    "                _new_points,\n",
    "                method='linear',\n",
    "                fill_value=False,\n",
    "            )\n",
    "            f[:, :, k, l, m] = new_values.reshape((shape[0], shape[1]))"
   ]
  },
  {
   "cell_type": "markdown",
   "id": "a8300a59-7b1e-4453-9814-f2499fc1ef40",
   "metadata": {},
   "source": [
    "### Interpolate y'"
   ]
  },
  {
   "cell_type": "markdown",
   "id": "654d210f-955c-4abf-8243-fbeb7e72a64f",
   "metadata": {},
   "source": [
    "The $y$ coordinate is already on a grid. For each $\\left\\{x, x', y, x_3\\right\\}$, transform $y_3 \\rightarrow y'$ and interpolate onto `ypgrid`. "
   ]
  },
  {
   "cell_type": "code",
   "execution_count": null,
   "id": "d5226a19-e407-44a8-ba24-2ff9473e242c",
   "metadata": {
    "scrolled": true,
    "tags": []
   },
   "outputs": [],
   "source": [
    "shape = (len(xgrid), len(xpgrid), len(ygrid), len(ypgrid), len(wgrid))\n",
    "f_new = np.zeros(shape)\n",
    "for i in trange(shape[0]):\n",
    "    for j in trange(shape[1]):\n",
    "        for k, y in enumerate(ygrid):\n",
    "            for m in range(shape[4]): \n",
    "                yp = 1e3 * ecalc.calculate_yp(y * 1e-3, y3grid * 1e-3, Mscreen)\n",
    "                fint = interpolate.interp1d(\n",
    "                    yp,\n",
    "                    f[i, j, k, :, m], \n",
    "                    kind='linear', \n",
    "                    bounds_error=False,\n",
    "                    fill_value=0.0, \n",
    "                    assume_sorted=False,\n",
    "                )\n",
    "                f_new[i, j, k, :, m] = fint(ypgrid)\n",
    "f = f_new.copy()"
   ]
  },
  {
   "cell_type": "markdown",
   "id": "bc678b7c-9ca4-44e4-a69f-0de09caf3a8c",
   "metadata": {},
   "source": [
    "### Interpolate energy spread $w$"
   ]
  },
  {
   "cell_type": "markdown",
   "id": "08b8bc94-7b30-457d-a1a3-b0a1cc2dba07",
   "metadata": {},
   "source": [
    "Interpolate $w$ for each $\\left\\{x, x', y, y'\\right\\}$."
   ]
  },
  {
   "cell_type": "code",
   "execution_count": null,
   "id": "5d195660-0cc0-4df5-8d7a-140f3394dff4",
   "metadata": {
    "scrolled": true,
    "tags": []
   },
   "outputs": [],
   "source": [
    "savefilename = f'_output/f_{filename}.mmp'\n",
    "f_new = np.memmap(savefilename, shape=shape, dtype='float', mode='w+') \n",
    "for i in trange(shape[0]):\n",
    "    for j in trange(shape[1]):\n",
    "        for k in range(shape[2]):\n",
    "            for l in range(shape[3]):\n",
    "                x = xgrid[i]\n",
    "                xp = xpgrid[j]\n",
    "                w = ecalc.calculate_dE_screen(x3grid * 1e-3, 0.0, x * 1e-3, xp * 1e-3, Mscreen)\n",
    "                fint = interpolate.interp1d(\n",
    "                    w,\n",
    "                    f[i, j, k, l, :],\n",
    "                    kind='linear',\n",
    "                    fill_value=0.0, \n",
    "                    bounds_error=False,\n",
    "                    assume_sorted=False,\n",
    "                )\n",
    "                f_new[i, j, k, l, :] = fint(wgrid)"
   ]
  },
  {
   "cell_type": "markdown",
   "id": "be106f42-4ecd-47e5-84c3-5d6238a163e1",
   "metadata": {},
   "source": [
    "Center grid and save coordinates."
   ]
  },
  {
   "cell_type": "code",
   "execution_count": null,
   "id": "778f1f8d-5dbd-42fe-80d3-fa870f649470",
   "metadata": {},
   "outputs": [],
   "source": [
    "coords = [xgrid, xpgrid, ygrid, ypgrid, wgrid]\n",
    "for i in range(5):\n",
    "    coords[i] = coords[i] - np.mean(coords[i])\n",
    "utils.save_stacked_array(f'_output/coords_{filename}.npz', coords)\n",
    "info['int_shape'] = tuple([len(c) for c in coords])\n",
    "print(info['int_shape'])"
   ]
  },
  {
   "cell_type": "markdown",
   "id": "59eb024a-1372-4d5a-be99-9cf8283395d6",
   "metadata": {},
   "source": [
    "Save info."
   ]
  },
  {
   "cell_type": "code",
   "execution_count": null,
   "id": "bf710486-b54c-40f6-9713-bc14945ed47e",
   "metadata": {},
   "outputs": [],
   "source": [
    "print('info:')\n",
    "pprint(info)\n",
    "\n",
    "# Save as pickled dictionary for easy loading.\n",
    "utils.save_pickle('_output/info.pkl', info)\n",
    "\n",
    "# Also save as file for viewing.\n",
    "file = open('_output/info.txt', 'w')\n",
    "for key, value in info.items():\n",
    "    file.write(f'{key}: {value}\\n')\n",
    "file.close()"
   ]
  }
 ],
 "metadata": {
  "kernelspec": {
   "display_name": "myenv",
   "language": "python",
   "name": "myenv"
  },
  "language_info": {
   "codemirror_mode": {
    "name": "ipython",
    "version": 3
   },
   "file_extension": ".py",
   "mimetype": "text/x-python",
   "name": "python",
   "nbconvert_exporter": "python",
   "pygments_lexer": "ipython3",
   "version": "3.9.7"
  },
  "toc-autonumbering": false
 },
 "nbformat": 4,
 "nbformat_minor": 5
}
