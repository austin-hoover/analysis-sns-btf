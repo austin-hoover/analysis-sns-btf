{
 "cells": [
  {
   "cell_type": "markdown",
   "id": "e7705f3f-3479-411d-af2f-791f9bf0c2b8",
   "metadata": {
    "tags": []
   },
   "source": [
    "# Interpolate 5D beam density"
   ]
  },
  {
   "cell_type": "markdown",
   "id": "a50f6b32-7627-45b5-b966-51c3fdf35f49",
   "metadata": {},
   "source": [
    "* Obtain the 5D phase space density (x-x'-y-y'-w) on a regular grid."
   ]
  },
  {
   "cell_type": "markdown",
   "id": "ee582e72-31e3-4520-8237-47bc574334fa",
   "metadata": {},
   "source": [
    "$x_1$ = position of first vertical slit \\\n",
    "$x_2$ = position of second horizontal slit \\\n",
    "$y_1$ = position of horizontal slit \\\n",
    "$y_3$ = y position at view screen \\\n",
    "$x_3$ = x position at view screen\n",
    "\n",
    "$$\n",
    "\\begin{aligned}\n",
    "x &= x_1 \\\\\n",
    "y &= y_1 \\\\\n",
    "x' &= \\frac{x_2 - 0.35 x_1}{s_2 - s_1} \\\\\n",
    "y' &= \\frac{y_3 - y_1}{s_3 - s_1} \\\\\n",
    "w  &= f(x_3, x_2, x_1) \\\\ \n",
    "\\end{aligned}\n",
    "$$"
   ]
  },
  {
   "cell_type": "code",
   "execution_count": null,
   "id": "d7460c8a-7965-4119-a890-5b1550c9b464",
   "metadata": {},
   "outputs": [],
   "source": [
    "import sys\n",
    "import os\n",
    "from os.path import join\n",
    "import time\n",
    "from datetime import datetime\n",
    "import importlib\n",
    "import numpy as np\n",
    "import pandas as pd\n",
    "import h5py\n",
    "import imageio\n",
    "from scipy import ndimage\n",
    "from scipy import interpolate\n",
    "import skimage\n",
    "from tqdm import tqdm\n",
    "from tqdm import trange\n",
    "from matplotlib import pyplot as plt\n",
    "from matplotlib import colors\n",
    "import plotly.graph_objs as go\n",
    "from ipywidgets import interact\n",
    "import proplot as pplt\n",
    "\n",
    "sys.path.append('../..')\n",
    "from tools import energyVS06 as energy\n",
    "from tools import image_processing as ip\n",
    "from tools import plotting as mplt\n",
    "from tools import utils\n",
    "from tools.utils import project"
   ]
  },
  {
   "cell_type": "code",
   "execution_count": null,
   "id": "038313e8-06fa-4b21-aab9-796865fd13ea",
   "metadata": {},
   "outputs": [],
   "source": [
    "pplt.rc['grid'] = False\n",
    "pplt.rc['cmap.discrete'] = False\n",
    "pplt.rc['cmap.sequential'] = 'viridis'"
   ]
  },
  {
   "cell_type": "markdown",
   "id": "e4c3feb8-ea00-46c5-8ebd-2dc448bd70b7",
   "metadata": {},
   "source": [
    "## Load data"
   ]
  },
  {
   "cell_type": "code",
   "execution_count": null,
   "id": "035a9fd7-b0f0-4aad-ae37-a5090c01a21b",
   "metadata": {},
   "outputs": [],
   "source": [
    "folder = '_output'\n",
    "filenames = os.listdir(folder)\n",
    "for filename in filenames:\n",
    "    if filename.startswith('rawgrid'):\n",
    "        print(filename)"
   ]
  },
  {
   "cell_type": "code",
   "execution_count": null,
   "id": "b2828ef2-7f65-4f49-92a9-bc468beb3752",
   "metadata": {},
   "outputs": [],
   "source": [
    "filename = 'rawgrid_220429190854-scan-xxpy-image-ypdE.mmp'\n",
    "coordfilename = 'rawgrid_coordinates_220429190854-scan-xxpy-image-ypdE.npy'"
   ]
  },
  {
   "cell_type": "code",
   "execution_count": null,
   "id": "da41eb3b-9ad1-4a20-b1db-cebb682b5c57",
   "metadata": {},
   "outputs": [],
   "source": [
    "info = utils.load_pickle('_output/info.pkl')\n",
    "info"
   ]
  },
  {
   "cell_type": "code",
   "execution_count": null,
   "id": "89520283-e98a-4754-8d1f-6eb4256b2abe",
   "metadata": {},
   "outputs": [],
   "source": [
    "shape = info['rawgrid_shape']  # (x1, x2, y1, y3, x3)\n",
    "dtype = info['im_dtype']\n",
    "cam = info['cam']"
   ]
  },
  {
   "cell_type": "code",
   "execution_count": null,
   "id": "5e9639cc-c9f0-4f25-ac3e-327bb3c1a047",
   "metadata": {},
   "outputs": [],
   "source": [
    "f_raw = np.memmap(join(folder, filename), shape=shape, dtype=dtype, mode='r')\n",
    "print(np.info(f_raw))"
   ]
  },
  {
   "cell_type": "markdown",
   "id": "a6e439a5-4c5f-4a8c-9d3e-571850974f73",
   "metadata": {},
   "source": [
    "Use the Right Hand Rule to determine the beam coordinates. [Insert image here]. (NEED TO FIX DIPOLE TRANSFER MATRIX FOR VS34; CURRENT CALCULATION IS WRONG AND IS CAUSING SIGN ERROR.\n",
    "* Cam06 \n",
    "    * x_slit (x1, x2) = x_beam\n",
    "    * y_slit (y1) = -y_beam\n",
    "    * y_screen (y3) = -y_beam\n",
    "    * x_screen (x3) = -x_beam    \n",
    "* Cam34\n",
    "    * x_slit (x1, x2) = -x_beam (Are you sure??? Seems to give the wrong answer.)\n",
    "    * y_slit (y1) = -y_beam\n",
    "    * y_screen (y3) = -y_beam\n",
    "    * x_screen (x3) = +x_beam"
   ]
  },
  {
   "cell_type": "code",
   "execution_count": null,
   "id": "c64ef503-d3bf-4d1b-a448-02099a6019f5",
   "metadata": {},
   "outputs": [],
   "source": [
    "if cam.lower() == 'cam06':\n",
    "    f_raw = f_raw[:, :, ::-1, ::-1, ::-1]\n",
    "elif cam.lower() == 'cam34':\n",
    "    # a5d = a5d[::-1, ::-1, ::-1, ::-1, :]\n",
    "    f_raw = f_raw[:, :, ::-1, ::-1, :]"
   ]
  },
  {
   "cell_type": "markdown",
   "id": "c1ef1699-e9ca-4cfe-a389-44b1450d1fce",
   "metadata": {},
   "source": [
    "## Load slit coordinates"
   ]
  },
  {
   "cell_type": "code",
   "execution_count": null,
   "id": "80895bff-1302-480a-9aa1-e203d4f05107",
   "metadata": {},
   "outputs": [],
   "source": [
    "coords_3d = np.load(join(folder, coordfilename))  # [X1, X2, Y1]\n",
    "coords_3d.shape"
   ]
  },
  {
   "cell_type": "code",
   "execution_count": null,
   "id": "c113f255-2c21-4982-8e53-b2f43390bdb3",
   "metadata": {},
   "outputs": [],
   "source": [
    "dims = [\"x1\", \"x2\", \"y1\", \"y3\", \"x3\"]\n",
    "dim_to_int = {dim: i for i, dim in enumerate(dims)}"
   ]
  },
  {
   "cell_type": "code",
   "execution_count": null,
   "id": "b541fddd-962b-4aad-aa4d-5ec1caeda985",
   "metadata": {},
   "outputs": [],
   "source": [
    "fig, axes = pplt.subplots(nrows=3, ncols=3, figwidth=6, spanx=False, spany=False)\n",
    "for i in range(3):\n",
    "    for j in range(3):\n",
    "        U = coords_3d[j]\n",
    "        V = coords_3d[i]\n",
    "        ax = axes[i, j]\n",
    "        ax.scatter(U.ravel(), V.ravel(), s=1, color='black')\n",
    "        ax.axvline(np.mean(U), color='red', alpha=0.15)\n",
    "        ax.axhline(np.mean(V), color='red', alpha=0.15)\n",
    "    axes[i, 0].format(ylabel=dims[i])\n",
    "    axes[-1, i].format(xlabel=dims[i])\n",
    "plt.show()"
   ]
  },
  {
   "cell_type": "markdown",
   "id": "1e51be8e-6baf-4f26-a9a1-ccc3f18eeaa4",
   "metadata": {},
   "source": [
    "Copy the grids into the five-dimensional space."
   ]
  },
  {
   "cell_type": "code",
   "execution_count": null,
   "id": "1d4e8307-fa51-4199-8859-8b8c66104472",
   "metadata": {},
   "outputs": [],
   "source": [
    "X1, X2, Y1 = coords_3d\n",
    "X1 = utils.copy_into_new_dim(X1, shape[3:], axis=-1)\n",
    "X2 = utils.copy_into_new_dim(X2, shape[3:], axis=-1)\n",
    "Y1 = utils.copy_into_new_dim(Y1, shape[3:], axis=-1)"
   ]
  },
  {
   "cell_type": "code",
   "execution_count": null,
   "id": "47a49146-4c8e-4f81-a092-9e32f26a5741",
   "metadata": {},
   "outputs": [],
   "source": [
    "print('X1.shape =', X1.shape)\n",
    "print('X2.shape =', X2.shape)\n",
    "print('Y1.shape =', Y1.shape)"
   ]
  },
  {
   "cell_type": "code",
   "execution_count": null,
   "id": "e5ef87df-2d9d-4c94-9da9-205bd0ae127a",
   "metadata": {},
   "outputs": [],
   "source": [
    "Y3, X3 = np.meshgrid(np.arange(shape[3]), np.arange(shape[4]), indexing='ij')\n",
    "Y3 = utils.copy_into_new_dim(Y3, shape[:3], axis=0)\n",
    "X3 = utils.copy_into_new_dim(X3, shape[:3], axis=0)"
   ]
  },
  {
   "cell_type": "code",
   "execution_count": null,
   "id": "6086e006-4905-4aa9-9929-a30ad6aed8a1",
   "metadata": {},
   "outputs": [],
   "source": [
    "print('Y3.shape =', Y3.shape)\n",
    "print('X3.shape =', X3.shape)"
   ]
  },
  {
   "cell_type": "markdown",
   "id": "6a70cee8-2855-4a94-8552-222deb6dca9f",
   "metadata": {},
   "source": [
    "Make lists of centered coordinates `coords_`."
   ]
  },
  {
   "cell_type": "code",
   "execution_count": null,
   "id": "8cd84f8a-217d-42b2-b625-23aed799e25a",
   "metadata": {},
   "outputs": [],
   "source": [
    "X1 = X1 - np.mean(X1)\n",
    "X2 = X2 - np.mean(X2)\n",
    "Y1 = Y1 - np.mean(Y1)\n",
    "Y3 = Y3 - np.mean(Y3)\n",
    "X3 = X3 - np.mean(X3)\n",
    "coords_ = [X1, X2, Y1, Y3, X3]"
   ]
  },
  {
   "cell_type": "code",
   "execution_count": null,
   "id": "4cdeb47e-0cf5-47dc-9cd3-4058017b7368",
   "metadata": {},
   "outputs": [],
   "source": [
    "for i, dim in enumerate(dims):\n",
    "    print('dim =', dim)\n",
    "    U = coords_[i]\n",
    "    axes = [k for k in range(U.ndim) if k != i]\n",
    "    idx = utils.make_slice(U.ndim, axes, ind=[0, 0, 0, 0])\n",
    "    print(U[idx])\n",
    "    print()"
   ]
  },
  {
   "cell_type": "markdown",
   "id": "d9a88b33-987a-405f-88ca-b52b44ca170c",
   "metadata": {},
   "source": [
    "## View 5D array in slit-screen coordinates"
   ]
  },
  {
   "cell_type": "markdown",
   "id": "9f07d5a8-27e4-4349-bac7-e2dfc5901443",
   "metadata": {},
   "source": [
    "Correlation between planes are removed... units are dimensionless. Need to be careful interpreting these plots."
   ]
  },
  {
   "cell_type": "markdown",
   "id": "0827c6fc-5588-49b7-937a-103bb6fdf2d4",
   "metadata": {},
   "source": [
    "### Projections "
   ]
  },
  {
   "cell_type": "code",
   "execution_count": null,
   "id": "161dd4c6-91ca-4136-a427-fa804c4c20eb",
   "metadata": {},
   "outputs": [],
   "source": [
    "f_raw_min = np.min(f_raw)\n",
    "if f_raw_min < 0:\n",
    "    print(f'min(f_raw) = {f_raw_min}. Clipping to 0.')\n",
    "    f_raw = np.clip(f_raw, 0, None)"
   ]
  },
  {
   "cell_type": "code",
   "execution_count": null,
   "id": "ec64daa4-6cf8-40e8-bf11-e8c0098d8d01",
   "metadata": {},
   "outputs": [],
   "source": [
    "frac_thresh = 1e-5\n",
    "for norm in [None, 'log']:\n",
    "    axes = mplt.corner(\n",
    "        f_raw,\n",
    "        labels=dims,\n",
    "        norm=norm,\n",
    "        diag_kind='None',\n",
    "        prof=True,\n",
    "        prof_kws=dict(lw=1.0, alpha=0.5, scale=0.12),\n",
    "        fig_kws=dict(),\n",
    "        frac_thresh=frac_thresh,\n",
    "    )\n",
    "    plt.savefig(f\"_output/slitscreen_corner_log{norm == 'log'}.png\")\n",
    "    plt.show()"
   ]
  },
  {
   "cell_type": "markdown",
   "id": "08a65bfb-ad62-4209-a152-4805002e26b4",
   "metadata": {},
   "source": [
    "### Slices"
   ]
  },
  {
   "cell_type": "markdown",
   "id": "774cf1d4-9b14-4cf4-9b24-c7811ef3d7ca",
   "metadata": {},
   "source": [
    "Compute the indices of the maximum pixel in the 5D array."
   ]
  },
  {
   "cell_type": "code",
   "execution_count": null,
   "id": "1aedfc53-c3e9-49b0-b7d6-550c79773753",
   "metadata": {},
   "outputs": [],
   "source": [
    "ind_max = np.unravel_index(np.argmax(f_raw), f_raw.shape)\n",
    "print(ind_max)"
   ]
  },
  {
   "cell_type": "code",
   "execution_count": null,
   "id": "5f3da804-16d6-4ecc-bb9a-3af06eba434e",
   "metadata": {},
   "outputs": [],
   "source": [
    "axes_slice = [(k, j, i) for i in range(f_raw.ndim) for j in range(i) for k in range(j)]\n",
    "axes_view = [tuple([i for i in range(f_raw.ndim) if i not in axis])\n",
    "             for axis in axes_slice]\n",
    "for axis, axis_view in zip(axes_slice, axes_view):\n",
    "    idx = utils.make_slice(5, axis, [ind_max[i] for i in axis])\n",
    "    f_raw_slice = f_raw[idx]\n",
    "    f_raw_slice = f_raw_slice / np.max(f_raw_slice)\n",
    "\n",
    "    dim1, dim2 = [dims[i] for i in axis_view]\n",
    "    \n",
    "    fig, plot_axes = pplt.subplots(ncols=2)\n",
    "    for ax, norm in zip(plot_axes, [None, 'log']):\n",
    "        mplt.plot_image(f_raw_slice, ax=ax, frac_thresh=frac_thresh, norm=norm, colorbar=True)\n",
    "    plot_axes.format(xlabel=dim1, ylabel=dim2)\n",
    "    string = '_output/slitscreen_slice_'\n",
    "    for i in axis:\n",
    "        string += f'_{dims[i]}-{ind_max[i]}'\n",
    "    plt.savefig(string + '.png')\n",
    "    plt.show()"
   ]
  },
  {
   "cell_type": "markdown",
   "id": "32035d44-7c6a-44f2-adb0-b046b737c9e4",
   "metadata": {},
   "source": [
    "### Interactive "
   ]
  },
  {
   "cell_type": "code",
   "execution_count": null,
   "id": "847239c4-7ac7-4993-83f0-be6d289c98bc",
   "metadata": {},
   "outputs": [],
   "source": [
    "f_raw_max = np.max(f_raw)"
   ]
  },
  {
   "cell_type": "code",
   "execution_count": null,
   "id": "a73ed98b-f9c8-4a83-a196-6469fc69cb48",
   "metadata": {},
   "outputs": [],
   "source": [
    "H = f_raw[..., 20:-20]\n",
    "H = skimage.transform.rescale(\n",
    "    H,\n",
    "    (1, 1, 1, 0.75, 0.75)\n",
    ")\n",
    "\n",
    "mplt.interactive_proj2d(H, dims=['x1', 'x2', 'y1', 'y3', 'x3'], \n",
    "                        slider_type='int', default_ind=(4, 3))"
   ]
  },
  {
   "cell_type": "code",
   "execution_count": null,
   "id": "ff237c4a-f60e-4815-a248-1176b0e72a60",
   "metadata": {},
   "outputs": [],
   "source": [
    "H.shape"
   ]
  },
  {
   "cell_type": "code",
   "execution_count": null,
   "id": "45a6fb8b-5e38-4417-9c47-b93faf48aa4f",
   "metadata": {},
   "outputs": [],
   "source": [
    "mplt.interactive_proj2d(f_raw / f_raw_max, dims=['x1', 'x2', 'y1', 'y3', 'x3'], \n",
    "                        slider_type='int', default_ind=(4, 3))"
   ]
  },
  {
   "cell_type": "code",
   "execution_count": null,
   "id": "5d635441-a6f0-46e2-afca-ea8a83593991",
   "metadata": {},
   "outputs": [],
   "source": [
    "mplt.interactive_proj2d(f_raw / f_raw_max, dims=['x1', 'x2', 'y1', 'y3', 'x3'], \n",
    "                        slider_type='range', default_ind=(4, 3))"
   ]
  },
  {
   "cell_type": "markdown",
   "id": "e46386e8-503b-4bb4-a348-f06dfcb99ede",
   "metadata": {
    "tags": []
   },
   "source": [
    "## Transformation to phase space coordinates"
   ]
  },
  {
   "cell_type": "markdown",
   "id": "814f7491-d0ec-4781-a59b-8807e01229f1",
   "metadata": {},
   "source": [
    "Convert x3 and y3 from pixels to mm."
   ]
  },
  {
   "cell_type": "code",
   "execution_count": null,
   "id": "dce73c21-279a-402e-906a-6289496933c4",
   "metadata": {},
   "outputs": [],
   "source": [
    "cam_settings = ip.CameraSettings(cam)\n",
    "cam_settings.set_zoom(info['cam_zoom'])\n",
    "pix2mm_x = info['cam_pix2mm_x']\n",
    "pix2mm_y = info['cam_pix2mm_y']\n",
    "print(f\"pix2mm_x = {pix2mm_x} (zoom = {info['cam_zoom']}, downscale={info['image_downscale']})\")\n",
    "print(f\"pix2mm_y = {pix2mm_y} (zoom = {info['cam_zoom']}, downscale={info['image_downscale']})\")"
   ]
  },
  {
   "cell_type": "code",
   "execution_count": null,
   "id": "a63d6565-7546-4867-84bd-0187742fe0c5",
   "metadata": {},
   "outputs": [],
   "source": [
    "X3 = X3 * pix2mm_x\n",
    "Y3 = Y3 * pix2mm_y"
   ]
  },
  {
   "cell_type": "markdown",
   "id": "108519d2-61e0-4653-8a8f-388abe4234fe",
   "metadata": {},
   "source": [
    "Build the transfer matrices between the slits and the screen."
   ]
  },
  {
   "cell_type": "code",
   "execution_count": null,
   "id": "e6c487bf-5fa6-4a59-9a29-e4df75032d11",
   "metadata": {},
   "outputs": [],
   "source": [
    "a2mm = 1.009  # assume same for both dipoles\n",
    "rho = 0.3556\n",
    "GL05 = 0.0\n",
    "GL06 = 0.0\n",
    "l1 = 0.0\n",
    "l2 = 0.0\n",
    "l3 = 0.774\n",
    "L2 = 0.311  # slit2 to dipole face\n",
    "l = 0.129  # dipole face to VS06 screen (assume same for first/last dipole-screen)\n",
    "LL = l1 + l2 + l3 + L2  # distance from emittance plane to dipole entrance\n",
    "\n",
    "ecalc = energy.EnergyCalculate(l1=l1, l2=l2, l3=l3, L2=L2, l=l, amp2meter=a2mm*1e3)\n",
    "Mslit = ecalc.getM1()  # slit-slit\n",
    "Mscreen = ecalc.getM()  # slit-screen"
   ]
  },
  {
   "cell_type": "markdown",
   "id": "2030e6a7-0bf3-4860-ba32-f2c0aaabf921",
   "metadata": {},
   "source": [
    "Compute x', y', and energy w."
   ]
  },
  {
   "cell_type": "code",
   "execution_count": null,
   "id": "e82fd24a-8cf8-4c9a-8eab-269fbc15f7f0",
   "metadata": {},
   "outputs": [],
   "source": [
    "k = l = 0\n",
    "idx = (slice(None), slice(None), k, l, slice(None))\n",
    "x1 = X1[idx].ravel()\n",
    "x2 = X2[idx].ravel()\n",
    "x3 = X3[idx].ravel()\n",
    "\n",
    "fig = go.Figure(\n",
    "    data=go.Scatter3d(\n",
    "        x=x1, y=x2, z=x3, mode='markers',\n",
    "        marker=dict(color='black', size=1, opacity=0.5)\n",
    "    )\n",
    ")\n",
    "fig.update_layout(width=500, height=500)\n",
    "# fig.update_scenes(xaxis_visible=False, yaxis_visible=False, zaxis_visible=False)\n",
    "fig.show()\n",
    "# HTML(fig.to_html(include_plotlyjs='cdn'))"
   ]
  },
  {
   "cell_type": "code",
   "execution_count": null,
   "id": "f427d742-49a0-4b51-ae82-c3d958e8e0e4",
   "metadata": {},
   "outputs": [],
   "source": [
    "Y = Y1.copy()  # [mm]\n",
    "YP = ecalc.calculate_yp(Y1 * 1e-3, Y3 * 1e-3, Mscreen)  # [rad]\n",
    "YP *= 1e3  # [mrad]\n",
    "print('Done with yp.')\n",
    "\n",
    "X = X1.copy()  # [mm]\n",
    "XP = ecalc.calculate_xp(X1 * 1e-3, X2 * 1e-3, Mslit)  # [rad]\n",
    "XP *= 1e3  # [mrad]\n",
    "print('Done with xp.')\n",
    "\n",
    "W = ecalc.calculate_dE_screen(X3 * 1e-3, 0.0, X * 1e-3, XP * 1e-3, Mscreen)  # [MeV]\n",
    "print('Done with w.')"
   ]
  },
  {
   "cell_type": "code",
   "execution_count": null,
   "id": "9568ff33-6202-4d10-9a08-3ab6f1781e37",
   "metadata": {},
   "outputs": [],
   "source": [
    "del(X1, X2, Y1, X3, Y3)"
   ]
  },
  {
   "cell_type": "markdown",
   "id": "252242c7-1295-45c5-9751-a6a58e76120e",
   "metadata": {},
   "source": [
    "Make lists of centered phase space coordinate grids."
   ]
  },
  {
   "cell_type": "code",
   "execution_count": null,
   "id": "86fdd797-db58-4f01-a401-1c265cc20172",
   "metadata": {},
   "outputs": [],
   "source": [
    "coords = [X, XP, Y, YP, W]\n",
    "for coord in tqdm(coords):\n",
    "    coord = coord - np.mean(coord)"
   ]
  },
  {
   "cell_type": "markdown",
   "id": "624f276a-6b71-4b55-a11e-7202d88a9b3c",
   "metadata": {},
   "source": [
    "### Temp: correlation between x-x'-w"
   ]
  },
  {
   "cell_type": "code",
   "execution_count": null,
   "id": "6d5dfafb-8911-4073-9d58-1b8eca80fe9e",
   "metadata": {},
   "outputs": [],
   "source": [
    "k = l = 0\n",
    "idx = (slice(None), slice(None), k, l, slice(None))\n",
    "_X = X[idx]\n",
    "_XP = XP[idx]\n",
    "_W = W[idx]\n",
    "_f = f_raw[idx]\n",
    "__coords = [_X, _XP, _W]"
   ]
  },
  {
   "cell_type": "code",
   "execution_count": null,
   "id": "626f91f3-5109-414a-89a5-d52ad33face7",
   "metadata": {},
   "outputs": [],
   "source": [
    "utils.cov2corr(np.cov([_X.ravel(), _XP.ravel(), _W.ravel()]))"
   ]
  },
  {
   "cell_type": "code",
   "execution_count": null,
   "id": "4a93a470-b620-440f-b45e-e31dc6a15173",
   "metadata": {},
   "outputs": [],
   "source": [
    "# fig, ax = pplt.subplots()\n",
    "# k = 0\n",
    "# ax.scatter(_X[:, :, k], _W[:, :, k], c=_f[:, :, k], s=1)"
   ]
  },
  {
   "cell_type": "code",
   "execution_count": null,
   "id": "6d189aef-07e5-437a-9fa5-38a8671f83b0",
   "metadata": {},
   "outputs": [],
   "source": [
    "fig, axes = pplt.subplots(nrows=3, ncols=3, figwidth=5, spanx=False, spany=False)\n",
    "for i in range(3):\n",
    "    for j in range(3):\n",
    "        U = __coords[j]\n",
    "        V = __coords[i]\n",
    "        ax = axes[i, j]\n",
    "        ax.scatter(U.ravel(), V.ravel(), s=1, color='black')\n",
    "        ax.axvline(np.mean(U), color='red', alpha=0.15)\n",
    "        ax.axhline(np.mean(V), color='red', alpha=0.15)\n",
    "    axes[i, 0].format(ylabel=['x', 'xp', 'w'][i])\n",
    "    axes[-1, i].format(xlabel=['x', 'xp', 'w'][i])\n",
    "plt.show()"
   ]
  },
  {
   "cell_type": "code",
   "execution_count": null,
   "id": "80b633d5-b092-4cb7-b555-f39fc33ba755",
   "metadata": {},
   "outputs": [],
   "source": [
    "x = _X.ravel()\n",
    "xp = _XP.ravel()\n",
    "w = _W.ravel()\n",
    "\n",
    "fig = go.Figure(data=go.Scatter3d(x=_X.ravel(), y=_XP.ravel(), z=_W.ravel(), \n",
    "                                  mode='markers',\n",
    "                                  marker=dict(color='black', size=1, opacity=0.5)\n",
    "                                 ))\n",
    "fig.update_layout(width=500, height=500)\n",
    "# fig.update_scenes(xaxis_visible=False, yaxis_visible=False, zaxis_visible=False)\n",
    "fig.show()\n",
    "# HTML(fig.to_html(include_plotlyjs='cdn'))"
   ]
  },
  {
   "cell_type": "code",
   "execution_count": null,
   "id": "dcdd7166-f922-4222-92e4-0babdb03e82c",
   "metadata": {},
   "outputs": [],
   "source": [
    "Corr = utils.cov2corr(np.cov(np.array([x, xp, w])))\n",
    "print(Corr)"
   ]
  },
  {
   "cell_type": "markdown",
   "id": "6cc59b52-e931-4736-be72-ba4ca658cdd6",
   "metadata": {},
   "source": [
    "## Interpolation "
   ]
  },
  {
   "cell_type": "markdown",
   "id": "5df94afd-8622-469e-8469-26aa16e32067",
   "metadata": {},
   "source": [
    "It makes sense to increase the resolution along some axes of the interpolation grid since we are moving from a tilted grid to an regular grid grid."
   ]
  },
  {
   "cell_type": "code",
   "execution_count": null,
   "id": "97ca7f77-59e5-4e27-a0f7-693e86112819",
   "metadata": {},
   "outputs": [],
   "source": [
    "M = info['M']\n",
    "M"
   ]
  },
  {
   "cell_type": "code",
   "execution_count": null,
   "id": "c9520cd2-dca0-48d8-ab59-8ad44d0829ea",
   "metadata": {},
   "outputs": [],
   "source": [
    "cut = 20\n",
    "idx = (slice(None), slice(None), slice(None), slice(None), slice(cut, -cut))\n",
    "X = X[idx]\n",
    "Y = Y[idx]\n",
    "XP = XP[idx]\n",
    "YP = YP[idx]\n",
    "W = W[idx]\n",
    "f_raw = f_raw[idx]"
   ]
  },
  {
   "cell_type": "code",
   "execution_count": null,
   "id": "d216adca-0eab-4c31-ba89-9c0612b80ec9",
   "metadata": {},
   "outputs": [],
   "source": [
    "coords = [X, XP, Y, YP, W]\n",
    "shape = f_raw.shape\n",
    "shape"
   ]
  },
  {
   "cell_type": "code",
   "execution_count": null,
   "id": "57e22261-6c54-41e6-a663-2a08b0cb99dc",
   "metadata": {},
   "outputs": [],
   "source": [
    "mplt.interactive_proj2d(f_raw)"
   ]
  },
  {
   "cell_type": "code",
   "execution_count": null,
   "id": "cb8dd92e-b75b-4b1e-89c5-96b0a9d84048",
   "metadata": {},
   "outputs": [],
   "source": [
    "new_shape = np.array(shape).astype(float)\n",
    "new_shape[0] *= 1.1\n",
    "new_shape[1] *= 1.8\n",
    "new_shape[2] *= 1.1\n",
    "new_shape = tuple(new_shape.astype(int))\n",
    "info['int_shape'] = new_shape\n",
    "print(new_shape)"
   ]
  },
  {
   "cell_type": "code",
   "execution_count": null,
   "id": "ff74f05e-2c75-4817-a587-12a7513b30f8",
   "metadata": {},
   "outputs": [],
   "source": [
    "x_gv_new = np.linspace(np.min(X), np.max(X), new_shape[0])\n",
    "xp_gv_new = np.linspace(np.min(XP), np.max(XP), new_shape[1])\n",
    "y_gv_new = np.linspace(np.min(Y), np.max(Y), new_shape[2])\n",
    "yp_gv_new = np.linspace(np.min(YP), np.max(YP), new_shape[3])\n",
    "w_gv_new = np.linspace(np.min(W), np.max(W), new_shape[4])\n",
    "new_coords = [x_gv_new, xp_gv_new, y_gv_new, yp_gv_new, w_gv_new]\n",
    "utils.save_stacked_array('_output/coords.npz', new_coords)"
   ]
  },
  {
   "cell_type": "markdown",
   "id": "f9fcdee4-7752-47b7-bd16-a85e02299209",
   "metadata": {},
   "source": [
    "### Test: put 2D projected phase spaces projection on upright grid"
   ]
  },
  {
   "cell_type": "code",
   "execution_count": null,
   "id": "ab79a253-5f0f-4e18-a2ad-585bec851fe4",
   "metadata": {},
   "outputs": [],
   "source": [
    "grid = True\n",
    "contour = False\n",
    "norm = None\n",
    "\n",
    "gvs = [x_gv_new, xp_gv_new, y_gv_new, yp_gv_new]\n",
    "pdims = [\"x [mm]\", \"xp [mrad\", \"y [mm]\", \"yp [mrad]\", \"w [MeV]\"]\n",
    "for plane, (i, j) in zip(['x', 'y'], [(0, 1), (2, 3)]):\n",
    "    if plane == 'x':\n",
    "        U = X[:, :, 0, 0, 0]\n",
    "        V = XP[:, :, 0, 0, 0]\n",
    "    elif plane == 'y':\n",
    "        U = Y[0, 0, :, :, 0]\n",
    "        V = YP[0, 0, :, :, 0]\n",
    "    H = utils.project(f_raw, axis=(i, j))\n",
    "    H = H / np.max(H)\n",
    "    \n",
    "    points = (U.ravel(), V.ravel())\n",
    "    values = H.ravel()\n",
    "    U_new, V_new = np.meshgrid(gvs[i], gvs[j], indexing='ij')\n",
    "    new_points = (U_new.ravel(), V_new.ravel())\n",
    "    new_values = interpolate.griddata(points, values, new_points, fill_value=0.0, method='linear')\n",
    "    H_new = new_values.reshape(len(gvs[i]), len(gvs[j]))\n",
    "    print(f'H_new.min() = {H_new.min()}')\n",
    "    H_new = np.clip(H_new, 0.0, None)\n",
    "    H_new = H_new / np.max(H_new)\n",
    "\n",
    "    fig, axes = pplt.subplots(ncols=2)\n",
    "    mplt.plot_image(H, x=U, y=V, ax=axes[0], colorbar=True, norm=norm)\n",
    "    mplt.plot_image(H_new, x=gvs[i], y=gvs[j], ax=axes[1], colorbar=True, norm=norm)\n",
    "    if grid:\n",
    "        kws = dict(c='grey', lw=0.4, alpha=0.5)\n",
    "        for g in gvs[i]:\n",
    "            axes[0].axvline(g, **kws)\n",
    "        for g in gvs[j]:\n",
    "            axes[0].axhline(g, **kws)\n",
    "    if contour:\n",
    "        axes[1].contour(U.T, V.T, H.T, color='white', alpha=0.2, lw=0.75)\n",
    "    axes.format(xlabel=pdims[i], ylabel=pdims[j], toplabels=['Original', 'Interpolated'])\n",
    "    plt.show()"
   ]
  },
  {
   "cell_type": "markdown",
   "id": "39c00961-d477-41bc-ab0f-ec26df30c839",
   "metadata": {},
   "source": [
    "### Interpolate x-x'-w for each (y, y')."
   ]
  },
  {
   "cell_type": "code",
   "execution_count": null,
   "id": "04815930-7f76-4212-a503-687516ae654b",
   "metadata": {},
   "outputs": [],
   "source": [
    "shape[0] * shape[1] * shape[4]"
   ]
  },
  {
   "cell_type": "code",
   "execution_count": null,
   "id": "19a13ffe-38b8-4829-8488-243c61cf2a0c",
   "metadata": {},
   "outputs": [],
   "source": [
    "new_shape[0] * new_shape[1] * new_shape[4]"
   ]
  },
  {
   "cell_type": "code",
   "execution_count": null,
   "id": "5ad7708b-cf3c-4480-a62f-c6c9c0c303de",
   "metadata": {
    "scrolled": true,
    "tags": []
   },
   "outputs": [],
   "source": [
    "f = np.copy(f_raw)\n",
    "f_new = np.zeros((new_shape[0], new_shape[1], shape[2], shape[3], new_shape[4]))\n",
    "new_points = utils.get_grid_coords(new_coords[0], new_coords[1], new_coords[4], indexing='ij')\n",
    "\n",
    "for k in trange(shape[2]):\n",
    "    for l in trange(shape[3]):\n",
    "        idx = (slice(None), slice(None), k, l, slice(None))\n",
    "        points = (\n",
    "            coords[0][idx].ravel(),\n",
    "            coords[1][idx].ravel(),\n",
    "            coords[4][idx].ravel(),\n",
    "        )\n",
    "        values = f[idx].ravel()\n",
    "        # new_values = interpolate.griddata(\n",
    "        #     points, \n",
    "        #     values, \n",
    "        #     new_points, \n",
    "        #     fill_value=0.0, \n",
    "        #     method='linear',\n",
    "        # )\n",
    "        \n",
    "        interpolate.interpn(points, values, new_points, method='linear', bounds_error=True, fill_value=nan)\n",
    "        \n",
    "        f_new[idx] = new_values.reshape((new_shape[0], new_shape[1], new_shape[4]))"
   ]
  },
  {
   "cell_type": "code",
   "execution_count": null,
   "id": "a955b0fe-adb4-4b83-9ee9-2417116c12f7",
   "metadata": {},
   "outputs": [],
   "source": [
    "new_points"
   ]
  },
  {
   "cell_type": "markdown",
   "id": "eca83541-1f47-4bd3-8955-da43e682f39f",
   "metadata": {},
   "source": [
    "Redefine the grid coordinates: copy the x, x', y, and y' grids along the new w axis."
   ]
  },
  {
   "cell_type": "code",
   "execution_count": null,
   "id": "d9f8a744-ce49-4918-bf00-6f95bceae556",
   "metadata": {},
   "outputs": [],
   "source": [
    "X = utils.copy_into_new_dim(X[:, :, :, :, 0], (new_shape[4],), axis=-1)\n",
    "Y = utils.copy_into_new_dim(Y[:, :, :, :, 0], (new_shape[4],), axis=-1)\n",
    "XP = utils.copy_into_new_dim(XP[:, :, :, :, 0], (new_shape[4],), axis=-1)\n",
    "YP = utils.copy_into_new_dim(YP[:, :, :, :, 0], (new_shape[4],), axis=-1)\n",
    "W = utils.copy_into_new_dim(w_gv_new, (shape[0], shape[1], shape[2], shape[3]), axis=0)\n",
    "coords = [X, XP, Y, YP, W]"
   ]
  },
  {
   "cell_type": "code",
   "execution_count": null,
   "id": "160edd8a-2ed5-420e-8eea-7c7764915048",
   "metadata": {},
   "outputs": [],
   "source": [
    "for C in coords:\n",
    "    print(C.shape)"
   ]
  },
  {
   "cell_type": "markdown",
   "id": "0f86535a-0b93-44b8-80fd-d0506aa56bde",
   "metadata": {},
   "source": [
    "### Interpolate x-x' for each (y, y', w)"
   ]
  },
  {
   "cell_type": "code",
   "execution_count": null,
   "id": "9267a593-ac46-45ad-9714-0018f648e276",
   "metadata": {},
   "outputs": [],
   "source": [
    "f = np.copy(f_new)"
   ]
  },
  {
   "cell_type": "code",
   "execution_count": null,
   "id": "a826ff18-08b5-4637-a9ca-b43b377a8726",
   "metadata": {
    "scrolled": true,
    "tags": []
   },
   "outputs": [],
   "source": [
    "f_new = np.zeros((new_shape[0], new_shape[1], shape[2], shape[3], new_shape[4]))\n",
    "new_points = tuple([G.ravel() for G in np.meshgrid(x_gv_new, xp_gv_new, indexing='ij')])\n",
    "for k in trange(f.shape[2]):\n",
    "    for l in range(f.shape[3]):   \n",
    "        for m in range(f.shape[4]):\n",
    "            points = (\n",
    "                coords[0][:, :, k, l, m].ravel(),\n",
    "                coords[1][:, :, k, l, m].ravel(),\n",
    "            )\n",
    "            values = f[:, :, k, l, m].ravel()\n",
    "            new_values = interpolate.griddata(\n",
    "                points,\n",
    "                values,\n",
    "                new_points,\n",
    "                fill_value=0.0,\n",
    "                method='linear',\n",
    "            )\n",
    "            f_new[:, :, k, l, m] = new_values.reshape((new_shape[0], new_shape[1]))"
   ]
  },
  {
   "cell_type": "markdown",
   "id": "de4f53ce-0ff4-4a8f-83c8-68ef00de65c2",
   "metadata": {},
   "source": [
    "Same thing with the coordinates. We now need to copy the x-x' grid along all other dimensions, and y, y', and w along the x and x' dimensions."
   ]
  },
  {
   "cell_type": "code",
   "execution_count": null,
   "id": "1a17abe8-e5a6-4284-8c24-5588945854f1",
   "metadata": {},
   "outputs": [],
   "source": [
    "_X, _XP = np.meshgrid(x_gv_new, xp_gv_new, indexing='ij')\n",
    "X = utils.copy_into_new_dim(_X, (shape[2], shape[3], new_shape[4]), axis=-1)\n",
    "XP = utils.copy_into_new_dim(_XP, (shape[2], shape[3], new_shape[4]), axis=-1)\n",
    "Y = utils.copy_into_new_dim(Y[0, 0, :, :, :], (new_shape[0], new_shape[1]), axis=0)\n",
    "YP = utils.copy_into_new_dim(YP[0, 0, :, :, :], (new_shape[0], new_shape[1]), axis=0)\n",
    "W = utils.copy_into_new_dim(W[0, 0, :, :, :], (new_shape[0], new_shape[1]), axis=0)\n",
    "coords = [X, XP, Y, YP, W]"
   ]
  },
  {
   "cell_type": "code",
   "execution_count": null,
   "id": "07d28533-71b1-4340-a0ae-06e358f44a3f",
   "metadata": {},
   "outputs": [],
   "source": [
    "for C in coords:\n",
    "    print(C.shape)"
   ]
  },
  {
   "cell_type": "markdown",
   "id": "56a9a8e9-d6f5-4b54-9ef1-b2d1ba91d3ca",
   "metadata": {},
   "source": [
    "### Interpolate y-y' for each (x, x', w)"
   ]
  },
  {
   "cell_type": "code",
   "execution_count": null,
   "id": "9904798b-46ed-4380-879a-cdf26f6f3e11",
   "metadata": {
    "scrolled": true,
    "tags": []
   },
   "outputs": [],
   "source": [
    "f = f_new.copy()\n",
    "f_new = np.memmap('_output/f.mmp', shape=new_shape, dtype='float', mode='w+') \n",
    "new_points = tuple([G.ravel() for G in np.meshgrid(y_gv_new, yp_gv_new, indexing='ij')])\n",
    "for i in trange(new_shape[0]):\n",
    "    for j in range(new_shape[1]):   \n",
    "        for m in range(new_shape[4]):\n",
    "            points = (\n",
    "                coords[2][i, j, :, :, m].ravel(),\n",
    "                coords[3][i, j, :, :, m].ravel(),\n",
    "            )\n",
    "            values = f[i, j, :, :, m].ravel()\n",
    "            new_values = interpolate.griddata(\n",
    "                points,\n",
    "                values,\n",
    "                new_points,\n",
    "                fill_value=0.0,\n",
    "                method='linear',\n",
    "            )\n",
    "            f_new[i, j, :, :, m] = new_values.reshape((new_shape[2], new_shape[3]))"
   ]
  },
  {
   "cell_type": "code",
   "execution_count": null,
   "id": "0e107548-8a19-4694-ba4a-ce1b7656266e",
   "metadata": {},
   "outputs": [],
   "source": [
    "utils.save_pickle('_output/info.pkl', info)\n",
    "file = open('_output/info.txt', 'w')\n",
    "for key, value in info.items():\n",
    "    file.write(f'{key}: {value}\\n')\n",
    "file.close()"
   ]
  }
 ],
 "metadata": {
  "kernelspec": {
   "display_name": "Python 3 (ipykernel)",
   "language": "python",
   "name": "python3"
  },
  "language_info": {
   "codemirror_mode": {
    "name": "ipython",
    "version": 3
   },
   "file_extension": ".py",
   "mimetype": "text/x-python",
   "name": "python",
   "nbconvert_exporter": "python",
   "pygments_lexer": "ipython3",
   "version": "3.9.7"
  }
 },
 "nbformat": 4,
 "nbformat_minor": 5
}
