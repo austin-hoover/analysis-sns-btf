{
 "cells": [
  {
   "cell_type": "markdown",
   "id": "686fbad2-1479-4618-8319-15986879a2b4",
   "metadata": {},
   "source": [
    "# Make gif of images as camera sweeps "
   ]
  },
  {
   "cell_type": "code",
   "execution_count": null,
   "id": "7bc5f5bf-a777-4cbf-a9c7-02547a5191fd",
   "metadata": {},
   "outputs": [],
   "source": [
    "import sys\n",
    "import os\n",
    "from os.path import join\n",
    "import numpy as np\n",
    "import pandas as pd\n",
    "import h5py\n",
    "import imageio\n",
    "from tqdm.notebook import tqdm\n",
    "from tqdm.notebook import trange\n",
    "from ipywidgets import interactive\n",
    "from ipywidgets import widgets\n",
    "from matplotlib import pyplot as plt\n",
    "\n",
    "sys.path.append('../..')\n",
    "from tools import utils"
   ]
  },
  {
   "cell_type": "code",
   "execution_count": null,
   "id": "73ba5406-86d1-438f-a07b-3483f031064b",
   "metadata": {},
   "outputs": [],
   "source": [
    "datadir = '/Diagnostics/Data/Measurements/scan-xxpy-image-ypdE/2021-12-03/'\n",
    "filenames = os.listdir(datadir)\n",
    "filenames"
   ]
  },
  {
   "cell_type": "code",
   "execution_count": null,
   "id": "01e62cbf-eab6-4a0b-ae3d-f90a5e8c4509",
   "metadata": {},
   "outputs": [],
   "source": [
    "filename = 'merged2-211203151919-211203192701-scan-xxpy-image-ypdE'\n",
    "file = h5py.File(join(datadir, filename + '.h5'), 'r')\n",
    "print(list(file))"
   ]
  },
  {
   "cell_type": "code",
   "execution_count": null,
   "id": "bb3b3a9c-17ed-4da2-ae99-c06c310c0e75",
   "metadata": {},
   "outputs": [],
   "source": [
    "data = file['scandata']"
   ]
  },
  {
   "cell_type": "code",
   "execution_count": null,
   "id": "b432abe0-1346-4f84-bbc9-c8cffb1690ba",
   "metadata": {},
   "outputs": [],
   "source": [
    "acts = ['y_PositionSync', 'xp_PositionSync', 'x_PositionSync']"
   ]
  },
  {
   "cell_type": "code",
   "execution_count": null,
   "id": "e918c68f-5814-4972-bd7b-068d0c17684a",
   "metadata": {},
   "outputs": [],
   "source": [
    "shape = (258, 346)"
   ]
  },
  {
   "cell_type": "code",
   "execution_count": null,
   "id": "3be4787b-f14c-4795-bd5d-b0dd9f956c56",
   "metadata": {},
   "outputs": [],
   "source": [
    "images = data['cam06_Image'].reshape((len(data), shape[0], shape[1]))"
   ]
  },
  {
   "cell_type": "code",
   "execution_count": null,
   "id": "173ca780-176c-4b7f-879f-72b933c9084f",
   "metadata": {},
   "outputs": [],
   "source": [
    "images.shape"
   ]
  },
  {
   "cell_type": "code",
   "execution_count": null,
   "id": "e9534002-2a7f-470b-a78d-912cd9bf250d",
   "metadata": {},
   "outputs": [],
   "source": [
    "imax = np.argmax(np.sum(images, axis=(1, 2)))"
   ]
  },
  {
   "cell_type": "code",
   "execution_count": null,
   "id": "3e0df782-dd4a-454b-9acb-7837d5765f9c",
   "metadata": {},
   "outputs": [],
   "source": [
    "imax"
   ]
  },
  {
   "cell_type": "code",
   "execution_count": null,
   "id": "e26004ee-7697-4876-a5fc-c266d8469a1d",
   "metadata": {},
   "outputs": [],
   "source": [
    "iterations = data['iteration'][:]"
   ]
  },
  {
   "cell_type": "code",
   "execution_count": null,
   "id": "4434dda0-8ba2-49a9-8f16-dee412ec1cfa",
   "metadata": {},
   "outputs": [],
   "source": [
    "max_iteration = 0\n",
    "for iteration in np.unique(iterations):\n",
    "    idx, = np.where(iterations == iteration)\n",
    "    if imax in idx:\n",
    "        max_iteration = iteration\n",
    "        break"
   ]
  },
  {
   "cell_type": "code",
   "execution_count": null,
   "id": "2133309c-d983-49ba-99ec-abe4a64697f3",
   "metadata": {},
   "outputs": [],
   "source": [
    "max_iteration"
   ]
  },
  {
   "cell_type": "code",
   "execution_count": null,
   "id": "851dddfa-5353-4b63-8df6-c36e8e6951e1",
   "metadata": {},
   "outputs": [],
   "source": [
    "_iterations = np.arange(max_iteration, max_iteration + 2)\n",
    "inds = []\n",
    "for _iteration in _iterations:\n",
    "    idx, = np.where(iterations == _iteration)\n",
    "    inds.extend(idx)"
   ]
  },
  {
   "cell_type": "code",
   "execution_count": null,
   "id": "b44aa3ec-3f53-43ac-beb1-59749e7370e6",
   "metadata": {},
   "outputs": [],
   "source": [
    "ys = data[inds, 'y_PositionSync']\n",
    "x2s = data[inds, 'xp_PositionSync']\n",
    "x1s = data[inds, 'x_PositionSync']"
   ]
  },
  {
   "cell_type": "code",
   "execution_count": null,
   "id": "d8b53c27-583b-49a3-96ef-ea29bcb44e1c",
   "metadata": {},
   "outputs": [],
   "source": [
    "ims = images[inds]"
   ]
  },
  {
   "cell_type": "code",
   "execution_count": null,
   "id": "6150388c-5280-407a-8b5e-e54314516701",
   "metadata": {},
   "outputs": [],
   "source": [
    "from matplotlib import animation"
   ]
  },
  {
   "cell_type": "code",
   "execution_count": null,
   "id": "471c7ed2-0c04-4d1f-913c-5a3c935f8cb6",
   "metadata": {},
   "outputs": [],
   "source": [
    "fig, ax = plt.subplots(figsize=(4, 4), constrained_layout=True)\n",
    "plt.close()\n",
    "\n",
    "vmin = np.min(ims)\n",
    "vmax = np.max(ims)\n",
    "# vmin = vmax = None\n",
    "\n",
    "def update(i):\n",
    "    im = ims[i]\n",
    "    ax.clear()\n",
    "    ax.set_title('')\n",
    "    # ax.set_xlabel('x3')\n",
    "    # ax.set_ylabel('y3')\n",
    "    ax.set_yticks([])\n",
    "    ax.set_xticks([])\n",
    "    for text in ax.texts:\n",
    "        text.set_visible(False)\n",
    "    ax.pcolormesh(im, cmap='viridis', shading='auto', ec='None',\n",
    "                  vmin=vmin, vmax=vmax)\n",
    "    ax.annotate(\n",
    "        f\"y1 = {ys[i]:.2f},  x2 = {x2s[i]:.2f},  x1 = {x1s[i]:.2f}\",\n",
    "        xy=(0.5, 0.98), xycoords='axes fraction',\n",
    "        horizontalalignment='center', verticalalignment='top',\n",
    "        color='white', fontsize=12,\n",
    "    )\n",
    "\n",
    "anim = animation.FuncAnimation(\n",
    "    fig, update, frames=len(ims), blit=False,\n",
    ")\n",
    "anim.save('sweeps.gif', dpi=350, fps=10)"
   ]
  },
  {
   "cell_type": "code",
   "execution_count": null,
   "id": "a595d719-5b8e-44fd-b082-9b0609a48cec",
   "metadata": {},
   "outputs": [],
   "source": [
    "fig, (axt, ax) = plt.subplots(\n",
    "    nrows=2, ncols=1, figsize=(4, 4.5), constrained_layout=True,\n",
    "    gridspec_kw=dict(height_ratios=[0.1, 1.0]),\n",
    ")\n",
    "axt.set_yticks([])\n",
    "axt.set_xlim(np.min(ys), np.max(ys))\n",
    "axt.set_xlabel(r\"$y_1$ [mm]\", fontsize=11)\n",
    "for side in ['top', 'right', 'left']:\n",
    "    axt.spines[side].set_visible(False)\n",
    "\n",
    "line = axt.axvline(color='black')\n",
    "plt.close()\n",
    "\n",
    "def update(i):\n",
    "    im = ims[i][::-1, :]\n",
    "    ax.clear()\n",
    "    ax.set_title('')\n",
    "    ax.set_yticks([])\n",
    "    ax.set_xticks([])\n",
    "    for text in ax.texts:\n",
    "        text.set_visible(False)\n",
    "    ax.imshow(im[25:-25, 50:-50], vmin=vmin, vmax=vmax)\n",
    "    ax.annotate(\n",
    "        f\"$x_2$ = {x2s[i]:.2f} [mm],  $x_1$ = {x1s[i]:.2f} [mm]\",\n",
    "        xy=(0.02, 0.98), xycoords='axes fraction',\n",
    "        horizontalalignment='left', verticalalignment='top',\n",
    "        color='white', fontsize=12,\n",
    "    )\n",
    "    line.set_data((ys[i], ys[i]), (0.0, 1.0))\n",
    "    return ax\n",
    "\n",
    "anim = animation.FuncAnimation(\n",
    "    fig, update, frames=len(ims), blit=False,\n",
    ")\n",
    "anim.save('sweeps.gif', dpi=350, fps=10)"
   ]
  },
  {
   "cell_type": "code",
   "execution_count": null,
   "id": "33faa89f-a740-4207-aec6-f2d8673b2ea3",
   "metadata": {},
   "outputs": [],
   "source": []
  }
 ],
 "metadata": {
  "kernelspec": {
   "display_name": "myenv",
   "language": "python",
   "name": "myenv"
  },
  "language_info": {
   "codemirror_mode": {
    "name": "ipython",
    "version": 3
   },
   "file_extension": ".py",
   "mimetype": "text/x-python",
   "name": "python",
   "nbconvert_exporter": "python",
   "pygments_lexer": "ipython3",
   "version": "3.9.7"
  },
  "toc-autonumbering": true
 },
 "nbformat": 4,
 "nbformat_minor": 5
}
