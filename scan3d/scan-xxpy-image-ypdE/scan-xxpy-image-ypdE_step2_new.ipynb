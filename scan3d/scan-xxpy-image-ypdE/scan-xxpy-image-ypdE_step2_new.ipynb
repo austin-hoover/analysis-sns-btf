{
 "cells": [
  {
   "cell_type": "markdown",
   "id": "d57c07ab-d192-4b0c-8548-8d4b1f8bf7f4",
   "metadata": {},
   "source": [
    "# Step 2: Visualization"
   ]
  },
  {
   "cell_type": "markdown",
   "id": "3b7aea67-607e-4c1a-836e-dba4c622ffc6",
   "metadata": {},
   "source": [
    "This notebook loads the interpolated phase space distribution and generates interactive 2D figures."
   ]
  },
  {
   "cell_type": "code",
   "execution_count": null,
   "id": "bb019c79-40ce-4580-9bcd-06cffc4d4b7a",
   "metadata": {},
   "outputs": [],
   "source": [
    "import importlib\n",
    "import itertools\n",
    "import os\n",
    "import sys\n",
    "import time\n",
    "\n",
    "from ipywidgets import interactive\n",
    "from ipywidgets import widgets\n",
    "import h5py\n",
    "from matplotlib import pyplot as plt\n",
    "import numpy as np\n",
    "import proplot as pplt\n",
    "from tqdm.notebook import tqdm\n",
    "from tqdm.notebook import trange\n",
    "from scipy import ndimage\n",
    "\n",
    "sys.path.append('/Users/46h/Research/btf-data-analysis/')\n",
    "from tools import utils\n",
    "\n",
    "sys.path.append('/Users/46h/Research/psdist/')\n",
    "from psdist import image as psi\n",
    "from psdist import plotting as mplt"
   ]
  },
  {
   "cell_type": "markdown",
   "id": "8add77c6-b908-4a0f-8afb-9466628a3588",
   "metadata": {},
   "source": [
    "## Settings "
   ]
  },
  {
   "cell_type": "code",
   "execution_count": null,
   "id": "27b21d49-8ae0-4e4e-9d31-18f30b35f6d3",
   "metadata": {},
   "outputs": [],
   "source": [
    "pplt.rc['grid'] = False\n",
    "pplt.rc['cmap.discrete'] = False\n",
    "pplt.rc['cmap.sequential'] = 'viridis'\n",
    "pplt.rc['figure.facecolor'] = 'white'"
   ]
  },
  {
   "cell_type": "code",
   "execution_count": null,
   "id": "995dc4cb-a935-4137-9dda-fc4d8f248faf",
   "metadata": {},
   "outputs": [],
   "source": [
    "folder = './_output/'"
   ]
  },
  {
   "cell_type": "markdown",
   "id": "e9d46027-149d-445c-8419-82b0f656e35e",
   "metadata": {},
   "source": [
    "## Load data "
   ]
  },
  {
   "cell_type": "code",
   "execution_count": null,
   "id": "771b6980-e1cb-4aaa-b674-9dd5b457f711",
   "metadata": {},
   "outputs": [],
   "source": [
    "os.listdir(folder)"
   ]
  },
  {
   "cell_type": "markdown",
   "id": "c4092ee0-24dd-4146-8189-d92aad501c6a",
   "metadata": {},
   "source": [
    "Load the phase space density array `f`."
   ]
  },
  {
   "cell_type": "code",
   "execution_count": null,
   "id": "86d9019d-6da8-42ed-8ad6-d7705ab89c58",
   "metadata": {},
   "outputs": [],
   "source": [
    "info = utils.load_pickle(os.path.join(folder, 'info.pkl'))\n",
    "filename = info['filename']\n",
    "shape = info['int_shape']\n",
    "f = np.memmap(os.path.join(folder, f'f_{filename}.mmp'), shape=shape, dtype='float', mode='r')\n",
    "\n",
    "print('f.shape:', shape)\n",
    "print(f'f.nbytes = {f.nbytes:.4e}')"
   ]
  },
  {
   "cell_type": "markdown",
   "id": "42eb481b-42b9-463b-a4d2-0acf38d13d2a",
   "metadata": {},
   "source": [
    "Apply a Gaussian filter with $\\sigma = 0.7$ to `f` for a slight smoothing effect. (This takes a few minutes.)"
   ]
  },
  {
   "cell_type": "code",
   "execution_count": null,
   "id": "276bd9a7-2353-4760-9bed-588b39badaf4",
   "metadata": {},
   "outputs": [],
   "source": [
    "f = ndimage.gaussian_filter(f, 0.7)"
   ]
  },
  {
   "cell_type": "markdown",
   "id": "7841ea48-cdc2-4be5-963f-eea8e65f92c5",
   "metadata": {},
   "source": [
    "Load the grid coordinates `coords`."
   ]
  },
  {
   "cell_type": "code",
   "execution_count": null,
   "id": "84a72277-fcf9-42a6-a3f3-1151cc3839db",
   "metadata": {},
   "outputs": [],
   "source": [
    "coords = utils.load_stacked_arrays(os.path.join(folder, f'coords_{filename}.npz'))\n",
    "dims = info['dims']\n",
    "units = info['units']\n",
    "\n",
    "# Convert MeV --> keV.\n",
    "coords[4] = coords[4] * 1000.0\n",
    "units[4] = 'keV'\n",
    "\n",
    "dims_units = [f'{d} [{u}]' for d, u in zip(dims, units)]\n",
    "\n",
    "print('dims:', info['dims'])\n",
    "print('units:', info['units'])"
   ]
  },
  {
   "cell_type": "markdown",
   "id": "6bbda023-3a46-4974-9239-a92d18ea431f",
   "metadata": {},
   "source": [
    "Center the coordinates on the centroid of the distribution, as calculated from the 1D projections."
   ]
  },
  {
   "cell_type": "code",
   "execution_count": null,
   "id": "af35674e-494c-426a-aa52-7675c7a4daaf",
   "metadata": {},
   "outputs": [],
   "source": [
    "profs = []\n",
    "for i in range(5):\n",
    "    prof = psi.project(f, axis=i)\n",
    "    prof = prof / np.sum(prof)\n",
    "    coords[i] = coords[i] - np.average(coords[i], weights=prof)\n",
    "    profs.append(prof)"
   ]
  },
  {
   "cell_type": "markdown",
   "id": "d33c6afe-80a7-455f-9bf0-d633c948c5d0",
   "metadata": {},
   "source": [
    "Crop the 5D image:"
   ]
  },
  {
   "cell_type": "code",
   "execution_count": null,
   "id": "27af812b-7005-4571-b9dc-f5bc65662f08",
   "metadata": {},
   "outputs": [],
   "source": [
    "crop = (\n",
    "    (0, f.shape[0]),\n",
    "    (10, f.shape[1] - 10),\n",
    "    (0, f.shape[2]),\n",
    "    (19, f.shape[3] - 16),\n",
    "    (15, f.shape[4] - 20),\n",
    ")\n",
    "\n",
    "fig, axes = pplt.subplots(ncols=5, figwidth=7, spanx=False, figheight=None)\n",
    "for i, ax in enumerate(axes):\n",
    "    ax.plot(profs[i], color='black')\n",
    "    ax.axvspan(crop[i][0], crop[i][1] - 1, color='black', alpha=0.1)\n",
    "    ax.format(xlabel=dims[i] + ' [pixel]')\n",
    "# axes.format(yscale='log')\n",
    "plt.show()"
   ]
  },
  {
   "cell_type": "code",
   "execution_count": null,
   "id": "cbfc3665-d730-4539-b11b-9854b01e5768",
   "metadata": {},
   "outputs": [],
   "source": [
    "ind = tuple([slice(c[0], c[1]) for c in crop])\n",
    "f = f[ind]\n",
    "coords = [c[ind[i]] for i, c in enumerate(coords)]"
   ]
  },
  {
   "cell_type": "markdown",
   "id": "37c32305-fbfa-48f8-b182-8347cd27a1cb",
   "metadata": {},
   "source": [
    "Normalize `f` to the range [0, 1]."
   ]
  },
  {
   "cell_type": "code",
   "execution_count": null,
   "id": "fddf7705-b2e7-4180-a0bb-5ac824466282",
   "metadata": {},
   "outputs": [],
   "source": [
    "f = f / np.max(f)\n",
    "print(f'f_min = {np.min(f)}')\n",
    "print(f'f_max = {np.max(f)}')"
   ]
  },
  {
   "cell_type": "markdown",
   "id": "faee59ec-51a3-4b07-8491-bfc39a29effb",
   "metadata": {},
   "source": [
    "Apply a threshold to `f`."
   ]
  },
  {
   "cell_type": "code",
   "execution_count": null,
   "id": "340721a4-1357-486d-8b39-8a5ce227d699",
   "metadata": {},
   "outputs": [],
   "source": [
    "f[f < 10.0**-3.5] = 0"
   ]
  },
  {
   "cell_type": "markdown",
   "id": "6392c873-8a09-4522-9ae1-2282adc46571",
   "metadata": {},
   "source": [
    "## 1D projections "
   ]
  },
  {
   "cell_type": "code",
   "execution_count": null,
   "id": "a5766e00-a16f-4a37-929e-ab8cbf67be47",
   "metadata": {},
   "outputs": [],
   "source": [
    "mplt.interactive_proj1d(\n",
    "    f, coords=coords, dims=dims, units=units, default_ind=4,\n",
    "    kind='line',  # {'line', 'step', 'bar'}\n",
    "    slice_type='int',  # {'int', 'range'}\n",
    ")"
   ]
  },
  {
   "cell_type": "markdown",
   "id": "0cff55d1-81e7-4da6-bf9c-efbb2b50b8f6",
   "metadata": {},
   "source": [
    "## 2D projections "
   ]
  },
  {
   "cell_type": "code",
   "execution_count": null,
   "id": "9004eac4-b9e5-499f-b294-2e2471d7e30b",
   "metadata": {},
   "outputs": [],
   "source": [
    "prof_kws = dict(lw=0.5, alpha=0.7, color='white', scale=0.12)\n",
    "cmaps = ['viridis', 'mono_r', 'plasma', pplt.Colormap('mono', right=0.8), 'dusk_r']"
   ]
  },
  {
   "cell_type": "markdown",
   "id": "58c433bb-b453-4ed3-9933-692925812ec5",
   "metadata": {},
   "source": [
    "The `thresh` slider applies a fractional threshold to the 2D projection; a good value is around -3.0 for these measurements."
   ]
  },
  {
   "cell_type": "code",
   "execution_count": null,
   "id": "7533e693-e4cb-4c9a-bb0b-b1c9e98bf6c2",
   "metadata": {},
   "outputs": [],
   "source": [
    "mplt.interactive_proj2d(\n",
    "    f, coords=coords, dims=dims, units=units, \n",
    "    prof_kws=prof_kws,\n",
    "    slice_type='int',  # {'int', 'range'}\n",
    "    cmaps=cmaps,\n",
    ")"
   ]
  },
  {
   "cell_type": "code",
   "execution_count": null,
   "id": "01bff3c4-7aa3-46bf-bdeb-07a35b8c60e0",
   "metadata": {
    "tags": []
   },
   "outputs": [],
   "source": [
    "def update(cmap, log, diag):\n",
    "    axes = mplt.corner(\n",
    "        f, \n",
    "        coords=coords,\n",
    "        diag_kind='step' if diag else 'None',\n",
    "        prof=False if diag else 'edges',\n",
    "        labels=dims_units,\n",
    "        norm='log' if log else None,\n",
    "        handle_log='floor',\n",
    "        thresh=10.0**-3.5,\n",
    "        thresh_type='frac',\n",
    "        linewidth=0, rasterized=True,\n",
    "        prof_kws=prof_kws,\n",
    "        cmap=cmap,\n",
    "    )\n",
    "    return axes\n",
    "\n",
    "\n",
    "interactive(update, cmap=cmaps, log=False, diag=True)"
   ]
  }
 ],
 "metadata": {
  "kernelspec": {
   "display_name": "Python 3 (ipykernel)",
   "language": "python",
   "name": "python3"
  },
  "language_info": {
   "codemirror_mode": {
    "name": "ipython",
    "version": 3
   },
   "file_extension": ".py",
   "mimetype": "text/x-python",
   "name": "python",
   "nbconvert_exporter": "python",
   "pygments_lexer": "ipython3",
   "version": "3.9.12"
  }
 },
 "nbformat": 4,
 "nbformat_minor": 5
}
