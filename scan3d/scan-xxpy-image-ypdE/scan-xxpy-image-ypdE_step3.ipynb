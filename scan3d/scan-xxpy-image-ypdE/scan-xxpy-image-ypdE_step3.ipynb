{
 "cells": [
  {
   "cell_type": "markdown",
   "id": "e7705f3f-3479-411d-af2f-791f9bf0c2b8",
   "metadata": {
    "tags": []
   },
   "source": [
    "# Interpolate 5D beam density"
   ]
  },
  {
   "cell_type": "markdown",
   "id": "ee582e72-31e3-4520-8237-47bc574334fa",
   "metadata": {},
   "source": [
    "$x_3$ = x position at VS34 \\\n",
    "$y_3$ = y position at VS34 \\\n",
    "$x_2$ = position of VT06 slit \\\n",
    "$y_1$ = position of HZ04 slit \\\n",
    "$x_1$ = position of VT04 slit\n",
    "\n",
    "$$\n",
    "\\begin{aligned}\n",
    "x &= x_1 \\\\\n",
    "y &= y_1 \\\\\n",
    "x' &= \\frac{x_2 - 0.35 x_1}{s_2 - s_1} \\\\\n",
    "y' &= \\frac{y_3 - y_1}{s_3 - s_1} \\\\\n",
    "w  &= f(x_3, x_2, x_1) \\\\ \n",
    "\\end{aligned}\n",
    "$$"
   ]
  },
  {
   "cell_type": "code",
   "execution_count": null,
   "id": "d7460c8a-7965-4119-a890-5b1550c9b464",
   "metadata": {},
   "outputs": [],
   "source": [
    "import sys\n",
    "import os\n",
    "from os.path import join\n",
    "import time\n",
    "from datetime import datetime\n",
    "import importlib\n",
    "import numpy as np\n",
    "import pandas as pd\n",
    "import h5py\n",
    "import imageio\n",
    "from scipy import ndimage\n",
    "from scipy import interpolate\n",
    "import skimage\n",
    "from tqdm import tqdm\n",
    "from tqdm import trange\n",
    "from matplotlib import pyplot as plt\n",
    "from matplotlib import colors\n",
    "import plotly.graph_objs as go\n",
    "from ipywidgets import interact\n",
    "import proplot as pplt\n",
    "\n",
    "sys.path.append('../..')\n",
    "from tools import energyVS06 as energy\n",
    "from tools import image_processing as ip\n",
    "from tools import plotting as mplt\n",
    "from tools import utils\n",
    "from tools.utils import project"
   ]
  },
  {
   "cell_type": "code",
   "execution_count": null,
   "id": "038313e8-06fa-4b21-aab9-796865fd13ea",
   "metadata": {},
   "outputs": [],
   "source": [
    "pplt.rc['grid'] = False\n",
    "pplt.rc['cmap.discrete'] = False\n",
    "pplt.rc['cmap.sequential'] = 'viridis'"
   ]
  },
  {
   "cell_type": "markdown",
   "id": "e4c3feb8-ea00-46c5-8ebd-2dc448bd70b7",
   "metadata": {},
   "source": [
    "## Load 5D array "
   ]
  },
  {
   "cell_type": "code",
   "execution_count": null,
   "id": "035a9fd7-b0f0-4aad-ae37-a5090c01a21b",
   "metadata": {},
   "outputs": [],
   "source": [
    "folder = '.'\n",
    "filenames = os.listdir(folder)\n",
    "for filename in filenames:\n",
    "    if filename.startswith('rawgrid'):\n",
    "        print(filename)\n",
    "    if filename.startswith('slit_coordinates'):\n",
    "        print(filename)"
   ]
  },
  {
   "cell_type": "code",
   "execution_count": null,
   "id": "b2828ef2-7f65-4f49-92a9-bc468beb3752",
   "metadata": {},
   "outputs": [],
   "source": [
    "filename = 'rawgrid_220429190854-scan-xxpy-image-ypdE.mmp'\n",
    "coordfilename = 'slit_coordinates_220429190854-scan-xxpy-image-ypdE.npy'"
   ]
  },
  {
   "cell_type": "code",
   "execution_count": null,
   "id": "da41eb3b-9ad1-4a20-b1db-cebb682b5c57",
   "metadata": {},
   "outputs": [],
   "source": [
    "shape = tuple(np.loadtxt(join(folder, 'rawgrid_shape.txt')).astype(int))\n",
    "print(shape)"
   ]
  },
  {
   "cell_type": "code",
   "execution_count": null,
   "id": "c7175e38-84ad-4b18-828d-a0e2fba7f0ea",
   "metadata": {},
   "outputs": [],
   "source": [
    "file = open(join(folder, 'im_dtype.txt'), 'r')\n",
    "dtype = file.readline()\n",
    "file.close()\n",
    "print(dtype)"
   ]
  },
  {
   "cell_type": "code",
   "execution_count": null,
   "id": "5e9639cc-c9f0-4f25-ac3e-327bb3c1a047",
   "metadata": {},
   "outputs": [],
   "source": [
    "a5d = np.memmap(join(folder, filename), shape=shape, dtype=dtype, mode='r')\n",
    "print(np.info(a5d))"
   ]
  },
  {
   "cell_type": "markdown",
   "id": "a6e439a5-4c5f-4a8c-9d3e-571850974f73",
   "metadata": {},
   "source": [
    "Flip the y3 axis (the image comes in upside-down). (*Why flip the x3 axis? We want the beam moving out of the screen?*) Also, the y1 slit coordinates are reverse of the the y vector, so flip the y1 axis."
   ]
  },
  {
   "cell_type": "code",
   "execution_count": null,
   "id": "3258ca5d-019f-4555-91d7-92af88e2e41f",
   "metadata": {},
   "outputs": [],
   "source": [
    "a5d = a5d[:, :, ::-1,::-1,::-1]"
   ]
  },
  {
   "cell_type": "markdown",
   "id": "d9a88b33-987a-405f-88ca-b52b44ca170c",
   "metadata": {},
   "source": [
    "## View 5D array in slit-screen coordinates"
   ]
  },
  {
   "cell_type": "markdown",
   "id": "fbd2c291-34f8-4ecc-8aea-47c5c57850e0",
   "metadata": {},
   "source": [
    "NOTE: These plots do not show correlations beween the slits. For example, x1-x2 should be significantly tilted. "
   ]
  },
  {
   "cell_type": "markdown",
   "id": "0827c6fc-5588-49b7-937a-103bb6fdf2d4",
   "metadata": {},
   "source": [
    "### Projections "
   ]
  },
  {
   "cell_type": "code",
   "execution_count": null,
   "id": "4ef214ef-a7a1-4417-a9f4-5a6dad7473cb",
   "metadata": {},
   "outputs": [],
   "source": [
    "dims = ['x1', 'x2', 'y1', 'y3', 'x3']\n",
    "frac_thresh = 1e-5\n",
    "# frac_thresh = None"
   ]
  },
  {
   "cell_type": "code",
   "execution_count": null,
   "id": "ec64daa4-6cf8-40e8-bf11-e8c0098d8d01",
   "metadata": {},
   "outputs": [],
   "source": [
    "for norm in [None, 'log']:\n",
    "    axes = mplt.corner(\n",
    "        a5d,\n",
    "        labels=dims,\n",
    "        norm=norm,\n",
    "        diag_kind='None',\n",
    "        prof='edges',\n",
    "        prof_kws=dict(lw=1.0),\n",
    "        fig_kws=dict(),\n",
    "        frac_thresh=frac_thresh,\n",
    "    )\n",
    "    plt.savefig(f\"_output/corner_log{norm == 'log'}.png\")\n",
    "    plt.show()"
   ]
  },
  {
   "cell_type": "markdown",
   "id": "08a65bfb-ad62-4209-a152-4805002e26b4",
   "metadata": {},
   "source": [
    "### Slices"
   ]
  },
  {
   "cell_type": "code",
   "execution_count": null,
   "id": "e6dca655-c883-4500-8fb6-6ade856129c1",
   "metadata": {},
   "outputs": [],
   "source": [
    "dim_to_int = {dim: i for i, dim in enumerate(dims)}\n",
    "int_to_dim = {i: dim for i, dim in enumerate(dims)}"
   ]
  },
  {
   "cell_type": "code",
   "execution_count": null,
   "id": "1aedfc53-c3e9-49b0-b7d6-550c79773753",
   "metadata": {},
   "outputs": [],
   "source": [
    "ind = np.unravel_index(np.argmax(a5d), a5d.shape)\n",
    "ind = tuple([i for i in ind])\n",
    "print(ind)"
   ]
  },
  {
   "cell_type": "code",
   "execution_count": null,
   "id": "5f3da804-16d6-4ecc-bb9a-3af06eba434e",
   "metadata": {},
   "outputs": [],
   "source": [
    "axes_slice = [(k, j, i) for i in range(a5d.ndim) for j in range(i) for k in range(j)]\n",
    "for axes in axes_slice:\n",
    "    axes_not_slice = [axis for axis in range(a5d.ndim) if axis not in axes]\n",
    "    a5d_slice = utils.slice_array(a5d, axes, [ind[axis] for axis in axes])\n",
    "    a5d_slice = a5d_slice / np.max(a5d_slice)\n",
    "    \n",
    "    fig, plot_axes = pplt.subplots(ncols=2)\n",
    "    for ax, norm in zip(plot_axes, [None, 'log']):\n",
    "        mplt.plot_image(a5d_slice, ax=ax, frac_thresh=frac_thresh, norm=norm, colorbar=True)\n",
    "    dim1, dim2 = [dims[axis] for axis in axes_not_slice]\n",
    "    plot_axes.format(xlabel=dim1, ylabel=dim2)\n",
    "    # Save the figure.\n",
    "    string = '_output/slice_'\n",
    "    for axis in axes:\n",
    "        string += f'_{int_to_dim[axis]}-{ind[axis]}'\n",
    "    plt.savefig(string + '.png')\n",
    "    plt.show()"
   ]
  },
  {
   "cell_type": "markdown",
   "id": "32035d44-7c6a-44f2-adb0-b046b737c9e4",
   "metadata": {},
   "source": [
    "## Interactive "
   ]
  },
  {
   "cell_type": "code",
   "execution_count": null,
   "id": "4c72b2d4-fc89-474e-8f50-fe54cf1f929a",
   "metadata": {},
   "outputs": [],
   "source": [
    "cmaps = ['viridis', 'dusk_r', 'mono_r', 'grays', 'plasma', 'blues_r', 'rocket', 'mako', 'stellar_r',]"
   ]
  },
  {
   "cell_type": "code",
   "execution_count": null,
   "id": "efa208da-9024-4dac-b938-c28d6051d588",
   "metadata": {},
   "outputs": [],
   "source": [
    "def update_projection(a5d, dim1='y3', dim2='x3', cfix=False, log=False, reverse=False, **plot_kws):\n",
    "    if dim1 == dim2:\n",
    "        raise ValueError('dim1 == dim2')\n",
    "    dims = [dim1, dim2]\n",
    "    norm = 'log' if log else None\n",
    "    plot_kws['cmap'] = pplt.Colormap(plot_kws.pop('cmap'), reverse=reverse)\n",
    "    image = project(a5d, axis=[dim_to_int[dim] for dim in dims])\n",
    "    image = image / image.max()\n",
    "    fig, ax = pplt.subplots()\n",
    "    mplt.plot_image(image, ax=ax, profx=True, profy=True, prof_kws=dict(scale=0.15), \n",
    "                    colorbar=True, norm=norm, **plot_kws)\n",
    "    ax.format(xlabel=dim1, ylabel=dim2)\n",
    "    plt.show()"
   ]
  },
  {
   "cell_type": "code",
   "execution_count": null,
   "id": "efda7caf-f93a-46e2-a036-f5ee3e8ffcc0",
   "metadata": {},
   "outputs": [],
   "source": [
    "fig = go.FigureWidget()\n",
    "heatmap = fig.add_heatmap()\n",
    "\n",
    "@interact(dim1=dims, dim2=dims, cmap=cmaps, reverse=False, log=False, discrete=False)\n",
    "def update(dim1='y3', dim2='x3', cmap='viridis', reverse=False, log=False, discrete=False):\n",
    "    with fig.batch_update():\n",
    "        heatmap.data = update_projection(\n",
    "            a5d, dim1=dim1, dim2=dim2, log=log, discrete=discrete,\n",
    "            cmap=cmap, frac_thresh=frac_thresh, reverse=reverse,\n",
    "        )"
   ]
  },
  {
   "cell_type": "markdown",
   "id": "e46386e8-503b-4bb4-a348-f06dfcb99ede",
   "metadata": {
    "tags": []
   },
   "source": [
    "## Coordinate transform"
   ]
  },
  {
   "cell_type": "markdown",
   "id": "c1ef1699-e9ca-4cfe-a389-44b1450d1fce",
   "metadata": {},
   "source": [
    "Load the slit coordinates 3D grid (x1-x2-y1)"
   ]
  },
  {
   "cell_type": "code",
   "execution_count": null,
   "id": "80895bff-1302-480a-9aa1-e203d4f05107",
   "metadata": {},
   "outputs": [],
   "source": [
    "coords_3d = np.load(coordfilename)  # [X1, X2, Y1]\n",
    "coords_3d.shape"
   ]
  },
  {
   "cell_type": "code",
   "execution_count": null,
   "id": "b541fddd-962b-4aad-aa4d-5ec1caeda985",
   "metadata": {},
   "outputs": [],
   "source": [
    "fig, axes = pplt.subplots(nrows=3, ncols=3, figwidth=6, spanx=False, spany=False)\n",
    "for i in range(3):\n",
    "    for j in range(3):\n",
    "        U = coords_3d[j]\n",
    "        V = coords_3d[i]\n",
    "        ax = axes[i, j]\n",
    "        ax.scatter(U.ravel(), V.ravel(), s=1, color='black')\n",
    "        ax.axvline(np.mean(U), color='red', alpha=0.15)\n",
    "        ax.axhline(np.mean(V), color='red', alpha=0.15)\n",
    "    axes[i, 0].format(ylabel=dims[i])\n",
    "    axes[-1, i].format(xlabel=dims[i])\n",
    "plt.show()"
   ]
  },
  {
   "cell_type": "code",
   "execution_count": null,
   "id": "c4909f4c-3a21-4c0a-b13a-ea3dc73f6cc4",
   "metadata": {},
   "outputs": [],
   "source": [
    "y1_gv = coords_3d[2, 0, 0, :]\n",
    "y3_gv = np.arange(shape[3])\n",
    "x3_gv = np.arange(shape[4])\n",
    "gvs = [None, None, y1_gv, y3_gv, x3_gv]"
   ]
  },
  {
   "cell_type": "code",
   "execution_count": null,
   "id": "856d7222-b4a3-4c53-9bc5-cd5df8da79fb",
   "metadata": {},
   "outputs": [],
   "source": [
    "# kws = dict(color='black', lw=0.25, alpha=1)\n",
    "# fig, axes = pplt.subplots(nrows=5, ncols=5, figwidth=10.0, spanx=False, spany=False)\n",
    "# for i in range(5):\n",
    "#     for j in range(5):\n",
    "#         u, v, ax = gvs[j], gvs[i], axes[i, j]\n",
    "#         for gv in gvs[j]:\n",
    "#             ax.axvline(gv, **kws)\n",
    "#         for gv in gvs[i]:\n",
    "#             ax.axhline(gv, **kws)\n",
    "#     axes[i, 0].format(ylabel=dims[i])\n",
    "#     axes[-1, i].format(xlabel=dims[i])\n",
    "# plt.show()"
   ]
  },
  {
   "cell_type": "markdown",
   "id": "1e51be8e-6baf-4f26-a9a1-ccc3f18eeaa4",
   "metadata": {},
   "source": [
    "Copy the grids into new dimensions."
   ]
  },
  {
   "cell_type": "code",
   "execution_count": null,
   "id": "1d4e8307-fa51-4199-8859-8b8c66104472",
   "metadata": {},
   "outputs": [],
   "source": [
    "X1, X2, Y1 = coords_3d\n",
    "X1 = utils.copy_into_new_dim(X1, shape[3:], axis=-1)\n",
    "X2 = utils.copy_into_new_dim(X2, shape[3:], axis=-1)\n",
    "Y1 = utils.copy_into_new_dim(Y1, shape[3:], axis=-1)"
   ]
  },
  {
   "cell_type": "code",
   "execution_count": null,
   "id": "47a49146-4c8e-4f81-a092-9e32f26a5741",
   "metadata": {},
   "outputs": [],
   "source": [
    "print('X1.shape =', X1.shape)\n",
    "print('X2.shape =', X2.shape)\n",
    "print('Y1.shape =', Y1.shape)"
   ]
  },
  {
   "cell_type": "code",
   "execution_count": null,
   "id": "e5ef87df-2d9d-4c94-9da9-205bd0ae127a",
   "metadata": {},
   "outputs": [],
   "source": [
    "Y3, X3 = np.meshgrid(y3_gv, x3_gv, indexing='ij')\n",
    "Y3 = utils.copy_into_new_dim(Y3, shape[:3], axis=0)\n",
    "X3 = utils.copy_into_new_dim(X3, shape[:3], axis=0)"
   ]
  },
  {
   "cell_type": "code",
   "execution_count": null,
   "id": "6086e006-4905-4aa9-9929-a30ad6aed8a1",
   "metadata": {},
   "outputs": [],
   "source": [
    "print('Y3.shape =', Y3.shape)\n",
    "print('X3.shape =', X3.shape)"
   ]
  },
  {
   "cell_type": "markdown",
   "id": "6a70cee8-2855-4a94-8552-222deb6dca9f",
   "metadata": {},
   "source": [
    "Make list of center coordinates. `coords_` has coordinates in raw slit values."
   ]
  },
  {
   "cell_type": "code",
   "execution_count": null,
   "id": "8cd84f8a-217d-42b2-b625-23aed799e25a",
   "metadata": {},
   "outputs": [],
   "source": [
    "X1 = X1 - np.mean(X1)\n",
    "X2 = X2 - np.mean(X2)\n",
    "Y1 = Y1 - np.mean(Y1)\n",
    "Y3 = Y3 - np.mean(Y3)\n",
    "X3 = X3 - np.mean(X3)\n",
    "coords_ = [X1, X2, Y1, Y3, X3]"
   ]
  },
  {
   "cell_type": "code",
   "execution_count": null,
   "id": "4cdeb47e-0cf5-47dc-9cd3-4058017b7368",
   "metadata": {},
   "outputs": [],
   "source": [
    "for i, dim in enumerate(dims):\n",
    "    print('dim =', dim)\n",
    "    U = coords_[i]\n",
    "    axes = [k for k in range(U.ndim) if k != i]\n",
    "    idx = utils.make_slice(U.ndim, axes, ind=[0, 0, 0, 0])\n",
    "    print(U[idx])\n",
    "    print()"
   ]
  },
  {
   "cell_type": "markdown",
   "id": "108519d2-61e0-4653-8a8f-388abe4234fe",
   "metadata": {},
   "source": [
    "Build the transfer matrices between slits and the screen."
   ]
  },
  {
   "cell_type": "code",
   "execution_count": null,
   "id": "e6c487bf-5fa6-4a59-9a29-e4df75032d11",
   "metadata": {},
   "outputs": [],
   "source": [
    "a2mm = 1.009  # assume same as first dipole\n",
    "amp2meter = a2mm * 1e3\n",
    "rho = 0.3556\n",
    "GL05 = 0\n",
    "GL06 = 0.0\n",
    "l1 = 0.0\n",
    "l2 = 0.0\n",
    "l3 = 0.774\n",
    "L2 = 0.311  # slit2 to dipole face\n",
    "l = 0.129  # dipole face to VS06 screen (assume same for first/last dipole-screen)\n",
    "LL = l1 + l2 + l3 + L2  # distance from emittance plane to dipole entrance\n",
    "\n",
    "ecalc = energy.EnergyCalculate(l1=l1, l2=l2, l3=l3, L2=L2, l=l, amp2meter=amp2meter)\n",
    "\n",
    "Mslit = ecalc.getM1()  # slit-slit\n",
    "Mscreen = ecalc.getM()  # slit-screen"
   ]
  },
  {
   "cell_type": "markdown",
   "id": "2030e6a7-0bf3-4860-ba32-f2c0aaabf921",
   "metadata": {},
   "source": [
    "Compute x', y', and energy w."
   ]
  },
  {
   "cell_type": "code",
   "execution_count": null,
   "id": "55613758-71c2-4493-b2b6-e532a8b8d9f6",
   "metadata": {},
   "outputs": [],
   "source": [
    "Y = Y1.copy()\n",
    "YP = ecalc.calculate_yp(Y.ravel() * 1e-3, Y3.ravel() * 1e-3, Mscreen)\n",
    "YP = YP.reshape(shape)\n",
    "\n",
    "X = X1.copy()\n",
    "XP = ecalc.calculate_xp(X.ravel() * 1e-3, X2.ravel() * 1e-3, Mslit)\n",
    "XP = XP.reshape(shape)\n",
    "\n",
    "W = ecalc.calculate_dE_screen(X3.ravel() * 1e-3, 0.0, X.ravel() * 1e-3, XP.ravel(), Mscreen)\n",
    "W = W.reshape(shape)\n",
    "\n",
    "# Convert from m-rad to mm-mrad\n",
    "YP *= 1e3\n",
    "XP *= 1e3\n",
    "W *= 1e3"
   ]
  },
  {
   "cell_type": "code",
   "execution_count": null,
   "id": "86fdd797-db58-4f01-a401-1c265cc20172",
   "metadata": {},
   "outputs": [],
   "source": [
    "X = X.copy()\n",
    "Y = Y.copy()\n",
    "XP = XP.copy()\n",
    "YP = YP.copy()\n",
    "W = W.copy()\n",
    "# del(X1, X2, Y1, X3, Y3)"
   ]
  },
  {
   "cell_type": "markdown",
   "id": "2956f813-b264-4561-86d7-dbe4819d248a",
   "metadata": {},
   "source": [
    "Make list of centered phase space coordinate grids."
   ]
  },
  {
   "cell_type": "code",
   "execution_count": null,
   "id": "1301b6ea-56b1-4d2a-abbf-6cbb6d252e01",
   "metadata": {},
   "outputs": [],
   "source": [
    "coords = [X, XP, Y, YP, W]\n",
    "for coord in tqdm(coords):\n",
    "    coord = coord - np.mean(coord)"
   ]
  },
  {
   "cell_type": "markdown",
   "id": "32a5f050-0792-4bee-ba5f-06a67146b695",
   "metadata": {},
   "source": [
    "Put energy on evenly-spaced grid."
   ]
  },
  {
   "cell_type": "code",
   "execution_count": null,
   "id": "ec72d8a9-c9a6-4036-9f1d-f19cb31f41fb",
   "metadata": {},
   "outputs": [],
   "source": [
    "pdims = [\"x [mm]\", \"x' [mrad]\", \"y [mm]\", \"y' [mrad]\", \"w [keV?]\"]"
   ]
  },
  {
   "cell_type": "markdown",
   "id": "f6284328-274f-4fda-829d-b32a729149cb",
   "metadata": {},
   "source": [
    "Test interpolation."
   ]
  },
  {
   "cell_type": "code",
   "execution_count": null,
   "id": "396fff77-b9e1-484b-aae9-af45f70283ce",
   "metadata": {},
   "outputs": [],
   "source": [
    "axis_view = (0, 1)\n",
    "method = '1D'\n",
    "kws = dict(fill_value=0.0, method='linear')\n",
    "\n",
    "H = utils.project(a5d, axis_view)\n",
    "H = H / np.max(H)\n",
    "\n",
    "axis_slice = [i for i in range(a5d.ndim) if i not in axis_view]\n",
    "idx = utils.make_slice(a5d.ndim, axis_slice, ind=[0, 0, 0])\n",
    "U = coords[axis_view[0]][idx]\n",
    "V = coords[axis_view[1]][idx]\n",
    "u_new = np.linspace(np.min(U), np.max(U), shape[axis_view[0]])\n",
    "v_new = np.linspace(np.min(V), np.max(V), shape[axis_view[1]])\n",
    "\n",
    "def interp2d(meth, **kws):\n",
    "    if meth == '2D':\n",
    "        points = (U.ravel(), V.ravel())\n",
    "        values = H.ravel()  \n",
    "        U_new, V_new = np.meshgrid(u_new, v_new, indexing='ij')\n",
    "        new_points = (U_new.ravel(), V_new.ravel())\n",
    "        H_new = interpolate.griddata(points, values, new_points, **kws)\n",
    "        H_new = H_new.reshape(len(u_new), len(v_new))\n",
    "    elif meth == '1D':\n",
    "        H_new = np.zeros(H.shape)\n",
    "        grids = (U, V)\n",
    "        new_points = (u_new, v_new)\n",
    "        for j in range(H_new.shape[1]):\n",
    "            H_new[:, j] = interpolate.griddata(grids[0][:, j], H[:, j], new_points[0], **kws)\n",
    "        for i in range(H_new.shape[1]):\n",
    "            H_new[i, :] = interpolate.griddata(grids[1][i, :], H[i, :], new_points[1], **kws)\n",
    "    H_new[H_new < 0] = 0\n",
    "    return H_new\n",
    "\n",
    "\n",
    "fig, axes = pplt.subplots(ncols=3)\n",
    "pkws = dict(colorbar=True, norm='log', frac_thresh=1e-5)\n",
    "mplt.plot_image(H / np.max(H), x=U.T, y=V.T, ax=axes[0], **pkws)\n",
    "for ax, meth in zip(axes[1:], ['1D', '2D']):\n",
    "    H_new = interp2d(meth, **kws)\n",
    "    mplt.plot_image(H_new / np.max(H_new), x=U_new.T, y=V_new.T, ax=ax, **pkws)\n",
    "    ax.contour(U.T, V.T, H.T, color='white', lw=1, alpha=0.4, label='original')\n",
    "axes.format(\n",
    "    xlabel=pdims[axis_view[0]],\n",
    "    ylabel=pdims[axis_view[1]],\n",
    "    toplabels=['Measured', 'interp 1D', 'interp 2D']\n",
    ")\n",
    "plt.show()"
   ]
  },
  {
   "cell_type": "markdown",
   "id": "6df2ee22-df20-4d3f-b916-54c8d491914a",
   "metadata": {},
   "source": [
    "Gridding the x-x'-w distribution for each y-y' is possible but would take 120 hours. We will try gridding w distribution first."
   ]
  },
  {
   "cell_type": "code",
   "execution_count": null,
   "id": "ae8b33d6-2303-42fc-a390-79e8099c5fd4",
   "metadata": {},
   "outputs": [],
   "source": [
    "new_shape = list(shape)\n",
    "new_shape[0] = 40\n",
    "new_shape = tuple(new_shape)\n",
    "print(new_shape)"
   ]
  },
  {
   "cell_type": "code",
   "execution_count": null,
   "id": "ff74f05e-2c75-4817-a587-12a7513b30f8",
   "metadata": {},
   "outputs": [],
   "source": [
    "x_gv_new = np.linspace(np.min(X), np.max(X), new_shape[0])\n",
    "xp_gv_new = np.linspace(np.min(XP), np.max(XP), new_shape[1])\n",
    "w_gv_new = np.linspace(np.min(W), np.max(W), new_shape[4])"
   ]
  },
  {
   "cell_type": "code",
   "execution_count": null,
   "id": "7ef1e35c-6309-400d-ae97-fa5db76dfe15",
   "metadata": {},
   "outputs": [],
   "source": [
    "new_points = tuple([G.ravel() for G in np.meshgrid(x_gv_new, xp_gv_new, w_gv_new, indexing='ij')])\n",
    "points = (\n",
    "    coords[0][:, :, 0, 0, :].ravel(),\n",
    "    coords[1][:, :, 0, 0, :].ravel(),\n",
    "    coords[4][:, :, 0, 0, :].ravel(),\n",
    ")"
   ]
  },
  {
   "cell_type": "code",
   "execution_count": null,
   "id": "a826ff18-08b5-4637-a9ca-b43b377a8726",
   "metadata": {
    "scrolled": true,
    "tags": []
   },
   "outputs": [],
   "source": [
    "a5d_new = np.zeros(new_shape)\n",
    "for k in trange(a5d.shape[2]):\n",
    "    for l in trange(a5d.shape[3]):   \n",
    "        values = a5d[:, :, k, l, :].ravel()\n",
    "        dens3d = interpolate.griddata(\n",
    "            points,\n",
    "            values,\n",
    "            new_points,\n",
    "            fill_value=0.0,\n",
    "        )\n",
    "        a5d_new[:, :, k, l, :] = dens3d.reshape((new_shape[0], new_shape[1], new_shape[4]))"
   ]
  },
  {
   "cell_type": "code",
   "execution_count": null,
   "id": "4bf28b71-1a58-478e-a0a4-d913bae54da2",
   "metadata": {},
   "outputs": [],
   "source": []
  }
 ],
 "metadata": {
  "kernelspec": {
   "display_name": "Python 3 (ipykernel)",
   "language": "python",
   "name": "python3"
  },
  "language_info": {
   "codemirror_mode": {
    "name": "ipython",
    "version": 3
   },
   "file_extension": ".py",
   "mimetype": "text/x-python",
   "name": "python",
   "nbconvert_exporter": "python",
   "pygments_lexer": "ipython3",
   "version": "3.9.7"
  }
 },
 "nbformat": 4,
 "nbformat_minor": 5
}
