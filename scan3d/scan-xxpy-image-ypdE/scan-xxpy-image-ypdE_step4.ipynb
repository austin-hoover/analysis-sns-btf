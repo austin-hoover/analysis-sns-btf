{
 "cells": [
  {
   "cell_type": "markdown",
   "id": "d57c07ab-d192-4b0c-8548-8d4b1f8bf7f4",
   "metadata": {},
   "source": [
    "# Step 4: visualization"
   ]
  },
  {
   "cell_type": "code",
   "execution_count": null,
   "id": "bde7f506-2600-46d2-b1cc-86b60b566413",
   "metadata": {},
   "outputs": [],
   "source": [
    "import sys\n",
    "import os\n",
    "from os.path import join\n",
    "import time\n",
    "from datetime import datetime\n",
    "import importlib\n",
    "import numpy as np\n",
    "import h5py\n",
    "from tqdm import tqdm\n",
    "from tqdm import trange\n",
    "import matplotlib as mpl\n",
    "from matplotlib import pyplot as plt\n",
    "from matplotlib import colors\n",
    "from matplotlib import patches\n",
    "import plotly.graph_objs as go\n",
    "from ipywidgets import interactive\n",
    "from ipywidgets import widgets\n",
    "from IPython.display import display\n",
    "from IPython.display import clear_output\n",
    "import proplot as pplt\n",
    "\n",
    "sys.path.append('../..')\n",
    "from tools import energyVS06 as energy\n",
    "from tools import image_processing as ip\n",
    "from tools import plotting as mplt\n",
    "from tools import utils\n",
    "from tools.utils import project"
   ]
  },
  {
   "cell_type": "code",
   "execution_count": null,
   "id": "27b21d49-8ae0-4e4e-9d31-18f30b35f6d3",
   "metadata": {},
   "outputs": [],
   "source": [
    "mpl.rcParams['path.simplify'] = True\n",
    "mpl.rcParams['path.simplify_threshold'] = 1.0\n",
    "mpl.style.use('fast')\n",
    "pplt.rc['grid'] = False\n",
    "pplt.rc['cmap.discrete'] = False\n",
    "pplt.rc['cmap.sequential'] = 'viridis'\n",
    "pplt.rc['figure.facecolor'] = 'white'"
   ]
  },
  {
   "cell_type": "markdown",
   "id": "e9d46027-149d-445c-8419-82b0f656e35e",
   "metadata": {},
   "source": [
    "## Load data "
   ]
  },
  {
   "cell_type": "code",
   "execution_count": null,
   "id": "daa40b99-f912-4a13-b157-18ca5b93cd22",
   "metadata": {},
   "outputs": [],
   "source": [
    "folder = '_output'"
   ]
  },
  {
   "cell_type": "code",
   "execution_count": null,
   "id": "999ab03d-314a-4ad8-9595-1dae7f5121a6",
   "metadata": {},
   "outputs": [],
   "source": [
    "info = utils.load_pickle(join(folder, 'info.pkl'))\n",
    "info"
   ]
  },
  {
   "cell_type": "code",
   "execution_count": null,
   "id": "3ef9ce2f-f73b-4949-b560-5e987d9326a4",
   "metadata": {},
   "outputs": [],
   "source": [
    "shape = info['int_shape']"
   ]
  },
  {
   "cell_type": "code",
   "execution_count": null,
   "id": "aa667a98-9d95-4163-9f51-45d1360cd93f",
   "metadata": {},
   "outputs": [],
   "source": [
    "coords = utils.load_stacked_arrays(join(folder, 'coords.npz'))\n",
    "for c in coords:\n",
    "    print(c.shape)"
   ]
  },
  {
   "cell_type": "code",
   "execution_count": null,
   "id": "96cbe823-0da8-4033-a64b-7ed46bfd8832",
   "metadata": {},
   "outputs": [],
   "source": [
    "f = np.memmap(join(folder, 'a5d_new.mmp'), shape=shape, dtype='float', mode='r')"
   ]
  },
  {
   "cell_type": "code",
   "execution_count": null,
   "id": "fddf7705-b2e7-4180-a0bb-5ac824466282",
   "metadata": {},
   "outputs": [],
   "source": [
    "f_min = np.min(f)\n",
    "if f_min < 0.0:\n",
    "    print(f'min(f) = {f_min}')\n",
    "    print('Clipping to zero.')\n",
    "    f = np.clip(f, 0.0, None)"
   ]
  },
  {
   "cell_type": "code",
   "execution_count": null,
   "id": "1de7b164-7ac6-4139-bd79-980b6853b308",
   "metadata": {},
   "outputs": [],
   "source": [
    "# f = f[..., ::-1]"
   ]
  },
  {
   "cell_type": "markdown",
   "id": "b97c1d88-e0a3-4fb7-a729-e25258a3a5e9",
   "metadata": {},
   "source": [
    "## Static "
   ]
  },
  {
   "cell_type": "code",
   "execution_count": null,
   "id": "f74b6644-5f2c-463a-8fe0-bb71bdda8975",
   "metadata": {},
   "outputs": [],
   "source": [
    "dims = [\"x\", \"xp\", \"y\", \"yp\", \"w\"]\n",
    "units = [\"mm\", \"mrad\", \"mm\", \"mrad\", \"MeV\"]\n",
    "dims_units = [f'{d} [{u}]' for d, u in zip(dims, units)]\n",
    "dim_to_int = {dim: i for i, dim in enumerate(dims)}\n",
    "prof_kws = dict(lw=1.0, alpha=0.5, color='white', scale=0.15)"
   ]
  },
  {
   "cell_type": "markdown",
   "id": "8159a04a-60c7-47ba-a3ef-fa435c22662c",
   "metadata": {},
   "source": [
    "### Projections"
   ]
  },
  {
   "cell_type": "code",
   "execution_count": null,
   "id": "2130b5ba-9669-4a27-a2d1-d9d7a7fe551d",
   "metadata": {},
   "outputs": [],
   "source": [
    "for norm in [None, 'log']:\n",
    "    axes = mplt.corner(\n",
    "        f,\n",
    "        coords=coords,\n",
    "        diag_kind='None',  # {'line', 'None'}\n",
    "        prof='edges',  # {True, False, 'edges'}\n",
    "        prof_kws=prof_kws,\n",
    "        labels=dims_units,\n",
    "        norm=norm,\n",
    "        frac_thresh=1e-6,\n",
    "    )\n",
    "    plt.savefig(f'_output/int_corner_norm{norm}.png')\n",
    "    plt.show()"
   ]
  },
  {
   "cell_type": "markdown",
   "id": "9bbc560d-1f53-4999-b262-3e6a60c3dd03",
   "metadata": {},
   "source": [
    "### Slices"
   ]
  },
  {
   "cell_type": "code",
   "execution_count": null,
   "id": "8e36b0a1-f5eb-4520-b3a8-5ff72a9df1db",
   "metadata": {},
   "outputs": [],
   "source": [
    "ind = np.unravel_index(np.argmax(f), f.shape)\n",
    "ind = tuple([i for i in ind])\n",
    "print(ind)"
   ]
  },
  {
   "cell_type": "code",
   "execution_count": null,
   "id": "76517e3b-cf41-46c6-8aed-92b26d14389c",
   "metadata": {},
   "outputs": [],
   "source": [
    "frac_thresh = 1e-5\n",
    "prof = True\n",
    "\n",
    "axes_slice = [(k, j, i) for i in range(f.ndim) for j in range(i) for k in range(j)]\n",
    "axes_view = [tuple([i for i in range(f.ndim) if i not in axis])\n",
    "             for axis in axes_slice]\n",
    "for axis, axis_view in zip(axes_slice, axes_view):\n",
    "    idx = utils.make_slice(5, axis, [ind[i] for i in axis])\n",
    "    f_slice = f[idx]\n",
    "    f_slice = f_slice / np.max(f_slice)\n",
    "    \n",
    "    dim1, dim2 = [dims[i] for i in axis_view]\n",
    "    \n",
    "    fig, plot_axes = pplt.subplots(ncols=2)\n",
    "    for ax, norm in zip(plot_axes, [None, 'log']):\n",
    "        mplt.plot_image(f_slice, x=coords[axis_view[0]], y=coords[axis_view[1]],\n",
    "                        ax=ax,\n",
    "                        profx=prof, profy=prof, prof_kws=prof_kws,\n",
    "                        frac_thresh=frac_thresh, norm=norm, colorbar=True)\n",
    "    plot_axes.format(xlabel=dim1, ylabel=dim2)\n",
    "    string = '_output/int_slice_'\n",
    "    for i in axis:\n",
    "        string += f'{dims[i]}-{ind[i]}'\n",
    "    _dims = [dims[i] for i in axis]\n",
    "    _units = [units[i] for i in axis]\n",
    "    _vals = [coords[i][ind[i]] for i in axis]\n",
    "    plot_axes.format(suptitle=f'{_dims[0]} = {_vals[0]:.2f} [{_units[0]}],  {_dims[1]} = {_vals[1]:.2f} [{_units[1]}],  {_dims[2]} = {_vals[2]:.2f} [{_units[2]}]')\n",
    "    plot_axes.format(suptitle_kw=dict(fontweight='normal'))\n",
    "    plt.savefig(string + '.png')\n",
    "    plt.show()"
   ]
  },
  {
   "cell_type": "markdown",
   "id": "cfc26fcf-3612-4fd2-8d7a-721e6fb81776",
   "metadata": {},
   "source": [
    "## Interactive plots"
   ]
  },
  {
   "cell_type": "markdown",
   "id": "26ba4ab9-8443-474d-be52-2a60060f3828",
   "metadata": {},
   "source": [
    "### 2D projection of int slice "
   ]
  },
  {
   "cell_type": "markdown",
   "id": "3ad791ac-26b1-4078-9c04-2963940d1718",
   "metadata": {},
   "source": [
    "Slicing along each dimension is controlled by the checkboxes and sliders. The sliced distribution is projected onto dimensions `dim1` and `dim2`. "
   ]
  },
  {
   "cell_type": "code",
   "execution_count": null,
   "id": "1154d277-98ef-4650-a68f-fe79344f0a9c",
   "metadata": {},
   "outputs": [],
   "source": [
    "mplt.interactive_proj2d(f / np.max(f), coords=coords, default_ind=(2, 3),\n",
    "                        slider_type='int', dims=dims, units=units)"
   ]
  },
  {
   "cell_type": "markdown",
   "id": "4f815248-e1e7-4994-9c30-b57e7ff63c4a",
   "metadata": {},
   "source": [
    "### 2D projection of range slice"
   ]
  },
  {
   "cell_type": "markdown",
   "id": "ec958384-abaa-4ad5-97f1-9658c4e2d550",
   "metadata": {},
   "source": [
    "Unfortunately, ipywidgets does not currently allow you to drag the center of the slider. "
   ]
  },
  {
   "cell_type": "code",
   "execution_count": null,
   "id": "86deac93-00a5-4e9c-9c70-a1930babc24e",
   "metadata": {},
   "outputs": [],
   "source": [
    "mplt.interactive_proj2d(f / np.max(f), coords=coords, default_ind=(2, 3),\n",
    "                        slider_type='range', dims=dims, units=units)"
   ]
  },
  {
   "cell_type": "markdown",
   "id": "bd08a8a8-2fb1-44d5-975f-b6aaab90fb9e",
   "metadata": {},
   "source": [
    "## Emittance vs. energy"
   ]
  },
  {
   "cell_type": "markdown",
   "id": "5ee6f61c-134b-487d-95a2-2c1055ce8529",
   "metadata": {},
   "source": [
    "Compute the 5$\\times$5 covariance matrix (this will take a few minutes)."
   ]
  },
  {
   "cell_type": "code",
   "execution_count": null,
   "id": "4020b6de-7102-4d7d-9546-37bf86e68fde",
   "metadata": {},
   "outputs": [],
   "source": [
    "Sigma, means = utils.dist_cov(f, coords)"
   ]
  },
  {
   "cell_type": "code",
   "execution_count": null,
   "id": "f37cd67a-a45e-4e1e-bdd2-1b3c8de0a208",
   "metadata": {},
   "outputs": [],
   "source": [
    "from sympy import Matrix\n",
    "Matrix(np.round(Sigma, 3))"
   ]
  },
  {
   "cell_type": "markdown",
   "id": "8404286e-f9d3-40e2-be64-8875305a99d7",
   "metadata": {
    "tags": []
   },
   "source": [
    "Compute the 5$\\times$5 correlation matrix from the covariance matrix."
   ]
  },
  {
   "cell_type": "code",
   "execution_count": null,
   "id": "0bcd1a00-7872-4e03-a054-c61ffef99209",
   "metadata": {},
   "outputs": [],
   "source": [
    "Corr = utils.cov2corr(Sigma)\n",
    "Matrix(np.round(Corr, 3))"
   ]
  },
  {
   "cell_type": "code",
   "execution_count": null,
   "id": "25d7b818-28e9-42b0-92cb-ed6969cc47c7",
   "metadata": {},
   "outputs": [],
   "source": [
    "i, j = (0, 4)\n",
    "angle, cx, cy = utils.rms_ellipse_dims(Sigma[i, i], Sigma[j, j], Sigma[i, j])\n",
    "center = (means[i], means[j])\n",
    "width = 4.0 * cx\n",
    "height = 4.0 * cy\n",
    "\n",
    "fig, ax = pplt.subplots()\n",
    "ax.pcolormesh(coords[i], coords[j], utils.project(f, (i, j)).T)\n",
    "ax.add_patch(\n",
    "    patches.Ellipse(\n",
    "        center, width=width, height=height, angle=-np.degrees(angle),\n",
    "        ec='white', fill=False))\n",
    "ax.format(xlabel=dims_units[i], ylabel=dims_units[j])\n",
    "plt.show()"
   ]
  },
  {
   "cell_type": "code",
   "execution_count": null,
   "id": "2c25640e-7eb9-4f30-8c05-3bbf40f55306",
   "metadata": {},
   "outputs": [],
   "source": [
    "axes = mplt.corner(\n",
    "    f,\n",
    "    coords=coords,\n",
    "    prof=False,\n",
    "    prof_kws=dict(alpha=0.5, lw=0.9),\n",
    "    labels=dims_units,\n",
    "    frac_thresh=1e-6,\n",
    ")\n",
    "for i in range(5):\n",
    "    for j in range(i + 1):\n",
    "        ax = axes[i, j]\n",
    "        angle, cx, cy = utils.rms_ellipse_dims(Sigma[j, j], Sigma[i + 1, i + 1], Sigma[i + 1, j])\n",
    "        center = (means[j], means[i + 1])\n",
    "        width = 4.0 * cx\n",
    "        height = 4.0 * cy\n",
    "        angle = -np.degrees(angle)\n",
    "        ax.add_patch(patches.Ellipse(center, width, height, angle=angle,\n",
    "                                     ec='white', fill=False))\n",
    "plt.savefig('_output/int_corner_cov.png')\n",
    "plt.show()"
   ]
  },
  {
   "cell_type": "code",
   "execution_count": null,
   "id": "28c1d761-5bfa-45fa-ae15-5e982e89d382",
   "metadata": {},
   "outputs": [],
   "source": [
    "import tools.analysis as ba\n",
    "alpha_x, alpha_y, beta_x, beta_y = ba.twiss2D(Sigma)\n",
    "eps_x, eps_y, eps_1, eps_2 = ba.emittances(Sigma)\n",
    "print(f'alpha_x = {alpha_x}')\n",
    "print(f'alpha_y = {alpha_y}')\n",
    "print(f'beta_x = {beta_x}')\n",
    "print(f'beta_y = {beta_y}')\n",
    "print(f'epsx = {eps_x}')\n",
    "print(f'epsy = {eps_y}')\n",
    "print(f'eps1 = {eps_1}')\n",
    "print(f'eps2 = {eps_2}')"
   ]
  },
  {
   "cell_type": "markdown",
   "id": "e0352fac-8c62-45a0-b5df-ec73166e7bb6",
   "metadata": {},
   "source": [
    "Try computing emittances for each energy slice."
   ]
  },
  {
   "cell_type": "code",
   "execution_count": null,
   "id": "8c8ea8a9-f21d-451d-9278-8fd499c3aa12",
   "metadata": {},
   "outputs": [],
   "source": [
    "f3d = utils.project(f, (i, j, 4))"
   ]
  },
  {
   "cell_type": "code",
   "execution_count": null,
   "id": "a5fefe70-2f12-4f74-9130-1cab41dc5404",
   "metadata": {},
   "outputs": [],
   "source": [
    "_Sigmas = []  # transverse covariance matrices\n",
    "_means = []  # transverse mean\n",
    "for k in trange(shape[4]):\n",
    "    _Sigma, _mean = utils.dist_cov(f[:, :, :, :, k], coords[:4])\n",
    "    _Sigmas.append(_Sigma)\n",
    "    _means.append(_mean)"
   ]
  },
  {
   "cell_type": "code",
   "execution_count": null,
   "id": "56ab68d5-47a0-4715-bd4b-edf2ff2af823",
   "metadata": {},
   "outputs": [],
   "source": [
    "_emittances = []\n",
    "for _Sigma in _Sigmas:\n",
    "    _emittances.append(ba.emittances(_Sigma))\n",
    "_emittances = np.array(_emittances)\n",
    "eps_x, eps_y, eps_1, eps_2 = ba.emittances(Sigma)"
   ]
  },
  {
   "cell_type": "code",
   "execution_count": null,
   "id": "80773461-d79c-40d9-9e0c-79e82c8946b0",
   "metadata": {},
   "outputs": [],
   "source": [
    "colors = pplt.Cycle('colorblind').by_key()['color']\n",
    "labels = [r'$\\varepsilon_x$', r'$\\varepsilon_y$', r'$\\varepsilon_1$', r'$\\varepsilon_2$']\n",
    "\n",
    "fig, ax = pplt.subplots(figsize=(4.5, 2.5))\n",
    "for i in range(2):\n",
    "    ax.plot(coords[4], _emittances[:, i], label=labels[i], marker='.', ms=3)\n",
    "for i in range(2):\n",
    "    ax.axhline([eps_x, eps_y, eps_1, eps_2][i], color=colors[i], label=labels[i]+' (full)', \n",
    "               alpha=0.3, ls='-')\n",
    "ax.format(ylabel='[mm mrad]', xlabel='w [MeV]', title='Energy slice emittances')\n",
    "ax.legend(ncols=1, loc='r')\n",
    "plt.savefig('_output/int_slice_emittances.png')"
   ]
  },
  {
   "cell_type": "code",
   "execution_count": null,
   "id": "fa6ce2a4-e600-4e19-8dd4-9dba704e2db2",
   "metadata": {},
   "outputs": [],
   "source": [
    "n = 12\n",
    "ncols = 6\n",
    "\n",
    "for (i, j) in [(0, 1), (2, 3)]:\n",
    "    f3d = utils.project(f, (i, j, 4))\n",
    "    step = f3d.shape[2] // n\n",
    "    nrows = int(np.ceil(n / ncols))\n",
    "    w_coords = coords[4]\n",
    "    ks = np.arange(0, f3d.shape[2], step)\n",
    "\n",
    "    fig, axes = pplt.subplots(ncols=ncols, nrows=nrows, figwidth=9.0)\n",
    "    for ax, k in zip(axes, ks):\n",
    "        ax.pcolormesh(coords[i], coords[j], f3d[:, :, k].T)\n",
    "        ax.annotate(f'w = {w_coords[k]:.2f} [MeV]', xy=(0.02, 0.98), verticalalignment='top',\n",
    "                    xycoords='axes fraction', fontsize='small', color='white')\n",
    "    axes.format(xlabel=dims_units[i], ylabel=dims_units[j])\n",
    "    plt.savefig(f'_output/int_slice_plots_{dims[i]}.png')\n",
    "    plt.show()"
   ]
  },
  {
   "cell_type": "code",
   "execution_count": null,
   "id": "190f4554-1f80-4a1f-9aac-8a0fac5b83f7",
   "metadata": {},
   "outputs": [],
   "source": []
  }
 ],
 "metadata": {
  "kernelspec": {
   "display_name": "myenv",
   "language": "python",
   "name": "myenv"
  },
  "language_info": {
   "codemirror_mode": {
    "name": "ipython",
    "version": 3
   },
   "file_extension": ".py",
   "mimetype": "text/x-python",
   "name": "python",
   "nbconvert_exporter": "python",
   "pygments_lexer": "ipython3",
   "version": "3.9.7"
  }
 },
 "nbformat": 4,
 "nbformat_minor": 5
}
