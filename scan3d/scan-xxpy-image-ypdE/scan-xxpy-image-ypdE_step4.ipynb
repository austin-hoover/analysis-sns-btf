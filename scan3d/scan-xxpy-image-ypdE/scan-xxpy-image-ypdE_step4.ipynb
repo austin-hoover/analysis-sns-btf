{
 "cells": [
  {
   "cell_type": "code",
   "execution_count": null,
   "id": "bde7f506-2600-46d2-b1cc-86b60b566413",
   "metadata": {},
   "outputs": [],
   "source": [
    "import sys\n",
    "import os\n",
    "from os.path import join\n",
    "import time\n",
    "from datetime import datetime\n",
    "import importlib\n",
    "import numpy as np\n",
    "import pandas as pd\n",
    "import h5py\n",
    "import imageio\n",
    "from scipy import ndimage\n",
    "from scipy import interpolate\n",
    "import skimage\n",
    "from tqdm import tqdm\n",
    "from tqdm import trange\n",
    "from matplotlib import pyplot as plt\n",
    "from matplotlib import colors\n",
    "import plotly.graph_objs as go\n",
    "from ipywidgets import interact\n",
    "from ipywidgets import interactive\n",
    "from ipywidgets import interactive_output\n",
    "from ipywidgets import widgets\n",
    "from IPython.display import display\n",
    "import proplot as pplt\n",
    "\n",
    "sys.path.append('../..')\n",
    "from tools import energyVS06 as energy\n",
    "from tools import image_processing as ip\n",
    "from tools import plotting as mplt\n",
    "from tools import utils\n",
    "from tools.utils import project"
   ]
  },
  {
   "cell_type": "code",
   "execution_count": null,
   "id": "27b21d49-8ae0-4e4e-9d31-18f30b35f6d3",
   "metadata": {},
   "outputs": [],
   "source": [
    "pplt.rc['grid'] = False\n",
    "pplt.rc['cmap.discrete'] = False\n",
    "pplt.rc['cmap.sequential'] = 'viridis'\n",
    "pplt.rc['figure.facecolor'] = 'white'"
   ]
  },
  {
   "cell_type": "markdown",
   "id": "e9d46027-149d-445c-8419-82b0f656e35e",
   "metadata": {},
   "source": [
    "## Load data "
   ]
  },
  {
   "cell_type": "code",
   "execution_count": null,
   "id": "daa40b99-f912-4a13-b157-18ca5b93cd22",
   "metadata": {},
   "outputs": [],
   "source": [
    "folder = '.'"
   ]
  },
  {
   "cell_type": "code",
   "execution_count": null,
   "id": "3ef9ce2f-f73b-4949-b560-5e987d9326a4",
   "metadata": {},
   "outputs": [],
   "source": [
    "shape = tuple(np.loadtxt(join(folder, 'a5d_new_shape.txt')).astype(int))\n",
    "shape"
   ]
  },
  {
   "cell_type": "code",
   "execution_count": null,
   "id": "aa667a98-9d95-4163-9f51-45d1360cd93f",
   "metadata": {},
   "outputs": [],
   "source": [
    "coords = utils.load_stacked_arrays('coords.npz')\n",
    "for c in coords:\n",
    "    print(c.shape)"
   ]
  },
  {
   "cell_type": "code",
   "execution_count": null,
   "id": "96cbe823-0da8-4033-a64b-7ed46bfd8832",
   "metadata": {},
   "outputs": [],
   "source": [
    "f = np.memmap(join(folder, 'a5d_new.mmp'), shape=shape, dtype='float', mode='r')"
   ]
  },
  {
   "cell_type": "code",
   "execution_count": null,
   "id": "2d012110-8265-47d4-9722-a9b4691d388d",
   "metadata": {},
   "outputs": [],
   "source": [
    "f.shape"
   ]
  },
  {
   "cell_type": "code",
   "execution_count": null,
   "id": "fddf7705-b2e7-4180-a0bb-5ac824466282",
   "metadata": {},
   "outputs": [],
   "source": [
    "print(f'min(f) = {np.min(f)}')\n",
    "f = np.clip(f, 0.0, None)"
   ]
  },
  {
   "cell_type": "markdown",
   "id": "b97c1d88-e0a3-4fb7-a729-e25258a3a5e9",
   "metadata": {},
   "source": [
    "## Static plots "
   ]
  },
  {
   "cell_type": "code",
   "execution_count": null,
   "id": "f74b6644-5f2c-463a-8fe0-bb71bdda8975",
   "metadata": {},
   "outputs": [],
   "source": [
    "dims = [\"x\", \"xp\", \"y\", \"yp\", \"w\"]\n",
    "units = [\"mm\", \"mrad\", \"mm\", \"mrad\", \"MeV\"]\n",
    "dims_units = [f'{d} [{u}]' for d, u in zip(dims, units)]\n",
    "dim_to_int = {dim: i for i, dim in enumerate(dims)}"
   ]
  },
  {
   "cell_type": "markdown",
   "id": "8159a04a-60c7-47ba-a3ef-fa435c22662c",
   "metadata": {},
   "source": [
    "### Projections"
   ]
  },
  {
   "cell_type": "code",
   "execution_count": null,
   "id": "2130b5ba-9669-4a27-a2d1-d9d7a7fe551d",
   "metadata": {},
   "outputs": [],
   "source": [
    "for norm in [None, 'log']:\n",
    "    axes = mplt.corner(\n",
    "        f[:, :, :, :, ::-1],\n",
    "        coords=coords,\n",
    "        fig_kws=dict(figwidth=1.5*4, space=1),\n",
    "        diag_kind='None',\n",
    "        prof='edges',\n",
    "        prof_kws=dict(alpha=0.5, lw=0.9),\n",
    "        labels=dims_units,\n",
    "        norm=norm,\n",
    "        frac_thresh=1e-6,\n",
    "    )\n",
    "    plt.savefig(f'_output/corner_int_norm{norm}.png')\n",
    "    plt.show()"
   ]
  },
  {
   "cell_type": "markdown",
   "id": "9bbc560d-1f53-4999-b262-3e6a60c3dd03",
   "metadata": {},
   "source": [
    "### Slices"
   ]
  },
  {
   "cell_type": "code",
   "execution_count": null,
   "id": "8e36b0a1-f5eb-4520-b3a8-5ff72a9df1db",
   "metadata": {},
   "outputs": [],
   "source": [
    "ind = np.unravel_index(np.argmax(f), f.shape)\n",
    "ind = tuple([i for i in ind])\n",
    "print(ind)"
   ]
  },
  {
   "cell_type": "code",
   "execution_count": null,
   "id": "092a8ba4-53f2-4fa6-873f-b7671e4d6da0",
   "metadata": {},
   "outputs": [],
   "source": [
    "_dims = [\"x\", \"xp\", \"y\", \"yp\", \"w\"]\n",
    "_units = [\"mm\", \"mrad\", \"mm\", \"mrad\", \"MeV\"]"
   ]
  },
  {
   "cell_type": "code",
   "execution_count": null,
   "id": "76517e3b-cf41-46c6-8aed-92b26d14389c",
   "metadata": {},
   "outputs": [],
   "source": [
    "frac_thresh = 1e-5\n",
    "axes_slice = [(k, j, i) for i in range(f.ndim) for j in range(i) for k in range(j)]\n",
    "axes_view = [tuple([i for i in range(f.ndim) if i not in axis])\n",
    "             for axis in axes_slice]\n",
    "for axis, axis_view in zip(axes_slice, axes_view):\n",
    "    idx = utils.make_slice(5, axis, [ind[i] for i in axis])\n",
    "    f_slice = f[idx]\n",
    "    f_slice = f_slice / np.max(f_slice)\n",
    "    \n",
    "    dim1, dim2 = [dims[i] for i in axis_view]\n",
    "    \n",
    "    fig, plot_axes = pplt.subplots(ncols=2)\n",
    "    for ax, norm in zip(plot_axes, [None, 'log']):\n",
    "        mplt.plot_image(f_slice, x=coords[axis_view[0]], y=coords[axis_view[1]], ax=ax, frac_thresh=frac_thresh, norm=norm, colorbar=True)\n",
    "    plot_axes.format(xlabel=dim1, ylabel=dim2)\n",
    "    string = '_output/slice_'\n",
    "    for i in axis:\n",
    "        string += f'{_dims[i]}-{ind[i]}'\n",
    "    __dims = [_dims[i] for i in axis]\n",
    "    __units = [_units[i] for i in axis]\n",
    "    _vals = [coords[i][ind[i]] for i in axis]\n",
    "    plot_axes.format(suptitle=f'{__dims[0]} = {_vals[0]:.2f} [{__units[0]}],  {__dims[1]} = {_vals[1]:.2f} [{__units[1]}],  {__dims[2]} = {_vals[2]:.2f} [{__units[2]}]')\n",
    "    plot_axes.format(suptitle_kw=dict(fontweight='normal'))\n",
    "    plt.savefig(string + '.png')\n",
    "    plt.show()"
   ]
  },
  {
   "cell_type": "markdown",
   "id": "cfc26fcf-3612-4fd2-8d7a-721e6fb81776",
   "metadata": {},
   "source": [
    "## Interactive plots"
   ]
  },
  {
   "cell_type": "code",
   "execution_count": null,
   "id": "106f7078-047c-4302-b5df-ae0204e21df9",
   "metadata": {},
   "outputs": [],
   "source": [
    "cmaps = ['viridis', 'dusk_r', 'mono_r', 'plasma']"
   ]
  },
  {
   "cell_type": "markdown",
   "id": "d51bca24-10e2-41ba-87ac-7f6e39a7c473",
   "metadata": {},
   "source": [
    "Pre-compute the full 2D projections to speed up rendering on some plots."
   ]
  },
  {
   "cell_type": "code",
   "execution_count": null,
   "id": "5784f8e9-5143-4df5-ab97-45821dd0f375",
   "metadata": {},
   "outputs": [],
   "source": [
    "projections = []\n",
    "for i in trange(5):\n",
    "    projections.append([])\n",
    "    for j in range(5):\n",
    "        projections[i].append(utils.project(f, (i, j)))"
   ]
  },
  {
   "cell_type": "markdown",
   "id": "6178545c-6d64-400e-a9f5-5f6777355604",
   "metadata": {},
   "source": [
    "### Projections "
   ]
  },
  {
   "cell_type": "code",
   "execution_count": null,
   "id": "d6d8cf4d-a585-4951-ae0f-c5a598c4d698",
   "metadata": {},
   "outputs": [],
   "source": [
    "def update_projection(dim1, dim2, cmap, thresh, log, discrete, contour, profiles):\n",
    "    if dim1 == dim2:\n",
    "        return\n",
    "    i, j = [dim_to_int[dim] for dim in [dim1, dim2]]\n",
    "    H = projections[i][j]\n",
    "    \n",
    "    fig, ax = pplt.subplots()\n",
    "    mplt.plot_image(\n",
    "        H / np.max(H), x=coords[i], y=coords[j], ax=ax, \n",
    "        norm='log' if log else None,\n",
    "        frac_thresh=10.0**thresh,\n",
    "        discrete=discrete,\n",
    "        cmap=cmap,\n",
    "        colorbar=True,\n",
    "        profx=profiles,\n",
    "        profy=profiles,\n",
    "        prof_kws=dict(lw=1.0, alpha=0.75, color='white', scale=0.15),\n",
    "        contour=contour,\n",
    "        contour_kws=None,\n",
    "    )\n",
    "    ax.format(xlabel=dims_units[i], ylabel=dims_units[j])\n",
    "    plt.show()"
   ]
  },
  {
   "cell_type": "code",
   "execution_count": null,
   "id": "bacf8b4e-caae-4a0c-ab4b-d5f29a497b07",
   "metadata": {},
   "outputs": [],
   "source": [
    "def update_projection_panels(dim1, dim2, cmap, thresh, log, discrete, contour, profiles):\n",
    "    \"\"\"Plots projections on panel axes (top/right).\"\"\"\n",
    "    if dim1 == dim2:\n",
    "        return\n",
    "    i, j = [dim_to_int[dim] for dim in [dim1, dim2]]\n",
    "    x = coords[i]\n",
    "    y = coords[j]\n",
    "    H = projections[i][j] / np.max(projections[i][j])\n",
    "    \n",
    "    fig, ax = pplt.subplots()\n",
    "    if profiles:\n",
    "        px = np.sum(H, axis=1)\n",
    "        py = np.sum(H, axis=0)\n",
    "        paxes = [ax.panel_axes(loc, space=0, width='3em') for loc in 'tr']\n",
    "        for pax in paxes:\n",
    "            pax.format(xspineloc='neither', yspineloc='neither')\n",
    "        kw = dict(color='black', lw=1.0)\n",
    "        paxes[0].plot(x, px, **kw)\n",
    "        paxes[1].plotx(y, py, **kw)\n",
    "    ax, mesh = mplt.plot_image(\n",
    "        H, x=x, y=y, ax=ax, \n",
    "        frac_thresh=10.0**thresh,\n",
    "        contour=contour,\n",
    "        contour_kws=None,\n",
    "        return_mesh=True,\n",
    "        norm='log' if log else None,\n",
    "        discrete=discrete,\n",
    "        cmap=cmap,\n",
    "    )\n",
    "    if colorbar:\n",
    "        space = 2 if profiles else None\n",
    "        ax.colorbar(mesh, space=space)\n",
    "\n",
    "    ax.format(xlabel=dims_units[i], ylabel=dims_units[j])\n",
    "    plt.show()"
   ]
  },
  {
   "cell_type": "code",
   "execution_count": null,
   "id": "70d29d53-9230-4033-8999-e0b137acdbd2",
   "metadata": {},
   "outputs": [],
   "source": [
    "dim1 = widgets.Dropdown(options=dims, index=2, description='dim 1')\n",
    "dim2 = widgets.Dropdown(options=dims, index=3, description='dim 2')\n",
    "cmap = widgets.Dropdown(options=cmaps, description='cmap')\n",
    "thresh = widgets.FloatSlider(value=-5.0, min=-8.0, max=0.0,  \n",
    "                             step=0.1, description='thresh')\n",
    "discrete = widgets.Checkbox(value=False, description='discrete')\n",
    "log = widgets.Checkbox(value=False, description='log')\n",
    "contour = widgets.Checkbox(value=False, description='contour')\n",
    "profiles = widgets.Checkbox(value=True, description='profiles')\n",
    "\n",
    "kwargs = dict(dim1=dim1, dim2=dim2, cmap=cmap,\n",
    "              thresh=thresh, log=log, discrete=discrete, contour=contour, profiles=profiles)\n",
    "interactive(update_projection, **kwargs)"
   ]
  },
  {
   "cell_type": "code",
   "execution_count": null,
   "id": "a8709391-dc04-4d83-b04b-25f387ba73ba",
   "metadata": {},
   "outputs": [],
   "source": []
  },
  {
   "cell_type": "code",
   "execution_count": null,
   "id": "cf8aa59d-9611-4c35-8929-b4125ae9350f",
   "metadata": {},
   "outputs": [],
   "source": []
  }
 ],
 "metadata": {
  "kernelspec": {
   "display_name": "Python 3 (ipykernel)",
   "language": "python",
   "name": "python3"
  },
  "language_info": {
   "codemirror_mode": {
    "name": "ipython",
    "version": 3
   },
   "file_extension": ".py",
   "mimetype": "text/x-python",
   "name": "python",
   "nbconvert_exporter": "python",
   "pygments_lexer": "ipython3",
   "version": "3.9.7"
  }
 },
 "nbformat": 4,
 "nbformat_minor": 5
}
