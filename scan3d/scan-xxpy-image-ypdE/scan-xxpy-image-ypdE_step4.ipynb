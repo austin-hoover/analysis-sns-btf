{
 "cells": [
  {
   "cell_type": "code",
   "execution_count": null,
   "id": "bde7f506-2600-46d2-b1cc-86b60b566413",
   "metadata": {},
   "outputs": [],
   "source": [
    "import sys\n",
    "import os\n",
    "from os.path import join\n",
    "import time\n",
    "from datetime import datetime\n",
    "import importlib\n",
    "import numpy as np\n",
    "import pandas as pd\n",
    "import h5py\n",
    "import imageio\n",
    "from scipy import ndimage\n",
    "from scipy import interpolate\n",
    "import skimage\n",
    "from tqdm import tqdm\n",
    "from tqdm import trange\n",
    "from matplotlib import pyplot as plt\n",
    "from matplotlib import colors\n",
    "import plotly.graph_objs as go\n",
    "from ipywidgets import interact\n",
    "import proplot as pplt\n",
    "\n",
    "sys.path.append('../..')\n",
    "from tools import energyVS06 as energy\n",
    "from tools import image_processing as ip\n",
    "from tools import plotting as mplt\n",
    "from tools import utils\n",
    "from tools.utils import project"
   ]
  },
  {
   "cell_type": "code",
   "execution_count": null,
   "id": "27b21d49-8ae0-4e4e-9d31-18f30b35f6d3",
   "metadata": {},
   "outputs": [],
   "source": [
    "pplt.rc['grid'] = False\n",
    "pplt.rc['cmap.discrete'] = False\n",
    "pplt.rc['cmap.sequential'] = 'viridis'"
   ]
  },
  {
   "cell_type": "code",
   "execution_count": null,
   "id": "daa40b99-f912-4a13-b157-18ca5b93cd22",
   "metadata": {},
   "outputs": [],
   "source": [
    "folder = '.'"
   ]
  },
  {
   "cell_type": "code",
   "execution_count": null,
   "id": "3ef9ce2f-f73b-4949-b560-5e987d9326a4",
   "metadata": {},
   "outputs": [],
   "source": [
    "shape = tuple(np.loadtxt(join(folder, 'a5d_new_shape.txt')).astype(int))\n",
    "shape"
   ]
  },
  {
   "cell_type": "code",
   "execution_count": null,
   "id": "aa667a98-9d95-4163-9f51-45d1360cd93f",
   "metadata": {},
   "outputs": [],
   "source": [
    "coords = utils.load_stacked_arrays('coords.npz')\n",
    "for c in coords:\n",
    "    print(c.shape)"
   ]
  },
  {
   "cell_type": "code",
   "execution_count": null,
   "id": "5b909128-3420-45ee-b34a-952a927fcdad",
   "metadata": {},
   "outputs": [],
   "source": [
    "for c in coords:\n",
    "    print(c)"
   ]
  },
  {
   "cell_type": "code",
   "execution_count": null,
   "id": "96cbe823-0da8-4033-a64b-7ed46bfd8832",
   "metadata": {},
   "outputs": [],
   "source": [
    "f = np.memmap(join(folder, 'a5d_new.mmp'), shape=shape, dtype='float', mode='r')"
   ]
  },
  {
   "cell_type": "code",
   "execution_count": null,
   "id": "2d012110-8265-47d4-9722-a9b4691d388d",
   "metadata": {},
   "outputs": [],
   "source": [
    "f.shape"
   ]
  },
  {
   "cell_type": "code",
   "execution_count": null,
   "id": "fddf7705-b2e7-4180-a0bb-5ac824466282",
   "metadata": {},
   "outputs": [],
   "source": [
    "f = np.clip(f, 0.0, None)"
   ]
  },
  {
   "cell_type": "code",
   "execution_count": null,
   "id": "2130b5ba-9669-4a27-a2d1-d9d7a7fe551d",
   "metadata": {},
   "outputs": [],
   "source": [
    "for norm in [None, 'log']:\n",
    "    axes = mplt.corner(\n",
    "        f,\n",
    "        coords=coords,\n",
    "        fig_kws=dict(figwidth=1.5*4),\n",
    "        cmap='viridis',\n",
    "        diag_kind='None',\n",
    "        prof='edges',\n",
    "        prof_kws=dict(alpha=0.5, lw=0.9),\n",
    "        labels=[\"x [mm]\", \"xp [mrad]\", \"y [mm]\", \"yp [mrad]\", \"w [MeV]\"],\n",
    "        norm=norm,\n",
    "        frac_thresh=1e-5,\n",
    "    )\n",
    "    plt.savefig(f'_output/corner_int_norm{norm}.png')\n",
    "    plt.show()"
   ]
  },
  {
   "cell_type": "code",
   "execution_count": null,
   "id": "76517e3b-cf41-46c6-8aed-92b26d14389c",
   "metadata": {},
   "outputs": [],
   "source": []
  }
 ],
 "metadata": {
  "kernelspec": {
   "display_name": "Python 3 (ipykernel)",
   "language": "python",
   "name": "python3"
  },
  "language_info": {
   "codemirror_mode": {
    "name": "ipython",
    "version": 3
   },
   "file_extension": ".py",
   "mimetype": "text/x-python",
   "name": "python",
   "nbconvert_exporter": "python",
   "pygments_lexer": "ipython3",
   "version": "3.9.7"
  }
 },
 "nbformat": 4,
 "nbformat_minor": 5
}
