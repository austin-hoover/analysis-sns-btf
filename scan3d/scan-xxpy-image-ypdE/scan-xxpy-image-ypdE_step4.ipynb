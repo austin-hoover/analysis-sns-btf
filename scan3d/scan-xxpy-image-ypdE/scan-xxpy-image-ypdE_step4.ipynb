{
 "cells": [
  {
   "cell_type": "markdown",
   "id": "d57c07ab-d192-4b0c-8548-8d4b1f8bf7f4",
   "metadata": {},
   "source": [
    "# Step 4: visualization"
   ]
  },
  {
   "cell_type": "code",
   "execution_count": null,
   "id": "bde7f506-2600-46d2-b1cc-86b60b566413",
   "metadata": {},
   "outputs": [],
   "source": [
    "import sys\n",
    "import os\n",
    "from os.path import join\n",
    "import time\n",
    "from datetime import datetime\n",
    "import importlib\n",
    "import numpy as np\n",
    "import pandas as pd\n",
    "import h5py\n",
    "import imageio\n",
    "from scipy import ndimage\n",
    "from scipy import interpolate\n",
    "import skimage\n",
    "from tqdm import tqdm\n",
    "from tqdm import trange\n",
    "import matplotlib as mpl\n",
    "from matplotlib import pyplot as plt\n",
    "from matplotlib import colors\n",
    "from matplotlib import patches\n",
    "import plotly.graph_objs as go\n",
    "from ipywidgets import interact\n",
    "from ipywidgets import interactive\n",
    "from ipywidgets import interactive_output\n",
    "from ipywidgets import widgets\n",
    "from IPython.display import display\n",
    "from IPython.display import clear_output\n",
    "import proplot as pplt\n",
    "\n",
    "sys.path.append('../..')\n",
    "from tools import energyVS06 as energy\n",
    "from tools import image_processing as ip\n",
    "from tools import plotting as mplt\n",
    "from tools import utils\n",
    "from tools.utils import project"
   ]
  },
  {
   "cell_type": "code",
   "execution_count": null,
   "id": "27b21d49-8ae0-4e4e-9d31-18f30b35f6d3",
   "metadata": {},
   "outputs": [],
   "source": [
    "mpl.rcParams['path.simplify'] = True\n",
    "mpl.rcParams['path.simplify_threshold'] = 1.0\n",
    "mpl.style.use('fast')\n",
    "pplt.rc['grid'] = False\n",
    "pplt.rc['cmap.discrete'] = False\n",
    "pplt.rc['cmap.sequential'] = 'viridis'\n",
    "pplt.rc['figure.facecolor'] = 'white'"
   ]
  },
  {
   "cell_type": "markdown",
   "id": "e9d46027-149d-445c-8419-82b0f656e35e",
   "metadata": {},
   "source": [
    "## Load data "
   ]
  },
  {
   "cell_type": "code",
   "execution_count": null,
   "id": "daa40b99-f912-4a13-b157-18ca5b93cd22",
   "metadata": {},
   "outputs": [],
   "source": [
    "folder = '_saved/2022-04-29'"
   ]
  },
  {
   "cell_type": "code",
   "execution_count": null,
   "id": "3ef9ce2f-f73b-4949-b560-5e987d9326a4",
   "metadata": {},
   "outputs": [],
   "source": [
    "shape = tuple(np.loadtxt(join(folder, 'a5d_new_shape.txt')).astype(int))\n",
    "shape"
   ]
  },
  {
   "cell_type": "code",
   "execution_count": null,
   "id": "aa667a98-9d95-4163-9f51-45d1360cd93f",
   "metadata": {},
   "outputs": [],
   "source": [
    "coords = utils.load_stacked_arrays(join(folder, 'coords.npz'))\n",
    "for c in coords:\n",
    "    print(c.shape)"
   ]
  },
  {
   "cell_type": "code",
   "execution_count": null,
   "id": "96cbe823-0da8-4033-a64b-7ed46bfd8832",
   "metadata": {},
   "outputs": [],
   "source": [
    "f = np.memmap(join(folder, 'a5d_new.mmp'), shape=shape, dtype='float', mode='r')"
   ]
  },
  {
   "cell_type": "code",
   "execution_count": null,
   "id": "fddf7705-b2e7-4180-a0bb-5ac824466282",
   "metadata": {},
   "outputs": [],
   "source": [
    "print(f'min(f) = {np.min(f)}')\n",
    "f = np.clip(f, 0.0, None)"
   ]
  },
  {
   "cell_type": "markdown",
   "id": "e1123dc5-8382-4a8d-9200-ebee3757c507",
   "metadata": {},
   "source": [
    "Flip the energy axis (for now)."
   ]
  },
  {
   "cell_type": "code",
   "execution_count": null,
   "id": "1de7b164-7ac6-4139-bd79-980b6853b308",
   "metadata": {},
   "outputs": [],
   "source": [
    "f = f[..., ::-1]"
   ]
  },
  {
   "cell_type": "markdown",
   "id": "b97c1d88-e0a3-4fb7-a729-e25258a3a5e9",
   "metadata": {},
   "source": [
    "## Static "
   ]
  },
  {
   "cell_type": "code",
   "execution_count": null,
   "id": "f74b6644-5f2c-463a-8fe0-bb71bdda8975",
   "metadata": {},
   "outputs": [],
   "source": [
    "dims = [\"x\", \"xp\", \"y\", \"yp\", \"w\"]\n",
    "units = [\"mm\", \"mrad\", \"mm\", \"mrad\", \"MeV\"]\n",
    "dims_units = [f'{d} [{u}]' for d, u in zip(dims, units)]\n",
    "dim_to_int = {dim: i for i, dim in enumerate(dims)}\n",
    "prof_kws = dict(lw=1.0, alpha=0.5, color='white', scale=0.15)"
   ]
  },
  {
   "cell_type": "markdown",
   "id": "8159a04a-60c7-47ba-a3ef-fa435c22662c",
   "metadata": {},
   "source": [
    "### Projections"
   ]
  },
  {
   "cell_type": "code",
   "execution_count": null,
   "id": "2130b5ba-9669-4a27-a2d1-d9d7a7fe551d",
   "metadata": {},
   "outputs": [],
   "source": [
    "for norm in [None, 'log']:\n",
    "    axes = mplt.corner(\n",
    "        f,\n",
    "        coords=coords,\n",
    "        diag_kind='None',  # {'line', 'None'}\n",
    "        prof='edges',  # {True, False, 'edges'}\n",
    "        prof_kws=prof_kws,\n",
    "        labels=dims_units,\n",
    "        norm=norm,\n",
    "        frac_thresh=1e-6,\n",
    "    )\n",
    "    plt.savefig(f'_output/corner_int_norm{norm}.png')\n",
    "    plt.show()"
   ]
  },
  {
   "cell_type": "markdown",
   "id": "9bbc560d-1f53-4999-b262-3e6a60c3dd03",
   "metadata": {},
   "source": [
    "### Slices"
   ]
  },
  {
   "cell_type": "code",
   "execution_count": null,
   "id": "8e36b0a1-f5eb-4520-b3a8-5ff72a9df1db",
   "metadata": {},
   "outputs": [],
   "source": [
    "ind = np.unravel_index(np.argmax(f), f.shape)\n",
    "ind = tuple([i for i in ind])\n",
    "print(ind)"
   ]
  },
  {
   "cell_type": "code",
   "execution_count": null,
   "id": "76517e3b-cf41-46c6-8aed-92b26d14389c",
   "metadata": {},
   "outputs": [],
   "source": [
    "frac_thresh = 1e-5\n",
    "prof = True\n",
    "\n",
    "axes_slice = [(k, j, i) for i in range(f.ndim) for j in range(i) for k in range(j)]\n",
    "axes_view = [tuple([i for i in range(f.ndim) if i not in axis])\n",
    "             for axis in axes_slice]\n",
    "for axis, axis_view in zip(axes_slice, axes_view):\n",
    "    idx = utils.make_slice(5, axis, [ind[i] for i in axis])\n",
    "    f_slice = f[idx]\n",
    "    f_slice = f_slice / np.max(f_slice)\n",
    "    \n",
    "    dim1, dim2 = [dims[i] for i in axis_view]\n",
    "    \n",
    "    fig, plot_axes = pplt.subplots(ncols=2)\n",
    "    for ax, norm in zip(plot_axes, [None, 'log']):\n",
    "        mplt.plot_image(f_slice, x=coords[axis_view[0]], y=coords[axis_view[1]],\n",
    "                        ax=ax,\n",
    "                        profx=prof, profy=prof, prof_kws=prof_kws,\n",
    "                        frac_thresh=frac_thresh, norm=norm, colorbar=True)\n",
    "    plot_axes.format(xlabel=dim1, ylabel=dim2)\n",
    "    string = '_output/slice_'\n",
    "    for i in axis:\n",
    "        string += f'{dims[i]}-{ind[i]}'\n",
    "    _dims = [dims[i] for i in axis]\n",
    "    _units = [units[i] for i in axis]\n",
    "    _vals = [coords[i][ind[i]] for i in axis]\n",
    "    plot_axes.format(suptitle=f'{_dims[0]} = {_vals[0]:.2f} [{_units[0]}],  {_dims[1]} = {_vals[1]:.2f} [{_units[1]}],  {_dims[2]} = {_vals[2]:.2f} [{_units[2]}]')\n",
    "    plot_axes.format(suptitle_kw=dict(fontweight='normal'))\n",
    "    plt.savefig(string + '.png')\n",
    "    plt.show()"
   ]
  },
  {
   "cell_type": "markdown",
   "id": "cfc26fcf-3612-4fd2-8d7a-721e6fb81776",
   "metadata": {},
   "source": [
    "## Interactive plots"
   ]
  },
  {
   "cell_type": "code",
   "execution_count": null,
   "id": "8e108550-56a4-4b48-8936-b7bb18564ac0",
   "metadata": {},
   "outputs": [],
   "source": [
    "# Widgets\n",
    "default_ind = (2, 3)  # plot on initial render\n",
    "cmaps = ['viridis', 'dusk_r', 'mono_r', 'plasma']\n",
    "cmap = widgets.Dropdown(options=cmaps, description='cmap')\n",
    "thresh = widgets.FloatSlider(value=-5.0, min=-8.0, max=0.0, step=0.1, description='thresh', continuous_update=True)\n",
    "discrete = widgets.Checkbox(value=False, description='discrete')\n",
    "log = widgets.Checkbox(value=False, description='log')\n",
    "contour = widgets.Checkbox(value=False, description='contour')\n",
    "profiles = widgets.Checkbox(value=True, description='profiles')\n",
    "scale = widgets.FloatSlider(value=0.15, min=0.0, max=1.0, step=0.01, description='scale')\n",
    "dim1 = widgets.Dropdown(options=dims, index=default_ind[0], description='dim 1')\n",
    "dim2 = widgets.Dropdown(options=dims, index=default_ind[1], description='dim 2')\n",
    "\n",
    "# Sliders\n",
    "sliders, range_sliders, checks = [], [], []\n",
    "for k in range(5):\n",
    "    slider = widgets.IntSlider(\n",
    "        min=0, max=shape[k], value=shape[k]//2,\n",
    "        description=dims[k], \n",
    "        continuous_update=True,\n",
    "    )\n",
    "    range_slider = widgets.IntRangeSlider(\n",
    "        value=(0, f.shape[k]), min=0, max=f.shape[k],\n",
    "        description=dims[k], \n",
    "        continuous_update=True,\n",
    "    )\n",
    "    for _slider in (slider, range_slider):\n",
    "        slider.layout.display = 'none'\n",
    "    sliders.append(slider)\n",
    "    range_sliders.append(range_slider)\n",
    "    checks.append(widgets.Checkbox(description=f'slice {dims[k]}'))\n",
    "    \n",
    "# Hide/show sliders.\n",
    "def hide(button):\n",
    "    for k in range(5):\n",
    "        # Hide elements for dimensions being plotted.\n",
    "        valid = dims[k] not in (dim1.value, dim2.value)\n",
    "        disp = None if valid else 'none'\n",
    "        for element in [sliders[k], range_sliders[k], checks[k]]:\n",
    "            element.layout.display = disp\n",
    "        # Uncheck boxes for dimensions being plotted. \n",
    "        if not valid and checks[k].value:\n",
    "            checks[k].value = False\n",
    "        # Make sliders respond to check boxes.\n",
    "        if not checks[k].value:\n",
    "            for slider in [sliders[k], range_sliders[k]]:\n",
    "                slider.layout.display = 'none'\n",
    "                \n",
    "for element in (dim1, dim2, *checks):\n",
    "    element.observe(hide, names='value')\n",
    "# Initial hide\n",
    "for k in range(5):\n",
    "    if k in default_ind:\n",
    "        checks[k].layout.display = 'none'\n",
    "    for slider in [sliders[k], range_sliders[k]]:\n",
    "        slider.layout.display = 'none'"
   ]
  },
  {
   "cell_type": "code",
   "execution_count": null,
   "id": "bca95da7-8e77-480f-af04-4ecb67eb0bbd",
   "metadata": {},
   "outputs": [],
   "source": [
    "def update(dim1, dim2, check_x, check_xp, check_y, check_yp, check_w, \n",
    "           x, xp, y, yp, w, log, profiles, thresh, cmap):\n",
    "    if (dim1 == dim2):\n",
    "        return\n",
    "    checks = [check_x, check_xp, check_y, check_yp, check_w]\n",
    "    for dim, check in zip(dims, checks):\n",
    "        if check and dim in (dim1, dim2):\n",
    "            return\n",
    "    axis_view = [dim_to_int[dim] for dim in (dim1, dim2)]\n",
    "    axis_slice = [dim_to_int[dim] for dim, check in zip(dims, checks) if check]\n",
    "    ind = [x, xp, y, yp, w]\n",
    "    ind = [(ind[k], ind[k] + 1) for k in axis_slice]\n",
    "    H = f[utils.make_slice(f.ndim, axis_slice, ind)]\n",
    "    H = utils.project(H, axis_view)\n",
    "    H_max = np.max(H)\n",
    "    if H_max > 0:\n",
    "        H = H / H_max\n",
    "        \n",
    "    fig, ax = pplt.subplots()\n",
    "    mplt.plot_image(\n",
    "        H, x=coords[axis_view[0]], y=coords[axis_view[1]], ax=ax, \n",
    "        norm='log' if log else None,\n",
    "        frac_thresh=10.0**thresh,\n",
    "        profx=profiles,\n",
    "        profy=profiles,\n",
    "        prof_kws=dict(lw=1.0, alpha=0.75, color='white', scale=0.15),\n",
    "        cmap=cmap,\n",
    "        colorbar=True,\n",
    "    )\n",
    "    ax.format(xlabel=dims_units[axis_view[0]], ylabel=dims_units[axis_view[1]])\n",
    "    plt.show()"
   ]
  },
  {
   "cell_type": "markdown",
   "id": "26ba4ab9-8443-474d-be52-2a60060f3828",
   "metadata": {},
   "source": [
    "### 2D projection of int slice "
   ]
  },
  {
   "cell_type": "markdown",
   "id": "3ad791ac-26b1-4078-9c04-2963940d1718",
   "metadata": {},
   "source": [
    "Slicing along each dimension is controlled by the checkboxes and sliders. The sliced distribution is projected onto dimensions `dim1` and `dim2`. "
   ]
  },
  {
   "cell_type": "code",
   "execution_count": null,
   "id": "028ad31c-b6d2-43d6-bb08-b317c6a68e24",
   "metadata": {},
   "outputs": [],
   "source": [
    "interactive(\n",
    "    update, \n",
    "    dim1=dim1, dim2=dim2, \n",
    "    check_x=checks[0], check_xp=checks[1], check_y=checks[2], check_yp=checks[3], check_w=checks[4],\n",
    "    x=sliders[0], xp=sliders[1], y=sliders[2], yp=sliders[3], w=sliders[4],\n",
    "    log=log, profiles=profiles, thresh=thresh, cmap=cmap,\n",
    ")"
   ]
  },
  {
   "cell_type": "markdown",
   "id": "4f815248-e1e7-4994-9c30-b57e7ff63c4a",
   "metadata": {},
   "source": [
    "### 2D projection of range slice"
   ]
  },
  {
   "cell_type": "markdown",
   "id": "ec958384-abaa-4ad5-97f1-9658c4e2d550",
   "metadata": {},
   "source": [
    "Unfortunately, ipywidgets does not currently allow you to drag the center of the slider. "
   ]
  },
  {
   "cell_type": "code",
   "execution_count": null,
   "id": "1f9ab531-836c-40e9-a71e-b95a993fedea",
   "metadata": {},
   "outputs": [],
   "source": [
    "interactive(\n",
    "    update, \n",
    "    dim1=dim1, dim2=dim2, \n",
    "    check_x=checks[0], check_xp=checks[1], check_y=checks[2], \n",
    "    check_yp=checks[3], check_w=checks[4],\n",
    "    x=range_sliders[0], xp=range_sliders[1], y=range_sliders[2], \n",
    "    yp=range_sliders[3], w=range_sliders[4],\n",
    "    log=log, profiles=profiles, thresh=thresh, cmap=cmap,\n",
    ")"
   ]
  },
  {
   "cell_type": "markdown",
   "id": "bd08a8a8-2fb1-44d5-975f-b6aaab90fb9e",
   "metadata": {},
   "source": [
    "## Emittance vs. energy"
   ]
  },
  {
   "cell_type": "markdown",
   "id": "5ee6f61c-134b-487d-95a2-2c1055ce8529",
   "metadata": {},
   "source": [
    "Compute the 5$\\times$5 covariance matrix (this will take a few minutes)."
   ]
  },
  {
   "cell_type": "code",
   "execution_count": null,
   "id": "4020b6de-7102-4d7d-9546-37bf86e68fde",
   "metadata": {},
   "outputs": [],
   "source": [
    "# Sigma, means = utils.dist_cov(f, coords)"
   ]
  },
  {
   "cell_type": "code",
   "execution_count": null,
   "id": "d94d5c0a-02ec-43cb-a71a-43fa05a1363b",
   "metadata": {},
   "outputs": [],
   "source": [
    "print(Sigma)"
   ]
  },
  {
   "cell_type": "code",
   "execution_count": null,
   "id": "25d7b818-28e9-42b0-92cb-ed6969cc47c7",
   "metadata": {},
   "outputs": [],
   "source": [
    "i, j = (0, 2)\n",
    "angle, cx, cy = utils.rms_ellipse_dims(Sigma[i, i], Sigma[j, j], Sigma[i, j])\n",
    "\n",
    "fig, ax = pplt.subplots()\n",
    "ax.pcolormesh(coords[i], coords[j], utils.project(f, (i, j)).T)\n",
    "ax.add_patch(\n",
    "    patches.Ellipse((means[i], means[j]), width=4.0*cx, height=4.0*cy, angle=-np.degrees(angle),\n",
    "                    ec='white', fill=False))\n",
    "plt.show()"
   ]
  },
  {
   "cell_type": "code",
   "execution_count": null,
   "id": "2c25640e-7eb9-4f30-8c05-3bbf40f55306",
   "metadata": {},
   "outputs": [],
   "source": [
    "axes = mplt.corner(\n",
    "    f,\n",
    "    coords=coords,\n",
    "    fig_kws=dict(figwidth=1.5*4, space=1),\n",
    "    diag_kind='None',\n",
    "    prof='edges',\n",
    "    prof_kws=dict(alpha=0.5, lw=0.9),\n",
    "    labels=dims_units,\n",
    "    frac_thresh=1e-6,\n",
    ")\n",
    "for i in range(4):\n",
    "    for j in range(i + 1):\n",
    "        ax = axes[i, j]\n",
    "        angle, cx, cy = utils.rms_ellipse_dims(Sigma[j, j], Sigma[i + 1, i + 1], Sigma[i + 1, j])\n",
    "        center = (means[j], means[i + 1])\n",
    "        width = 4.0 * cx\n",
    "        height = 4.0 * cy\n",
    "        angle = -np.degrees(angle)\n",
    "        ax.add_patch(patches.Ellipse(center, width, height, angle=angle,\n",
    "                                     ec='white', fill=False))\n",
    "plt.savefig('_output/corner_nodiag_cov.png')\n",
    "plt.show()"
   ]
  },
  {
   "cell_type": "code",
   "execution_count": null,
   "id": "28c1d761-5bfa-45fa-ae15-5e982e89d382",
   "metadata": {},
   "outputs": [],
   "source": [
    "alpha_x, alpha_y, beta_x, beta_y = twiss2D(Sigma)\n",
    "eps_x, eps_y, eps_1, eps_2 = emittances(Sigma)\n",
    "print(f'alpha_x = {alpha_x}')\n",
    "print(f'alpha_y = {alpha_y}')\n",
    "print(f'beta_x = {beta_x}')\n",
    "print(f'beta_y = {beta_y}')\n",
    "print(f'epsx = {eps_x}')\n",
    "print(f'epsy = {eps_y}')\n",
    "print(f'eps1 = {eps_1}')\n",
    "print(f'eps2 = {eps_2}')"
   ]
  },
  {
   "cell_type": "markdown",
   "id": "e0352fac-8c62-45a0-b5df-ec73166e7bb6",
   "metadata": {},
   "source": [
    "Try computing emittances for each energy slice."
   ]
  },
  {
   "cell_type": "code",
   "execution_count": null,
   "id": "8c8ea8a9-f21d-451d-9278-8fd499c3aa12",
   "metadata": {},
   "outputs": [],
   "source": [
    "f3d = utils.project(f, (i, j, 4))"
   ]
  },
  {
   "cell_type": "code",
   "execution_count": null,
   "id": "a5fefe70-2f12-4f74-9130-1cab41dc5404",
   "metadata": {},
   "outputs": [],
   "source": [
    "_Sigmas = []  # transverse covariance matrices\n",
    "_means = []  # transverse mean\n",
    "for k in trange(shape[4]):\n",
    "    _Sigma, _mean = utils.dist_cov(f[:, :, :, :, k], coords[:4])\n",
    "    _Sigmas.append(_Sigma)\n",
    "    _means.append(_mean)"
   ]
  },
  {
   "cell_type": "code",
   "execution_count": null,
   "id": "56ab68d5-47a0-4715-bd4b-edf2ff2af823",
   "metadata": {},
   "outputs": [],
   "source": [
    "_emittances = []\n",
    "for _Sigma in _Sigmas:\n",
    "    _emittances.append(emittances(_Sigma))\n",
    "_emittances = np.array(_emittances)"
   ]
  },
  {
   "cell_type": "code",
   "execution_count": null,
   "id": "7a4b9c87-301a-478b-b0e5-de973e066fcc",
   "metadata": {},
   "outputs": [],
   "source": [
    "eps_x, eps_y, eps_1, eps_2 = emittances(Sigma)"
   ]
  },
  {
   "cell_type": "code",
   "execution_count": null,
   "id": "80773461-d79c-40d9-9e0c-79e82c8946b0",
   "metadata": {},
   "outputs": [],
   "source": [
    "colors = pplt.Cycle('colorblind').by_key()['color']\n",
    "labels = [r'$\\varepsilon_x$', r'$\\varepsilon_y$', r'$\\varepsilon_1$', r'$\\varepsilon_2$']\n",
    "\n",
    "fig, ax = pplt.subplots(figsize=(4.5, 2.5))\n",
    "for i in range(2):\n",
    "    ax.plot(coords[4], _emittances[:, i], label=labels[i], marker='.', ms=3)\n",
    "for i in range(2):\n",
    "    ax.axhline([eps_x, eps_y, eps_1, eps_2][i], color=colors[i], label=labels[i]+' (full)', \n",
    "               alpha=0.3, ls='-')\n",
    "ax.format(ylabel='RMS emittance [mm mrad]', xlabel='w [MeV]', title='Energy slice emittances')\n",
    "ax.legend(ncols=1, loc='r')\n",
    "plt.savefig('_output/slice_emittances.png')"
   ]
  },
  {
   "cell_type": "code",
   "execution_count": null,
   "id": "fa6ce2a4-e600-4e19-8dd4-9dba704e2db2",
   "metadata": {},
   "outputs": [],
   "source": [
    "n = 12\n",
    "ncols = 6\n",
    "\n",
    "for (i, j) in [(0, 1), (2, 3)]:\n",
    "    f3d = utils.project(f, (i, j, 4))\n",
    "    step = f3d.shape[2] // n\n",
    "    nrows = int(np.ceil(n / ncols))\n",
    "    w_coords = coords[4]\n",
    "    ks = np.arange(0, f3d.shape[2], step)\n",
    "\n",
    "    fig, axes = pplt.subplots(ncols=ncols, nrows=nrows, figwidth=9.0)\n",
    "    for ax, k in zip(axes, ks):\n",
    "        ax.pcolormesh(coords[i], coords[j], f3d[:, :, k].T)\n",
    "        ax.annotate(f'w = {w_coords[k]:.2f} [MeV]', xy=(0.02, 0.98), verticalalignment='top',\n",
    "                    xycoords='axes fraction', fontsize='small', color='white')\n",
    "    axes.format(xlabel=dims_units[i], ylabel=dims_units[j])\n",
    "    plt.savefig(f'_output/slice_plots_{dims[i]}.png')\n",
    "    plt.show()"
   ]
  },
  {
   "cell_type": "code",
   "execution_count": null,
   "id": "190f4554-1f80-4a1f-9aac-8a0fac5b83f7",
   "metadata": {},
   "outputs": [],
   "source": []
  }
 ],
 "metadata": {
  "kernelspec": {
   "display_name": "myenv",
   "language": "python",
   "name": "myenv"
  },
  "language_info": {
   "codemirror_mode": {
    "name": "ipython",
    "version": 3
   },
   "file_extension": ".py",
   "mimetype": "text/x-python",
   "name": "python",
   "nbconvert_exporter": "python",
   "pygments_lexer": "ipython3",
   "version": "3.9.7"
  }
 },
 "nbformat": 4,
 "nbformat_minor": 5
}
