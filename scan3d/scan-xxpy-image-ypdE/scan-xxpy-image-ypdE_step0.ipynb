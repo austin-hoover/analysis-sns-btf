{
 "cells": [
  {
   "cell_type": "markdown",
   "id": "129c3f1b-a272-46e8-ba26-2c814b431d6c",
   "metadata": {
    "tags": []
   },
   "source": [
    "# Step 0"
   ]
  },
  {
   "cell_type": "markdown",
   "id": "0b59b23d-84b7-40f9-8dfd-46d6dd939e37",
   "metadata": {},
   "source": [
    "* Read the h5 file containing the scan data.\n",
    "* Process the camera images.\n",
    "    * Crop\n",
    "    * Threshold\n",
    "    * Downscale\n",
    "* Create a new h5 file with separate scalar (0D), waveform (1D), and image (2D) data sets. The new file name is \"prepoc-\" + the original file name."
   ]
  },
  {
   "cell_type": "code",
   "execution_count": null,
   "id": "7bc5f5bf-a777-4cbf-a9c7-02547a5191fd",
   "metadata": {},
   "outputs": [],
   "source": [
    "from datetime import datetime\n",
    "import importlib\n",
    "import json\n",
    "import numpy as np\n",
    "import os\n",
    "from pprint import pprint\n",
    "import sys\n",
    "\n",
    "import h5py\n",
    "import imageio\n",
    "from ipywidgets import interactive\n",
    "from ipywidgets import widgets\n",
    "from matplotlib import patches\n",
    "from matplotlib import pyplot as plt\n",
    "import proplot as pplt\n",
    "import skimage.transform\n",
    "from tqdm.notebook import tqdm\n",
    "from tqdm.notebook import trange\n",
    "\n",
    "sys.path.append('/home/46h/btf-data-analysis/')\n",
    "from tools import image_processing as ip\n",
    "from tools import utils\n",
    "\n",
    "sys.path.append('/home/46h/ps-dist/')\n",
    "from psdist import plotting as mplt"
   ]
  },
  {
   "cell_type": "code",
   "execution_count": null,
   "id": "38bc9335-4d1a-4afb-bded-f1b825effecf",
   "metadata": {},
   "outputs": [],
   "source": [
    "pplt.rc['cmap.discrete'] = False\n",
    "pplt.rc['cmap.sequential'] = 'viridis'\n",
    "pplt.rc['grid'] = False\n",
    "pplt.rc['savefig.dpi'] = 300.0"
   ]
  },
  {
   "cell_type": "markdown",
   "id": "968b179c-eda3-4948-b22d-a278a80c7bb5",
   "metadata": {
    "tags": []
   },
   "source": [
    "## Load data"
   ]
  },
  {
   "cell_type": "code",
   "execution_count": null,
   "id": "73ba5406-86d1-438f-a07b-3483f031064b",
   "metadata": {},
   "outputs": [],
   "source": [
    "datadir = '/home/share/Measurements/scan-xxpy-image-ypdE/2022-06-26/'\n",
    "filenames = os.listdir(datadir)\n",
    "filenames"
   ]
  },
  {
   "cell_type": "code",
   "execution_count": null,
   "id": "01e62cbf-eab6-4a0b-ae3d-f90a5e8c4509",
   "metadata": {},
   "outputs": [],
   "source": [
    "filename = '220626140058-scan-xxpy-image-ypdE'\n",
    "file = h5py.File(os.path.join(datadir, filename + '.h5'), 'r')\n",
    "print(list(file))"
   ]
  },
  {
   "cell_type": "markdown",
   "id": "6b3c2fd2-44bd-47e0-8c91-0d9549541adb",
   "metadata": {},
   "source": [
    "Create `info` dictionary to pass between notebooks."
   ]
  },
  {
   "cell_type": "code",
   "execution_count": null,
   "id": "6d1d91ca-1737-4840-a1ad-7c47bd123359",
   "metadata": {},
   "outputs": [],
   "source": [
    "info = dict()\n",
    "info['datadir'] = datadir\n",
    "info['filename'] = filename"
   ]
  },
  {
   "cell_type": "code",
   "execution_count": null,
   "id": "8fdaa7f6-63e9-4c2a-a9e2-e252d3d28794",
   "metadata": {},
   "outputs": [],
   "source": [
    "metadata = dict()\n",
    "for name in file['config']['metadata'].dtype.names:\n",
    "    metadata[name] = file['config']['metadata'][name]\n",
    "print('metadata:')\n",
    "pprint(metadata)\n",
    "info['metadata'] = metadata"
   ]
  },
  {
   "cell_type": "code",
   "execution_count": null,
   "id": "5d87aa23-3ec7-4eb1-a560-50fb2b9a4261",
   "metadata": {},
   "outputs": [],
   "source": [
    "if 'log' in file:\n",
    "    log = file['log']\n",
    "    print(f\"'log', {type(log)}\")\n",
    "    for item in log.dtype.fields.items():\n",
    "        print('  ', item)\n",
    "    print('\\nErrors and warnings:')\n",
    "    for i in range(log.size):\n",
    "        if not(log[i, 'level'] == 'INFO'.encode('utf')):\n",
    "            timestr = datetime.fromtimestamp(log[i, 'timestamp']).strftime(\"%m/%d/%Y, %H:%M:%S\")\n",
    "            print(f\"{timestr} {log[i, 'message']}\")"
   ]
  },
  {
   "cell_type": "code",
   "execution_count": null,
   "id": "bb3b3a9c-17ed-4da2-ae99-c06c310c0e75",
   "metadata": {},
   "outputs": [],
   "source": [
    "data = file['scandata']\n",
    "\n",
    "print(f\"'scandata', {type(data)}\")\n",
    "for item in data.dtype.fields.items():\n",
    "    print('  ', item)\n",
    "print(f\"nbytes = {data.nbytes:.3e}\")"
   ]
  },
  {
   "cell_type": "markdown",
   "id": "ada378be-0059-48d7-889a-e7906ce7c31f",
   "metadata": {},
   "source": [
    "Set output directory for all data and figures."
   ]
  },
  {
   "cell_type": "code",
   "execution_count": null,
   "id": "86a53596-4570-47c2-ac53-41e2505aa786",
   "metadata": {},
   "outputs": [],
   "source": [
    "outdir = './_output'\n",
    "\n",
    "if not os.path.exists(outdir):\n",
    "    os.makedirs(outdir)"
   ]
  },
  {
   "cell_type": "code",
   "execution_count": null,
   "id": "4852e82c-70b0-46db-8f58-41133a06c0b2",
   "metadata": {},
   "outputs": [],
   "source": [
    "def save(figname, prefix='fig_step0', ext='png', **kws):\n",
    "    \"\"\"Save figure.\"\"\"\n",
    "    figname = f'{prefix}_{figname}'\n",
    "    if ext:\n",
    "        figname = f'{figname}.{ext}'\n",
    "    plt.savefig(os.path.join(outdir, figname), **kws)"
   ]
  },
  {
   "cell_type": "markdown",
   "id": "a224c64c-9b70-441a-8e7f-b8f3011eef5f",
   "metadata": {},
   "source": [
    "## Image processing"
   ]
  },
  {
   "cell_type": "markdown",
   "id": "1e5f2e91-dff4-4f6f-8b26-a891d8d9ba75",
   "metadata": {},
   "source": [
    "Get camera name and settings."
   ]
  },
  {
   "cell_type": "code",
   "execution_count": null,
   "id": "bc926370-1cc0-447f-9dae-ff67171d2dd4",
   "metadata": {},
   "outputs": [],
   "source": [
    "# Find camera name.\n",
    "cam = None\n",
    "for name in data.dtype.names:\n",
    "    if 'cam' in name.lower():\n",
    "        cam = name.split('_')[0]\n",
    "        \n",
    "# Find camera zoom. \n",
    "zoom = None\n",
    "for key in metadata:\n",
    "    if 'Magn' in key:\n",
    "        zoom = [0.25, 0.33, 0.5, 1.0][int(metadata[key])]\n",
    "            \n",
    "# Load camera settings. \n",
    "cam_settings = ip.CameraSettings(cam)\n",
    "cam_settings.set_zoom(zoom)\n",
    "\n",
    "# Save info.\n",
    "info['cam'] = cam_settings.name\n",
    "info['cam_zoom'] = cam_settings.zoom\n",
    "info['cam_pix2mm_x'] = info['cam_pix2mm_y'] = cam_settings.pix2mm\n",
    "info['cam_shape'] = cam_settings.shape\n",
    "\n",
    "print(f\"cam = '{cam}'\")\n",
    "print(f'zoom = {zoom}')\n",
    "print(f'pix2mm = {cam_settings.pix2mm} (zoom = {zoom})')\n",
    "print(f'image shape = {cam_settings.shape}')"
   ]
  },
  {
   "cell_type": "markdown",
   "id": "9f03c060-cda1-482e-a953-b0f4e404c6bc",
   "metadata": {},
   "source": [
    "Use bright/dim images for testing."
   ]
  },
  {
   "cell_type": "code",
   "execution_count": null,
   "id": "8c834e64-6d94-40f6-9032-8e5c222ccc02",
   "metadata": {},
   "outputs": [],
   "source": [
    "def get_image(i):\n",
    "    return data[i, cam + '_Image'].reshape(cam_settings.shape)\n",
    "\n",
    "def plot_compare_images(im1, im2, **plot_kws):\n",
    "    \"\"\"Plot images side by side, and a second row in log scale.\"\"\"\n",
    "    fig, axes = pplt.subplots(ncols=2, nrows=2, figwidth=None, sharex=False, sharey=False)\n",
    "    for col, im in enumerate([im1, im2]):\n",
    "        for row, norm in enumerate([None, 'log']):\n",
    "            mplt.plot_image(im.T / np.max(im), ax=axes[row, col], norm=norm, **plot_kws)\n",
    "    return axes"
   ]
  },
  {
   "cell_type": "code",
   "execution_count": null,
   "id": "6f70ad30-4813-45ee-8ae6-00edc1b4ae20",
   "metadata": {},
   "outputs": [],
   "source": [
    "signal = data[cam + '_Integral'][:]\n",
    "imax = np.argmax(signal)\n",
    "imin = np.argmin(signal)\n",
    "im_max = get_image(imax)\n",
    "im_min = get_image(imin)\n",
    "print(f'Max {cam}_Integral at i = {imax}')\n",
    "print(f'Min {cam}_Integral at i = {imin}')"
   ]
  },
  {
   "cell_type": "code",
   "execution_count": null,
   "id": "426b72e7-4f46-476b-abd5-202c64e88793",
   "metadata": {},
   "outputs": [],
   "source": [
    "for im, title in zip((im_max, im_min), ('Max integral', 'Min integral')):\n",
    "    fig, axes = pplt.subplots(ncols=2)\n",
    "    kws = dict(colorbar=True)\n",
    "    mplt.plot_image(im.T / np.max(im), ax=axes[0], **kws)\n",
    "    mplt.plot_image(im.T / np.max(im), ax=axes[1], norm='log', **kws)\n",
    "    axes.format(xlabel='x3', ylabel='y3', suptitle=title)\n",
    "    save(f'image_{title}')\n",
    "    plt.show()"
   ]
  },
  {
   "cell_type": "markdown",
   "id": "66b6c23b-b0e6-48ac-a088-4ce1590c802c",
   "metadata": {},
   "source": [
    "### Crop"
   ]
  },
  {
   "cell_type": "markdown",
   "id": "5be35091-8772-4cd3-9ea6-7d4d9b0b2f8c",
   "metadata": {},
   "source": [
    "View cropping at various frames around `imax`."
   ]
  },
  {
   "cell_type": "code",
   "execution_count": null,
   "id": "0df3589b-061f-4e1c-8a9d-21be46472519",
   "metadata": {},
   "outputs": [],
   "source": [
    "image_shape = cam_settings.shape\n",
    "image_crop_edges = {\n",
    "    'x1': 180, \n",
    "    'x2': 420, \n",
    "    'y1': 75, \n",
    "    'y2': 370,\n",
    "}\n",
    "x1 = image_crop_edges['x1']\n",
    "x2 = image_crop_edges['x2']\n",
    "y1 = image_crop_edges['y1']\n",
    "y2 = image_crop_edges['y2']\n",
    "\n",
    "def update(i, log, handle_log):\n",
    "    im = get_image(i)\n",
    "    norm = 'log' if log else None\n",
    "    fig, ax = pplt.subplots()\n",
    "    mplt.plot_image(im.T / np.max(im), ax=ax, colorbar=True, norm=norm, handle_log=handle_log)\n",
    "    ax.add_patch(patches.Rectangle((x1, y1), x2 - x1, y2 - y1, fill=False, ec='red'))\n",
    "    plt.show()\n",
    "    \n",
    "interactive(update, i=(imax-99, imax+101), log=True, handle_log=['floor', 'mask'])"
   ]
  },
  {
   "cell_type": "markdown",
   "id": "e88ec0ed-1caa-4606-9f5b-714beac869da",
   "metadata": {},
   "source": [
    "Save cropping results for brightest image."
   ]
  },
  {
   "cell_type": "code",
   "execution_count": null,
   "id": "b5a596f9-1afd-4413-b0d0-b83c478ff82d",
   "metadata": {},
   "outputs": [],
   "source": [
    "im = im_max.copy()\n",
    "im1 = ip.crop(im, **image_crop_edges)\n",
    "\n",
    "axes = plot_compare_images(im, im1, colorbar=True)\n",
    "for ax in axes[:, 0]:\n",
    "    ax.add_patch(patches.Rectangle((x1, y1), im1.shape[1], im1.shape[0], fill=False, ec='red'))\n",
    "save('crop')"
   ]
  },
  {
   "cell_type": "markdown",
   "id": "15dea95f-5f85-4275-9f12-a353558168f7",
   "metadata": {},
   "source": [
    "Make sure that nothing important will be cropped by looking at x/y projections of images across all frames with `signal > thresh`. (Will take a while for large data sets.)"
   ]
  },
  {
   "cell_type": "code",
   "execution_count": null,
   "id": "9864253b-1bc1-40bd-8108-51cdc6660bb6",
   "metadata": {},
   "outputs": [],
   "source": [
    "# Extract x and y profiles \n",
    "xprofs = data[:, cam + '_ProfileX']\n",
    "yprofs = data[:, cam + '_ProfileY']\n",
    "\n",
    "# Plot mean and max heights of all x/y profiles.\n",
    "fig, axes = pplt.subplots(nrows=2, ncols=2, figsize=(6, 3.5), sharey=1)\n",
    "for j in range(2):\n",
    "    for ax, func in zip(axes[:, j], [np.mean, np.max]):\n",
    "        for profs, label in zip([xprofs, yprofs], ['x', 'y']):\n",
    "            ax.plot(np.arange(profs.shape[1]), func(profs, axis=0), label=label)\n",
    "axes[0, 1].legend(ncols=1, loc='r')\n",
    "\n",
    "# Plot light blue{orange} in uncropped x{y} region.\n",
    "colors = pplt.Cycle('colorblind').by_key()['color']\n",
    "for _x1, _x2, _xmax, c in zip([x1, y1], [x2, y2], [xprofs.shape[1], yprofs.shape[1]], colors):\n",
    "    if _x2 < 0:\n",
    "        _x2 += _xmax\n",
    "    for ax in axes:\n",
    "        ax.axvspan(_x1, _x2, color=c, alpha=0.1)\n",
    "axes[:, 1].format(yscale='log')\n",
    "\n",
    "# Save figure\n",
    "axes.format(leftlabels=['Mean', 'Max'], toplabels=['Normal scale', 'Log scale'],\n",
    "            xlabel='Pixel', ylabel='Integrated profile')\n",
    "save('crop2')"
   ]
  },
  {
   "cell_type": "code",
   "execution_count": null,
   "id": "6d2aa559-9cea-49bf-9ebf-59e9cd568b07",
   "metadata": {},
   "outputs": [],
   "source": [
    "info['image_crop_edges'] = image_crop_edges\n",
    "im = im1.copy()"
   ]
  },
  {
   "cell_type": "markdown",
   "id": "e1aca842-9b63-4b43-b5b9-569c24b33c7a",
   "metadata": {},
   "source": [
    "### Threshold"
   ]
  },
  {
   "cell_type": "markdown",
   "id": "14d48c83-0e06-477f-8eac-4d51aeb3dbdd",
   "metadata": {},
   "source": [
    "Check for a nonzero offset."
   ]
  },
  {
   "cell_type": "code",
   "execution_count": null,
   "id": "2dfb0452-b3fb-429d-865c-93a861ddd81d",
   "metadata": {},
   "outputs": [],
   "source": [
    "window = int(0.01 * len(data))\n",
    "frames = np.arange(imin - window, imin + window, 1)\n",
    "min_pixels = [np.min(ip.crop(get_image(i), **image_crop_edges)) for i in tqdm(frames)]\n",
    "\n",
    "fig, ax = pplt.subplots()\n",
    "ax.plot(frames, min_pixels, color='black')\n",
    "ax.format(xlabel='Frame', ylabel='min_pixel')\n",
    "save('offset')"
   ]
  },
  {
   "cell_type": "markdown",
   "id": "73b94a2c-3731-4f76-88b0-94605eb7b9c2",
   "metadata": {},
   "source": [
    "Subtract the offset."
   ]
  },
  {
   "cell_type": "code",
   "execution_count": null,
   "id": "0da2bcb1-9b1f-4414-834d-7473fc20e29c",
   "metadata": {},
   "outputs": [],
   "source": [
    "image_offset = np.mean(min_pixels)\n",
    "info['image_offset'] = image_offset\n",
    "print('image_offset = ', image_offset)\n",
    "\n",
    "im = im - image_offset"
   ]
  },
  {
   "cell_type": "markdown",
   "id": "8953995b-5f66-44db-9ad2-b5e5059d2d96",
   "metadata": {},
   "source": [
    "Select images that are obviously measuring noise. (Tune `width_view` to view more frames; tune `width_select` to select the frames.)"
   ]
  },
  {
   "cell_type": "code",
   "execution_count": null,
   "id": "91fb3571-2bf8-4321-b01e-1471e6ffc9e4",
   "metadata": {},
   "outputs": [],
   "source": [
    "steps = 64  # (approximate) number of steps in one sweep\n",
    "width_view = 30 * steps\n",
    "width_calc = 2 * steps\n",
    "icenter = imin\n",
    "info['noise_icenter'] = icenter\n",
    "idx_view = np.arange(icenter - width_view, icenter + width_view, 1)\n",
    "idx_calc = np.arange(icenter - width_calc, icenter + width_calc, 1)\n",
    "ims_noise = np.array([ip.crop(get_image(i), **image_crop_edges) for i in idx_calc])\n",
    "print('For selected images:')\n",
    "print(f'max pixel: {np.max(ims_noise)}')\n",
    "print(f'min noise: {np.min(ims_noise)}')\n",
    "print(f'mean noise: {np.mean(ims_noise)}')\n",
    "print(f'std noise: {np.std(ims_noise)}')\n",
    "\n",
    "for yscale in [None, 'log']:\n",
    "    fig, ax = pplt.subplots(figsize=(8.0, 1.75))\n",
    "    ax.plot(idx_view, signal[idx_view], color='black', alpha=0.2)\n",
    "    ax.plot(idx_calc, signal[idx_calc], color='black', label='selected')\n",
    "    ax.legend(loc='upper right')\n",
    "    ax.format(yscale=yscale)\n",
    "    save(f'noise_region_{yscale}')\n",
    "    plt.show()"
   ]
  },
  {
   "cell_type": "markdown",
   "id": "63eaff67-5bec-47cb-99b8-19c2ec9a7874",
   "metadata": {},
   "source": [
    "Set the threshold based on these noisy images."
   ]
  },
  {
   "cell_type": "code",
   "execution_count": null,
   "id": "9682c549-e1b1-4925-ad0a-21170b96b26a",
   "metadata": {},
   "outputs": [],
   "source": [
    "image_thresh = 1.0 * (np.max(ims_noise) - image_offset)\n",
    "image_thresh_frac_peak = image_thresh / np.max(im)\n",
    "\n",
    "print(f'image_thresh = {image_thresh}')\n",
    "print(f'10^{np.log10(image_thresh_frac_peak):.2f} of max pixel in peak integral image')"
   ]
  },
  {
   "cell_type": "markdown",
   "id": "9e603ef0-df28-49fd-9004-48de8b698ff2",
   "metadata": {},
   "source": [
    "Observe how the thresholding affects the images."
   ]
  },
  {
   "cell_type": "code",
   "execution_count": null,
   "id": "7d41a214-17ef-446e-af7c-14127583ab24",
   "metadata": {},
   "outputs": [],
   "source": [
    "def update(i, log, discrete, handle_log, thresh):\n",
    "    _im = get_image(i)\n",
    "    _im = ip.crop(_im, **image_crop_edges)\n",
    "    _im = _im - image_offset\n",
    "    _im[_im <= thresh] = 0\n",
    "    norm = 'log' if log else None\n",
    "    fig, ax = pplt.subplots()\n",
    "    im_max = np.max(_im)\n",
    "    if im_max > 0:\n",
    "        _im = _im / im_max\n",
    "    mplt.plot_image(_im.T, ax=ax, colorbar=True, norm=norm, \n",
    "                    discrete=discrete, handle_log=handle_log)\n",
    "    plt.show()\n",
    "    \n",
    "interactive(\n",
    "    update, i=(imax - 99, imax + 101), log=True, discrete=False,\n",
    "    handle_log=['mask', 'floor'], \n",
    "    thresh=widgets.FloatSlider(min=0.0, max=4.0 * image_thresh, \n",
    "                               step=0.1 * image_thresh, value=image_thresh),\n",
    ")"
   ]
  },
  {
   "cell_type": "markdown",
   "id": "8fad12c3-3cf5-4008-b0ad-1320c975ce4e",
   "metadata": {},
   "source": [
    "Save the results for our test image."
   ]
  },
  {
   "cell_type": "code",
   "execution_count": null,
   "id": "fc1c4161-a5d2-4f4a-8c2d-f4bc307680e6",
   "metadata": {},
   "outputs": [],
   "source": [
    "im1 = im.copy()\n",
    "im1[im1 <= image_thresh] = 0\n",
    "info['image_thresh'] = image_thresh\n",
    "\n",
    "for discrete in [False, True]:\n",
    "    axes = plot_compare_images(im / np.max(im), im1 / np.max(im1), colorbar=True, \n",
    "                               discrete=discrete, handle_log='mask')\n",
    "    axes.format(suptitle=f'Threshold at 10^{np.log10(image_thresh_frac_peak):.2f} peak pixel')\n",
    "    save(f'thresh_discrete{discrete}')\n",
    "    plt.show()"
   ]
  },
  {
   "cell_type": "code",
   "execution_count": null,
   "id": "b4220094-537e-4770-ad0f-b32fc1c2666e",
   "metadata": {},
   "outputs": [],
   "source": [
    "i, j = np.unravel_index(np.argmax(im), im.shape)\n",
    "fig, axes = pplt.subplots([[1, 2, 3], [1, 4, 5]], sharey=False)\n",
    "axes[0].pcolormesh(im)\n",
    "kws = dict(color='white', alpha=0.4)\n",
    "axes[0].axhline(i, **kws)\n",
    "axes[0].axvline(j, **kws)\n",
    "axes[1].set_title(f'Row {i}')\n",
    "axes[2].set_title(f'Column {j}')\n",
    "kws = dict(color='black', lw=1.0)\n",
    "for ax in axes[:, 1]:\n",
    "    ax.plot(np.arange(im.shape[1]), im[i, :] / np.max(im[i, :]), **kws)\n",
    "    ax.axhline(image_thresh / np.max(im[i, :]), color='black', alpha=0.1)\n",
    "for ax in axes[:, 2]:\n",
    "    ax.plot(np.arange(im.shape[0]), im[:, j] / np.max(im[:, j]), **kws)\n",
    "    ax.axhline(image_thresh / np.max(im[:, j]), color='black', alpha=0.1)\n",
    "axes[1:, 1:].format(yscale='log')\n",
    "save('thresh2')\n",
    "plt.show()"
   ]
  },
  {
   "cell_type": "code",
   "execution_count": null,
   "id": "dda24b5d-4330-419d-bf24-e77a05fa68d2",
   "metadata": {},
   "outputs": [],
   "source": [
    "im = im1.copy()"
   ]
  },
  {
   "cell_type": "markdown",
   "id": "7f57bfc2-b180-4262-864c-8d7bb511b5da",
   "metadata": {},
   "source": [
    "### Downscale "
   ]
  },
  {
   "cell_type": "markdown",
   "id": "38c96ee8-8d44-4890-96e7-bad6ad4bc853",
   "metadata": {},
   "source": [
    "Observe the effect of downscaling."
   ]
  },
  {
   "cell_type": "code",
   "execution_count": null,
   "id": "f4c041dc-ba67-4580-a1d7-e279aebaf0a9",
   "metadata": {},
   "outputs": [],
   "source": [
    "def update(i, log, downscale, handle_log):\n",
    "    _im = get_image(i)\n",
    "    _im = ip.crop(_im, **image_crop_edges)\n",
    "    _im = _im - image_offset\n",
    "    _im[_im <= image_thresh] = 0\n",
    "    _im = skimage.transform.downscale_local_mean(_im, (downscale, downscale))\n",
    "    norm = 'log' if log else None\n",
    "    fig, ax = pplt.subplots()\n",
    "    mplt.plot_image(_im.T / np.max(_im), ax=ax, colorbar=True, norm=norm, handle_log=handle_log,\n",
    "                    profx=True, profy=True)\n",
    "    plt.show()\n",
    "    \n",
    "    \n",
    "interactive(\n",
    "    update, i=(imax - 99, imax + 101), log=True, \n",
    "    downscale=widgets.IntSlider(min=1, max=10, value=3),\n",
    "    handle_log=['mask', 'floor'],\n",
    ")"
   ]
  },
  {
   "cell_type": "markdown",
   "id": "316f6495-44ab-4aa4-8aaa-f5efb430ef00",
   "metadata": {},
   "source": [
    "Set the downscale factor and save the results for our test image."
   ]
  },
  {
   "cell_type": "code",
   "execution_count": null,
   "id": "b353d339-975a-4a21-b6f1-13458f2307cd",
   "metadata": {},
   "outputs": [],
   "source": [
    "image_downscale = 3\n",
    "info['image_downscale'] = image_downscale\n",
    "    \n",
    "im1 = skimage.transform.downscale_local_mean(im, (image_downscale, image_downscale))\n",
    "\n",
    "for discrete in [False, True]:\n",
    "    axes = plot_compare_images(im / np.max(im), im1 / np.max(im1), colorbar=True, discrete=discrete,\n",
    "                               handle_log='floor')\n",
    "    axes.format(toplabels=['Original', f'Downscaled by factor {image_downscale}'])\n",
    "    save(f'downscale_discrete{discrete}')"
   ]
  },
  {
   "cell_type": "markdown",
   "id": "5b464158-dcf7-42a3-a501-c71033f11924",
   "metadata": {},
   "source": [
    "Save the new image shape and pixel/mm calibration."
   ]
  },
  {
   "cell_type": "code",
   "execution_count": null,
   "id": "31b84f79-7792-4712-a904-d3888432e659",
   "metadata": {},
   "outputs": [],
   "source": [
    "info['image_shape'] = im1.shape\n",
    "info['image_pix2mm_y'] = cam_settings.pix2mm * (im.shape[0] / im1.shape[0])\n",
    "info['image_pix2mm_x'] = cam_settings.pix2mm * (im.shape[1] / im1.shape[1])\n",
    "\n",
    "print('Original (cropped) image shape:', im.shape)\n",
    "print('Downscaled image shape:', im1.shape)\n",
    "print(f'Original pix2mm_x = pix2mm_y = {cam_settings.pix2mm} (zoom = {cam_settings.zoom})')\n",
    "print('new pix2mm_y =', info['image_pix2mm_y'])\n",
    "print('new pix2mm_x =', info['image_pix2mm_x'])"
   ]
  },
  {
   "cell_type": "markdown",
   "id": "ea26709e-5529-4ff8-a5ab-20f6d5918484",
   "metadata": {},
   "source": [
    "Make a function that does all of the above."
   ]
  },
  {
   "cell_type": "code",
   "execution_count": null,
   "id": "2a2a1d9c-1979-4eaa-b3da-0da4837ae4c0",
   "metadata": {},
   "outputs": [],
   "source": [
    "def process_image(im, crop_edges, offset, thresh, downscale):\n",
    "    im = ip.crop(im, **crop_edges)\n",
    "    im = im - offset\n",
    "    im[im <= thresh] = 0\n",
    "    if downscale > 1:\n",
    "        im = skimage.transform.downscale_local_mean(im, (downscale, downscale))\n",
    "    return im"
   ]
  },
  {
   "cell_type": "markdown",
   "id": "2830f067-c017-4ada-bbbd-2fcc63bf7f88",
   "metadata": {},
   "source": [
    "### Save gifs of a few sweeps"
   ]
  },
  {
   "cell_type": "markdown",
   "id": "a9c3c0f9-4be9-43cb-9012-459653459b61",
   "metadata": {},
   "source": [
    "If you want to save before downscaling."
   ]
  },
  {
   "cell_type": "code",
   "execution_count": null,
   "id": "d8e906cd-10c9-4a42-b1ce-7bb334db0bb8",
   "metadata": {},
   "outputs": [],
   "source": [
    "window = 150  # number of frames\n",
    "iterations = data[imax - window: imax + window, 'iteration']\n",
    "unique_iterations = np.unique(iterations)\n",
    "print('Iterations:', len(unique_iterations))\n",
    "print(unique_iterations)\n",
    "\n",
    "_images = []\n",
    "for i in range(imax - window, imax + window):\n",
    "    _image = get_image(i)\n",
    "    _image = ip.crop(_image, **image_crop_edges)\n",
    "    _images.append(_image)\n",
    "_images = np.array(_images)\n",
    "_images = _images / np.max(_images)\n",
    "\n",
    "cmap = 'mono_r'\n",
    "imageio.mimwrite(\n",
    "    os.path.join(outdir, f'fig_sweeps_{unique_iterations[0]}-{unique_iterations[-1]}_{cmap}.gif'),\n",
    "    [ip.to_uint8(im, cmap) for im in _images],\n",
    "    fps=12,\n",
    ")"
   ]
  },
  {
   "cell_type": "markdown",
   "id": "f8d6d4e3-06db-4f1d-9519-1e423fb0c7af",
   "metadata": {},
   "source": [
    "## Write new h5 file"
   ]
  },
  {
   "cell_type": "markdown",
   "id": "a37530a2-78cb-4887-bca4-7cc76667ef29",
   "metadata": {},
   "source": [
    "Find points where the measured beam current is too low and mask them."
   ]
  },
  {
   "cell_type": "code",
   "execution_count": null,
   "id": "0f0eec02-6bee-437c-9c8b-3df89862ec1a",
   "metadata": {},
   "outputs": [],
   "source": [
    "bcm = 'bcm04'\n",
    "bcm_data = data[bcm][:]"
   ]
  },
  {
   "cell_type": "code",
   "execution_count": null,
   "id": "c6fafce3-c20c-4eeb-817c-ec0225ed1fb8",
   "metadata": {},
   "outputs": [],
   "source": [
    "bcm_limit = 23.5  # minmum absolute current [mA]\n",
    "idx = np.arange(len(data))\n",
    "valid_bcm, = np.where(np.abs(bcm_data) > bcm_limit)\n",
    "mask_bcm, = np.where(np.abs(bcm_data) <= bcm_limit)\n",
    "n_valid = len(valid_bcm)\n",
    "\n",
    "print(f'Average BCM current (before masking) = {np.mean(bcm_data):.3f} +- {np.std(bcm_data):.3f} [mA]')\n",
    "print(f'Number of valid points: {n_valid}')\n",
    "for i in mask_bcm:\n",
    "    print(f'Point {i} masked due to {bcm} current {np.abs(bcm_data[i]):.3f} < {bcm_limit:.3f} [mA]')\n",
    "print('Average BCM current (after masking) = {:.3f} +- {:.3f} [mA]'\n",
    "      .format(np.mean(bcm_data[valid_bcm]), np.std(bcm_data[valid_bcm])))"
   ]
  },
  {
   "cell_type": "code",
   "execution_count": null,
   "id": "f7324e67-4df7-459a-8971-78c4fa44b7bc",
   "metadata": {
    "tags": []
   },
   "outputs": [],
   "source": [
    "fig, ax = pplt.subplots(figsize=(7.0, 2.0))\n",
    "ax.plot(bcm_data, color='black')\n",
    "ax.plot(mask_bcm, bcm_data[mask_bcm], color='red', lw=0, marker='.', label='Masked')\n",
    "ax.format(xlabel='Point', ylabel='BCM current [mA]', ygrid=True)\n",
    "ax.legend(loc='upper left')\n",
    "save('bcm_mask')"
   ]
  },
  {
   "cell_type": "code",
   "execution_count": null,
   "id": "d00f9aa9-48b7-4097-8f43-9f75567c8b01",
   "metadata": {},
   "outputs": [],
   "source": [
    "fig, ax = pplt.subplots(figsize=(7.0, 2.0))\n",
    "ax.plot(valid_bcm, bcm_data[valid_bcm], color='black')\n",
    "bcm_rolling_average = np.cumsum(bcm_data[valid_bcm]) / np.arange(1, len(valid_bcm) + 1)\n",
    "ax.plot(valid_bcm, bcm_rolling_average, color='red', label='rolling avg.', alpha=0.8)\n",
    "ax.format(xlabel='Point', ylabel='BCM current [mA]', ygrid=False)\n",
    "ax.legend(loc='lower right')\n",
    "save('bcm_unmasked_points_rolling_average')"
   ]
  },
  {
   "cell_type": "markdown",
   "id": "de4a3c34-f5a8-468c-8ac8-1125d0584a23",
   "metadata": {},
   "source": [
    "Create a new H5 file with three data sets: scalar (0d), waveform (1d), and image (2d). First, collect the appropriate dtypes."
   ]
  },
  {
   "cell_type": "code",
   "execution_count": null,
   "id": "314a76bb-0887-4b45-81b9-3e2f7d06af1f",
   "metadata": {},
   "outputs": [],
   "source": [
    "im = im1.copy()\n",
    "attrs = data.dtype.names\n",
    "sc_dtype, sc_attrs = [], list(attrs)\n",
    "print(sc_attrs)\n",
    "wf_dtype, wf_attrs = [], []\n",
    "im_dtype, im_attrs = [], []\n",
    "print('Moving the following columns:')\n",
    "for i in reversed(range(len(attrs))):\n",
    "    attr = attrs[i]\n",
    "    if '_Image' in attr:\n",
    "        sc_attrs.pop(i)\n",
    "        im_attrs.append(attr)\n",
    "        im_dtype.append((attr, data.dtype[attr]))\n",
    "        print(attr)\n",
    "    elif 'Profile' in attr:\n",
    "        sc_attrs.pop(i)\n",
    "        wf_attrs.append(attr)\n",
    "        wf_dtype.append((attr, data.dtype[attr]))\n",
    "        print(attr)\n",
    "    else:\n",
    "        sc_dtype.append((attr, data.dtype[attr]))\n",
    "        \n",
    "sc_dtype = np.dtype(sc_dtype)\n",
    "wf_dtype = np.dtype(wf_dtype)\n",
    "im_dtype = np.dtype(im_dtype)\n",
    "\n",
    "# Override the image dtype. \n",
    "im_dtype = np.dtype([(cam + '_Image', str(im.dtype), (im.size,))])\n",
    "\n",
    "print('\\nscalars:')\n",
    "print(sc_dtype)\n",
    "print('\\nwaveforms:')\n",
    "print(wf_dtype)\n",
    "print('\\nimage:')\n",
    "print(im_dtype)"
   ]
  },
  {
   "cell_type": "markdown",
   "id": "b511bc0e-b28b-4418-a07e-5ea03fe6cdc0",
   "metadata": {},
   "source": [
    "Write the data to the new files."
   ]
  },
  {
   "cell_type": "code",
   "execution_count": null,
   "id": "ceab3dd3-9bf6-40e5-91f0-06a4ba514984",
   "metadata": {},
   "outputs": [],
   "source": [
    "writer = h5py.File(os.path.join(outdir, 'preproc-' + filename + '.h5'), 'w')\n",
    "data_sc = writer.create_dataset('scalardata', (n_valid,), dtype=sc_dtype)\n",
    "data_wf = writer.create_dataset('wfdata', (n_valid,), dtype=wf_dtype)\n",
    "data_im = writer.create_dataset('imagedata', (n_valid,), dtype=im_dtype)\n",
    "for i, j in enumerate(tqdm(valid_bcm)):\n",
    "    for attr in sc_attrs:\n",
    "        data_sc[i, attr] = data[j, attr]\n",
    "    for attr in wf_attrs:\n",
    "        data_wf[i, attr] = data[j, attr]\n",
    "    for attr in im_attrs:\n",
    "        image = get_image(j)\n",
    "        image = process_image(image, image_crop_edges, image_offset, \n",
    "                              image_thresh, image_downscale)\n",
    "        data_im[i, attr] = image.ravel()\n",
    "writer.close()"
   ]
  },
  {
   "cell_type": "markdown",
   "id": "f226a065-e822-4ad4-853f-89e337e7abf4",
   "metadata": {},
   "source": [
    "Pass info dict to future notebooks. "
   ]
  },
  {
   "cell_type": "code",
   "execution_count": null,
   "id": "8978c20b-fcfc-4dcd-8367-99a3685ae74f",
   "metadata": {},
   "outputs": [],
   "source": [
    "print('info:')\n",
    "pprint(info)\n",
    "utils.save_pickle(os.path.join(outdir, 'info.pkl'), info)"
   ]
  },
  {
   "cell_type": "markdown",
   "id": "83193b11-7248-4dbc-9d94-562861294971",
   "metadata": {},
   "source": [
    "Save HTML of this notebook."
   ]
  },
  {
   "cell_type": "code",
   "execution_count": null,
   "id": "7a4e6584-fe17-42fa-bcd3-09099ed10ccf",
   "metadata": {},
   "outputs": [],
   "source": [
    "os.system(f\"jupyter nbconvert scan-xxpy-image-ypdE_step0.ipynb --to html\");\n",
    "os.system(f\"mv scan-xxpy-image-ypdE_step0.html {outdir}\");"
   ]
  },
  {
   "cell_type": "code",
   "execution_count": null,
   "id": "0b8c2fa5-1e72-40d4-9aff-969517a3a683",
   "metadata": {},
   "outputs": [],
   "source": [
    "os.system(f\"ls {outdir}\");"
   ]
  }
 ],
 "metadata": {
  "kernelspec": {
   "display_name": "myenv",
   "language": "python",
   "name": "myenv"
  },
  "language_info": {
   "codemirror_mode": {
    "name": "ipython",
    "version": 3
   },
   "file_extension": ".py",
   "mimetype": "text/x-python",
   "name": "python",
   "nbconvert_exporter": "python",
   "pygments_lexer": "ipython3",
   "version": "3.9.7"
  },
  "toc-autonumbering": true
 },
 "nbformat": 4,
 "nbformat_minor": 5
}
