{
 "cells": [
  {
   "cell_type": "markdown",
   "id": "129c3f1b-a272-46e8-ba26-2c814b431d6c",
   "metadata": {
    "tags": []
   },
   "source": [
    "# Step 0"
   ]
  },
  {
   "cell_type": "markdown",
   "id": "0b59b23d-84b7-40f9-8dfd-46d6dd939e37",
   "metadata": {},
   "source": [
    "* Read the h5 file containing the scan data.\n",
    "* Make sure the scan went as expected.\n",
    "* Process the camera images.\n",
    "    * Crop\n",
    "    * Threshold\n",
    "    * Downscale\n",
    "* Create a new h5 file with separate scalar (0D), waveform (1D), and image (2D) data sets. The new file name is \"prepoc-\" + the original file name.\n",
    "* Save useful information to pass to future notebooks; e.g., slit limits/correlations."
   ]
  },
  {
   "cell_type": "code",
   "execution_count": null,
   "id": "7bc5f5bf-a777-4cbf-a9c7-02547a5191fd",
   "metadata": {},
   "outputs": [],
   "source": [
    "import sys\n",
    "import os\n",
    "from os.path import join\n",
    "from datetime import datetime\n",
    "import importlib\n",
    "from pprint import pprint\n",
    "import json\n",
    "import numpy as np\n",
    "import pandas as pd\n",
    "import h5py\n",
    "import skimage\n",
    "import imageio\n",
    "from tqdm.notebook import tqdm\n",
    "from tqdm.notebook import trange\n",
    "from ipywidgets import interactive\n",
    "from ipywidgets import widgets\n",
    "from plotly import graph_objects as go\n",
    "from matplotlib import pyplot as plt\n",
    "from matplotlib import patches\n",
    "import proplot as pplt\n",
    "\n",
    "sys.path.append('../..')\n",
    "from tools import energyVS06 as energy\n",
    "from tools import image_processing as ip\n",
    "from tools import plotting as mplt\n",
    "from tools import utils"
   ]
  },
  {
   "cell_type": "code",
   "execution_count": null,
   "id": "38bc9335-4d1a-4afb-bded-f1b825effecf",
   "metadata": {},
   "outputs": [],
   "source": [
    "pplt.rc['cmap.discrete'] = False\n",
    "pplt.rc['cmap.sequential'] = 'viridis'\n",
    "pplt.rc['grid'] = False"
   ]
  },
  {
   "cell_type": "markdown",
   "id": "968b179c-eda3-4948-b22d-a278a80c7bb5",
   "metadata": {
    "tags": []
   },
   "source": [
    "## Load data"
   ]
  },
  {
   "cell_type": "code",
   "execution_count": null,
   "id": "73ba5406-86d1-438f-a07b-3483f031064b",
   "metadata": {},
   "outputs": [],
   "source": [
    "datadir = '/Diagnostics/Data/Measurements/scan-xxpy-image-ypdE/2022-07-15/'\n",
    "filenames = os.listdir(datadir)\n",
    "filenames"
   ]
  },
  {
   "cell_type": "code",
   "execution_count": null,
   "id": "01e62cbf-eab6-4a0b-ae3d-f90a5e8c4509",
   "metadata": {},
   "outputs": [],
   "source": [
    "filename = '220715230014-scan-xxpy-image-ypdE'\n",
    "file = h5py.File(join(datadir, filename + '.h5'), 'r')\n",
    "print(list(file))"
   ]
  },
  {
   "cell_type": "code",
   "execution_count": null,
   "id": "8fdaa7f6-63e9-4c2a-a9e2-e252d3d28794",
   "metadata": {},
   "outputs": [],
   "source": [
    "if 'config' in file:\n",
    "    config = file['config']\n",
    "    print(f\"'config', {type(config)}\")\n",
    "    for key in config:\n",
    "        print(f\"  '{key}', {type(config[key])}\")\n",
    "        for name in config[key].dtype.names:\n",
    "            print(f'    {name}: {config[key][name]}')\n",
    "    # Make dictionary of metadata\n",
    "    metadata = dict()\n",
    "    for name in config['metadata'].dtype.names:\n",
    "        metadata[name] = config['metadata'][name]\n",
    "else:\n",
    "    # Older measurement; metadata is in json file.\n",
    "    metadata = json.load(open(join(datadir, filename + '-metadata.json'), 'r'))\n",
    "    _metadata = dict()\n",
    "    for _dict in metadata.values():\n",
    "        for key, value in _dict.items():\n",
    "            _metadata[key] = value\n",
    "    metadata = _metadata\n",
    "    pprint(metadata)"
   ]
  },
  {
   "cell_type": "code",
   "execution_count": null,
   "id": "5d87aa23-3ec7-4eb1-a560-50fb2b9a4261",
   "metadata": {},
   "outputs": [],
   "source": [
    "if 'log' in file:\n",
    "    log = file['log']\n",
    "    print(f\"'log', {type(log)}\")\n",
    "    for item in log.dtype.fields.items():\n",
    "        print('  ', item)\n",
    "    print('\\nErrors and warnings:')\n",
    "    for i in range(log.size):\n",
    "        if not(log[i, 'level'] == 'INFO'.encode('utf')):\n",
    "            timestr = datetime.fromtimestamp(log[i, 'timestamp']).strftime(\"%m/%d/%Y, %H:%M:%S\")\n",
    "            print(f\"{timestr} {log[i, 'message']}\")"
   ]
  },
  {
   "cell_type": "code",
   "execution_count": null,
   "id": "bb3b3a9c-17ed-4da2-ae99-c06c310c0e75",
   "metadata": {},
   "outputs": [],
   "source": [
    "data = file['scandata']\n",
    "\n",
    "print(f\"'scandata', {type(data)}\")\n",
    "for item in data.dtype.fields.items():\n",
    "    print('  ', item)\n",
    "print(f\"nbytes = {data.nbytes:.3e}\")"
   ]
  },
  {
   "cell_type": "code",
   "execution_count": null,
   "id": "b432abe0-1346-4f84-bbc9-c8cffb1690ba",
   "metadata": {},
   "outputs": [],
   "source": [
    "acts = ['y_PositionSync', 'xp_PositionSync', 'x_PositionSync']"
   ]
  },
  {
   "cell_type": "code",
   "execution_count": null,
   "id": "6d1d91ca-1737-4840-a1ad-7c47bd123359",
   "metadata": {},
   "outputs": [],
   "source": [
    "info = dict()  # to pass info between notebooks\n",
    "info['acts'] = acts\n",
    "info['datadir'] = datadir\n",
    "info['filename'] = filename"
   ]
  },
  {
   "cell_type": "code",
   "execution_count": null,
   "id": "4cf20bfd-bd62-4ef9-ac2d-94cda1a74e14",
   "metadata": {},
   "outputs": [],
   "source": [
    "print(f'data.nbytes = {data.nbytes:.2e}')"
   ]
  },
  {
   "cell_type": "markdown",
   "id": "0780a330-f270-4bd1-8d6a-ebe3ecb7de16",
   "metadata": {},
   "source": [
    "## Scan overview "
   ]
  },
  {
   "cell_type": "markdown",
   "id": "ad257c10-8749-4c15-82af-c03fdffbb9b0",
   "metadata": {},
   "source": [
    "Input the min/max slit coordinates, shearing matrix, and boundary (box, ellipsoid) here. "
   ]
  },
  {
   "cell_type": "code",
   "execution_count": null,
   "id": "165c31f1-5165-41d1-8501-c349daf1612d",
   "metadata": {},
   "outputs": [],
   "source": [
    "# Slit ranges, steps, and limits\n",
    "ndim = 3\n",
    "variables = {\n",
    "    'y1': {\n",
    "        'pvname': 'ITSF_Diag:Slit_HZ04',\n",
    "        'center': 13.5,\n",
    "        'distance': 25.0,\n",
    "        'steps': 44,\n",
    "        'min': -50.0,\n",
    "        'max': +50.0,\n",
    "    },\n",
    "    'x2': {\n",
    "        'pvname': 'ITSF_Diag:Slit_VT06',\n",
    "        'center': 13.25,\n",
    "        'distance': 15.0,\n",
    "        'steps': 44,\n",
    "        'min': +4.0,\n",
    "        'max': +22.5,\n",
    "    },\n",
    "    'x1': {\n",
    "        'pvname': 'ITSF_Diag:Slit_VT04',\n",
    "        'center': 12.5,\n",
    "        'distance': 15.0,\n",
    "        'steps': 44,\n",
    "        'min': -50.0, \n",
    "        'max': +50.0,\n",
    "    },\n",
    "}\n",
    "\n",
    "# An affine transformation M is applied to the regular grid defined above.\n",
    "keys = list(variables)\n",
    "M = np.identity(ndim)\n",
    "M[keys.index('x2'), keys.index('x1')] = 0.65\n",
    "\n",
    "# Save to info dict\n",
    "info['variables'] = variables\n",
    "info['M'] = M\n",
    "info['ndim'] = ndim\n",
    "\n",
    "# Save these for later.\n",
    "center = np.array([variables[key]['center'] for key in keys])\n",
    "distance = np.array([variables[key]['distance'] for key in keys])\n",
    "nsteps = np.array([variables[key]['steps'] for key in keys])"
   ]
  },
  {
   "cell_type": "markdown",
   "id": "1f1b7cb3-cef1-4d25-8d3c-0302c060e097",
   "metadata": {},
   "source": [
    "### Data collection frequency"
   ]
  },
  {
   "cell_type": "code",
   "execution_count": null,
   "id": "9a5ba029-4c33-4796-a14f-b64c90abe7f2",
   "metadata": {},
   "outputs": [],
   "source": [
    "duration = data[-1, 'timestamp'] - data[0, 'timestamp']\n",
    "iteration_duration = duration / data[-1, 'iteration']\n",
    "points_per_iteration = len(data) / data[-1, 'iteration']\n",
    "print(f'{len(data)} points recorded over {duration:.1f} seconds ({(duration / 3600.0):.1f} hours)')\n",
    "print(f\"Number of iterations: {data[-1, 'iteration']}\")\n",
    "print(f'Effective rep rate: {(len(data) / duration):.2f} Hz')\n",
    "print(f'Time per iteration: {iteration_duration:.2f} seconds')\n",
    "print(f'Points per iteration: {points_per_iteration:.2f}')"
   ]
  },
  {
   "cell_type": "markdown",
   "id": "531441c7-849d-473b-a3af-af3dc05649fd",
   "metadata": {},
   "source": [
    "Look for long pauses during data collection."
   ]
  },
  {
   "cell_type": "code",
   "execution_count": null,
   "id": "832434a2-6c56-48db-8182-1a7cb1ace456",
   "metadata": {},
   "outputs": [],
   "source": [
    "timestamps = data['timestamp'][:]\n",
    "dt = np.diff(timestamps)\n",
    "rep_rate = 1.0 / np.median(dt)\n",
    "print(f'reprate = {rep_rate:.2f} Hz')\n",
    "\n",
    "print('Pauses longer than 30 seconds:')\n",
    "long_pause = 30.0\n",
    "pprint(dt[dt > long_pause])\n",
    "dt[dt > long_pause] = 0.2\n",
    "\n",
    "hist, bins = np.histogram(dt, bins=21)\n",
    "idx_bins = np.digitize(dt, bins)\n",
    "idx_pause, = np.where(idx_bins > 1)\n",
    "median_pause = np.median(dt[idx_pause])\n",
    "print(f'Most pauses are {median_pause:.2f} seconds')\n",
    "\n",
    "fig, ax = pplt.subplots()\n",
    "ax.bar(0.5 * (bins[1:] + bins[:-1]), hist, color='black', alpha=0.3)\n",
    "ax.axvline(median_pause, color='black')\n",
    "ax.format(xlabel='Pause length [seconds]', ylabel='Number of points', yscale='log')\n",
    "plt.savefig('_output/pauses.png')"
   ]
  },
  {
   "cell_type": "markdown",
   "id": "f8af2a79-a72a-47d4-8ed6-23414b203d1c",
   "metadata": {},
   "source": [
    "### BCM current"
   ]
  },
  {
   "cell_type": "code",
   "execution_count": null,
   "id": "0f0eec02-6bee-437c-9c8b-3df89862ec1a",
   "metadata": {},
   "outputs": [],
   "source": [
    "bcm = 'bcm04'\n",
    "bcm_limit = 20.0  # [mA]\n",
    "bcm_data = data[bcm][:]\n",
    "\n",
    "idx = np.arange(len(data))\n",
    "valid_bcm, = np.where(np.abs(bcm_data) > bcm_limit)\n",
    "mask_bcm, = np.where(np.abs(bcm_data) <= bcm_limit)\n",
    "\n",
    "print(f'Average BCM current (before masking) = {np.mean(bcm_data):.3f} +- {np.std(bcm_data):.3f} [mA]')\n",
    "for i in mask_bcm:\n",
    "    print(f'Point {i} masked due to {bcm} current < {bcm_limit:.3f} [mA]')\n",
    "print('Average BCM current (after masking) = {:.3f} +- {:.3f} [mA]'\n",
    "      .format(np.mean(bcm_data[valid_bcm]), np.std(bcm_data[valid_bcm])))"
   ]
  },
  {
   "cell_type": "code",
   "execution_count": null,
   "id": "f7324e67-4df7-459a-8971-78c4fa44b7bc",
   "metadata": {
    "tags": []
   },
   "outputs": [],
   "source": [
    "fig, ax = pplt.subplots(figsize=(7.0, 2.0))\n",
    "ax.plot(bcm_data, color='black')\n",
    "ax.plot(mask_bcm, bcm_data[mask_bcm], color='red', lw=0, marker='.', label='Masked')\n",
    "ax.format(xlabel='Point', ylabel='BCM current [mA]', ygrid=True)\n",
    "ax.legend(loc='upper left')\n",
    "plt.savefig('_output/bcm_mask.png')\n",
    "plt.show()"
   ]
  },
  {
   "cell_type": "code",
   "execution_count": null,
   "id": "d00f9aa9-48b7-4097-8f43-9f75567c8b01",
   "metadata": {},
   "outputs": [],
   "source": [
    "fig, ax = pplt.subplots(figsize=(7.0, 2.0))\n",
    "ax.plot(bcm_data[np.abs(bcm_data) > bcm_limit], color='black')\n",
    "ax.format(xlabel='Point', ylabel='BCM current [mA]', ygrid=True)\n",
    "plt.savefig('_output/bcm_unmasked_points.png')\n",
    "plt.show()"
   ]
  },
  {
   "cell_type": "markdown",
   "id": "2dec38a4-53ab-4404-a3ca-fddfb9c9a863",
   "metadata": {},
   "source": [
    "### Camera integral/saturation"
   ]
  },
  {
   "cell_type": "markdown",
   "id": "1e5f2e91-dff4-4f6f-8b26-a891d8d9ba75",
   "metadata": {},
   "source": [
    "Get camera name and settings."
   ]
  },
  {
   "cell_type": "code",
   "execution_count": null,
   "id": "bc926370-1cc0-447f-9dae-ff67171d2dd4",
   "metadata": {},
   "outputs": [],
   "source": [
    "# Find camera name.\n",
    "cam = None\n",
    "for name in data.dtype.names:\n",
    "    if 'cam' in name.lower():\n",
    "        cam = name.split('_')[0]\n",
    "        \n",
    "# Find camera zoom. \n",
    "zoom = None\n",
    "for key in metadata:\n",
    "    if 'Magn' in key:\n",
    "        index = int(metadata[key])\n",
    "        zoom = [0.25, 0.33, 0.5, 1.0][index]\n",
    "            \n",
    "# Load camera settings. \n",
    "cam_settings = ip.CameraSettings(cam)\n",
    "cam_settings.set_zoom(zoom)\n",
    "print(f'Image shape = {cam_settings.shape}. Please verify!')\n",
    "\n",
    "## May need to set image shape manually.\n",
    "# cam_settings.shape = (258, 346)\n",
    "\n",
    "# Save info.\n",
    "info['cam'] = cam_settings.name\n",
    "info['cam_zoom'] = cam_settings.zoom\n",
    "info['cam_pix2mm_y'] = info['cam_pix2mm_x'] = cam_settings.pix2mm\n",
    "info['cam_shape'] = cam_settings.shape\n",
    "\n",
    "print(f\"cam = '{cam}'\")\n",
    "print(f'zoom = {zoom}')\n",
    "print(f'pix2mm = {cam_settings.pix2mm} (zoom = {zoom})')\n",
    "print(f'image shape = {cam_settings.shape}')"
   ]
  },
  {
   "cell_type": "markdown",
   "id": "c307e1b8-66fa-42e5-9ffd-122c1d2f80b5",
   "metadata": {},
   "source": [
    "View saturation during scan."
   ]
  },
  {
   "cell_type": "code",
   "execution_count": null,
   "id": "89f9a70a-1db5-423a-a3e3-0080228e6b5f",
   "metadata": {},
   "outputs": [],
   "source": [
    "saturation = data[cam + '_Saturation'][:]"
   ]
  },
  {
   "cell_type": "code",
   "execution_count": null,
   "id": "1cbf1b93-3a5f-4254-8d4a-208b8b489f5c",
   "metadata": {},
   "outputs": [],
   "source": [
    "fig, ax = pplt.subplots(figsize=(8.0, 2.0))\n",
    "ax.plot(saturation, color='lightgrey', lw=0.8)\n",
    "ax.format(ylabel='saturation', xlabel='Point')\n",
    "plt.savefig(f'_output/{cam}_Saturation.png')"
   ]
  },
  {
   "cell_type": "markdown",
   "id": "5690fb1a-b895-4482-ba00-a4af909e7941",
   "metadata": {},
   "source": [
    "Define `signal` as the camera integral normalized to the range [0, 1]. Subtract the minimum from the signal and normalize to the range [0, 1] (Usually there is a constant offset/floor of the camera integral). Tune `thresh` until no black dots are in regions that clearly have no signal."
   ]
  },
  {
   "cell_type": "code",
   "execution_count": null,
   "id": "e2688578-34ff-40f1-9c60-6e091042db0e",
   "metadata": {},
   "outputs": [],
   "source": [
    "signal = data[cam + '_Integral'][:]"
   ]
  },
  {
   "cell_type": "code",
   "execution_count": null,
   "id": "e805f7f6-8901-4739-bc30-44b286d90e26",
   "metadata": {},
   "outputs": [],
   "source": [
    "signal = signal - np.min(signal)\n",
    "signal = signal / np.max(signal)\n",
    "thresh = 0.0003  # fraction of max signal\n",
    "valid, = np.where(signal >= thresh)\n",
    "invalid, = np.where(signal < thresh)\n",
    "\n",
    "info['signal_thresh'] = thresh\n",
    "print(f'Fractional signal thresh = {thresh}')\n",
    "print(f'Fraction of points above thresh: {len(valid) / len(signal)}')\n",
    "for yscale in [None, 'log']:\n",
    "    fig, ax = pplt.subplots(figsize=(8.0, 2.25))\n",
    "    ax.plot(signal, color='lightgrey', lw=0.8)\n",
    "    ax.plot(valid, signal[valid], lw=0, marker='.', ms=2, alpha=1, ec='None', color='black')\n",
    "    ax.format(yscale=yscale, ylabel='Signal', xlabel='Point')\n",
    "    plt.savefig(f'_output/signal_thresh_{yscale}.png')"
   ]
  },
  {
   "cell_type": "markdown",
   "id": "7c4a19f5-7460-405b-88cc-7a34fcdbdca5",
   "metadata": {
    "tags": []
   },
   "source": [
    "### Actuator coordinates "
   ]
  },
  {
   "cell_type": "markdown",
   "id": "031e04d6-907b-4799-8b0a-a530155be0fa",
   "metadata": {},
   "source": [
    "Move this to step 1..."
   ]
  },
  {
   "cell_type": "code",
   "execution_count": null,
   "id": "483c6907-7c8a-4b68-8237-cb0dfc41608d",
   "metadata": {},
   "outputs": [],
   "source": [
    "points = np.vstack([data[act] for act in acts]).T\n",
    "points_n = utils.apply(np.linalg.inv(M), points - center)\n",
    "points_nn = points_n / (0.5 * distance)"
   ]
  },
  {
   "cell_type": "code",
   "execution_count": null,
   "id": "9aed5cd4-854c-459d-920d-d70faaac28dc",
   "metadata": {},
   "outputs": [],
   "source": [
    "for i, act in enumerate(acts):\n",
    "    fig, ax = pplt.subplots(figsize=(8.0, 2.0))\n",
    "    ax.plot(points[:, i], color='lightgray')\n",
    "    ax.plot(valid, points[valid, i], color='black', marker='.', ms=1, lw=0, label='> thresh')\n",
    "    ax.format(xlabel='Point', ylabel=act)\n",
    "    ax.legend(loc='upper left')\n",
    "    plt.savefig('_output/acts.png')\n",
    "    plt.show()"
   ]
  },
  {
   "cell_type": "code",
   "execution_count": null,
   "id": "2df8635e-cc11-4974-8cd2-c79ede7fb318",
   "metadata": {},
   "outputs": [],
   "source": [
    "for _points, title in zip((points, points_n, points_nn), ('true', 'upright', 'upright + scaled')):\n",
    "    fig, axes = pplt.subplots(ncols=3, nrows=3, figwidth=4.5, span=False)\n",
    "    axes.format(suptitle=title)\n",
    "    for i in range(3):\n",
    "        for j in range(3):\n",
    "            axes[i, j].scatter(_points[:, j], _points[:, i], c='lightgray', ec='None', s=1)\n",
    "            axes[i, j].scatter(_points[valid, j], _points[valid, i], c='black', ec='None', s=1)\n",
    "        axes[i, 0].format(ylabel=keys[i])\n",
    "        axes[-1, i].format(xlabel=keys[i])\n",
    "    plt.savefig(f'_output/points_{title}.png')"
   ]
  },
  {
   "cell_type": "code",
   "execution_count": null,
   "id": "d7f793e3-126f-4b66-92f1-84f395cd1977",
   "metadata": {},
   "outputs": [],
   "source": [
    "radii = np.sqrt(np.sum(np.square(points_nn), axis=1))\n",
    "with pplt.rc.context(legendfontsize='medium'):\n",
    "    for yscale in [None, 'log']:\n",
    "        fig, ax = pplt.subplots(figsize=(3, 1.85))\n",
    "        ax.hist(radii, bins='auto', label='all', color='lightgrey')\n",
    "        ax.hist(radii[valid], bins='auto', label='above thresh', color='black')\n",
    "        ax.format(ylabel='num. points', xlabel='radius', yscale=yscale)\n",
    "        ax.legend(ncols=2, loc='top', framealpha=0)\n",
    "        plt.savefig(f'_output/radial_dist_{yscale}.png')"
   ]
  },
  {
   "cell_type": "code",
   "execution_count": null,
   "id": "b469f170-14a5-4dcd-8a8d-812fbe69a973",
   "metadata": {},
   "outputs": [],
   "source": [
    "fig = go.Figure(\n",
    "    data=[\n",
    "        go.Scatter3d(\n",
    "            x=points_nn[invalid, 0], \n",
    "            y=points_nn[invalid, 1], \n",
    "            z=points_nn[invalid, 2], \n",
    "            mode='markers', \n",
    "            marker=dict(color='lightgray', size=1, opacity=0.5),\n",
    "        ),\n",
    "        go.Scatter3d(\n",
    "            x=points_nn[valid, 0], \n",
    "            y=points_nn[valid, 1], \n",
    "            z=points_nn[valid, 2], \n",
    "            mode='markers', \n",
    "            marker=dict(color='black', size=1, opacity=0.5),\n",
    "        ),\n",
    "    ],\n",
    ")\n",
    "fig.update_scenes(xaxis_visible=False, yaxis_visible=False, zaxis_visible=False)\n",
    "fig.update_layout(width=500, height=500)\n",
    "fig.write_html('_output/points_nn3d.html')\n",
    "# fig.show()"
   ]
  },
  {
   "cell_type": "code",
   "execution_count": null,
   "id": "303d8a44-2894-4988-93ad-4e2eec869531",
   "metadata": {},
   "outputs": [],
   "source": [
    "del fig"
   ]
  },
  {
   "cell_type": "markdown",
   "id": "a224c64c-9b70-441a-8e7f-b8f3011eef5f",
   "metadata": {},
   "source": [
    "## Image processing"
   ]
  },
  {
   "cell_type": "markdown",
   "id": "3b2d1c9d-3968-458d-bde9-c2651ed9b56b",
   "metadata": {},
   "source": [
    "Use the images with the largest/smallest integral for testing image processing."
   ]
  },
  {
   "cell_type": "code",
   "execution_count": null,
   "id": "8c834e64-6d94-40f6-9032-8e5c222ccc02",
   "metadata": {},
   "outputs": [],
   "source": [
    "def get_image(i):\n",
    "    \"\"\"Return the reshaped image.\"\"\"\n",
    "    return data[i, cam + '_Image'].reshape(cam_settings.shape)\n",
    "\n",
    "def plot_compare_images(im1, im2, **plot_kws):\n",
    "    \"\"\"Plot images side by side, and a second row in log scale.\"\"\"\n",
    "    fig, axes = pplt.subplots(ncols=2, nrows=2, figwidth=None, sharex=False, sharey=False)\n",
    "    for col, im in enumerate([im1, im2]):\n",
    "        for row, norm in enumerate([None, 'log']):\n",
    "            mplt.plot_image(im.T / np.max(im), ax=axes[row, col], norm=norm, **plot_kws)\n",
    "    return axes"
   ]
  },
  {
   "cell_type": "code",
   "execution_count": null,
   "id": "6f70ad30-4813-45ee-8ae6-00edc1b4ae20",
   "metadata": {},
   "outputs": [],
   "source": [
    "imax = np.argmax(signal)\n",
    "imin = np.argmin(signal)\n",
    "im_max = get_image(imax)\n",
    "im_min = get_image(imin)\n",
    "print(f'Max {cam}_Integral at i = {imax}')\n",
    "print(f'Min {cam}_Integral at i = {imin}')"
   ]
  },
  {
   "cell_type": "code",
   "execution_count": null,
   "id": "426b72e7-4f46-476b-abd5-202c64e88793",
   "metadata": {},
   "outputs": [],
   "source": [
    "for im, title in zip((im_max, im_min), ('Max integral', 'Min integral')):\n",
    "    fig, axes = pplt.subplots(ncols=2)\n",
    "    kws = dict(colorbar=True)\n",
    "    mplt.plot_image(im.T, ax=axes[0], **kws)\n",
    "    mplt.plot_image(im.T, ax=axes[1], norm='log', **kws)\n",
    "    axes.format(xlabel='x3', ylabel='y3', suptitle=title)\n",
    "    plt.savefig(f'_output/image_{title}.png')\n",
    "    plt.show()"
   ]
  },
  {
   "cell_type": "markdown",
   "id": "66b6c23b-b0e6-48ac-a088-4ce1590c802c",
   "metadata": {},
   "source": [
    "### Crop"
   ]
  },
  {
   "cell_type": "markdown",
   "id": "5be35091-8772-4cd3-9ea6-7d4d9b0b2f8c",
   "metadata": {},
   "source": [
    "View cropping at various frames around `imax`."
   ]
  },
  {
   "cell_type": "code",
   "execution_count": null,
   "id": "0df3589b-061f-4e1c-8a9d-21be46472519",
   "metadata": {},
   "outputs": [],
   "source": [
    "image_shape = cam_settings.shape\n",
    "image_crop_edges = {\n",
    "    'x1': 180, \n",
    "    'x2': 420, \n",
    "    'y1': 75, \n",
    "    'y2': 370,\n",
    "}\n",
    "x1 = image_crop_edges['x1']\n",
    "x2 = image_crop_edges['x2']\n",
    "y1 = image_crop_edges['y1']\n",
    "y2 = image_crop_edges['y2']\n",
    "\n",
    "def update(i, log, handle_log):\n",
    "    im = get_image(i)\n",
    "    norm = 'log' if log else None\n",
    "    fig, ax = pplt.subplots()\n",
    "    mplt.plot_image(im.T, ax=ax, colorbar=True, norm=norm, handle_log=handle_log)\n",
    "    ax.add_patch(patches.Rectangle((x1, y1), x2 - x1, y2 - y1, fill=False, ec='red'))\n",
    "    plt.show()\n",
    "    \n",
    "interactive(update, i=(imax-99, imax+101), log=True, handle_log=['floor', 'mask'])"
   ]
  },
  {
   "cell_type": "markdown",
   "id": "e88ec0ed-1caa-4606-9f5b-714beac869da",
   "metadata": {},
   "source": [
    "Save cropping results for brightest image."
   ]
  },
  {
   "cell_type": "code",
   "execution_count": null,
   "id": "b5a596f9-1afd-4413-b0d0-b83c478ff82d",
   "metadata": {},
   "outputs": [],
   "source": [
    "im = im_max.copy()\n",
    "im1 = ip.crop(im, **image_crop_edges)\n",
    "\n",
    "axes = plot_compare_images(im, im1, colorbar=True)\n",
    "for ax in axes[:, 0]:\n",
    "    ax.add_patch(patches.Rectangle((x1, y1), im1.shape[1], im1.shape[0], fill=False, ec='red'))\n",
    "plt.savefig('_output/crop.png')\n",
    "plt.show()"
   ]
  },
  {
   "cell_type": "markdown",
   "id": "15dea95f-5f85-4275-9f12-a353558168f7",
   "metadata": {},
   "source": [
    "Make sure that nothing important will be cropped by looking at x/y projections of images across all frames with `signal > thresh`."
   ]
  },
  {
   "cell_type": "code",
   "execution_count": null,
   "id": "9864253b-1bc1-40bd-8108-51cdc6660bb6",
   "metadata": {},
   "outputs": [],
   "source": [
    "# Extract x and y profiles \n",
    "xprofs = data[valid, cam + '_ProfileX']\n",
    "yprofs = data[valid, cam + '_ProfileY']\n",
    "\n",
    "# Plot mean and max heights of all x/y profiles.\n",
    "fig, axes = pplt.subplots(nrows=2, ncols=2, figsize=(6, 3.5), sharey=1)\n",
    "for j in range(2):\n",
    "    for ax, func in zip(axes[:, j], [np.mean, np.max]):\n",
    "        for profs, label in zip([xprofs, yprofs], ['x', 'y']):\n",
    "            ax.plot(np.arange(profs.shape[1]), func(profs, axis=0), label=label)\n",
    "axes[0, 1].legend(ncols=1, loc='r')\n",
    "# Plot light blue{orange} in uncropped x{y} region.\n",
    "colors = pplt.Cycle('colorblind').by_key()['color']\n",
    "for _x1, _x2, _xmax, c in zip([x1, y1], [x2, y2], [xprofs.shape[1], yprofs.shape[1]], colors):\n",
    "    if _x2 < 0:\n",
    "        _x2 += _xmax\n",
    "    for ax in axes:\n",
    "        ax.axvspan(_x1, _x2, color=c, alpha=0.1)\n",
    "axes[:, 1].format(yscale='log')\n",
    "axes.format(leftlabels=['Mean', 'Max'], toplabels=['Normal scale', 'Log scale'],\n",
    "            xlabel='Pixel', ylabel='Integrated profile')\n",
    "plt.savefig('_output/crop2.png')\n",
    "plt.show()"
   ]
  },
  {
   "cell_type": "code",
   "execution_count": null,
   "id": "6d2aa559-9cea-49bf-9ebf-59e9cd568b07",
   "metadata": {},
   "outputs": [],
   "source": [
    "info['image_crop_edges'] = image_crop_edges\n",
    "im = im1.copy()"
   ]
  },
  {
   "cell_type": "markdown",
   "id": "e1aca842-9b63-4b43-b5b9-569c24b33c7a",
   "metadata": {},
   "source": [
    "### Threshold"
   ]
  },
  {
   "cell_type": "markdown",
   "id": "14d48c83-0e06-477f-8eac-4d51aeb3dbdd",
   "metadata": {},
   "source": [
    "Sometimes there is a constant pixel offset in the images."
   ]
  },
  {
   "cell_type": "code",
   "execution_count": null,
   "id": "2dfb0452-b3fb-429d-865c-93a861ddd81d",
   "metadata": {},
   "outputs": [],
   "source": [
    "window = int(0.01 * len(data))\n",
    "frames = np.arange(imin - window, imin + window, 1)\n",
    "min_pixels = [np.min(ip.crop(get_image(i), **image_crop_edges)) for i in tqdm(frames)]\n",
    "\n",
    "fig, ax = pplt.subplots()\n",
    "ax.plot(frames, min_pixels, color='black')\n",
    "ax.format(xlabel='Frame', ylabel='min_pixel')\n",
    "plt.savefig('_output/offset.png')\n",
    "plt.show()"
   ]
  },
  {
   "cell_type": "code",
   "execution_count": null,
   "id": "0da2bcb1-9b1f-4414-834d-7473fc20e29c",
   "metadata": {},
   "outputs": [],
   "source": [
    "image_offset = np.mean(min_pixels)\n",
    "info['image_offset'] = image_offset\n",
    "print('image_offset = ', image_offset)\n",
    "\n",
    "im = im - image_offset"
   ]
  },
  {
   "cell_type": "markdown",
   "id": "8953995b-5f66-44db-9ad2-b5e5059d2d96",
   "metadata": {},
   "source": [
    "Select images that are obviously measuring noise — a window near `imin` — and use the maximum pixel from those images as the threshold. Tune `width_view` to view more frames; tune `width_select` to select the frames."
   ]
  },
  {
   "cell_type": "code",
   "execution_count": null,
   "id": "91fb3571-2bf8-4321-b01e-1471e6ffc9e4",
   "metadata": {},
   "outputs": [],
   "source": [
    "width_view = 30 * variables['y1']['steps']\n",
    "width_calc = 2 * variables['y1']['steps']\n",
    "icenter = imin\n",
    "info['noise_icenter'] = icenter\n",
    "idx_view = np.arange(icenter - width_view, icenter + width_view, 1)\n",
    "idx_calc = np.arange(icenter - width_calc, icenter + width_calc, 1)\n",
    "ims_noise = np.array([ip.crop(get_image(i), **image_crop_edges) for i in idx_calc])\n",
    "print('For selected images:')\n",
    "print(f'max pixel: {np.max(ims_noise)}')\n",
    "print(f'min noise: {np.min(ims_noise)}')\n",
    "print(f'mean noise: {np.mean(ims_noise)}')\n",
    "print(f'std noise: {np.std(ims_noise)}')\n",
    "\n",
    "for yscale in [None, 'log']:\n",
    "    fig, ax = pplt.subplots(figsize=(8.0, 1.75))\n",
    "    ax.plot(idx_view, signal[idx_view], color='black', alpha=0.2)\n",
    "    ax.plot(idx_calc, signal[idx_calc], color='black', label='selected')\n",
    "    ax.legend(loc='upper right')\n",
    "    ax.format(yscale=yscale)\n",
    "    plt.savefig(f'_output/noise_region_{yscale}.png')\n",
    "    plt.show()"
   ]
  },
  {
   "cell_type": "markdown",
   "id": "9e603ef0-df28-49fd-9004-48de8b698ff2",
   "metadata": {},
   "source": [
    "View how the thresholding affects the images."
   ]
  },
  {
   "cell_type": "code",
   "execution_count": null,
   "id": "9682c549-e1b1-4925-ad0a-21170b96b26a",
   "metadata": {},
   "outputs": [],
   "source": [
    "image_thresh = 1.0 * (np.max(ims_noise) - image_offset)\n",
    "image_thresh_frac_peak = image_thresh / np.max(im)\n",
    "\n",
    "print(f'image_thresh = {image_thresh}')\n",
    "print(f'10^{np.log10(image_thresh_frac_peak):.2f} of max pixel in peak integral image')"
   ]
  },
  {
   "cell_type": "code",
   "execution_count": null,
   "id": "7d41a214-17ef-446e-af7c-14127583ab24",
   "metadata": {},
   "outputs": [],
   "source": [
    "def update(i, log, discrete, handle_log, thresh):\n",
    "    _im = get_image(i)\n",
    "    _im = ip.crop(_im, **image_crop_edges)\n",
    "    _im = _im - image_offset\n",
    "    _im[_im <= thresh] = 0\n",
    "    norm = 'log' if log else None\n",
    "    fig, ax = pplt.subplots()\n",
    "    mplt.plot_image(_im.T / np.max(_im), ax=ax, colorbar=True, norm=norm, \n",
    "                    discrete=discrete, handle_log=handle_log)\n",
    "    plt.show()\n",
    "    \n",
    "interactive(\n",
    "    update, i=(imax - 99, imax + 101), log=True, discrete=False,\n",
    "    handle_log=['mask', 'floor'], \n",
    "    thresh=widgets.FloatSlider(min=0.0, max=4.0 * image_thresh, \n",
    "                               step=0.1 * image_thresh, value=image_thresh),\n",
    ")"
   ]
  },
  {
   "cell_type": "markdown",
   "id": "8fad12c3-3cf5-4008-b0ad-1320c975ce4e",
   "metadata": {},
   "source": [
    "Save results for test image."
   ]
  },
  {
   "cell_type": "code",
   "execution_count": null,
   "id": "fc1c4161-a5d2-4f4a-8c2d-f4bc307680e6",
   "metadata": {},
   "outputs": [],
   "source": [
    "im1 = im.copy()\n",
    "im1[im1 <= image_thresh] = 0\n",
    "info['image_thresh'] = image_thresh\n",
    "\n",
    "for discrete in [False, True]:\n",
    "    axes = plot_compare_images(im / np.max(im), im1 / np.max(im1), colorbar=True, \n",
    "                               discrete=discrete, handle_log='mask')\n",
    "    axes.format(suptitle=f'Threshold at 10^{np.log10(image_thresh_frac_peak):.2f} peak pixel')\n",
    "    plt.savefig(f'_output/thresh_discrete{discrete}.png')\n",
    "    plt.show()"
   ]
  },
  {
   "cell_type": "code",
   "execution_count": null,
   "id": "b4220094-537e-4770-ad0f-b32fc1c2666e",
   "metadata": {},
   "outputs": [],
   "source": [
    "i, j = np.unravel_index(np.argmax(im), im.shape)\n",
    "fig, axes = pplt.subplots([[1, 2, 3], [1, 4, 5]], sharey=False)\n",
    "axes[0].pcolormesh(im)\n",
    "kws = dict(color='white', alpha=0.4)\n",
    "axes[0].axhline(i, **kws)\n",
    "axes[0].axvline(j, **kws)\n",
    "axes[1].set_title(f'Row {i}')\n",
    "axes[2].set_title(f'Column {j}')\n",
    "kws = dict(color='black', lw=1.0)\n",
    "for ax in axes[:, 1]:\n",
    "    ax.plot(np.arange(im.shape[1]), im[i, :] / np.max(im[i, :]), **kws)\n",
    "    ax.axhline(image_thresh / np.max(im[i, :]), color='black', alpha=0.1)\n",
    "for ax in axes[:, 2]:\n",
    "    ax.plot(np.arange(im.shape[0]), im[:, j] / np.max(im[:, j]), **kws)\n",
    "    ax.axhline(image_thresh / np.max(im[:, j]), color='black', alpha=0.1)\n",
    "axes[1:, 1:].format(yscale='log')\n",
    "plt.savefig('_output/thresh2.png')\n",
    "plt.show()"
   ]
  },
  {
   "cell_type": "code",
   "execution_count": null,
   "id": "dda24b5d-4330-419d-bf24-e77a05fa68d2",
   "metadata": {},
   "outputs": [],
   "source": [
    "im = im1.copy()"
   ]
  },
  {
   "cell_type": "markdown",
   "id": "7f57bfc2-b180-4262-864c-8d7bb511b5da",
   "metadata": {},
   "source": [
    "### Downscale "
   ]
  },
  {
   "cell_type": "code",
   "execution_count": null,
   "id": "f4c041dc-ba67-4580-a1d7-e279aebaf0a9",
   "metadata": {},
   "outputs": [],
   "source": [
    "def update(i, log, downscale, handle_log):\n",
    "    _im = get_image(i)\n",
    "    _im = ip.crop(_im, **image_crop_edges)\n",
    "    _im = _im - image_offset\n",
    "    _im[_im <= image_thresh] = 0\n",
    "    _im = skimage.transform.downscale_local_mean(_im, (downscale, downscale))\n",
    "    norm = 'log' if log else None\n",
    "    fig, ax = pplt.subplots()\n",
    "    mplt.plot_image(_im.T / np.max(_im), ax=ax, colorbar=True, norm=norm, handle_log=handle_log,\n",
    "                    profx=True, profy=True)\n",
    "    plt.show()\n",
    "    \n",
    "interactive(\n",
    "    update, i=(imax - 99, imax + 101), log=True, \n",
    "    downscale=widgets.IntSlider(min=1, max=10, value=3),\n",
    "    handle_log=['mask', 'floor'],\n",
    ")"
   ]
  },
  {
   "cell_type": "markdown",
   "id": "316f6495-44ab-4aa4-8aaa-f5efb430ef00",
   "metadata": {},
   "source": [
    "Save results for test image."
   ]
  },
  {
   "cell_type": "code",
   "execution_count": null,
   "id": "b353d339-975a-4a21-b6f1-13458f2307cd",
   "metadata": {},
   "outputs": [],
   "source": [
    "image_downscale = 3\n",
    "info['image_downscale'] = image_downscale\n",
    "    \n",
    "im1 = skimage.transform.downscale_local_mean(im, (image_downscale, image_downscale))\n",
    "\n",
    "for discrete in [False, True]:\n",
    "    axes = plot_compare_images(im / np.max(im), im1 / np.max(im1), colorbar=True, discrete=discrete,\n",
    "                               handle_log='floor')\n",
    "    axes.format(toplabels=['Original', f'Downscaled by factor {image_downscale}'])\n",
    "    plt.savefig(f'_output/downscale_discrete{discrete}.png')"
   ]
  },
  {
   "cell_type": "markdown",
   "id": "5b464158-dcf7-42a3-a501-c71033f11924",
   "metadata": {},
   "source": [
    "Save new image shape and pixel/mm calibration."
   ]
  },
  {
   "cell_type": "code",
   "execution_count": null,
   "id": "31b84f79-7792-4712-a904-d3888432e659",
   "metadata": {},
   "outputs": [],
   "source": [
    "info['image_shape'] = im1.shape\n",
    "info['image_pix2mm_x'] = cam_settings.pix2mm * im.shape[0] / im1.shape[0]\n",
    "info['image_pix2mm_y'] = cam_settings.pix2mm * im.shape[1] / im1.shape[1]\n",
    "print('Original (cropped) image shape:', im.shape)\n",
    "print('Downscaled image shape:', im1.shape)\n",
    "print(f'Original pix2mm_x = pix2mm_y = {cam_settings.pix2mm} (zoom = {cam_settings.zoom})')\n",
    "print('new pix2mm_y =', info['image_pix2mm_y'])\n",
    "print('new pix2mm_x =', info['image_pix2mm_x'])"
   ]
  },
  {
   "cell_type": "markdown",
   "id": "2830f067-c017-4ada-bbbd-2fcc63bf7f88",
   "metadata": {},
   "source": [
    "## Make some gifs of sweeps "
   ]
  },
  {
   "cell_type": "code",
   "execution_count": null,
   "id": "d8e906cd-10c9-4a42-b1ce-7bb334db0bb8",
   "metadata": {},
   "outputs": [],
   "source": [
    "window = 200  # number of frames\n",
    "iterations = data[imax - window: imax + window, 'iteration']\n",
    "unique_iterations = np.unique(iterations)\n",
    "print('Iterations:', len(unique_iterations))\n",
    "print(unique_iterations)"
   ]
  },
  {
   "cell_type": "code",
   "execution_count": null,
   "id": "4be160f8-6c56-4de7-a60d-cbcaea55cc15",
   "metadata": {},
   "outputs": [],
   "source": [
    "_images = []\n",
    "for i in trange(imax - window, imax + window):\n",
    "    _image = get_image(i)\n",
    "    _image = ip.crop(_image, **image_crop_edges)\n",
    "    _images.append(_image)\n",
    "_images = np.array(_images)\n",
    "_images = _images / np.max(_images)"
   ]
  },
  {
   "cell_type": "code",
   "execution_count": null,
   "id": "9d136cd0-7c0a-4d2b-b476-25d2d006d5df",
   "metadata": {},
   "outputs": [],
   "source": [
    "for cmap in ['viridis', 'dusk_r', 'mono_r']:\n",
    "    imageio.mimwrite(\n",
    "        f'_output/sweeps_{unique_iterations[0]}-{unique_iterations[-1]}_{cmap}.gif',\n",
    "        [ip.to_uint8(im, cmap) for im in _images],\n",
    "        fps=12,\n",
    "    )"
   ]
  },
  {
   "cell_type": "markdown",
   "id": "f8d6d4e3-06db-4f1d-9519-1e423fb0c7af",
   "metadata": {},
   "source": [
    "## Write new h5 file"
   ]
  },
  {
   "cell_type": "markdown",
   "id": "ea26709e-5529-4ff8-a5ab-20f6d5918484",
   "metadata": {},
   "source": [
    "Make a function that does all of the above."
   ]
  },
  {
   "cell_type": "code",
   "execution_count": null,
   "id": "2a2a1d9c-1979-4eaa-b3da-0da4837ae4c0",
   "metadata": {},
   "outputs": [],
   "source": [
    "def process_image(im, crop_edges, offset, thresh, downscale):\n",
    "    im = ip.crop(im, **crop_edges)\n",
    "    im = im - offset\n",
    "    im[im <= thresh] = 0\n",
    "    downscale = max(1, downscale)\n",
    "    im = skimage.transform.downscale_local_mean(im, (downscale, downscale))\n",
    "    return im"
   ]
  },
  {
   "cell_type": "markdown",
   "id": "f226a065-e822-4ad4-853f-89e337e7abf4",
   "metadata": {},
   "source": [
    "Pass info dict to future notebooks. "
   ]
  },
  {
   "cell_type": "code",
   "execution_count": null,
   "id": "8978c20b-fcfc-4dcd-8367-99a3685ae74f",
   "metadata": {},
   "outputs": [],
   "source": [
    "print('info:')\n",
    "pprint(info)\n",
    "\n",
    "# Save as pickled dictionary for easy loading.\n",
    "utils.save_pickle('_output/info.pkl', info)\n",
    "\n",
    "# Also save as file for viewing.\n",
    "file = open('_output/info.txt', 'w')\n",
    "for key, value in info.items():\n",
    "    file.write(f'{key}: {value}\\n')\n",
    "file.close()"
   ]
  },
  {
   "cell_type": "markdown",
   "id": "de4a3c34-f5a8-468c-8ac8-1125d0584a23",
   "metadata": {},
   "source": [
    "Create a new h5 file with three data sets: scalar (0d), waveform (1d), and image (2d). First, collect the appropriate dtypes."
   ]
  },
  {
   "cell_type": "code",
   "execution_count": null,
   "id": "314a76bb-0887-4b45-81b9-3e2f7d06af1f",
   "metadata": {},
   "outputs": [],
   "source": [
    "im = im1.copy()\n",
    "attrs = data.dtype.names\n",
    "sc_dtype, sc_attrs = [], list(attrs)\n",
    "print(sc_attrs)\n",
    "wf_dtype, wf_attrs = [], []\n",
    "im_dtype, im_attrs = [], []\n",
    "print('Moving the following columns:')\n",
    "for i in reversed(range(len(attrs))):\n",
    "    attr = attrs[i]\n",
    "    if '_Image' in attr:\n",
    "        sc_attrs.pop(i)\n",
    "        im_attrs.append(attr)\n",
    "        im_dtype.append((attr, data.dtype[attr]))\n",
    "        print(attr)\n",
    "    elif 'Profile' in attr:\n",
    "        sc_attrs.pop(i)\n",
    "        wf_attrs.append(attr)\n",
    "        wf_dtype.append((attr, data.dtype[attr]))\n",
    "        print(attr)\n",
    "    else:\n",
    "        sc_dtype.append((attr, data.dtype[attr]))\n",
    "        \n",
    "sc_dtype = np.dtype(sc_dtype)\n",
    "wf_dtype = np.dtype(wf_dtype)\n",
    "im_dtype = np.dtype(im_dtype)\n",
    "\n",
    "# Override the image dtype. \n",
    "im_dtype = np.dtype([(cam + '_Image', str(im.dtype), (im.size,))])\n",
    "\n",
    "print('\\nscalars:')\n",
    "print(sc_dtype)\n",
    "print('\\nwaveforms:')\n",
    "print(wf_dtype)\n",
    "print('\\nimage:')\n",
    "print(im_dtype)"
   ]
  },
  {
   "cell_type": "markdown",
   "id": "b511bc0e-b28b-4418-a07e-5ea03fe6cdc0",
   "metadata": {},
   "source": [
    "Skip invalid points."
   ]
  },
  {
   "cell_type": "code",
   "execution_count": null,
   "id": "98ec832a-8a69-4ba8-b935-3348a7eca1c0",
   "metadata": {},
   "outputs": [],
   "source": [
    "n_valid = len(valid_bcm)\n",
    "print(f'Number of valid points: {n_valid}')\n",
    "for i in range(len(data)):\n",
    "    if i not in valid_bcm:\n",
    "        print(f'Will skip point {i} due to bcm current {np.abs(bcm_data[i]):.2f} < {bcm_limit:.2f}')"
   ]
  },
  {
   "cell_type": "code",
   "execution_count": null,
   "id": "ceab3dd3-9bf6-40e5-91f0-06a4ba514984",
   "metadata": {},
   "outputs": [],
   "source": [
    "writer = h5py.File(join(datadir, 'preproc-' + filename + '.h5'), 'w')\n",
    "data_sc = writer.create_dataset('scalardata', (n_valid,), dtype=sc_dtype)\n",
    "data_wf = writer.create_dataset('wfdata', (n_valid,), dtype=wf_dtype)\n",
    "data_im = writer.create_dataset('imagedata', (n_valid,), dtype=im_dtype)\n",
    "for i, j in enumerate(tqdm(valid_bcm)):\n",
    "    for attr in sc_attrs:\n",
    "        data_sc[i, attr] = data[j, attr]\n",
    "    for attr in wf_attrs:\n",
    "        data_wf[i, attr] = data[j, attr]\n",
    "    for attr in im_attrs:\n",
    "        image = get_image(j)\n",
    "        image = process_image(image, image_crop_edges, image_offset, \n",
    "                              image_thresh, image_downscale)\n",
    "        data_im[i, attr] = image.ravel()\n",
    "writer.close()"
   ]
  },
  {
   "cell_type": "markdown",
   "id": "83193b11-7248-4dbc-9d94-562861294971",
   "metadata": {},
   "source": [
    "Save static html of this notebook."
   ]
  },
  {
   "cell_type": "code",
   "execution_count": null,
   "id": "665b3c73-1d5e-4b1c-8390-51f063dd1828",
   "metadata": {},
   "outputs": [],
   "source": [
    "! jupyter nbconvert scan-xxpy-image-ypdE_step0.ipynb --to html\n",
    "! mv scan-xxpy-image-ypdE_step0.html ./_output\n",
    "! ls _output"
   ]
  },
  {
   "cell_type": "code",
   "execution_count": null,
   "id": "fe67a381-c2e5-46c7-92a8-c8b5bab33d6f",
   "metadata": {},
   "outputs": [],
   "source": []
  }
 ],
 "metadata": {
  "kernelspec": {
   "display_name": "myenv",
   "language": "python",
   "name": "myenv"
  },
  "language_info": {
   "codemirror_mode": {
    "name": "ipython",
    "version": 3
   },
   "file_extension": ".py",
   "mimetype": "text/x-python",
   "name": "python",
   "nbconvert_exporter": "python",
   "pygments_lexer": "ipython3",
   "version": "3.9.7"
  },
  "toc-autonumbering": true
 },
 "nbformat": 4,
 "nbformat_minor": 5
}
