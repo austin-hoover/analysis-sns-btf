{
 "cells": [
  {
   "cell_type": "markdown",
   "id": "129c3f1b-a272-46e8-ba26-2c814b431d6c",
   "metadata": {
    "tags": []
   },
   "source": [
    "# Step 0"
   ]
  },
  {
   "cell_type": "markdown",
   "id": "0b59b23d-84b7-40f9-8dfd-46d6dd939e37",
   "metadata": {},
   "source": [
    "* Read the h5 file containing the scan data.\n",
    "* Make sure the scan went as expected.\n",
    "* Process the camera images.\n",
    "* Create a new h5 file with separate scalar (0D), waveform (1D), and image (2D) data sets. The new file name is \"prepoc-\" + the original file name."
   ]
  },
  {
   "cell_type": "code",
   "execution_count": null,
   "id": "7bc5f5bf-a777-4cbf-a9c7-02547a5191fd",
   "metadata": {},
   "outputs": [],
   "source": [
    "import sys\n",
    "import os\n",
    "from os.path import join\n",
    "from datetime import datetime\n",
    "import importlib\n",
    "import numpy as np\n",
    "import pandas as pd\n",
    "import h5py\n",
    "import skimage\n",
    "from tqdm import trange\n",
    "from tqdm import tqdm\n",
    "from matplotlib import pyplot as plt\n",
    "from matplotlib import patches\n",
    "import proplot as pplt\n",
    "\n",
    "sys.path.append('../..')\n",
    "from tools import energyVS06 as energy\n",
    "from tools import image_processing as ip\n",
    "from tools import plotting as mplt"
   ]
  },
  {
   "cell_type": "code",
   "execution_count": null,
   "id": "38bc9335-4d1a-4afb-bded-f1b825effecf",
   "metadata": {},
   "outputs": [],
   "source": [
    "pplt.rc['cmap.discrete'] = False\n",
    "pplt.rc['cmap.sequential'] = 'viridis'\n",
    "pplt.rc['grid'] = False"
   ]
  },
  {
   "cell_type": "markdown",
   "id": "968b179c-eda3-4948-b22d-a278a80c7bb5",
   "metadata": {
    "tags": []
   },
   "source": [
    "## Load data"
   ]
  },
  {
   "cell_type": "code",
   "execution_count": null,
   "id": "73ba5406-86d1-438f-a07b-3483f031064b",
   "metadata": {},
   "outputs": [],
   "source": [
    "datadir = '/Diagnostics/Data/Measurements/scan-xxpy-image-ypdE/2022-04-29/'\n",
    "filenames = os.listdir(datadir)\n",
    "filenames"
   ]
  },
  {
   "cell_type": "code",
   "execution_count": null,
   "id": "01e62cbf-eab6-4a0b-ae3d-f90a5e8c4509",
   "metadata": {},
   "outputs": [],
   "source": [
    "filename = '220429190854-scan-xxpy-image-ypdE'\n",
    "file = h5py.File(join(datadir, filename + '.h5'), 'r')\n",
    "print(list(file))"
   ]
  },
  {
   "cell_type": "code",
   "execution_count": null,
   "id": "8fdaa7f6-63e9-4c2a-a9e2-e252d3d28794",
   "metadata": {},
   "outputs": [],
   "source": [
    "config = file['config']\n",
    "\n",
    "print(f\"'config', {type(config)}\")\n",
    "for key in config:\n",
    "    print(f\"  '{key}', {type(config[key])}\")\n",
    "    for name in config[key].dtype.names:\n",
    "        print(f'    {name}: {config[key][name]}')"
   ]
  },
  {
   "cell_type": "code",
   "execution_count": null,
   "id": "5d87aa23-3ec7-4eb1-a560-50fb2b9a4261",
   "metadata": {},
   "outputs": [],
   "source": [
    "log = file['log']\n",
    "\n",
    "print(f\"'log', {type(log)}\")\n",
    "for item in log.dtype.fields.items():\n",
    "    print('  ', item)\n",
    "    \n",
    "print('\\nErrors and warnings:')\n",
    "for i in range(log.size):\n",
    "    if not(log[i, 'level'] == 'INFO'.encode('utf')):\n",
    "        timestr = datetime.fromtimestamp(log[i, 'timestamp']).strftime(\"%m/%d/%Y, %H:%M:%S\")\n",
    "        print(f\"{timestr} {log[i, 'message']}\")"
   ]
  },
  {
   "cell_type": "code",
   "execution_count": null,
   "id": "bb3b3a9c-17ed-4da2-ae99-c06c310c0e75",
   "metadata": {},
   "outputs": [],
   "source": [
    "data = file['scandata']\n",
    "\n",
    "print(f\"'scandata', {type(data)}\")\n",
    "for item in data.dtype.fields.items():\n",
    "    print('  ', item)"
   ]
  },
  {
   "cell_type": "code",
   "execution_count": null,
   "id": "b432abe0-1346-4f84-bbc9-c8cffb1690ba",
   "metadata": {},
   "outputs": [],
   "source": [
    "acts = ['y_PositionSync', 'xp_PositionSync', 'x_PositionSync']"
   ]
  },
  {
   "cell_type": "markdown",
   "id": "0780a330-f270-4bd1-8d6a-ebe3ecb7de16",
   "metadata": {},
   "source": [
    "## Scan overview "
   ]
  },
  {
   "cell_type": "markdown",
   "id": "1f1b7cb3-cef1-4d25-8d3c-0302c060e097",
   "metadata": {},
   "source": [
    "### Data collection frequency"
   ]
  },
  {
   "cell_type": "code",
   "execution_count": null,
   "id": "9a5ba029-4c33-4796-a14f-b64c90abe7f2",
   "metadata": {},
   "outputs": [],
   "source": [
    "duration = data[-1, 'timestamp'] - data[0, 'timestamp']\n",
    "iteration_duration = duration / data[-1, 'iteration']\n",
    "points_per_iteration = len(data) / data[-1, 'iteration']\n",
    "print(f'{len(data)} points recorded over {duration:.1f} seconds ({(duration / 3600.0):.1f} hours)')\n",
    "print(f\"Number of iterations: {data[-1, 'iteration']}\")\n",
    "print(f'Effective rep rate: {(len(data) / duration):.2f} Hz')\n",
    "print(f'Time per iteration: {iteration_duration:.2f} seconds')\n",
    "print(f'Points per iteration: {points_per_iteration:.2f} seconds')"
   ]
  },
  {
   "cell_type": "markdown",
   "id": "531441c7-849d-473b-a3af-af3dc05649fd",
   "metadata": {},
   "source": [
    "Look for long pauses during data collection."
   ]
  },
  {
   "cell_type": "code",
   "execution_count": null,
   "id": "832434a2-6c56-48db-8182-1a7cb1ace456",
   "metadata": {},
   "outputs": [],
   "source": [
    "dt = np.diff(data[:, 'timestamp'])\n",
    "rep_rate = 1.0 / np.median(dt)\n",
    "print(f'reprate = {rep_rate:.2f} Hz')\n",
    "\n",
    "print('Pauses longer than 30 seconds:')\n",
    "long_pause = 30.0\n",
    "print(dt[dt > long_pause])\n",
    "dt[dt > long_pause] = 0.2\n",
    "\n",
    "hist, bins = np.histogram(dt, bins=21)\n",
    "idx_bins = np.digitize(dt, bins)\n",
    "idx_pause, = np.where(idx_bins > 1)\n",
    "median_pause = np.median(dt[idx_pause])\n",
    "print(f'Most pauses are {median_pause:.2f} seconds')\n",
    "\n",
    "fig, ax = pplt.subplots()\n",
    "ax.bar(0.5 * (bins[1:] + bins[:-1]), hist, color='black', alpha=0.3)\n",
    "ax.axvline(median_pause, color='black')\n",
    "ax.format(xlabel='Pause length [seconds]', ylabel='Number of points', yscale='log')\n",
    "plt.show()"
   ]
  },
  {
   "cell_type": "markdown",
   "id": "f8af2a79-a72a-47d4-8ed6-23414b203d1c",
   "metadata": {},
   "source": [
    "### Measured beam current"
   ]
  },
  {
   "cell_type": "code",
   "execution_count": null,
   "id": "0f0eec02-6bee-437c-9c8b-3df89862ec1a",
   "metadata": {},
   "outputs": [],
   "source": [
    "bcm = 'bcm04'\n",
    "bcm_limit = 25.0  # [mA]\n",
    "bcm_data = np.copy(data[bcm])\n",
    "\n",
    "idx = np.arange(len(data))\n",
    "idx_mask, = np.where(data[bcm] > -bcm_limit)\n",
    "idx_valid, = np.where(~np.isin(idx, idx_mask))\n",
    "\n",
    "print(f'Average BCM current (before masking) = {np.mean(bcm_data):.3f} +- {np.std(bcm_data):.3f} [mA]')\n",
    "for i in idx_mask:\n",
    "    print(f'Point {i} masked due to {bcm} current < {bcm_limit:.3f} [mA]')\n",
    "print(f'Average BCM current (after masking) = {np.mean(bcm_data[idx_valid]):.3f} +- {np.std(bcm_data[idx_valid]):.3f} [mA]')"
   ]
  },
  {
   "cell_type": "code",
   "execution_count": null,
   "id": "f7324e67-4df7-459a-8971-78c4fa44b7bc",
   "metadata": {
    "tags": []
   },
   "outputs": [],
   "source": [
    "fig, ax = pplt.subplots(figsize=(7.0, 2.0))\n",
    "ax.plot(bcm_data[idx], color='black')\n",
    "ax.plot(idx_mask, bcm_data[idx_mask], color='red', lw=0, marker='.', label='Masked')\n",
    "ax.format(xlabel='Point', ylabel='BCM current [mA]', ygrid=True)\n",
    "ax.legend(loc='upper left')\n",
    "plt.show()"
   ]
  },
  {
   "cell_type": "markdown",
   "id": "7c4a19f5-7460-405b-88cc-7a34fcdbdca5",
   "metadata": {},
   "source": [
    "### Slit positions "
   ]
  },
  {
   "cell_type": "code",
   "execution_count": null,
   "id": "9aed5cd4-854c-459d-920d-d70faaac28dc",
   "metadata": {},
   "outputs": [],
   "source": [
    "for act in acts:\n",
    "    fig, ax = pplt.subplots(figsize=(7.0, 2.0))\n",
    "    ax.plot(idx, data[idx, act], color='black')\n",
    "    ax.plot(idx_mask, data[idx_mask, act], color='red', lw=0, marker='.', label='Masked')\n",
    "    ax.format(xlabel='Point', ylabel=act, ygrid=True)\n",
    "    ax.legend(loc='upper left')\n",
    "    plt.show()"
   ]
  },
  {
   "cell_type": "markdown",
   "id": "a224c64c-9b70-441a-8e7f-b8f3011eef5f",
   "metadata": {},
   "source": [
    "## Process images "
   ]
  },
  {
   "cell_type": "code",
   "execution_count": null,
   "id": "aff80bc4-ec8a-4fc9-9d80-cd9236e4b0ba",
   "metadata": {},
   "outputs": [],
   "source": [
    "cam = 'cam34'\n",
    "cam_settings = ip.camera_settings(cam)\n",
    "ny = cam_settings.ny\n",
    "nx = cam_settings.nx\n",
    "print(f'Raw image shape: ({ny}, {nx})')\n",
    "print(f\"file['scandata'].nbytes = {data.nbytes:.2e}\")"
   ]
  },
  {
   "cell_type": "markdown",
   "id": "3b2d1c9d-3968-458d-bde9-c2651ed9b56b",
   "metadata": {},
   "source": [
    "Use the image with the peak camera integral for testing."
   ]
  },
  {
   "cell_type": "code",
   "execution_count": null,
   "id": "6f70ad30-4813-45ee-8ae6-00edc1b4ae20",
   "metadata": {},
   "outputs": [],
   "source": [
    "ipeak = np.argmax(data[cam + '_Integral'])\n",
    "print(f'Peak signal at i = {ipeak}')\n",
    "\n",
    "fig, axes = pplt.subplots(nrows=2, figsize=(7, 3.5), spany=False)\n",
    "for ax, param in zip(axes, ['Integral', 'Saturation']):\n",
    "    name = cam + '_' + param\n",
    "    ax.scatter(idx, data[name], color='black', alpha=0.5, ec='None', s=2)\n",
    "    ax.scatter(ipeak, data[ipeak, name], color='red', s=3)\n",
    "    ax.format(ylabel=param, xlabel='Point')\n",
    "plt.show()"
   ]
  },
  {
   "cell_type": "code",
   "execution_count": null,
   "id": "24341c8e-a799-4f7d-8694-d60222d36435",
   "metadata": {},
   "outputs": [],
   "source": [
    "def get_image(i, shape=None):\n",
    "    if shape is None:\n",
    "        shape = (cam_settings.ny, cam_settings.nx)\n",
    "    return data[i, cam + '_Image'].reshape(shape)"
   ]
  },
  {
   "cell_type": "code",
   "execution_count": null,
   "id": "426b72e7-4f46-476b-abd5-202c64e88793",
   "metadata": {},
   "outputs": [],
   "source": [
    "im = get_image(ipeak)\n",
    "\n",
    "fig, axes = pplt.subplots(ncols=2)\n",
    "kws = dict(colorbar=True)\n",
    "axes[0].pcolor(im, **kws)\n",
    "axes[1].pcolor(im, norm='log', **kws)\n",
    "plt.show()"
   ]
  },
  {
   "cell_type": "code",
   "execution_count": null,
   "id": "80a5c906-8b67-4ab9-98b5-fd49825e121f",
   "metadata": {},
   "outputs": [],
   "source": [
    "def plot_compare_images(im1, im2, **plot_kws):\n",
    "    \"\"\"Plot images side by side, and a second row in log scale.\"\"\"\n",
    "    fig, axes = pplt.subplots(ncols=2, nrows=2, figwidth=None, sharex=False, sharey=False)\n",
    "    for col, im in enumerate([im1, im2]):\n",
    "        _im = im.copy()\n",
    "        for row, norm in enumerate([None, 'log']):\n",
    "            if norm == 'log':\n",
    "                _im += np.min(_im[_im > 0])\n",
    "            axes[row, col].pcolormesh(_im, norm=norm, **plot_kws)\n",
    "    axes.format(leftlabels=['Normal scale', 'Log scale'])\n",
    "    return axes"
   ]
  },
  {
   "cell_type": "markdown",
   "id": "7f57bfc2-b180-4262-864c-8d7bb511b5da",
   "metadata": {},
   "source": [
    "### Downscale "
   ]
  },
  {
   "cell_type": "code",
   "execution_count": null,
   "id": "b353d339-975a-4a21-b6f1-13458f2307cd",
   "metadata": {},
   "outputs": [],
   "source": [
    "downscale_factor = 2\n",
    "np.savetxt('processed_image_downscale_factor.txt', [downscale_factor], fmt='%i')\n",
    "\n",
    "if downscale_factor > 1:\n",
    "    im1 = skimage.transform.downscale_local_mean(\n",
    "        im, \n",
    "        (downscale_factor, downscale_factor)\n",
    "    )\n",
    "else:\n",
    "    im1 = im\n",
    "axes = plot_compare_images(im, im1, colorbar=True)\n",
    "axes.format(toplabels=['Original', f'Downscaled by factor {downscale_factor}'])"
   ]
  },
  {
   "cell_type": "markdown",
   "id": "66b6c23b-b0e6-48ac-a088-4ce1590c802c",
   "metadata": {},
   "source": [
    "### Crop"
   ]
  },
  {
   "cell_type": "markdown",
   "id": "9bba4c25-fdf5-407a-b3db-5ec73859ee77",
   "metadata": {},
   "source": [
    "If the camera is zoomed out, it is necessary to crop the image to get rid of reflections."
   ]
  },
  {
   "cell_type": "code",
   "execution_count": null,
   "id": "8470ba37-e507-4fd4-9d43-7fd8038edc83",
   "metadata": {},
   "outputs": [],
   "source": [
    "im = im1.copy()"
   ]
  },
  {
   "cell_type": "code",
   "execution_count": null,
   "id": "b5a596f9-1afd-4413-b0d0-b83c478ff82d",
   "metadata": {},
   "outputs": [],
   "source": [
    "x1, x2 = (np.array([135, -90]) / downscale_factor).astype(int)\n",
    "y1, y2 = (np.array([135, -85]) / downscale_factor).astype(int)\n",
    "# x1, x2 = (0, im.shape[1])\n",
    "# y1, y2 = (0, im.shape[0])\n",
    "edges = dict(x1=x1, x2=x2, y1=y1, y2=y2)\n",
    "im1 = ip.crop(im, **edges)\n",
    "\n",
    "axes = plot_compare_images(im, im1, colorbar=True)\n",
    "for ax in axes[:, 0]:\n",
    "    ax.add_patch(patches.Rectangle((x1, y1), im1.shape[1], im1.shape[0], fill=False, ec='red'))\n",
    "plt.show()"
   ]
  },
  {
   "cell_type": "markdown",
   "id": "15dea95f-5f85-4275-9f12-a353558168f7",
   "metadata": {},
   "source": [
    "Get a sense of how cropping affects every image."
   ]
  },
  {
   "cell_type": "code",
   "execution_count": null,
   "id": "74a67f31-308b-4f5b-8465-28ffed8ad710",
   "metadata": {},
   "outputs": [],
   "source": [
    "px = skimage.transform.downscale_local_mean(data[cam + '_ProfileX'], (1, downscale_factor))\n",
    "py = skimage.transform.downscale_local_mean(data[cam + '_ProfileY'], (1, downscale_factor))"
   ]
  },
  {
   "cell_type": "code",
   "execution_count": null,
   "id": "9864253b-1bc1-40bd-8108-51cdc6660bb6",
   "metadata": {},
   "outputs": [],
   "source": [
    "fig, axes = pplt.subplots(nrows=2, ncols=2, figsize=(6, 3.5), sharey=1)\n",
    "for j in range(2):\n",
    "    for ax, func in zip(axes[:, j], [np.mean, np.max]):\n",
    "        for p, label in zip([px, py], ['x', 'y']):\n",
    "            f = func(p, axis=0)\n",
    "            ax.plot(np.arange(p.shape[1]), func(p, axis=0), label=label)\n",
    "axes[0, 1].legend(ncols=1, loc='r')\n",
    "\n",
    "colors = pplt.Cycle('colorblind').by_key()['color']\n",
    "for _x1, _x2, _xmax, c in zip([x1, y1], [x2, y2], [px.shape[1], py.shape[1]], colors):\n",
    "    if _x2 < 0:\n",
    "        _x2 += _xmax\n",
    "    for ax in axes:\n",
    "        ax.axvspan(_x1, _x2, color=c, alpha=0.1)\n",
    "    \n",
    "axes[:, 1].format(yscale='log')\n",
    "axes.format(leftlabels=['Mean', 'Max'], toplabels=['Normal scale', 'Log scale'],\n",
    "            xlabel='Pixel', ylabel='Integrated profile')\n",
    "plt.show()"
   ]
  },
  {
   "cell_type": "markdown",
   "id": "e1aca842-9b63-4b43-b5b9-569c24b33c7a",
   "metadata": {},
   "source": [
    "### Threshold"
   ]
  },
  {
   "cell_type": "code",
   "execution_count": null,
   "id": "c165f792-459b-4c1f-8f46-204cf302a551",
   "metadata": {},
   "outputs": [],
   "source": [
    "im = im1.copy()"
   ]
  },
  {
   "cell_type": "code",
   "execution_count": null,
   "id": "65545182-a231-4054-b048-0f38ebe74705",
   "metadata": {},
   "outputs": [],
   "source": [
    "thresh = 150\n",
    "# thresh = 0\n",
    "thresh_frac_peak = thresh / np.max(im)\n",
    "\n",
    "im1 = im.copy()\n",
    "im1 -= thresh\n",
    "im1[im1 < 0] = 0\n",
    "\n",
    "axes = plot_compare_images(im, np.ma.masked_less_equal(im1, 0), colorbar=True)\n",
    "axes.format(suptitle=f'Threshold at 10^{np.log10(thresh_frac_peak):.2f} of peak')"
   ]
  },
  {
   "cell_type": "code",
   "execution_count": null,
   "id": "b4220094-537e-4770-ad0f-b32fc1c2666e",
   "metadata": {},
   "outputs": [],
   "source": [
    "i, j = np.unravel_index(np.argmax(im), im.shape)\n",
    "fig, axes = pplt.subplots(ncols=3, sharey=False)\n",
    "axes[0].pcolormesh(im)\n",
    "kws = dict(color='red', alpha=0.4)\n",
    "axes[0].axhline(i, **kws)\n",
    "axes[0].axvline(j, **kws)\n",
    "axes[1].set_title(f'Row {i}')\n",
    "axes[2].set_title(f'Column {j}')\n",
    "kws = dict(color='black', lw=None)\n",
    "axes[1].plot(np.arange(im.shape[1]), im[i, :] / np.max(im[i, :]), **kws)\n",
    "axes[2].plot(np.arange(im.shape[0]), im[:, j] / np.max(im[:, j]), **kws)\n",
    "axes[1].axhline(thresh / np.max(im[i, :]), color='black', alpha=0.1)\n",
    "axes[2].axhline(thresh / np.max(im[:, j]), color='black', alpha=0.1)\n",
    "axes[1:].format(yscale='log')\n",
    "plt.show()"
   ]
  },
  {
   "cell_type": "code",
   "execution_count": null,
   "id": "494a7f31-5fd8-4b73-932a-d6a9d5f22a71",
   "metadata": {},
   "outputs": [],
   "source": [
    "im = im1.copy()"
   ]
  },
  {
   "cell_type": "code",
   "execution_count": null,
   "id": "95af4266-4694-4b8d-b271-868c7ab2e06f",
   "metadata": {},
   "outputs": [],
   "source": [
    "ny, nx = im.shape\n",
    "np.savetxt('processed_image_shape.txt', [ny, nx], fmt='%i')\n",
    "print('Processed image shape =', ny, nx)"
   ]
  },
  {
   "cell_type": "markdown",
   "id": "c52cb3f9-3800-4a04-86b6-e687de1b46e9",
   "metadata": {},
   "source": [
    "Now we process all the images."
   ]
  },
  {
   "cell_type": "code",
   "execution_count": null,
   "id": "b7b44e73-9690-4ad1-95bb-de68c40e6733",
   "metadata": {},
   "outputs": [],
   "source": [
    "images = []\n",
    "for i in trange(len(data)):\n",
    "    im = get_image(i)\n",
    "    if downscale_factor > 1:\n",
    "        im = skimage.transform.downscale_local_mean(\n",
    "            im, \n",
    "            (downscale_factor, downscale_factor),\n",
    "        )\n",
    "    im = ip.crop(im, **edges)\n",
    "    im = im - thresh\n",
    "    im[im < 0] = 0\n",
    "    images.append(im)"
   ]
  },
  {
   "cell_type": "markdown",
   "id": "f8d6d4e3-06db-4f1d-9519-1e423fb0c7af",
   "metadata": {},
   "source": [
    "## Write new h5 file"
   ]
  },
  {
   "cell_type": "markdown",
   "id": "de4a3c34-f5a8-468c-8ac8-1125d0584a23",
   "metadata": {},
   "source": [
    "Create a new h5 file with three data sets: scalar (0d), waveform (1d), and image (2d). First, collect the appropriate dtypes."
   ]
  },
  {
   "cell_type": "code",
   "execution_count": null,
   "id": "314a76bb-0887-4b45-81b9-3e2f7d06af1f",
   "metadata": {},
   "outputs": [],
   "source": [
    "attrs = data.dtype.names\n",
    "sc_dtype, sc_attrs = [], list(attrs)\n",
    "print(sc_attrs)\n",
    "wf_dtype, wf_attrs = [], []\n",
    "im_dtype, im_attrs = [], []\n",
    "print('Moving the following columns:')\n",
    "for i in reversed(range(len(attrs))):\n",
    "    attr = attrs[i]\n",
    "    if '_Image' in attr:\n",
    "        sc_attrs.pop(i)\n",
    "        im_attrs.append(attr)\n",
    "        im_dtype.append((attr, data.dtype[attr]))\n",
    "        print(attr)\n",
    "    elif 'Profile' in attr:\n",
    "        sc_attrs.pop(i)\n",
    "        wf_attrs.append(attr)\n",
    "        wf_dtype.append((attr, data.dtype[attr]))\n",
    "        print(attr)\n",
    "    else:\n",
    "        sc_dtype.append((attr, data.dtype[attr]))\n",
    "        \n",
    "sc_dtype = np.dtype(sc_dtype)\n",
    "wf_dtype = np.dtype(wf_dtype)\n",
    "im_dtype = np.dtype(im_dtype)\n",
    "\n",
    "# Override the image dtype. The original images had dtype '<i4', but they\n",
    "# became floats if they were downsized.\n",
    "im_dtype = np.dtype([(cam + '_Image', str(images[0].dtype), (images[0].size,))])\n",
    "\n",
    "print('\\nscalars:')\n",
    "print(sc_dtype)\n",
    "print('\\nwaveforms:')\n",
    "print(wf_dtype)\n",
    "print('\\nimage:')\n",
    "print(im_dtype)"
   ]
  },
  {
   "cell_type": "markdown",
   "id": "b511bc0e-b28b-4418-a07e-5ea03fe6cdc0",
   "metadata": {},
   "source": [
    "Skip points with slow BCM current (see above)."
   ]
  },
  {
   "cell_type": "code",
   "execution_count": null,
   "id": "98ec832a-8a69-4ba8-b935-3348a7eca1c0",
   "metadata": {},
   "outputs": [],
   "source": [
    "n_valid = len(idx_valid)\n",
    "for i in idx_mask:\n",
    "    print(f'Ignoring point {i} due to {bcm} current < {bcm_limit} [mA]')\n",
    "print(f'Number of valid points: {n_valid}')"
   ]
  },
  {
   "cell_type": "code",
   "execution_count": null,
   "id": "ceab3dd3-9bf6-40e5-91f0-06a4ba514984",
   "metadata": {},
   "outputs": [],
   "source": [
    "writer = h5py.File(join(datadir, 'preproc-' + filename + '.h5'), 'w')\n",
    "data_sc = writer.create_dataset('scalardata', (n_valid,), dtype=sc_dtype)\n",
    "data_wf = writer.create_dataset('wfdata', (n_valid,), dtype=wf_dtype)\n",
    "data_im = writer.create_dataset('imagedata', (n_valid,), dtype=im_dtype)\n",
    "for i in trange(n_valid):\n",
    "    for attr in sc_attrs:\n",
    "        data_sc[i, attr] = data[i, attr]\n",
    "    for attr in wf_attrs:\n",
    "        data_wf[i, attr] = data[i, attr]\n",
    "    for attr in im_attrs:\n",
    "        # data_im[i, attr] = data[i, attr]\n",
    "        data_im[i, attr] = images[i].ravel()\n",
    "writer.close()"
   ]
  }
 ],
 "metadata": {
  "kernelspec": {
   "display_name": "myenv",
   "language": "python",
   "name": "myenv"
  },
  "language_info": {
   "codemirror_mode": {
    "name": "ipython",
    "version": 3
   },
   "file_extension": ".py",
   "mimetype": "text/x-python",
   "name": "python",
   "nbconvert_exporter": "python",
   "pygments_lexer": "ipython3",
   "version": "3.9.7"
  },
  "toc-autonumbering": true
 },
 "nbformat": 4,
 "nbformat_minor": 5
}
