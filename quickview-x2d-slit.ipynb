{
 "cells": [
  {
   "cell_type": "code",
   "execution_count": null,
   "id": "6b3f6ec5-c39a-4172-b74b-7656bc8a9271",
   "metadata": {},
   "outputs": [],
   "source": [
    "import sys\n",
    "import os\n",
    "from os.path import join\n",
    "import numpy as np\n",
    "import matplotlib.pyplot as plt\n",
    "import pandas as pd\n",
    "import h5py\n",
    "sys.path.append('/Users/46h/Research/btf/btf-scripts/')\n",
    "import scan_patterns as sp\n",
    "from scipy import ndimage\n",
    "\n",
    "import proplot as pplt\n",
    "pplt.rc['grid'] = False\n",
    "CMAP = 'viridis'\n",
    "pplt.rc['cmap.sequential'] = CMAP\n",
    "pplt.rc['cmap.discrete'] = False"
   ]
  },
  {
   "cell_type": "code",
   "execution_count": null,
   "id": "4015ae65-d006-436c-b61d-c5d82839eaaf",
   "metadata": {},
   "outputs": [],
   "source": [
    "datadir = './Diagnostics/Data/Measurements/2022-04-29/'\n",
    "filenames = os.listdir(datadir)\n",
    "filenames"
   ]
  },
  {
   "cell_type": "code",
   "execution_count": null,
   "id": "860e6ef9-2d69-4503-9ba9-c90ed89e1c17",
   "metadata": {},
   "outputs": [],
   "source": [
    "filename = '220429125723-x2d-slit.h5'\n",
    "camname = 'cam34'\n",
    "ny = 612\n",
    "nx = 512"
   ]
  },
  {
   "cell_type": "code",
   "execution_count": null,
   "id": "89f95501-b95c-4049-b6a3-274236d6d101",
   "metadata": {},
   "outputs": [],
   "source": [
    "file = h5py.File(join(datadir, filename), 'r')\n",
    "data = file['scandata']\n",
    "\n",
    "attrs = data.dtype.names\n",
    "print('attrs:')\n",
    "for attr in attrs:\n",
    "    print('  ', attr)\n",
    "    \n",
    "acts = attrs[6:]\n",
    "print('acts:')\n",
    "for act in acts:\n",
    "    print('  ', act)\n",
    "\n",
    "sdiag = np.array(attrs)[[2, 4, 5]]\n",
    "print('sdiag:', sdiag)\n",
    "\n",
    "signame = f'{camname}_integral'\n",
    "print('signame:', signame)"
   ]
  },
  {
   "cell_type": "code",
   "execution_count": null,
   "id": "c8cef983-a4ac-4f0e-abbc-96dfc9708862",
   "metadata": {},
   "outputs": [],
   "source": [
    "# Errors and warnings from log\n",
    "for i in range(file['log'].size):\n",
    "    if not(file['/log'][i, 'level'] == 'INFO'.encode('utf')):\n",
    "        timestr = datetime.fromtimestamp(file['/log'][0, 'timestamp']).strftime(\"%m/%d/%Y, %H:%M:%S\")\n",
    "        print(f\"{timestr} {file['log'][i, 'message']}\")\n",
    "\n",
    "# Configuration data\n",
    "for key in file['/config'].keys():\n",
    "    print(f\"{key}\")\n",
    "    print(\"--------------\")\n",
    "    for name in file['/config'][key].dtype.names:\n",
    "        print(f\"{name}: {file['config'][key][name]}\")\n",
    "    print()"
   ]
  },
  {
   "cell_type": "code",
   "execution_count": null,
   "id": "a44b7a2b-0d35-4206-9ae5-65634694b41f",
   "metadata": {},
   "outputs": [],
   "source": [
    "fig, ax = pplt.subplots(figsize=(8, 2))\n",
    "for act in acts:\n",
    "    ax.plot(data[:, act], marker=None, label=act)  # plt.plot(tpred,act3,':',color='C2')\n",
    "ax.legend()\n",
    "ax.format(xlabel='Step', ylabel='[mm]')"
   ]
  },
  {
   "cell_type": "code",
   "execution_count": null,
   "id": "186c11a8-a7b5-4e5c-9576-0b3331e03547",
   "metadata": {},
   "outputs": [],
   "source": [
    "fig, ax = pplt.subplots()\n",
    "ax.scatter(data[:, acts[1]], data[:, acts[0]], marker='s', s=50,\n",
    "           c=np.log10(data[:, signame]), cmap=CMAP, \n",
    "           colorbar=True, colorbar_kw=dict(label=f'log10({signame})'))\n",
    "ax.format(xlabel=acts[1], ylabel=acts[0])\n",
    "plt.savefig('_output/x2d')"
   ]
  },
  {
   "cell_type": "code",
   "execution_count": null,
   "id": "6f038a63-18a2-44f7-a3dd-f44001d80221",
   "metadata": {},
   "outputs": [],
   "source": [
    "for item in sdiag:\n",
    "    print(f'Diagnostic: {item}')\n",
    "    print('Max = {:.3f}'.format(np.max(data[:, item])))\n",
    "    print('Min = {:.3f}'.format(np.min(data[:, item])))\n",
    "    print('Mean = {:.3f}'.format(np.mean(data[:, item])))\n",
    "    fig, ax = pplt.subplots(figsize=(7.0, 2.0))\n",
    "    ax.plot(data[:, item], color='black', marker='.', ms=0, label=item)\n",
    "    ax.format(xlabel='Step', ylabel=item)\n",
    "    plt.show()"
   ]
  },
  {
   "cell_type": "markdown",
   "id": "ba938a1b-ac94-4e80-9d53-ba55b4676300",
   "metadata": {},
   "source": [
    "#### Pick frames for background calculation"
   ]
  },
  {
   "cell_type": "code",
   "execution_count": null,
   "id": "7d05292f-3896-456d-8ff9-969b3d0f7ddd",
   "metadata": {},
   "outputs": [],
   "source": [
    "bgidx = np.arange(1, 35)\n",
    "\n",
    "fig, ax = pplt.subplots()\n",
    "ax.plot(data[:, acts[1]], data[:, acts[0]], alpha=0.2)\n",
    "ax.scatter(data[:, acts[1]], data[:, acts[0]], marker='s', \n",
    "           c=np.log10(data[:, signame]), cmap=CMAP,\n",
    "           colorbar=True, colorbar_kw=dict(label=f'log10({signame})'))\n",
    "\n",
    "ax.plot(data[bgidx, acts[1]], data[bgidx, acts[0]], 'rs', label='Background')\n",
    "ax.legend()\n",
    "ax.format(xlabel=acts[1], ylabel=acts[0])"
   ]
  },
  {
   "cell_type": "markdown",
   "id": "5a65a8ec-f4de-419b-82b8-65991c286506",
   "metadata": {
    "tags": []
   },
   "source": [
    "## Threshold and background\n"
   ]
  },
  {
   "cell_type": "code",
   "execution_count": null,
   "id": "60d32194-50a4-458f-9263-521658c0fb64",
   "metadata": {},
   "outputs": [],
   "source": [
    "bg_lvl_est = np.max(data[bgidx, signame])\n",
    "print(f'Background level from integral: {bg_lvl_est:.6f}')\n",
    "\n",
    "thr_lvl_est = bg_lvl_est / np.max(data[:, signame])\n",
    "print(f'Est. D.R. 10^{np.log10(thr_lvl_est):.3f}')\n",
    "\n",
    "bg_mean = data[0, f'{camname}_image']\n",
    "for i in bgidx[1:]:\n",
    "    bg_mean += data[i, f'{camname}_image']\n",
    "    \n",
    "nbg = len(bgidx)\n",
    "bg_mean = bg_mean / nbg\n",
    "bg_ima = np.reshape(bg_mean,[nx,ny])\n",
    "\n",
    "fig, ax = pplt.subplots()\n",
    "ax.pcolormesh(bg_ima, colorbar=True)\n",
    "ax.format(title='averaged background images')"
   ]
  },
  {
   "cell_type": "code",
   "execution_count": null,
   "id": "18af470d-e2f1-449e-bbc8-fd4d80c1275e",
   "metadata": {
    "tags": []
   },
   "outputs": [],
   "source": [
    "w = data[:, signame]\n",
    "# thr = 0.043\n",
    "thr = 0.11\n",
    "w[w < thr] = 0.0\n",
    "print(f'signame = {signame}')\n",
    "print('Est 4D dynamic range 10^%.3f'%np.log10(thr / max(w)))"
   ]
  },
  {
   "cell_type": "code",
   "execution_count": null,
   "id": "d7437057-9f9c-483e-92ce-d46808f5b14a",
   "metadata": {},
   "outputs": [],
   "source": [
    "fig, ax = pplt.subplots(figsize=(8.0, 2.0))\n",
    "ax.semilogy(data[:, signame], color='black')\n",
    "ax.semilogy(w, marker='.', s=4, color='red', lw=0, label='Above thresh')\n",
    "ax.legend()\n",
    "ax.format(xlabel='Step', ylabel=signame)"
   ]
  },
  {
   "cell_type": "code",
   "execution_count": null,
   "id": "09247eb2-3917-4265-aa8f-a3993a461b54",
   "metadata": {},
   "outputs": [],
   "source": [
    "fig, ax = pplt.subplots(figsize=(8.0, 2.0))\n",
    "ax.semilogy(np.sort(data[:, signame]), color='black')\n",
    "ax.semilogy(np.sort(w), marker='.', color='red', lw=0, label='Above thresh')\n",
    "ax.legend()\n",
    "ax.format(xlabel='Step', ylabel=signame,)"
   ]
  },
  {
   "cell_type": "markdown",
   "id": "f62f5601-4d50-4ff2-92ec-6f21968e76cf",
   "metadata": {
    "tags": []
   },
   "source": [
    "### Plot measurement with threshold"
   ]
  },
  {
   "cell_type": "code",
   "execution_count": null,
   "id": "0e8e0083-26c3-45d6-8ce6-54acd4859c53",
   "metadata": {},
   "outputs": [],
   "source": [
    "fig, ax = pplt.subplots()\n",
    "ax.scatter(data[:, acts[1]], data[:, acts[0]], marker='s', s=50,\n",
    "           c=np.log10(w), cmap=CMAP, \n",
    "           colorbar=True, colorbar_kw=dict(label='log10(w)'))\n",
    "ax.format(xlabel=acts[1], ylabel=acts[0])"
   ]
  },
  {
   "cell_type": "markdown",
   "id": "5c4c7cf0-ad1c-4053-848b-38d9c8014869",
   "metadata": {},
   "source": [
    "### Frame with peak signal"
   ]
  },
  {
   "cell_type": "code",
   "execution_count": null,
   "id": "2af48f55-8f53-49f2-bbfa-e2f696432f01",
   "metadata": {},
   "outputs": [],
   "source": [
    "idx = np.argmax(w)\n",
    "max_pixel = np.max(data[idx, f'{camname}_image'])\n",
    "\n",
    "print('peak: ')\n",
    "for item in list(acts) + list(sdiag):\n",
    "    print(f'  {item} = {data[idx, item]:.3f} [mm]')\n",
    "print(f'Max pixel: {max_pixel}')"
   ]
  },
  {
   "cell_type": "markdown",
   "id": "6762480e-39cf-48aa-b603-ea2fad28a566",
   "metadata": {},
   "source": [
    "### Estimate dynamic range by examining frame with peak signal"
   ]
  },
  {
   "cell_type": "code",
   "execution_count": null,
   "id": "8203db79-380d-4a64-8c0b-8ac2eb28cafa",
   "metadata": {},
   "outputs": [],
   "source": [
    "camimage = f'{camname}_image'"
   ]
  },
  {
   "cell_type": "code",
   "execution_count": null,
   "id": "58675243-4741-4547-ae2f-805fe1045fe3",
   "metadata": {},
   "outputs": [],
   "source": [
    "idx = np.argmax(w)\n",
    "im = np.reshape(data[idx, camimage], [nx, ny])\n",
    "pix_max = np.max(im)\n",
    "print(f'Max pixel value {pix_max}')"
   ]
  },
  {
   "cell_type": "code",
   "execution_count": null,
   "id": "e5aca2a6-92b6-46dd-9096-b2f4d5e8894b",
   "metadata": {},
   "outputs": [],
   "source": [
    "fig, axes = pplt.subplots(ncols=2, sharey=False)\n",
    "axes[0].pcolormesh(np.log10(im), colorbar=True)\n",
    "axes[0].annotate('(logscale)', xy=(1, 1), color='white')\n",
    "axes[1].plot(np.sum(im, axis=0))\n",
    "plt.show()"
   ]
  },
  {
   "cell_type": "code",
   "execution_count": null,
   "id": "140ce8ea-745c-4273-a519-9909f325013a",
   "metadata": {},
   "outputs": [],
   "source": [
    "mask = np.ones(np.shape(im))\n",
    "mask[400:, :] = 0.0\n",
    "mask[:100, :] = 0.0\n",
    "mask[:, 480:] = 0.0\n",
    "mask[:, :200] = 0.0\n",
    "immask = im * mask\n",
    "\n",
    "print('5D DR: 10^%.3f'%(np.log10(np.max(mask * bg_ima) / np.max(immask))))\n",
    "print('4D DR: 10^%.3f'%(np.log10(np.sum(mask * bg_ima) / np.sum(immask))))"
   ]
  },
  {
   "cell_type": "code",
   "execution_count": null,
   "id": "e6e9f7e9-a872-4068-8b60-7dcf7bcea65a",
   "metadata": {},
   "outputs": [],
   "source": [
    "fig, axes = pplt.subplots(ncols=2, sharey=False)\n",
    "axes[0].pcolormesh(np.log10(immask))\n",
    "axes[0].annotate('(logscale)', xy=(1, 1), color='white')\n",
    "axes[1].plot(np.sum(im, axis=0))\n",
    "plt.show()"
   ]
  },
  {
   "cell_type": "code",
   "execution_count": null,
   "id": "022e8487-0e23-4c32-8ad4-a1666e61c846",
   "metadata": {},
   "outputs": [],
   "source": [
    "thr2 = 1e5\n",
    "\n",
    "plt.figure()\n",
    "imathr = im.copy()\n",
    "imathr[imathr < thr2] = 0.0\n",
    "plt.pcolor(np.log10(imathr))\n",
    "\n",
    "print('naive 5D DR: 10^%.3f'%(np.log10(thr2/imathr.max())))\n",
    "print('naive 4D DR: 10^%.3f'%(np.log10(thr2/imathr.sum())))\n",
    "print('5D DR: 10^%.3f'%(np.log10(bg_ima.max()/im.max())))\n",
    "print('4D DR: 10^%.3f'%(np.log10(bg_ima.sum()/im.sum())))"
   ]
  },
  {
   "cell_type": "markdown",
   "id": "00312e0a-06c2-4388-b811-2238199e84ad",
   "metadata": {
    "tags": []
   },
   "source": [
    "#### Threshold after smoothing"
   ]
  },
  {
   "cell_type": "code",
   "execution_count": null,
   "id": "f7535049-88cb-410c-be92-562f3bc2a4b5",
   "metadata": {},
   "outputs": [],
   "source": [
    "ima = im\n",
    "ima_smooth = ndimage.gaussian_filter(ima, 5, mode='nearest')\n",
    "\n",
    "thr2 = 50000.0\n",
    "plt.figure()\n",
    "imathr = ima_smooth.copy()\n",
    "imathr[imathr < thr2] = 0.0\n",
    "plt.pcolor(np.log10(imathr))\n",
    "\n",
    "print('naive 5D DR: 10^%.3f'%(np.log10(thr2/imathr.max())))\n",
    "print('naive 4D DR: 10^%.3f'%(np.log10(thr2/imathr.sum())))\n",
    "print('5D DR: 10^%.3f'%(np.log10(bg_ima.max()/ima.max())))\n",
    "print('4D DR: 10^%.3f'%(np.log10(bg_ima.sum()/ima.sum())))"
   ]
  },
  {
   "cell_type": "markdown",
   "id": "fb63ccc1-348d-4df2-b49d-7a87dd2567da",
   "metadata": {},
   "source": [
    "## Measure against new scan boundaries"
   ]
  },
  {
   "cell_type": "markdown",
   "id": "f3a9744b-de42-47c0-a4cd-fc68a3171123",
   "metadata": {},
   "source": [
    "Make a list of coordinates that have signal."
   ]
  },
  {
   "cell_type": "code",
   "execution_count": null,
   "id": "9691adf6-f9f5-4c77-accb-60cfe9e29c29",
   "metadata": {},
   "outputs": [],
   "source": [
    "pts = np.vstack([data[:, acts[0]], data[:, acts[1]]]).T\n",
    "idx, = np.where(w > 0.0)\n",
    "sigpts = pts[idx, :]"
   ]
  },
  {
   "cell_type": "code",
   "execution_count": null,
   "id": "7045dfe3-bd4a-4512-a8d3-cf724680d773",
   "metadata": {},
   "outputs": [],
   "source": [
    "ndim = 2\n",
    "M = np.identity(ndim)\n",
    "M[0, 1] = 1.9\n",
    "\n",
    "# xp\n",
    "d1_center = 15.0\n",
    "d1_distance = 24.0\n",
    "d1_steps = 32\n",
    "\n",
    "# x\n",
    "d2_center = 21.0\n",
    "d2_distance = 17.5\n",
    "d2_steps = 32\n",
    "\n",
    "reprate = 5\n",
    "navg = 10"
   ]
  },
  {
   "cell_type": "code",
   "execution_count": null,
   "id": "2e8d01f3-d111-41d9-b35d-960827922aa9",
   "metadata": {
    "tags": []
   },
   "outputs": [],
   "source": [
    "# def gen(): \n",
    "    \n",
    "#     center = np.array([slit_dict[keys[i]]['center'] for i in range(ndim)])\n",
    "#     distance = np.array([slit_dict[keys[i]]['distance'] for i in range(ndim)])\n",
    "#     nsteps = np.array([slit_dict[keys[i]]['steps'] for i in range(ndim)])\n",
    "#     stepsize = distance / nsteps\n",
    "\n",
    "#     start = center -0.5*distance\n",
    "#     taking_step = [False,]*ndim\n",
    "#     step_counter = [0,]*ndim\n",
    "    \n",
    "#     # -- if sweeper scan, adjust step parameters for first actuator\n",
    "#     if navg == 0: \n",
    "#         sweep_speed = stepsize[0]*reprate\n",
    "#         stepsize[0] = distance[0]\n",
    "#         nsteps[0] = 1\n",
    "\n",
    "#     # -- scan is complete after <npoints> steps\n",
    "#     npoints = 1\n",
    "#     for i in range(ndim):\n",
    "#         npoints *= (nsteps[i]  +1 )\n",
    "\n",
    "#     # start loop\n",
    "#     taking_step[0] = True\n",
    "#     counter = 0\n",
    "#     lastpoint = start\n",
    "#     while counter < npoints:\n",
    "#         # print('%i / %i, %.1f%%'%(counter,npoints,counter*100./npoints))\n",
    "#         # -- send actuators to starting point\n",
    "#         # -- this is only needed for stepper scan\n",
    "#         if (counter == 0) & (navg > 0):\n",
    "#             counter += 1\n",
    "#             # -- cast int sheared frame first:\n",
    "#             nextactpoint = np.matmul(M,lastpoint - center) + center\n",
    "#             # don't let slit destination exceed min/max specified in slit_dict\n",
    "#             # skip points that exceed this limit, but otherwise do not change scan\n",
    "#             skipFlag = False\n",
    "#             for i in range(ndim):\n",
    "#                 if (nextactpoint[i] > slit_dict[keys[i]]['max']) or (nextactpoint[i] < slit_dict[keys[i]]['min']):\n",
    "#                     skipFlag = True\n",
    "#             if not(skipFlag):    \n",
    "#                 cmd = list(nextactpoint)\n",
    "#                 yield cmd, navg\n",
    "                \n",
    "#         counter += 1\n",
    "#         thisstep = [0,]*ndim\n",
    "#         for i in range(ndim):\n",
    "#             # -- if end of line has been reached\n",
    "#             if step_counter[i] >= nsteps[i]:\n",
    "#                 # -- stop stepping this actuator\n",
    "#                 taking_step[i] = False\n",
    "#                 # -- and make sure the next actuator knows it's time to step\n",
    "#                 taking_step[int(np.mod(i+1,ndim))] = True\n",
    "#                 # -- and roll over the stepcounter\n",
    "#                 step_counter[i] = np.mod(step_counter[i],nsteps[i])\n",
    "#                 # -- while also reversing direction of step\n",
    "#                 stepsize[i] *= -1\n",
    "#             # -- if end of line has not been reached\n",
    "#             elif taking_step[i]:\n",
    "#                 # -- take the next assigned step\n",
    "#                 thisstep[i] += stepsize[i]\n",
    "#                 # -- add one to step_counter\n",
    "#                 step_counter[i] += 1\n",
    "\n",
    "#                 # -- now that a step has been taken, stop until your turn comes up again \n",
    "#                 # unless you're the first actuator; that guy always steps\n",
    "#                 if i > 0:\n",
    "#                     taking_step[i] = False\n",
    "#                     taking_step[0] = True\n",
    "\n",
    "#             # -- exit loop if an actuator has stepped\n",
    "#             if thisstep[i] != 0:\n",
    "#                 break\n",
    "\n",
    "#         # -- get startpoint in actuator coordinates\n",
    "#         startactpoint = np.matmul(M,lastpoint - center) + center\n",
    "#         # -- progress 1 step\n",
    "#         lastpoint = lastpoint + thisstep\n",
    "#         # -- cast into actuator coordinates (sheared frame)\n",
    "#         nextactpoint = np.matmul(M,lastpoint - center) + center\n",
    "        \n",
    "#         ##### deal with points outside slit min/max limits.\n",
    "#         # -- distinguish between steppers, sweepers\n",
    "#         isweep = []\n",
    "#         if navg != 0: # all steppers if averaging is on\n",
    "#             istep = range(ndim)\n",
    "#         else: \n",
    "#             istep = []; \n",
    "#             for j in range(0,ndim):\n",
    "#                 dxj =  np.abs(nextactpoint[j] - startactpoint[j])\n",
    "#                 if dxj == 0: # if distance == 0, this point is a stepping point\n",
    "#                     istep.append(j)\n",
    "#                 else:\n",
    "#                     isweep.append(j)\n",
    "                    \n",
    "#         # step scan: skip points that exceed this limit, but otherwise do not change scan\n",
    "#         skipFlag = False\n",
    "#         for i in istep:\n",
    "#             if (nextactpoint[i] > slit_dict[keys[i]]['max']) or (nextactpoint[i] < slit_dict[keys[i]]['min']):\n",
    "#                 skipFlag = True   \n",
    "#         # sweep scan; this will result in odd behavior if there is > 1 sweeper.\n",
    "#         for i in isweep:\n",
    "#             if (startactpoint[i] > slit_dict[keys[i]]['max']):\n",
    "#                 startactpoint[i] = slit_dict[keys[i]]['max']\n",
    "#                 print('%i sweep shortened on max end'%counter)\n",
    "#             if (startactpoint[i] < slit_dict[keys[i]]['min']):\n",
    "#                 startactpoint[i] = slit_dict[keys[i]]['min']\n",
    "#                 print('%i sweep shortened on minend'%counter)\n",
    "#             if (nextactpoint[i] > slit_dict[keys[i]]['max']):\n",
    "#                 nextactpoint[i] = slit_dict[keys[i]]['max']\n",
    "#                 print('%i sweep shortened on max end'%counter)\n",
    "#             if (nextactpoint[i] < slit_dict[keys[i]]['min']):\n",
    "#                 nextactpoint[i] = slit_dict[keys[i]]['min']\n",
    "#                 print('%i sweep shortened on minend'%counter)\n",
    "\n",
    "#         ##### STEPPER SCAN COMMAND\n",
    "#         if (navg > 0) & (not(skipFlag)):\n",
    "#             cmd = list(nextactpoint)\n",
    "#             yield cmd ,navg\n",
    "\n",
    "#         ##### SWEEPER SCAN COMMAND\n",
    "#         elif (navg == 0) & (not(skipFlag)): \n",
    "#             # -- skip step if sweeper is not moving\n",
    "#             if thisstep[0] == 0:\n",
    "#                 continue\n",
    "#             # -- send command if sweeper is moving on this step\n",
    "#             else:                \n",
    "#                 # -- sweeper command\n",
    "#                 cmd = []\n",
    "#                 startpt = startactpoint[0]#np.min([startactpoint[0],49])\n",
    "#                 endpt = nextactpoint[0]#np.min([nextactpoint[0],49])\n",
    "#                 cmd.append((startpt,endpt,sweep_speed))\n",
    "#                 # -- commands for the rest of the actuators\n",
    "#                 for j in range(1,ndim):\n",
    "#                     # if slope, stepper may have to sweep as well\n",
    "#                     stepper_speed = sweep_speed * np.abs(nextactpoint[j] - startactpoint[j]) / d1_distance\n",
    "#                     cmd.append((startactpoint[j],nextactpoint[j],stepper_speed))\n",
    "#             lastcmd = cmd.copy() # -- copy command in case it needs repeated\n",
    "#             yield cmd"
   ]
  },
  {
   "cell_type": "code",
   "execution_count": null,
   "id": "483eb953-e4fd-4b98-882f-3af842db85bb",
   "metadata": {},
   "outputs": [],
   "source": [
    "def gen(start=0): \n",
    "    center = np.array([d1_center, d2_center])\n",
    "    distance = np.array([d1_distance, d2_distance])\n",
    "    nsteps = np.array([d1_steps, d2_steps])\n",
    "    stepsize = distance / nsteps\n",
    "    counter = 0\n",
    "        \n",
    "    ##### STEPPER SCAN COMMANDS\n",
    "    if navg > 0:             \n",
    "        for point in sp.grid(center,distance,nsteps): \n",
    "            realpoint = np.matmul(M,point-center) + center\n",
    "\n",
    "            counter += 1\n",
    "            if counter > start:\n",
    "                yield realpoint, navg\n",
    "        \n",
    "    ##### SWEEPER SCAN COMMANDS\n",
    "    elif navg == 0:\n",
    "        sweep_speed = distance[0]/nsteps[0]*reprate\n",
    "        nsteps[0] = 1\n",
    "\n",
    "        lastpoint = next(sp.grid(center,distance,nsteps))\n",
    "        for point in sp.grid(center,distance,nsteps): \n",
    "            # -- skip step if sweeper is not moving\n",
    "            if (point[0] - lastpoint[0]) == 0:\n",
    "                lastpoint = point.copy()\n",
    "                continue\n",
    "\n",
    "            # -- send command if sweeper is moving on this step\n",
    "            else: \n",
    "                # -- first transform to real coordinates\n",
    "                realpoint = np.matmul(M,point-center) + center\n",
    "                reallastpoint = np.matmul(M,lastpoint-center) + center\n",
    "\n",
    "                # -- build up cmd list\n",
    "                cmd = []\n",
    "                # -- sweeper command\n",
    "                cmd.append((reallastpoint[0],realpoint[0],sweep_speed))\n",
    "                # -- commands for the rest of the actuators\n",
    "                for j in range(1,ndim):\n",
    "                    # if slope, stepper may have to sweep as well\n",
    "                    stepper_speed = sweep_speed * np.abs(realpoint[j] - reallastpoint[j]) / distance[0]\n",
    "                    cmd.append((reallastpoint[j],realpoint[j],stepper_speed))\n",
    "            \n",
    "                lastpoint = point.copy()\n",
    "            counter+=1\n",
    "            if counter>start:        \n",
    "                yield cmd"
   ]
  },
  {
   "cell_type": "code",
   "execution_count": null,
   "id": "0be5be9c-9c11-4f60-ac54-e55f6976bca4",
   "metadata": {
    "tags": []
   },
   "outputs": [],
   "source": [
    "# -- run points generator\n",
    "\n",
    "# -- re-arrange array\n",
    "#  sweeping\n",
    "# genpts = np.array(list(gen()))\n",
    "# newpts = np.zeros([np.shape(genpts)[0]*2,ndim])\n",
    "# for i in range(ndim):\n",
    "#     newpts[:,i] = genpts[:,i,0:2].flatten()\n",
    "\n",
    "# averaging\n",
    "lgen= list(gen())\n",
    "newpts = np.zeros([len(lgen), ndim])\n",
    "for i in range(len(lgen)):\n",
    "    newpts[i, :] = lgen[i][0]\n",
    "    \n",
    "# Un-shear new (generated) points.\n",
    "center = center = np.array([d1_center, d2_center])\n",
    "Minv = np.linalg.inv(M)\n",
    "newpts_n = np.zeros(np.shape(newpts))\n",
    "for row in range(np.shape(newpts)[0]):\n",
    "    newpts_n[row, :] = np.matmul(Minv, newpts[row, :] - center) + center\n",
    "    \n",
    "# Un-shear signal points.\n",
    "sigpts_n = np.zeros(sigpts.shape)\n",
    "for row in range(np.shape(sigpts)[0]):\n",
    "    sigpts_n[row, :] = np.matmul(Minv, sigpts[row, :] - center) + center"
   ]
  },
  {
   "cell_type": "code",
   "execution_count": null,
   "id": "3a869f95-e5b7-49fe-9016-acd0ef967438",
   "metadata": {},
   "outputs": [],
   "source": [
    "coords = np.vstack([data[:, acts[0]], data[:, acts[1]]]).T\n",
    "coords_n = np.zeros(coords.shape)\n",
    "for row in range(coords.shape[0]):\n",
    "    coords_n[row, :] = np.matmul(Minv, coords[row, :] - center) + center"
   ]
  },
  {
   "cell_type": "code",
   "execution_count": null,
   "id": "4aca5676-b3ac-4e4d-8963-9dc58daa5631",
   "metadata": {},
   "outputs": [],
   "source": [
    "fig, axes = pplt.subplots(ncols=2, sharex=False, sharey=False,\n",
    "                          wspace=8.0, figwidth=8.0)\n",
    "for ax, signal, new in zip(axes, [sigpts, sigpts_n], [newpts, newpts_n]):\n",
    "    ax.scatter(signal[:, 0], signal[:, 1], marker='s', color='black', label='signal')\n",
    "    ax.plot(new[:, 0], new[:, 1], marker='.', s=4, color='grey', label='scan');\n",
    "axes.format(xlabel=acts[0], ylabel=acts[1], toplabels=['Sheared', 'Un-sheared'])\n",
    "axes[0].axvline(49.0, color='red', label='limit')\n",
    "axes[0].legend(ncols=1)\n",
    "plt.show()"
   ]
  },
  {
   "cell_type": "code",
   "execution_count": null,
   "id": "8c971c4b-5d11-499d-8d56-73e330464839",
   "metadata": {},
   "outputs": [],
   "source": [
    "# fig, axes = pplt.subplots(ncols=2, sharex=False, sharey=False,\n",
    "#                           wspace=8.0, figwidth=7.0)\n",
    "# axes[0].scatter(sigpts[:, 0], sigpts[:, 1], marker='s', color='black', label='signal')\n",
    "# axes[0].plot(newpts[:, 1], newpts[:, 2], marker='.', s=4, color='grey', label='scan');\n",
    "# # axes.format(xlabel=acts[0], ylabel=acts[1], toplabels=['Sheared', 'Un-sheared'])\n",
    "# # xlim = axes[0].get_xlim()\n",
    "# # ylim = axes[0].get_ylim()\n",
    "# # for x in [-50.0, 50.0]:\n",
    "# #     axes[0].axvline(x, color='red')\n",
    "# #     if x == 50.0:\n",
    "# #         axes[0].axhline(x, color='red', label='limit')\n",
    "# #     else:\n",
    "# #         axes[0].axhline(x, color='red')\n",
    "# # axes[0].format(xlim=(min(-5, axes[0].get_xlim()[0]), 50.0))\n",
    "# # axes[0].format(ylim=(min(-5, axes[0].get_ylim()[0]), 50.0))\n",
    "# axes[0].legend(ncols=1)\n",
    "# plt.show()"
   ]
  },
  {
   "cell_type": "code",
   "execution_count": null,
   "id": "ec4f91de-2784-4a56-b88c-c4f3f4eecf4a",
   "metadata": {},
   "outputs": [],
   "source": [
    "np.min(newpts, axis=0)"
   ]
  },
  {
   "cell_type": "code",
   "execution_count": null,
   "id": "0412077c-865a-4ad7-83e3-c1ec0ba5f900",
   "metadata": {},
   "outputs": [],
   "source": [
    "np.max(newpts, axis=0)"
   ]
  },
  {
   "cell_type": "code",
   "execution_count": null,
   "id": "45ae9a1a-3736-4beb-8e66-b71994b0d7dd",
   "metadata": {},
   "outputs": [],
   "source": []
  }
 ],
 "metadata": {
  "kernelspec": {
   "display_name": "Python 3",
   "language": "python",
   "name": "python3"
  },
  "language_info": {
   "codemirror_mode": {
    "name": "ipython",
    "version": 3
   },
   "file_extension": ".py",
   "mimetype": "text/x-python",
   "name": "python",
   "nbconvert_exporter": "python",
   "pygments_lexer": "ipython3",
   "version": "3.7.6"
  }
 },
 "nbformat": 4,
 "nbformat_minor": 5
}
