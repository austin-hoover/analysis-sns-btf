{
 "cells": [
  {
   "cell_type": "markdown",
   "id": "7a6a345b-4755-4a21-8c4c-72ab506dd637",
   "metadata": {},
   "source": [
    "# 4D scan"
   ]
  },
  {
   "cell_type": "code",
   "execution_count": null,
   "id": "6b3f6ec5-c39a-4172-b74b-7656bc8a9271",
   "metadata": {},
   "outputs": [],
   "source": [
    "import sys\n",
    "import os\n",
    "from os.path import join\n",
    "from pprint import pprint\n",
    "import importlib\n",
    "import numpy as np\n",
    "import matplotlib.pyplot as plt\n",
    "from matplotlib import patches\n",
    "import pandas as pd\n",
    "import h5py\n",
    "from scipy import ndimage\n",
    "import proplot as pplt\n",
    "\n",
    "sys.path.append('..')\n",
    "from tools import plotting as mplt\n",
    "from tools import utils\n",
    "\n",
    "sys.path.append('/Users/46h/Research/btf/btf-scripts/')\n",
    "import scan_patterns as sp"
   ]
  },
  {
   "cell_type": "code",
   "execution_count": null,
   "id": "13ce0cb5-30ef-433c-873f-0b9d8533869d",
   "metadata": {},
   "outputs": [],
   "source": [
    "pplt.rc['grid'] = False\n",
    "pplt.rc['cmap.sequential'] = 'viridis'\n",
    "pplt.rc['cmap.discrete'] = False"
   ]
  },
  {
   "cell_type": "markdown",
   "id": "ee97339a-61bb-4fb8-a216-2a8b95e06574",
   "metadata": {},
   "source": [
    "## Load data "
   ]
  },
  {
   "cell_type": "code",
   "execution_count": null,
   "id": "4015ae65-d006-436c-b61d-c5d82839eaaf",
   "metadata": {},
   "outputs": [],
   "source": [
    "datadir = '../Diagnostics/Data/Measurements/transverse4d/2022-07-09/'\n",
    "filenames = os.listdir(datadir)\n",
    "filenames"
   ]
  },
  {
   "cell_type": "code",
   "execution_count": null,
   "id": "89f95501-b95c-4049-b6a3-274236d6d101",
   "metadata": {},
   "outputs": [],
   "source": [
    "filename = '220709153435-transverse4d'\n",
    "file = h5py.File(join(datadir, filename + '.h5'), 'r')\n",
    "print(list(file))"
   ]
  },
  {
   "cell_type": "code",
   "execution_count": null,
   "id": "111bbf94-c98f-483b-97f3-20864b3d50f7",
   "metadata": {},
   "outputs": [],
   "source": [
    "if 'config' in file:\n",
    "    config = file['config']\n",
    "    print(f\"'config', {type(config)}\")\n",
    "    for key in config:\n",
    "        print(f\"  '{key}', {type(config[key])}\")\n",
    "        for name in config[key].dtype.names:\n",
    "            print(f'    {name}: {config[key][name]}')\n",
    "    # Make dictionary of metadata\n",
    "    metadata = dict()\n",
    "    for name in config['metadata'].dtype.names:\n",
    "        metadata[name] = config['metadata'][name]\n",
    "else:\n",
    "    # Older measurement; metadata is in json file.\n",
    "    metadata = json.load(open(join(datadir, filename + '-metadata.json'), 'r'))\n",
    "    _metadata = dict()\n",
    "    for _dict in metadata.values():\n",
    "        for key, value in _dict.items():\n",
    "            _metadata[key] = value\n",
    "    metadata = _metadata\n",
    "    pprint(metadata)"
   ]
  },
  {
   "cell_type": "code",
   "execution_count": null,
   "id": "1769772f-5f84-43de-bc2f-c091a6e1d4da",
   "metadata": {},
   "outputs": [],
   "source": [
    "if 'log' in file:\n",
    "    log = file['log']\n",
    "    print(f\"'log', {type(log)}\")\n",
    "    for item in log.dtype.fields.items():\n",
    "        print('  ', item)\n",
    "\n",
    "    print('\\nErrors and warnings:')\n",
    "    for i in range(log.size):\n",
    "        if not(log[i, 'level'] == 'INFO'.encode('utf')):\n",
    "            timestr = datetime.fromtimestamp(log[i, 'timestamp']).strftime(\"%m/%d/%Y, %H:%M:%S\")\n",
    "            print(f\"{timestr} {log[i, 'message']}\")"
   ]
  },
  {
   "cell_type": "code",
   "execution_count": null,
   "id": "0eea633c-4c71-4bbc-991c-201ab9d4919b",
   "metadata": {},
   "outputs": [],
   "source": [
    "data = file['scandata']\n",
    "\n",
    "print(f\"'scandata', {type(data)}\")\n",
    "for item in data.dtype.fields.items():\n",
    "    print('  ', item)"
   ]
  },
  {
   "cell_type": "code",
   "execution_count": null,
   "id": "5cf42781-f738-4ae6-aa42-9bbc2d69b756",
   "metadata": {},
   "outputs": [],
   "source": [
    "acts = ['xp_PositionSync', 'x_PositionSync', 'yp_PositionSync', 'y_PositionSync']"
   ]
  },
  {
   "cell_type": "markdown",
   "id": "8ca4a9d4-074f-4ea0-9057-00ffe233dcd7",
   "metadata": {},
   "source": [
    "## Scan overview "
   ]
  },
  {
   "cell_type": "code",
   "execution_count": null,
   "id": "620dbb24-840c-4b7d-b751-94714d9e1134",
   "metadata": {},
   "outputs": [],
   "source": [
    "for pv in ['cam06_Saturation']:\n",
    "    fig, ax = pplt.subplots(figsize=(8.0, 1.5))\n",
    "    ax.plot(data[pv], color='black')\n",
    "    ax.format(ylabel=pv)\n",
    "    plt.savefig"
   ]
  },
  {
   "cell_type": "markdown",
   "id": "18dea67a-4134-4958-8679-b6c41939f458",
   "metadata": {},
   "source": [
    "### Data collection frequency"
   ]
  },
  {
   "cell_type": "code",
   "execution_count": null,
   "id": "e66121d0-4003-40d8-89da-628d3c8aeeb9",
   "metadata": {},
   "outputs": [],
   "source": [
    "duration = data[-1, 'timestamp'] - data[0, 'timestamp']\n",
    "iteration_duration = duration / data[-1, 'iteration']\n",
    "points_per_iteration = len(data) / data[-1, 'iteration']\n",
    "print(f'{len(data)} points recorded over {duration:.1f} seconds ({(duration / 3600.0):.1f} hours)')\n",
    "print(f\"Number of iterations: {data[-1, 'iteration']}\")\n",
    "print(f'Effective rep rate: {(len(data) / duration):.2f} Hz')\n",
    "print(f'Time per iteration: {iteration_duration:.2f} seconds')\n",
    "print(f'Points per iteration: {points_per_iteration:.2f}')"
   ]
  },
  {
   "cell_type": "markdown",
   "id": "a6664b52-a1e3-4def-8d0d-4f276cb8d3f3",
   "metadata": {},
   "source": [
    "Look for long pauses during data collection."
   ]
  },
  {
   "cell_type": "code",
   "execution_count": null,
   "id": "1360ef2f-0526-41cc-b349-b69616260fd2",
   "metadata": {},
   "outputs": [],
   "source": [
    "dt = np.diff(data[:, 'timestamp'])\n",
    "rep_rate = 1.0 / np.median(dt)\n",
    "print(f'reprate = {rep_rate:.2f} Hz')\n",
    "\n",
    "print('Pauses longer than 30 seconds:')\n",
    "long_pause = 30.0\n",
    "print(dt[dt > long_pause])\n",
    "dt[dt > long_pause] = 0.2\n",
    "\n",
    "hist, bins = np.histogram(dt, bins=21)\n",
    "idx_bins = np.digitize(dt, bins)\n",
    "idx_pause, = np.where(idx_bins > 1)\n",
    "median_pause = np.median(dt[idx_pause])\n",
    "print(f'Most pauses are {median_pause:.2f} seconds')\n",
    "\n",
    "fig, ax = pplt.subplots()\n",
    "ax.bar(0.5 * (bins[1:] + bins[:-1]), hist, color='black', alpha=0.3)\n",
    "ax.axvline(median_pause, color='black')\n",
    "ax.format(xlabel='Pause length [seconds]', ylabel='Number of points', yscale='log')\n",
    "# plt.savefig('_output/pauses.png')"
   ]
  },
  {
   "cell_type": "markdown",
   "id": "c65b2df6-517f-466b-9822-8f1a1fe6a64d",
   "metadata": {},
   "source": [
    "### BCM current"
   ]
  },
  {
   "cell_type": "code",
   "execution_count": null,
   "id": "1b5b5b2e-b453-4f5a-945e-edcad440dabe",
   "metadata": {},
   "outputs": [],
   "source": [
    "bcm = 'bcm04_Current'\n",
    "bcm_limit = 24.0  # [mA]\n",
    "bcm_data = np.copy(data[bcm])\n",
    "\n",
    "idx = np.arange(len(data))\n",
    "idx_mask, = np.where(data[bcm] > -bcm_limit)\n",
    "idx_valid, = np.where(~np.isin(idx, idx_mask))\n",
    "\n",
    "print(f'Average BCM current (before masking) = {np.mean(bcm_data):.3f} +- {np.std(bcm_data):.3f} [mA]')\n",
    "for i in idx_mask:\n",
    "    print(f'Point {i} masked due to {bcm} current < {bcm_limit:.3f} [mA]')\n",
    "print(f'Average BCM current (after masking) = {np.mean(bcm_data[idx_valid]):.3f} +- {np.std(bcm_data[idx_valid]):.3f} [mA]')"
   ]
  },
  {
   "cell_type": "code",
   "execution_count": null,
   "id": "e6cf4491-ba34-4539-9d74-34cc74b71f29",
   "metadata": {
    "tags": []
   },
   "outputs": [],
   "source": [
    "fig, ax = pplt.subplots(figsize=(7.0, 2.0))\n",
    "ax.plot(bcm_data[idx], color='black')\n",
    "ax.plot(idx_mask, bcm_data[idx_mask], color='red', lw=0, marker='.', label='Masked')\n",
    "ax.format(xlabel='Point', ylabel='BCM current [mA]', ygrid=True)\n",
    "ax.legend(loc='upper left')\n",
    "# plt.savefig('_output/bcm_mask.png')\n",
    "plt.show()"
   ]
  },
  {
   "cell_type": "markdown",
   "id": "4e6a09fe-64d4-4db9-a577-959483f86edb",
   "metadata": {},
   "source": [
    "### Slit positions "
   ]
  },
  {
   "cell_type": "code",
   "execution_count": null,
   "id": "4c24ec12-229f-445f-af1e-c270ef1d2cef",
   "metadata": {},
   "outputs": [],
   "source": [
    "for act in acts:\n",
    "    fig, ax = pplt.subplots(figsize=(7.0, 2.0))\n",
    "    ax.plot(idx, data[idx, act], color='black')\n",
    "    ax.plot(idx_mask, data[idx_mask, act], color='red', lw=0, marker='.', label='Masked')\n",
    "    ax.format(xlabel='Point', ylabel=act)\n",
    "    ax.legend(loc='upper left')\n",
    "#     plt.savefig('_output/acts_mask.png')\n",
    "    plt.show()"
   ]
  },
  {
   "cell_type": "code",
   "execution_count": null,
   "id": "4985db8d-2d7d-4577-b2ba-5a6dac7b670c",
   "metadata": {},
   "outputs": [],
   "source": [
    "fig, axes = pplt.subplots(figsize=(7.0, 5.5), nrows=4, spany=False)\n",
    "axes.format(cycle='default')\n",
    "labels = ['x2', 'x1', 'y2', 'y1']\n",
    "for i in (range(4)):\n",
    "    axes[i].plot(data[acts[i]], label=labels[i], color='black', lw=1.1)\n",
    "    axes[i].format(xlabel='Point', ylabel=acts[i])\n",
    "plt.savefig('_output/acts.png')\n",
    "plt.show()"
   ]
  },
  {
   "cell_type": "code",
   "execution_count": null,
   "id": "125a1df5-8d30-40cf-af0e-0ddc1c41e847",
   "metadata": {},
   "outputs": [],
   "source": [
    "fig, axes = pplt.subplots(nrows=len(acts), ncols=len(acts), figwidth=4.0*len(acts)/3, \n",
    "                          spanx=False, spany=False, aligny=True)\n",
    "for i in range(len(acts)):\n",
    "    for j in range(len(acts)):\n",
    "        ax = axes[i, j]\n",
    "        x = data[acts[j]]\n",
    "        y = data[acts[i]]\n",
    "        ax.plot(x, y, color='black', alpha=0.3, lw=0.75)\n",
    "for i, act in enumerate(acts):\n",
    "    axes[-1, i].set_xlabel(act)\n",
    "    axes[i, 0].set_ylabel(act)\n",
    "# plt.savefig('_output/slit_correlations.png')\n",
    "plt.show()"
   ]
  },
  {
   "cell_type": "code",
   "execution_count": null,
   "id": "22ef6fe8-4444-4f64-996a-d5efc0ac480d",
   "metadata": {},
   "outputs": [],
   "source": [
    "variables = {\n",
    "    'xp': {\n",
    "        'pvname': 'ITSF_Diag:Slit_VT06',\n",
    "        'center': 13.25,\n",
    "        'distance': 16.0,\n",
    "        'steps': 8,\n",
    "        'min': +4.0,\n",
    "        'max': +22.5,\n",
    "    },\n",
    "    'x': {\n",
    "        'pvname': 'ITSF_Diag:Slit_VT04',\n",
    "        'center': 12.5,\n",
    "        'distance': 15.0,\n",
    "        'steps': 8,\n",
    "        'min': -50.0, \n",
    "        'max': +50.0,\n",
    "    },\n",
    "    'yp': {\n",
    "        'pvname': 'ITSF_Diag:Slit_HZ06',\n",
    "        'center': 15.0,\n",
    "        'distance': 7.0,\n",
    "        'steps': 8,\n",
    "        'min': -50.0,\n",
    "        'max': +50.0,\n",
    "    },\n",
    "    'y': {\n",
    "        'pvname': 'ITSF_Diag:Slit_HZ04',\n",
    "        'center': 13.0,\n",
    "        'distance': 25.0,\n",
    "        'steps': 8,\n",
    "        'min': -50.0, \n",
    "        'max': +50.0,\n",
    "    },\n",
    "}\n",
    "keys = list(variables)\n",
    "\n",
    "M = np.identity(4)\n",
    "M[keys.index('xp'), keys.index('x')] = 0.65\n",
    "M[keys.index('yp'), keys.index('y')] = 0.85  \n",
    "Minv = np.linalg.inv(M)\n",
    "\n",
    "center = np.array([variables[key]['center'] for key in keys])\n",
    "distance = np.array([variables[key]['distance'] for key in keys])\n",
    "steps = np.array([variables[key]['steps'] for key in keys])"
   ]
  },
  {
   "cell_type": "code",
   "execution_count": null,
   "id": "d1b3619d-9de5-4dbb-8dd2-914a7378f289",
   "metadata": {},
   "outputs": [],
   "source": [
    "points = np.array([data[act].copy() for act in acts]).T\n",
    "points_n = utils.apply(Minv, points - center)\n",
    "points_nn = points_n / (0.5 * distance)"
   ]
  },
  {
   "cell_type": "code",
   "execution_count": null,
   "id": "f23edabe-185b-4bb9-82bc-9195d071be7e",
   "metadata": {},
   "outputs": [],
   "source": [
    "dims = ['x2', 'x1', 'y2', 'y1']\n",
    "for _points, title in zip((points, points_n, points_nn), ('true', 'upright', 'upright + scaled')):\n",
    "    fig, axes = pplt.subplots(ncols=4, nrows=4, figwidth=6.0, spanx=False, spany=False)\n",
    "    axes.format(suptitle=title)\n",
    "    for i in range(4):\n",
    "        for j in range(4):\n",
    "            axes[i, j].scatter(_points[:, j], _points[:, i], c='black', ec='None', s=2)\n",
    "        axes[i, 0].format(ylabel=dims[i])\n",
    "        axes[-1, i].format(xlabel=dims[i])\n",
    "    plt.show()"
   ]
  },
  {
   "cell_type": "code",
   "execution_count": null,
   "id": "c898ef76-0520-45d7-8bde-2382029f2db1",
   "metadata": {},
   "outputs": [],
   "source": [
    "signal = data['cam06_Integral'].copy()\n",
    "signal = signal - np.min(signal)\n",
    "signal = signal / np.max(signal)\n",
    "thresh = 0.005\n",
    "w, = np.where(signal >= thresh)\n",
    "\n",
    "for ax, norm in zip(axes, [None, 'log']):\n",
    "    fig, ax = pplt.subplots(figsize=(10.0, 2.0))\n",
    "    ax.plot(signal, color='lightgray', lw=1, marker='.', ms=3, ec='None')\n",
    "    ax.plot(w, signal[w], color='black', lw=0, marker='.', ms=3, ec='None')\n",
    "    ax.format(ylabel='signal / max')\n",
    "    ax.format(yscale=norm)\n",
    "    plt.savefig(f'_output/thresh_{norm}.png')\n",
    "    plt.show()"
   ]
  },
  {
   "cell_type": "code",
   "execution_count": null,
   "id": "fe050b20-809b-4b5e-8323-2768f8d56f1d",
   "metadata": {},
   "outputs": [],
   "source": [
    "radii = np.sqrt(np.sum(np.square(points_nn), axis=1))\n",
    "\n",
    "bins = 'auto'\n",
    "for yscale in [None, 'log']:\n",
    "    with pplt.rc.context(legendfontsize='medium'):\n",
    "        fig, ax = pplt.subplots(figsize=(3, 1.85))\n",
    "        ax.hist(radii, bins=bins, label='all', color='lightgrey')\n",
    "        ax.hist(radii[w], bins=bins, label='above thresh', color='black')\n",
    "        ax.format(ylabel='num. points', xlabel='radius', yscale=yscale)\n",
    "        ax.legend(ncols=2, loc='top', framealpha=0)\n",
    "        plt.savefig(f'_output/radii_yscale{yscale}.png')\n",
    "        plt.show()"
   ]
  },
  {
   "cell_type": "code",
   "execution_count": null,
   "id": "0568f603-1805-4ed7-b371-21a145eb101b",
   "metadata": {},
   "outputs": [],
   "source": [
    "rmax = np.max(radii[w])"
   ]
  },
  {
   "cell_type": "code",
   "execution_count": null,
   "id": "8f5cc88a-9624-4050-8bc6-e30edeca0679",
   "metadata": {},
   "outputs": [],
   "source": [
    "_sort = np.argsort(radii)\n",
    "_radii = radii[_sort]\n",
    "_signal = signal[_sort]\n",
    "_w, = np.where(_signal >= thresh)\n",
    "kws = dict(lw=0, marker='.', ms=2, ec='None')\n",
    "for norm in [None, 'log']:\n",
    "    fig, ax = pplt.subplots(figsize=(3.5, 2.5))\n",
    "    ax.plot(_radii, _signal, color='lightgray', **kws)\n",
    "    ax.plot(_radii[_w], _signal[_w], color='black', **kws)\n",
    "    ax.format(xlabel='radius', ylabel='signal / max')\n",
    "    ax.format(yscale=norm)\n",
    "    plt.savefig(f'_output/radii_scatter_{norm}.png')\n",
    "    plt.show()"
   ]
  },
  {
   "cell_type": "code",
   "execution_count": null,
   "id": "84210f55-2cc0-4dc5-b669-4a72b14cf430",
   "metadata": {},
   "outputs": [],
   "source": [
    "counts = []\n",
    "rs = np.linspace(1.0, rmax, 100)\n",
    "for r in rs:\n",
    "    count = np.count_nonzero((np.logical_and(signal >= thresh, radii > r)))\n",
    "    counts.append(count)\n",
    "counts = np.array(counts)\n",
    "\n",
    "fig, ax = pplt.subplots(figsize=(3, 2))\n",
    "ax.plot(rs, counts / len(w), color='black')\n",
    "ax.format(xlabel='radius', ylabel='Frac. signal > radius')\n",
    "ax.format(ylim=(0, ax.get_ylim()[1]))\n",
    "ax1 = ax.alty(color='red')\n",
    "ax1.plot(rs, utils.volume_sphere(n=4, r=rs) / utils.volume_box(n=4, r=1.0), color='red')\n",
    "ax1.format(ylabel='Vball / Vbox')\n",
    "# ax.format(yscale='log')\n",
    "plt.savefig('_output/savings.png')"
   ]
  },
  {
   "cell_type": "code",
   "execution_count": null,
   "id": "b7c070d2-3acd-469c-be7c-34151ab4368a",
   "metadata": {},
   "outputs": [],
   "source": [
    "_idx, = np.where(np.logical_and(signal >= thresh, radii < rmax))\n",
    "\n",
    "fig, axes = pplt.subplots(figsize=(10.0, 4.0), nrows=2)\n",
    "for ax, norm in zip(axes, [None, 'log']):\n",
    "    ax.plot(signal, color='lightgray', lw=0, marker='.', ms=2, ec='None')\n",
    "    ax.plot(_idx, signal[_idx], color='black', lw=0, marker='+', ms=0.5)\n",
    "    ax.format(ylabel='signal / max')\n",
    "    ax.format(yscale=norm)\n",
    "plt.show()"
   ]
  },
  {
   "cell_type": "code",
   "execution_count": null,
   "id": "32ad1b74-57ba-4cb2-810d-251930564315",
   "metadata": {},
   "outputs": [],
   "source": [
    "frac = np.count_nonzero(radii <= rmax) / len(radii)\n",
    "frac"
   ]
  },
  {
   "cell_type": "code",
   "execution_count": null,
   "id": "be50003b-09b9-448c-a7ef-85c23d611f10",
   "metadata": {},
   "outputs": [],
   "source": [
    "frac_signal = float(len(signal[w])) / len(signal)\n",
    "print(f'{frac_signal:.3f}')"
   ]
  },
  {
   "cell_type": "code",
   "execution_count": null,
   "id": "dce03ade-eef7-43fb-947a-87306b402437",
   "metadata": {},
   "outputs": [],
   "source": [
    "volume_ratio = utils.volume_sphere(n=4, r=rmax) / utils.volume_box(n=4, r=1.0)\n",
    "print(volume_ratio)"
   ]
  },
  {
   "cell_type": "code",
   "execution_count": null,
   "id": "398478f4-9c20-4247-bd50-b0991deb55c6",
   "metadata": {},
   "outputs": [],
   "source": [
    "_points = points_nn\n",
    "_rmax = rmax\n",
    "\n",
    "fig, axes = pplt.subplots(ncols=4, nrows=4, figwidth=5.0, spanx=False, spany=False)\n",
    "# axes.format(suptitle=f'fraction (r < {rmax:.2f}) = {frac:.2f}',\n",
    "#             suptitle_kw=dict(fontweight='normal'))\n",
    "for i in range(4):\n",
    "    for j in range(4):\n",
    "        ax = axes[i, j]\n",
    "        ax.scatter(_points[:, j], _points[:, i], c='lightgray', ec='None', s=0.5)\n",
    "        ax.scatter(_points[w, j], _points[w, i], c='black', ec='None', s=0.5)\n",
    "        if i != j:\n",
    "            ax.add_patch(patches.Ellipse((0.0, 0.0), 2.0 * _rmax, 2.0 * _rmax, color='red', fill=False))\n",
    "    axes[i, 0].format(ylabel=dims[i])\n",
    "    axes[-1, i].format(xlabel=dims[i])\n",
    "plt.savefig('_output/bounding_ellipse.png')\n",
    "plt.show()"
   ]
  },
  {
   "cell_type": "markdown",
   "id": "efb79f39-2599-416e-83b9-67893deba130",
   "metadata": {},
   "source": [
    "## Snug scan"
   ]
  },
  {
   "cell_type": "code",
   "execution_count": null,
   "id": "a9bdb11f-a908-439e-8967-030fdd935d11",
   "metadata": {},
   "outputs": [],
   "source": [
    "import importlib\n",
    "importlib.reload(sp)"
   ]
  },
  {
   "cell_type": "code",
   "execution_count": null,
   "id": "42b95ab7-8422-4cf9-acfb-602a328cdc73",
   "metadata": {},
   "outputs": [],
   "source": [
    "iterations = data['iteration'].copy()\n",
    "surface = utils.get_boundary_points(iterations, points, signal, thresh, pad=2.0)"
   ]
  },
  {
   "cell_type": "code",
   "execution_count": null,
   "id": "05313d40-01ce-44bf-aeb7-faeeb80774c1",
   "metadata": {},
   "outputs": [],
   "source": [
    "# np.save('/Users/46h/Research/btf/btf-scripts/temp_data/transverse4d-surface.npy', surface)"
   ]
  },
  {
   "cell_type": "code",
   "execution_count": null,
   "id": "c65b3673-9bfa-4b10-9624-e4cc06703a8e",
   "metadata": {},
   "outputs": [],
   "source": [
    "fig, axes = pplt.subplots(ncols=4, nrows=4, figwidth=6.0, spanx=False, spany=False)\n",
    "for i in range(4):\n",
    "    for j in range(4):\n",
    "        ax = axes[i, j]\n",
    "        g1 = ax.scatter(points[:, j], points[:, i], c='lightgray', ec='None', s=0.5)\n",
    "        for spts in surface:\n",
    "            g3 = ax.scatter(\n",
    "                spts[:, j], \n",
    "                spts[:, i], \n",
    "                marker='s', \n",
    "                s=7,\n",
    "                color='pink1',\n",
    "            )\n",
    "        g2 = ax.scatter(points[w, j], points[w, i], c='black', ec='None', s=0.5)\n",
    "    axes[i, 0].format(ylabel=dims[i])\n",
    "    axes[-1, i].format(xlabel=dims[i])\n",
    "axes[0, -1].legend([g1, g2, g3], labels=['signal', 'noise', 'new'], loc='r', ncols=1,\n",
    "                   ms=5, framealpha=0)\n",
    "plt.savefig('_output/planned_transverse4d.png')\n",
    "plt.show()"
   ]
  },
  {
   "cell_type": "markdown",
   "id": "e37c6ea1-ff78-4fc0-ac93-4cbfbffbb194",
   "metadata": {},
   "source": [
    "Generate new points for ScanEngine. "
   ]
  },
  {
   "cell_type": "code",
   "execution_count": null,
   "id": "43a13128-4cf2-4f36-8906-a7f8fcf45b62",
   "metadata": {},
   "outputs": [],
   "source": [
    "import importlib\n",
    "importlib.reload(sp)\n",
    "\n",
    "# Run points generator\n",
    "navg = 0\n",
    "ndim = 4\n",
    "kws = dict(\n",
    "    variables=variables, \n",
    "    M=M, \n",
    "    reprate=5.0,\n",
    "    navg=navg, \n",
    "    boundary='None',  # {None, 'ellipsoid'} \n",
    "    R=1.1,\n",
    "    exclude_outside_box=True,\n",
    "    surface=surface,\n",
    ")\n",
    "lgen = list(sp.gen(**kws))\n",
    "\n",
    "# Reshape\n",
    "if navg > 0:\n",
    "    new_points = np.zeros((len(lgen), ndim))\n",
    "    for i in range(len(lgen)):\n",
    "        new_points[i, :] = lgen[i][0]\n",
    "else:\n",
    "    lgen = np.array(lgen)\n",
    "    new_points = np.zeros((2 * lgen.shape[0], ndim))\n",
    "    for i in range(ndim):\n",
    "        new_points[:, i] = lgen[:, i, :2].ravel()\n",
    "    \n",
    "# Un-shear generated points.\n",
    "new_points_n = utils.apply(Minv, new_points - center)"
   ]
  },
  {
   "cell_type": "code",
   "execution_count": null,
   "id": "2f15f003-31e2-407a-981a-68d7f0bdd8e5",
   "metadata": {},
   "outputs": [],
   "source": []
  }
 ],
 "metadata": {
  "kernelspec": {
   "display_name": "Python 3",
   "language": "python",
   "name": "python3"
  },
  "language_info": {
   "codemirror_mode": {
    "name": "ipython",
    "version": 3
   },
   "file_extension": ".py",
   "mimetype": "text/x-python",
   "name": "python",
   "nbconvert_exporter": "python",
   "pygments_lexer": "ipython3",
   "version": "3.7.6"
  }
 },
 "nbformat": 4,
 "nbformat_minor": 5
}
