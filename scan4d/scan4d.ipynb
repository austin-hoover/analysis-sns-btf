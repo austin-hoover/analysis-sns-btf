{
 "cells": [
  {
   "cell_type": "markdown",
   "id": "7a6a345b-4755-4a21-8c4c-72ab506dd637",
   "metadata": {},
   "source": [
    "# 4D scan"
   ]
  },
  {
   "cell_type": "code",
   "execution_count": null,
   "id": "6b3f6ec5-c39a-4172-b74b-7656bc8a9271",
   "metadata": {},
   "outputs": [],
   "source": [
    "import sys\n",
    "import os\n",
    "from os.path import join\n",
    "from pprint import pprint\n",
    "import importlib\n",
    "import numpy as np\n",
    "import matplotlib.pyplot as plt\n",
    "from matplotlib import patches\n",
    "import pandas as pd\n",
    "import h5py\n",
    "from scipy import ndimage\n",
    "import proplot as pplt\n",
    "\n",
    "sys.path.append('..')\n",
    "from tools import plotting as mplt\n",
    "from tools import utils"
   ]
  },
  {
   "cell_type": "code",
   "execution_count": null,
   "id": "13ce0cb5-30ef-433c-873f-0b9d8533869d",
   "metadata": {},
   "outputs": [],
   "source": [
    "pplt.rc['grid'] = False\n",
    "pplt.rc['cmap.sequential'] = 'viridis'\n",
    "pplt.rc['cmap.discrete'] = False"
   ]
  },
  {
   "cell_type": "markdown",
   "id": "ee97339a-61bb-4fb8-a216-2a8b95e06574",
   "metadata": {},
   "source": [
    "## Load data "
   ]
  },
  {
   "cell_type": "code",
   "execution_count": null,
   "id": "4015ae65-d006-436c-b61d-c5d82839eaaf",
   "metadata": {},
   "outputs": [],
   "source": [
    "datadir = '/Diagnostics/Data/Measurements/transverse4d/2022-01-04/'\n",
    "filenames = os.listdir(datadir)\n",
    "filenames"
   ]
  },
  {
   "cell_type": "code",
   "execution_count": null,
   "id": "89f95501-b95c-4049-b6a3-274236d6d101",
   "metadata": {},
   "outputs": [],
   "source": [
    "filename = '220104192006-transverse4d'\n",
    "file = h5py.File(join(datadir, filename + '-preproc.h5'), 'r')\n",
    "data = file['scalar']\n",
    "pprint(data.dtype.fields)"
   ]
  },
  {
   "cell_type": "code",
   "execution_count": null,
   "id": "22ef6fe8-4444-4f64-996a-d5efc0ac480d",
   "metadata": {},
   "outputs": [],
   "source": [
    "slit_dict = {\n",
    "    'xp': {\n",
    "        'center': 13.5,\n",
    "        'distance': 10.0,\n",
    "        'steps': 20,\n",
    "    },\n",
    "    'x': {\n",
    "        'center': 13.0,\n",
    "        'distance': 15.0,\n",
    "        'steps': 20,\n",
    "    },\n",
    "    'yp': {\n",
    "        'center': 17.0,\n",
    "        'distance': 7.0,\n",
    "        'steps': 20,\n",
    "    },\n",
    "    'y': {\n",
    "        'center': 14.5,\n",
    "        'distance': 22.0,\n",
    "        'steps': 20,\n",
    "    },\n",
    "}\n",
    "keys = list(slit_dict)\n",
    "M = np.identity(4)\n",
    "M[keys.index('xp'), keys.index('x')] = 0.8\n",
    "M[keys.index('yp'), keys.index('y')] = 0.7\n",
    "Minv = np.linalg.inv(M)\n",
    "\n",
    "center = np.array([slit_dict[key]['center'] for key in keys])\n",
    "distance = np.array([slit_dict[key]['distance'] for key in keys])\n",
    "steps = np.array([slit_dict[key]['steps'] for key in keys])"
   ]
  },
  {
   "cell_type": "code",
   "execution_count": null,
   "id": "d1b3619d-9de5-4dbb-8dd2-914a7378f289",
   "metadata": {},
   "outputs": [],
   "source": [
    "x1 = data['x_PositionSync'].copy()\n",
    "x2 = data['xp_PositionSync'].copy()\n",
    "y1 = data['y_PositionSync'].copy()\n",
    "y2 = data['yp_PositionSync'].copy()\n",
    "points = np.vstack([x2, x1, y2, y1]).T\n",
    "points_n = utils.apply(Minv, points - center)\n",
    "points_nn = points_n / (0.5 * distance)"
   ]
  },
  {
   "cell_type": "code",
   "execution_count": null,
   "id": "f23edabe-185b-4bb9-82bc-9195d071be7e",
   "metadata": {},
   "outputs": [],
   "source": [
    "dims = ['x2', 'x1', 'y2', 'y1']\n",
    "for _points, title in zip((points, points_n, points_nn), ('true', 'upright', 'upright + scaled')):\n",
    "    fig, axes = pplt.subplots(ncols=4, nrows=4, figwidth=6.0, spanx=False, spany=False)\n",
    "    axes.format(suptitle=title)\n",
    "    for i in range(4):\n",
    "        for j in range(4):\n",
    "            axes[i, j].scatter(_points[:, j], _points[:, i], c='black', ec='None', s=2)\n",
    "        axes[i, 0].format(ylabel=dims[i])\n",
    "        axes[-1, i].format(xlabel=dims[i])\n",
    "    plt.show()"
   ]
  },
  {
   "cell_type": "code",
   "execution_count": null,
   "id": "c898ef76-0520-45d7-8bde-2382029f2db1",
   "metadata": {},
   "outputs": [],
   "source": [
    "signal = data['cam06_Integral']\n",
    "thresh = 0.001 * np.max(signal)\n",
    "idx, = np.where(signal >= thresh)\n",
    "\n",
    "fig, ax = pplt.subplots(figsize=(10.0, 2.5))\n",
    "ax.plot(signal + 1.0, color='lightgray', lw=0, marker='.', ms=2, ec='None')\n",
    "ax.plot(idx, signal[idx] + 1.0, color='black', lw=0, marker='+', ms=0.5)\n",
    "ax.format(yscale='log')\n",
    "plt.show()"
   ]
  },
  {
   "cell_type": "code",
   "execution_count": null,
   "id": "fe050b20-809b-4b5e-8323-2768f8d56f1d",
   "metadata": {},
   "outputs": [],
   "source": [
    "radii = np.sqrt(np.sum(np.square(points_nn), axis=1))\n",
    "\n",
    "bins = 'auto'\n",
    "for yscale in [None, 'log']:\n",
    "    with pplt.rc.context(legendfontsize='medium'):\n",
    "        fig, ax = pplt.subplots(figsize=(3, 1.85))\n",
    "        ax.hist(radii, bins=bins, label='all', color='lightgrey')\n",
    "        ax.hist(radii[idx], bins=bins, label='above thresh', color='black')\n",
    "        ax.format(ylabel='num. points', xlabel='radius', yscale=yscale)\n",
    "        ax.legend(ncols=2, loc='top', framealpha=0)\n",
    "        plt.savefig(f'_output/radii_yscale{yscale}.png')\n",
    "        plt.show()"
   ]
  },
  {
   "cell_type": "code",
   "execution_count": null,
   "id": "231c1269-f5d9-4ad4-aa93-f60612807fbf",
   "metadata": {},
   "outputs": [],
   "source": [
    "rmax = np.max(radii[idx])\n",
    "rmax"
   ]
  },
  {
   "cell_type": "code",
   "execution_count": null,
   "id": "32ad1b74-57ba-4cb2-810d-251930564315",
   "metadata": {},
   "outputs": [],
   "source": [
    "frac = np.count_nonzero(radii <= rmax) / len(radii)\n",
    "frac"
   ]
  },
  {
   "cell_type": "code",
   "execution_count": null,
   "id": "be50003b-09b9-448c-a7ef-85c23d611f10",
   "metadata": {},
   "outputs": [],
   "source": [
    "frac_signal = float(len(signal[idx])) / len(signal)\n",
    "print(f'{frac_signal:.3f}')"
   ]
  },
  {
   "cell_type": "code",
   "execution_count": null,
   "id": "dce03ade-eef7-43fb-947a-87306b402437",
   "metadata": {},
   "outputs": [],
   "source": [
    "volume_ratio = utils.volume_sphere(n=4, r=rmax) / utils.volume_box(n=4, r=1.0)\n",
    "print(volume_ratio)"
   ]
  },
  {
   "cell_type": "code",
   "execution_count": null,
   "id": "398478f4-9c20-4247-bd50-b0991deb55c6",
   "metadata": {},
   "outputs": [],
   "source": [
    "_points = points_nn\n",
    "_rmax = rmax\n",
    "\n",
    "fig, axes = pplt.subplots(ncols=4, nrows=4, figwidth=5.0, spanx=False, spany=False)\n",
    "# axes.format(suptitle=f'fraction (r < {rmax:.2f}) = {frac:.2f}',\n",
    "#             suptitle_kw=dict(fontweight='normal'))\n",
    "for i in range(4):\n",
    "    for j in range(4):\n",
    "        ax = axes[i, j]\n",
    "        ax.scatter(_points[:, j], _points[:, i], c='lightgray', ec='None', s=0.5)\n",
    "        ax.scatter(_points[idx, j], _points[idx, i], c='black', ec='None', s=0.5)\n",
    "        if i != j:\n",
    "            ax.add_patch(patches.Ellipse((0.0, 0.0), 2.0 * _rmax, 2.0 * _rmax, color='red', fill=False))\n",
    "    axes[i, 0].format(ylabel=dims[i])\n",
    "    axes[-1, i].format(xlabel=dims[i])\n",
    "plt.savefig('_output/bounding_ellipse.png')\n",
    "plt.show()"
   ]
  },
  {
   "cell_type": "code",
   "execution_count": null,
   "id": "6224b008-8db2-4029-8011-a675ffbe29d3",
   "metadata": {},
   "outputs": [],
   "source": []
  }
 ],
 "metadata": {
  "kernelspec": {
   "display_name": "Python 3 (ipykernel)",
   "language": "python",
   "name": "python3"
  },
  "language_info": {
   "codemirror_mode": {
    "name": "ipython",
    "version": 3
   },
   "file_extension": ".py",
   "mimetype": "text/x-python",
   "name": "python",
   "nbconvert_exporter": "python",
   "pygments_lexer": "ipython3",
   "version": "3.9.7"
  }
 },
 "nbformat": 4,
 "nbformat_minor": 5
}
