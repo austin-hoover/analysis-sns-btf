{
 "cells": [
  {
   "cell_type": "markdown",
   "metadata": {},
   "source": [
    "# Orbit response "
   ]
  },
  {
   "cell_type": "code",
   "execution_count": null,
   "metadata": {},
   "outputs": [],
   "source": [
    "import sys\n",
    "import os\n",
    "from os.path import join\n",
    "import collections\n",
    "from datetime import datetime\n",
    "import importlib\n",
    "import h5py\n",
    "import numpy as np\n",
    "from pprint import pprint\n",
    "from tqdm import tqdm\n",
    "from matplotlib import pyplot as plt\n",
    "import proplot as pplt\n",
    "\n",
    "sys.path.append('..')\n",
    "from tools.data import H5Reader\n",
    "from tools.plotting import linear_fit"
   ]
  },
  {
   "cell_type": "code",
   "execution_count": null,
   "metadata": {},
   "outputs": [],
   "source": [
    "pplt.rc['grid'] = False\n",
    "pplt.rc['cmap.discrete'] = False\n",
    "pplt.rc['cmap.sequential'] = 'viridis'"
   ]
  },
  {
   "cell_type": "markdown",
   "metadata": {},
   "source": [
    "## Setup "
   ]
  },
  {
   "cell_type": "code",
   "execution_count": null,
   "metadata": {},
   "outputs": [],
   "source": [
    "folder = '../Diagnostics/Data/Measurements/orbit_response/2022-05-13/'\n",
    "filenames = os.listdir(folder)\n",
    "filenames"
   ]
  },
  {
   "cell_type": "code",
   "execution_count": null,
   "metadata": {},
   "outputs": [],
   "source": [
    "class DataFile(H5Reader):\n",
    "    def __init__(self, filename, folder='.'):\n",
    "        super().__init__(filename, folder)\n",
    "        self.quad, self.screen, self.cam = self.filename.split('-')[-1].split('.h5')[0].split('_')\n",
    "        self.screen_int = self.screen[-2:]\n",
    "        self.quad_int = self.quad[-2:]\n",
    "        self.cam_int = self.cam[-2:]"
   ]
  },
  {
   "cell_type": "markdown",
   "metadata": {},
   "source": [
    "Create nested dictionary of data files. "
   ]
  },
  {
   "cell_type": "code",
   "execution_count": null,
   "metadata": {},
   "outputs": [],
   "source": [
    "dfiles = dict()\n",
    "for filename in filenames:\n",
    "    df = DataFile(filename, folder)\n",
    "    if df.screen not in dfiles:        \n",
    "        dfiles[df.screen] = dict()\n",
    "    dfiles[df.screen][df.quad] = df"
   ]
  },
  {
   "cell_type": "code",
   "execution_count": null,
   "metadata": {},
   "outputs": [],
   "source": [
    "screens = sorted(dfiles)\n",
    "print('screens:', screens)\n",
    "print('dfiles:')\n",
    "pprint(dfiles)"
   ]
  },
  {
   "cell_type": "markdown",
   "metadata": {},
   "source": [
    "## Analysis"
   ]
  },
  {
   "cell_type": "code",
   "execution_count": null,
   "metadata": {},
   "outputs": [],
   "source": [
    "screen = 'VS14'\n",
    "quads = sorted(dfiles[screen].keys(), key=lambda quad: int(quad[-2:]))\n",
    "print('quads:', quads)"
   ]
  },
  {
   "cell_type": "code",
   "execution_count": null,
   "metadata": {},
   "outputs": [],
   "source": [
    "istart = 1  # Ignore the first data point."
   ]
  },
  {
   "cell_type": "code",
   "execution_count": null,
   "metadata": {},
   "outputs": [],
   "source": [
    "fig, axes = pplt.subplots(ncols=7, nrows=len(screens), figwidth=10.0, sharey=False)\n",
    "for row, screen in enumerate(screens):\n",
    "    for col, (ax, quad) in enumerate(zip(axes[row, :], quads)):\n",
    "        df = dfiles[screen][quad]\n",
    "        data = df.data\n",
    "        name_rb = quad + '_CurrentRb'\n",
    "        name_set = quad + '_CurrentSet'\n",
    "        x = np.arange(istart, len(df.data))\n",
    "        ax.plot(x, data[istart:, name_rb], color='black', label='CurrentRb', **kws)\n",
    "        ax.plot(x, data[istart:, name_set], color='black', alpha=0.2, label='CurrentSet', **kws)        \n",
    "axes.format(xlabel='Step', leftlabels=screens, toplabels=quads, suptitle='Readback vs. Setpoint')\n",
    "plt.show()"
   ]
  },
  {
   "cell_type": "code",
   "execution_count": null,
   "metadata": {},
   "outputs": [],
   "source": [
    "def get_mean(profile, x=None):\n",
    "    if x is None:\n",
    "        x = np.arange(len(profile))\n",
    "    return np.average(x, weights=profile)"
   ]
  },
  {
   "cell_type": "code",
   "execution_count": null,
   "metadata": {},
   "outputs": [],
   "source": [
    "rb = 'Set'  # {'Set', 'Rb'}\n",
    "# Profile cropping -- tune these to get good mean calculations \n",
    "cuts = {\n",
    "    'X': {\n",
    "        'VS14': (100, 1),\n",
    "        'VS22': (0, 200),\n",
    "        'VS30': (150, 120),\n",
    "        'VS34': (100, 100),\n",
    "    },\n",
    "    'Y': {\n",
    "        'VS30': (100, 100),\n",
    "    }\n",
    "}"
   ]
  },
  {
   "cell_type": "code",
   "execution_count": null,
   "metadata": {},
   "outputs": [],
   "source": [
    "for dim in ['X', 'Y']:\n",
    "    fig, axes = pplt.subplots(ncols=7, nrows=len(screens), figwidth=10.0)\n",
    "    for row, screen in enumerate(screens):\n",
    "        for col, (ax, quad) in enumerate(zip(axes[row, :], quads)):\n",
    "\n",
    "            df = dfiles[screen][quad]\n",
    "            data = df.data\n",
    "\n",
    "            profiles = data[istart:, df.cam + '_Profile' + dim]\n",
    "            \n",
    "            offsets = 1e7 * np.arange(profiles.shape[0])    \n",
    "            x = np.arange(profiles.shape[1])\n",
    "\n",
    "            l, r = (0, 0)\n",
    "            if screen in cuts[dim]:\n",
    "                l, r = cuts[dim][screen]\n",
    "                x = x[l:-r]\n",
    "                profiles = profiles[:, l:-r]\n",
    "            means = np.array([get_mean(profile, x=x) for profile in profiles])\n",
    "\n",
    "            ax2 = ax.altx(xticks=[])\n",
    "            ax2.plot(profiles.T + offsets, x, color='black', alpha=0.1, lw=1.0)\n",
    "            \n",
    "            _profiles = np.zeros(profiles.shape)\n",
    "            for i, offset in enumerate(offsets):\n",
    "                _profiles[i, :] += offset\n",
    "                for j in range(_profiles.shape[1]):\n",
    "                    if j == int(means[i] - l):\n",
    "                        _profiles[i, j] += profiles[i, j]\n",
    "                    else:\n",
    "                        _profiles[i, j] = None\n",
    "            ax2.plot(_profiles.T, x, color='pink6', lw=0, marker='.', ms=1)\n",
    "\n",
    "            current_rb_pv = quad + '_Current' + rb\n",
    "            x = data[current_rb_pv]\n",
    "            x = x[istart:]\n",
    "            x_mean = np.mean(x)\n",
    "            x_frac_dev = (x - x_mean) / x_mean\n",
    "            \n",
    "#             ax.plot(x_frac_dev, np.zeros(len(x_frac_dev)), lw=0)\n",
    "#             ax.plot(x_frac_dev, means, marker='.', lw=0, ms=1, color='pink6', zorder=9999, alpha=1.0)\n",
    "\n",
    "    axes.format(\n",
    "        ylabel='Position [pixel]', \n",
    "        xlabel=f'Fractional quad change ({rb})',\n",
    "        leftlabels=[f'{screen}' for screen in screens],\n",
    "        toplabels=quads,\n",
    "        xlim=(-0.1, 0.1),\n",
    "    )\n",
    "    n_pixels = {'X': 612, 'Y': 512}[dim]\n",
    "    \n",
    "    for i, ax in enumerate(axes[:, 0]):\n",
    "        ymin, ymax = ax.get_ylim()\n",
    "        df = -0.1 * np.abs(ymax - ymin)\n",
    "        axes[i, :].format(ylim=(ymin - df, ymax + df))\n",
    "    \n",
    "    plt.savefig(f'_output/waterfall{dim}')\n",
    "    plt.show()"
   ]
  },
  {
   "cell_type": "code",
   "execution_count": null,
   "metadata": {},
   "outputs": [],
   "source": [
    "slopes = np.zeros((2, len(screens), len(quads)))"
   ]
  },
  {
   "cell_type": "code",
   "execution_count": null,
   "metadata": {},
   "outputs": [],
   "source": [
    "rb = 'Rb'\n",
    "colors = pplt.Cycle('colorblind').by_key()['color']\n",
    "line_kws = dict(alpha=0.2)\n",
    "scatter_kws = dict(marker='.', alpha=0.9, ec='None')\n",
    "\n",
    "fig, axes = pplt.subplots(ncols=7, nrows=len(screens), figwidth=10.0)\n",
    "for row, screen in enumerate(screens):\n",
    "    for col, (ax, quad) in enumerate(zip(axes[row, :], quads)):\n",
    "        df = dfiles[screen][quad]\n",
    "        data = df.data\n",
    "        current_rb_pv = quad + '_Current' + rb\n",
    "        x = data[current_rb_pv]\n",
    "        x = x[istart:]\n",
    "        x_mean = np.mean(x)\n",
    "        x_frac_dev = (x - x_mean) / x_mean\n",
    "        for i, (_ax, dim, yloc, halign) in enumerate(zip([ax, ax], ['X', 'Y'], [0.98, 0.88], ['left', 'right'])):\n",
    "            profiles = data[f'{df.cam}_Profile' + dim]\n",
    "            profiles = profiles[istart:]\n",
    "            pos = np.arange(profiles.shape[1])\n",
    "            if screen in cuts[dim]:\n",
    "                l, r = cuts[dim][screen]\n",
    "                pos = pos[l:-r]\n",
    "                profiles = profiles[:, l:-r]\n",
    "            means = np.array([get_mean(profile, x=pos) for profile in profiles])\n",
    "            yfit, slope, intercept = linear_fit(x, means)\n",
    "            slopes[i, row, col] = slope\n",
    "            _ax.plot(x_frac_dev, yfit, color=colors[i], **line_kws)\n",
    "            _ax.scatter(x_frac_dev, means, c=colors[i], label=dim.lower(), **scatter_kws)\n",
    "\n",
    "# Pad limits.\n",
    "frac_pad_x = 0.05\n",
    "frac_pad_y = 0.0\n",
    "for row, ax in enumerate(axes[:, 0]):\n",
    "    vmin, vmax = ax.get_ylim()\n",
    "    pad = frac_pad_y * abs(vmax - vmin)\n",
    "    axes[row, :].format(ylim=(vmin - pad, vmax + pad))\n",
    "for col, ax in enumerate(axes[-1, :]):\n",
    "    vmin, vmax = ax.get_xlim()\n",
    "    if vmin > vmax:\n",
    "        vmax, vmin = vmin, vmax\n",
    "    pad = frac_pad_x * abs(vmax - vmin)\n",
    "    axes[:, col].format(xlim=(vmin - pad, vmax + pad))\n",
    "\n",
    "axes.format(\n",
    "    ylabel='Position [pixel]', \n",
    "    xlabel=f'Fractional quad change ({rb})',\n",
    "    leftlabels=[f'{screen}' for screen in screens],\n",
    "    toplabels=quads,\n",
    ")\n",
    "ylims = [ax.get_ylim() for ax in axes[:, 0]]\n",
    "plt.savefig(f'_output/orbit_response_{rb}')\n",
    "plt.show()"
   ]
  },
  {
   "cell_type": "code",
   "execution_count": null,
   "metadata": {},
   "outputs": [],
   "source": [
    "titles = ['Horizontal', 'Vertical']\n",
    "x = quads\n",
    "y = screens\n",
    "for i in range(2):\n",
    "    fig, ax = pplt.subplots(figwidth=4.5, aspect=2)\n",
    "    H = slopes[i, :, :].copy()\n",
    "    vmax = np.max(np.abs(H))\n",
    "    vmin = -vmax\n",
    "    ax.pcolormesh(x, y, H, colorbar=True, vmin=vmin, vmax=vmax, \n",
    "                  colorbar_kw=dict(label='dx / dQ'), cmap='Vlag')\n",
    "    ax.format(title=titles[i], xlabel='Quad', ylabel='Screen',\n",
    "              xlabel_kw=dict(fontweight='bold'),\n",
    "              ylabel_kw=dict(fontweight='bold'))\n",
    "    plt.savefig(f'_output/slopes_{titles[i]}')\n",
    "    plt.show()"
   ]
  },
  {
   "cell_type": "code",
   "execution_count": null,
   "metadata": {},
   "outputs": [],
   "source": []
  }
 ],
 "metadata": {
  "kernelspec": {
   "display_name": "Python 3",
   "language": "python",
   "name": "python3"
  },
  "language_info": {
   "codemirror_mode": {
    "name": "ipython",
    "version": 3
   },
   "file_extension": ".py",
   "mimetype": "text/x-python",
   "name": "python",
   "nbconvert_exporter": "python",
   "pygments_lexer": "ipython3",
   "version": "3.7.6"
  }
 },
 "nbformat": 4,
 "nbformat_minor": 4
}
