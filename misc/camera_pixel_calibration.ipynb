{
 "cells": [
  {
   "cell_type": "code",
   "execution_count": null,
   "metadata": {},
   "outputs": [],
   "source": [
    "import numpy as np\n",
    "import matplotlib.pyplot as plt\n",
    "import pandas as pd\n",
    "import h5py\n",
    "import os\n",
    "import sys\n",
    "from datetime import datetime\n",
    "from scipy.signal import wiener\n",
    "\n",
    "from matplotlib import colors\n",
    "# for gif\n",
    "import imageio\n",
    "import matplotlib.cm as cm\n",
    "\n",
    "import proplot as pplt\n",
    "pplt.rc['grid'] = False\n",
    "pplt.rc['cmap.discrete'] = False"
   ]
  },
  {
   "cell_type": "code",
   "execution_count": null,
   "metadata": {},
   "outputs": [],
   "source": [
    "datadir = '../Diagnostics/Data/Measurements/2022-04-13/'\n",
    "os.listdir(datadir)"
   ]
  },
  {
   "cell_type": "code",
   "execution_count": null,
   "metadata": {},
   "outputs": [],
   "source": [
    "filename = '220413171330-camera_pixel_calibration'\n",
    "datafile = filename+'.h5'\n",
    "\n",
    "camname = 'cam34'\n",
    "zoom_mult = 0.5"
   ]
  },
  {
   "cell_type": "code",
   "execution_count": null,
   "metadata": {},
   "outputs": [],
   "source": [
    "# -- load file\n",
    "f = h5py.File(datadir + filename + '.h5', 'r')\n",
    "\n",
    "# -- log entries\n",
    "for i in range(f['/log'].size):\n",
    "    # -- only print errors/warnings\n",
    "    if not(f['/log'][i,'level'] == 'INFO'.encode('utf')):\n",
    "        # format timestamp\n",
    "        timestr = datetime.fromtimestamp(f['/log'][0,'timestamp']).strftime(\"%m/%d/%Y, %H:%M:%S\")\n",
    "        # print timestamp and message\n",
    "        print('%s: %s'%(timestr,f['/log'][i,'message']))\n",
    "\n",
    "# -- configuration data\n",
    "for entry in f['/config'].keys():\n",
    "    print('\\n%s:'%entry)\n",
    "    for name in f['/config'][entry].dtype.names:\n",
    "        print('%s: %s'%(name,f['/config'][entry][name]))"
   ]
  },
  {
   "cell_type": "code",
   "execution_count": null,
   "metadata": {},
   "outputs": [],
   "source": [
    "ds = f['/scandata']\n",
    "lds = len(ds)\n",
    "\n",
    "dt = ds.dtype\n",
    "attrs = dt.names\n",
    "\n",
    "print(attrs)\n",
    "\n",
    "act = []\n",
    "for key in attrs:\n",
    "    if 'PositionSync' in key:\n",
    "        act.append(key)\n",
    "\n",
    "print(act)"
   ]
  },
  {
   "cell_type": "markdown",
   "metadata": {},
   "source": [
    "## Screen edge"
   ]
  },
  {
   "cell_type": "markdown",
   "metadata": {},
   "source": [
    "This method looks at the motion of slit on screen and calibrates against actuator readback."
   ]
  },
  {
   "cell_type": "code",
   "execution_count": null,
   "metadata": {},
   "outputs": [],
   "source": [
    "fig, ax = pplt.subplots(figsize=(3, 8))\n",
    "for row in range(lds):\n",
    "    ax.plot(ds[row, 'cam34_ProfileX'] * 1e-7 + row, color='black')\n",
    "plt.show()"
   ]
  },
  {
   "cell_type": "code",
   "execution_count": null,
   "metadata": {},
   "outputs": [],
   "source": [
    "pix0 = 250\n",
    "pixf = 375\n",
    "starti = 30\n",
    "endi = lds\n",
    "\n",
    "# -- trim up data and assign end values\n",
    "dattr = ds[starti:endi, 'cam34_ProfileX'][:, pix0:pixf].copy()\n",
    "#dattr.iloc[:, 0:pix0] = dattr.iloc[:, pix0].mean()\n",
    "#dattr.iloc[:, pixf:] = dattr.iloc[:, pixf].mean()\n",
    "slitpos = ds[starti:endi, 'screen_PositionSync']\n",
    "\n",
    "plt.figure(figsize=[5, 10])\n",
    "for row in range(np.shape(dattr)[0]):\n",
    "    plt.plot(dattr[row, :] * 1e-7 + row, color='black')"
   ]
  },
  {
   "cell_type": "code",
   "execution_count": null,
   "metadata": {},
   "outputs": [],
   "source": [
    "# -- test single wf\n",
    "idy = 0\n",
    "fsize = 3\n",
    "\n",
    "# -- smooth\n",
    "wf = wiener(dattr[idy,:],mysize=fsize)\n",
    "# -- differentiate\n",
    "dwf = wf[1:] - wf[0:-1]\n",
    "# -- smooth differentiation\n",
    "dwf = wiener(dwf, mysize=fsize)\n",
    "# -- avg over nearest four slope points\n",
    "dwf[1:] += dwf[0:-1]\n",
    "dwf[0:-1] += dwf[1:]\n",
    "dwf[2:] += dwf[0:-2]\n",
    "dwf[0:-2] += dwf[2:]\n",
    "\n",
    "# -- edge is point with highest slope\n",
    "idx = np.argmin(dwf) - 1\n",
    "\n",
    "plt.figure()\n",
    "plt.plot(np.arange(pix0, pixf), dattr[idy, :], '.')\n",
    "plt.plot(np.arange(pix0, pixf), wf, '-')\n",
    "plt.plot(pix0 + idx, wf[idx], marker='s', color='black', markersize=10, label='max neg. slope')\n",
    "plt.legend()\n",
    "\n",
    "plt.figure()\n",
    "plt.title('Averaged slope of waveform')\n",
    "plt.plot(dwf)\n",
    "plt.plot(idx + 1, dwf[idx + 1], marker='s', color='black', markersize=10, label='max neg. slope')\n",
    "plt.legend()\n",
    "plt.show()"
   ]
  },
  {
   "cell_type": "code",
   "execution_count": null,
   "metadata": {},
   "outputs": [],
   "source": [
    "plt.figure(figsize=[10,5])\n",
    "plt.xlabel('VS pixels');\n",
    "plt.ylabel('signal, Cam09:ProfileY')\n",
    "\n",
    "iedge = np.zeros(endi-starti)\n",
    "for ii in range(np.shape(dattr)[0]):\n",
    "    # -- smooth\n",
    "    wf = wiener(dattr[ii,:],mysize=fsize)\n",
    "    # -- differentiate\n",
    "    dwf = wf[1:] - wf[0:-1]\n",
    "    # -- smooth differentiation\n",
    "    dwf = wiener(dwf,mysize=fsize)\n",
    "    # -- avg over nearest four slope points\n",
    "    dwf[1:] += dwf[0:-1]\n",
    "    dwf[0:-1] += dwf[1:]\n",
    "    dwf[2:] += dwf[0:-2]\n",
    "    dwf[0:-2] += dwf[2:]\n",
    "    # -- edge is point with highest slope\n",
    "    idx = np.argmin(dwf) -1\n",
    "    \n",
    "    # -- plot\n",
    "    plt.plot(wf)\n",
    "    plt.plot(idx,wf[idx],'ko')\n",
    "    \n",
    "    # -- save\n",
    "    iedge[ii] = idx\n",
    "\n",
    "plt.figure()\n",
    "plt.plot(slitpos, iedge, '.')\n",
    "plt.title('pix2mm = %.4f mm/pixel +- %.4f '%(slope, var_slope))\n",
    "plt.xlabel('VS position [mm]')\n",
    "plt.ylabel('Location max. neg. slope[pixels]')\n",
    "\n",
    "pfit, COV = np.polyfit(iedge, slitpos, 1, cov=True) \n",
    "slope = pfit[0] * zoom_mult\n",
    "var_slope = np.sqrt(COV[0, 0]) * zoom_mult\n",
    "print('pix2mm = %.4f mm/pixel +- %.4f '%(slope, var_slope))\n",
    "p = np.poly1d(pfit)\n",
    "plt.plot(p(iedge), iedge);"
   ]
  },
  {
   "cell_type": "markdown",
   "metadata": {},
   "source": [
    "## Calibration for 3 FODO viewscreens"
   ]
  },
  {
   "cell_type": "code",
   "execution_count": null,
   "metadata": {},
   "outputs": [],
   "source": [
    "s = [70.31,142.31,214.31,214.31,214.31,214.31,214.31]\n",
    "errs = [0.0006,0.0006,0.0027,0.0013,0.0007*3,0.0012*3,0.0009*3]\n",
    "p2mm = [0.0711,0.1251,0.1930,0.1499,0.0526*3,0.0663*3,0.0597*3]\n",
    "\n",
    "plt.errorbar(s,p2mm,yerr=np.array(errs),marker='o',markerfacecolor='none',linestyle='none',label='2/17 x0.33')\n",
    "\n",
    "\n",
    "s = [70.31,142.31,214.31]\n",
    "errs = [.002,.006,.008]\n",
    "p2mm = [.0648,.1258,.1911]\n",
    "\n",
    "plt.errorbar(s,p2mm,yerr=np.array(errs),marker='.',linestyle='none',label='11/11 x1.0')\n",
    "\n",
    "\n",
    "s = [70.31,142.31,214.31]\n",
    "p2mm = [0.0711,0.1251,0.1930]\n",
    "pfit = np.polyfit(s,p2mm,1) \n",
    "slope = pfit[0]\n",
    "\n",
    "print('pix2mm = %.4f s[inches] + %.4f '%(slope,pfit[1]))\n",
    "p = np.poly1d(pfit)\n",
    "plt.plot([0,215],p([0,215]));\n",
    "\n",
    "plt.xlabel('Distance from s=0 [inches]')\n",
    "plt.ylabel('pixel-to-mm conversion')\n",
    "\n",
    "s0 = -pfit[1]/pfit[0]; \n",
    "print('crossing point at s=%.2f inches'%s0)\n",
    "\n",
    "plt.legend()"
   ]
  },
  {
   "cell_type": "code",
   "execution_count": null,
   "metadata": {},
   "outputs": [],
   "source": []
  }
 ],
 "metadata": {
  "kernelspec": {
   "display_name": "Python 3",
   "language": "python",
   "name": "python3"
  },
  "language_info": {
   "codemirror_mode": {
    "name": "ipython",
    "version": 3
   },
   "file_extension": ".py",
   "mimetype": "text/x-python",
   "name": "python",
   "nbconvert_exporter": "python",
   "pygments_lexer": "ipython3",
   "version": "3.7.6"
  }
 },
 "nbformat": 4,
 "nbformat_minor": 4
}
