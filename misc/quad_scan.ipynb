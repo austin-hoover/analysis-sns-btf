{
 "cells": [
  {
   "cell_type": "markdown",
   "id": "7070ab9c-8a86-44fb-b37b-737fcf4c3c1c",
   "metadata": {},
   "source": [
    "# BTF quad scan"
   ]
  },
  {
   "cell_type": "code",
   "execution_count": null,
   "id": "7da64e46-4bc6-4fc9-b613-cd4e92a28070",
   "metadata": {},
   "outputs": [],
   "source": [
    "import os\n",
    "from os.path import join\n",
    "from collections import Counter\n",
    "from datetime import datetime\n",
    "import h5py\n",
    "import numpy as np\n",
    "from scipy import optimize as opt\n",
    "from matplotlib import pyplot as plt\n",
    "import proplot as pplt\n",
    "\n",
    "pplt.rc['grid'] = False\n",
    "pplt.rc['cmap.discrete'] = False\n",
    "pplt.rc['cmap.sequential'] = 'dusk_r'"
   ]
  },
  {
   "cell_type": "code",
   "execution_count": null,
   "id": "f676e043-ea19-48ba-bcbe-b97b7f58fb55",
   "metadata": {},
   "outputs": [],
   "source": [
    "def get_quad_id(filename):\n",
    "    return filename.split('_')[3]\n",
    "\n",
    "def get_quad_number(filename):\n",
    "    return int(get_quad_id(filename)[2:])\n",
    "        \n",
    "folder = 'Diagnostics/Data/Measurements/2022-04-14/'\n",
    "filenames = os.listdir(folder)\n",
    "filenames = [filename for filename in filenames if 'orbit_response' not in filename]\n",
    "filenames = sorted(filenames, key=get_quad_number, reverse=True)\n",
    "filenames"
   ]
  },
  {
   "cell_type": "markdown",
   "id": "15108b60-d51a-4779-bb0b-634c05f03b4b",
   "metadata": {},
   "source": [
    "## Explore one file "
   ]
  },
  {
   "cell_type": "code",
   "execution_count": null,
   "id": "7b44b9c1-1358-465a-a47c-2f8ce287eb3f",
   "metadata": {},
   "outputs": [],
   "source": [
    "filename = filenames[0]\n",
    "file = h5py.File(join(folder, filename), 'r')"
   ]
  },
  {
   "cell_type": "code",
   "execution_count": null,
   "id": "f6e03235-39e5-41d3-8c87-5a4d9f0fab0c",
   "metadata": {},
   "outputs": [],
   "source": [
    "list(file.keys())"
   ]
  },
  {
   "cell_type": "code",
   "execution_count": null,
   "id": "c718deab-5830-4df6-a1b5-1bc51403aac7",
   "metadata": {},
   "outputs": [],
   "source": [
    "# Errors and warnings from log\n",
    "for i in range(file['log'].size):\n",
    "    if not(file['/log'][i, 'level'] == 'INFO'.encode('utf')):\n",
    "        timestr = datetime.fromtimestamp(file['/log'][0, 'timestamp']).strftime(\"%m/%d/%Y, %H:%M:%S\")\n",
    "        print(f\"{timestr} {file['log'][i, 'message']}\")\n",
    "\n",
    "# Configuration data\n",
    "for key in file['/config'].keys():\n",
    "    print(f\"{key}\")\n",
    "    print(\"--------------\")\n",
    "    for name in file['/config'][key].dtype.names:\n",
    "        print(f\"{name}: {file['config'][key][name]}\")\n",
    "    print()"
   ]
  },
  {
   "cell_type": "code",
   "execution_count": null,
   "id": "13a43626-cef7-4a36-830e-aab905064e08",
   "metadata": {},
   "outputs": [],
   "source": [
    "data = file['scandata']\n",
    "print('Data:')\n",
    "for i, name in enumerate(data.dtype.names):\n",
    "    print(f'{name} [{data.dtype[i]}]')\n",
    "print()\n",
    "\n",
    "slits = [key for key in data.dtype.names if 'PositionSync' in key]\n",
    "print(f'slits: {slits}')"
   ]
  },
  {
   "cell_type": "code",
   "execution_count": null,
   "id": "0e667329-e394-4436-a145-5beec5defbad",
   "metadata": {},
   "outputs": [],
   "source": [
    "for name in data.dtype.names:\n",
    "    if name == 'timestamp':\n",
    "        continue\n",
    "    fig, ax = pplt.subplots(figsize=(4, 2))\n",
    "    ax.plot(data[name], color='black')\n",
    "    ax.format(xlabel='Iteration', ylabel=name)\n",
    "    plt.show()"
   ]
  },
  {
   "cell_type": "code",
   "execution_count": null,
   "id": "bbc653b3-fdd2-4816-8789-18fd99896527",
   "metadata": {},
   "outputs": [],
   "source": [
    "# Get the quad id that is being scanned.\n",
    "quad_id = get_quad_id(filename)\n",
    "\n",
    "# Cut off the first few points.\n",
    "_data = data[2:]\n",
    "\n",
    "quad_currents = np.array(list(Counter(_data[f'{quad_id}_CurrentSet'])))"
   ]
  },
  {
   "cell_type": "code",
   "execution_count": null,
   "id": "ff8b2136-67ed-4147-b873-53cd89fc08c9",
   "metadata": {},
   "outputs": [],
   "source": [
    "def build_data_dict(data):\n",
    "    n_iterations = max(data['iteration'])\n",
    "    data_dict = {\n",
    "        'xvals': [],\n",
    "        'profiles': [],\n",
    "        'means': [],\n",
    "        'stds': [],\n",
    "    }\n",
    "    for i in range(1, n_iterations + 1):\n",
    "        slow = np.abs(_data['Slow02Gt'])\n",
    "        idx = np.argwhere(_data['iteration'] == i)\n",
    "        profile = slow[idx][:, 0]\n",
    "        xx = _data[slits[0]][idx][:, 0]\n",
    "        if i % 2 == 0:\n",
    "            # The scanner is moving in the opposite direction.\n",
    "            profile = np.flip(profile)\n",
    "            xx = np.flip(xx)\n",
    "        data_dict['profiles'].append(profile)\n",
    "        data_dict['xvals'].append(xx)\n",
    "    \n",
    "    # Make all arrays the same length (they vary by 1 or 2)\n",
    "    min_steps = min([len(profile) for profile in data_dict['profiles']])\n",
    "    for key in data_dict.keys():\n",
    "        data_dict[key] = [item[:min_steps] for item in data_dict[key]]\n",
    "\n",
    "    # Estimate mean and std from profiles\n",
    "    for i in range(n_iterations):\n",
    "        xx = data_dict['xvals'][i]\n",
    "        fx = data_dict['profiles'][i]\n",
    "        N = np.sum(fx)\n",
    "        mean = np.sum(fx * xx) / N\n",
    "        std = np.sum(fx * (xx - mean)**2) / N\n",
    "        data_dict['means'].append(mean)\n",
    "        data_dict['stds'].append(std)    \n",
    "        \n",
    "    for key in data_dict.keys():\n",
    "        data_dict[key] = np.array(data_dict[key])\n",
    "        \n",
    "    return data_dict, n_iterations"
   ]
  },
  {
   "cell_type": "code",
   "execution_count": null,
   "id": "60bb7bc1-97fe-4e15-8935-deba8755d249",
   "metadata": {},
   "outputs": [],
   "source": [
    "data_dict, n_iterations = build_data_dict(_data)"
   ]
  },
  {
   "cell_type": "code",
   "execution_count": null,
   "id": "35cd4c7b-f382-4cad-8203-b5a3e7104a6b",
   "metadata": {},
   "outputs": [],
   "source": [
    "fig, ax = pplt.subplots()\n",
    "for i in range(n_iterations):\n",
    "    offset = i * 0.003\n",
    "    ax.plot(\n",
    "        data_dict['xvals'][i], \n",
    "        data_dict['profiles'][i] + offset, \n",
    "        color='black'\n",
    "    )\n",
    "ax.format(xlabel=slits[0], ylabel='BS34');"
   ]
  },
  {
   "cell_type": "code",
   "execution_count": null,
   "id": "274c3721-5376-4613-aa6a-f5b25e177623",
   "metadata": {},
   "outputs": [],
   "source": [
    "def plot_linear_fit(xdata, ydata, ax=None):\n",
    "    \n",
    "    def linear_fit(x, slope, intercept):\n",
    "        return slope * x + intercept\n",
    "    \n",
    "    popt, pcov = opt.curve_fit(linear_fit, xdata, ydata)\n",
    "    slope, intercept = popt\n",
    "    ax.plot(xdata, linear_fit(xdata, *popt), color='lightgrey', zorder=0)\n",
    "    ax.scatter(xdata, ydata, color='black', s=14)\n",
    "    return slope, intercept"
   ]
  },
  {
   "cell_type": "code",
   "execution_count": null,
   "id": "dd015b3e-ba44-42f6-bebd-f4036ca2efb4",
   "metadata": {},
   "outputs": [],
   "source": [
    "fig, ax = pplt.subplots()\n",
    "slope, intercept = plot_linear_fit(quad_currents, data_dict['stds'], ax=ax)\n",
    "xmin, xmax = ax.get_xlim()\n",
    "ax.format(\n",
    "    xlabel=f'{quad_id}_CurrentSet', \n",
    "    ylabel='RMS beam size [mm]',\n",
    "    xlim=(xmin - 0.1, xmax + 0.1)\n",
    ")\n",
    "ax.annotate(f'slope = {slope:.3f}', xy=(0.03, 0.97), xycoords='axes fraction', \n",
    "            horizontalalignment='left', verticalalignment='top')"
   ]
  },
  {
   "cell_type": "code",
   "execution_count": null,
   "id": "e8748885-0304-4592-9f25-9eef299c2646",
   "metadata": {},
   "outputs": [],
   "source": [
    "data_dicts = []\n",
    "for filename in filenames:\n",
    "    file = h5py.File(join(folder, filename), 'r')\n",
    "    data = file['scandata']\n",
    "    _data = data[2:]\n",
    "    quad_id = get_quad_id(filename)\n",
    "    quad_currents = np.array(list(Counter(_data[f'{quad_id}_CurrentSet'])))\n",
    "    print(quad_id, quad_currents)\n",
    "    data_dict, n_iterations = build_data_dict(data)\n",
    "    data_dict['quad_id'] = quad_id\n",
    "    data_dict['quad_currents'] = quad_currents\n",
    "    data_dicts.append(data_dict)"
   ]
  },
  {
   "cell_type": "code",
   "execution_count": null,
   "id": "aaa670ca-1b7c-4d52-b224-3e12d15136a7",
   "metadata": {},
   "outputs": [],
   "source": [
    "fig, axes = pplt.subplots(nrows=3, ncols=4, figwidth=8.0)\n",
    "axes.format(xlabel=slits[0], ylabel='BS34')\n",
    "for ax, data_dict in zip(axes, data_dicts):\n",
    "    ax.annotate(data_dict['quad_id'], xy=(0.03, 0.97), xycoords='axes fraction', \n",
    "                horizontalalignment='left', verticalalignment='top')   \n",
    "    if data_dict['quad_id'] in ['QV06', 'QH05']:\n",
    "        continue\n",
    "    for i in range(n_iterations):\n",
    "        offset = i * 0.003\n",
    "        ax.plot(\n",
    "            data_dict['xvals'][i], \n",
    "            data_dict['profiles'][i] + offset, \n",
    "            color='black', alpha=0.6,\n",
    "        )\n",
    "        xmin, xmax = ax.get_xlim()\n",
    "        if xmax > xmin:\n",
    "            ax.set_xlim(xmax, xmin)\n",
    "plt.savefig('_output/profiles')"
   ]
  },
  {
   "cell_type": "code",
   "execution_count": null,
   "id": "c4b34e53-7629-4a34-ad6a-61216667a121",
   "metadata": {},
   "outputs": [],
   "source": [
    "fig, axes = pplt.subplots(nrows=3, ncols=4, figwidth=7.0, sharex=False, sharey=True, hspace=6.0)\n",
    "for i, (ax, data_dict) in enumerate(zip(axes, data_dicts)):\n",
    "    if data_dict['quad_id'] in ['QV06', 'QH05']:\n",
    "        continue    \n",
    "    ax.format(xlabel=f\"{data_dict['quad_id']}_CurrentSet\")\n",
    "    slope, intercept = plot_linear_fit(data_dict['quad_currents'], data_dict['stds'], ax=ax)\n",
    "    ax.annotate(f'slope = {slope:.3f}', xy=(0.03, 0.97), xycoords='axes fraction', \n",
    "                horizontalalignment='left', verticalalignment='top')\n",
    "    xmin, xmax = ax.get_xlim()\n",
    "    xpad = 0.1\n",
    "    if xmin > xmax:\n",
    "        xmin, xmax = xmax, xmin\n",
    "    ax.format(xlim=(xmin - xpad, xmax + xpad))\n",
    "\n",
    "ymin, ymax = axes[0].get_ylim()\n",
    "axes.format(ylim=(ymin, ymax * 1.05), ylabel='RMS beam size [mm]')\n",
    "plt.savefig('_output/beam_size_vs_quad_current')"
   ]
  },
  {
   "cell_type": "code",
   "execution_count": null,
   "id": "fb8717bc-c0da-4192-8062-859e15238607",
   "metadata": {},
   "outputs": [],
   "source": [
    "fig, axes = pplt.subplots(nrows=3, ncols=4, figwidth=7.0, sharex=False, sharey=True, hspace=6.0)\n",
    "for i, (ax, data_dict) in enumerate(zip(axes, data_dicts)):\n",
    "    if data_dict['quad_id'] in ['QV06', 'QH05']:\n",
    "        continue    \n",
    "    ax.format(xlabel=f\"{data_dict['quad_id']}_CurrentSet\")\n",
    "    slope, intercept = plot_linear_fit(data_dict['quad_currents'], data_dict['means'], ax=ax)\n",
    "    ax.annotate(f'slope = {slope:.3f}', xy=(0.03, 0.97), xycoords='axes fraction', \n",
    "                horizontalalignment='left', verticalalignment='top')\n",
    "    xmin, xmax = ax.get_xlim()\n",
    "    xpad = 0.1\n",
    "    if xmin > xmax:\n",
    "        xmin, xmax = xmax, xmin\n",
    "    ax.format(xlim=(xmin - xpad, xmax + xpad))\n",
    "\n",
    "ymin, ymax = axes[0].get_ylim()\n",
    "axes.format(ylim=(ymin, ymax * 1.05), ylabel='Mean [mm]')\n",
    "plt.savefig('_output/beam_mean_pos_vs_quad_current')"
   ]
  },
  {
   "cell_type": "code",
   "execution_count": null,
   "id": "5f99dd1c-521b-4e3d-bf67-dc485b6a1247",
   "metadata": {},
   "outputs": [],
   "source": []
  }
 ],
 "metadata": {
  "kernelspec": {
   "display_name": "Python 3",
   "language": "python",
   "name": "python3"
  },
  "language_info": {
   "codemirror_mode": {
    "name": "ipython",
    "version": 3
   },
   "file_extension": ".py",
   "mimetype": "text/x-python",
   "name": "python",
   "nbconvert_exporter": "python",
   "pygments_lexer": "ipython3",
   "version": "3.7.6"
  }
 },
 "nbformat": 4,
 "nbformat_minor": 5
}
