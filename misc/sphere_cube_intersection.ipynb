{
 "cells": [
  {
   "cell_type": "markdown",
   "metadata": {},
   "source": [
    "# Intersection volume of sphere and cube"
   ]
  },
  {
   "cell_type": "code",
   "execution_count": null,
   "metadata": {},
   "outputs": [],
   "source": [
    "import numpy as np\n",
    "from scipy.special import beta\n",
    "from scipy.special import betainc \n",
    "from scipy.special import gamma\n",
    "from scipy.special import hyp2f1\n",
    "\n",
    "import matplotlib.pyplot as plt\n",
    "import proplot as pplt\n",
    "pplt.rc['grid'] = False\n",
    "pplt.rc['grid.alpha'] = 0.05"
   ]
  },
  {
   "cell_type": "code",
   "execution_count": null,
   "metadata": {},
   "outputs": [],
   "source": [
    "def volume_unit_ball(n=2):\n",
    "    return np.pi**(0.5 * n) / gamma(1.0 + 0.5 * n)\n",
    "\n",
    "def volume_ball(n=2, r=1.0):\n",
    "    return volume_unit_ball(n) * r**n\n",
    "\n",
    "def volume_box(n=2, r=1.0):\n",
    "    return (2.0 * r)**n\n",
    "\n",
    "def volume_unit_box(n=2):\n",
    "    return volume_box(n=n, r=1.0)\n",
    "\n",
    "def volume_spherical_cap(n=2, h=0.5, r=1.0):\n",
    "    a = 0.5\n",
    "    b = 0.5 * (1.0 - n)\n",
    "    c = 1.5\n",
    "    z = ((r - h) / r)**2\n",
    "    F = hyp2f1(a, b, c, z)\n",
    "    C = volume_ball(n=n, r=r)\n",
    "    return C * (0.5 - ((r - h) / r) * (gamma(1.0 + 0.5 * n) / (np.sqrt(np.pi) * gamma(0.5 * (1.0 + n)))) * F)\n",
    "    \n",
    "def volume_spherical_cap_3d(h=0.5, r=1.0):\n",
    "    return (np.pi * h**2 / 3.0) * (3.0 * r - h)"
   ]
  },
  {
   "cell_type": "markdown",
   "metadata": {},
   "source": [
    "Calculating the volume of intersection between a sphere and cube is non-trivial! \n",
    "* https://math.stackexchange.com/questions/1996000/intersection-of-hypercube-and-hypersphere\n",
    "* https://math.stackexchange.com/questions/2074785/volume-of-sphere-cube-intersection\n",
    "* https://en.wikipedia.org/wiki/Spherical_cap"
   ]
  },
  {
   "cell_type": "code",
   "execution_count": null,
   "metadata": {},
   "outputs": [],
   "source": [
    "nmin, nmax = 2, 6\n",
    "Rs = np.linspace(0.0, np.sqrt(nmax), 50)\n",
    "\n",
    "with pplt.rc.context(legendfontsize='medium'):\n",
    "    fig, ax = pplt.subplots(figheight=2.25, figwidth=3.5)\n",
    "    ax.format(cycle='538')\n",
    "    for n, k in zip(range(nmin, nmax + 1), [100, 100, 50, 25, 16]):\n",
    "        # Generate points in unit cube.\n",
    "        xi = [np.linspace(-1.0, 1.0, k) for _ in range(n)]\n",
    "        points = np.vstack([X.ravel() for X in np.meshgrid(*xi, indexing='ij')]).T\n",
    "        # Calculate fraction in bounding sphere.\n",
    "        radii = np.sqrt(np.sum(np.square(points), axis=1))\n",
    "        V_frac = [np.count_nonzero(radii <= R) / radii.shape[0] for R in Rs]\n",
    "        ax.plot(Rs, V_frac, label=f'n={n}')\n",
    "    ax.legend(ncols=1, loc='right')\n",
    "    ax.format(xlabel='Bounding sphere radius', ylabel=r'$\\approx$ Volume relative to unit box',\n",
    "              ylim=(0.0, ax.get_ylim()[1]), grid=True)\n",
    "    plt.savefig('_output/volume_intersection_ball_box.png')"
   ]
  },
  {
   "cell_type": "code",
   "execution_count": null,
   "metadata": {},
   "outputs": [],
   "source": []
  }
 ],
 "metadata": {
  "kernelspec": {
   "display_name": "Python 3",
   "language": "python",
   "name": "python3"
  },
  "language_info": {
   "codemirror_mode": {
    "name": "ipython",
    "version": 3
   },
   "file_extension": ".py",
   "mimetype": "text/x-python",
   "name": "python",
   "nbconvert_exporter": "python",
   "pygments_lexer": "ipython3",
   "version": "3.7.6"
  }
 },
 "nbformat": 4,
 "nbformat_minor": 4
}
