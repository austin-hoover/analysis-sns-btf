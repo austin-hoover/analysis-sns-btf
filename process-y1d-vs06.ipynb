{
 "cells": [
  {
   "cell_type": "markdown",
   "id": "a4bfe105-df44-43b5-b01e-e8c6560fc951",
   "metadata": {},
   "source": [
    "# Vertical slit-screen phase space measurement"
   ]
  },
  {
   "cell_type": "markdown",
   "id": "157c1af0-9c1b-4062-a832-d7ca6cedcdcf",
   "metadata": {},
   "source": [
    "## Setup "
   ]
  },
  {
   "cell_type": "code",
   "execution_count": null,
   "id": "6b3f6ec5-c39a-4172-b74b-7656bc8a9271",
   "metadata": {},
   "outputs": [],
   "source": [
    "import sys\n",
    "import os\n",
    "from os.path import join\n",
    "import numpy as np\n",
    "import pandas as pd\n",
    "import h5py\n",
    "import imageio\n",
    "import matplotlib.pyplot as plt\n",
    "from matplotlib import colors\n",
    "from matplotlib import cm\n",
    "from matplotlib.animation import FuncAnimation\n",
    "import proplot as pplt\n",
    "from tools import energyVS06 as energy\n",
    "from tools import utils\n",
    "\n",
    "pplt.rc['grid'] = False\n",
    "pplt.rc['cmap.discrete'] = False\n",
    "cmap = pplt.Colormap('mono_r', left=0.07, right=1.0)\n",
    "pplt.rc['cmap.sequential'] = cmap\n",
    "cmap"
   ]
  },
  {
   "cell_type": "code",
   "execution_count": null,
   "id": "4015ae65-d006-436c-b61d-c5d82839eaaf",
   "metadata": {},
   "outputs": [],
   "source": [
    "datadir = './Diagnostics/Data/Measurements/2022-04-29/'\n",
    "filenames = os.listdir(datadir)\n",
    "filenames"
   ]
  },
  {
   "cell_type": "code",
   "execution_count": null,
   "id": "e996b209-e33e-4b61-804b-a24356f377b8",
   "metadata": {},
   "outputs": [],
   "source": [
    "pix2mm = 0.05  # cam34 at zoom x1"
   ]
  },
  {
   "cell_type": "code",
   "execution_count": null,
   "id": "860e6ef9-2d69-4503-9ba9-c90ed89e1c17",
   "metadata": {},
   "outputs": [],
   "source": [
    "filename = '220429113154-y1d-vs06.h5'\n",
    "\n",
    "# HZ34a scan\n",
    "L = 8.0036 - 6.13006  # [m]\n",
    "\n",
    "## HZ34b scan\n",
    "# L = 8.0036 - 6.90450  # [m]\n",
    "\n",
    "print(f'L = {L:.3f}')\n",
    "\n",
    "# Slit-slit scan, L = 0.775\n",
    "cam = 'cam34'\n",
    "cam_prof_y = f'{cam}_ProfileY'\n",
    "cam_image = f'{cam}_Image'\n",
    "pix2mm = 0.05  # cam34 at zoom x1\n",
    "ny = 512  # number of y pixels\n",
    "nx = 612  # number of x pixels"
   ]
  },
  {
   "cell_type": "code",
   "execution_count": null,
   "id": "d5713e02-1cf8-4536-bd33-c1c66d5fb6e0",
   "metadata": {},
   "outputs": [],
   "source": [
    "file = h5py.File(join(datadir, filename), 'r')"
   ]
  },
  {
   "cell_type": "code",
   "execution_count": null,
   "id": "23e533b6-14d3-43f9-8cef-f7914f0d62a3",
   "metadata": {
    "tags": []
   },
   "outputs": [],
   "source": [
    "# Errors and warnings from log\n",
    "for i in range(file['log'].size):\n",
    "    if not(file['/log'][i, 'level'] == 'INFO'.encode('utf')):\n",
    "        timestr = datetime.fromtimestamp(file['/log'][0, 'timestamp']).strftime(\"%m/%d/%Y, %H:%M:%S\")\n",
    "        print(f\"{timestr} {file['log'][i, 'message']}\")\n",
    "\n",
    "# Configuration data\n",
    "for key in file['/config'].keys():\n",
    "    print(f\"{key}\")\n",
    "    print(\"--------------\")\n",
    "    for name in file['/config'][key].dtype.names:\n",
    "        print(f\"{name}: {file['config'][key][name]}\")\n",
    "    print()"
   ]
  },
  {
   "cell_type": "code",
   "execution_count": null,
   "id": "bba9dff8-9f2f-45f6-bee4-affad7a5f0c2",
   "metadata": {},
   "outputs": [],
   "source": [
    "data = file['/scandata']\n",
    "attrs = data.dtype.names\n",
    "acts = [key for key in attrs if 'PositionSync' in key]\n",
    "print('attrs:', attrs)\n",
    "print('acts:', acts)"
   ]
  },
  {
   "cell_type": "markdown",
   "id": "6291ce59-21f1-49be-a95f-77b86b985a81",
   "metadata": {},
   "source": [
    "Extract the vertical beam profile."
   ]
  },
  {
   "cell_type": "code",
   "execution_count": null,
   "id": "39cc181e-d28e-4a38-8ac4-217bed9ff1e0",
   "metadata": {},
   "outputs": [],
   "source": [
    "signal = np.sum(data[:, cam_prof_y], axis=1)"
   ]
  },
  {
   "cell_type": "markdown",
   "id": "b1e2b52d-42a3-4e9b-a5fe-98a158dfd0e2",
   "metadata": {},
   "source": [
    "Determine the scan center and width."
   ]
  },
  {
   "cell_type": "code",
   "execution_count": null,
   "id": "4728f59c-7303-4023-a873-226f5d9b667a",
   "metadata": {},
   "outputs": [],
   "source": [
    "y0 = 6.5\n",
    "dy = 14.5\n",
    "\n",
    "tdata = np.linspace(0.0, 1.0, len(data))\n",
    "\n",
    "fig, ax = pplt.subplots(figsize=(4, 2))\n",
    "ax.plot(tdata, data[:, acts[0]], marker='.', color='black') \n",
    "ax.format(xlabel='Time', ylabel=acts[0])\n",
    "plt.show()\n",
    "\n",
    "fig, ax = pplt.subplots(nrows=1, figsize=(4, 2))\n",
    "ax.plot(data[:, acts[0]], signal, marker='.', color='black')\n",
    "ax.axvline(y0 - 0.5 * dy, color='grey')\n",
    "ax.axvline(y0 + 0.5 * dy, color='grey')\n",
    "ax.axvline(y0, color='grey')\n",
    "ax.axvspan(y0 - 0.5 * dy, y0 + 0.5 * dy, color='grey', alpha=0.2)\n",
    "imax = np.argmax(signal)\n",
    "ax.plot(data[imax, acts[0]], signal[imax], marker='*', color='red')\n",
    "ax.format(xlabel=acts[0], ylabel=cam_prof_y)\n",
    "xmin, xmax = ax.get_xlim()\n",
    "if xmax < xmin:\n",
    "    xmin, xmax = xmax, xmin\n",
    "    ax.format(xlim=(xmin, xmax))\n",
    "plt.show()\n",
    "\n",
    "print(f'Peak at {acts[0]} = {data[imax, acts[0]]:.3f}')"
   ]
  },
  {
   "cell_type": "markdown",
   "id": "9d0c9da5-318b-46c9-b86c-c7fe0eb4a900",
   "metadata": {},
   "source": [
    "## Plot images"
   ]
  },
  {
   "cell_type": "code",
   "execution_count": null,
   "id": "c1f849db-1ca2-436b-b576-981647b1b35c",
   "metadata": {},
   "outputs": [],
   "source": [
    "skip = 3\n",
    "nfigs = len(data) // skip\n",
    "ncols = 6\n",
    "nrows = int(np.ceil(nfigs / ncols))\n",
    "\n",
    "fig, axes = pplt.subplots(nrows=nrows, ncols=ncols, figwidth=10.0)\n",
    "for i, ax in enumerate(axes):\n",
    "    ima = np.reshape(data[i, cam_image], (ny, nx))\n",
    "    ax.pcolormesh(np.log10(ima))\n",
    "    ax.annotate(f'image {i * skip}', xy=(0.01, 0.99), xycoords='axes fraction', \n",
    "                color='white', fontsize='small',\n",
    "                horizontalalignment='left', verticalalignment='top')\n",
    "axes.format(xticks=[], yticks=[])\n",
    "plt.show()"
   ]
  },
  {
   "cell_type": "markdown",
   "id": "ca419328-87c0-41ca-9e12-b47415064135",
   "metadata": {},
   "source": [
    "## Reconstruct phase space distribution"
   ]
  },
  {
   "cell_type": "code",
   "execution_count": null,
   "id": "249d26af-ff66-4e12-8c58-4cc9d85cd449",
   "metadata": {},
   "outputs": [],
   "source": [
    "yyp = np.zeros([ny, len(data)])\n",
    "for i in range(0, len(data)):\n",
    "    im = np.reshape(data[i, cam_image], [ny, nx])\n",
    "    yyp[:, i] = np.sum(im, axis=1)\n",
    "    \n",
    "fig, axes = pplt.subplots(ncols=2, sharey=True)\n",
    "axes[0].pcolormesh(data[:, 'y_PositionSync'], np.arange(ny), yyp,\n",
    "                   colorbar=True, colorbar_kw=dict(label=cam_image))\n",
    "axes[1].pcolormesh(data[:, 'y_PositionSync'], np.arange(ny), np.log10(yyp), \n",
    "                   colorbar=True, colorbar_kw=dict(label=f'log({cam_image})'))\n",
    "axes.format(xlabel='y_PositionSync', ylabel='Pixel number')\n",
    "plt.show()"
   ]
  },
  {
   "cell_type": "markdown",
   "id": "6842a315-0fc1-4ae3-96cb-494ecf385730",
   "metadata": {},
   "source": [
    "(The estimate of 0.09 pixels per mm is based on old camera calibration; this needs to be redone.)"
   ]
  },
  {
   "cell_type": "code",
   "execution_count": null,
   "id": "ec27095f-7f58-4205-af51-a208c9e225e8",
   "metadata": {},
   "outputs": [],
   "source": [
    "yscreen = pix2mm * np.arange(ny)  \n",
    "Y1, Y2 = np.meshgrid(data[:, 'y_PositionSync'], yscreen)\n",
    "Y = Y1 - np.average(data[:, 'y_PositionSync'], weights=np.sum(yyp, axis=0)) \n",
    "YP = (Y2 - np.average(yscreen, weights=np.sum(yyp, axis=1)) - Y) / L\n",
    "\n",
    "fig, axes = pplt.subplots(ncols=2, sharey=True)\n",
    "axes[0].pcolormesh(Y, YP, yyp, colorbar=True)\n",
    "axes[1].pcolormesh(Y, YP, np.log10(yyp), colorbar=True)\n",
    "axes.format(xlabel=\"y [mm]\", ylabel=\"y' [mrad]\")\n",
    "axes[1].set_title('Logscale')\n",
    "plt.show()"
   ]
  },
  {
   "cell_type": "markdown",
   "id": "6b5d5064-37af-4353-8692-bb11ef25787a",
   "metadata": {},
   "source": [
    "## Reconstruct phase space; energy slice"
   ]
  },
  {
   "cell_type": "markdown",
   "id": "1182876e-93cc-4c7e-81f4-4d42203925e8",
   "metadata": {},
   "source": [
    "The y-y' phase space is already a slice in x-x' (near the beam center). The `yyp3d` axes are [y3, x3, y1]."
   ]
  },
  {
   "cell_type": "markdown",
   "id": "545ce6a4-147d-4dbe-b19a-bd511c33d248",
   "metadata": {},
   "source": [
    "$x_1$ = position of VT34a slit \\\n",
    "$x_2$ = position of VT34b slit \\\n",
    "$y_1$ = position of HZ34a slit \\\n",
    "$x_3$ = x position at VS34 \\\n",
    "$y_3$ = y position at VS34 \\\n",
    "\n",
    "$$\n",
    "\\begin{align}\n",
    "x &= x_1 \\\\\n",
    "y &= y_1 \\\\\n",
    "x' &= ? \\\\\n",
    "y' &= ? \\\\\n",
    "w &= f(x_3, x_2, x_1) \\\\\n",
    "\\end{align}\n",
    "$$"
   ]
  },
  {
   "cell_type": "code",
   "execution_count": null,
   "id": "0f6bd2fc-da80-4c3c-afd4-286326aa4345",
   "metadata": {
    "tags": []
   },
   "outputs": [],
   "source": [
    "yyp3d = np.zeros([ny, nx, len(data)])  # [y_screen, x_screen, y_slit]\n",
    "for i in range(0, len(data)):\n",
    "    yyp3d[:, :, i] = np.reshape(data[i, cam_image], (ny, nx))"
   ]
  },
  {
   "cell_type": "markdown",
   "id": "1478bed0-b368-462a-b4d2-d9a09bc061b6",
   "metadata": {},
   "source": [
    "## Movies\n",
    "\n",
    "#### Cam34 image vs y-slit"
   ]
  },
  {
   "cell_type": "code",
   "execution_count": null,
   "id": "0e20a0a6-c333-4ae9-82fa-45e04fd7ecb9",
   "metadata": {},
   "outputs": [],
   "source": [
    "norm_pixel_value = np.max(data[:, cam_image])\n",
    "images = []\n",
    "greyscale = False\n",
    "colormap = cmap\n",
    "for i in range(len(data)):\n",
    "    im = yyp3d[:, :, i]                              \n",
    "    im = im / np.max(im)\n",
    "    if greyscale:\n",
    "        images.append(np.uint8(im * np.iinfo(np.uint8).max))\n",
    "    else:\n",
    "        im_rgb = colormap(im)\n",
    "        images.append(np.uint8(im_rgb * np.iinfo(np.uint8).max))\n",
    "    \n",
    "imageio.mimsave('_output/' + filename + f'-{cam}-screen-unorm.gif', images, fps=3)\n",
    "fig, ax = pplt.subplots()\n",
    "ax.imshow(images[30], colorbar=True);"
   ]
  },
  {
   "cell_type": "markdown",
   "id": "749d77a7-7a7b-4af5-a9ea-cf6a37e5ba66",
   "metadata": {},
   "source": [
    "#### Slit/screen coordinates"
   ]
  },
  {
   "cell_type": "code",
   "execution_count": null,
   "id": "968bdb37-cf3b-426a-851b-68b4c25adc31",
   "metadata": {},
   "outputs": [],
   "source": [
    "# Convert pixels to mm\n",
    "x3 = np.arange(nx) * pix2mm\n",
    "y3 = np.arange(ny) * pix2mm\n",
    "y1 = data[:, 'y_PositionSync']\n",
    "\n",
    "# Subtract the mean from each dimension. (Negative signs \n",
    "# flip y-slit and y-screen axes.)\n",
    "x3 = x3 - np.average(x3, weights=utils.project(yyp3d, 1))\n",
    "y3 = y3 - np.average(y3, weights=utils.project(yyp3d, 0))  # negative sign?\n",
    "y1 = y1 - np.average(y1, weights=utils.project(yyp3d, 2))  # negative sign?\n",
    "\n",
    "Y3, X3, Y1 = np.meshgrid(y3, x3, y1, indexing='ij')"
   ]
  },
  {
   "cell_type": "markdown",
   "id": "6d9989ab-f7bc-455c-934a-891a56582c4f",
   "metadata": {},
   "source": [
    "Two-dimensional projections"
   ]
  },
  {
   "cell_type": "code",
   "execution_count": null,
   "id": "508dc491-ba5b-45ae-9ac7-35464e4807d8",
   "metadata": {},
   "outputs": [],
   "source": [
    "norm = None  # ['log', None]\n",
    "xdata = [x3, x3, y1]\n",
    "ydata = [y1, y3, y3]\n",
    "Hdata = [\n",
    "    utils.project(yyp3d, [1, 2]).T, \n",
    "    utils.project(yyp3d, [0, 1]), \n",
    "    utils.project(yyp3d, [0, 2]),\n",
    "]\n",
    "xlabels = ['x-screen [mm]', 'x-screen [mm]', 'y_slit [mm]']\n",
    "ylabels = ['y-slit [mm]', 'y-screen [mm]', 'y-screen [mm]']\n",
    "titles = ['y1-dE', 'y2-dE', 'y2-y1']\n",
    "fig, axes = pplt.subplots(ncols=3, sharex=False, sharey=False, figwidth=7.5)\n",
    "for x, y, H, ax, xlabel, ylabel, title in zip(xdata, ydata, Hdata, axes, xlabels, ylabels, titles):\n",
    "    ax.pcolormesh(x, y, H, norm=norm)\n",
    "    ax.format(xlabel=xlabel, ylabel=ylabel, title=title)"
   ]
  },
  {
   "cell_type": "code",
   "execution_count": null,
   "id": "22dfd33b-4f3e-46e2-ac89-8012a115853f",
   "metadata": {
    "tags": []
   },
   "outputs": [],
   "source": [
    "# -- matrix params\n",
    "a2mm = 1.009  # assume same as first dipole\n",
    "rho = 0.3556\n",
    "GL05 = 0\n",
    "GL06 = 0.0\n",
    "l1 = 0\n",
    "l2 = 0\n",
    "l3 = 0.774\n",
    "L2 = 0.311  # slit2 to dipole face\n",
    "l = 0.129  # dipole face to VS06 screen (assume same for 1st and last dipole/screen)\n",
    "LL = l1 + l2 + l3 + L2  # distance from emittance plane to dipole entrance\n",
    "\n",
    "ecalc = energy.EnergyCalculate(l1=l1, l2=l2, l3=l3, L2=L2, l=l, amp2meter=a2mm*1e3)\n",
    "\n",
    "#Mslit = ecalc.getM1()  # slit-slit\n",
    "Mscreen = ecalc.getM2()  # 2nd-slit to screen\n",
    "\n",
    "# Matrix multiply to get 3D grids for yp and w.\n",
    "Y = Y1.copy()  # [y', w, y]\n",
    "YP = ecalc.calculate_yp(Y.flatten() * 1e-3, Y3.flatten() * 1e-3, Mscreen)\n",
    "YP = YP.reshape(Y.shape) * 1e3\n",
    "W = ecalc.calculate_dE_screen(X3.flatten() * 1e-3, 0, 0, 0, Mscreen)\n",
    "W = W.reshape(Y.shape) * 1e3\n",
    "\n",
    "w = ecalc.calculate_dE_screen(x3 * 1e-3, 0, 0, 0, Mscreen) * 1e3  # energy spread"
   ]
  },
  {
   "cell_type": "code",
   "execution_count": null,
   "id": "a5c2350c-4b1d-4bf9-9c4a-16640d93c0ba",
   "metadata": {},
   "outputs": [],
   "source": [
    "w.shape"
   ]
  },
  {
   "cell_type": "code",
   "execution_count": null,
   "id": "f6610cd2-2df7-476b-a851-6bebdae60deb",
   "metadata": {},
   "outputs": [],
   "source": [
    "np.mean(W, axis=0).shape"
   ]
  },
  {
   "cell_type": "code",
   "execution_count": null,
   "id": "8d2d71da-7e7b-4ce2-be2b-b4c2a711e1b2",
   "metadata": {},
   "outputs": [],
   "source": [
    "np.mean(YP, axis=1).shape"
   ]
  },
  {
   "cell_type": "code",
   "execution_count": null,
   "id": "985ccd61-128d-48e6-bf2c-7e2e8ec6189d",
   "metadata": {},
   "outputs": [],
   "source": [
    "utils.project(yyp3d, [0, 1]).shape"
   ]
  },
  {
   "cell_type": "code",
   "execution_count": null,
   "id": "6e2232a4-95ba-4e32-afbd-514e3790ac8d",
   "metadata": {},
   "outputs": [],
   "source": [
    "norm = 'log'  # ['log', None]\n",
    "xdata = [np.mean(W, axis=0).T, np.mean(W, axis=0), np.mean(Y, axis=1)]\n",
    "ydata = [np.mean(Y, axis=0).T, np.mean(YP, axis=1), np.mean(YP, axis=1)]\n",
    "Hdata = [\n",
    "    utils.project(yyp3d, [1, 2]).T, \n",
    "    utils.project(yyp3d, [0, 1]), \n",
    "    utils.project(yyp3d, [0, 2]),\n",
    "]\n",
    "xlabels = [\"w [keV]\", \"w [keV]\", \"y [mm]\"]\n",
    "ylabels = [\"y [mm]\", \"y' [mrad]\", \"y' [mrad]\"]\n",
    "fig, axes = pplt.subplots(ncols=3, sharex=False, sharey=False, figwidth=7.5)\n",
    "for x, y, H, ax, xlabel, ylabel in zip(xdata[:1], ydata, Hdata, axes, xlabels, ylabels):\n",
    "    ax.pcolormesh(x, y, H, norm=norm)\n",
    "    ax.format(xlabel=xlabel, ylabel=ylabel)"
   ]
  },
  {
   "cell_type": "code",
   "execution_count": null,
   "id": "677ecd16-2f43-49a5-b813-83f98e2e7a34",
   "metadata": {},
   "outputs": [],
   "source": [
    "log = True\n",
    "   \n",
    "plt.figure(figsize=[12,5])\n",
    "plt.subplot(121)\n",
    "if log:\n",
    "    norm=colors.LogNorm(vmin=yyp3d.sum(axis=0).min(), vmax=yyp3d.sum(axis=0).max())\n",
    "else:\n",
    "    norm=colors.Normalize(vmin=yyp3d.sum(axis=0).min(), vmax=yyp3d.sum(axis=0).max())\n",
    "plt.pcolor(W.mean(axis=0).T,Y.mean(axis=0).T,yyp3d.sum(axis=0).T,norm=norm); plt.title('y projection vs dE'); plt.xlabel('w [keV]'); plt.ylabel('y [mm]')\n",
    "plt.subplot(122)\n",
    "if log:\n",
    "    norm=colors.LogNorm(vmin=yyp3d.sum(axis=1).min(), vmax=yyp3d.sum(axis=1).max())\n",
    "else:\n",
    "    norm=colors.Normalize(vmin=yyp3d.sum(axis=1).min(), vmax=yyp3d.sum(axis=1).max())\n",
    "plt.pcolor(Y.mean(axis=1),YP.mean(axis=1),yyp3d.sum(axis=1),norm=norm); plt.title('yp vs y'); plt.xlabel('y [mm]'); plt.ylabel('yp [mrad]')\n",
    "                                                                                                "
   ]
  },
  {
   "cell_type": "code",
   "execution_count": null,
   "id": "ac20b39e-558f-4068-817e-bb4d782b5013",
   "metadata": {},
   "outputs": [],
   "source": [
    "plt.plot(w,yyp3d.sum(axis=0).sum(axis=1))\n",
    "#plt.semilogy()\n",
    "plt.grid()"
   ]
  },
  {
   "cell_type": "markdown",
   "id": "b286156c-7f33-4b2e-81e5-b0953e886885",
   "metadata": {
    "tags": []
   },
   "source": [
    "#### y-yp vs w"
   ]
  },
  {
   "cell_type": "code",
   "execution_count": null,
   "id": "3eb35bf9-fa71-437c-93d8-1a827991317b",
   "metadata": {},
   "outputs": [],
   "source": [
    "idx = np.arange(150,520,1)\n",
    "lidx = len(idx)\n",
    "images = []\n",
    "\n",
    "for i in range(lidx):\n",
    "    \n",
    "    ima = yyp3d[:,idx[i],:]\n",
    "    # repeat columns to strech image\n",
    "    ima = np.repeat(ima,7,1)\n",
    "                              \n",
    "    # -- normalize all frames in sweep to same pixel\n",
    "    #ima = np.log10(ima) / np.log10(norm_pixel_value)\n",
    "    #ima = np.log10(ima) / np.log10(np.max(ima))\n",
    "    ima = ima/np.max(ima)\n",
    "    #\n",
    "    #ima = ima / np.max(ima)\n",
    "    # BW\n",
    "    #images.append(np.uint8(ima*np.iinfo(np.uint8).max))\n",
    "    # color\n",
    "    ima_rgb = cm.viridis(ima)\n",
    "    img = np.uint8(ima_rgb*np.iinfo(np.uint8).max)   \n",
    "    images.append(img)\n",
    "    \n",
    "imageio.mimsave(filename+'-vs-energy.gif', images, fps=30)\n",
    "\n",
    "\n",
    "plt.imshow(images[30]); \n",
    "plt.colorbar()\n"
   ]
  },
  {
   "cell_type": "markdown",
   "id": "b9e55add-37d2-450b-a76f-c67b6ea51183",
   "metadata": {},
   "source": [
    "## Make animation of y-yp phase space vs energy"
   ]
  },
  {
   "cell_type": "code",
   "execution_count": null,
   "id": "196f3f41-c4a6-410c-801c-a4db729fc9fe",
   "metadata": {},
   "outputs": [],
   "source": [
    "log=False\n",
    "contour=True\n",
    "\n",
    "fig, (ax1,ax2)= plt.subplots(1,2)\n",
    "fig.set_tight_layout(True)\n",
    "fig.set_dpi(300)\n",
    "\n",
    "# Query the figure's on-screen size and DPI. Note that when saving the figure to\n",
    "# a file, we need to provide a DPI for that separately.\n",
    "print('fig size: {0} DPI, size in inches {1}'.format(\n",
    "    fig.get_dpi(), fig.get_size_inches()))\n",
    "\n",
    "# initial plot\n",
    "idxmax=np.argmax(yyp3d)\n",
    "idxmax = np.unravel_index(idxmax,np.shape(yyp3d))\n",
    "i=idxmax[1]\n",
    "\n",
    "\n",
    "\n",
    "# left plot shows energy distribution at beam center (or integrated..choose which)\n",
    "wprof = yyp3d[idxmax[0],:,idxmax[2]]#.sum(axis=0).sum(axis=1)\n",
    "w_curve, = ax1.plot(w,wprof,'-'); \n",
    "w_point, = ax1.plot(w[i],wprof[i],'o',color='C0');\n",
    "if log:\n",
    "    ax1.semilogy()\n",
    "ax1.set_ylabel('signal [a.u.]')\n",
    "ax1.set_xlabel('w [keV]')\n",
    "\n",
    "#right plot shows y-y' phase space\n",
    "\n",
    "if log:\n",
    "    norm=colors.LogNorm(vmin=yyp3d.min(), vmax=yyp3d.max())\n",
    "else:\n",
    "    norm=colors.Normalize(vmin=yyp3d.min(), vmax=yyp3d.max())\n",
    "implot = ax2.pcolormesh(Y[:,i,:],YP[:,i,:],yyp3d[:,i,:],norm=norm)\n",
    "ax2.set_xlim([-10,10])\n",
    "ax2.set_ylim([-10,10])\n",
    "ax2.set_ylabel('y\\' [mrad]')\n",
    "ax2.set_xlabel('y [mm]')\n",
    "\n",
    "# contours on right plot\n",
    "labeller = lambda x: '%.1f'%np.log10(x)\n",
    "contour_levels = tuple([10**i for i in [-4,-3,-2,-1]])\n",
    "default_norm = colors.LogNorm(vmin=1e-4, vmax=1, clip=False)\n",
    "if contour:\n",
    "    ax2.contour(Y[:,i,:],YP[:,i,:],yyp3d[:,i,:]/yyp3d[idxmax],levels=contour_levels,norm=default_norm,cmap='Set1')\n",
    "#plt.clabel(CS,fmt = labeller)\n",
    "\n",
    "\n",
    "def update(i):\n",
    "\n",
    "    # left plot - move point\n",
    "    w_point.set_ydata(wprof[i])\n",
    "    w_point.set_xdata(w[i])\n",
    "\n",
    "    # right plot -- update image\n",
    "    #ax2.set_xdata(Y[:,i,:])\n",
    "    # implot.set_paths(Y[:,i,:],YP[:,i,:])\n",
    "    # implot.set_array(yyp3d[:,i,:])\n",
    "    ax2.cla()\n",
    "    ax2.pcolormesh(Y[:,i,:],YP[:,i,:],yyp3d[:,i,:],norm=norm)\n",
    "    if contour:\n",
    "        ax2.contour(Y[:,i,:],YP[:,i,:],yyp3d[:,i,:]/yyp3d[idxmax],levels=contour_levels,norm=default_norm,cmap='Set1')\n",
    "    ax2.set_xlim([-10,10])\n",
    "    ax2.set_ylim([-10,10])\n",
    "    ax2.set_ylabel('y\\' [mrad]')\n",
    "    ax2.set_xlabel('y [mm]')\n",
    "        \n",
    "    #axis.set_title(label)\n",
    "    return w_point,ax2\n",
    "\n",
    "# FuncAnimation will call the 'update' function for each frame; here\n",
    "# animating over 10 frames, with an interval of 200ms between frames.\n",
    "idx = np.arange(150,520,1)\n",
    "anim = FuncAnimation(fig, update, frames=idx, interval=20)\n",
    "anim.save('%s_yyp_vs_energy_linear.gif'%filename, dpi=300)#, writer='imagemagick')"
   ]
  },
  {
   "cell_type": "markdown",
   "id": "3c41cc70-2c8c-414c-b1fe-dd0d5ff06c46",
   "metadata": {
    "tags": []
   },
   "source": [
    "## Calculate emittance\n",
    "\n",
    "First, for projected emittance (still slice in x,x')"
   ]
  },
  {
   "cell_type": "code",
   "execution_count": null,
   "id": "eec634f5-9eed-4ec2-a3c9-51d011fed271",
   "metadata": {},
   "outputs": [],
   "source": [
    "log=False\n",
    "if log:\n",
    "    norm=colors.LogNorm(vmin=yyp3d.sum(axis=1).min(), vmax=yyp3d.sum(axis=1).max())\n",
    "else:\n",
    "    norm=colors.Normalize(vmin=yyp3d.sum(axis=1).min(), vmax=yyp3d.sum(axis=1).max())\n",
    "\n",
    "thr = 6.*np.median(yyp3d.sum(axis=1).flatten())\n",
    "print('Thr at 10^%.2f fraction of peak'%np.log10(thr/yyp3d.sum(axis=1).max()))\n",
    "\n",
    "i = idxmax[1]\n",
    "plt.pcolormesh(Y.mean(axis=1),YP.mean(axis=1),yyp3d.sum(axis=1),norm=norm)\n",
    "#plt.contour(Y.mean(axis=1),YP.mean(axis=1),yyp3d.sum(axis=1),levels=[thr],colors=['r'])\n",
    "plt.ylim([-10,10])\n",
    "plt.xlim([-10,10])\n",
    "\n",
    "# emittance\n",
    "weights = yyp3d.sum(axis=1)\n",
    "weights[weights<thr] = 0\n",
    "plt.contour(Y.mean(axis=1),YP.mean(axis=1),weights,levels=[thr],colors=['r'])\n",
    "xc = np.average(Y.mean(axis=1),weights=weights)\n",
    "sigxsq = np.average((Y.mean(axis=1)-xc)**2,weights=weights)\n",
    "xpc = np.average(YP.mean(axis=1),weights=weights)\n",
    "sigxpsq = np.average((YP.mean(axis=1)-xpc)**2,weights=weights)\n",
    "sigxxp = np.average((Y.mean(axis=1)-xc)*(YP.mean(axis=1)-xpc),weights=weights)\n",
    "\n",
    "emit0 = np.sqrt(sigxsq*sigxpsq - sigxxp**2)\n",
    "bet0 = sigxsq/emit0\n",
    "gam0 = sigxpsq/emit0\n",
    "alph0 = np.sqrt(gam0*bet0-1)\n",
    "sigx0 = np.sqrt(sigxsq)\n",
    "sigxp0 = np.sqrt(sigxpsq)\n",
    "\n",
    "print('Emittance: %.3f mm-mrad\\nalpha = %.3f\\nbeta = %.3f\\ngamma = %.3f'%(emit0,alph0,bet0,gam0))\n",
    "print('sigma x = %.3f mm\\nsigma x\\' = %.3f mrad'%(sigx0,sigxp0))"
   ]
  },
  {
   "cell_type": "markdown",
   "id": "13f07d85-f5ac-46d9-9095-71e2125d2b5c",
   "metadata": {},
   "source": [
    "## Slice emittance"
   ]
  },
  {
   "cell_type": "code",
   "execution_count": null,
   "id": "506e11a9-81dc-4262-88b7-24940c9534b8",
   "metadata": {},
   "outputs": [],
   "source": [
    "log=False\n",
    "if log:\n",
    "    norm=colors.LogNorm(vmin=yyp3d.min(), vmax=yyp3d.max())\n",
    "else:\n",
    "    norm=colors.Normalize(vmin=yyp3d.min(), vmax=yyp3d.max())\n",
    "\n",
    "thr = 7*np.median(yyp3d.flatten())\n",
    "print('Thr at 10^%.2f fraction of peak'%np.log10(thr/yyp3d.max()))\n",
    "\n",
    "i = idxmax[1]\n",
    "plt.pcolormesh(Y[:,i,:],YP[:,i,:],yyp3d[:,i,:],norm=norm)\n",
    "plt.contour(Y[:,i,:],YP[:,i,:],yyp3d[:,i,:],levels=[thr],colors=['r'])\n",
    "plt.ylim([-10,10])\n",
    "plt.xlim([-10,10])\n"
   ]
  },
  {
   "cell_type": "code",
   "execution_count": null,
   "id": "a1311472-f76b-48ba-a7bd-b34b8d66412c",
   "metadata": {},
   "outputs": [],
   "source": [
    "if log:\n",
    "    norm=colors.LogNorm(vmin=yyp3d.min(), vmax=yyp3d.max())\n",
    "else:\n",
    "    norm=colors.Normalize(vmin=yyp3d.min(), vmax=yyp3d.max())\n",
    "\n",
    "idx = np.arange(150,520,1)\n",
    "emit,alph,bet,gam,sigx,sigxp = np.zeros([6,len(idx)])\n",
    "for i in range(len(idx)):\n",
    "    \n",
    "    weights = yyp3d[:,idx[i],:].copy()\n",
    "    weights[weights<thr] = 0\n",
    "    if np.sum(weights) > 0:\n",
    "        xc = np.average(Y[:,idx[i],:],weights=weights)\n",
    "        sigxsq = np.average((Y[:,idx[i],:]-xc)**2,weights=weights)\n",
    "        xpc = np.average(YP[:,idx[i],:],weights=weights)\n",
    "        sigxpsq = np.average((YP[:,idx[i],:]-xpc)**2,weights=weights)\n",
    "        sigxxp = np.average((Y[:,idx[i],:]-xc)*(YP[:,idx[i],:]-xpc),weights=weights)\n",
    "\n",
    "        emit[i] = np.sqrt(sigxsq*sigxpsq - sigxxp**2)\n",
    "        bet[i] = sigxsq/emit[i]\n",
    "        gam[i] = sigxpsq/emit[i]\n",
    "        alph[i] = np.sqrt(gam[i]*bet[i]-1)\n",
    "        sigx[i] = np.sqrt(sigxsq )\n",
    "        sigxp[i] = np.sqrt(sigxpsq )"
   ]
  },
  {
   "cell_type": "code",
   "execution_count": null,
   "id": "974dba3b-52fd-4ad5-8fa0-88f6c0576285",
   "metadata": {},
   "outputs": [],
   "source": [
    "plt.figure()\n",
    "plt.plot(w[idx],emit); plt.ylim([0,5]); plt.grid()\n",
    "plt.plot(plt.xlim(),[emit0,emit0])\n",
    "plt.xlabel('w [keV]')\n",
    "plt.ylabel('rms y emittance [mm-mrad, unnorm.]')\n",
    "\n",
    "plt.figure()\n",
    "plt.plot(w[idx],sigx); plt.ylim([0,3]); plt.grid()\n",
    "plt.plot(plt.xlim(),[sigx0,sigx0])\n",
    "plt.xlabel('w [keV]')\n",
    "plt.ylabel('rms y [mm]')\n",
    "\n",
    "plt.figure()\n",
    "plt.plot(w[idx],sigxp); plt.ylim([0,3]);  plt.grid()\n",
    "plt.plot(plt.xlim(),[sigxp0,sigxp0])\n",
    "plt.xlabel('w [keV]')\n",
    "plt.ylabel('rms y\\' [mrad]')\n",
    "\n",
    "plt.figure()\n",
    "plt.plot(w[idx],alph); plt.ylim([-.1,.5]);  plt.grid()\n",
    "plt.plot(plt.xlim(),[alph0,alph0])\n",
    "plt.xlabel('w [keV]')\n",
    "plt.ylabel('rms alpha')\n",
    "\n",
    "plt.figure()\n",
    "plt.plot(w[idx],bet); plt.grid()\n",
    "plt.plot(plt.xlim(),[bet0,bet0])\n",
    "plt.xlabel('w [keV]')\n",
    "plt.ylabel('rms beta [m]')\n",
    "\n",
    "plt.figure()\n",
    "plt.plot(w[idx],gam); plt.ylim([0,1.5]);   plt.grid()\n",
    "plt.plot(plt.xlim(),[gam0,gam0])\n",
    "plt.xlabel('w [keV]')\n",
    "plt.ylabel('rms gamma')"
   ]
  },
  {
   "cell_type": "code",
   "execution_count": null,
   "id": "45e49ebc-3985-4c21-999f-f2836f10fe66",
   "metadata": {},
   "outputs": [],
   "source": []
  }
 ],
 "metadata": {
  "kernelspec": {
   "display_name": "Python 3",
   "language": "python",
   "name": "python3"
  },
  "language_info": {
   "codemirror_mode": {
    "name": "ipython",
    "version": 3
   },
   "file_extension": ".py",
   "mimetype": "text/x-python",
   "name": "python",
   "nbconvert_exporter": "python",
   "pygments_lexer": "ipython3",
   "version": "3.7.6"
  }
 },
 "nbformat": 4,
 "nbformat_minor": 5
}
