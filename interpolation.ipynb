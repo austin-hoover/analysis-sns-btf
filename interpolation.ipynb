{
 "cells": [
  {
   "cell_type": "markdown",
   "id": "ee817aff-e566-4050-a8c0-b3b5690f38c5",
   "metadata": {},
   "source": [
    "# Gridding 5D data"
   ]
  },
  {
   "cell_type": "markdown",
   "id": "c96d168a-5028-4bc0-9fbf-dab41062ace7",
   "metadata": {},
   "source": [
    "## 3D interpolation"
   ]
  },
  {
   "cell_type": "markdown",
   "id": "fae16f99-5b5b-43af-a1f0-febf94ed4d51",
   "metadata": {},
   "source": [
    "Each pixel gives a list of points in 3D space (x1-x2-y1). We can try interpolating the points on a 3D grid. Unfortunately, this is estimated to take around thirty hours for an image with 147 $\\times$ 194 = 28,518 pixels."
   ]
  },
  {
   "cell_type": "code",
   "execution_count": null,
   "id": "3c796005-3b35-4a5c-8770-6686ab6a40ab",
   "metadata": {},
   "outputs": [],
   "source": [
    "# imdata = data_im[f'{cam}_Image'].copy()\n",
    "# y1_gv, x2_gv, x1_gv = gvs\n",
    "# grid_x1, grid_x2, grid_y1 = np.meshgrid(x1_gv, x2_gv, y1_gv)\n",
    "# points = np.vstack([\n",
    "#             data_sc['x_PositionSync'],\n",
    "#             data_sc['xp_PositionSync'],\n",
    "#             data_sc['y_PositionSync'],\n",
    "#         ]).T\n",
    "# arr5d = np.zeros((len(x1_gv), len(x2_gv), len(y1_gv), ny, nx))\n",
    "# for ipix in trange(ny * nx):\n",
    "#     values = imdata[:, ipix]\n",
    "#     l, m = np.unravel_index(ipix, (ny, nx))\n",
    "#     arr5d[:, :, :, l, m] = interpolate.griddata(\n",
    "#         points,\n",
    "#         values,\n",
    "#         (grid_x1, grid_x2, grid_y1),\n",
    "#         method='linear',\n",
    "#         fill_value=0.0,\n",
    "#     )"
   ]
  },
  {
   "cell_type": "markdown",
   "id": "d7915da7-08be-48f0-9df1-79445b455574",
   "metadata": {},
   "source": [
    "## 5D interpolation"
   ]
  },
  {
   "cell_type": "markdown",
   "id": "11bac881-ff34-4189-94f5-1475a5bf2142",
   "metadata": {},
   "source": [
    "Or we could try one 5D interpolation. First make an array of points in 5D space (y1-x2-x1-y3-x3)."
   ]
  },
  {
   "cell_type": "code",
   "execution_count": null,
   "id": "ede370c1-ad45-46f8-bc79-eb4bd4226f0c",
   "metadata": {},
   "outputs": [],
   "source": [
    "# act_points = np.vstack([\n",
    "#     data_sc['y_PositionSync'],\n",
    "#     data_sc['xp_PositionSync'],\n",
    "#     data_sc['x_PositionSync'],\n",
    "# ]).T\n",
    "# act_points = np.repeat(act_points, ny * nx, axis=0)\n",
    "# print(f'act_points.shape = {act_points.shape}')\n",
    "# im_points = utils.get_grid_coords(np.arange(ny), np.arange(nx))\n",
    "# im_points = np.tile(im_points, (len(data_sc), 1))\n",
    "# print(f'im_points.shape = {im_points.shape}')\n",
    "# points = np.hstack([act_points, im_points])\n",
    "# print(f'points.shape = {points.shape}')\n",
    "# values = np.hstack(data_im[f'{cam}_Image'])\n",
    "# print(f'values.shape = {values.shape}')"
   ]
  },
  {
   "cell_type": "markdown",
   "id": "d98f7eb4-3534-48e5-ba05-7bb5653abf1a",
   "metadata": {},
   "source": [
    "Now interpolate the points on a 5D grid. This gives `QhullError: QH6016 qhull error: insufficient memory to project 1315934592 points`. lol"
   ]
  },
  {
   "cell_type": "code",
   "execution_count": null,
   "id": "4780430e-f329-47a6-9022-081b4a9e35fd",
   "metadata": {},
   "outputs": [],
   "source": [
    "# y1_gv, x2_gv, x1_gv = gvs\n",
    "# grid_x1, grid_x2, grid_y1 = np.meshgrid(x1_gv, x2_gv, y1_gv)\n",
    "# arr5d = interpolate.griddata(\n",
    "#     points, \n",
    "#     values, \n",
    "#     (grid_x1, grid_x2, grid_y1),\n",
    "#     method='linear',\n",
    "#     fill_value=0.0,\n",
    "# )"
   ]
  },
  {
   "cell_type": "markdown",
   "id": "a5c98df2-90fe-4737-8e86-af8ba02ad8fd",
   "metadata": {},
   "source": [
    "#### Interpolate axis by axis"
   ]
  },
  {
   "cell_type": "markdown",
   "id": "72b36783-9d4a-43cb-ac5b-ef3d34a15aa4",
   "metadata": {},
   "source": [
    "Okay, enough of that. Cathey (2018) describes an interpolation routine in which each dimension is interpolated, one at a time. Need to understand what's going on there."
   ]
  },
  {
   "cell_type": "code",
   "execution_count": null,
   "id": "65c2fd5a-11f6-48a6-8219-ca3cf989913e",
   "metadata": {},
   "outputs": [],
   "source": []
  }
 ],
 "metadata": {
  "kernelspec": {
   "display_name": "myenv",
   "language": "python",
   "name": "myenv"
  },
  "language_info": {
   "codemirror_mode": {
    "name": "ipython",
    "version": 3
   },
   "file_extension": ".py",
   "mimetype": "text/x-python",
   "name": "python",
   "nbconvert_exporter": "python",
   "pygments_lexer": "ipython3",
   "version": "3.9.7"
  }
 },
 "nbformat": 4,
 "nbformat_minor": 5
}
